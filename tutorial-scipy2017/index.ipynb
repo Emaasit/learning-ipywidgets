{
 "cells": [
  {
   "cell_type": "markdown",
   "metadata": {},
   "source": [
    "# The Jupyter Interactive Widget Ecosystem \n",
    "\n",
    "## SciPy 2017\n",
    "## Matt Craig, Jason Grout, and Sylvain Corlay\n",
    "\n",
    "This tutorial will introduce you to the widgets in the Jupyter notebook, walk through a few approaches to writing widgets, and introduce some relatively new widget packages.\n",
    "\n",
    "We are using the latest pre-release of ipywidgets 7. Version 7 will be released soon."
   ]
  },
  {
   "cell_type": "markdown",
   "metadata": {},
   "source": [
    "0 [Introduction](00-introduction.ipynb)\n",
    "\n",
    "1. [Overview](01-overview.ipynb)\n",
    "1. [Widgets without writing widgets: interact](02-Using Interact.ipynb)\n",
    "1. [Widget basics](03-Widget_Basics.ipynb)\n",
    "1. [Building blocks I: list of widgets in ipywidgets](04-widget-list.ipynb)\n",
    "1. [interact and widget basics exercises](05-interact and widget basics exercises.ipynb), and then BREAK (2:30PM, for **10 minutes**)\n",
    "1. [Widget layout and styling](06-Widget_Styling.ipynb)\n",
    "1. [Widget layout exercises](07-container-exercises.ipynb), and then \"Stand up and stretch\" BREAK, 3:10PM, only **5 minutes**.\n",
    "1. [Introduction to widget events](08-Widget_Events.ipynb), then **BREAK** (3:50 for **10 minutes**)(last chance for snacks!)\n",
    "1. More widget events: A (bad) password generator, three ways:\n",
    "    1. [First pass: `observe`](09-A-Widget Events 2 -- bad password generator, version 1.ipynb)\n",
    "    1. [Second pass: Model-View-Controller with functions](09-B-Widget Events 2 --MVC design.ipynb)\n",
    "    1. [Third pass: MVC with objects](09-C-Widget Events 2--MVC, object oriented.ipynb)\n",
    "    1. [Exercise: complete the bad password generator](09-D-bad-pass-final.ipynb)\n",
    "1. Building blocks II: More widget libraries\n",
    "    1. [bqplot: graphs as widgets](10-A-bqplot.ipynb)\n",
    "    1. [pythreejs: 3D rendering in the browser](10-B-pythreejs.ipynb)\n",
    "    1. [Flight simulator](10-C-flight-sim.ipynb)\n",
    "    1. [ipyvolume: 3D plotting widget](10-D-ipyvolume.ipynb)\n",
    "    1. [ipyleaflet: convenient mapping](10-E-ipyleaflet.ipynb)\n",
    "    1. [preview of an astronomy image viewer](10-F-astro-viewer.ipynb)\n",
    "    1. Embedding widgets in static pages or sphinx documentation: see documentation at [Embedding widgets in other contexts](http://ipywidgets.readthedocs.io/en/latest/embedding.html) after the tutorial.\n",
    "    1. [Exercise 1: Link some widgets up](10-H-widget-library-exercises.ipynb)\n",
    "    1. [Exercise 2: Using bqplot graph as a control in a widget](10-I-bqplot--A plot as a control in a widget.ipynb)\n",
    "    1. [Exercise 3: bqplot as control--penalized regression](10-J-bqplot--A--Penalized regression.ipynb)\n",
    "1. Flexible/Q&A time (5:05 - 5:30)"
   ]
  },
  {
   "cell_type": "markdown",
   "metadata": {},
   "source": [
    "### Late-breaking news: Jupyter widget BoF, Fri, 1-2PM in 203 \n",
    "\n",
    "This will be an unstructured session, just a chance to visit and help each other out with widget code you try writing this week."
   ]
  },
  {
   "cell_type": "markdown",
   "metadata": {},
   "source": [
    "## [Table of widget and style properties](Table of widget keys and style keys.ipynb)"
   ]
  },
  {
   "cell_type": "markdown",
   "metadata": {},
   "source": [
    "# Acknowledgements\n",
    "\n",
    "+ Special thanks to the dozens of [ipywidgets developers](https://github.com/jupyter-widgets/ipywidgets/graphs/contributors), including Jonathan Frederic who wrote much of the code in the early years of ipywidgets.\n",
    "+ Several of the notebooks in this tutorial were originally developed as part of [ipywidgets](http://ipywidgets.readthedocs.io/en/latest/) by Brian E. Granger ([@ellisonbg](https://github.com/ellisonbg)) and Jonathan Frederic ([@jdfreder](https://github.com/jdfreder)).\n",
    "+ Project Jupyter core developer Carol Willing ([@willingc](https://github.com/willingc)) and [Minnesota State University Moorhead](http://physics.mnstate.edu) students Andrew Block ([@ACBlock](https://github.com/ACBlock)) and Jane Glanzer ([@janeglanzer](https://github.com/janeglanzer)) provided very useful feedback on early drafts of this tutorial.\n"
   ]
  }
 ],
 "metadata": {
  "kernelspec": {
   "display_name": "Python 3",
   "language": "python",
   "name": "python3"
  },
  "language_info": {
   "codemirror_mode": {
    "name": "ipython",
    "version": 3
   },
   "file_extension": ".py",
   "mimetype": "text/x-python",
   "name": "python",
   "nbconvert_exporter": "python",
   "pygments_lexer": "ipython3",
   "version": "3.6.3"
  }
 },
 "nbformat": 4,
 "nbformat_minor": 2
}
