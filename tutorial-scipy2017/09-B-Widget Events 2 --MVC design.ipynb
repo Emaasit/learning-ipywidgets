{
 "cells": [
  {
   "cell_type": "code",
   "execution_count": 1,
   "metadata": {
    "collapsed": true
   },
   "outputs": [],
   "source": [
    "import ipywidgets as widgets"
   ]
  },
  {
   "cell_type": "markdown",
   "metadata": {},
   "source": [
    "# Model-View-Controller (MVC) Design\n",
    "\n",
    "The idea in MVC design is to separate the code for an interactive elements into three separate pieces:\n",
    "\n",
    "+ **Model**: the model contains the business logic, i.e. the code that carries out whatever actions the GUI is providing access to. Nothing in the model should refer to the code in the view.\n",
    "+ **View**: the view is the on-screen GUI. Here that means the widget code. That code might be simple or it might be complex, depending on the complexity of the interface. \n",
    "+ **Controller**: the controller connects the model to the view. \n",
    "\n",
    "It is typically useful to think through the model first; doing so requires you to think through what inputs you need to calcluate the output you want. Once that is clear it is often straightforward to pick appropriate widgets to use as inputs. The controller just links the two together.\n",
    "\n",
    "In this case we'll start with the view since the model is pretty straightforward, and we've already been through one round of this."
   ]
  },
  {
   "cell_type": "markdown",
   "metadata": {},
   "source": [
    "Consider this super-simple (and super-bad) password generator widget: given a password length, it constructs a sequence of random letters of that length and displays it. In this notebook we'll walk through two ways of constructing that widget and introduce the concept oif using traitlets to connect the password calculation code to the widget's graphical interface."
   ]
  },
  {
   "cell_type": "markdown",
   "metadata": {},
   "source": [
    "## Same bad password generator, but MVC this time"
   ]
  },
  {
   "cell_type": "markdown",
   "metadata": {},
   "source": [
    "## The View \n",
    "\n",
    "This code is the same as the previous iteration"
   ]
  },
  {
   "cell_type": "code",
   "execution_count": 2,
   "metadata": {},
   "outputs": [
    {
     "data": {
      "application/vnd.jupyter.widget-view+json": {
       "model_id": "691feabe1dd94d0ba7fe06a435df3ba1",
       "version_major": "2",
       "version_minor": "0"
      },
      "text/plain": [
       "A Jupyter Widget"
      ]
     },
     "metadata": {},
     "output_type": "display_data"
    }
   ],
   "source": [
    "helpful_title = widgets.HTML('Generated password is:')\n",
    "password_text = widgets.HTML('No password yet')\n",
    "password_text.layout.margin = '0 0 0 20px'\n",
    "password_length = widgets.IntSlider(description='Length of password',\n",
    "                                   min=8, max=20,\n",
    "                                   style={'description_width': 'initial'})\n",
    "\n",
    "password_widget = widgets.VBox(children=[helpful_title, password_text, password_length])\n",
    "password_widget"
   ]
  },
  {
   "cell_type": "markdown",
   "metadata": {},
   "source": [
    "## Model\n",
    "\n",
    "The model in this a single function, `calculate_password`, that takes a single argument, `length`, and returns a random string of that length.\n",
    "\n",
    "An implementation is below."
   ]
  },
  {
   "cell_type": "code",
   "execution_count": 3,
   "metadata": {
    "collapsed": true
   },
   "outputs": [],
   "source": [
    "def calculate_password(length):\n",
    "    import string\n",
    "    import random\n",
    "    \n",
    "    # Generate a list of random letters of the correct length.\n",
    "    password = [random.choice(string.ascii_letters) for _ in range(length)]\n",
    "\n",
    "    return ''.join(password)"
   ]
  },
  {
   "cell_type": "markdown",
   "metadata": {},
   "source": [
    "Test out the function a couple times in the cell below. Note that unlike our first pass through this, you can test this function without defining any widgets."
   ]
  },
  {
   "cell_type": "code",
   "execution_count": null,
   "metadata": {
    "collapsed": true
   },
   "outputs": [],
   "source": []
  },
  {
   "cell_type": "markdown",
   "metadata": {},
   "source": [
    "## Controller: Connect the model to the view\n",
    "\n",
    "When the slider `password_length` changes, we want to call `calculate_password` to come up with a new password, and set the value of the widget `password` to the return value of the function call.\n",
    "\n",
    "`update_password` takes the change from the `password_length` as its argument and sets the `password_text` with the result of `calculate_password`."
   ]
  },
  {
   "cell_type": "code",
   "execution_count": 4,
   "metadata": {
    "collapsed": true
   },
   "outputs": [],
   "source": [
    "def update_password(change):\n",
    "    length = int(change['new'])\n",
    "    new_password = calculate_password(length)\n",
    "    \n",
    "    # NOTE THE LINE BELOW: it relies on the password widget already being defined.\n",
    "    password_text.value = new_password\n",
    "    \n",
    "password_length.observe(update_password, names='value')"
   ]
  },
  {
   "cell_type": "markdown",
   "metadata": {},
   "source": [
    "Now that the connection is made, try moving the slider and you should see the password update."
   ]
  },
  {
   "cell_type": "markdown",
   "metadata": {},
   "source": [
    "## MVC motivation\n",
    "\n",
    "Some advantages of MVC design are\n",
    "\n",
    "+ If an `ipywidgets` release changes your GUI, the only place you need to change code is in the view.\n",
    "+ If you decide that a password with only letters isn't secure enough and decide to add some numbers and/or special characters, the only code you need to change is in the model, `calculate_password` in this case. \n",
    "+ You can write unit tests for your model code  -- which is where the important work is being done -- without doing in-browser testing."
   ]
  }
 ],
 "metadata": {
"kernelspec": {
   "display_name": "widgets-2017",
   "language": "python",
   "name": "widgets-2017"
  },
  "language_info": {
   "codemirror_mode": {
    "name": "ipython",
    "version": 3
   },
   "file_extension": ".py",
   "mimetype": "text/x-python",
   "name": "python",
   "nbconvert_exporter": "python",
   "pygments_lexer": "ipython3",
   "version": "3.6.1"
  }
 },
 "nbformat": 4,
 "nbformat_minor": 2
}
