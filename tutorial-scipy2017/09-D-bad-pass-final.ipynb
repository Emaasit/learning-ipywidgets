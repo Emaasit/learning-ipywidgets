{
 "cells": [
  {
   "cell_type": "markdown",
   "metadata": {
    "collapsed": true
   },
   "source": [
    "# Complete the bad password generator\n",
    "\n",
    "In the previous notebooks we've come close to completing the Bad Password generator shown below:\n",
    "\n",
    "<img src=\"images/pass-gen-demo.gif\" alt=\"animated demo of password generator\" width=\"80%\">\n",
    "\n",
    "Let's finish it up to get some more practice with `traitlets` and linking a model to a widget."
   ]
  },
  {
   "cell_type": "markdown",
   "metadata": {},
   "source": [
    "## Model class\n",
    "\n",
    "The code below contains most of the model. It adds two new traitlets and code to add special characteres and/or numbers to the password.\n",
    "\n",
    "You should:\n",
    "\n",
    "+ Make the model respond to changes in those new traitlets.\n",
    "+ Test the model by setting the length and printing the generated password. \n",
    "\n",
    "**NOTE:** To keep the code a little shorter validation of the password length has been removed."
   ]
  },
  {
   "cell_type": "code",
   "execution_count": null,
   "metadata": {
    "collapsed": true
   },
   "outputs": [],
   "source": [
    "# %load solutions/bad-password-final/bad-pass-model.py\n",
    "\n",
    "import string\n",
    "import random\n",
    "\n",
    "import traitlets\n",
    "\n",
    "SPECIAL_GROUPS = [',./;[', '!@#~%', '^&*()']\n",
    "\n",
    "\n",
    "class PassGen(traitlets.HasTraits):\n",
    "    \"\"\"\n",
    "    Class to represent state of the password generator and handle generation\n",
    "    of password.\n",
    "    \"\"\"\n",
    "    length = traitlets.Integer()\n",
    "    password = traitlets.Unicode(\"password\")\n",
    "    \n",
    "    # ↓↓↓↓↓↓↓↓ New traitlets ↓↓↓↓↓↓↓↓\n",
    "    include_numbers = traitlets.Bool()\n",
    "    special_character_groups = traitlets.Enum(SPECIAL_GROUPS,\n",
    "                                              default_value=SPECIAL_GROUPS[0])\n",
    "\n",
    "    def __init__(self):\n",
    "        super(PassGen, self).__init__()\n",
    "        pass\n",
    "\n",
    "    @traitlets.observe('length')\n",
    "    def generate_password(self, change):\n",
    "        \"\"\"\n",
    "        Generate a password of the desired length including the user's chosen\n",
    "        set of special characters and, if desired, including some numerals.\n",
    "        \"\"\"\n",
    "\n",
    "        # Generate an initial password composed only of letters.\n",
    "        new_pass = []\n",
    "        for _ in range(self.length):\n",
    "            new_pass.append(random.choice(string.ascii_letters))\n",
    "\n",
    "        # Generate a list of indices for choosing which characters in the\n",
    "        # initial password to replace, then shuffle it. We'll pop\n",
    "        # elements off the list as we need them.\n",
    "        order_for_replacements = list(range(self.length))\n",
    "        random.shuffle(order_for_replacements)\n",
    "\n",
    "        # Replace some of the letters with special characters\n",
    "        n_special = random.randint(1, 3)\n",
    "        for _ in range(n_special):\n",
    "            loc = order_for_replacements.pop(0)\n",
    "            new_pass[loc] = random.choice(self.special_character_groups)\n",
    "\n",
    "        if self.include_numbers:\n",
    "            # Number of digits to include.\n",
    "            n_digits = random.randint(1, 3)\n",
    "            for _ in range(n_digits):\n",
    "                loc = order_for_replacements.pop(0)\n",
    "                new_pass[loc] = random.choice(string.digits)\n",
    "\n",
    "        self.password = ''.join(new_pass)"
   ]
  },
  {
   "cell_type": "markdown",
   "metadata": {},
   "source": [
    "## View/widget\n",
    "\n",
    "The code below is the `PassGenGUI` from the previous notebook. You need to do a few things to complete it:\n",
    "\n",
    "+ Add the `better_toggles` (or at least the `Label` and the `toggles`) and the `numbers` widgets from the [layout exercises](07-container-exercises.ipynb). It is fine to add them to the `__init__` method of the class definition.\n",
    "+ Link the values of those widgets to the appropriate traits of the model."
   ]
  },
  {
   "cell_type": "code",
   "execution_count": null,
   "metadata": {},
   "outputs": [],
   "source": [
    "# %load solutions/bad-password-final/bad-pass-gui.py\n",
    "\n",
    "from ipywidgets import widgets\n",
    "\n",
    "class PassGenGUI(widgets.VBox):\n",
    "    def __init__(self):\n",
    "        super(PassGenGUI, self).__init__()\n",
    "        \n",
    "        self._helpful_title = widgets.HTML('Generated password is:')\n",
    "        self._password_text = widgets.HTML('', placeholder='No password generated yet')\n",
    "        self._password_text.layout.margin = '0 0 0 20px'\n",
    "        self._password_length = widgets.IntSlider(description='Length of password',\n",
    "                                                  min=8, max=20,\n",
    "                                                  style={'description_width': 'initial'})\n",
    "\n",
    "        # Add additional GUI elements here\n",
    "        \n",
    "        children = [self._helpful_title, self._password_text, self._password_length, \n",
    "                    self._label, self._toggles, self._numbers]\n",
    "        self.children = children\n",
    "        \n",
    "        self.model = PassGen()\n",
    "        \n",
    "        traitlets.link((self.model, 'password'), (self._password_text, 'value'))\n",
    "        traitlets.link((self.model, 'length'), (self._password_length, 'value'))\n",
    "\n",
    "        # You may need to do some more linking..\n",
    "        \n",
    "    @property\n",
    "    def value(self):\n",
    "        return self._password_text.value"
   ]
  },
  {
   "cell_type": "markdown",
   "metadata": {},
   "source": [
    "Try out your generator by executing the cells below:"
   ]
  },
  {
   "cell_type": "code",
   "execution_count": null,
   "metadata": {},
   "outputs": [],
   "source": [
    "pg = PassGenGUI()"
   ]
  },
  {
   "cell_type": "code",
   "execution_count": null,
   "metadata": {},
   "outputs": [],
   "source": [
    "pg"
   ]
  },
  {
   "cell_type": "markdown",
   "metadata": {},
   "source": [
    "## Distributing your bad password generator\n",
    "\n",
    "Sending around notebooks with code doesn't work very well as a way to share your widgets with others. To see one way to distribute this code, take a look at the `password_generator_example` in the notebooks folder. It has two python files, [one for the model](password_generator_example/model.py) and [one for the GUI](password_generator_example/gui.py), and an [example notebook that imports them](password_generator_example/Widget example.ipynb)."
   ]
  }
 ],
 "metadata": {
"kernelspec": {
   "display_name": "widgets-2017",
   "language": "python",
   "name": "widgets-2017"
  },
  "language_info": {
   "codemirror_mode": {
    "name": "ipython",
    "version": 3
   },
   "file_extension": ".py",
   "mimetype": "text/x-python",
   "name": "python",
   "nbconvert_exporter": "python",
   "pygments_lexer": "ipython3",
   "version": "3.6.1"
  }
 },
 "nbformat": 4,
 "nbformat_minor": 2
}
