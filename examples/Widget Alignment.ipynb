{
 "cells": [
  {
   "cell_type": "code",
   "execution_count": 1,
   "metadata": {
    "collapsed": true
   },
   "outputs": [],
   "source": [
    "from ipywidgets import *"
   ]
  },
  {
   "cell_type": "markdown",
   "metadata": {},
   "source": [
    "**1.** `VBox(HBox)`"
   ]
  },
  {
   "cell_type": "code",
   "execution_count": 2,
   "metadata": {},
   "outputs": [
    {
     "data": {
      "application/vnd.jupyter.widget-view+json": {
       "model_id": "38624102439545a9a1629afaa722c556",
       "version_major": 2,
       "version_minor": 0
      },
      "text/plain": [
       "A Jupyter Widget"
      ]
     },
     "metadata": {},
     "output_type": "display_data"
    }
   ],
   "source": [
    "VBox([HBox([VBox([Dropdown(description='Choice', options=['foo', 'bar']), \n",
    "                  ColorPicker(description='Color'), \n",
    "                  HBox([Button(), Button()])]), \n",
    "            Textarea(value=\"Lorem ipsum dolor sit amet, consectetur adipiscing elit,\"\n",
    "\"sed do eiusmod tempor incididunt ut labore et dolore magna aliqua. \"\n",
    "\"Ut enim ad minim veniam, quis nostrud exercitation ullamco laboris \"\n",
    "\"nisi ut aliquip ex ea commodo consequat. Duis aute irure dolor in \"\n",
    "\"reprehenderit in voluptate velit esse cillum dolore eu fugiat nulla \"\n",
    "\"pariatur. Excepteur sint occaecat cupidatat non proident, sunt in culpa \"\n",
    "\"qui officia deserunt mollit anim id est laborum.\")]),\n",
    "      HBox([Text(), Checkbox(description='Check box')]), \n",
    "      IntSlider(), \n",
    "      Controller()], background_color='#EEE')"
   ]
  },
  {
   "cell_type": "markdown",
   "metadata": {},
   "source": [
    "**2.** `HBox(VBox)`"
   ]
  },
  {
   "cell_type": "code",
   "execution_count": 3,
   "metadata": {},
   "outputs": [
    {
     "data": {
      "application/vnd.jupyter.widget-view+json": {
       "model_id": "afd28af83d764ffc95043f6ea3cb0c24",
       "version_major": 2,
       "version_minor": 0
      },
      "text/plain": [
       "A Jupyter Widget"
      ]
     },
     "metadata": {},
     "output_type": "display_data"
    }
   ],
   "source": [
    "HBox([VBox([Button(description='Press'), Dropdown(options=['a', 'b']), Button(description='Button')]), \n",
    "      VBox([Button(), Checkbox(), IntText()])], background_color='#EEE')"
   ]
  },
  {
   "cell_type": "markdown",
   "metadata": {},
   "source": [
    "**3.** `VBox(HBox)` width sliders, range sliders and progress bars"
   ]
  },
  {
   "cell_type": "code",
   "execution_count": 4,
   "metadata": {},
   "outputs": [
    {
     "data": {
      "application/vnd.jupyter.widget-view+json": {
       "model_id": "19fd2af41e5f456d97d9864fc0fb922f",
       "version_major": 2,
       "version_minor": 0
      },
      "text/plain": [
       "A Jupyter Widget"
      ]
     },
     "metadata": {},
     "output_type": "display_data"
    }
   ],
   "source": [
    "VBox([HBox([Button(), FloatRangeSlider(), Text(), Button()]), \n",
    "      HBox([Button(), FloatText(),\n",
    "            FloatProgress(value=40), Checkbox(description='Check')]), \n",
    "      HBox([ToggleButton(), IntSlider(description='Foobar'),\n",
    "            Dropdown(options=['foo', 'bar']), Valid()]),\n",
    "     ])"
   ]
  },
  {
   "cell_type": "markdown",
   "metadata": {},
   "source": [
    "**4.** Dropdown resize"
   ]
  },
  {
   "cell_type": "code",
   "execution_count": 5,
   "metadata": {},
   "outputs": [
    {
     "data": {
      "application/vnd.jupyter.widget-view+json": {
       "model_id": "c16ba7c61d9b4269a913a84d2a9632ca",
       "version_major": 2,
       "version_minor": 0
      },
      "text/plain": [
       "A Jupyter Widget"
      ]
     },
     "metadata": {},
     "output_type": "display_data"
    }
   ],
   "source": [
    "dd = Dropdown(description='Foobar', options=['foo', 'bar'])\n",
    "dd"
   ]
  },
  {
   "cell_type": "code",
   "execution_count": 6,
   "metadata": {
    "collapsed": true
   },
   "outputs": [],
   "source": [
    "dd.layout.width = '148px'"
   ]
  },
  {
   "cell_type": "code",
   "execution_count": 7,
   "metadata": {
    "collapsed": true
   },
   "outputs": [],
   "source": [
    "cp = ColorPicker(description='foobar')"
   ]
  },
  {
   "cell_type": "markdown",
   "metadata": {},
   "source": [
    "**5.** Colorpicker alignment, concise and long version"
   ]
  },
  {
   "cell_type": "code",
   "execution_count": 8,
   "metadata": {},
   "outputs": [
    {
     "data": {
      "application/vnd.jupyter.widget-view+json": {
       "model_id": "50b138d94d784cef8f9f6639ca46b8e3",
       "version_major": 2,
       "version_minor": 0
      },
      "text/plain": [
       "A Jupyter Widget"
      ]
     },
     "metadata": {},
     "output_type": "display_data"
    }
   ],
   "source": [
    "VBox([HBox([Dropdown(width='148px', options=['foo', 'bar']),\n",
    "            Button(description='Button')]), cp, HBox([Button(), Button()])])"
   ]
  },
  {
   "cell_type": "code",
   "execution_count": 9,
   "metadata": {
    "collapsed": true
   },
   "outputs": [],
   "source": [
    "cp.concise = True"
   ]
  },
  {
   "cell_type": "code",
   "execution_count": 10,
   "metadata": {
    "collapsed": true
   },
   "outputs": [],
   "source": [
    "cp.concise = False"
   ]
  },
  {
   "cell_type": "code",
   "execution_count": 11,
   "metadata": {
    "collapsed": true
   },
   "outputs": [],
   "source": [
    "cp2 = ColorPicker()"
   ]
  },
  {
   "cell_type": "code",
   "execution_count": 12,
   "metadata": {},
   "outputs": [
    {
     "data": {
      "application/vnd.jupyter.widget-view+json": {
       "model_id": "967605bbad764db2bdc05137e22d2fe4",
       "version_major": 2,
       "version_minor": 0
      },
      "text/plain": [
       "A Jupyter Widget"
      ]
     },
     "metadata": {},
     "output_type": "display_data"
    }
   ],
   "source": [
    "VBox([HBox([Button(), Button()]), cp2])"
   ]
  },
  {
   "cell_type": "code",
   "execution_count": 13,
   "metadata": {
    "collapsed": true
   },
   "outputs": [],
   "source": [
    "cp2.concise = True"
   ]
  },
  {
   "cell_type": "code",
   "execution_count": 14,
   "metadata": {
    "collapsed": true
   },
   "outputs": [],
   "source": [
    "cp2.concise = False"
   ]
  },
  {
   "cell_type": "markdown",
   "metadata": {},
   "source": [
    "**6.** Vertical slider and progress bar alignment and resize"
   ]
  },
  {
   "cell_type": "code",
   "execution_count": 15,
   "metadata": {},
   "outputs": [
    {
     "data": {
      "application/vnd.jupyter.widget-view+json": {
       "model_id": "f4fc203ec46843d7ab1ff5e6bef95046",
       "version_major": 2,
       "version_minor": 0
      },
      "text/plain": [
       "A Jupyter Widget"
      ]
     },
     "metadata": {},
     "output_type": "display_data"
    }
   ],
   "source": [
    "HBox([IntSlider(description='Slider', orientation='vertical', height='200px'),\n",
    "      FloatProgress(description='Progress', value=50, orientation='vertical', height='200px')])"
   ]
  },
  {
   "cell_type": "code",
   "execution_count": 16,
   "metadata": {},
   "outputs": [
    {
     "data": {
      "application/vnd.jupyter.widget-view+json": {
       "model_id": "d78d32e7ed3b4560b1c32060675cb48f",
       "version_major": 2,
       "version_minor": 0
      },
      "text/plain": [
       "A Jupyter Widget"
      ]
     },
     "metadata": {},
     "output_type": "display_data"
    }
   ],
   "source": [
    "HBox([IntSlider(description='Slider', orientation='vertical'),\n",
    "      FloatProgress(description='Progress', value=50, orientation='vertical')])"
   ]
  },
  {
   "cell_type": "markdown",
   "metadata": {},
   "source": [
    "**7.** Tabs\n",
    "\n"
   ]
  },
  {
   "cell_type": "code",
   "execution_count": 17,
   "metadata": {},
   "outputs": [
    {
     "data": {
      "application/vnd.jupyter.widget-view+json": {
       "model_id": "909087c3e8194090a5bf21224290a26a",
       "version_major": 2,
       "version_minor": 0
      },
      "text/plain": [
       "A Jupyter Widget"
      ]
     },
     "metadata": {},
     "output_type": "display_data"
    }
   ],
   "source": [
    "t = Tab(children=[FloatText(), IntSlider()], _titles={0: 'Text', 1: 'Slider'})\n",
    "t"
   ]
  },
  {
   "cell_type": "code",
   "execution_count": 18,
   "metadata": {
    "collapsed": true
   },
   "outputs": [],
   "source": [
    "t.selected_index = 1"
   ]
  },
  {
   "cell_type": "code",
   "execution_count": null,
   "metadata": {
    "collapsed": true
   },
   "outputs": [],
   "source": []
  }
 ],
 "metadata": {
  "kernelspec": {
   "display_name": "Python 3",
   "language": "python",
   "name": "python3"
  },
  "language_info": {
   "codemirror_mode": {
    "name": "ipython",
    "version": 3
   },
   "file_extension": ".py",
   "mimetype": "text/x-python",
   "name": "python",
   "nbconvert_exporter": "python",
   "pygments_lexer": "ipython3",
   "version": "3.6.2"
  },
  "widgets": {
   "application/vnd.jupyter.widget-state+json": {
    "state": {
     "00673b076c19459688cf6b3af80c545a": {
      "model_module": "@jupyter-widgets/controls",
      "model_module_version": "1.0.0",
      "model_name": "ButtonStyleModel",
      "state": {}
     },
     "05384407562e4657a9f365a4e849ba7b": {
      "model_module": "@jupyter-widgets/controls",
      "model_module_version": "1.0.0",
      "model_name": "DescriptionStyleModel",
      "state": {
       "description_width": ""
      }
     },
     "073806c3d6724c9abf4ecb7f463f846e": {
      "model_module": "@jupyter-widgets/base",
      "model_module_version": "1.0.0",
      "model_name": "LayoutModel",
      "state": {}
     },
     "08e7c3f5da594834ad0a00cbd5998170": {
      "model_module": "@jupyter-widgets/base",
      "model_module_version": "1.0.0",
      "model_name": "LayoutModel",
      "state": {}
     },
     "0a45ad9baf624ac19ba703449a4562b8": {
      "model_module": "@jupyter-widgets/base",
      "model_module_version": "1.0.0",
      "model_name": "LayoutModel",
      "state": {}
     },
     "0bbee55d0ad94c45b6ddb181cafd264a": {
      "model_module": "@jupyter-widgets/controls",
      "model_module_version": "1.0.0",
      "model_name": "ButtonModel",
      "state": {
       "description": "Button",
       "layout": "IPY_MODEL_fb387624891c4fec9fddb28f0a92b6a2",
       "style": "IPY_MODEL_5f482644ae024af2bea06442334cfac1"
      }
     },
     "0c5fd3ed362748b7b940ee48f88c28ca": {
      "model_module": "@jupyter-widgets/base",
      "model_module_version": "1.0.0",
      "model_name": "LayoutModel",
      "state": {}
     },
     "0dae11bb08d24c0d93df64105c35c881": {
      "model_module": "@jupyter-widgets/controls",
      "model_module_version": "1.0.0",
      "model_name": "ButtonModel",
      "state": {
       "layout": "IPY_MODEL_e9355d6e920e465aba9ba8cee4f30ac7",
       "style": "IPY_MODEL_393afb5f59384f20a0b4f62502fd3431"
      }
     },
     "0e2872241a1b45ac899465e960019765": {
      "model_module": "@jupyter-widgets/controls",
      "model_module_version": "1.0.0",
      "model_name": "HBoxModel",
      "state": {
       "children": [
        "IPY_MODEL_8856ec4426f64027a71d8f8c21167971",
        "IPY_MODEL_6b8281f7d4b34dd29262fe13ebd64a98"
       ],
       "layout": "IPY_MODEL_0fbada5c724f4d699d36de5c2a087014"
      }
     },
     "0e74768884e34890aef1b753d8427f7c": {
      "model_module": "@jupyter-widgets/base",
      "model_module_version": "1.0.0",
      "model_name": "LayoutModel",
      "state": {}
     },
     "0fbada5c724f4d699d36de5c2a087014": {
      "model_module": "@jupyter-widgets/base",
      "model_module_version": "1.0.0",
      "model_name": "LayoutModel",
      "state": {}
     },
     "10eb91b86e0448d49d32370d4659c3aa": {
      "model_module": "@jupyter-widgets/controls",
      "model_module_version": "1.0.0",
      "model_name": "DescriptionStyleModel",
      "state": {
       "description_width": ""
      }
     },
     "1117fee25058438889be011312009020": {
      "model_module": "@jupyter-widgets/controls",
      "model_module_version": "1.0.0",
      "model_name": "ButtonModel",
      "state": {
       "layout": "IPY_MODEL_0e74768884e34890aef1b753d8427f7c",
       "style": "IPY_MODEL_4448a4090f924ca9910932dcc7a48f8d"
      }
     },
     "1211e451d3784832a7708dc789649eca": {
      "model_module": "@jupyter-widgets/base",
      "model_module_version": "1.0.0",
      "model_name": "LayoutModel",
      "state": {}
     },
     "160d1b0310054af69fecbdc1181f7dc1": {
      "model_module": "@jupyter-widgets/base",
      "model_module_version": "1.0.0",
      "model_name": "LayoutModel",
      "state": {}
     },
     "19fd2af41e5f456d97d9864fc0fb922f": {
      "model_module": "@jupyter-widgets/controls",
      "model_module_version": "1.0.0",
      "model_name": "VBoxModel",
      "state": {
       "children": [
        "IPY_MODEL_be67a4ad00ec49af88fe772dfec68e58",
        "IPY_MODEL_bf705b7e7e08450fb3a4363ff86a166d",
        "IPY_MODEL_60fc6dc8d16a424a8c8d10cee8fbef04"
       ],
       "layout": "IPY_MODEL_84b62b4015de4103b18caae2c6e970cc"
      }
     },
     "1b25ed46071b457b8a071c7ad483f6ed": {
      "model_module": "@jupyter-widgets/controls",
      "model_module_version": "1.0.0",
      "model_name": "DescriptionStyleModel",
      "state": {
       "description_width": ""
      }
     },
     "1b9c6423d2064f789df5bb25b36b18e2": {
      "model_module": "@jupyter-widgets/controls",
      "model_module_version": "1.0.0",
      "model_name": "DescriptionStyleModel",
      "state": {
       "description_width": ""
      }
     },
     "1f11310c78e147acb4e90e6ddcdbee16": {
      "model_module": "@jupyter-widgets/controls",
      "model_module_version": "1.0.0",
      "model_name": "ButtonModel",
      "state": {
       "description": "Button",
       "layout": "IPY_MODEL_c0ce4dcb41a14bdcb4def1a3f312ddfc",
       "style": "IPY_MODEL_b61f04998a034ad4b1b51aadf5c11394"
      }
     },
     "232aa9c82fba492796a496b96297f49e": {
      "model_module": "@jupyter-widgets/controls",
      "model_module_version": "1.0.0",
      "model_name": "DropdownModel",
      "state": {
       "_options_labels": [
        "foo",
        "bar"
       ],
       "index": 0,
       "layout": "IPY_MODEL_df87c1b2ce554527b4b2b1dc53545592",
       "style": "IPY_MODEL_72ee842d588c45d5ad36ad5365a8491d"
      }
     },
     "24d88935374343e1ab6d5c58a6c23448": {
      "model_module": "@jupyter-widgets/controls",
      "model_module_version": "1.0.0",
      "model_name": "ColorPickerModel",
      "state": {
       "disabled": false,
       "layout": "IPY_MODEL_ee633a8696a54527830072c62d01f2b9",
       "style": "IPY_MODEL_501b3687ad2f4b20a2e8e08be3f8946e"
      }
     },
     "257061a384df4b57a8cdc37bc1bd3f12": {
      "model_module": "@jupyter-widgets/controls",
      "model_module_version": "1.0.0",
      "model_name": "HBoxModel",
      "state": {
       "children": [
        "IPY_MODEL_0dae11bb08d24c0d93df64105c35c881",
        "IPY_MODEL_eaecdb93b6274cc5b2108af09c7676dc"
       ],
       "layout": "IPY_MODEL_41192c89c06246cc8a548548d05887aa"
      }
     },
     "2750de7ba3ca469192136a1f30298f6e": {
      "model_module": "@jupyter-widgets/base",
      "model_module_version": "1.0.0",
      "model_name": "LayoutModel",
      "state": {}
     },
     "2949784a18554943a3b9f9e5ec071bde": {
      "model_module": "@jupyter-widgets/controls",
      "model_module_version": "1.0.0",
      "model_name": "HBoxModel",
      "state": {
       "children": [
        "IPY_MODEL_7c7e8140fdff4e77a0384528e26b26eb",
        "IPY_MODEL_b1b804633b624a20b86a8012caa9ee0c"
       ],
       "layout": "IPY_MODEL_7acc0230f687461782e9e96c91eaeaf4"
      }
     },
     "2ba1f3e7a9ee43ecb85b9eb43fe66c24": {
      "model_module": "@jupyter-widgets/base",
      "model_module_version": "1.0.0",
      "model_name": "LayoutModel",
      "state": {}
     },
     "2d523ab11e954d36b7e6a85c64b48935": {
      "model_module": "@jupyter-widgets/controls",
      "model_module_version": "1.0.0",
      "model_name": "HBoxModel",
      "state": {
       "children": [
        "IPY_MODEL_232aa9c82fba492796a496b96297f49e",
        "IPY_MODEL_0bbee55d0ad94c45b6ddb181cafd264a"
       ],
       "layout": "IPY_MODEL_383ad7568c42418fb2eb0cfd2e328081"
      }
     },
     "2d8159de38de429cb6caedd0291d3277": {
      "model_module": "@jupyter-widgets/controls",
      "model_module_version": "1.0.0",
      "model_name": "DescriptionStyleModel",
      "state": {
       "description_width": ""
      }
     },
     "2e383e6fd3da4373b7d2a314092a828f": {
      "model_module": "@jupyter-widgets/base",
      "model_module_version": "1.0.0",
      "model_name": "LayoutModel",
      "state": {}
     },
     "3020481978ff4aee932b880f262560fe": {
      "model_module": "@jupyter-widgets/base",
      "model_module_version": "1.0.0",
      "model_name": "LayoutModel",
      "state": {}
     },
     "314c74fc3d2941819df207a44d13ae35": {
      "model_module": "@jupyter-widgets/controls",
      "model_module_version": "1.0.0",
      "model_name": "HBoxModel",
      "state": {
       "children": [
        "IPY_MODEL_ca61625b057b4ffb829ea64971f18456",
        "IPY_MODEL_473d391a38f34cdb81ecb9d64bf9de7b"
       ],
       "layout": "IPY_MODEL_c8e75d7be5474bed80d9edbf03c8e26a"
      }
     },
     "316794e419164a0a820abd59be7a4678": {
      "model_module": "@jupyter-widgets/controls",
      "model_module_version": "1.0.0",
      "model_name": "HBoxModel",
      "state": {
       "children": [
        "IPY_MODEL_e8dab36080b44feaa2fe0f652a8ff2f1",
        "IPY_MODEL_944f084ba1fe4b6c867938e9673a8326"
       ],
       "layout": "IPY_MODEL_d49ed31c78a3421a9ea0382719ac2c7d"
      }
     },
     "320c05c2f6ad44b3928f25380dd3a98f": {
      "model_module": "@jupyter-widgets/base",
      "model_module_version": "1.0.0",
      "model_name": "LayoutModel",
      "state": {}
     },
     "328b711a01984e268ec4dcff17f7ff4f": {
      "model_module": "@jupyter-widgets/base",
      "model_module_version": "1.0.0",
      "model_name": "LayoutModel",
      "state": {}
     },
     "36c1203ce2284f2092ea507035c22d0d": {
      "model_module": "@jupyter-widgets/controls",
      "model_module_version": "1.0.0",
      "model_name": "DescriptionStyleModel",
      "state": {
       "description_width": ""
      }
     },
     "383ad7568c42418fb2eb0cfd2e328081": {
      "model_module": "@jupyter-widgets/base",
      "model_module_version": "1.0.0",
      "model_name": "LayoutModel",
      "state": {}
     },
     "38624102439545a9a1629afaa722c556": {
      "model_module": "@jupyter-widgets/controls",
      "model_module_version": "1.0.0",
      "model_name": "VBoxModel",
      "state": {
       "children": [
        "IPY_MODEL_314c74fc3d2941819df207a44d13ae35",
        "IPY_MODEL_2949784a18554943a3b9f9e5ec071bde",
        "IPY_MODEL_ae64aa718376431ebe02c4b971f0d168",
        "IPY_MODEL_c573561c1a07444cac29e90fc104d81f"
       ],
       "layout": "IPY_MODEL_2e383e6fd3da4373b7d2a314092a828f"
      }
     },
     "38ee91f9e84f4cc2b3a0a819524372be": {
      "model_module": "@jupyter-widgets/controls",
      "model_module_version": "1.0.0",
      "model_name": "DescriptionStyleModel",
      "state": {
       "description_width": ""
      }
     },
     "393afb5f59384f20a0b4f62502fd3431": {
      "model_module": "@jupyter-widgets/controls",
      "model_module_version": "1.0.0",
      "model_name": "ButtonStyleModel",
      "state": {}
     },
     "3af42aefd3f344a396077541c7bce15f": {
      "model_module": "@jupyter-widgets/base",
      "model_module_version": "1.0.0",
      "model_name": "LayoutModel",
      "state": {}
     },
     "3c882207a9d44595a7594b40153adee2": {
      "model_module": "@jupyter-widgets/base",
      "model_module_version": "1.0.0",
      "model_name": "LayoutModel",
      "state": {}
     },
     "3cf9e4fca4644f06821fc18fd0375d22": {
      "model_module": "@jupyter-widgets/base",
      "model_module_version": "1.0.0",
      "model_name": "LayoutModel",
      "state": {}
     },
     "3e6055ee48e543809937d7c1a7016535": {
      "model_module": "@jupyter-widgets/base",
      "model_module_version": "1.0.0",
      "model_name": "LayoutModel",
      "state": {}
     },
     "41192c89c06246cc8a548548d05887aa": {
      "model_module": "@jupyter-widgets/base",
      "model_module_version": "1.0.0",
      "model_name": "LayoutModel",
      "state": {}
     },
     "425937a59eef44368174b73db9b3dcd2": {
      "model_module": "@jupyter-widgets/controls",
      "model_module_version": "1.0.0",
      "model_name": "ButtonStyleModel",
      "state": {}
     },
     "428f2e83441b41de852d33571a244c5c": {
      "model_module": "@jupyter-widgets/controls",
      "model_module_version": "1.0.0",
      "model_name": "IntSliderModel",
      "state": {
       "description": "Slider",
       "layout": "IPY_MODEL_0a45ad9baf624ac19ba703449a4562b8",
       "orientation": "vertical",
       "style": "IPY_MODEL_cb3f429592f048d29ef0d8557b666b46"
      }
     },
     "4448a4090f924ca9910932dcc7a48f8d": {
      "model_module": "@jupyter-widgets/controls",
      "model_module_version": "1.0.0",
      "model_name": "ButtonStyleModel",
      "state": {}
     },
     "466d18caa17248069c75b1cf98cd4318": {
      "model_module": "@jupyter-widgets/controls",
      "model_module_version": "1.0.0",
      "model_name": "DescriptionStyleModel",
      "state": {
       "description_width": ""
      }
     },
     "473d391a38f34cdb81ecb9d64bf9de7b": {
      "model_module": "@jupyter-widgets/controls",
      "model_module_version": "1.0.0",
      "model_name": "TextareaModel",
      "state": {
       "layout": "IPY_MODEL_d2956279679441128db5254ada8833c2",
       "style": "IPY_MODEL_d205fb86c69f4260950059b8092f212e",
       "value": "Lorem ipsum dolor sit amet, consectetur adipiscing elit,sed do eiusmod tempor incididunt ut labore et dolore magna aliqua. Ut enim ad minim veniam, quis nostrud exercitation ullamco laboris nisi ut aliquip ex ea commodo consequat. Duis aute irure dolor in reprehenderit in voluptate velit esse cillum dolore eu fugiat nulla pariatur. Excepteur sint occaecat cupidatat non proident, sunt in culpa qui officia deserunt mollit anim id est laborum."
      }
     },
     "48546e9f09cc4ac381645d72f738bc39": {
      "model_module": "@jupyter-widgets/base",
      "model_module_version": "1.0.0",
      "model_name": "LayoutModel",
      "state": {}
     },
     "487f76418882428387119aa03f306cba": {
      "model_module": "@jupyter-widgets/controls",
      "model_module_version": "1.0.0",
      "model_name": "DropdownModel",
      "state": {
       "_options_labels": [
        "foo",
        "bar"
       ],
       "description": "Choice",
       "index": 0,
       "layout": "IPY_MODEL_d73f764adb6c4314aaf4feab1201b013",
       "style": "IPY_MODEL_9d6c5fe200a74bc0bceab552f51ab5b4"
      }
     },
     "4aba083c14904645b4cbbcf7e179713c": {
      "model_module": "@jupyter-widgets/base",
      "model_module_version": "1.0.0",
      "model_name": "LayoutModel",
      "state": {}
     },
     "4bd991f58df1471aa15719d9e5684ba8": {
      "model_module": "@jupyter-widgets/controls",
      "model_module_version": "1.0.0",
      "model_name": "FloatRangeSliderModel",
      "state": {
       "_model_name": "FloatRangeSliderModel",
       "_view_name": "FloatRangeSliderView",
       "layout": "IPY_MODEL_073806c3d6724c9abf4ecb7f463f846e",
       "step": 0.1,
       "style": "IPY_MODEL_c3a9f880058d4917a78f4257d56282aa",
       "value": [
        25,
        75
       ]
      }
     },
     "4be94cc030ce49e9b7a2b68d17953a94": {
      "model_module": "@jupyter-widgets/controls",
      "model_module_version": "1.0.0",
      "model_name": "FloatProgressModel",
      "state": {
       "description": "Progress",
       "layout": "IPY_MODEL_160d1b0310054af69fecbdc1181f7dc1",
       "orientation": "vertical",
       "style": "IPY_MODEL_90f5130e05aa447ea68dadcc89b0ec9d",
       "value": 50
      }
     },
     "4c2f61cd3a734a7fbaf108592a7ba0cc": {
      "model_module": "@jupyter-widgets/controls",
      "model_module_version": "1.0.0",
      "model_name": "ButtonStyleModel",
      "state": {}
     },
     "4e772ffcfc7443fa91c442a5ebfdc030": {
      "model_module": "@jupyter-widgets/controls",
      "model_module_version": "1.0.0",
      "model_name": "ButtonStyleModel",
      "state": {}
     },
     "4fb017192d3e4168a0f062a9be96199c": {
      "model_module": "@jupyter-widgets/base",
      "model_module_version": "1.0.0",
      "model_name": "LayoutModel",
      "state": {}
     },
     "501b3687ad2f4b20a2e8e08be3f8946e": {
      "model_module": "@jupyter-widgets/controls",
      "model_module_version": "1.0.0",
      "model_name": "DescriptionStyleModel",
      "state": {
       "description_width": ""
      }
     },
     "50b138d94d784cef8f9f6639ca46b8e3": {
      "model_module": "@jupyter-widgets/controls",
      "model_module_version": "1.0.0",
      "model_name": "VBoxModel",
      "state": {
       "children": [
        "IPY_MODEL_2d523ab11e954d36b7e6a85c64b48935",
        "IPY_MODEL_8ef252255bd54f5baab06456e760e71c",
        "IPY_MODEL_316794e419164a0a820abd59be7a4678"
       ],
       "layout": "IPY_MODEL_328b711a01984e268ec4dcff17f7ff4f"
      }
     },
     "527998a20e404ef098aa83325c0ceaef": {
      "model_module": "@jupyter-widgets/base",
      "model_module_version": "1.0.0",
      "model_name": "LayoutModel",
      "state": {}
     },
     "54aa333eaf164355a9903c0564453ade": {
      "model_module": "@jupyter-widgets/controls",
      "model_module_version": "1.0.0",
      "model_name": "ButtonStyleModel",
      "state": {}
     },
     "583fc6933b6b44e29ab592abecdf4aa3": {
      "model_module": "@jupyter-widgets/base",
      "model_module_version": "1.0.0",
      "model_name": "LayoutModel",
      "state": {}
     },
     "5896b5c339bc44d49ff2e193becb84aa": {
      "model_module": "@jupyter-widgets/controls",
      "model_module_version": "1.0.0",
      "model_name": "SliderStyleModel",
      "state": {
       "description_width": ""
      }
     },
     "59dfc2926f384605883c1c769282e36e": {
      "model_module": "@jupyter-widgets/base",
      "model_module_version": "1.0.0",
      "model_name": "LayoutModel",
      "state": {}
     },
     "5b583a0cc3a94a6281aeac76709dc3db": {
      "model_module": "@jupyter-widgets/controls",
      "model_module_version": "1.0.0",
      "model_name": "DropdownModel",
      "state": {
       "_options_labels": [
        "foo",
        "bar"
       ],
       "index": 0,
       "layout": "IPY_MODEL_ab5ffdeaf5074c619ad6c15015de48ff",
       "style": "IPY_MODEL_b4b83abcfe304619bfc14ed446237956"
      }
     },
     "5c7d1788aeb14d2aa4444cfd734af3e9": {
      "model_module": "@jupyter-widgets/controls",
      "model_module_version": "1.0.0",
      "model_name": "ProgressStyleModel",
      "state": {
       "description_width": ""
      }
     },
     "5f482644ae024af2bea06442334cfac1": {
      "model_module": "@jupyter-widgets/controls",
      "model_module_version": "1.0.0",
      "model_name": "ButtonStyleModel",
      "state": {}
     },
     "5f802fe0a27648a887850b8a63b23d04": {
      "model_module": "@jupyter-widgets/base",
      "model_module_version": "1.0.0",
      "model_name": "LayoutModel",
      "state": {}
     },
     "60fc6dc8d16a424a8c8d10cee8fbef04": {
      "model_module": "@jupyter-widgets/controls",
      "model_module_version": "1.0.0",
      "model_name": "HBoxModel",
      "state": {
       "children": [
        "IPY_MODEL_e9bead584bf645fd916b67ab99bf7d65",
        "IPY_MODEL_68f706433291492197d5c8b91605cbc3",
        "IPY_MODEL_5b583a0cc3a94a6281aeac76709dc3db",
        "IPY_MODEL_9ba77f203a184de99a373fabad98671d"
       ],
       "layout": "IPY_MODEL_4aba083c14904645b4cbbcf7e179713c"
      }
     },
     "6546de31f7db4596895d9cef9b485964": {
      "model_module": "@jupyter-widgets/controls",
      "model_module_version": "1.0.0",
      "model_name": "CheckboxModel",
      "state": {
       "description": "Check",
       "disabled": false,
       "layout": "IPY_MODEL_59dfc2926f384605883c1c769282e36e",
       "style": "IPY_MODEL_f3613c21f5e64e8882893d20c17f4cad",
       "value": false
      }
     },
     "67c050f1a404447281a3aaf4151e30e5": {
      "model_module": "@jupyter-widgets/base",
      "model_module_version": "1.0.0",
      "model_name": "LayoutModel",
      "state": {
       "width": "148px"
      }
     },
     "68f706433291492197d5c8b91605cbc3": {
      "model_module": "@jupyter-widgets/controls",
      "model_module_version": "1.0.0",
      "model_name": "IntSliderModel",
      "state": {
       "description": "Foobar",
       "layout": "IPY_MODEL_97e75479b06a4bcc9c864a76c881a46a",
       "style": "IPY_MODEL_7b86033275ba4a58ab2df84f577d3cec"
      }
     },
     "6b8281f7d4b34dd29262fe13ebd64a98": {
      "model_module": "@jupyter-widgets/controls",
      "model_module_version": "1.0.0",
      "model_name": "ButtonModel",
      "state": {
       "layout": "IPY_MODEL_8a2a48d2f2f7428bbf1b8fe46fbe46f1",
       "style": "IPY_MODEL_00673b076c19459688cf6b3af80c545a"
      }
     },
     "6cb5077f56d24573975fb14d52bedac1": {
      "model_module": "@jupyter-widgets/controls",
      "model_module_version": "1.0.0",
      "model_name": "FloatTextModel",
      "state": {
       "layout": "IPY_MODEL_b85082b2b535423182dd4f7f0c8baf1c",
       "step": null,
       "style": "IPY_MODEL_e80f6e8bbb524af39f30e94d08bc4cbe"
      }
     },
     "725fe9b5a9f64c01b145d31936bf6e6c": {
      "model_module": "@jupyter-widgets/base",
      "model_module_version": "1.0.0",
      "model_name": "LayoutModel",
      "state": {}
     },
     "72ee842d588c45d5ad36ad5365a8491d": {
      "model_module": "@jupyter-widgets/controls",
      "model_module_version": "1.0.0",
      "model_name": "DescriptionStyleModel",
      "state": {
       "description_width": ""
      }
     },
     "7abd2921d3934b0fb58cbca4bdfedbaa": {
      "model_module": "@jupyter-widgets/base",
      "model_module_version": "1.0.0",
      "model_name": "LayoutModel",
      "state": {}
     },
     "7acc0230f687461782e9e96c91eaeaf4": {
      "model_module": "@jupyter-widgets/base",
      "model_module_version": "1.0.0",
      "model_name": "LayoutModel",
      "state": {}
     },
     "7b86033275ba4a58ab2df84f577d3cec": {
      "model_module": "@jupyter-widgets/controls",
      "model_module_version": "1.0.0",
      "model_name": "SliderStyleModel",
      "state": {
       "description_width": ""
      }
     },
     "7c7e8140fdff4e77a0384528e26b26eb": {
      "model_module": "@jupyter-widgets/controls",
      "model_module_version": "1.0.0",
      "model_name": "TextModel",
      "state": {
       "layout": "IPY_MODEL_3cf9e4fca4644f06821fc18fd0375d22",
       "style": "IPY_MODEL_466d18caa17248069c75b1cf98cd4318"
      }
     },
     "7d3f66c5b88642e7b31192430dc699ef": {
      "model_module": "@jupyter-widgets/controls",
      "model_module_version": "1.0.0",
      "model_name": "DescriptionStyleModel",
      "state": {
       "description_width": ""
      }
     },
     "828ea1a40ce04c56bdf5cdcf35796368": {
      "model_module": "@jupyter-widgets/controls",
      "model_module_version": "1.0.0",
      "model_name": "ButtonModel",
      "state": {
       "layout": "IPY_MODEL_4fb017192d3e4168a0f062a9be96199c",
       "style": "IPY_MODEL_4c2f61cd3a734a7fbaf108592a7ba0cc"
      }
     },
     "84b62b4015de4103b18caae2c6e970cc": {
      "model_module": "@jupyter-widgets/base",
      "model_module_version": "1.0.0",
      "model_name": "LayoutModel",
      "state": {}
     },
     "8856ec4426f64027a71d8f8c21167971": {
      "model_module": "@jupyter-widgets/controls",
      "model_module_version": "1.0.0",
      "model_name": "ButtonModel",
      "state": {
       "layout": "IPY_MODEL_f3c854742af84f44a881c9e6e924dbf3",
       "style": "IPY_MODEL_54aa333eaf164355a9903c0564453ade"
      }
     },
     "8a2a48d2f2f7428bbf1b8fe46fbe46f1": {
      "model_module": "@jupyter-widgets/base",
      "model_module_version": "1.0.0",
      "model_name": "LayoutModel",
      "state": {}
     },
     "8d700c7675154186bd9f335b68d3dcae": {
      "model_module": "@jupyter-widgets/controls",
      "model_module_version": "1.0.0",
      "model_name": "SliderStyleModel",
      "state": {
       "description_width": ""
      }
     },
     "8ef252255bd54f5baab06456e760e71c": {
      "model_module": "@jupyter-widgets/controls",
      "model_module_version": "1.0.0",
      "model_name": "ColorPickerModel",
      "state": {
       "description": "foobar",
       "disabled": false,
       "layout": "IPY_MODEL_3020481978ff4aee932b880f262560fe",
       "style": "IPY_MODEL_90e7cc9e3e9245e7addb1bfea3c9eecc"
      }
     },
     "8f2bae44b796493e83df4d73344ec29f": {
      "model_module": "@jupyter-widgets/controls",
      "model_module_version": "1.0.0",
      "model_name": "ProgressStyleModel",
      "state": {
       "description_width": ""
      }
     },
     "909087c3e8194090a5bf21224290a26a": {
      "model_module": "@jupyter-widgets/controls",
      "model_module_version": "1.0.0",
      "model_name": "TabModel",
      "state": {
       "_titles": {
        "0": "Text",
        "1": "Slider"
       },
       "children": [
        "IPY_MODEL_6cb5077f56d24573975fb14d52bedac1",
        "IPY_MODEL_b01d7ec06d0f4d569d17ea2c92e98a30"
       ],
       "layout": "IPY_MODEL_3c882207a9d44595a7594b40153adee2",
       "selected_index": 1
      }
     },
     "90e7cc9e3e9245e7addb1bfea3c9eecc": {
      "model_module": "@jupyter-widgets/controls",
      "model_module_version": "1.0.0",
      "model_name": "DescriptionStyleModel",
      "state": {
       "description_width": ""
      }
     },
     "90f5130e05aa447ea68dadcc89b0ec9d": {
      "model_module": "@jupyter-widgets/controls",
      "model_module_version": "1.0.0",
      "model_name": "ProgressStyleModel",
      "state": {
       "description_width": ""
      }
     },
     "944f084ba1fe4b6c867938e9673a8326": {
      "model_module": "@jupyter-widgets/controls",
      "model_module_version": "1.0.0",
      "model_name": "ButtonModel",
      "state": {
       "layout": "IPY_MODEL_3af42aefd3f344a396077541c7bce15f",
       "style": "IPY_MODEL_b1b9baf986f24af3819edecd610f880e"
      }
     },
     "967605bbad764db2bdc05137e22d2fe4": {
      "model_module": "@jupyter-widgets/controls",
      "model_module_version": "1.0.0",
      "model_name": "VBoxModel",
      "state": {
       "children": [
        "IPY_MODEL_0e2872241a1b45ac899465e960019765",
        "IPY_MODEL_24d88935374343e1ab6d5c58a6c23448"
       ],
       "layout": "IPY_MODEL_5f802fe0a27648a887850b8a63b23d04"
      }
     },
     "97e75479b06a4bcc9c864a76c881a46a": {
      "model_module": "@jupyter-widgets/base",
      "model_module_version": "1.0.0",
      "model_name": "LayoutModel",
      "state": {}
     },
     "9ba77f203a184de99a373fabad98671d": {
      "model_module": "@jupyter-widgets/controls",
      "model_module_version": "1.0.0",
      "model_name": "ValidModel",
      "state": {
       "layout": "IPY_MODEL_ec1e7130f6274844b7910d04e87abb5a",
       "style": "IPY_MODEL_2d8159de38de429cb6caedd0291d3277"
      }
     },
     "9cb9579ad30547bfbacba328ab605815": {
      "model_module": "@jupyter-widgets/controls",
      "model_module_version": "1.0.0",
      "model_name": "ButtonModel",
      "state": {
       "layout": "IPY_MODEL_d6d5c7691e8f47959655b06bb7d8c4ae",
       "style": "IPY_MODEL_a4d4b668016c4c32b4ba63970469490e"
      }
     },
     "9d6c5fe200a74bc0bceab552f51ab5b4": {
      "model_module": "@jupyter-widgets/controls",
      "model_module_version": "1.0.0",
      "model_name": "DescriptionStyleModel",
      "state": {
       "description_width": ""
      }
     },
     "a0a3e8ad73264c2a9a9d2c303aa96924": {
      "model_module": "@jupyter-widgets/base",
      "model_module_version": "1.0.0",
      "model_name": "LayoutModel",
      "state": {}
     },
     "a3016469edc4498ab056a4b08da055ca": {
      "model_module": "@jupyter-widgets/base",
      "model_module_version": "1.0.0",
      "model_name": "LayoutModel",
      "state": {}
     },
     "a4d4b668016c4c32b4ba63970469490e": {
      "model_module": "@jupyter-widgets/controls",
      "model_module_version": "1.0.0",
      "model_name": "ButtonStyleModel",
      "state": {}
     },
     "a549d5cb6d3e4563a5b5d2ced382daca": {
      "model_module": "@jupyter-widgets/controls",
      "model_module_version": "1.0.0",
      "model_name": "CheckboxModel",
      "state": {
       "disabled": false,
       "layout": "IPY_MODEL_08e7c3f5da594834ad0a00cbd5998170",
       "style": "IPY_MODEL_10eb91b86e0448d49d32370d4659c3aa",
       "value": false
      }
     },
     "ab321536d61340499f88f72afcb5e542": {
      "model_module": "@jupyter-widgets/controls",
      "model_module_version": "1.0.0",
      "model_name": "ButtonModel",
      "state": {
       "layout": "IPY_MODEL_ca27d5d0818c4a6da3d3804196f28615",
       "style": "IPY_MODEL_d25c756267f7474e825fe53588147bc3"
      }
     },
     "ab5ffdeaf5074c619ad6c15015de48ff": {
      "model_module": "@jupyter-widgets/base",
      "model_module_version": "1.0.0",
      "model_name": "LayoutModel",
      "state": {}
     },
     "ab6725ed56d34f05ad89d41dc41d1168": {
      "model_module": "@jupyter-widgets/controls",
      "model_module_version": "1.0.0",
      "model_name": "FloatTextModel",
      "state": {
       "layout": "IPY_MODEL_c35c90ab3c4f43c3ae491a4e9f6b7854",
       "step": null,
       "style": "IPY_MODEL_1b9c6423d2064f789df5bb25b36b18e2"
      }
     },
     "aba78c6df87544bf9c63f7d811408c86": {
      "model_module": "@jupyter-widgets/base",
      "model_module_version": "1.0.0",
      "model_name": "LayoutModel",
      "state": {}
     },
     "ac116f1f0c874b7ea100892225f228cd": {
      "model_module": "@jupyter-widgets/controls",
      "model_module_version": "1.0.0",
      "model_name": "TextModel",
      "state": {
       "layout": "IPY_MODEL_a3016469edc4498ab056a4b08da055ca",
       "style": "IPY_MODEL_d08aa7a1e3094abb815ac1e0a18b05ba"
      }
     },
     "ac63885524614b029d5d5b33140313d2": {
      "model_module": "@jupyter-widgets/controls",
      "model_module_version": "1.0.0",
      "model_name": "VBoxModel",
      "state": {
       "children": [
        "IPY_MODEL_9cb9579ad30547bfbacba328ab605815",
        "IPY_MODEL_a549d5cb6d3e4563a5b5d2ced382daca",
        "IPY_MODEL_b34db88cb36e4017a6fc3acc02ba73d6"
       ],
       "layout": "IPY_MODEL_7abd2921d3934b0fb58cbca4bdfedbaa"
      }
     },
     "ae64aa718376431ebe02c4b971f0d168": {
      "model_module": "@jupyter-widgets/controls",
      "model_module_version": "1.0.0",
      "model_name": "IntSliderModel",
      "state": {
       "layout": "IPY_MODEL_583fc6933b6b44e29ab592abecdf4aa3",
       "style": "IPY_MODEL_badd4c5cbc2a4eb1b2d28b411db5c504"
      }
     },
     "afd28af83d764ffc95043f6ea3cb0c24": {
      "model_module": "@jupyter-widgets/controls",
      "model_module_version": "1.0.0",
      "model_name": "HBoxModel",
      "state": {
       "children": [
        "IPY_MODEL_cb110ed1ef8442a09d057af287f2ab4f",
        "IPY_MODEL_ac63885524614b029d5d5b33140313d2"
       ],
       "layout": "IPY_MODEL_725fe9b5a9f64c01b145d31936bf6e6c"
      }
     },
     "b01d7ec06d0f4d569d17ea2c92e98a30": {
      "model_module": "@jupyter-widgets/controls",
      "model_module_version": "1.0.0",
      "model_name": "IntSliderModel",
      "state": {
       "layout": "IPY_MODEL_e56822e5268f493eb8b3176da1721946",
       "style": "IPY_MODEL_8d700c7675154186bd9f335b68d3dcae"
      }
     },
     "b1b804633b624a20b86a8012caa9ee0c": {
      "model_module": "@jupyter-widgets/controls",
      "model_module_version": "1.0.0",
      "model_name": "CheckboxModel",
      "state": {
       "description": "Check box",
       "disabled": false,
       "layout": "IPY_MODEL_48546e9f09cc4ac381645d72f738bc39",
       "style": "IPY_MODEL_38ee91f9e84f4cc2b3a0a819524372be",
       "value": false
      }
     },
     "b1b9baf986f24af3819edecd610f880e": {
      "model_module": "@jupyter-widgets/controls",
      "model_module_version": "1.0.0",
      "model_name": "ButtonStyleModel",
      "state": {}
     },
     "b34db88cb36e4017a6fc3acc02ba73d6": {
      "model_module": "@jupyter-widgets/controls",
      "model_module_version": "1.0.0",
      "model_name": "IntTextModel",
      "state": {
       "layout": "IPY_MODEL_0c5fd3ed362748b7b940ee48f88c28ca",
       "step": 1,
       "style": "IPY_MODEL_7d3f66c5b88642e7b31192430dc699ef"
      }
     },
     "b4b83abcfe304619bfc14ed446237956": {
      "model_module": "@jupyter-widgets/controls",
      "model_module_version": "1.0.0",
      "model_name": "DescriptionStyleModel",
      "state": {
       "description_width": ""
      }
     },
     "b56ccd1c19ad453c9ce5bfbdd6ab4a06": {
      "model_module": "@jupyter-widgets/base",
      "model_module_version": "1.0.0",
      "model_name": "LayoutModel",
      "state": {}
     },
     "b61f04998a034ad4b1b51aadf5c11394": {
      "model_module": "@jupyter-widgets/controls",
      "model_module_version": "1.0.0",
      "model_name": "ButtonStyleModel",
      "state": {}
     },
     "b85082b2b535423182dd4f7f0c8baf1c": {
      "model_module": "@jupyter-widgets/base",
      "model_module_version": "1.0.0",
      "model_name": "LayoutModel",
      "state": {}
     },
     "ba5359b52de945f0b80aae414eccce0f": {
      "model_module": "@jupyter-widgets/controls",
      "model_module_version": "1.0.0",
      "model_name": "ButtonModel",
      "state": {
       "description": "Press",
       "layout": "IPY_MODEL_320c05c2f6ad44b3928f25380dd3a98f",
       "style": "IPY_MODEL_4e772ffcfc7443fa91c442a5ebfdc030"
      }
     },
     "badd4c5cbc2a4eb1b2d28b411db5c504": {
      "model_module": "@jupyter-widgets/controls",
      "model_module_version": "1.0.0",
      "model_name": "SliderStyleModel",
      "state": {
       "description_width": ""
      }
     },
     "bd74eb13a19e4618b614ac5f23722503": {
      "model_module": "@jupyter-widgets/controls",
      "model_module_version": "1.0.0",
      "model_name": "ButtonStyleModel",
      "state": {}
     },
     "be67a4ad00ec49af88fe772dfec68e58": {
      "model_module": "@jupyter-widgets/controls",
      "model_module_version": "1.0.0",
      "model_name": "HBoxModel",
      "state": {
       "children": [
        "IPY_MODEL_828ea1a40ce04c56bdf5cdcf35796368",
        "IPY_MODEL_4bd991f58df1471aa15719d9e5684ba8",
        "IPY_MODEL_ac116f1f0c874b7ea100892225f228cd",
        "IPY_MODEL_ab321536d61340499f88f72afcb5e542"
       ],
       "layout": "IPY_MODEL_1211e451d3784832a7708dc789649eca"
      }
     },
     "bf705b7e7e08450fb3a4363ff86a166d": {
      "model_module": "@jupyter-widgets/controls",
      "model_module_version": "1.0.0",
      "model_name": "HBoxModel",
      "state": {
       "children": [
        "IPY_MODEL_1117fee25058438889be011312009020",
        "IPY_MODEL_ab6725ed56d34f05ad89d41dc41d1168",
        "IPY_MODEL_e97c5d95175849fb872fab665320e840",
        "IPY_MODEL_6546de31f7db4596895d9cef9b485964"
       ],
       "layout": "IPY_MODEL_527998a20e404ef098aa83325c0ceaef"
      }
     },
     "c0ce4dcb41a14bdcb4def1a3f312ddfc": {
      "model_module": "@jupyter-widgets/base",
      "model_module_version": "1.0.0",
      "model_name": "LayoutModel",
      "state": {}
     },
     "c16ba7c61d9b4269a913a84d2a9632ca": {
      "model_module": "@jupyter-widgets/controls",
      "model_module_version": "1.0.0",
      "model_name": "DropdownModel",
      "state": {
       "_options_labels": [
        "foo",
        "bar"
       ],
       "description": "Foobar",
       "index": 0,
       "layout": "IPY_MODEL_67c050f1a404447281a3aaf4151e30e5",
       "style": "IPY_MODEL_36c1203ce2284f2092ea507035c22d0d"
      }
     },
     "c17738a7d7a94739bbcab512d1ec2177": {
      "model_module": "@jupyter-widgets/base",
      "model_module_version": "1.0.0",
      "model_name": "LayoutModel",
      "state": {}
     },
     "c35c90ab3c4f43c3ae491a4e9f6b7854": {
      "model_module": "@jupyter-widgets/base",
      "model_module_version": "1.0.0",
      "model_name": "LayoutModel",
      "state": {}
     },
     "c3a9f880058d4917a78f4257d56282aa": {
      "model_module": "@jupyter-widgets/controls",
      "model_module_version": "1.0.0",
      "model_name": "SliderStyleModel",
      "state": {
       "description_width": ""
      }
     },
     "c573561c1a07444cac29e90fc104d81f": {
      "model_module": "@jupyter-widgets/controls",
      "model_module_version": "1.0.0",
      "model_name": "ControllerModel",
      "state": {
       "layout": "IPY_MODEL_d4fd609470d140e396140642887604c1"
      }
     },
     "c5f04779414a42ebb67ca7f0d309a10e": {
      "model_module": "@jupyter-widgets/controls",
      "model_module_version": "1.0.0",
      "model_name": "ColorPickerModel",
      "state": {
       "description": "Color",
       "disabled": false,
       "layout": "IPY_MODEL_b56ccd1c19ad453c9ce5bfbdd6ab4a06",
       "style": "IPY_MODEL_05384407562e4657a9f365a4e849ba7b"
      }
     },
     "c8e75d7be5474bed80d9edbf03c8e26a": {
      "model_module": "@jupyter-widgets/base",
      "model_module_version": "1.0.0",
      "model_name": "LayoutModel",
      "state": {}
     },
     "ca27d5d0818c4a6da3d3804196f28615": {
      "model_module": "@jupyter-widgets/base",
      "model_module_version": "1.0.0",
      "model_name": "LayoutModel",
      "state": {}
     },
     "ca61625b057b4ffb829ea64971f18456": {
      "model_module": "@jupyter-widgets/controls",
      "model_module_version": "1.0.0",
      "model_name": "VBoxModel",
      "state": {
       "children": [
        "IPY_MODEL_487f76418882428387119aa03f306cba",
        "IPY_MODEL_c5f04779414a42ebb67ca7f0d309a10e",
        "IPY_MODEL_257061a384df4b57a8cdc37bc1bd3f12"
       ],
       "layout": "IPY_MODEL_a0a3e8ad73264c2a9a9d2c303aa96924"
      }
     },
     "caa217d966c24d69a6d5fbdc79f9fad2": {
      "model_module": "@jupyter-widgets/base",
      "model_module_version": "1.0.0",
      "model_name": "LayoutModel",
      "state": {}
     },
     "cb110ed1ef8442a09d057af287f2ab4f": {
      "model_module": "@jupyter-widgets/controls",
      "model_module_version": "1.0.0",
      "model_name": "VBoxModel",
      "state": {
       "children": [
        "IPY_MODEL_ba5359b52de945f0b80aae414eccce0f",
        "IPY_MODEL_f93eeefc06af4d94af3d494c6b0548d9",
        "IPY_MODEL_1f11310c78e147acb4e90e6ddcdbee16"
       ],
       "layout": "IPY_MODEL_f38d99f32bda4b488524fc3019a0e4a5"
      }
     },
     "cb3f429592f048d29ef0d8557b666b46": {
      "model_module": "@jupyter-widgets/controls",
      "model_module_version": "1.0.0",
      "model_name": "SliderStyleModel",
      "state": {
       "description_width": ""
      }
     },
     "d08aa7a1e3094abb815ac1e0a18b05ba": {
      "model_module": "@jupyter-widgets/controls",
      "model_module_version": "1.0.0",
      "model_name": "DescriptionStyleModel",
      "state": {
       "description_width": ""
      }
     },
     "d205fb86c69f4260950059b8092f212e": {
      "model_module": "@jupyter-widgets/controls",
      "model_module_version": "1.0.0",
      "model_name": "DescriptionStyleModel",
      "state": {
       "description_width": ""
      }
     },
     "d25c756267f7474e825fe53588147bc3": {
      "model_module": "@jupyter-widgets/controls",
      "model_module_version": "1.0.0",
      "model_name": "ButtonStyleModel",
      "state": {}
     },
     "d2956279679441128db5254ada8833c2": {
      "model_module": "@jupyter-widgets/base",
      "model_module_version": "1.0.0",
      "model_name": "LayoutModel",
      "state": {}
     },
     "d39f068a613444338cff9d9e6476be88": {
      "model_module": "@jupyter-widgets/base",
      "model_module_version": "1.0.0",
      "model_name": "LayoutModel",
      "state": {}
     },
     "d49ed31c78a3421a9ea0382719ac2c7d": {
      "model_module": "@jupyter-widgets/base",
      "model_module_version": "1.0.0",
      "model_name": "LayoutModel",
      "state": {}
     },
     "d4fd609470d140e396140642887604c1": {
      "model_module": "@jupyter-widgets/base",
      "model_module_version": "1.0.0",
      "model_name": "LayoutModel",
      "state": {}
     },
     "d6d5c7691e8f47959655b06bb7d8c4ae": {
      "model_module": "@jupyter-widgets/base",
      "model_module_version": "1.0.0",
      "model_name": "LayoutModel",
      "state": {}
     },
     "d73f764adb6c4314aaf4feab1201b013": {
      "model_module": "@jupyter-widgets/base",
      "model_module_version": "1.0.0",
      "model_name": "LayoutModel",
      "state": {}
     },
     "d78d32e7ed3b4560b1c32060675cb48f": {
      "model_module": "@jupyter-widgets/controls",
      "model_module_version": "1.0.0",
      "model_name": "HBoxModel",
      "state": {
       "children": [
        "IPY_MODEL_428f2e83441b41de852d33571a244c5c",
        "IPY_MODEL_4be94cc030ce49e9b7a2b68d17953a94"
       ],
       "layout": "IPY_MODEL_caa217d966c24d69a6d5fbdc79f9fad2"
      }
     },
     "d8b315edfb244b89954a697521523dd4": {
      "model_module": "@jupyter-widgets/controls",
      "model_module_version": "1.0.0",
      "model_name": "FloatProgressModel",
      "state": {
       "description": "Progress",
       "layout": "IPY_MODEL_e7e31ee5c0f54912ab79ee5d286cd8cf",
       "orientation": "vertical",
       "style": "IPY_MODEL_5c7d1788aeb14d2aa4444cfd734af3e9",
       "value": 50
      }
     },
     "df87c1b2ce554527b4b2b1dc53545592": {
      "model_module": "@jupyter-widgets/base",
      "model_module_version": "1.0.0",
      "model_name": "LayoutModel",
      "state": {}
     },
     "e0f4c61ca12541ae90adaa7602ae9ef7": {
      "model_module": "@jupyter-widgets/base",
      "model_module_version": "1.0.0",
      "model_name": "LayoutModel",
      "state": {}
     },
     "e56822e5268f493eb8b3176da1721946": {
      "model_module": "@jupyter-widgets/base",
      "model_module_version": "1.0.0",
      "model_name": "LayoutModel",
      "state": {}
     },
     "e7e31ee5c0f54912ab79ee5d286cd8cf": {
      "model_module": "@jupyter-widgets/base",
      "model_module_version": "1.0.0",
      "model_name": "LayoutModel",
      "state": {}
     },
     "e80f6e8bbb524af39f30e94d08bc4cbe": {
      "model_module": "@jupyter-widgets/controls",
      "model_module_version": "1.0.0",
      "model_name": "DescriptionStyleModel",
      "state": {
       "description_width": ""
      }
     },
     "e8dab36080b44feaa2fe0f652a8ff2f1": {
      "model_module": "@jupyter-widgets/controls",
      "model_module_version": "1.0.0",
      "model_name": "ButtonModel",
      "state": {
       "layout": "IPY_MODEL_2750de7ba3ca469192136a1f30298f6e",
       "style": "IPY_MODEL_425937a59eef44368174b73db9b3dcd2"
      }
     },
     "e9355d6e920e465aba9ba8cee4f30ac7": {
      "model_module": "@jupyter-widgets/base",
      "model_module_version": "1.0.0",
      "model_name": "LayoutModel",
      "state": {}
     },
     "e97c5d95175849fb872fab665320e840": {
      "model_module": "@jupyter-widgets/controls",
      "model_module_version": "1.0.0",
      "model_name": "FloatProgressModel",
      "state": {
       "layout": "IPY_MODEL_2ba1f3e7a9ee43ecb85b9eb43fe66c24",
       "style": "IPY_MODEL_8f2bae44b796493e83df4d73344ec29f",
       "value": 40
      }
     },
     "e9bead584bf645fd916b67ab99bf7d65": {
      "model_module": "@jupyter-widgets/controls",
      "model_module_version": "1.0.0",
      "model_name": "ToggleButtonModel",
      "state": {
       "layout": "IPY_MODEL_c17738a7d7a94739bbcab512d1ec2177",
       "style": "IPY_MODEL_1b25ed46071b457b8a071c7ad483f6ed"
      }
     },
     "eaecdb93b6274cc5b2108af09c7676dc": {
      "model_module": "@jupyter-widgets/controls",
      "model_module_version": "1.0.0",
      "model_name": "ButtonModel",
      "state": {
       "layout": "IPY_MODEL_3e6055ee48e543809937d7c1a7016535",
       "style": "IPY_MODEL_bd74eb13a19e4618b614ac5f23722503"
      }
     },
     "ec1e7130f6274844b7910d04e87abb5a": {
      "model_module": "@jupyter-widgets/base",
      "model_module_version": "1.0.0",
      "model_name": "LayoutModel",
      "state": {}
     },
     "ee633a8696a54527830072c62d01f2b9": {
      "model_module": "@jupyter-widgets/base",
      "model_module_version": "1.0.0",
      "model_name": "LayoutModel",
      "state": {}
     },
     "f04916d89a154097865bf157bd69e990": {
      "model_module": "@jupyter-widgets/controls",
      "model_module_version": "1.0.0",
      "model_name": "DescriptionStyleModel",
      "state": {
       "description_width": ""
      }
     },
     "f3613c21f5e64e8882893d20c17f4cad": {
      "model_module": "@jupyter-widgets/controls",
      "model_module_version": "1.0.0",
      "model_name": "DescriptionStyleModel",
      "state": {
       "description_width": ""
      }
     },
     "f38d99f32bda4b488524fc3019a0e4a5": {
      "model_module": "@jupyter-widgets/base",
      "model_module_version": "1.0.0",
      "model_name": "LayoutModel",
      "state": {}
     },
     "f3c854742af84f44a881c9e6e924dbf3": {
      "model_module": "@jupyter-widgets/base",
      "model_module_version": "1.0.0",
      "model_name": "LayoutModel",
      "state": {}
     },
     "f4fc203ec46843d7ab1ff5e6bef95046": {
      "model_module": "@jupyter-widgets/controls",
      "model_module_version": "1.0.0",
      "model_name": "HBoxModel",
      "state": {
       "children": [
        "IPY_MODEL_ff39d78836f644719d7e403da376f411",
        "IPY_MODEL_d8b315edfb244b89954a697521523dd4"
       ],
       "layout": "IPY_MODEL_aba78c6df87544bf9c63f7d811408c86"
      }
     },
     "f93eeefc06af4d94af3d494c6b0548d9": {
      "model_module": "@jupyter-widgets/controls",
      "model_module_version": "1.0.0",
      "model_name": "DropdownModel",
      "state": {
       "_options_labels": [
        "a",
        "b"
       ],
       "index": 0,
       "layout": "IPY_MODEL_d39f068a613444338cff9d9e6476be88",
       "style": "IPY_MODEL_f04916d89a154097865bf157bd69e990"
      }
     },
     "fb387624891c4fec9fddb28f0a92b6a2": {
      "model_module": "@jupyter-widgets/base",
      "model_module_version": "1.0.0",
      "model_name": "LayoutModel",
      "state": {}
     },
     "ff39d78836f644719d7e403da376f411": {
      "model_module": "@jupyter-widgets/controls",
      "model_module_version": "1.0.0",
      "model_name": "IntSliderModel",
      "state": {
       "description": "Slider",
       "layout": "IPY_MODEL_e0f4c61ca12541ae90adaa7602ae9ef7",
       "orientation": "vertical",
       "style": "IPY_MODEL_5896b5c339bc44d49ff2e193becb84aa"
      }
     }
    },
    "version_major": 2,
    "version_minor": 0
   }
  }
 },
 "nbformat": 4,
 "nbformat_minor": 1
}
