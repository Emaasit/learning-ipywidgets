{
 "cells": [
  {
   "cell_type": "markdown",
   "metadata": {},
   "source": [
    "## Image Browser"
   ]
  },
  {
   "cell_type": "markdown",
   "metadata": {},
   "source": [
    "This example shows how to browse through a set of images with a slider."
   ]
  },
  {
   "cell_type": "code",
   "execution_count": 1,
   "metadata": {
    "collapsed": true
   },
   "outputs": [],
   "source": [
    "%matplotlib inline\n",
    "import matplotlib.pyplot as plt"
   ]
  },
  {
   "cell_type": "code",
   "execution_count": 2,
   "metadata": {
    "collapsed": true
   },
   "outputs": [],
   "source": [
    "from ipywidgets import interact"
   ]
  },
  {
   "cell_type": "code",
   "execution_count": 3,
   "metadata": {
    "collapsed": true
   },
   "outputs": [],
   "source": [
    "from sklearn import datasets"
   ]
  },
  {
   "cell_type": "markdown",
   "metadata": {},
   "source": [
    "We will use the digits dataset from [scikit-learn](http://scikit-learn.org/stable/)."
   ]
  },
  {
   "cell_type": "code",
   "execution_count": 4,
   "metadata": {
    "collapsed": true
   },
   "outputs": [],
   "source": [
    "digits = datasets.load_digits()"
   ]
  },
  {
   "cell_type": "code",
   "execution_count": 5,
   "metadata": {
    "collapsed": true
   },
   "outputs": [],
   "source": [
    "def browse_images(digits):\n",
    "    n = len(digits.images)\n",
    "    def view_image(i):\n",
    "        plt.imshow(digits.images[i], cmap=plt.cm.gray_r, interpolation='nearest')\n",
    "        plt.title('Training: %s' % digits.target[i])\n",
    "        plt.show()\n",
    "    interact(view_image, i=(0,n-1))"
   ]
  },
  {
   "cell_type": "code",
   "execution_count": 6,
   "metadata": {},
   "outputs": [
    {
     "data": {
      "application/vnd.jupyter.widget-view+json": {
       "model_id": "dc0aa15c3f2445e19d37b61b276d3662",
       "version_major": 2,
       "version_minor": 0
      },
      "text/plain": [
       "A Jupyter Widget"
      ]
     },
     "metadata": {},
     "output_type": "display_data"
    }
   ],
   "source": [
    "browse_images(digits)"
   ]
  },
  {
   "cell_type": "code",
   "execution_count": null,
   "metadata": {
    "collapsed": true
   },
   "outputs": [],
   "source": []
  }
 ],
 "metadata": {
  "kernelspec": {
   "display_name": "Python 3",
   "language": "python",
   "name": "python3"
  },
  "language_info": {
   "codemirror_mode": {
    "name": "ipython",
    "version": 3
   },
   "file_extension": ".py",
   "mimetype": "text/x-python",
   "name": "python",
   "nbconvert_exporter": "python",
   "pygments_lexer": "ipython3",
   "version": "3.6.2"
  },
  "widgets": {
   "application/vnd.jupyter.widget-state+json": {
    "state": {
     "0c7249354c9047dcaf445810027bb31e": {
      "model_module": "@jupyter-widgets/controls",
      "model_module_version": "1.0.0",
      "model_name": "SliderStyleModel",
      "state": {
       "description_width": ""
      }
     },
     "3373a18295834a2eb2a970a1c235eb6a": {
      "model_module": "@jupyter-widgets/base",
      "model_module_version": "1.0.0",
      "model_name": "LayoutModel",
      "state": {}
     },
     "4d57a0fc6be24f2c8add9826da5514b7": {
      "model_module": "@jupyter-widgets/base",
      "model_module_version": "1.0.0",
      "model_name": "LayoutModel",
      "state": {}
     },
     "587a3789dcba44b691e05f5fc0311888": {
      "model_module": "@jupyter-widgets/controls",
      "model_module_version": "1.0.0",
      "model_name": "IntSliderModel",
      "state": {
       "description": "i",
       "layout": "IPY_MODEL_3373a18295834a2eb2a970a1c235eb6a",
       "max": 1796,
       "style": "IPY_MODEL_0c7249354c9047dcaf445810027bb31e",
       "value": 898
      }
     },
     "71af9258701e4cf4bae53ab8d8413cda": {
      "model_module": "@jupyter-widgets/output",
      "model_module_version": "1.0.0",
      "model_name": "OutputModel",
      "state": {
       "layout": "IPY_MODEL_4d57a0fc6be24f2c8add9826da5514b7",
       "outputs": [
        {
         "data": {
          "image/png": "iVBORw0KGgoAAAANSUhEUgAAAPgAAAEICAYAAAByNDmmAAAABHNCSVQICAgIfAhkiAAAAAlwSFlz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\nQmCC\n",
          "text/plain": "<matplotlib.figure.Figure at 0x1101f99e8>"
         },
         "metadata": {},
         "output_type": "display_data"
        }
       ]
      }
     },
     "c9e5b31e9a304f2c809bb3a6e138aac3": {
      "model_module": "@jupyter-widgets/base",
      "model_module_version": "1.0.0",
      "model_name": "LayoutModel",
      "state": {}
     },
     "dc0aa15c3f2445e19d37b61b276d3662": {
      "model_module": "@jupyter-widgets/controls",
      "model_module_version": "1.0.0",
      "model_name": "VBoxModel",
      "state": {
       "_dom_classes": [
        "widget-interact"
       ],
       "children": [
        "IPY_MODEL_587a3789dcba44b691e05f5fc0311888",
        "IPY_MODEL_71af9258701e4cf4bae53ab8d8413cda"
       ],
       "layout": "IPY_MODEL_c9e5b31e9a304f2c809bb3a6e138aac3"
      }
     }
    },
    "version_major": 2,
    "version_minor": 0
   }
  }
 },
 "nbformat": 4,
 "nbformat_minor": 1
}
