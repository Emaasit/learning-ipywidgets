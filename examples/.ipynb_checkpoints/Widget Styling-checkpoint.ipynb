{
 "cells": [
  {
   "cell_type": "markdown",
   "metadata": {},
   "source": [
    "# Layout and Styling of Jupyter widgets\n",
    "\n",
    "This notebook presents how to layout and style Jupyter interactive widgets to build rich and *reactive* widget-based applications."
   ]
  },
  {
   "cell_type": "markdown",
   "metadata": {},
   "source": [
    "## The `layout` attribute.\n",
    "\n",
    "Jupyter interactive widgets have a `layout` attribute exposing a number of CSS properties that impact how widgets are laid out.\n",
    "\n",
    "### Exposed CSS properties\n",
    "\n",
    "<div class=\"alert alert-info\" style=\"margin: 20px\">\n",
    "The following properties map to the values of the CSS properties of the same name (underscores being replaced with dashes), applied to the top DOM elements of the corresponding widget.\n",
    "</div>\n",
    "\n",
    "\n",
    "#### Sizes\n",
    "\n",
    "- `height`\n",
    "- `width`\n",
    "- `max_height`\n",
    "- `max_width`\n",
    "- `min_height`\n",
    "- `min_width`\n",
    "\n",
    "#### Display\n",
    "\n",
    "- `visibility`\n",
    "- `display`\n",
    "- `overflow`\n",
    "- `overflow_x`\n",
    "- `overflow_y`\n",
    "\n",
    "#### Box model\n",
    "\n",
    "- `border` \n",
    "- `margin`\n",
    "- `padding`\n",
    "\n",
    "#### Positioning\n",
    "\n",
    "- `top`\n",
    "- `left`\n",
    "- `bottom`\n",
    "- `right`\n",
    "\n",
    "#### Flexbox\n",
    "\n",
    "- `order`\n",
    "- `flex_flow`\n",
    "- `align_items`\n",
    "- `flex`\n",
    "- `align_self`\n",
    "- `align_content`\n",
    "- `justify_content`\n",
    "\n",
    "\n",
    "### Shorthand CSS properties\n",
    "\n",
    "You may have noticed that certain CSS properties such as `margin-[top/right/bottom/left]` seem to be missing. The same holds for `padding-[top/right/bottom/left]` etc.\n",
    "\n",
    "In fact, you can atomically specify `[top/right/bottom/left]` margins via the `margin` attribute alone by passing the string `'100px 150px 100px 80px'` for a respectively `top`, `right`, `bottom` and `left` margins of  `100`, `150`, `100` and `80` pixels.\n",
    "\n",
    "Similarly, the `flex` attribute can hold values for `flex-grow`, `flex-shrink` and `flex-basis`. The `border` attribute is a shorthand property for `border-width`, `border-style (required)`, and `border-color`."
   ]
  },
  {
   "cell_type": "markdown",
   "metadata": {},
   "source": [
    "### Simple examples"
   ]
  },
  {
   "cell_type": "markdown",
   "metadata": {},
   "source": [
    "The following example shows how to resize a `Button` so that its views have a height of `80px` and a width of `50%` of the available space:"
   ]
  },
  {
   "cell_type": "code",
   "execution_count": 1,
   "metadata": {},
   "outputs": [
    {
     "data": {
      "application/vnd.jupyter.widget-view+json": {
       "model_id": "02ff6e2ffeee41a0a75e4b0c8230066c",
       "version_major": 2,
       "version_minor": 0
      },
      "text/plain": [
       "A Jupyter Widget"
      ]
     },
     "metadata": {},
     "output_type": "display_data"
    }
   ],
   "source": [
    "from ipywidgets import Button, Layout\n",
    "\n",
    "b = Button(description='(50% width, 80px height) button',\n",
    "           layout=Layout(width='50%', height='80px'))\n",
    "b"
   ]
  },
  {
   "cell_type": "markdown",
   "metadata": {},
   "source": [
    "The `layout` property can be shared between multiple widgets and assigned directly."
   ]
  },
  {
   "cell_type": "code",
   "execution_count": 2,
   "metadata": {},
   "outputs": [
    {
     "data": {
      "application/vnd.jupyter.widget-view+json": {
       "model_id": "a37031a8c321479f802b4eccfe3dac6e",
       "version_major": 2,
       "version_minor": 0
      },
      "text/plain": [
       "A Jupyter Widget"
      ]
     },
     "metadata": {},
     "output_type": "display_data"
    }
   ],
   "source": [
    "Button(description='Another button with the same layout', layout=b.layout)"
   ]
  },
  {
   "cell_type": "markdown",
   "metadata": {},
   "source": [
    "### Description"
   ]
  },
  {
   "cell_type": "markdown",
   "metadata": {},
   "source": [
    "You may have noticed that long descriptions are truncated. This is because the description length is, by default, fixed."
   ]
  },
  {
   "cell_type": "code",
   "execution_count": 3,
   "metadata": {},
   "outputs": [
    {
     "data": {
      "application/vnd.jupyter.widget-view+json": {
       "model_id": "a6faf490062244fbb577ba1fba58bfef",
       "version_major": 2,
       "version_minor": 0
      },
      "text/plain": [
       "A Jupyter Widget"
      ]
     },
     "metadata": {},
     "output_type": "display_data"
    }
   ],
   "source": [
    "from ipywidgets import IntSlider\n",
    "\n",
    "IntSlider(description='A too long description')"
   ]
  },
  {
   "cell_type": "markdown",
   "metadata": {},
   "source": [
    "You can change the length of the description to fit the description text. However, this will make the widget itself shorter. You can change both by adjusting the description width and the widget width using the widget's style."
   ]
  },
  {
   "cell_type": "code",
   "execution_count": 4,
   "metadata": {},
   "outputs": [
    {
     "data": {
      "application/vnd.jupyter.widget-view+json": {
       "model_id": "e20de192866c4b78bc7befec8c8cbb6a",
       "version_major": 2,
       "version_minor": 0
      },
      "text/plain": [
       "A Jupyter Widget"
      ]
     },
     "metadata": {},
     "output_type": "display_data"
    }
   ],
   "source": [
    "style = {'description_width': 'initial'}\n",
    "IntSlider(description='A too long description', style=style)"
   ]
  },
  {
   "cell_type": "markdown",
   "metadata": {},
   "source": [
    "If you need more flexibility to lay out widgets and descriptions, you can use Label widgets directly."
   ]
  },
  {
   "cell_type": "code",
   "execution_count": 5,
   "metadata": {},
   "outputs": [
    {
     "data": {
      "application/vnd.jupyter.widget-view+json": {
       "model_id": "3dab232b405b43a58483e077e61bdbcc",
       "version_major": 2,
       "version_minor": 0
      },
      "text/plain": [
       "A Jupyter Widget"
      ]
     },
     "metadata": {},
     "output_type": "display_data"
    }
   ],
   "source": [
    "from ipywidgets import HBox, Label\n",
    "\n",
    "HBox([Label('A too long description'), IntSlider()])"
   ]
  },
  {
   "cell_type": "markdown",
   "metadata": {},
   "source": [
    "### Natural sizes, and arrangements using HBox and VBox\n",
    "\n",
    "Most of the core-widgets have default heights and widths that tile well together. This allows simple layouts based on the `HBox` and `VBox` helper functions to align naturally:"
   ]
  },
  {
   "cell_type": "code",
   "execution_count": 6,
   "metadata": {},
   "outputs": [
    {
     "data": {
      "application/vnd.jupyter.widget-view+json": {
       "model_id": "2016c0ec48904458bf2693bde22e35fb",
       "version_major": 2,
       "version_minor": 0
      },
      "text/plain": [
       "A Jupyter Widget"
      ]
     },
     "metadata": {},
     "output_type": "display_data"
    }
   ],
   "source": [
    "from ipywidgets import Button, HBox, VBox\n",
    "\n",
    "words = ['correct', 'horse', 'battery', 'staple']\n",
    "items = [Button(description=w) for w in words]\n",
    "left_box = VBox([items[0], items[1]])\n",
    "right_box = VBox([items[2], items[3]])\n",
    "HBox([left_box, right_box])"
   ]
  },
  {
   "cell_type": "markdown",
   "metadata": {},
   "source": [
    "### Latex"
   ]
  },
  {
   "cell_type": "markdown",
   "metadata": {},
   "source": [
    "Widgets such as sliders and text inputs have a description attribute that can render Latex Equations. The `Label` widget also renders Latex equations."
   ]
  },
  {
   "cell_type": "code",
   "execution_count": 7,
   "metadata": {
    "collapsed": true
   },
   "outputs": [],
   "source": [
    "from ipywidgets import IntSlider, Label"
   ]
  },
  {
   "cell_type": "code",
   "execution_count": 8,
   "metadata": {},
   "outputs": [
    {
     "data": {
      "application/vnd.jupyter.widget-view+json": {
       "model_id": "1d623c3c991a4ca29386030ebd49b23a",
       "version_major": 2,
       "version_minor": 0
      },
      "text/plain": [
       "A Jupyter Widget"
      ]
     },
     "metadata": {},
     "output_type": "display_data"
    }
   ],
   "source": [
    "IntSlider(description=r'\\(\\int_0^t f\\)')"
   ]
  },
  {
   "cell_type": "code",
   "execution_count": 9,
   "metadata": {},
   "outputs": [
    {
     "data": {
      "application/vnd.jupyter.widget-view+json": {
       "model_id": "37d9f71b9ed043e48cd9318ee5133779",
       "version_major": 2,
       "version_minor": 0
      },
      "text/plain": [
       "A Jupyter Widget"
      ]
     },
     "metadata": {},
     "output_type": "display_data"
    }
   ],
   "source": [
    "Label(value=r'\\(e=mc^2\\)')"
   ]
  },
  {
   "cell_type": "markdown",
   "metadata": {},
   "source": [
    "### Number formatting\n",
    "\n",
    "Sliders have a readout field which can be formatted using Python's [Format Specification Mini-Language](https://docs.python.org/3/library/string.html#format-specification-mini-language). If the space available for the readout is too narrow for the string representation of the slider value, a different styling is applied to show that not all digits are visible."
   ]
  },
  {
   "cell_type": "markdown",
   "metadata": {},
   "source": [
    "## The Flexbox layout\n",
    "\n",
    "The `HBox` and `VBox` classes above are special cases of the `Box` widget.\n",
    "\n",
    "The `Box` widget enables the entire CSS flexbox spec, enabling rich reactive layouts in the Jupyter notebook. It aims at providing an efficient way to lay out, align and distribute space among items in a container.\n",
    "\n",
    "Again, the whole flexbox spec is exposed via the `layout` attribute of the container widget (`Box`) and the contained items. One may share the same `layout` attribute among all the contained items.\n",
    "\n",
    "\n",
    "### Acknowledgement\n",
    "\n",
    "The following flexbox tutorial on the flexbox layout follows the lines of the article [A Complete Guide to Flexbox](https://css-tricks.com/snippets/css/a-guide-to-flexbox/) by Chris Coyier, and uses text and various images from the article [with permission](https://css-tricks.com/license/).\n",
    "\n",
    "### Basics and terminology\n",
    "\n",
    "Since flexbox is a whole module and not a single property, it involves a lot of things including its whole set of properties. Some of them are meant to be set on the container (parent element, known as \"flex container\") whereas the others are meant to be set on the children (known as \"flex items\").\n",
    "\n",
    "If regular layout is based on both block and inline flow directions, the flex layout is based on \"flex-flow directions\". Please have a look at this figure from the specification, explaining the main idea behind the flex layout.\n",
    "\n",
    "![Flexbox](./images/flexbox.png)\n",
    "\n",
    "Basically, items will be laid out following either the `main axis` (from `main-start` to `main-end`) or the `cross axis` (from `cross-start` to `cross-end`).\n",
    "\n",
    "- `main axis` - The main axis of a flex container is the primary axis along which flex items are laid out. Beware, it is not necessarily horizontal; it depends on the flex-direction property (see below).\n",
    "- `main-start | main-end` - The flex items are placed within the container starting from main-start and going to main-end.\n",
    "- `main size` - A flex item's width or height, whichever is in the main dimension, is the item's main size. The flex item's main size property is either the ‘width’ or ‘height’ property, whichever is in the main dimension.\n",
    "cross axis - The axis perpendicular to the main axis is called the cross axis. Its direction depends on the main axis direction.\n",
    "- `cross-start | cross-end` - Flex lines are filled with items and placed into the container starting on the cross-start side of the flex container and going toward the cross-end side.\n",
    "- `cross size` - The width or height of a flex item, whichever is in the cross dimension, is the item's cross size. The cross size property is whichever of ‘width’ or ‘height’ that is in the cross dimension.\n",
    "\n",
    "### Properties of the parent\n",
    "\n",
    "![Container](./images/flex-container.svg)\n",
    "\n",
    "#### display\n",
    "\n",
    "`display` can be `flex` or `inline-flex`. This defines a flex container (block or inline).\n",
    "\n",
    "#### flex-flow\n",
    "\n",
    "`flex-flow` is a shorthand for the `flex-direction` and `flex-wrap` properties, which together define the flex container's main and cross axes. Default is `row nowrap`.\n",
    "\n",
    "- `flex-direction` (column-reverse | column | row | row-reverse )\n",
    "\n",
    "  This establishes the main-axis, thus defining the direction flex items are placed in the flex container. Flexbox is (aside from optional wrapping) a single-direction layout concept. Think of flex items as primarily laying out either in horizontal rows or vertical columns.\n",
    "![Direction](./images/flex-direction1.svg)\n",
    "\n",
    "- `flex-wrap` (nowrap | wrap | wrap-reverse)\n",
    "\n",
    "  By default, flex items will all try to fit onto one line. You can change that and allow the items to wrap as needed with this property. Direction also plays a role here, determining the direction new lines are stacked in.\n",
    "![Wrap](./images/flex-wrap.svg)\n",
    "\n",
    "#### justify-content\n",
    "\n",
    "`justify-content` can be one of `flex-start`, `flex-end`, `center`, `space-between`, `space-around`. This defines the alignment along the main axis. It helps distribute extra free space left over when either all the flex items on a line are inflexible, or are flexible but have reached their maximum size. It also exerts some control over the alignment of items when they overflow the line.\n",
    "  ![Justify](./images/justify-content.svg)\n",
    "\n",
    "#### align-items\n",
    "\n",
    "`align-items` can be one of `flex-start`, `flex-end`, `center`, `baseline`, `stretch`. This defines the default behaviour for how flex items are laid out along the cross axis on the current line. Think of it as the justify-content version for the cross-axis (perpendicular to the main-axis).\n",
    "   ![Items](./images/align-items.svg)\n",
    "   \n",
    "#### align-content\n",
    "`align-content` can be one of `flex-start`, `flex-end`, `center`, `baseline`, `stretch`. This aligns a flex container's lines within when there is extra space in the cross-axis, similar to how justify-content aligns individual items within the main-axis.\n",
    "![Items](./images/align-content.svg)\n",
    "\n",
    "**Note**: this property has no effect when there is only one line of flex items.\n",
    "\n",
    "### Properties of the items\n",
    "\n",
    "![Item](./images/flex-items.svg)\n",
    "\n",
    "The flexbox-related CSS properties of the items have no impact if the parent element is not a flexbox container (i.e. has a `display` attribute equal to `flex` or `inline-flex`).\n",
    "\n",
    "#### order\n",
    "By default, flex items are laid out in the source order. However, the `order` property controls the order in which they appear in the flex container.\n",
    "<img src=\"./images/order-2.svg\" alt=\"Order\" style=\"width: 500px;\"/>\n",
    "   \n",
    "#### flex\n",
    "`flex` is shorthand for three properties, `flex-grow`, `flex-shrink` and `flex-basis` combined. The second and third parameters (`flex-shrink` and `flex-basis`) are optional. Default is `0 1 auto`.\n",
    "   \n",
    "  - `flex-grow`\n",
    "\n",
    "    This defines the ability for a flex item to grow if necessary. It accepts a unitless value that serves as a proportion. It dictates what amount of the available space inside the flex container the item should take up.\n",
    "\n",
    "    If all items have flex-grow set to 1, the remaining space in the container will be distributed equally to all children. If one of the children a value of 2, the remaining space would take up twice as much space as the others (or it will try to, at least).\n",
    "      ![Grow](./images/flex-grow.svg)\n",
    "\n",
    "  - `flex-shrink`\n",
    "\n",
    "    This defines the ability for a flex item to shrink if necessary.\n",
    "\n",
    "  - `flex-basis`\n",
    "\n",
    "    This defines the default size of an element before the remaining space is distributed. It can be a length (e.g. `20%`, `5rem`, etc.) or a keyword. The `auto` keyword means *\"look at my width or height property\"*.\n",
    " \n",
    "#### align-self\n",
    "\n",
    "`align-self` allows the default alignment (or the one specified by align-items) to be overridden for individual flex items.\n",
    "\n",
    "![Align](./images/align-self.svg)\n",
    "\n",
    "### The VBox and HBox helpers\n",
    "\n",
    "The `VBox` and `HBox` helper classes provide simple defaults to arrange child widgets in vertical and horizontal boxes. They are roughly equivalent to:\n",
    "\n",
    "```Python\n",
    "def VBox(*pargs, **kwargs):\n",
    "    \"\"\"Displays multiple widgets vertically using the flexible box model.\"\"\"\n",
    "    box = Box(*pargs, **kwargs)\n",
    "    box.layout.display = 'flex'\n",
    "    box.layout.flex_flow = 'column'\n",
    "    box.layout.align_items = 'stretch'\n",
    "    return box\n",
    "\n",
    "def HBox(*pargs, **kwargs):\n",
    "    \"\"\"Displays multiple widgets horizontally using the flexible box model.\"\"\"\n",
    "    box = Box(*pargs, **kwargs)\n",
    "    box.layout.display = 'flex'\n",
    "    box.layout.align_items = 'stretch'\n",
    "    return box\n",
    "```\n",
    "\n",
    "\n",
    "### Examples"
   ]
  },
  {
   "cell_type": "markdown",
   "metadata": {},
   "source": [
    "**Four buttons in a VBox. Items stretch to the maximum width, in a vertical box taking `50%` of the available space.**"
   ]
  },
  {
   "cell_type": "code",
   "execution_count": 10,
   "metadata": {},
   "outputs": [
    {
     "data": {
      "application/vnd.jupyter.widget-view+json": {
       "model_id": "0bd3ef68f81141859b6fb4fe529cd47c",
       "version_major": 2,
       "version_minor": 0
      },
      "text/plain": [
       "A Jupyter Widget"
      ]
     },
     "metadata": {},
     "output_type": "display_data"
    }
   ],
   "source": [
    "from ipywidgets import Layout, Button, Box\n",
    "\n",
    "items_layout = Layout(flex='1 1 auto',\n",
    "                      width='auto')     # override the default width of the button to 'auto' to let the button grow\n",
    "\n",
    "box_layout = Layout(display='flex',\n",
    "                    flex_flow='column', \n",
    "                    align_items='stretch', \n",
    "                    border='solid',\n",
    "                    width='50%')\n",
    "\n",
    "words = ['correct', 'horse', 'battery', 'staple']\n",
    "items = [Button(description=w, layout=items_layout, button_style='danger') for w in words]\n",
    "box = Box(children=items, layout=box_layout)\n",
    "box"
   ]
  },
  {
   "cell_type": "markdown",
   "metadata": {},
   "source": [
    "**Three buttons in an HBox. Items flex proportionaly to their weight.**"
   ]
  },
  {
   "cell_type": "code",
   "execution_count": 11,
   "metadata": {},
   "outputs": [
    {
     "data": {
      "application/vnd.jupyter.widget-view+json": {
       "model_id": "c3fae98470104b9189982a8f1276f239",
       "version_major": 2,
       "version_minor": 0
      },
      "text/plain": [
       "A Jupyter Widget"
      ]
     },
     "metadata": {},
     "output_type": "display_data"
    }
   ],
   "source": [
    "from ipywidgets import Layout, Button, Box\n",
    "\n",
    "items = [\n",
    "    Button(description='weight=1'),\n",
    "    Button(description='weight=2', layout=Layout(flex='2 1 auto', width='auto')),\n",
    "    Button(description='weight=1'),\n",
    " ]\n",
    "\n",
    "box_layout = Layout(display='flex',\n",
    "                    flex_flow='row', \n",
    "                    align_items='stretch', \n",
    "                    border='solid',\n",
    "                    width='50%')\n",
    "box = Box(children=items, layout=box_layout)\n",
    "box"
   ]
  },
  {
   "cell_type": "markdown",
   "metadata": {},
   "source": [
    "**A more advanced example: a reactive form.**\n",
    "\n",
    "The form is a `VBox` of width '50%'. Each row in the VBox is an HBox, that justifies the content with space between.."
   ]
  },
  {
   "cell_type": "code",
   "execution_count": 12,
   "metadata": {},
   "outputs": [
    {
     "data": {
      "application/vnd.jupyter.widget-view+json": {
       "model_id": "959ffd7488a5488394ac2b86c1a0a9c9",
       "version_major": 2,
       "version_minor": 0
      },
      "text/plain": [
       "A Jupyter Widget"
      ]
     },
     "metadata": {},
     "output_type": "display_data"
    }
   ],
   "source": [
    "from ipywidgets import Layout, Button, Box, FloatText, Textarea, Dropdown, Label, IntSlider\n",
    "\n",
    "form_item_layout = Layout(\n",
    "    display='flex',\n",
    "    flex_flow='row',\n",
    "    justify_content='space-between'\n",
    ")\n",
    "\n",
    "form_items = [\n",
    "    Box([Label(value='Age of the captain'), IntSlider(min=40, max=60)], layout=form_item_layout),\n",
    "    Box([Label(value='Egg style'), \n",
    "         Dropdown(options=['Scrambled', 'Sunny side up', 'Over easy'])], layout=form_item_layout),\n",
    "    Box([Label(value='Ship size'), \n",
    "         FloatText()], layout=form_item_layout),\n",
    "    Box([Label(value='Information'), \n",
    "         Textarea()], layout=form_item_layout)\n",
    "]\n",
    "\n",
    "form = Box(form_items, layout=Layout(\n",
    "    display='flex',\n",
    "    flex_flow='column',\n",
    "    border='solid 2px',\n",
    "    align_items='stretch',\n",
    "    width='50%'\n",
    "))\n",
    "form"
   ]
  },
  {
   "cell_type": "markdown",
   "metadata": {},
   "source": [
    "**A more advanced example: a carousel.**"
   ]
  },
  {
   "cell_type": "code",
   "execution_count": 13,
   "metadata": {},
   "outputs": [
    {
     "data": {
      "application/vnd.jupyter.widget-view+json": {
       "model_id": "e0e610b5ae0546c7a8da1a4c7047c94c",
       "version_major": 2,
       "version_minor": 0
      },
      "text/plain": [
       "A Jupyter Widget"
      ]
     },
     "metadata": {},
     "output_type": "display_data"
    }
   ],
   "source": [
    "from ipywidgets import Layout, Button, Box\n",
    "\n",
    "item_layout = Layout(height='100px', min_width='40px')\n",
    "items = [Button(layout=item_layout, description=str(i), button_style='warning') for i in range(40)]\n",
    "box_layout = Layout(overflow_x='scroll',\n",
    "                    border='3px solid black',\n",
    "                    width='500px',\n",
    "                    height='',\n",
    "                    flex_direction='row',\n",
    "                    display='flex')\n",
    "carousel = Box(children=items, layout=box_layout)\n",
    "VBox([Label('Scroll horizontally:'), carousel])"
   ]
  },
  {
   "cell_type": "markdown",
   "metadata": {},
   "source": [
    "## Predefined styles\n",
    "\n",
    "If you wish the styling of widgets to make use of colors and styles defined by the environment (to be consistent with e.g. a notebook theme), many widgets enable choosing in a list of pre-defined styles.\n",
    "\n",
    "For example, the `Button` widget has a `button_style` attribute that may take 5 different values:\n",
    "\n",
    " - `'primary'`\n",
    " - `'success'`\n",
    " - `'info'`\n",
    " - `'warning'`\n",
    " - `'danger'`\n",
    "\n",
    "besides the default empty string ''."
   ]
  },
  {
   "cell_type": "code",
   "execution_count": 14,
   "metadata": {},
   "outputs": [
    {
     "data": {
      "application/vnd.jupyter.widget-view+json": {
       "model_id": "0abac824f64f4de080e4f3bf9d19a3aa",
       "version_major": 2,
       "version_minor": 0
      },
      "text/plain": [
       "A Jupyter Widget"
      ]
     },
     "metadata": {},
     "output_type": "display_data"
    }
   ],
   "source": [
    "from ipywidgets import Button\n",
    "\n",
    "Button(description='Danger Button', button_style='danger')"
   ]
  },
  {
   "cell_type": "markdown",
   "metadata": {},
   "source": [
    "## The `style` attribute\n",
    "\n",
    "While the `layout` attribute only exposes layout-related CSS properties for the top-level DOM element of widgets, the  \n",
    "`style` attribute is used to expose non-layout related styling attributes of widgets.\n",
    "\n",
    "However, the properties of the `style` atribute are specific to each widget type."
   ]
  },
  {
   "cell_type": "code",
   "execution_count": 15,
   "metadata": {},
   "outputs": [
    {
     "data": {
      "application/vnd.jupyter.widget-view+json": {
       "model_id": "0bfdfc7e1cc047f392733010ca26bfb5",
       "version_major": 2,
       "version_minor": 0
      },
      "text/plain": [
       "A Jupyter Widget"
      ]
     },
     "metadata": {},
     "output_type": "display_data"
    }
   ],
   "source": [
    "b1 = Button(description='Custom color')\n",
    "b1.style.button_color = 'lightgreen'\n",
    "b1"
   ]
  },
  {
   "cell_type": "markdown",
   "metadata": {},
   "source": [
    "You can get a list of the style attributes for a widget with the `keys` property."
   ]
  },
  {
   "cell_type": "code",
   "execution_count": 16,
   "metadata": {},
   "outputs": [
    {
     "data": {
      "text/plain": [
       "['_model_module',\n",
       " '_model_module_version',\n",
       " '_model_name',\n",
       " '_view_count',\n",
       " '_view_module',\n",
       " '_view_module_version',\n",
       " '_view_name',\n",
       " 'button_color',\n",
       " 'font_weight']"
      ]
     },
     "execution_count": 16,
     "metadata": {},
     "output_type": "execute_result"
    }
   ],
   "source": [
    "b1.style.keys"
   ]
  },
  {
   "cell_type": "markdown",
   "metadata": {},
   "source": [
    "Just like the `layout` attribute, widget styles can be assigned to other widgets."
   ]
  },
  {
   "cell_type": "code",
   "execution_count": 17,
   "metadata": {},
   "outputs": [
    {
     "data": {
      "application/vnd.jupyter.widget-view+json": {
       "model_id": "a745f99947b2421dbe367e256e795903",
       "version_major": 2,
       "version_minor": 0
      },
      "text/plain": [
       "A Jupyter Widget"
      ]
     },
     "metadata": {},
     "output_type": "display_data"
    }
   ],
   "source": [
    "b2 = Button()\n",
    "b2.style = b1.style\n",
    "b2"
   ]
  },
  {
   "cell_type": "markdown",
   "metadata": {},
   "source": [
    "Widget styling attributes are specific to each widget type."
   ]
  },
  {
   "cell_type": "code",
   "execution_count": 18,
   "metadata": {},
   "outputs": [
    {
     "data": {
      "application/vnd.jupyter.widget-view+json": {
       "model_id": "b23e198d2d1041188ca6b78471348930",
       "version_major": 2,
       "version_minor": 0
      },
      "text/plain": [
       "A Jupyter Widget"
      ]
     },
     "metadata": {},
     "output_type": "display_data"
    }
   ],
   "source": [
    "s1 = IntSlider(description='Blue handle')\n",
    "s1.style.handle_color = 'lightblue'\n",
    "s1"
   ]
  }
 ],
 "metadata": {
  "kernelspec": {
   "display_name": "Python 3",
   "language": "python",
   "name": "python3"
  },
  "language_info": {
   "codemirror_mode": {
    "name": "ipython",
    "version": 3
   },
   "file_extension": ".py",
   "mimetype": "text/x-python",
   "name": "python",
   "nbconvert_exporter": "python",
   "pygments_lexer": "ipython3",
   "version": "3.6.2"
  },
  "widgets": {
   "application/vnd.jupyter.widget-state+json": {
    "state": {
     "02ff6e2ffeee41a0a75e4b0c8230066c": {
      "model_module": "@jupyter-widgets/controls",
      "model_module_version": "1.0.0",
      "model_name": "ButtonModel",
      "state": {
       "description": "(50% width, 80px height) button",
       "layout": "IPY_MODEL_78f597e050054a95b6c204a4d5c5ba12",
       "style": "IPY_MODEL_c9b52da5c53a4b69ba7d1f2804145b2e"
      }
     },
     "03d2f10cca034a13962696fbf2ce6d4d": {
      "model_module": "@jupyter-widgets/controls",
      "model_module_version": "1.0.0",
      "model_name": "ButtonModel",
      "state": {
       "button_style": "warning",
       "description": "11",
       "layout": "IPY_MODEL_86c93170059349499a5f76156cbd8cdf",
       "style": "IPY_MODEL_26809c04c3aa4cd3954680cef6271da3"
      }
     },
     "0474bebc718a4d479893258403ee6d98": {
      "model_module": "@jupyter-widgets/controls",
      "model_module_version": "1.0.0",
      "model_name": "BoxModel",
      "state": {
       "children": [
        "IPY_MODEL_ff83abaf008e428cb7ea0ebc26e3b22a",
        "IPY_MODEL_3f7bc0f4ffbb4072b8c559319289a99c"
       ],
       "layout": "IPY_MODEL_9cec86147f73446a81e86fe6e7ee1f15"
      }
     },
     "0495d268740a478fb417a9353429380e": {
      "model_module": "@jupyter-widgets/controls",
      "model_module_version": "1.0.0",
      "model_name": "ButtonStyleModel",
      "state": {}
     },
     "04e471f5df84465ea59b9a5b11f4bf23": {
      "model_module": "@jupyter-widgets/base",
      "model_module_version": "1.0.0",
      "model_name": "LayoutModel",
      "state": {}
     },
     "06181f317c114c798f759ee857d3f190": {
      "model_module": "@jupyter-widgets/controls",
      "model_module_version": "1.0.0",
      "model_name": "ButtonStyleModel",
      "state": {}
     },
     "064bcdedc66840d69c61ad3a0d23e585": {
      "model_module": "@jupyter-widgets/controls",
      "model_module_version": "1.0.0",
      "model_name": "ButtonStyleModel",
      "state": {}
     },
     "068098de804041e281ea697d7ec634bd": {
      "model_module": "@jupyter-widgets/base",
      "model_module_version": "1.0.0",
      "model_name": "LayoutModel",
      "state": {}
     },
     "084767ec12244bb382ac5c5d82498d2e": {
      "model_module": "@jupyter-widgets/controls",
      "model_module_version": "1.0.0",
      "model_name": "ButtonStyleModel",
      "state": {}
     },
     "0909dd3c366f464d8d087092ae83fb00": {
      "model_module": "@jupyter-widgets/controls",
      "model_module_version": "1.0.0",
      "model_name": "ButtonModel",
      "state": {
       "button_style": "warning",
       "description": "1",
       "layout": "IPY_MODEL_86c93170059349499a5f76156cbd8cdf",
       "style": "IPY_MODEL_f17377771f7049e190a14b5c5eceb10d"
      }
     },
     "0951adc347ce4785b1ca5044c793a8dc": {
      "model_module": "@jupyter-widgets/controls",
      "model_module_version": "1.0.0",
      "model_name": "ButtonStyleModel",
      "state": {}
     },
     "0abac824f64f4de080e4f3bf9d19a3aa": {
      "model_module": "@jupyter-widgets/controls",
      "model_module_version": "1.0.0",
      "model_name": "ButtonModel",
      "state": {
       "button_style": "danger",
       "description": "Danger Button",
       "layout": "IPY_MODEL_2aa917f6da45476d91d52f08c93cee50",
       "style": "IPY_MODEL_e97b5a0afdcd4da5acdea782e5f27e71"
      }
     },
     "0ace049e703d4b3791d6f4e69084427b": {
      "model_module": "@jupyter-widgets/controls",
      "model_module_version": "1.0.0",
      "model_name": "ButtonStyleModel",
      "state": {}
     },
     "0b24fc39831441a9b6941a82edfbaaf1": {
      "model_module": "@jupyter-widgets/controls",
      "model_module_version": "1.0.0",
      "model_name": "BoxModel",
      "state": {
       "children": [
        "IPY_MODEL_9be60ad4ef5b4282a97125f138ad132b",
        "IPY_MODEL_c4cde0fc628c460397f664c2cd761f86"
       ],
       "layout": "IPY_MODEL_9cec86147f73446a81e86fe6e7ee1f15"
      }
     },
     "0bd3ef68f81141859b6fb4fe529cd47c": {
      "model_module": "@jupyter-widgets/controls",
      "model_module_version": "1.0.0",
      "model_name": "BoxModel",
      "state": {
       "children": [
        "IPY_MODEL_6f75f0851b4c40599d7d88100d52be88",
        "IPY_MODEL_c5d70bcfed9a4fabb59ad583a585726c",
        "IPY_MODEL_5af7ad0112994392818b1cee40ff5364",
        "IPY_MODEL_9629717020df48c5a34b08201c90d2c4"
       ],
       "layout": "IPY_MODEL_afa401374e3e4bdaa3c3048f6cebfd9e"
      }
     },
     "0bfdfc7e1cc047f392733010ca26bfb5": {
      "model_module": "@jupyter-widgets/controls",
      "model_module_version": "1.0.0",
      "model_name": "ButtonModel",
      "state": {
       "description": "Custom color",
       "layout": "IPY_MODEL_d87741c2d4ee455d8360e382ae57ee64",
       "style": "IPY_MODEL_de2208827b4f48c68915e881ca794115"
      }
     },
     "0c77439d99134b369caca19a25d2d3f2": {
      "model_module": "@jupyter-widgets/controls",
      "model_module_version": "1.0.0",
      "model_name": "ButtonStyleModel",
      "state": {}
     },
     "0da17df2857140809605f302cd8fa998": {
      "model_module": "@jupyter-widgets/controls",
      "model_module_version": "1.0.0",
      "model_name": "BoxModel",
      "state": {
       "children": [
        "IPY_MODEL_110a3a070d534f9fafd63b6b8e536ab5",
        "IPY_MODEL_c244b4c92e614670ab9ad69f78ea1b38"
       ],
       "layout": "IPY_MODEL_9cec86147f73446a81e86fe6e7ee1f15"
      }
     },
     "0de0a4ede1704419991adbf8320b84f9": {
      "model_module": "@jupyter-widgets/controls",
      "model_module_version": "1.0.0",
      "model_name": "ButtonStyleModel",
      "state": {}
     },
     "0e5afcffed4e47e18d97bd2dc561877f": {
      "model_module": "@jupyter-widgets/controls",
      "model_module_version": "1.0.0",
      "model_name": "DescriptionStyleModel",
      "state": {
       "description_width": ""
      }
     },
     "10efb154252045eab676fc357f71490a": {
      "model_module": "@jupyter-widgets/controls",
      "model_module_version": "1.0.0",
      "model_name": "IntSliderModel",
      "state": {
       "layout": "IPY_MODEL_4e78e99b94624044961f9a2aff616578",
       "max": 60,
       "min": 40,
       "style": "IPY_MODEL_7e3080c262864925b5208347c7bfe115",
       "value": 40
      }
     },
     "110a3a070d534f9fafd63b6b8e536ab5": {
      "model_module": "@jupyter-widgets/controls",
      "model_module_version": "1.0.0",
      "model_name": "LabelModel",
      "state": {
       "layout": "IPY_MODEL_384591c27dba454a8167ec6a914f3d4c",
       "style": "IPY_MODEL_b0ca8a293663460e8b7d9f3e10f3575e",
       "value": "Egg style"
      }
     },
     "13af18f71e7349c7b08ccbf7e8f150ab": {
      "model_module": "@jupyter-widgets/controls",
      "model_module_version": "1.0.0",
      "model_name": "ButtonStyleModel",
      "state": {}
     },
     "14af3452480f458297990e6dc0e4feca": {
      "model_module": "@jupyter-widgets/controls",
      "model_module_version": "1.0.0",
      "model_name": "ButtonModel",
      "state": {
       "button_style": "warning",
       "description": "31",
       "layout": "IPY_MODEL_86c93170059349499a5f76156cbd8cdf",
       "style": "IPY_MODEL_67620e6a5449490a8b2ecb27586a04c1"
      }
     },
     "19334b76b10a45e6b06c3de0f9649173": {
      "model_module": "@jupyter-widgets/controls",
      "model_module_version": "1.0.0",
      "model_name": "ButtonStyleModel",
      "state": {}
     },
     "1a23f155631a4393b5cf51028b267023": {
      "model_module": "@jupyter-widgets/controls",
      "model_module_version": "1.0.0",
      "model_name": "ButtonModel",
      "state": {
       "button_style": "warning",
       "description": "25",
       "layout": "IPY_MODEL_86c93170059349499a5f76156cbd8cdf",
       "style": "IPY_MODEL_e97288a6d58c4c96999ac775891f8048"
      }
     },
     "1b969a5a33434407ac600334c65b44bd": {
      "model_module": "@jupyter-widgets/controls",
      "model_module_version": "1.0.0",
      "model_name": "ButtonStyleModel",
      "state": {}
     },
     "1d623c3c991a4ca29386030ebd49b23a": {
      "model_module": "@jupyter-widgets/controls",
      "model_module_version": "1.0.0",
      "model_name": "IntSliderModel",
      "state": {
       "description": "\\(\\int_0^t f\\)",
       "layout": "IPY_MODEL_7124c76bb4aa4441b3d187dfc0b8b423",
       "style": "IPY_MODEL_ca7985d3abca46adb4fef796e2fe7220"
      }
     },
     "2016c0ec48904458bf2693bde22e35fb": {
      "model_module": "@jupyter-widgets/controls",
      "model_module_version": "1.0.0",
      "model_name": "HBoxModel",
      "state": {
       "children": [
        "IPY_MODEL_4142d55aad464e39822b7f70d9d49b39",
        "IPY_MODEL_6e1d632d7347464090b7473164d6ed84"
       ],
       "layout": "IPY_MODEL_6d54d28ad21a4cf0864a0845b5c61582"
      }
     },
     "21fe4ddb707b4d89a5c0cb187b7db377": {
      "model_module": "@jupyter-widgets/controls",
      "model_module_version": "1.0.0",
      "model_name": "SliderStyleModel",
      "state": {
       "description_width": ""
      }
     },
     "266efae4a6144a01a622001aad39c189": {
      "model_module": "@jupyter-widgets/controls",
      "model_module_version": "1.0.0",
      "model_name": "ButtonStyleModel",
      "state": {}
     },
     "26809c04c3aa4cd3954680cef6271da3": {
      "model_module": "@jupyter-widgets/controls",
      "model_module_version": "1.0.0",
      "model_name": "ButtonStyleModel",
      "state": {}
     },
     "28644a21964441f4986bde27379ce02b": {
      "model_module": "@jupyter-widgets/base",
      "model_module_version": "1.0.0",
      "model_name": "LayoutModel",
      "state": {}
     },
     "287006c856694fb096d94ecf36da90a9": {
      "model_module": "@jupyter-widgets/controls",
      "model_module_version": "1.0.0",
      "model_name": "ButtonStyleModel",
      "state": {}
     },
     "29814439e9144be3aacdb2bfdd7a5349": {
      "model_module": "@jupyter-widgets/controls",
      "model_module_version": "1.0.0",
      "model_name": "ButtonModel",
      "state": {
       "button_style": "warning",
       "description": "27",
       "layout": "IPY_MODEL_86c93170059349499a5f76156cbd8cdf",
       "style": "IPY_MODEL_f79b7ab5630e4514b4b76e9700d1c127"
      }
     },
     "299c3dd0d01849af9a514fa35747f40a": {
      "model_module": "@jupyter-widgets/controls",
      "model_module_version": "1.0.0",
      "model_name": "ButtonModel",
      "state": {
       "button_style": "warning",
       "description": "36",
       "layout": "IPY_MODEL_86c93170059349499a5f76156cbd8cdf",
       "style": "IPY_MODEL_0de0a4ede1704419991adbf8320b84f9"
      }
     },
     "2a930140bcea421d8d09fcf63f00632e": {
      "model_module": "@jupyter-widgets/base",
      "model_module_version": "1.0.0",
      "model_name": "LayoutModel",
      "state": {}
     },
     "2aa917f6da45476d91d52f08c93cee50": {
      "model_module": "@jupyter-widgets/base",
      "model_module_version": "1.0.0",
      "model_name": "LayoutModel",
      "state": {}
     },
     "2adeb1226af14019b73c4de8a28a23cf": {
      "model_module": "@jupyter-widgets/controls",
      "model_module_version": "1.0.0",
      "model_name": "ButtonStyleModel",
      "state": {}
     },
     "2cb621fbacc74976b23ce11629c9e7ac": {
      "model_module": "@jupyter-widgets/controls",
      "model_module_version": "1.0.0",
      "model_name": "ButtonStyleModel",
      "state": {}
     },
     "2dbc5b27b5a84121af55dee0f1d248f6": {
      "model_module": "@jupyter-widgets/controls",
      "model_module_version": "1.0.0",
      "model_name": "ButtonModel",
      "state": {
       "button_style": "warning",
       "description": "33",
       "layout": "IPY_MODEL_86c93170059349499a5f76156cbd8cdf",
       "style": "IPY_MODEL_acd1c1b8563348fba435e7bbe312e87a"
      }
     },
     "2e7d5587673b42ff981bea38d4a1f472": {
      "model_module": "@jupyter-widgets/controls",
      "model_module_version": "1.0.0",
      "model_name": "ButtonStyleModel",
      "state": {}
     },
     "2f65966be1d2480fa60e34fc61858b2f": {
      "model_module": "@jupyter-widgets/base",
      "model_module_version": "1.0.0",
      "model_name": "LayoutModel",
      "state": {}
     },
     "3168e8996b9646438c3da41646163b95": {
      "model_module": "@jupyter-widgets/controls",
      "model_module_version": "1.0.0",
      "model_name": "ButtonModel",
      "state": {
       "button_style": "warning",
       "description": "2",
       "layout": "IPY_MODEL_86c93170059349499a5f76156cbd8cdf",
       "style": "IPY_MODEL_eb519ea549d74d80a53b7fde8954f646"
      }
     },
     "3245b9e93a9e411a950d348a7b1024ca": {
      "model_module": "@jupyter-widgets/controls",
      "model_module_version": "1.0.0",
      "model_name": "ButtonStyleModel",
      "state": {}
     },
     "3614723fabfe46d9af33152b30efbcdd": {
      "model_module": "@jupyter-widgets/controls",
      "model_module_version": "1.0.0",
      "model_name": "DescriptionStyleModel",
      "state": {
       "description_width": ""
      }
     },
     "3692fd149d7b4b7993f4215dc144b7d4": {
      "model_module": "@jupyter-widgets/base",
      "model_module_version": "1.0.0",
      "model_name": "LayoutModel",
      "state": {}
     },
     "36fd4ad8839c4208af2e75ec74575f67": {
      "model_module": "@jupyter-widgets/base",
      "model_module_version": "1.0.0",
      "model_name": "LayoutModel",
      "state": {}
     },
     "37d9f71b9ed043e48cd9318ee5133779": {
      "model_module": "@jupyter-widgets/controls",
      "model_module_version": "1.0.0",
      "model_name": "LabelModel",
      "state": {
       "layout": "IPY_MODEL_4a282fe84af443ddbc18638f25f1b2aa",
       "style": "IPY_MODEL_f1ea935c68574f75a7be4e1548c1065e",
       "value": "\\(e=mc^2\\)"
      }
     },
     "384591c27dba454a8167ec6a914f3d4c": {
      "model_module": "@jupyter-widgets/base",
      "model_module_version": "1.0.0",
      "model_name": "LayoutModel",
      "state": {}
     },
     "386ba40f1dd847568beb6e7b7c81599b": {
      "model_module": "@jupyter-widgets/base",
      "model_module_version": "1.0.0",
      "model_name": "LayoutModel",
      "state": {}
     },
     "38e605f60ee24d778110f3ec8289d4c2": {
      "model_module": "@jupyter-widgets/controls",
      "model_module_version": "1.0.0",
      "model_name": "ButtonModel",
      "state": {
       "button_style": "warning",
       "description": "5",
       "layout": "IPY_MODEL_86c93170059349499a5f76156cbd8cdf",
       "style": "IPY_MODEL_519d2b391cb344eba7ccbfd9febfecc3"
      }
     },
     "3ad0cbfd365a431787af4b15cd2f423f": {
      "model_module": "@jupyter-widgets/controls",
      "model_module_version": "1.0.0",
      "model_name": "ButtonModel",
      "state": {
       "description": "staple",
       "layout": "IPY_MODEL_a89a3fa8e69f47d7ac2ee4df32f48e99",
       "style": "IPY_MODEL_6977ab1dfb394ffea855230d6b789a5f"
      }
     },
     "3d6d73b0803c47c99781f8f5bd870104": {
      "model_module": "@jupyter-widgets/controls",
      "model_module_version": "1.0.0",
      "model_name": "ButtonModel",
      "state": {
       "button_style": "warning",
       "description": "30",
       "layout": "IPY_MODEL_86c93170059349499a5f76156cbd8cdf",
       "style": "IPY_MODEL_90fbc727b4564aa390c44ca5e957c356"
      }
     },
     "3dab232b405b43a58483e077e61bdbcc": {
      "model_module": "@jupyter-widgets/controls",
      "model_module_version": "1.0.0",
      "model_name": "HBoxModel",
      "state": {
       "children": [
        "IPY_MODEL_d7d7f989f8b14073b38926ad47009c5a",
        "IPY_MODEL_84447ea46574451f888023d1020d2f9c"
       ],
       "layout": "IPY_MODEL_28644a21964441f4986bde27379ce02b"
      }
     },
     "3dfd668465e440118f1564a33f4c74e4": {
      "model_module": "@jupyter-widgets/controls",
      "model_module_version": "1.0.0",
      "model_name": "ButtonModel",
      "state": {
       "description": "correct",
       "layout": "IPY_MODEL_d8fe3ef1a6a8463bae6d38c429f5ed42",
       "style": "IPY_MODEL_8f652531882e4c85a5394972768d3fbd"
      }
     },
     "3f7bc0f4ffbb4072b8c559319289a99c": {
      "model_module": "@jupyter-widgets/controls",
      "model_module_version": "1.0.0",
      "model_name": "FloatTextModel",
      "state": {
       "layout": "IPY_MODEL_93ca3bf8f5bb4a0596eab63c0b600680",
       "step": null,
       "style": "IPY_MODEL_a0ca0c36e11c4ed2a8f822ac774437cf"
      }
     },
     "40ffc9f6574749b1b8de840437770d2f": {
      "model_module": "@jupyter-widgets/controls",
      "model_module_version": "1.0.0",
      "model_name": "ButtonModel",
      "state": {
       "button_style": "warning",
       "description": "20",
       "layout": "IPY_MODEL_86c93170059349499a5f76156cbd8cdf",
       "style": "IPY_MODEL_d6cfa902402c4241a698ed4b8771fb74"
      }
     },
     "4142d55aad464e39822b7f70d9d49b39": {
      "model_module": "@jupyter-widgets/controls",
      "model_module_version": "1.0.0",
      "model_name": "VBoxModel",
      "state": {
       "children": [
        "IPY_MODEL_3dfd668465e440118f1564a33f4c74e4",
        "IPY_MODEL_531d416473434c0eaaa629aeabb005be"
       ],
       "layout": "IPY_MODEL_9757263eee1d4c3eb491103197390828"
      }
     },
     "4263b6f63d1948dc8a4d6ac8de41a03d": {
      "model_module": "@jupyter-widgets/controls",
      "model_module_version": "1.0.0",
      "model_name": "DescriptionStyleModel",
      "state": {
       "description_width": ""
      }
     },
     "42c5b4a9bec94fb5bbd57ce69e7c59f8": {
      "model_module": "@jupyter-widgets/controls",
      "model_module_version": "1.0.0",
      "model_name": "DescriptionStyleModel",
      "state": {
       "description_width": ""
      }
     },
     "488ee290cffb481d89e6530e1258dced": {
      "model_module": "@jupyter-widgets/controls",
      "model_module_version": "1.0.0",
      "model_name": "ButtonStyleModel",
      "state": {}
     },
     "4a16075f176342a291372d4c317da9d3": {
      "model_module": "@jupyter-widgets/base",
      "model_module_version": "1.0.0",
      "model_name": "LayoutModel",
      "state": {
       "flex": "2 1 auto",
       "width": "auto"
      }
     },
     "4a282fe84af443ddbc18638f25f1b2aa": {
      "model_module": "@jupyter-widgets/base",
      "model_module_version": "1.0.0",
      "model_name": "LayoutModel",
      "state": {}
     },
     "4c2d648a95f94248ab2a0e3c1c1baabe": {
      "model_module": "@jupyter-widgets/controls",
      "model_module_version": "1.0.0",
      "model_name": "ButtonModel",
      "state": {
       "button_style": "warning",
       "description": "9",
       "layout": "IPY_MODEL_86c93170059349499a5f76156cbd8cdf",
       "style": "IPY_MODEL_1b969a5a33434407ac600334c65b44bd"
      }
     },
     "4cc2c5d68369416fa1e0c69092aef7f0": {
      "model_module": "@jupyter-widgets/controls",
      "model_module_version": "1.0.0",
      "model_name": "ButtonStyleModel",
      "state": {}
     },
     "4e6a91179f2749ffbb811f237feb7980": {
      "model_module": "@jupyter-widgets/controls",
      "model_module_version": "1.0.0",
      "model_name": "ButtonStyleModel",
      "state": {}
     },
     "4e78e99b94624044961f9a2aff616578": {
      "model_module": "@jupyter-widgets/base",
      "model_module_version": "1.0.0",
      "model_name": "LayoutModel",
      "state": {}
     },
     "4ed86549c73c4e9aa2dd9a5afeb4fba8": {
      "model_module": "@jupyter-widgets/controls",
      "model_module_version": "1.0.0",
      "model_name": "ButtonStyleModel",
      "state": {}
     },
     "519d2b391cb344eba7ccbfd9febfecc3": {
      "model_module": "@jupyter-widgets/controls",
      "model_module_version": "1.0.0",
      "model_name": "ButtonStyleModel",
      "state": {}
     },
     "52f8bb66598b4437a43f84857ecaed9d": {
      "model_module": "@jupyter-widgets/controls",
      "model_module_version": "1.0.0",
      "model_name": "SliderStyleModel",
      "state": {
       "description_width": "initial"
      }
     },
     "531d416473434c0eaaa629aeabb005be": {
      "model_module": "@jupyter-widgets/controls",
      "model_module_version": "1.0.0",
      "model_name": "ButtonModel",
      "state": {
       "description": "horse",
       "layout": "IPY_MODEL_36fd4ad8839c4208af2e75ec74575f67",
       "style": "IPY_MODEL_609e05ed848845838e3199c0ac7bbcf1"
      }
     },
     "54050f0aaec84eea9ff4bf4a9c325b07": {
      "model_module": "@jupyter-widgets/controls",
      "model_module_version": "1.0.0",
      "model_name": "ButtonModel",
      "state": {
       "button_style": "warning",
       "description": "18",
       "layout": "IPY_MODEL_86c93170059349499a5f76156cbd8cdf",
       "style": "IPY_MODEL_99dba6072ddf4bbaa966422e7097d49d"
      }
     },
     "5471018df5a94fbc80ebfb86c2a9c7ba": {
      "model_module": "@jupyter-widgets/base",
      "model_module_version": "1.0.0",
      "model_name": "LayoutModel",
      "state": {}
     },
     "5485f6a5b84d4fbf9425c19995c82f97": {
      "model_module": "@jupyter-widgets/base",
      "model_module_version": "1.0.0",
      "model_name": "LayoutModel",
      "state": {}
     },
     "59f22ac0f15346b78af2970b049a4bcc": {
      "model_module": "@jupyter-widgets/controls",
      "model_module_version": "1.0.0",
      "model_name": "ButtonModel",
      "state": {
       "button_style": "warning",
       "description": "38",
       "layout": "IPY_MODEL_86c93170059349499a5f76156cbd8cdf",
       "style": "IPY_MODEL_fc77ce3cd6e342e2b28131ff8f6a3d2d"
      }
     },
     "5af7ad0112994392818b1cee40ff5364": {
      "model_module": "@jupyter-widgets/controls",
      "model_module_version": "1.0.0",
      "model_name": "ButtonModel",
      "state": {
       "button_style": "danger",
       "description": "battery",
       "layout": "IPY_MODEL_7ff80e764e2745d9800eae1f025f64e0",
       "style": "IPY_MODEL_909124d321c64999b1ac340990e7d691"
      }
     },
     "5c3b7e5ecd9145698d2ee04ee7034cea": {
      "model_module": "@jupyter-widgets/base",
      "model_module_version": "1.0.0",
      "model_name": "LayoutModel",
      "state": {
       "align_items": "stretch",
       "border": "solid 2px",
       "display": "flex",
       "flex_flow": "column",
       "width": "50%"
      }
     },
     "5d3cd6de2c3d4d3fbfc90aeff77ba2d9": {
      "model_module": "@jupyter-widgets/controls",
      "model_module_version": "1.0.0",
      "model_name": "ButtonModel",
      "state": {
       "button_style": "warning",
       "description": "0",
       "layout": "IPY_MODEL_86c93170059349499a5f76156cbd8cdf",
       "style": "IPY_MODEL_4e6a91179f2749ffbb811f237feb7980"
      }
     },
     "5ed9df4210aa49a0910430556b8af791": {
      "model_module": "@jupyter-widgets/base",
      "model_module_version": "1.0.0",
      "model_name": "LayoutModel",
      "state": {}
     },
     "5fd25f05abe24b3088f715b1e558c64d": {
      "model_module": "@jupyter-widgets/controls",
      "model_module_version": "1.0.0",
      "model_name": "ButtonStyleModel",
      "state": {}
     },
     "609e05ed848845838e3199c0ac7bbcf1": {
      "model_module": "@jupyter-widgets/controls",
      "model_module_version": "1.0.0",
      "model_name": "ButtonStyleModel",
      "state": {}
     },
     "62299ce93f094d8eb68c5a6a166ea071": {
      "model_module": "@jupyter-widgets/base",
      "model_module_version": "1.0.0",
      "model_name": "LayoutModel",
      "state": {}
     },
     "622d979c08c649a18250cae3c3a0495a": {
      "model_module": "@jupyter-widgets/controls",
      "model_module_version": "1.0.0",
      "model_name": "ButtonStyleModel",
      "state": {}
     },
     "67620e6a5449490a8b2ecb27586a04c1": {
      "model_module": "@jupyter-widgets/controls",
      "model_module_version": "1.0.0",
      "model_name": "ButtonStyleModel",
      "state": {}
     },
     "6977ab1dfb394ffea855230d6b789a5f": {
      "model_module": "@jupyter-widgets/controls",
      "model_module_version": "1.0.0",
      "model_name": "ButtonStyleModel",
      "state": {}
     },
     "6a28aab88ef94006b526ff66fce68f90": {
      "model_module": "@jupyter-widgets/base",
      "model_module_version": "1.0.0",
      "model_name": "LayoutModel",
      "state": {
       "border": "3px solid black",
       "display": "flex",
       "height": "",
       "overflow_x": "scroll",
       "width": "500px"
      }
     },
     "6ab986af3d744b8b8c10354bbf2bc8c2": {
      "model_module": "@jupyter-widgets/controls",
      "model_module_version": "1.0.0",
      "model_name": "ButtonStyleModel",
      "state": {}
     },
     "6d06309ef84242af8feab43b84d41494": {
      "model_module": "@jupyter-widgets/controls",
      "model_module_version": "1.0.0",
      "model_name": "ButtonStyleModel",
      "state": {}
     },
     "6d54d28ad21a4cf0864a0845b5c61582": {
      "model_module": "@jupyter-widgets/base",
      "model_module_version": "1.0.0",
      "model_name": "LayoutModel",
      "state": {}
     },
     "6d68e1a2ffc24b7b9e6d33d56d5d6191": {
      "model_module": "@jupyter-widgets/controls",
      "model_module_version": "1.0.0",
      "model_name": "ButtonModel",
      "state": {
       "button_style": "warning",
       "description": "19",
       "layout": "IPY_MODEL_86c93170059349499a5f76156cbd8cdf",
       "style": "IPY_MODEL_2e7d5587673b42ff981bea38d4a1f472"
      }
     },
     "6e1d632d7347464090b7473164d6ed84": {
      "model_module": "@jupyter-widgets/controls",
      "model_module_version": "1.0.0",
      "model_name": "VBoxModel",
      "state": {
       "children": [
        "IPY_MODEL_a805481e4e2943dea6eccd126b4c30c8",
        "IPY_MODEL_3ad0cbfd365a431787af4b15cd2f423f"
       ],
       "layout": "IPY_MODEL_e080244dd9f74b548cc3d910ac8391c9"
      }
     },
     "6f75f0851b4c40599d7d88100d52be88": {
      "model_module": "@jupyter-widgets/controls",
      "model_module_version": "1.0.0",
      "model_name": "ButtonModel",
      "state": {
       "button_style": "danger",
       "description": "correct",
       "layout": "IPY_MODEL_7ff80e764e2745d9800eae1f025f64e0",
       "style": "IPY_MODEL_06181f317c114c798f759ee857d3f190"
      }
     },
     "6fe928030f9c478db354b230c14f362b": {
      "model_module": "@jupyter-widgets/controls",
      "model_module_version": "1.0.0",
      "model_name": "ButtonStyleModel",
      "state": {}
     },
     "7124c76bb4aa4441b3d187dfc0b8b423": {
      "model_module": "@jupyter-widgets/base",
      "model_module_version": "1.0.0",
      "model_name": "LayoutModel",
      "state": {}
     },
     "776fa7f8a04742a9a95b7c5ef8e0ba6e": {
      "model_module": "@jupyter-widgets/controls",
      "model_module_version": "1.0.0",
      "model_name": "ButtonStyleModel",
      "state": {}
     },
     "78f597e050054a95b6c204a4d5c5ba12": {
      "model_module": "@jupyter-widgets/base",
      "model_module_version": "1.0.0",
      "model_name": "LayoutModel",
      "state": {
       "height": "80px",
       "width": "50%"
      }
     },
     "7c76431092da44e9a3e703c17d72fa1e": {
      "model_module": "@jupyter-widgets/base",
      "model_module_version": "1.0.0",
      "model_name": "LayoutModel",
      "state": {}
     },
     "7e3080c262864925b5208347c7bfe115": {
      "model_module": "@jupyter-widgets/controls",
      "model_module_version": "1.0.0",
      "model_name": "SliderStyleModel",
      "state": {
       "description_width": ""
      }
     },
     "7ff80e764e2745d9800eae1f025f64e0": {
      "model_module": "@jupyter-widgets/base",
      "model_module_version": "1.0.0",
      "model_name": "LayoutModel",
      "state": {
       "flex": "1 1 auto",
       "width": "auto"
      }
     },
     "804fd581e0a54e0091164b7bbd7f1107": {
      "model_module": "@jupyter-widgets/controls",
      "model_module_version": "1.0.0",
      "model_name": "ButtonStyleModel",
      "state": {}
     },
     "84447ea46574451f888023d1020d2f9c": {
      "model_module": "@jupyter-widgets/controls",
      "model_module_version": "1.0.0",
      "model_name": "IntSliderModel",
      "state": {
       "layout": "IPY_MODEL_2a930140bcea421d8d09fcf63f00632e",
       "style": "IPY_MODEL_a2867abb1c5043c8a9c90b8f85aed5fc"
      }
     },
     "844e689f4fb5418483d536942a3a0685": {
      "model_module": "@jupyter-widgets/controls",
      "model_module_version": "1.0.0",
      "model_name": "ButtonModel",
      "state": {
       "button_style": "warning",
       "description": "15",
       "layout": "IPY_MODEL_86c93170059349499a5f76156cbd8cdf",
       "style": "IPY_MODEL_0951adc347ce4785b1ca5044c793a8dc"
      }
     },
     "854847ab33a94f099e25c3da59cc715d": {
      "model_module": "@jupyter-widgets/controls",
      "model_module_version": "1.0.0",
      "model_name": "DescriptionStyleModel",
      "state": {
       "description_width": ""
      }
     },
     "86c93170059349499a5f76156cbd8cdf": {
      "model_module": "@jupyter-widgets/base",
      "model_module_version": "1.0.0",
      "model_name": "LayoutModel",
      "state": {
       "height": "100px",
       "min_width": "40px"
      }
     },
     "87cffb66d7ed49cf82da8e38d6a414aa": {
      "model_module": "@jupyter-widgets/controls",
      "model_module_version": "1.0.0",
      "model_name": "ButtonModel",
      "state": {
       "button_style": "warning",
       "description": "26",
       "layout": "IPY_MODEL_86c93170059349499a5f76156cbd8cdf",
       "style": "IPY_MODEL_6fe928030f9c478db354b230c14f362b"
      }
     },
     "89009a151da64843bc371b04ef86c0e1": {
      "model_module": "@jupyter-widgets/base",
      "model_module_version": "1.0.0",
      "model_name": "LayoutModel",
      "state": {
       "align_items": "stretch",
       "border": "solid",
       "display": "flex",
       "flex_flow": "row",
       "width": "50%"
      }
     },
     "8eaea5be7ee14b4f99ba337095fae034": {
      "model_module": "@jupyter-widgets/controls",
      "model_module_version": "1.0.0",
      "model_name": "ButtonStyleModel",
      "state": {}
     },
     "8f652531882e4c85a5394972768d3fbd": {
      "model_module": "@jupyter-widgets/controls",
      "model_module_version": "1.0.0",
      "model_name": "ButtonStyleModel",
      "state": {}
     },
     "909124d321c64999b1ac340990e7d691": {
      "model_module": "@jupyter-widgets/controls",
      "model_module_version": "1.0.0",
      "model_name": "ButtonStyleModel",
      "state": {}
     },
     "90fbc727b4564aa390c44ca5e957c356": {
      "model_module": "@jupyter-widgets/controls",
      "model_module_version": "1.0.0",
      "model_name": "ButtonStyleModel",
      "state": {}
     },
     "93ca3bf8f5bb4a0596eab63c0b600680": {
      "model_module": "@jupyter-widgets/base",
      "model_module_version": "1.0.0",
      "model_name": "LayoutModel",
      "state": {}
     },
     "959ffd7488a5488394ac2b86c1a0a9c9": {
      "model_module": "@jupyter-widgets/controls",
      "model_module_version": "1.0.0",
      "model_name": "BoxModel",
      "state": {
       "children": [
        "IPY_MODEL_cc39d4e7a32044d59a1c3975bb34b196",
        "IPY_MODEL_0da17df2857140809605f302cd8fa998",
        "IPY_MODEL_0474bebc718a4d479893258403ee6d98",
        "IPY_MODEL_0b24fc39831441a9b6941a82edfbaaf1"
       ],
       "layout": "IPY_MODEL_5c3b7e5ecd9145698d2ee04ee7034cea"
      }
     },
     "9629717020df48c5a34b08201c90d2c4": {
      "model_module": "@jupyter-widgets/controls",
      "model_module_version": "1.0.0",
      "model_name": "ButtonModel",
      "state": {
       "button_style": "danger",
       "description": "staple",
       "layout": "IPY_MODEL_7ff80e764e2745d9800eae1f025f64e0",
       "style": "IPY_MODEL_2cb621fbacc74976b23ce11629c9e7ac"
      }
     },
     "9757263eee1d4c3eb491103197390828": {
      "model_module": "@jupyter-widgets/base",
      "model_module_version": "1.0.0",
      "model_name": "LayoutModel",
      "state": {}
     },
     "99dba6072ddf4bbaa966422e7097d49d": {
      "model_module": "@jupyter-widgets/controls",
      "model_module_version": "1.0.0",
      "model_name": "ButtonStyleModel",
      "state": {}
     },
     "99e96e53375b48f594fed5064d6d8150": {
      "model_module": "@jupyter-widgets/controls",
      "model_module_version": "1.0.0",
      "model_name": "ButtonModel",
      "state": {
       "description": "weight=1",
       "layout": "IPY_MODEL_7c76431092da44e9a3e703c17d72fa1e",
       "style": "IPY_MODEL_c26d53b368f14ed1b9c3cd51e20a31b1"
      }
     },
     "9a9fdd69eb3d48b28c0872ff15484389": {
      "model_module": "@jupyter-widgets/controls",
      "model_module_version": "1.0.0",
      "model_name": "ButtonModel",
      "state": {
       "button_style": "warning",
       "description": "10",
       "layout": "IPY_MODEL_86c93170059349499a5f76156cbd8cdf",
       "style": "IPY_MODEL_b3c2fc36803349b69665d29bd9ac5549"
      }
     },
     "9be60ad4ef5b4282a97125f138ad132b": {
      "model_module": "@jupyter-widgets/controls",
      "model_module_version": "1.0.0",
      "model_name": "LabelModel",
      "state": {
       "layout": "IPY_MODEL_386ba40f1dd847568beb6e7b7c81599b",
       "style": "IPY_MODEL_3614723fabfe46d9af33152b30efbcdd",
       "value": "Information"
      }
     },
     "9cec86147f73446a81e86fe6e7ee1f15": {
      "model_module": "@jupyter-widgets/base",
      "model_module_version": "1.0.0",
      "model_name": "LayoutModel",
      "state": {
       "display": "flex",
       "flex_flow": "row",
       "justify_content": "space-between"
      }
     },
     "9d66000613a04a55b25ce6e5689b0910": {
      "model_module": "@jupyter-widgets/controls",
      "model_module_version": "1.0.0",
      "model_name": "ButtonModel",
      "state": {
       "button_style": "warning",
       "description": "14",
       "layout": "IPY_MODEL_86c93170059349499a5f76156cbd8cdf",
       "style": "IPY_MODEL_13af18f71e7349c7b08ccbf7e8f150ab"
      }
     },
     "9d9a3b6bdd494789bbd673d633cf04d2": {
      "model_module": "@jupyter-widgets/controls",
      "model_module_version": "1.0.0",
      "model_name": "BoxModel",
      "state": {
       "children": [
        "IPY_MODEL_5d3cd6de2c3d4d3fbfc90aeff77ba2d9",
        "IPY_MODEL_0909dd3c366f464d8d087092ae83fb00",
        "IPY_MODEL_3168e8996b9646438c3da41646163b95",
        "IPY_MODEL_ab7ee10a64404f26825beccd859fb613",
        "IPY_MODEL_c47b9d3adf4c4c929df2ec5fc136f4de",
        "IPY_MODEL_38e605f60ee24d778110f3ec8289d4c2",
        "IPY_MODEL_afb16dd3bf9549c3aa282ac1b55699f6",
        "IPY_MODEL_a10f5daa4b894504b5fbd07868504bd3",
        "IPY_MODEL_b6dcd13a9366433a8c4f1fd73ff819d9",
        "IPY_MODEL_4c2d648a95f94248ab2a0e3c1c1baabe",
        "IPY_MODEL_9a9fdd69eb3d48b28c0872ff15484389",
        "IPY_MODEL_03d2f10cca034a13962696fbf2ce6d4d",
        "IPY_MODEL_e77af21d3f76480694434674087d51bf",
        "IPY_MODEL_c6c38d09747f4d2ea8122be4ef834104",
        "IPY_MODEL_9d66000613a04a55b25ce6e5689b0910",
        "IPY_MODEL_844e689f4fb5418483d536942a3a0685",
        "IPY_MODEL_a018f9df0de64a7db88d4760666d2204",
        "IPY_MODEL_9e5ceea5744b4177b5f94f82e231973d",
        "IPY_MODEL_54050f0aaec84eea9ff4bf4a9c325b07",
        "IPY_MODEL_6d68e1a2ffc24b7b9e6d33d56d5d6191",
        "IPY_MODEL_40ffc9f6574749b1b8de840437770d2f",
        "IPY_MODEL_c3eb310789e74ccf913210b1558aee8d",
        "IPY_MODEL_f79ab8504cca44e297791fef4f73d832",
        "IPY_MODEL_e4b4f16bee534374ac503ddb8cefeb2d",
        "IPY_MODEL_a0a87486c6f94523bc1be42f6dbbac65",
        "IPY_MODEL_1a23f155631a4393b5cf51028b267023",
        "IPY_MODEL_87cffb66d7ed49cf82da8e38d6a414aa",
        "IPY_MODEL_29814439e9144be3aacdb2bfdd7a5349",
        "IPY_MODEL_af527d2aa5c24809b32eeb0e329f57ea",
        "IPY_MODEL_b9d0e01c61a6427997967f639a546da2",
        "IPY_MODEL_3d6d73b0803c47c99781f8f5bd870104",
        "IPY_MODEL_14af3452480f458297990e6dc0e4feca",
        "IPY_MODEL_b5a698b60cdf437392f96f8924d2f246",
        "IPY_MODEL_2dbc5b27b5a84121af55dee0f1d248f6",
        "IPY_MODEL_9fe52f750e274fe694f26699d53bb26e",
        "IPY_MODEL_dd37173b5c674f3782a246cab24c85b4",
        "IPY_MODEL_299c3dd0d01849af9a514fa35747f40a",
        "IPY_MODEL_d92aeefa1a0f4b198a849e0b6e2439d5",
        "IPY_MODEL_59f22ac0f15346b78af2970b049a4bcc",
        "IPY_MODEL_d60f94d4c3744344b3a2c95c55b386ae"
       ],
       "layout": "IPY_MODEL_6a28aab88ef94006b526ff66fce68f90"
      }
     },
     "9e5ceea5744b4177b5f94f82e231973d": {
      "model_module": "@jupyter-widgets/controls",
      "model_module_version": "1.0.0",
      "model_name": "ButtonModel",
      "state": {
       "button_style": "warning",
       "description": "17",
       "layout": "IPY_MODEL_86c93170059349499a5f76156cbd8cdf",
       "style": "IPY_MODEL_f3a676438b984f99bc6d451c5e37393f"
      }
     },
     "9fe52f750e274fe694f26699d53bb26e": {
      "model_module": "@jupyter-widgets/controls",
      "model_module_version": "1.0.0",
      "model_name": "ButtonModel",
      "state": {
       "button_style": "warning",
       "description": "34",
       "layout": "IPY_MODEL_86c93170059349499a5f76156cbd8cdf",
       "style": "IPY_MODEL_19334b76b10a45e6b06c3de0f9649173"
      }
     },
     "a018f9df0de64a7db88d4760666d2204": {
      "model_module": "@jupyter-widgets/controls",
      "model_module_version": "1.0.0",
      "model_name": "ButtonModel",
      "state": {
       "button_style": "warning",
       "description": "16",
       "layout": "IPY_MODEL_86c93170059349499a5f76156cbd8cdf",
       "style": "IPY_MODEL_488ee290cffb481d89e6530e1258dced"
      }
     },
     "a0a87486c6f94523bc1be42f6dbbac65": {
      "model_module": "@jupyter-widgets/controls",
      "model_module_version": "1.0.0",
      "model_name": "ButtonModel",
      "state": {
       "button_style": "warning",
       "description": "24",
       "layout": "IPY_MODEL_86c93170059349499a5f76156cbd8cdf",
       "style": "IPY_MODEL_2adeb1226af14019b73c4de8a28a23cf"
      }
     },
     "a0ca0c36e11c4ed2a8f822ac774437cf": {
      "model_module": "@jupyter-widgets/controls",
      "model_module_version": "1.0.0",
      "model_name": "DescriptionStyleModel",
      "state": {
       "description_width": ""
      }
     },
     "a10f5daa4b894504b5fbd07868504bd3": {
      "model_module": "@jupyter-widgets/controls",
      "model_module_version": "1.0.0",
      "model_name": "ButtonModel",
      "state": {
       "button_style": "warning",
       "description": "7",
       "layout": "IPY_MODEL_86c93170059349499a5f76156cbd8cdf",
       "style": "IPY_MODEL_084767ec12244bb382ac5c5d82498d2e"
      }
     },
     "a19e7f5d62fd4f638a483e1a15310399": {
      "model_module": "@jupyter-widgets/controls",
      "model_module_version": "1.0.0",
      "model_name": "ButtonModel",
      "state": {
       "description": "weight=2",
       "layout": "IPY_MODEL_4a16075f176342a291372d4c317da9d3",
       "style": "IPY_MODEL_4cc2c5d68369416fa1e0c69092aef7f0"
      }
     },
     "a2867abb1c5043c8a9c90b8f85aed5fc": {
      "model_module": "@jupyter-widgets/controls",
      "model_module_version": "1.0.0",
      "model_name": "SliderStyleModel",
      "state": {
       "description_width": ""
      }
     },
     "a37031a8c321479f802b4eccfe3dac6e": {
      "model_module": "@jupyter-widgets/controls",
      "model_module_version": "1.0.0",
      "model_name": "ButtonModel",
      "state": {
       "description": "Another button with the same layout",
       "layout": "IPY_MODEL_78f597e050054a95b6c204a4d5c5ba12",
       "style": "IPY_MODEL_622d979c08c649a18250cae3c3a0495a"
      }
     },
     "a6faf490062244fbb577ba1fba58bfef": {
      "model_module": "@jupyter-widgets/controls",
      "model_module_version": "1.0.0",
      "model_name": "IntSliderModel",
      "state": {
       "description": "A too long description",
       "layout": "IPY_MODEL_da3eac9248c94e98a816fc458bff117b",
       "style": "IPY_MODEL_21fe4ddb707b4d89a5c0cb187b7db377"
      }
     },
     "a745f99947b2421dbe367e256e795903": {
      "model_module": "@jupyter-widgets/controls",
      "model_module_version": "1.0.0",
      "model_name": "ButtonModel",
      "state": {
       "layout": "IPY_MODEL_bdd89e496fe346e49aea166100c855c7",
       "style": "IPY_MODEL_de2208827b4f48c68915e881ca794115"
      }
     },
     "a805481e4e2943dea6eccd126b4c30c8": {
      "model_module": "@jupyter-widgets/controls",
      "model_module_version": "1.0.0",
      "model_name": "ButtonModel",
      "state": {
       "description": "battery",
       "layout": "IPY_MODEL_5471018df5a94fbc80ebfb86c2a9c7ba",
       "style": "IPY_MODEL_5fd25f05abe24b3088f715b1e558c64d"
      }
     },
     "a89a3fa8e69f47d7ac2ee4df32f48e99": {
      "model_module": "@jupyter-widgets/base",
      "model_module_version": "1.0.0",
      "model_name": "LayoutModel",
      "state": {}
     },
     "a8d33b6946bc4f0ab9eacd28dce1d2fe": {
      "model_module": "@jupyter-widgets/controls",
      "model_module_version": "1.0.0",
      "model_name": "SliderStyleModel",
      "state": {
       "description_width": "",
       "handle_color": "lightblue"
      }
     },
     "ab7ee10a64404f26825beccd859fb613": {
      "model_module": "@jupyter-widgets/controls",
      "model_module_version": "1.0.0",
      "model_name": "ButtonModel",
      "state": {
       "button_style": "warning",
       "description": "3",
       "layout": "IPY_MODEL_86c93170059349499a5f76156cbd8cdf",
       "style": "IPY_MODEL_8eaea5be7ee14b4f99ba337095fae034"
      }
     },
     "acd1c1b8563348fba435e7bbe312e87a": {
      "model_module": "@jupyter-widgets/controls",
      "model_module_version": "1.0.0",
      "model_name": "ButtonStyleModel",
      "state": {}
     },
     "ae159805978e415196aeaac10d67ae27": {
      "model_module": "@jupyter-widgets/base",
      "model_module_version": "1.0.0",
      "model_name": "LayoutModel",
      "state": {}
     },
     "af527d2aa5c24809b32eeb0e329f57ea": {
      "model_module": "@jupyter-widgets/controls",
      "model_module_version": "1.0.0",
      "model_name": "ButtonModel",
      "state": {
       "button_style": "warning",
       "description": "28",
       "layout": "IPY_MODEL_86c93170059349499a5f76156cbd8cdf",
       "style": "IPY_MODEL_0ace049e703d4b3791d6f4e69084427b"
      }
     },
     "afa401374e3e4bdaa3c3048f6cebfd9e": {
      "model_module": "@jupyter-widgets/base",
      "model_module_version": "1.0.0",
      "model_name": "LayoutModel",
      "state": {
       "align_items": "stretch",
       "border": "solid",
       "display": "flex",
       "flex_flow": "column",
       "width": "50%"
      }
     },
     "afb16dd3bf9549c3aa282ac1b55699f6": {
      "model_module": "@jupyter-widgets/controls",
      "model_module_version": "1.0.0",
      "model_name": "ButtonModel",
      "state": {
       "button_style": "warning",
       "description": "6",
       "layout": "IPY_MODEL_86c93170059349499a5f76156cbd8cdf",
       "style": "IPY_MODEL_e3f7c091d02642edb4be287ca1ad3b8c"
      }
     },
     "b04a460354e144d390998777d793d347": {
      "model_module": "@jupyter-widgets/controls",
      "model_module_version": "1.0.0",
      "model_name": "DescriptionStyleModel",
      "state": {
       "description_width": ""
      }
     },
     "b0ca8a293663460e8b7d9f3e10f3575e": {
      "model_module": "@jupyter-widgets/controls",
      "model_module_version": "1.0.0",
      "model_name": "DescriptionStyleModel",
      "state": {
       "description_width": ""
      }
     },
     "b23e198d2d1041188ca6b78471348930": {
      "model_module": "@jupyter-widgets/controls",
      "model_module_version": "1.0.0",
      "model_name": "IntSliderModel",
      "state": {
       "description": "Blue handle",
       "layout": "IPY_MODEL_62299ce93f094d8eb68c5a6a166ea071",
       "style": "IPY_MODEL_a8d33b6946bc4f0ab9eacd28dce1d2fe"
      }
     },
     "b3c2fc36803349b69665d29bd9ac5549": {
      "model_module": "@jupyter-widgets/controls",
      "model_module_version": "1.0.0",
      "model_name": "ButtonStyleModel",
      "state": {}
     },
     "b5a698b60cdf437392f96f8924d2f246": {
      "model_module": "@jupyter-widgets/controls",
      "model_module_version": "1.0.0",
      "model_name": "ButtonModel",
      "state": {
       "button_style": "warning",
       "description": "32",
       "layout": "IPY_MODEL_86c93170059349499a5f76156cbd8cdf",
       "style": "IPY_MODEL_0c77439d99134b369caca19a25d2d3f2"
      }
     },
     "b698e328807e435d9ae45fda6cc1b535": {
      "model_module": "@jupyter-widgets/base",
      "model_module_version": "1.0.0",
      "model_name": "LayoutModel",
      "state": {}
     },
     "b6dcd13a9366433a8c4f1fd73ff819d9": {
      "model_module": "@jupyter-widgets/controls",
      "model_module_version": "1.0.0",
      "model_name": "ButtonModel",
      "state": {
       "button_style": "warning",
       "description": "8",
       "layout": "IPY_MODEL_86c93170059349499a5f76156cbd8cdf",
       "style": "IPY_MODEL_6ab986af3d744b8b8c10354bbf2bc8c2"
      }
     },
     "b9700717fb8e4284b0be3cbd7eee7a10": {
      "model_module": "@jupyter-widgets/controls",
      "model_module_version": "1.0.0",
      "model_name": "ButtonStyleModel",
      "state": {}
     },
     "b9d0e01c61a6427997967f639a546da2": {
      "model_module": "@jupyter-widgets/controls",
      "model_module_version": "1.0.0",
      "model_name": "ButtonModel",
      "state": {
       "button_style": "warning",
       "description": "29",
       "layout": "IPY_MODEL_86c93170059349499a5f76156cbd8cdf",
       "style": "IPY_MODEL_4ed86549c73c4e9aa2dd9a5afeb4fba8"
      }
     },
     "bdd89e496fe346e49aea166100c855c7": {
      "model_module": "@jupyter-widgets/base",
      "model_module_version": "1.0.0",
      "model_name": "LayoutModel",
      "state": {}
     },
     "c244b4c92e614670ab9ad69f78ea1b38": {
      "model_module": "@jupyter-widgets/controls",
      "model_module_version": "1.0.0",
      "model_name": "DropdownModel",
      "state": {
       "_options_labels": [
        "Scrambled",
        "Sunny side up",
        "Over easy"
       ],
       "index": 0,
       "layout": "IPY_MODEL_04e471f5df84465ea59b9a5b11f4bf23",
       "style": "IPY_MODEL_854847ab33a94f099e25c3da59cc715d"
      }
     },
     "c26d53b368f14ed1b9c3cd51e20a31b1": {
      "model_module": "@jupyter-widgets/controls",
      "model_module_version": "1.0.0",
      "model_name": "ButtonStyleModel",
      "state": {}
     },
     "c3eb310789e74ccf913210b1558aee8d": {
      "model_module": "@jupyter-widgets/controls",
      "model_module_version": "1.0.0",
      "model_name": "ButtonModel",
      "state": {
       "button_style": "warning",
       "description": "21",
       "layout": "IPY_MODEL_86c93170059349499a5f76156cbd8cdf",
       "style": "IPY_MODEL_f16528c6763648969048b081e6512640"
      }
     },
     "c3fae98470104b9189982a8f1276f239": {
      "model_module": "@jupyter-widgets/controls",
      "model_module_version": "1.0.0",
      "model_name": "BoxModel",
      "state": {
       "children": [
        "IPY_MODEL_d04f10db99314a9dbef7a8ee63f571d4",
        "IPY_MODEL_a19e7f5d62fd4f638a483e1a15310399",
        "IPY_MODEL_99e96e53375b48f594fed5064d6d8150"
       ],
       "layout": "IPY_MODEL_89009a151da64843bc371b04ef86c0e1"
      }
     },
     "c47b9d3adf4c4c929df2ec5fc136f4de": {
      "model_module": "@jupyter-widgets/controls",
      "model_module_version": "1.0.0",
      "model_name": "ButtonModel",
      "state": {
       "button_style": "warning",
       "description": "4",
       "layout": "IPY_MODEL_86c93170059349499a5f76156cbd8cdf",
       "style": "IPY_MODEL_cdd6af3e1de24e6594d67e4ef22df208"
      }
     },
     "c4cde0fc628c460397f664c2cd761f86": {
      "model_module": "@jupyter-widgets/controls",
      "model_module_version": "1.0.0",
      "model_name": "TextareaModel",
      "state": {
       "layout": "IPY_MODEL_fe5df9ccff5d496e914e9074d7640b46",
       "style": "IPY_MODEL_ddc86795151e40c79aa787eb69e17562"
      }
     },
     "c5d70bcfed9a4fabb59ad583a585726c": {
      "model_module": "@jupyter-widgets/controls",
      "model_module_version": "1.0.0",
      "model_name": "ButtonModel",
      "state": {
       "button_style": "danger",
       "description": "horse",
       "layout": "IPY_MODEL_7ff80e764e2745d9800eae1f025f64e0",
       "style": "IPY_MODEL_804fd581e0a54e0091164b7bbd7f1107"
      }
     },
     "c6c38d09747f4d2ea8122be4ef834104": {
      "model_module": "@jupyter-widgets/controls",
      "model_module_version": "1.0.0",
      "model_name": "ButtonModel",
      "state": {
       "button_style": "warning",
       "description": "13",
       "layout": "IPY_MODEL_86c93170059349499a5f76156cbd8cdf",
       "style": "IPY_MODEL_b9700717fb8e4284b0be3cbd7eee7a10"
      }
     },
     "c9b52da5c53a4b69ba7d1f2804145b2e": {
      "model_module": "@jupyter-widgets/controls",
      "model_module_version": "1.0.0",
      "model_name": "ButtonStyleModel",
      "state": {}
     },
     "ca7985d3abca46adb4fef796e2fe7220": {
      "model_module": "@jupyter-widgets/controls",
      "model_module_version": "1.0.0",
      "model_name": "SliderStyleModel",
      "state": {
       "description_width": ""
      }
     },
     "cc39d4e7a32044d59a1c3975bb34b196": {
      "model_module": "@jupyter-widgets/controls",
      "model_module_version": "1.0.0",
      "model_name": "BoxModel",
      "state": {
       "children": [
        "IPY_MODEL_efaeb1522f6f4d09ac5b18108e38e438",
        "IPY_MODEL_10efb154252045eab676fc357f71490a"
       ],
       "layout": "IPY_MODEL_9cec86147f73446a81e86fe6e7ee1f15"
      }
     },
     "cdd6af3e1de24e6594d67e4ef22df208": {
      "model_module": "@jupyter-widgets/controls",
      "model_module_version": "1.0.0",
      "model_name": "ButtonStyleModel",
      "state": {}
     },
     "cfc4e575bdaf4c8a9b85e1ef2eff6bd2": {
      "model_module": "@jupyter-widgets/controls",
      "model_module_version": "1.0.0",
      "model_name": "LabelModel",
      "state": {
       "layout": "IPY_MODEL_5ed9df4210aa49a0910430556b8af791",
       "style": "IPY_MODEL_42c5b4a9bec94fb5bbd57ce69e7c59f8",
       "value": "Scroll horizontally:"
      }
     },
     "d04f10db99314a9dbef7a8ee63f571d4": {
      "model_module": "@jupyter-widgets/controls",
      "model_module_version": "1.0.0",
      "model_name": "ButtonModel",
      "state": {
       "description": "weight=1",
       "layout": "IPY_MODEL_ae159805978e415196aeaac10d67ae27",
       "style": "IPY_MODEL_064bcdedc66840d69c61ad3a0d23e585"
      }
     },
     "d60f94d4c3744344b3a2c95c55b386ae": {
      "model_module": "@jupyter-widgets/controls",
      "model_module_version": "1.0.0",
      "model_name": "ButtonModel",
      "state": {
       "button_style": "warning",
       "description": "39",
       "layout": "IPY_MODEL_86c93170059349499a5f76156cbd8cdf",
       "style": "IPY_MODEL_266efae4a6144a01a622001aad39c189"
      }
     },
     "d6cfa902402c4241a698ed4b8771fb74": {
      "model_module": "@jupyter-widgets/controls",
      "model_module_version": "1.0.0",
      "model_name": "ButtonStyleModel",
      "state": {}
     },
     "d7d7f989f8b14073b38926ad47009c5a": {
      "model_module": "@jupyter-widgets/controls",
      "model_module_version": "1.0.0",
      "model_name": "LabelModel",
      "state": {
       "layout": "IPY_MODEL_2f65966be1d2480fa60e34fc61858b2f",
       "style": "IPY_MODEL_4263b6f63d1948dc8a4d6ac8de41a03d",
       "value": "A too long description"
      }
     },
     "d87741c2d4ee455d8360e382ae57ee64": {
      "model_module": "@jupyter-widgets/base",
      "model_module_version": "1.0.0",
      "model_name": "LayoutModel",
      "state": {}
     },
     "d8fe3ef1a6a8463bae6d38c429f5ed42": {
      "model_module": "@jupyter-widgets/base",
      "model_module_version": "1.0.0",
      "model_name": "LayoutModel",
      "state": {}
     },
     "d92aeefa1a0f4b198a849e0b6e2439d5": {
      "model_module": "@jupyter-widgets/controls",
      "model_module_version": "1.0.0",
      "model_name": "ButtonModel",
      "state": {
       "button_style": "warning",
       "description": "37",
       "layout": "IPY_MODEL_86c93170059349499a5f76156cbd8cdf",
       "style": "IPY_MODEL_287006c856694fb096d94ecf36da90a9"
      }
     },
     "d9c076ba47384cd99565a100c8615174": {
      "model_module": "@jupyter-widgets/controls",
      "model_module_version": "1.0.0",
      "model_name": "ButtonStyleModel",
      "state": {}
     },
     "da3eac9248c94e98a816fc458bff117b": {
      "model_module": "@jupyter-widgets/base",
      "model_module_version": "1.0.0",
      "model_name": "LayoutModel",
      "state": {}
     },
     "dd37173b5c674f3782a246cab24c85b4": {
      "model_module": "@jupyter-widgets/controls",
      "model_module_version": "1.0.0",
      "model_name": "ButtonModel",
      "state": {
       "button_style": "warning",
       "description": "35",
       "layout": "IPY_MODEL_86c93170059349499a5f76156cbd8cdf",
       "style": "IPY_MODEL_6d06309ef84242af8feab43b84d41494"
      }
     },
     "ddc86795151e40c79aa787eb69e17562": {
      "model_module": "@jupyter-widgets/controls",
      "model_module_version": "1.0.0",
      "model_name": "DescriptionStyleModel",
      "state": {
       "description_width": ""
      }
     },
     "de2208827b4f48c68915e881ca794115": {
      "model_module": "@jupyter-widgets/controls",
      "model_module_version": "1.0.0",
      "model_name": "ButtonStyleModel",
      "state": {
       "button_color": "lightgreen"
      }
     },
     "e080244dd9f74b548cc3d910ac8391c9": {
      "model_module": "@jupyter-widgets/base",
      "model_module_version": "1.0.0",
      "model_name": "LayoutModel",
      "state": {}
     },
     "e0e610b5ae0546c7a8da1a4c7047c94c": {
      "model_module": "@jupyter-widgets/controls",
      "model_module_version": "1.0.0",
      "model_name": "VBoxModel",
      "state": {
       "children": [
        "IPY_MODEL_cfc4e575bdaf4c8a9b85e1ef2eff6bd2",
        "IPY_MODEL_9d9a3b6bdd494789bbd673d633cf04d2"
       ],
       "layout": "IPY_MODEL_068098de804041e281ea697d7ec634bd"
      }
     },
     "e20de192866c4b78bc7befec8c8cbb6a": {
      "model_module": "@jupyter-widgets/controls",
      "model_module_version": "1.0.0",
      "model_name": "IntSliderModel",
      "state": {
       "description": "A too long description",
       "layout": "IPY_MODEL_b698e328807e435d9ae45fda6cc1b535",
       "style": "IPY_MODEL_52f8bb66598b4437a43f84857ecaed9d"
      }
     },
     "e3f7c091d02642edb4be287ca1ad3b8c": {
      "model_module": "@jupyter-widgets/controls",
      "model_module_version": "1.0.0",
      "model_name": "ButtonStyleModel",
      "state": {}
     },
     "e4b4f16bee534374ac503ddb8cefeb2d": {
      "model_module": "@jupyter-widgets/controls",
      "model_module_version": "1.0.0",
      "model_name": "ButtonModel",
      "state": {
       "button_style": "warning",
       "description": "23",
       "layout": "IPY_MODEL_86c93170059349499a5f76156cbd8cdf",
       "style": "IPY_MODEL_776fa7f8a04742a9a95b7c5ef8e0ba6e"
      }
     },
     "e77af21d3f76480694434674087d51bf": {
      "model_module": "@jupyter-widgets/controls",
      "model_module_version": "1.0.0",
      "model_name": "ButtonModel",
      "state": {
       "button_style": "warning",
       "description": "12",
       "layout": "IPY_MODEL_86c93170059349499a5f76156cbd8cdf",
       "style": "IPY_MODEL_0495d268740a478fb417a9353429380e"
      }
     },
     "e97288a6d58c4c96999ac775891f8048": {
      "model_module": "@jupyter-widgets/controls",
      "model_module_version": "1.0.0",
      "model_name": "ButtonStyleModel",
      "state": {}
     },
     "e97b5a0afdcd4da5acdea782e5f27e71": {
      "model_module": "@jupyter-widgets/controls",
      "model_module_version": "1.0.0",
      "model_name": "ButtonStyleModel",
      "state": {}
     },
     "eb519ea549d74d80a53b7fde8954f646": {
      "model_module": "@jupyter-widgets/controls",
      "model_module_version": "1.0.0",
      "model_name": "ButtonStyleModel",
      "state": {}
     },
     "efaeb1522f6f4d09ac5b18108e38e438": {
      "model_module": "@jupyter-widgets/controls",
      "model_module_version": "1.0.0",
      "model_name": "LabelModel",
      "state": {
       "layout": "IPY_MODEL_5485f6a5b84d4fbf9425c19995c82f97",
       "style": "IPY_MODEL_b04a460354e144d390998777d793d347",
       "value": "Age of the captain"
      }
     },
     "f16528c6763648969048b081e6512640": {
      "model_module": "@jupyter-widgets/controls",
      "model_module_version": "1.0.0",
      "model_name": "ButtonStyleModel",
      "state": {}
     },
     "f17377771f7049e190a14b5c5eceb10d": {
      "model_module": "@jupyter-widgets/controls",
      "model_module_version": "1.0.0",
      "model_name": "ButtonStyleModel",
      "state": {}
     },
     "f1ea935c68574f75a7be4e1548c1065e": {
      "model_module": "@jupyter-widgets/controls",
      "model_module_version": "1.0.0",
      "model_name": "DescriptionStyleModel",
      "state": {
       "description_width": ""
      }
     },
     "f3a676438b984f99bc6d451c5e37393f": {
      "model_module": "@jupyter-widgets/controls",
      "model_module_version": "1.0.0",
      "model_name": "ButtonStyleModel",
      "state": {}
     },
     "f79ab8504cca44e297791fef4f73d832": {
      "model_module": "@jupyter-widgets/controls",
      "model_module_version": "1.0.0",
      "model_name": "ButtonModel",
      "state": {
       "button_style": "warning",
       "description": "22",
       "layout": "IPY_MODEL_86c93170059349499a5f76156cbd8cdf",
       "style": "IPY_MODEL_3245b9e93a9e411a950d348a7b1024ca"
      }
     },
     "f79b7ab5630e4514b4b76e9700d1c127": {
      "model_module": "@jupyter-widgets/controls",
      "model_module_version": "1.0.0",
      "model_name": "ButtonStyleModel",
      "state": {}
     },
     "fc77ce3cd6e342e2b28131ff8f6a3d2d": {
      "model_module": "@jupyter-widgets/controls",
      "model_module_version": "1.0.0",
      "model_name": "ButtonStyleModel",
      "state": {}
     },
     "fe5df9ccff5d496e914e9074d7640b46": {
      "model_module": "@jupyter-widgets/base",
      "model_module_version": "1.0.0",
      "model_name": "LayoutModel",
      "state": {}
     },
     "ff83abaf008e428cb7ea0ebc26e3b22a": {
      "model_module": "@jupyter-widgets/controls",
      "model_module_version": "1.0.0",
      "model_name": "LabelModel",
      "state": {
       "layout": "IPY_MODEL_3692fd149d7b4b7993f4215dc144b7d4",
       "style": "IPY_MODEL_0e5afcffed4e47e18d97bd2dc561877f",
       "value": "Ship size"
      }
     }
    },
    "version_major": 2,
    "version_minor": 0
   }
  }
 },
 "nbformat": 4,
 "nbformat_minor": 1
}
