{
 "cells": [
  {
   "cell_type": "markdown",
   "metadata": {},
   "source": [
    "## Explore Random Graphs Using NetworkX"
   ]
  },
  {
   "cell_type": "markdown",
   "metadata": {},
   "source": [
    "In this example, we build a simple UI for exploring random graphs with [NetworkX](http://networkx.github.io/)."
   ]
  },
  {
   "cell_type": "code",
   "execution_count": 1,
   "metadata": {
    "collapsed": true
   },
   "outputs": [],
   "source": [
    "from ipywidgets import interact"
   ]
  },
  {
   "cell_type": "code",
   "execution_count": 2,
   "metadata": {
    "collapsed": true
   },
   "outputs": [],
   "source": [
    "%matplotlib inline\n",
    "import matplotlib.pyplot as plt"
   ]
  },
  {
   "cell_type": "code",
   "execution_count": 3,
   "metadata": {
    "collapsed": true
   },
   "outputs": [],
   "source": [
    "import networkx as nx"
   ]
  },
  {
   "cell_type": "code",
   "execution_count": 4,
   "metadata": {
    "collapsed": true
   },
   "outputs": [],
   "source": [
    "# wrap a few graph generation functions so they have the same signature\n",
    "\n",
    "def random_lobster(n, m, k, p):\n",
    "    return nx.random_lobster(n, p, p / m)\n",
    "\n",
    "def powerlaw_cluster(n, m, k, p):\n",
    "    return nx.powerlaw_cluster_graph(n, m, p)\n",
    "\n",
    "def erdos_renyi(n, m, k, p):\n",
    "    return nx.erdos_renyi_graph(n, p)\n",
    "\n",
    "def newman_watts_strogatz(n, m, k, p):\n",
    "    return nx.newman_watts_strogatz_graph(n, k, p)\n",
    "\n",
    "def plot_random_graph(n, m, k, p, generator):\n",
    "    g = generator(n, m, k, p)\n",
    "    nx.draw(g)\n",
    "    plt.show()"
   ]
  },
  {
   "cell_type": "code",
   "execution_count": 5,
   "metadata": {},
   "outputs": [
    {
     "data": {
      "application/vnd.jupyter.widget-view+json": {
       "model_id": "1adb6ab9c83a46e88f552c70e5fe2b75",
       "version_major": 2,
       "version_minor": 0
      },
      "text/plain": [
       "A Jupyter Widget"
      ]
     },
     "metadata": {},
     "output_type": "display_data"
    }
   ],
   "source": [
    "interact(plot_random_graph, n=(2,30), m=(1,10), k=(1,10), p=(0.0, 1.0, 0.001),\n",
    "         generator={\n",
    "             'lobster': random_lobster,\n",
    "             'power law': powerlaw_cluster,\n",
    "             'Newman-Watts-Strogatz': newman_watts_strogatz,\n",
    "             u'Erdős-Rényi': erdos_renyi,\n",
    "         });"
   ]
  },
  {
   "cell_type": "code",
   "execution_count": null,
   "metadata": {
    "collapsed": true
   },
   "outputs": [],
   "source": []
  }
 ],
 "metadata": {
  "kernelspec": {
   "display_name": "Python 3",
   "language": "python",
   "name": "python3"
  },
  "language_info": {
   "codemirror_mode": {
    "name": "ipython",
    "version": 3
   },
   "file_extension": ".py",
   "mimetype": "text/x-python",
   "name": "python",
   "nbconvert_exporter": "python",
   "pygments_lexer": "ipython3",
   "version": "3.6.2"
  },
  "widgets": {
   "application/vnd.jupyter.widget-state+json": {
    "state": {
     "078ca0a6ad7841f584cf2c51fc1e655a": {
      "model_module": "@jupyter-widgets/base",
      "model_module_version": "1.0.0",
      "model_name": "LayoutModel",
      "state": {}
     },
     "1adb6ab9c83a46e88f552c70e5fe2b75": {
      "model_module": "@jupyter-widgets/controls",
      "model_module_version": "1.0.0",
      "model_name": "VBoxModel",
      "state": {
       "_dom_classes": [
        "widget-interact"
       ],
       "children": [
        "IPY_MODEL_f1586725a8564832bca32a81657cdec1",
        "IPY_MODEL_c854da5da1ce4aada7d31b3d96eeae01",
        "IPY_MODEL_2926e72273c74bd39b9ff257389f8065",
        "IPY_MODEL_c3abc09af13f4f3bb0a572762326f9b4",
        "IPY_MODEL_e5c68c9396064210acecbdf3276df2f2",
        "IPY_MODEL_cbc685f23c1b4c678d03d128cd18d060"
       ],
       "layout": "IPY_MODEL_6080ab13d68d4e70bd869f4043c07018"
      }
     },
     "2716528b10dd48389de6a7511bf92146": {
      "model_module": "@jupyter-widgets/base",
      "model_module_version": "1.0.0",
      "model_name": "LayoutModel",
      "state": {}
     },
     "2926e72273c74bd39b9ff257389f8065": {
      "model_module": "@jupyter-widgets/controls",
      "model_module_version": "1.0.0",
      "model_name": "IntSliderModel",
      "state": {
       "description": "k",
       "layout": "IPY_MODEL_b897e1b6bf2a4ee3aca3decb394740c8",
       "max": 10,
       "min": 1,
       "style": "IPY_MODEL_b8d2774d027648399e7fe37210625f29",
       "value": 5
      }
     },
     "54d6ee92f6b04aa5ae54fafebe512ca6": {
      "model_module": "@jupyter-widgets/base",
      "model_module_version": "1.0.0",
      "model_name": "LayoutModel",
      "state": {}
     },
     "6080ab13d68d4e70bd869f4043c07018": {
      "model_module": "@jupyter-widgets/base",
      "model_module_version": "1.0.0",
      "model_name": "LayoutModel",
      "state": {}
     },
     "6e0d784579cc4f38b41a8908af0499f2": {
      "model_module": "@jupyter-widgets/base",
      "model_module_version": "1.0.0",
      "model_name": "LayoutModel",
      "state": {}
     },
     "73ceafbba78c4d20ab9882e467341eb3": {
      "model_module": "@jupyter-widgets/controls",
      "model_module_version": "1.0.0",
      "model_name": "SliderStyleModel",
      "state": {
       "description_width": ""
      }
     },
     "93a2e781b79540858c859239bffe6ff3": {
      "model_module": "@jupyter-widgets/controls",
      "model_module_version": "1.0.0",
      "model_name": "SliderStyleModel",
      "state": {
       "description_width": ""
      }
     },
     "a227ce3281694c0bbc92d35668b09c00": {
      "model_module": "@jupyter-widgets/controls",
      "model_module_version": "1.0.0",
      "model_name": "DescriptionStyleModel",
      "state": {
       "description_width": ""
      }
     },
     "b36631dc728141c18e1de0461a5211f5": {
      "model_module": "@jupyter-widgets/base",
      "model_module_version": "1.0.0",
      "model_name": "LayoutModel",
      "state": {}
     },
     "b897e1b6bf2a4ee3aca3decb394740c8": {
      "model_module": "@jupyter-widgets/base",
      "model_module_version": "1.0.0",
      "model_name": "LayoutModel",
      "state": {}
     },
     "b8d2774d027648399e7fe37210625f29": {
      "model_module": "@jupyter-widgets/controls",
      "model_module_version": "1.0.0",
      "model_name": "SliderStyleModel",
      "state": {
       "description_width": ""
      }
     },
     "c3abc09af13f4f3bb0a572762326f9b4": {
      "model_module": "@jupyter-widgets/controls",
      "model_module_version": "1.0.0",
      "model_name": "FloatSliderModel",
      "state": {
       "description": "p",
       "layout": "IPY_MODEL_6e0d784579cc4f38b41a8908af0499f2",
       "max": 1,
       "step": 0.001,
       "style": "IPY_MODEL_73ceafbba78c4d20ab9882e467341eb3",
       "value": 0.5
      }
     },
     "c854da5da1ce4aada7d31b3d96eeae01": {
      "model_module": "@jupyter-widgets/controls",
      "model_module_version": "1.0.0",
      "model_name": "IntSliderModel",
      "state": {
       "description": "m",
       "layout": "IPY_MODEL_078ca0a6ad7841f584cf2c51fc1e655a",
       "max": 10,
       "min": 1,
       "style": "IPY_MODEL_ea8f3c53bd5d42b3808bc4b59c064b67",
       "value": 5
      }
     },
     "cbc685f23c1b4c678d03d128cd18d060": {
      "model_module": "@jupyter-widgets/output",
      "model_module_version": "1.0.0",
      "model_name": "OutputModel",
      "state": {
       "layout": "IPY_MODEL_54d6ee92f6b04aa5ae54fafebe512ca6",
       "outputs": [
        {
         "data": {
          "image/png": "iVBORw0KGgoAAAANSUhEUgAAAdgAAAFCCAYAAABSJMy8AAAABHNCSVQICAgIfAhkiAAAAAlwSFlz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\n0+GdsEA1AAAAAElFTkSuQmCC\n",
          "text/plain": "<matplotlib.figure.Figure at 0x11019db70>"
         },
         "metadata": {},
         "output_type": "display_data"
        }
       ]
      }
     },
     "e5c68c9396064210acecbdf3276df2f2": {
      "model_module": "@jupyter-widgets/controls",
      "model_module_version": "1.0.0",
      "model_name": "DropdownModel",
      "state": {
       "_options_labels": [
        "lobster",
        "power law",
        "Newman-Watts-Strogatz",
        "Erdős-Rényi"
       ],
       "description": "generator",
       "index": 0,
       "layout": "IPY_MODEL_2716528b10dd48389de6a7511bf92146",
       "style": "IPY_MODEL_a227ce3281694c0bbc92d35668b09c00"
      }
     },
     "ea8f3c53bd5d42b3808bc4b59c064b67": {
      "model_module": "@jupyter-widgets/controls",
      "model_module_version": "1.0.0",
      "model_name": "SliderStyleModel",
      "state": {
       "description_width": ""
      }
     },
     "f1586725a8564832bca32a81657cdec1": {
      "model_module": "@jupyter-widgets/controls",
      "model_module_version": "1.0.0",
      "model_name": "IntSliderModel",
      "state": {
       "description": "n",
       "layout": "IPY_MODEL_b36631dc728141c18e1de0461a5211f5",
       "max": 30,
       "min": 2,
       "style": "IPY_MODEL_93a2e781b79540858c859239bffe6ff3",
       "value": 16
      }
     }
    },
    "version_major": 2,
    "version_minor": 0
   }
  }
 },
 "nbformat": 4,
 "nbformat_minor": 1
}
