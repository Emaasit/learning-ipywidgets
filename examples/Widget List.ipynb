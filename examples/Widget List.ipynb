{
 "cells": [
  {
   "cell_type": "markdown",
   "metadata": {
    "nbsphinx": "hidden"
   },
   "source": [
    "[Index](Index.ipynb) - [Back](Widget Basics.ipynb) - [Next](Widget Events.ipynb)"
   ]
  },
  {
   "cell_type": "markdown",
   "metadata": {},
   "source": [
    "# Widget List"
   ]
  },
  {
   "cell_type": "code",
   "execution_count": 2,
   "metadata": {
    "collapsed": true
   },
   "outputs": [],
   "source": [
    "import ipywidgets as widgets\n",
    "from IPython.display import display"
   ]
  },
  {
   "cell_type": "markdown",
   "metadata": {
    "slideshow": {
     "slide_type": "slide"
    }
   },
   "source": [
    "## Numeric widgets"
   ]
  },
  {
   "cell_type": "markdown",
   "metadata": {},
   "source": [
    "There are 10 widgets distributed with IPython that are designed to display numeric values.  Widgets exist for displaying integers and floats, both bounded and unbounded.  The integer widgets share a similar naming scheme to their floating point counterparts.  By replacing `Float` with `Int` in the widget name, you can find the Integer equivalent."
   ]
  },
  {
   "cell_type": "markdown",
   "metadata": {},
   "source": [
    "### IntSlider"
   ]
  },
  {
   "cell_type": "code",
   "execution_count": 3,
   "metadata": {},
   "outputs": [
    {
     "data": {
      "application/vnd.jupyter.widget-view+json": {
       "model_id": "2e0fffb0640249fbaefdfd9e248f57f8",
       "version_major": 2,
       "version_minor": 0
      },
      "text/html": [
       "<p>Failed to display Jupyter Widget of type <code>IntSlider</code>.</p>\n",
       "<p>\n",
       "  If you're reading this message in the Jupyter Notebook or JupyterLab Notebook, it may mean\n",
       "  that the widgets JavaScript is still loading. If this message persists, it\n",
       "  likely means that the widgets JavaScript library is either not installed or\n",
       "  not enabled. See the <a href=\"https://ipywidgets.readthedocs.io/en/stable/user_install.html\">Jupyter\n",
       "  Widgets Documentation</a> for setup instructions.\n",
       "</p>\n",
       "<p>\n",
       "  If you're reading this message in another frontend (for example, a static\n",
       "  rendering on GitHub or <a href=\"https://nbviewer.jupyter.org/\">NBViewer</a>),\n",
       "  it may mean that your frontend doesn't currently support widgets.\n",
       "</p>\n"
      ],
      "text/plain": [
       "IntSlider(value=7, continuous_update=False, description='Test:', max=10)"
      ]
     },
     "metadata": {},
     "output_type": "display_data"
    }
   ],
   "source": [
    "w1 = widgets.IntSlider(\n",
    "        value=7,\n",
    "        min=0,\n",
    "        max=10,\n",
    "        step=1,\n",
    "        description='Test:',\n",
    "        disabled=False,\n",
    "        continuous_update=False,\n",
    "        orientation='horizontal',\n",
    "        readout=True,\n",
    "        readout_format='d'\n",
    ")\n",
    "display(w1)"
   ]
  },
  {
   "cell_type": "markdown",
   "metadata": {
    "slideshow": {
     "slide_type": "slide"
    }
   },
   "source": [
    "### FloatSlider"
   ]
  },
  {
   "cell_type": "code",
   "execution_count": 7,
   "metadata": {},
   "outputs": [
    {
     "data": {
      "application/vnd.jupyter.widget-view+json": {
       "model_id": "45234f0926d64b8da57b77d7b05a08e8",
       "version_major": 2,
       "version_minor": 0
      },
      "text/html": [
       "<p>Failed to display Jupyter Widget of type <code>FloatSlider</code>.</p>\n",
       "<p>\n",
       "  If you're reading this message in the Jupyter Notebook or JupyterLab Notebook, it may mean\n",
       "  that the widgets JavaScript is still loading. If this message persists, it\n",
       "  likely means that the widgets JavaScript library is either not installed or\n",
       "  not enabled. See the <a href=\"https://ipywidgets.readthedocs.io/en/stable/user_install.html\">Jupyter\n",
       "  Widgets Documentation</a> for setup instructions.\n",
       "</p>\n",
       "<p>\n",
       "  If you're reading this message in another frontend (for example, a static\n",
       "  rendering on GitHub or <a href=\"https://nbviewer.jupyter.org/\">NBViewer</a>),\n",
       "  it may mean that your frontend doesn't currently support widgets.\n",
       "</p>\n"
      ],
      "text/plain": [
       "FloatSlider(value=7.5, continuous_update=False, description='Test:', max=10.0, readout_format='.1f')"
      ]
     },
     "metadata": {},
     "output_type": "display_data"
    }
   ],
   "source": [
    "w2 = widgets.FloatSlider(\n",
    "        value=7.5,\n",
    "        min=0,\n",
    "        max=10.0,\n",
    "        step=0.1,\n",
    "        description='Test:',\n",
    "        disabled=False,\n",
    "        continuous_update=False,\n",
    "        orientation='horizontal',\n",
    "        readout=True,\n",
    "        readout_format='.1f',\n",
    ")\n",
    "display(w2)"
   ]
  },
  {
   "cell_type": "markdown",
   "metadata": {},
   "source": [
    "Sliders can also be **displayed vertically**."
   ]
  },
  {
   "cell_type": "code",
   "execution_count": 8,
   "metadata": {},
   "outputs": [
    {
     "data": {
      "application/vnd.jupyter.widget-view+json": {
       "model_id": "44c7a7cceeab48599b679b2054dfe299",
       "version_major": 2,
       "version_minor": 0
      },
      "text/html": [
       "<p>Failed to display Jupyter Widget of type <code>FloatSlider</code>.</p>\n",
       "<p>\n",
       "  If you're reading this message in the Jupyter Notebook or JupyterLab Notebook, it may mean\n",
       "  that the widgets JavaScript is still loading. If this message persists, it\n",
       "  likely means that the widgets JavaScript library is either not installed or\n",
       "  not enabled. See the <a href=\"https://ipywidgets.readthedocs.io/en/stable/user_install.html\">Jupyter\n",
       "  Widgets Documentation</a> for setup instructions.\n",
       "</p>\n",
       "<p>\n",
       "  If you're reading this message in another frontend (for example, a static\n",
       "  rendering on GitHub or <a href=\"https://nbviewer.jupyter.org/\">NBViewer</a>),\n",
       "  it may mean that your frontend doesn't currently support widgets.\n",
       "</p>\n"
      ],
      "text/plain": [
       "FloatSlider(value=7.5, continuous_update=False, description='Test:', max=10.0, orientation='vertical', readout_format='.1f')"
      ]
     },
     "metadata": {},
     "output_type": "display_data"
    }
   ],
   "source": [
    "widgets.FloatSlider(\n",
    "    value=7.5,\n",
    "    min=0,\n",
    "    max=10.0,\n",
    "    step=0.1,\n",
    "    description='Test:',\n",
    "    disabled=False,\n",
    "    continuous_update=False,\n",
    "    orientation='vertical',\n",
    "    readout=True,\n",
    "    readout_format='.1f',\n",
    ")"
   ]
  },
  {
   "cell_type": "markdown",
   "metadata": {},
   "source": [
    "### IntRangeSlider"
   ]
  },
  {
   "cell_type": "code",
   "execution_count": 10,
   "metadata": {},
   "outputs": [
    {
     "data": {
      "application/vnd.jupyter.widget-view+json": {
       "model_id": "0608683956094d7ebe28ceb6a092a2d4",
       "version_major": 2,
       "version_minor": 0
      },
      "text/html": [
       "<p>Failed to display Jupyter Widget of type <code>IntRangeSlider</code>.</p>\n",
       "<p>\n",
       "  If you're reading this message in the Jupyter Notebook or JupyterLab Notebook, it may mean\n",
       "  that the widgets JavaScript is still loading. If this message persists, it\n",
       "  likely means that the widgets JavaScript library is either not installed or\n",
       "  not enabled. See the <a href=\"https://ipywidgets.readthedocs.io/en/stable/user_install.html\">Jupyter\n",
       "  Widgets Documentation</a> for setup instructions.\n",
       "</p>\n",
       "<p>\n",
       "  If you're reading this message in another frontend (for example, a static\n",
       "  rendering on GitHub or <a href=\"https://nbviewer.jupyter.org/\">NBViewer</a>),\n",
       "  it may mean that your frontend doesn't currently support widgets.\n",
       "</p>\n"
      ],
      "text/plain": [
       "IntRangeSlider(value=(5, 7), continuous_update=False, description='Test:', max=10)"
      ]
     },
     "metadata": {},
     "output_type": "display_data"
    }
   ],
   "source": [
    "w4 = widgets.IntRangeSlider(\n",
    "        value=[5, 7],\n",
    "        min=0,\n",
    "        max=10,\n",
    "        step=1,\n",
    "        description='Test:',\n",
    "        disabled=False,\n",
    "        continuous_update=False,\n",
    "        orientation='horizontal',\n",
    "        readout=True,\n",
    "        readout_format='d',\n",
    ")\n",
    "display(w4)"
   ]
  },
  {
   "cell_type": "code",
   "execution_count": 13,
   "metadata": {},
   "outputs": [
    {
     "data": {
      "text/plain": [
       "(1, 6)"
      ]
     },
     "execution_count": 13,
     "metadata": {},
     "output_type": "execute_result"
    }
   ],
   "source": [
    "w4.get_interact_value()"
   ]
  },
  {
   "cell_type": "markdown",
   "metadata": {},
   "source": [
    "### FloatRangeSlider"
   ]
  },
  {
   "cell_type": "code",
   "execution_count": 14,
   "metadata": {},
   "outputs": [
    {
     "data": {
      "application/vnd.jupyter.widget-view+json": {
       "model_id": "b5aca7d89627427c938a3e85cacd1a04",
       "version_major": 2,
       "version_minor": 0
      },
      "text/html": [
       "<p>Failed to display Jupyter Widget of type <code>FloatRangeSlider</code>.</p>\n",
       "<p>\n",
       "  If you're reading this message in the Jupyter Notebook or JupyterLab Notebook, it may mean\n",
       "  that the widgets JavaScript is still loading. If this message persists, it\n",
       "  likely means that the widgets JavaScript library is either not installed or\n",
       "  not enabled. See the <a href=\"https://ipywidgets.readthedocs.io/en/stable/user_install.html\">Jupyter\n",
       "  Widgets Documentation</a> for setup instructions.\n",
       "</p>\n",
       "<p>\n",
       "  If you're reading this message in another frontend (for example, a static\n",
       "  rendering on GitHub or <a href=\"https://nbviewer.jupyter.org/\">NBViewer</a>),\n",
       "  it may mean that your frontend doesn't currently support widgets.\n",
       "</p>\n"
      ],
      "text/plain": [
       "FloatRangeSlider(value=(5.0, 7.5), continuous_update=False, description='Test:', max=10.0, readout_format='.1f')"
      ]
     },
     "metadata": {},
     "output_type": "display_data"
    }
   ],
   "source": [
    "widgets.FloatRangeSlider(\n",
    "    value=[5, 7.5],\n",
    "    min=0,\n",
    "    max=10.0,\n",
    "    step=0.1,\n",
    "    description='Test:',\n",
    "    disabled=False,\n",
    "    continuous_update=False,\n",
    "    orientation='horizontal',\n",
    "    readout=True,\n",
    "    readout_format='.1f',\n",
    ")"
   ]
  },
  {
   "cell_type": "markdown",
   "metadata": {},
   "source": [
    "### IntProgress"
   ]
  },
  {
   "cell_type": "code",
   "execution_count": 24,
   "metadata": {},
   "outputs": [
    {
     "data": {
      "application/vnd.jupyter.widget-view+json": {
       "model_id": "08afbfd9d98a4587a4aeee493d63d327",
       "version_major": 2,
       "version_minor": 0
      },
      "text/html": [
       "<p>Failed to display Jupyter Widget of type <code>IntProgress</code>.</p>\n",
       "<p>\n",
       "  If you're reading this message in the Jupyter Notebook or JupyterLab Notebook, it may mean\n",
       "  that the widgets JavaScript is still loading. If this message persists, it\n",
       "  likely means that the widgets JavaScript library is either not installed or\n",
       "  not enabled. See the <a href=\"https://ipywidgets.readthedocs.io/en/stable/user_install.html\">Jupyter\n",
       "  Widgets Documentation</a> for setup instructions.\n",
       "</p>\n",
       "<p>\n",
       "  If you're reading this message in another frontend (for example, a static\n",
       "  rendering on GitHub or <a href=\"https://nbviewer.jupyter.org/\">NBViewer</a>),\n",
       "  it may mean that your frontend doesn't currently support widgets.\n",
       "</p>\n"
      ],
      "text/plain": [
       "IntProgress(value=7, bar_style='success', description='Loading:', max=10)"
      ]
     },
     "metadata": {},
     "output_type": "display_data"
    }
   ],
   "source": [
    "w6 = widgets.IntProgress(\n",
    "        value=7,\n",
    "        min=0,\n",
    "        max=10,\n",
    "        step=1,\n",
    "        description='Loading:',\n",
    "        bar_style='success', # 'success', 'info', 'warning', 'danger' or ''\n",
    "        orientation='horizontal'\n",
    ")\n",
    "display(w6)"
   ]
  },
  {
   "cell_type": "code",
   "execution_count": 25,
   "metadata": {},
   "outputs": [
    {
     "data": {
      "text/plain": [
       "7"
      ]
     },
     "execution_count": 25,
     "metadata": {},
     "output_type": "execute_result"
    }
   ],
   "source": [
    "w6.get_interact_value()"
   ]
  },
  {
   "cell_type": "markdown",
   "metadata": {
    "slideshow": {
     "slide_type": "slide"
    }
   },
   "source": [
    "### FloatProgress"
   ]
  },
  {
   "cell_type": "code",
   "execution_count": 23,
   "metadata": {},
   "outputs": [
    {
     "data": {
      "application/vnd.jupyter.widget-view+json": {
       "model_id": "4a12d0944a7f4a58b2c1ebfcd76725f1",
       "version_major": 2,
       "version_minor": 0
      },
      "text/html": [
       "<p>Failed to display Jupyter Widget of type <code>FloatProgress</code>.</p>\n",
       "<p>\n",
       "  If you're reading this message in the Jupyter Notebook or JupyterLab Notebook, it may mean\n",
       "  that the widgets JavaScript is still loading. If this message persists, it\n",
       "  likely means that the widgets JavaScript library is either not installed or\n",
       "  not enabled. See the <a href=\"https://ipywidgets.readthedocs.io/en/stable/user_install.html\">Jupyter\n",
       "  Widgets Documentation</a> for setup instructions.\n",
       "</p>\n",
       "<p>\n",
       "  If you're reading this message in another frontend (for example, a static\n",
       "  rendering on GitHub or <a href=\"https://nbviewer.jupyter.org/\">NBViewer</a>),\n",
       "  it may mean that your frontend doesn't currently support widgets.\n",
       "</p>\n"
      ],
      "text/plain": [
       "FloatProgress(value=7.5, bar_style='info', description='Loading:', max=10.0)"
      ]
     },
     "metadata": {},
     "output_type": "display_data"
    }
   ],
   "source": [
    "widgets.FloatProgress(\n",
    "    value=7.5,\n",
    "    min=0,\n",
    "    max=10.0,\n",
    "    step=0.1,\n",
    "    description='Loading:',\n",
    "    bar_style='info',\n",
    "    orientation='horizontal'\n",
    ")"
   ]
  },
  {
   "cell_type": "markdown",
   "metadata": {},
   "source": [
    "The numerical text boxes that impose some limit on the data (range, integer-only) impose that restriction when the user presses enter.\n",
    "\n",
    "### BoundedIntText"
   ]
  },
  {
   "cell_type": "code",
   "execution_count": 28,
   "metadata": {},
   "outputs": [
    {
     "data": {
      "application/vnd.jupyter.widget-view+json": {
       "model_id": "11a34ede1c404fc9925b8774ada6d1fd",
       "version_major": 2,
       "version_minor": 0
      },
      "text/html": [
       "<p>Failed to display Jupyter Widget of type <code>BoundedIntText</code>.</p>\n",
       "<p>\n",
       "  If you're reading this message in the Jupyter Notebook or JupyterLab Notebook, it may mean\n",
       "  that the widgets JavaScript is still loading. If this message persists, it\n",
       "  likely means that the widgets JavaScript library is either not installed or\n",
       "  not enabled. See the <a href=\"https://ipywidgets.readthedocs.io/en/stable/user_install.html\">Jupyter\n",
       "  Widgets Documentation</a> for setup instructions.\n",
       "</p>\n",
       "<p>\n",
       "  If you're reading this message in another frontend (for example, a static\n",
       "  rendering on GitHub or <a href=\"https://nbviewer.jupyter.org/\">NBViewer</a>),\n",
       "  it may mean that your frontend doesn't currently support widgets.\n",
       "</p>\n"
      ],
      "text/plain": [
       "BoundedIntText(value=7, description='Iterations:', max=10)"
      ]
     },
     "metadata": {},
     "output_type": "display_data"
    }
   ],
   "source": [
    "widgets.BoundedIntText(\n",
    "    value=7,\n",
    "    min=0,\n",
    "    max=10,\n",
    "    step=1,\n",
    "    description='Iterations:',\n",
    "    disabled=False\n",
    ")"
   ]
  },
  {
   "cell_type": "markdown",
   "metadata": {
    "slideshow": {
     "slide_type": "slide"
    }
   },
   "source": [
    "### BoundedFloatText"
   ]
  },
  {
   "cell_type": "code",
   "execution_count": 29,
   "metadata": {},
   "outputs": [
    {
     "data": {
      "application/vnd.jupyter.widget-view+json": {
       "model_id": "d810a5dd510d4f24816bb67d5513c71d",
       "version_major": 2,
       "version_minor": 0
      },
      "text/html": [
       "<p>Failed to display Jupyter Widget of type <code>BoundedFloatText</code>.</p>\n",
       "<p>\n",
       "  If you're reading this message in the Jupyter Notebook or JupyterLab Notebook, it may mean\n",
       "  that the widgets JavaScript is still loading. If this message persists, it\n",
       "  likely means that the widgets JavaScript library is either not installed or\n",
       "  not enabled. See the <a href=\"https://ipywidgets.readthedocs.io/en/stable/user_install.html\">Jupyter\n",
       "  Widgets Documentation</a> for setup instructions.\n",
       "</p>\n",
       "<p>\n",
       "  If you're reading this message in another frontend (for example, a static\n",
       "  rendering on GitHub or <a href=\"https://nbviewer.jupyter.org/\">NBViewer</a>),\n",
       "  it may mean that your frontend doesn't currently support widgets.\n",
       "</p>\n"
      ],
      "text/plain": [
       "BoundedFloatText(value=7.5, description='Text:', max=10.0, step=0.1)"
      ]
     },
     "metadata": {},
     "output_type": "display_data"
    }
   ],
   "source": [
    "widgets.BoundedFloatText(\n",
    "    value=7.5,\n",
    "    min=0,\n",
    "    max=10.0,\n",
    "    step=0.1,\n",
    "    description='Text:',\n",
    "    disabled=False\n",
    ")"
   ]
  },
  {
   "cell_type": "markdown",
   "metadata": {},
   "source": [
    "### IntText"
   ]
  },
  {
   "cell_type": "code",
   "execution_count": 30,
   "metadata": {},
   "outputs": [
    {
     "data": {
      "application/vnd.jupyter.widget-view+json": {
       "model_id": "5ab887cde64646aaa76e94e1f1b69da6",
       "version_major": 2,
       "version_minor": 0
      },
      "text/html": [
       "<p>Failed to display Jupyter Widget of type <code>IntText</code>.</p>\n",
       "<p>\n",
       "  If you're reading this message in the Jupyter Notebook or JupyterLab Notebook, it may mean\n",
       "  that the widgets JavaScript is still loading. If this message persists, it\n",
       "  likely means that the widgets JavaScript library is either not installed or\n",
       "  not enabled. See the <a href=\"https://ipywidgets.readthedocs.io/en/stable/user_install.html\">Jupyter\n",
       "  Widgets Documentation</a> for setup instructions.\n",
       "</p>\n",
       "<p>\n",
       "  If you're reading this message in another frontend (for example, a static\n",
       "  rendering on GitHub or <a href=\"https://nbviewer.jupyter.org/\">NBViewer</a>),\n",
       "  it may mean that your frontend doesn't currently support widgets.\n",
       "</p>\n"
      ],
      "text/plain": [
       "IntText(value=7, description='Any:')"
      ]
     },
     "metadata": {},
     "output_type": "display_data"
    }
   ],
   "source": [
    "widgets.IntText(\n",
    "    value=7,\n",
    "    description='Any:',\n",
    "    disabled=False\n",
    ")"
   ]
  },
  {
   "cell_type": "markdown",
   "metadata": {
    "slideshow": {
     "slide_type": "slide"
    }
   },
   "source": [
    "### FloatText"
   ]
  },
  {
   "cell_type": "code",
   "execution_count": 31,
   "metadata": {},
   "outputs": [
    {
     "data": {
      "application/vnd.jupyter.widget-view+json": {
       "model_id": "39a699fbb13e44bbaf7fce6eba461649",
       "version_major": 2,
       "version_minor": 0
      },
      "text/html": [
       "<p>Failed to display Jupyter Widget of type <code>FloatText</code>.</p>\n",
       "<p>\n",
       "  If you're reading this message in the Jupyter Notebook or JupyterLab Notebook, it may mean\n",
       "  that the widgets JavaScript is still loading. If this message persists, it\n",
       "  likely means that the widgets JavaScript library is either not installed or\n",
       "  not enabled. See the <a href=\"https://ipywidgets.readthedocs.io/en/stable/user_install.html\">Jupyter\n",
       "  Widgets Documentation</a> for setup instructions.\n",
       "</p>\n",
       "<p>\n",
       "  If you're reading this message in another frontend (for example, a static\n",
       "  rendering on GitHub or <a href=\"https://nbviewer.jupyter.org/\">NBViewer</a>),\n",
       "  it may mean that your frontend doesn't currently support widgets.\n",
       "</p>\n"
      ],
      "text/plain": [
       "FloatText(value=7.5, description='Any:')"
      ]
     },
     "metadata": {},
     "output_type": "display_data"
    }
   ],
   "source": [
    "widgets.FloatText(\n",
    "    value=7.5,\n",
    "    description='Any:',\n",
    "    disabled=False\n",
    ")"
   ]
  },
  {
   "cell_type": "markdown",
   "metadata": {
    "slideshow": {
     "slide_type": "slide"
    }
   },
   "source": [
    "## Boolean widgets"
   ]
  },
  {
   "cell_type": "markdown",
   "metadata": {},
   "source": [
    "There are three widgets that are designed to display a boolean value."
   ]
  },
  {
   "cell_type": "markdown",
   "metadata": {},
   "source": [
    "### ToggleButton"
   ]
  },
  {
   "cell_type": "code",
   "execution_count": 50,
   "metadata": {},
   "outputs": [
    {
     "data": {
      "application/vnd.jupyter.widget-view+json": {
       "model_id": "116ccd69c7fe46589a1b5c83ee12ba0b",
       "version_major": 2,
       "version_minor": 0
      },
      "text/html": [
       "<p>Failed to display Jupyter Widget of type <code>ToggleButton</code>.</p>\n",
       "<p>\n",
       "  If you're reading this message in the Jupyter Notebook or JupyterLab Notebook, it may mean\n",
       "  that the widgets JavaScript is still loading. If this message persists, it\n",
       "  likely means that the widgets JavaScript library is either not installed or\n",
       "  not enabled. See the <a href=\"https://ipywidgets.readthedocs.io/en/stable/user_install.html\">Jupyter\n",
       "  Widgets Documentation</a> for setup instructions.\n",
       "</p>\n",
       "<p>\n",
       "  If you're reading this message in another frontend (for example, a static\n",
       "  rendering on GitHub or <a href=\"https://nbviewer.jupyter.org/\">NBViewer</a>),\n",
       "  it may mean that your frontend doesn't currently support widgets.\n",
       "</p>\n"
      ],
      "text/plain": [
       "ToggleButton(value=True, button_style='info', description='Click to Run', icon='check', tooltip='Click this button to run the detector')"
      ]
     },
     "metadata": {},
     "output_type": "display_data"
    }
   ],
   "source": [
    "w7 = widgets.ToggleButton(\n",
    "        value=True,\n",
    "        description='Click to Run',\n",
    "        disabled=False,\n",
    "        button_style='info', # 'success', 'info', 'warning', 'danger' or ''\n",
    "        tooltip='Click this button to run the detector',\n",
    "        icon='check'\n",
    ")\n",
    "display(w7)"
   ]
  },
  {
   "cell_type": "code",
   "execution_count": 49,
   "metadata": {},
   "outputs": [
    {
     "data": {
      "text/plain": [
       "False"
      ]
     },
     "execution_count": 49,
     "metadata": {},
     "output_type": "execute_result"
    }
   ],
   "source": [
    "w7.get_interact_value()"
   ]
  },
  {
   "cell_type": "markdown",
   "metadata": {
    "slideshow": {
     "slide_type": "slide"
    }
   },
   "source": [
    "### Checkbox"
   ]
  },
  {
   "cell_type": "code",
   "execution_count": 36,
   "metadata": {},
   "outputs": [
    {
     "data": {
      "application/vnd.jupyter.widget-view+json": {
       "model_id": "9c0c1856c06d40768e23f73032706b67",
       "version_major": 2,
       "version_minor": 0
      },
      "text/html": [
       "<p>Failed to display Jupyter Widget of type <code>Checkbox</code>.</p>\n",
       "<p>\n",
       "  If you're reading this message in the Jupyter Notebook or JupyterLab Notebook, it may mean\n",
       "  that the widgets JavaScript is still loading. If this message persists, it\n",
       "  likely means that the widgets JavaScript library is either not installed or\n",
       "  not enabled. See the <a href=\"https://ipywidgets.readthedocs.io/en/stable/user_install.html\">Jupyter\n",
       "  Widgets Documentation</a> for setup instructions.\n",
       "</p>\n",
       "<p>\n",
       "  If you're reading this message in another frontend (for example, a static\n",
       "  rendering on GitHub or <a href=\"https://nbviewer.jupyter.org/\">NBViewer</a>),\n",
       "  it may mean that your frontend doesn't currently support widgets.\n",
       "</p>\n"
      ],
      "text/plain": [
       "Checkbox(value=False, description='Check me')"
      ]
     },
     "metadata": {},
     "output_type": "display_data"
    }
   ],
   "source": [
    "widgets.Checkbox(\n",
    "    value=False,\n",
    "    description='Check me',\n",
    "    disabled=False\n",
    ")"
   ]
  },
  {
   "cell_type": "markdown",
   "metadata": {},
   "source": [
    "### Valid\n",
    "\n",
    "The valid widget provides a read-only indicator."
   ]
  },
  {
   "cell_type": "code",
   "execution_count": 37,
   "metadata": {},
   "outputs": [
    {
     "data": {
      "application/vnd.jupyter.widget-view+json": {
       "model_id": "599d8efb1b2245609e800f8d0108c413",
       "version_major": 2,
       "version_minor": 0
      },
      "text/html": [
       "<p>Failed to display Jupyter Widget of type <code>Valid</code>.</p>\n",
       "<p>\n",
       "  If you're reading this message in the Jupyter Notebook or JupyterLab Notebook, it may mean\n",
       "  that the widgets JavaScript is still loading. If this message persists, it\n",
       "  likely means that the widgets JavaScript library is either not installed or\n",
       "  not enabled. See the <a href=\"https://ipywidgets.readthedocs.io/en/stable/user_install.html\">Jupyter\n",
       "  Widgets Documentation</a> for setup instructions.\n",
       "</p>\n",
       "<p>\n",
       "  If you're reading this message in another frontend (for example, a static\n",
       "  rendering on GitHub or <a href=\"https://nbviewer.jupyter.org/\">NBViewer</a>),\n",
       "  it may mean that your frontend doesn't currently support widgets.\n",
       "</p>\n"
      ],
      "text/plain": [
       "Valid(value=False, description='Valid!')"
      ]
     },
     "metadata": {},
     "output_type": "display_data"
    }
   ],
   "source": [
    "widgets.Valid(\n",
    "    value=False,\n",
    "    description='Valid!',\n",
    ")"
   ]
  },
  {
   "cell_type": "markdown",
   "metadata": {
    "slideshow": {
     "slide_type": "slide"
    }
   },
   "source": [
    "## Selection widgets"
   ]
  },
  {
   "cell_type": "markdown",
   "metadata": {},
   "source": [
    "There are several widgets that can be used to display single selection lists, and two that can be used to select multiple values.  All inherit from the same base class.  You can specify the **enumeration of selectable options by passing a list** (options are either (label, value) pairs, or simply values for which the labels are derived by calling `str`).  You can **also specify the enumeration as a dictionary**, in which case the **keys will be used as the item displayed** in the list and the corresponding **value will be used** when an item is selected (in this case, since dictionaries are unordered, the displayed order of items in the widget is unspecified)."
   ]
  },
  {
   "cell_type": "markdown",
   "metadata": {
    "slideshow": {
     "slide_type": "slide"
    }
   },
   "source": [
    "### Dropdown"
   ]
  },
  {
   "cell_type": "code",
   "execution_count": 51,
   "metadata": {},
   "outputs": [
    {
     "data": {
      "application/vnd.jupyter.widget-view+json": {
       "model_id": "d0f6da790131473292b3ec8fcbbb3f62",
       "version_major": 2,
       "version_minor": 0
      },
      "text/html": [
       "<p>Failed to display Jupyter Widget of type <code>Dropdown</code>.</p>\n",
       "<p>\n",
       "  If you're reading this message in the Jupyter Notebook or JupyterLab Notebook, it may mean\n",
       "  that the widgets JavaScript is still loading. If this message persists, it\n",
       "  likely means that the widgets JavaScript library is either not installed or\n",
       "  not enabled. See the <a href=\"https://ipywidgets.readthedocs.io/en/stable/user_install.html\">Jupyter\n",
       "  Widgets Documentation</a> for setup instructions.\n",
       "</p>\n",
       "<p>\n",
       "  If you're reading this message in another frontend (for example, a static\n",
       "  rendering on GitHub or <a href=\"https://nbviewer.jupyter.org/\">NBViewer</a>),\n",
       "  it may mean that your frontend doesn't currently support widgets.\n",
       "</p>\n"
      ],
      "text/plain": [
       "Dropdown(description='Number:', index=1, options=('1', '2', '3'), value='2')"
      ]
     },
     "metadata": {},
     "output_type": "display_data"
    }
   ],
   "source": [
    "widgets.Dropdown(\n",
    "    options=['1', '2', '3'],\n",
    "    value='2',\n",
    "    description='Number:',\n",
    "    disabled=False,\n",
    ")"
   ]
  },
  {
   "cell_type": "markdown",
   "metadata": {},
   "source": [
    "The following is also valid:"
   ]
  },
  {
   "cell_type": "code",
   "execution_count": 52,
   "metadata": {},
   "outputs": [
    {
     "data": {
      "application/vnd.jupyter.widget-view+json": {
       "model_id": "d6b4062dcc644cad8b6f6398e5f3f913",
       "version_major": 2,
       "version_minor": 0
      },
      "text/html": [
       "<p>Failed to display Jupyter Widget of type <code>Dropdown</code>.</p>\n",
       "<p>\n",
       "  If you're reading this message in the Jupyter Notebook or JupyterLab Notebook, it may mean\n",
       "  that the widgets JavaScript is still loading. If this message persists, it\n",
       "  likely means that the widgets JavaScript library is either not installed or\n",
       "  not enabled. See the <a href=\"https://ipywidgets.readthedocs.io/en/stable/user_install.html\">Jupyter\n",
       "  Widgets Documentation</a> for setup instructions.\n",
       "</p>\n",
       "<p>\n",
       "  If you're reading this message in another frontend (for example, a static\n",
       "  rendering on GitHub or <a href=\"https://nbviewer.jupyter.org/\">NBViewer</a>),\n",
       "  it may mean that your frontend doesn't currently support widgets.\n",
       "</p>\n"
      ],
      "text/plain": [
       "Dropdown(description='Number:', index=1, options={'One': 1, 'Two': 2, 'Three': 3}, value=2)"
      ]
     },
     "metadata": {},
     "output_type": "display_data"
    }
   ],
   "source": [
    "widgets.Dropdown(\n",
    "    options={'One': 1, 'Two': 2, 'Three': 3},\n",
    "    value=2,\n",
    "    description='Number:',\n",
    ")"
   ]
  },
  {
   "cell_type": "markdown",
   "metadata": {
    "slideshow": {
     "slide_type": "slide"
    }
   },
   "source": [
    "### RadioButtons"
   ]
  },
  {
   "cell_type": "code",
   "execution_count": 53,
   "metadata": {},
   "outputs": [
    {
     "data": {
      "application/vnd.jupyter.widget-view+json": {
       "model_id": "b4ff48e1d6ae45f1a8c9e7e6f2ea65f3",
       "version_major": 2,
       "version_minor": 0
      },
      "text/html": [
       "<p>Failed to display Jupyter Widget of type <code>RadioButtons</code>.</p>\n",
       "<p>\n",
       "  If you're reading this message in the Jupyter Notebook or JupyterLab Notebook, it may mean\n",
       "  that the widgets JavaScript is still loading. If this message persists, it\n",
       "  likely means that the widgets JavaScript library is either not installed or\n",
       "  not enabled. See the <a href=\"https://ipywidgets.readthedocs.io/en/stable/user_install.html\">Jupyter\n",
       "  Widgets Documentation</a> for setup instructions.\n",
       "</p>\n",
       "<p>\n",
       "  If you're reading this message in another frontend (for example, a static\n",
       "  rendering on GitHub or <a href=\"https://nbviewer.jupyter.org/\">NBViewer</a>),\n",
       "  it may mean that your frontend doesn't currently support widgets.\n",
       "</p>\n"
      ],
      "text/plain": [
       "RadioButtons(description='Pizza topping:', options=('pepperoni', 'pineapple', 'anchovies'), value='pepperoni')"
      ]
     },
     "metadata": {},
     "output_type": "display_data"
    }
   ],
   "source": [
    "widgets.RadioButtons(\n",
    "    options=['pepperoni', 'pineapple', 'anchovies'],\n",
    "#     value='pineapple',\n",
    "    description='Pizza topping:',\n",
    "    disabled=False\n",
    ")"
   ]
  },
  {
   "cell_type": "markdown",
   "metadata": {
    "slideshow": {
     "slide_type": "slide"
    }
   },
   "source": [
    "### Select"
   ]
  },
  {
   "cell_type": "code",
   "execution_count": 54,
   "metadata": {},
   "outputs": [
    {
     "data": {
      "application/vnd.jupyter.widget-view+json": {
       "model_id": "9ebb762f21b54f88b32726da905fd279",
       "version_major": 2,
       "version_minor": 0
      },
      "text/html": [
       "<p>Failed to display Jupyter Widget of type <code>Select</code>.</p>\n",
       "<p>\n",
       "  If you're reading this message in the Jupyter Notebook or JupyterLab Notebook, it may mean\n",
       "  that the widgets JavaScript is still loading. If this message persists, it\n",
       "  likely means that the widgets JavaScript library is either not installed or\n",
       "  not enabled. See the <a href=\"https://ipywidgets.readthedocs.io/en/stable/user_install.html\">Jupyter\n",
       "  Widgets Documentation</a> for setup instructions.\n",
       "</p>\n",
       "<p>\n",
       "  If you're reading this message in another frontend (for example, a static\n",
       "  rendering on GitHub or <a href=\"https://nbviewer.jupyter.org/\">NBViewer</a>),\n",
       "  it may mean that your frontend doesn't currently support widgets.\n",
       "</p>\n"
      ],
      "text/plain": [
       "Select(description='OS:', index=2, options=('Linux', 'Windows', 'OSX'), value='OSX')"
      ]
     },
     "metadata": {},
     "output_type": "display_data"
    }
   ],
   "source": [
    "widgets.Select(\n",
    "    options=['Linux', 'Windows', 'OSX'],\n",
    "    value='OSX',\n",
    "    # rows=10,\n",
    "    description='OS:',\n",
    "    disabled=False\n",
    ")"
   ]
  },
  {
   "cell_type": "markdown",
   "metadata": {},
   "source": [
    "### SelectionSlider"
   ]
  },
  {
   "cell_type": "code",
   "execution_count": 55,
   "metadata": {},
   "outputs": [
    {
     "data": {
      "application/vnd.jupyter.widget-view+json": {
       "model_id": "ebc86e8cd0104610bf8a698e3b29a6c1",
       "version_major": 2,
       "version_minor": 0
      },
      "text/html": [
       "<p>Failed to display Jupyter Widget of type <code>SelectionSlider</code>.</p>\n",
       "<p>\n",
       "  If you're reading this message in the Jupyter Notebook or JupyterLab Notebook, it may mean\n",
       "  that the widgets JavaScript is still loading. If this message persists, it\n",
       "  likely means that the widgets JavaScript library is either not installed or\n",
       "  not enabled. See the <a href=\"https://ipywidgets.readthedocs.io/en/stable/user_install.html\">Jupyter\n",
       "  Widgets Documentation</a> for setup instructions.\n",
       "</p>\n",
       "<p>\n",
       "  If you're reading this message in another frontend (for example, a static\n",
       "  rendering on GitHub or <a href=\"https://nbviewer.jupyter.org/\">NBViewer</a>),\n",
       "  it may mean that your frontend doesn't currently support widgets.\n",
       "</p>\n"
      ],
      "text/plain": [
       "SelectionSlider(continuous_update=False, description='I like my eggs ...', index=1, options=('scrambled', 'sunny side up', 'poached', 'over easy'), value='sunny side up')"
      ]
     },
     "metadata": {},
     "output_type": "display_data"
    }
   ],
   "source": [
    "widgets.SelectionSlider(\n",
    "    options=['scrambled', 'sunny side up', 'poached', 'over easy'],\n",
    "    value='sunny side up',\n",
    "    description='I like my eggs ...',\n",
    "    disabled=False,\n",
    "    continuous_update=False,\n",
    "    orientation='horizontal',\n",
    "    readout=True\n",
    ")"
   ]
  },
  {
   "cell_type": "markdown",
   "metadata": {},
   "source": [
    "### SelectionRangeSlider\n",
    "\n",
    "The value, index, and label keys are 2-tuples of the min and max values selected. The options must be nonempty."
   ]
  },
  {
   "cell_type": "code",
   "execution_count": 56,
   "metadata": {},
   "outputs": [
    {
     "data": {
      "application/vnd.jupyter.widget-view+json": {
       "model_id": "3bcdf2d692574d5d863e3364cda74d45",
       "version_major": 2,
       "version_minor": 0
      },
      "text/html": [
       "<p>Failed to display Jupyter Widget of type <code>SelectionRangeSlider</code>.</p>\n",
       "<p>\n",
       "  If you're reading this message in the Jupyter Notebook or JupyterLab Notebook, it may mean\n",
       "  that the widgets JavaScript is still loading. If this message persists, it\n",
       "  likely means that the widgets JavaScript library is either not installed or\n",
       "  not enabled. See the <a href=\"https://ipywidgets.readthedocs.io/en/stable/user_install.html\">Jupyter\n",
       "  Widgets Documentation</a> for setup instructions.\n",
       "</p>\n",
       "<p>\n",
       "  If you're reading this message in another frontend (for example, a static\n",
       "  rendering on GitHub or <a href=\"https://nbviewer.jupyter.org/\">NBViewer</a>),\n",
       "  it may mean that your frontend doesn't currently support widgets.\n",
       "</p>\n"
      ],
      "text/plain": [
       "SelectionRangeSlider(description='Months (2015)', index=(0, 11), options=(('Jan', datetime.date(2015, 1, 1)), ('Feb', datetime.date(2015, 2, 1)), ('Mar', datetime.date(2015, 3, 1)), ('Apr', datetime.date(2015, 4, 1)), ('May', datetime.date(2015, 5, 1)), ('Jun', datetime.date(2015, 6, 1)), ('Jul', datetime.date(2015, 7, 1)), ('Aug', datetime.date(2015, 8, 1)), ('Sep', datetime.date(2015, 9, 1)), ('Oct', datetime.date(2015, 10, 1)), ('Nov', datetime.date(2015, 11, 1)), ('Dec', datetime.date(2015, 12, 1))), value=(datetime.date(2015, 1, 1), datetime.date(2015, 12, 1)))"
      ]
     },
     "metadata": {},
     "output_type": "display_data"
    }
   ],
   "source": [
    "import datetime\n",
    "dates = [datetime.date(2015,i,1) for i in range(1,13)]\n",
    "options = [(i.strftime('%b'), i) for i in dates]\n",
    "widgets.SelectionRangeSlider(\n",
    "    options=options,\n",
    "    index=(0,11),\n",
    "    description='Months (2015)',\n",
    "    disabled=False\n",
    ")"
   ]
  },
  {
   "cell_type": "markdown",
   "metadata": {
    "slideshow": {
     "slide_type": "slide"
    }
   },
   "source": [
    "### ToggleButtons"
   ]
  },
  {
   "cell_type": "code",
   "execution_count": 58,
   "metadata": {},
   "outputs": [
    {
     "data": {
      "application/vnd.jupyter.widget-view+json": {
       "model_id": "ced7c732185742e697bc75499303774f",
       "version_major": 2,
       "version_minor": 0
      },
      "text/html": [
       "<p>Failed to display Jupyter Widget of type <code>ToggleButtons</code>.</p>\n",
       "<p>\n",
       "  If you're reading this message in the Jupyter Notebook or JupyterLab Notebook, it may mean\n",
       "  that the widgets JavaScript is still loading. If this message persists, it\n",
       "  likely means that the widgets JavaScript library is either not installed or\n",
       "  not enabled. See the <a href=\"https://ipywidgets.readthedocs.io/en/stable/user_install.html\">Jupyter\n",
       "  Widgets Documentation</a> for setup instructions.\n",
       "</p>\n",
       "<p>\n",
       "  If you're reading this message in another frontend (for example, a static\n",
       "  rendering on GitHub or <a href=\"https://nbviewer.jupyter.org/\">NBViewer</a>),\n",
       "  it may mean that your frontend doesn't currently support widgets.\n",
       "</p>\n"
      ],
      "text/plain": [
       "ToggleButtons(button_style='info', description='Accuracy:', options=('Low', 'Medium', 'High'), tooltips=['Description of slow', 'Description of regular', 'Description of fast'], value='Low')"
      ]
     },
     "metadata": {},
     "output_type": "display_data"
    }
   ],
   "source": [
    "widgets.ToggleButtons(\n",
    "    options=['Low', 'Medium', 'High'],\n",
    "    description='Accuracy:',\n",
    "    disabled=False,\n",
    "    button_style='info', # 'success', 'info', 'warning', 'danger' or ''\n",
    "    tooltips=['Description of slow', 'Description of regular', 'Description of fast'],\n",
    "#     icons=['check'] * 3\n",
    ")"
   ]
  },
  {
   "cell_type": "markdown",
   "metadata": {},
   "source": [
    "### SelectMultiple\n",
    "Multiple values can be selected with <kbd>shift</kbd> and/or <kbd>ctrl</kbd> (or <kbd>command</kbd>) pressed and mouse clicks or arrow keys."
   ]
  },
  {
   "cell_type": "code",
   "execution_count": 59,
   "metadata": {},
   "outputs": [
    {
     "data": {
      "application/vnd.jupyter.widget-view+json": {
       "model_id": "683cebe36e9f40569883f6481cf83d85",
       "version_major": 2,
       "version_minor": 0
      },
      "text/html": [
       "<p>Failed to display Jupyter Widget of type <code>SelectMultiple</code>.</p>\n",
       "<p>\n",
       "  If you're reading this message in the Jupyter Notebook or JupyterLab Notebook, it may mean\n",
       "  that the widgets JavaScript is still loading. If this message persists, it\n",
       "  likely means that the widgets JavaScript library is either not installed or\n",
       "  not enabled. See the <a href=\"https://ipywidgets.readthedocs.io/en/stable/user_install.html\">Jupyter\n",
       "  Widgets Documentation</a> for setup instructions.\n",
       "</p>\n",
       "<p>\n",
       "  If you're reading this message in another frontend (for example, a static\n",
       "  rendering on GitHub or <a href=\"https://nbviewer.jupyter.org/\">NBViewer</a>),\n",
       "  it may mean that your frontend doesn't currently support widgets.\n",
       "</p>\n"
      ],
      "text/plain": [
       "SelectMultiple(description='Fruits', index=(1,), options=('Apples', 'Oranges', 'Pears'), value=('Oranges',))"
      ]
     },
     "metadata": {},
     "output_type": "display_data"
    }
   ],
   "source": [
    "widgets.SelectMultiple(\n",
    "    options=['Apples', 'Oranges', 'Pears'],\n",
    "    value=['Oranges'],\n",
    "    #rows=10,\n",
    "    description='Fruits',\n",
    "    disabled=False\n",
    ")"
   ]
  },
  {
   "cell_type": "markdown",
   "metadata": {
    "slideshow": {
     "slide_type": "slide"
    }
   },
   "source": [
    "## String widgets"
   ]
  },
  {
   "cell_type": "markdown",
   "metadata": {},
   "source": [
    "There are several widgets that can be used to display a string value.  The `Text` and `Textarea` widgets accept input.  The `HTML` and `HTMLMath` widgets display a string as HTML (`HTMLMath` also renders math). The `Label` widget can be used to construct a custom control label."
   ]
  },
  {
   "cell_type": "markdown",
   "metadata": {
    "slideshow": {
     "slide_type": "slide"
    }
   },
   "source": [
    "### Text"
   ]
  },
  {
   "cell_type": "code",
   "execution_count": 60,
   "metadata": {},
   "outputs": [
    {
     "data": {
      "application/vnd.jupyter.widget-view+json": {
       "model_id": "2abfa56fee634d449014f2eeefbfba7f",
       "version_major": 2,
       "version_minor": 0
      },
      "text/html": [
       "<p>Failed to display Jupyter Widget of type <code>Text</code>.</p>\n",
       "<p>\n",
       "  If you're reading this message in the Jupyter Notebook or JupyterLab Notebook, it may mean\n",
       "  that the widgets JavaScript is still loading. If this message persists, it\n",
       "  likely means that the widgets JavaScript library is either not installed or\n",
       "  not enabled. See the <a href=\"https://ipywidgets.readthedocs.io/en/stable/user_install.html\">Jupyter\n",
       "  Widgets Documentation</a> for setup instructions.\n",
       "</p>\n",
       "<p>\n",
       "  If you're reading this message in another frontend (for example, a static\n",
       "  rendering on GitHub or <a href=\"https://nbviewer.jupyter.org/\">NBViewer</a>),\n",
       "  it may mean that your frontend doesn't currently support widgets.\n",
       "</p>\n"
      ],
      "text/plain": [
       "Text(value='Hello World', description='String:', placeholder='Type something')"
      ]
     },
     "metadata": {},
     "output_type": "display_data"
    }
   ],
   "source": [
    "widgets.Text(\n",
    "    value='Hello World',\n",
    "    placeholder='Type something',\n",
    "    description='String:',\n",
    "    disabled=False   \n",
    ")"
   ]
  },
  {
   "cell_type": "markdown",
   "metadata": {},
   "source": [
    "### Textarea"
   ]
  },
  {
   "cell_type": "code",
   "execution_count": 61,
   "metadata": {},
   "outputs": [
    {
     "data": {
      "application/vnd.jupyter.widget-view+json": {
       "model_id": "d2fccbfa538646c79ec215c0308528c1",
       "version_major": 2,
       "version_minor": 0
      },
      "text/html": [
       "<p>Failed to display Jupyter Widget of type <code>Textarea</code>.</p>\n",
       "<p>\n",
       "  If you're reading this message in the Jupyter Notebook or JupyterLab Notebook, it may mean\n",
       "  that the widgets JavaScript is still loading. If this message persists, it\n",
       "  likely means that the widgets JavaScript library is either not installed or\n",
       "  not enabled. See the <a href=\"https://ipywidgets.readthedocs.io/en/stable/user_install.html\">Jupyter\n",
       "  Widgets Documentation</a> for setup instructions.\n",
       "</p>\n",
       "<p>\n",
       "  If you're reading this message in another frontend (for example, a static\n",
       "  rendering on GitHub or <a href=\"https://nbviewer.jupyter.org/\">NBViewer</a>),\n",
       "  it may mean that your frontend doesn't currently support widgets.\n",
       "</p>\n"
      ],
      "text/plain": [
       "Textarea(value='Hello World', description='String:', placeholder='Type something')"
      ]
     },
     "metadata": {},
     "output_type": "display_data"
    }
   ],
   "source": [
    "widgets.Textarea(\n",
    "    value='Hello World',\n",
    "    placeholder='Type something',\n",
    "    description='String:',\n",
    "    disabled=False\n",
    ")"
   ]
  },
  {
   "cell_type": "markdown",
   "metadata": {
    "slideshow": {
     "slide_type": "slide"
    }
   },
   "source": [
    "### Label\n",
    "\n",
    "The `Label` widget is useful if you need to build a custom description next to a control using similar styling to the built-in control descriptions."
   ]
  },
  {
   "cell_type": "code",
   "execution_count": 63,
   "metadata": {},
   "outputs": [
    {
     "data": {
      "application/vnd.jupyter.widget-view+json": {
       "model_id": "47c58f6d0367499fa5b819bc523bef4e",
       "version_major": 2,
       "version_minor": 0
      },
      "text/html": [
       "<p>Failed to display Jupyter Widget of type <code>HBox</code>.</p>\n",
       "<p>\n",
       "  If you're reading this message in the Jupyter Notebook or JupyterLab Notebook, it may mean\n",
       "  that the widgets JavaScript is still loading. If this message persists, it\n",
       "  likely means that the widgets JavaScript library is either not installed or\n",
       "  not enabled. See the <a href=\"https://ipywidgets.readthedocs.io/en/stable/user_install.html\">Jupyter\n",
       "  Widgets Documentation</a> for setup instructions.\n",
       "</p>\n",
       "<p>\n",
       "  If you're reading this message in another frontend (for example, a static\n",
       "  rendering on GitHub or <a href=\"https://nbviewer.jupyter.org/\">NBViewer</a>),\n",
       "  it may mean that your frontend doesn't currently support widgets.\n",
       "</p>\n"
      ],
      "text/plain": [
       "HBox(children=(Label(value='The $m$ in $E=mc^2$:'), FloatSlider(value=0.0)))"
      ]
     },
     "metadata": {},
     "output_type": "display_data"
    }
   ],
   "source": [
    "widgets.HBox([widgets.Label(value=\"The $m$ in $E=mc^2$:\"), \n",
    "              widgets.FloatSlider()])"
   ]
  },
  {
   "cell_type": "markdown",
   "metadata": {},
   "source": [
    "### HTML"
   ]
  },
  {
   "cell_type": "code",
   "execution_count": 64,
   "metadata": {},
   "outputs": [
    {
     "data": {
      "application/vnd.jupyter.widget-view+json": {
       "model_id": "e584f07f6ae64fd69a485367bc178d4f",
       "version_major": 2,
       "version_minor": 0
      },
      "text/html": [
       "<p>Failed to display Jupyter Widget of type <code>HTML</code>.</p>\n",
       "<p>\n",
       "  If you're reading this message in the Jupyter Notebook or JupyterLab Notebook, it may mean\n",
       "  that the widgets JavaScript is still loading. If this message persists, it\n",
       "  likely means that the widgets JavaScript library is either not installed or\n",
       "  not enabled. See the <a href=\"https://ipywidgets.readthedocs.io/en/stable/user_install.html\">Jupyter\n",
       "  Widgets Documentation</a> for setup instructions.\n",
       "</p>\n",
       "<p>\n",
       "  If you're reading this message in another frontend (for example, a static\n",
       "  rendering on GitHub or <a href=\"https://nbviewer.jupyter.org/\">NBViewer</a>),\n",
       "  it may mean that your frontend doesn't currently support widgets.\n",
       "</p>\n"
      ],
      "text/plain": [
       "HTML(value='Hello <b>World</b>', description='Some HTML', placeholder='Some HTML')"
      ]
     },
     "metadata": {},
     "output_type": "display_data"
    }
   ],
   "source": [
    "widgets.HTML(\n",
    "    value=\"Hello <b>World</b>\",\n",
    "    placeholder='Some HTML',\n",
    "    description='Some HTML',\n",
    ")"
   ]
  },
  {
   "cell_type": "markdown",
   "metadata": {},
   "source": [
    "### HTML Math"
   ]
  },
  {
   "cell_type": "code",
   "execution_count": 65,
   "metadata": {},
   "outputs": [
    {
     "data": {
      "application/vnd.jupyter.widget-view+json": {
       "model_id": "ca6b6265ea5a499fbcede136906fa1ef",
       "version_major": 2,
       "version_minor": 0
      },
      "text/html": [
       "<p>Failed to display Jupyter Widget of type <code>HTMLMath</code>.</p>\n",
       "<p>\n",
       "  If you're reading this message in the Jupyter Notebook or JupyterLab Notebook, it may mean\n",
       "  that the widgets JavaScript is still loading. If this message persists, it\n",
       "  likely means that the widgets JavaScript library is either not installed or\n",
       "  not enabled. See the <a href=\"https://ipywidgets.readthedocs.io/en/stable/user_install.html\">Jupyter\n",
       "  Widgets Documentation</a> for setup instructions.\n",
       "</p>\n",
       "<p>\n",
       "  If you're reading this message in another frontend (for example, a static\n",
       "  rendering on GitHub or <a href=\"https://nbviewer.jupyter.org/\">NBViewer</a>),\n",
       "  it may mean that your frontend doesn't currently support widgets.\n",
       "</p>\n"
      ],
      "text/plain": [
       "HTMLMath(value='Some math and <i>HTML</i>: \\\\(x^2\\\\) and $$\\\\frac{x+1}{x-1}$$', description='Some HTML', placeholder='Some HTML')"
      ]
     },
     "metadata": {},
     "output_type": "display_data"
    }
   ],
   "source": [
    "widgets.HTMLMath(\n",
    "    value=r\"Some math and <i>HTML</i>: \\(x^2\\) and $$\\frac{x+1}{x-1}$$\",\n",
    "    placeholder='Some HTML',\n",
    "    description='Some HTML',\n",
    ")"
   ]
  },
  {
   "cell_type": "markdown",
   "metadata": {},
   "source": [
    "## Image"
   ]
  },
  {
   "cell_type": "code",
   "execution_count": 66,
   "metadata": {},
   "outputs": [
    {
     "data": {
      "application/vnd.jupyter.widget-view+json": {
       "model_id": "651cc06cbc1f49eda2f7cb734a87554a",
       "version_major": 2,
       "version_minor": 0
      },
      "text/html": [
       "<p>Failed to display Jupyter Widget of type <code>Image</code>.</p>\n",
       "<p>\n",
       "  If you're reading this message in the Jupyter Notebook or JupyterLab Notebook, it may mean\n",
       "  that the widgets JavaScript is still loading. If this message persists, it\n",
       "  likely means that the widgets JavaScript library is either not installed or\n",
       "  not enabled. See the <a href=\"https://ipywidgets.readthedocs.io/en/stable/user_install.html\">Jupyter\n",
       "  Widgets Documentation</a> for setup instructions.\n",
       "</p>\n",
       "<p>\n",
       "  If you're reading this message in another frontend (for example, a static\n",
       "  rendering on GitHub or <a href=\"https://nbviewer.jupyter.org/\">NBViewer</a>),\n",
       "  it may mean that your frontend doesn't currently support widgets.\n",
       "</p>\n"
      ],
      "text/plain": [
       "Image(value=b'\\x89PNG\\r\\n\\x1a\\n\\x00\\x00\\x00\\rIHDR\\x00\\x00\\x012\\x00\\x00\\x01\\xb1\\x08\\x06\\x00\\x00\\x00\\xe1\\xe2:\\xb3\\x00\\x00\\nAiCCPICC Profile\\x00\\x00H\\r\\x9d\\x96wTS\\xd9\\x16\\x87\\xcf\\xbd7\\xbd\\xd0\\x12\" %\\xf4\\x1az\\t \\xd2;H\\x15\\x04Q\\x89I\\x80P\\x02\\x86\\x84&vD\\x05F\\x14\\x11)VdT\\xc0\\x01G\\x87\"cE\\x14\\x0b\\x83\\x82b\\xd7\\t\\xf2\\x10P\\xc6\\xc1QDE\\xe5\\xdd\\x8ck\\t\\xef\\xad5\\xf3\\xde\\x9a\\xfd\\xc7Y\\xdf\\xd9\\xe7\\xb7\\xd7\\xd9g\\xef}\\xd7\\xba\\x00P\\xfc\\x82\\x04\\xc2tX\\x01\\x804\\xa1X\\x14\\xee\\xeb\\xc1\\\\\\x12\\x13\\xcb\\xc4\\xf7\\x02\\x18\\x10\\x01\\x0eX\\x01\\xc0\\xe1ff\\x04G\\xf8D\\x02\\xd4\\xfc\\xbd=\\x99\\x99\\xa8H\\xc6\\xb3\\xf6\\xee.\\x80d\\xbb\\xdb,\\xbfP&s\\xd6\\xff\\x7f\\x91\"7C$\\x06\\x00\\nE\\xd56<~&\\x17\\xe5\\x02\\x94S\\xb3\\xc5\\x192\\xff\\x04\\xca\\xf4\\x95)2\\x8612\\x16\\xa1\\t\\xa2\\xac\"\\xe3\\xc4\\xafl\\xf6\\xa7\\xe6+\\xbb\\xc9\\x98\\x97&\\xe4\\xa1\\x1aY\\xce\\x19\\xbc4\\x9e\\x8c\\xbbP\\xde\\x9a%\\xe1\\xa3\\x8c\\x04\\xa1\\\\\\x98%\\xe0g\\xa3|\\x07e\\xbdTI\\x9a\\x00\\xe5\\xf7(\\xd3\\xd3\\xf8\\x9cL\\x000\\x14\\x99_\\xcc\\xe7&\\xa1l\\x892E\\x14\\x19\\xee\\x89\\xf2\\x02\\x00\\x08\\x94\\xc49\\xbcr\\x0e\\x8b\\xf99h\\x9e\\x00x\\xa6g\\xe4\\x8a\\x04\\x89Ib\\xa6\\x11\\xd7\\x98i\\xe5\\xe8\\xc8f\\xfa\\xf1\\xb3S\\xf9b1+\\x94\\xc3M\\xe1\\x88xL\\xcf\\xf4\\xb4\\x0c\\x8e0\\x17\\x80\\xafo\\x96E\\x01%Ym\\x99h\\x91\\xed\\xad\\x1c\\xed\\xedY\\xd6\\xe6h\\xf9\\xbf\\xd9\\xdf\\x1e~S\\xfd=\\xc8z\\xfbU\\xf1&\\xec\\xcf\\x9eA\\x8c\\x9eY\\xdfl\\xec\\xac/\\xbd\\x16\\x00\\xf6$Z\\x9b\\x1d\\xb3\\xbe\\x95U\\x00\\xb4m\\x06@\\xe5\\xe1\\xacO\\xef \\x00\\xf2\\x05\\x00\\xb4\\xde\\x9c\\xf3\\x1e\\x86l^\\x92\\xc4\\xe2\\x0c\\'\\x0b\\x8b\\xec\\xecls\\x01\\x9fk.+\\xe87\\xfb\\x9f\\x82o\\xca\\xbf\\x869\\xf7\\x99\\xcb\\xee\\xfbV;\\xa6\\x17?\\x81#I\\x153eE\\xe5\\xa6\\xa7\\xa6KD\\xcc\\xcc\\x0c\\x0e\\x97\\xcfd\\xfd\\xf7\\x10\\xff\\xe3\\xc09i\\xcd\\xc9\\xc3,\\x9c\\x9f\\xc0\\x17\\xf1\\x85\\xe8UQ\\xe8\\x94\\t\\x84\\x89h\\xbb\\x85<\\x81X\\x90.d\\n\\x84\\x7f\\xd5\\xe1\\x7f\\x186\\'\\x07\\x19~\\x9dk\\x14hu_\\x00}\\x859P\\xb8I\\x07\\xc8o=\\x00C#\\x03$n?z\\x02}\\xeb[\\x101\\n\\xc8\\xbe\\xbch\\xad\\x91\\xafs\\x8f2z\\xfe\\xe7\\xfa\\x1f\\x0b\\\\\\x8an\\xe1LA\"S\\xe6\\xf6\\x0c\\x8fdr%\\xa2,\\x19\\xa3\\xdf\\x84l\\xc1\\x02\\x12\\x90\\x07t\\xa0\\n4\\x81.0\\x02,`\\r\\x1c\\x803p\\x03\\xde \\x00\\x84\\x80H\\x10\\x03\\x96\\x03.H\\x02i@\\x04\\xb2A>\\xd8\\x00\\nA1\\xd8\\x01v\\x83jp\\x00\\xd4\\x81z\\xd0\\x04N\\x826p\\x06\\\\\\x04W\\xc0\\rp\\x0b\\x0c\\x80G@\\n\\x86\\xc1K0\\x01\\xde\\x81i\\x08\\x82\\xf0\\x10\\x15\\xa2A\\xaa\\x90\\x16\\xa4\\x0f\\x99B\\xd6\\x10\\x1bZ\\x08yCAP8\\x14\\x03\\xc5C\\x89\\x90\\x10\\x92@\\xf9\\xd0&\\xa8\\x18*\\x83\\xaa\\xa1CP=\\xf4#t\\x1a\\xba\\x08]\\x83\\xfa\\xa0\\x07\\xd0 4\\x06\\xfd\\x01}\\x84\\x11\\x98\\x02\\xd3a\\r\\xd8\\x00\\xb6\\x80\\xd9\\xb0;\\x1c\\x08G\\xc2\\xcb\\xe0Dx\\x15\\x9c\\x07\\x17\\xc0\\xdb\\xe1J\\xb8\\x16>\\x0e\\xb7\\xc2\\x17\\xe1\\x1b\\xf0\\x00,\\x85_\\xc2\\x93\\x08@\\xc8\\x08\\x03\\xd1FX\\x08\\x1b\\xf1DB\\x90X$\\x01\\x11!k\\x91\"\\xa4\\x02\\xa9E\\x9a\\x90\\x0e\\xa4\\x1b\\xb9\\x8dH\\x91q\\xe4\\x03\\x06\\x87\\xa1a\\x98\\x18\\x16\\xc6\\x19\\xe3\\x87Y\\x8c\\xe1bVa\\xd6bJ0\\xd5\\x98c\\x98VL\\x17\\xe66f\\x103\\x81\\xf9\\x82\\xa5b\\xd5\\xb1\\xa6X\\'\\xac?v\\t6\\x11\\x9b\\x8d-\\xc4V`\\x8f`[\\xb0\\x97\\xb1\\x03\\xd8a\\xec;\\x1c\\x0e\\xc7\\xc0\\x19\\xe2\\x1cp~\\xb8\\x18\\\\2n5\\xae\\x04\\xb7\\x0f\\xd7\\x8c\\xbb\\x80\\xeb\\xc3\\r\\xe1&\\xf1x\\xbc*\\xde\\x14\\xef\\x82\\x0f\\xc1s\\xf0b|!\\xbe\\n\\x7f\\x1c\\x7f\\x1e\\xdf\\x8f\\x1f\\xc6\\xbf\\'\\x90\\tZ\\x04k\\x82\\x0f!\\x96 $l$T\\x10\\x1a\\x08\\xe7\\x08\\xfd\\x84\\x11\\xc24Q\\x81\\xa8Ot\"\\x86\\x10y\\xc4\\\\b)\\xb1\\x8e\\xd8A\\xbcI\\x1c&N\\x93\\x14I\\x86$\\x17R$)\\x99\\xb4\\x81TIj\"]&=&\\xbd!\\x93\\xc9:dGr\\x18Y@^O\\xae$\\x9f _%\\x0f\\x92?P\\x94(&\\x14OJ\\x1cEB\\xd9N9J\\xb9@y@yC\\xa5R\\r\\xa8n\\xd4X\\xaa\\x98\\xba\\x9dZO\\xbdD}J}/G\\x933\\x97\\xf3\\x97\\xe3\\xc9\\xad\\x93\\xab\\x91k\\x95\\xeb\\x97{%O\\x94\\xd7\\x97w\\x97_.\\x9f\\'_!\\x7fJ\\xfe\\xa6\\xfc\\xb8\\x02Q\\xc1@\\xc1S\\x81\\xa3\\xb0V\\xa1F\\xe1\\xb4\\xc2=\\x85IE\\x9a\\xa2\\x95b\\x88b\\x9ab\\x89b\\x83\\xe25\\xc5Q%\\xbc\\x92\\x81\\x92\\xb7\\x12O\\xa9@\\xe9\\xb0\\xd2%\\xa5!\\x1aB\\xd3\\xa5y\\xd2\\xb8\\xb4M\\xb4:\\xdae\\xda0\\x1dG7\\xa4\\xfb\\xd3\\x93\\xe9\\xc5\\xf4\\x1f\\xe8\\xbd\\xf4\\te%e[\\xe5(\\xe5\\x1c\\xe5\\x1a\\xe5\\xb3\\xcaR\\x06\\xc20`\\xf83R\\x19\\xa5\\x8c\\x93\\x8c\\xbb\\x8c\\x8f\\xf34\\xe6\\xb9\\xcf\\xe3\\xcf\\xdb6\\xafi^\\xff\\xbc)\\x95\\xf9*n*|\\x95\"\\x95f\\x95\\x01\\x95\\x8f\\xaaLUo\\xd5\\x14\\xd5\\x9d\\xaam\\xaaO\\xd40j&jaj\\xd9j\\xfb\\xd5.\\xab\\x8d\\xcf\\xa7\\xcfw\\x9e\\xcf\\x9d_4\\xff\\xe4\\xfc\\x87\\xea\\xb0\\xba\\x89z\\xb8\\xfaj\\xf5\\xc3\\xea=\\xea\\x93\\x1a\\x9a\\x1a\\xbe\\x1a\\x19\\x1aU\\x1a\\x974\\xc65\\x19\\x9an\\x9a\\xc9\\x9a\\xe5\\x9a\\xe74\\xc7\\xb4hZ\\x0b\\xb5\\x04Z\\xe5Z\\xe7\\xb5^0\\x95\\x99\\xee\\xccTf%\\xb3\\x8b9\\xa1\\xad\\xae\\xed\\xa7-\\xd1>\\xa4\\xdd\\xab=\\xadc\\xa8\\xb3Xg\\xa3N\\xb3\\xce\\x13]\\x92.[7A\\xb7\\\\\\xb7SwBOK/X/_\\xafQ\\xef\\xa1>Q\\x9f\\xad\\x9f\\xa4\\xbfG\\xbf[\\x7f\\xca\\xc0\\xd0 \\xda`\\x8bA\\x9b\\xc1\\xa8\\xa1\\x8a\\xa1\\xbfa\\x9ea\\xa3\\xe1c#\\xaa\\x91\\xab\\xd1*\\xa3Z\\xa3;\\xc68c\\xb6q\\x8a\\xf1>\\xe3[&\\xb0\\x89\\x9dI\\x92I\\x8d\\xc9MS\\xd8\\xd4\\xdeT`\\xba\\xcf\\xb4\\xcf\\x0ck\\xe6h&4\\xab5\\xbb\\xc7\\xa2\\xb0\\xdcYY\\xacF\\xd6\\xa09\\xc3<\\xc8|\\xa3y\\x9b\\xf9+\\x0b=\\x8bX\\x8b\\x9d\\x16\\xdd\\x16_,\\xed,S-\\xeb,\\x1fY)Y\\x05Xm\\xb4\\xea\\xb0\\xfa\\xc3\\xda\\xc4\\x9ak]c}\\xc7\\x86j\\xe3c\\xb3\\xce\\xa6\\xdd\\xe6\\xb5\\xad\\xa9-\\xdfv\\xbf\\xed};\\x9a]\\xb0\\xdd\\x16\\xbbN\\xbb\\xcf\\xf6\\x0e\\xf6\"\\xfb&\\xfb1\\x07=\\x87x\\x87\\xbd\\x0e\\xf7\\xd8tv(\\xbb\\x84}\\xd5\\x11\\xeb\\xe8\\xe1\\xb8\\xce\\xf1\\x8c\\xe3\\x07\\'{\\'\\xb1\\xd3I\\xa7\\xdf\\x9dY\\xce)\\xce\\r\\xce\\xa3\\x0b\\x0c\\x17\\xf0\\x17\\xd4-\\x18r\\xd1q\\xe1\\xb8\\x1cr\\x91.d.\\x8c_xp\\xa1\\xd4U\\xdb\\x95\\xe3Z\\xeb\\xfa\\xccM\\xd7\\x8d\\xe7v\\xc4m\\xc4\\xdd\\xd8=\\xd9\\xfd\\xb8\\xfb+\\x0fK\\x0f\\x91G\\x8b\\xc7\\x94\\xa7\\x93\\xe7\\x1a\\xcf\\x0b^\\x88\\x97\\xafW\\x91W\\xaf\\xb7\\x92\\xf7b\\xefj\\xef\\xa7>:>\\x89>\\x8d>\\x13\\xbev\\xbe\\xab}/\\xf8a\\xfd\\x02\\xfdv\\xfa\\xdd\\xf3\\xd7\\xf0\\xe7\\xfa\\xd7\\xfbO\\x048\\x04\\xac\\t\\xe8\\n\\xa4\\x04F\\x04V\\x07>\\x0b2\\t\\x12\\x05u\\x04\\xc3\\xc1\\x01\\xc1\\xbb\\x82\\x1f/\\xd2_$\\\\\\xd4\\x16\\x02B\\xfcCv\\x85<\\t5\\x0c]\\x15\\xfas\\x18.,4\\xac&\\xecy\\xb8Ux~xw\\x04-bEDC\\xc4\\xbbH\\x8f\\xc8\\xd2\\xc8G\\x8b\\x8d\\x16K\\x16wF\\xc9G\\xc5E\\xd5GME{E\\x97EK\\x97X,Y\\xb3\\xe4F\\x8cZ\\x8c \\xa6=\\x16\\x1f\\x1b\\x15{$vr\\xa9\\xf7\\xd2\\xddK\\x87\\xe3\\xec\\xe2\\n\\xe3\\xee.3\\\\\\x96\\xb3\\xec\\xdar\\xb5\\xe5\\xa9\\xcb\\xcf\\xae\\x90_\\xc1Yq*\\x1e\\x1b\\x1f\\x1d\\xdf\\x10\\xff\\x89\\x13\\xc2\\xa9\\xe5L\\xae\\xf4_\\xb9w\\xe5\\x04\\xd7\\x93\\xbb\\x87\\xfb\\x92\\xe7\\xc6+\\xe7\\x8d\\xf1]\\xf8e\\xfc\\x91\\x04\\x97\\x84\\xb2\\x84\\xd1D\\x97\\xc4]\\x89cI\\xaeI\\x15I\\xe3\\x02OA\\xb5\\xe0u\\xb2_\\xf2\\x81\\xe4\\xa9\\x94\\x90\\x94\\xa3)3\\xa9\\xd1\\xa9\\xcdi\\x84\\xb4\\xf8\\xb4\\xd3B%a\\x8a\\xb0+]3=\\'\\xbd/\\xc34\\xa30C\\xba\\xcai\\xd5\\xeeU\\x13\\xa2@\\xd1\\x91L(sYf\\xbb\\x98\\x8e\\xfeL\\xf5H\\x8c$\\x9b%\\x83Y\\x0b\\xb3j\\xb2\\xdegGe\\x9f\\xcaQ\\xcc\\x11\\xe6\\xf4\\xe4\\x9a\\xe4n\\xcb\\x1d\\xc9\\xf3\\xc9\\xfb~5f5wug\\xbev\\xfe\\x86\\xfc\\xc15\\xeek\\x0e\\xad\\x85\\xd6\\xae\\\\\\xdb\\xb9Nw]\\xc1\\xba\\xe1\\xf5\\xbe\\xeb\\x8fm mH\\xd9\\xf0\\xcbF\\xcb\\x8de\\x1b\\xdfn\\x8a\\xde\\xd4Q\\xa0Q\\xb0\\xbe`h\\xb3\\xef\\xe6\\xc6B\\xb9BQ\\xe1\\xbd-\\xce[\\x0el\\xc5l\\x15l\\xed\\xddf\\xb3\\xadj\\xdb\\x97\"^\\xd1\\xf5b\\xcb\\xe2\\x8a\\xe2O%\\xdc\\x92\\xeb\\xdfY}W\\xf9\\xdd\\xcc\\xf6\\x84\\xed\\xbd\\xa5\\xf6\\xa5\\xfbw\\xe0v\\x08w\\xdc\\xdd\\xe9\\xba\\xf3X\\x99bY^\\xd9\\xd0\\xae\\xe0]\\xad\\xe5\\xcc\\xf2\\xa2\\xf2\\xb7\\xbbW\\xec\\xbeVa[q`\\x0fi\\x8fd\\x8f\\xb42\\xa8\\xb2\\xbdJ\\xafjG\\xd5\\xa7\\xea\\xa4\\xea\\x81\\x1a\\x8f\\x9a\\xe6\\xbd\\xea{\\xb7\\xed\\x9d\\xda\\xc7\\xdb\\xd7\\xbf\\xdfm\\x7f\\xd3\\x01\\x8d\\x03\\xc5\\x07>\\x1e\\x14\\x1c\\xbc\\x7f\\xc8\\xf7Pk\\xadAm\\xc5a\\xdc\\xe1\\xac\\xc3\\xcf\\xeb\\xa2\\xea\\xba\\xbfg\\x7f_\\x7fD\\xedH\\xf1\\x91\\xcfG\\x85G\\xa5\\xc7\\xc2\\x8fu\\xd5;\\xd4\\xd77\\xa87\\x946\\xc2\\x8d\\x92\\xc6\\xb1\\xe3q\\xc7o\\xfd\\xe0\\xf5C{\\x13\\xab\\xe9P3\\xa3\\xb9\\xf8\\x048!9\\xf1\\xe2\\xc7\\xf8\\x1f\\xef\\x9e\\x0c<\\xd9y\\x8a}\\xaa\\xe9\\'\\xfd\\x9f\\xf6\\xb6\\xd0Z\\x8aZ\\xa1\\xd6\\xdc\\xd6\\x89\\xb6\\xa46i{L{\\xdf\\xe9\\x80\\xd3\\x9d\\x1d\\xce\\x1d-?\\x9b\\xff|\\xf4\\x8c\\xf6\\x99\\x9a\\xb3\\xcagK\\xcf\\x91\\xce\\x15\\x9c\\x9b9\\x9fw~\\xf2B\\xc6\\x85\\xf1\\x8b\\x89\\x17\\x87:Wt>\\xba\\xb4\\xe4\\xd2\\x9d\\xae\\xb0\\xae\\xde\\xcb\\x81\\x97\\xaf^\\xf1\\xb9r\\xa9\\xdb\\xbd\\xfb\\xfcU\\x97\\xabg\\xae9];}\\x9d}\\xbd\\xed\\x86\\xfd\\x8d\\xd6\\x1e\\xbb\\x9e\\x96_\\xec~i\\xe9\\xb5\\xefm\\xbd\\xe9p\\xb3\\xfd\\x96\\xe3\\xad\\x8e\\xbe\\x05}\\xe7\\xfa]\\xfb/\\xde\\xf6\\xba}\\xe5\\x8e\\xff\\x9d\\x1b\\x03\\x8b\\x06\\xfa\\xee.\\xbe{\\xff^\\xdc=\\xe9}\\xde\\xfd\\xd1\\x07\\xa9\\x0f^?\\xccz8\\xfdh\\xfdc\\xec\\xe3\\xa2\\'\\nO*\\x9e\\xaa?\\xad\\xfd\\xd5\\xf8\\xd7f\\xa9\\xbd\\xf4\\xec\\xa0\\xd7`\\xcf\\xb3\\x88g\\x8f\\x86\\xb8C/\\xff\\x95\\xf9\\xafO\\xc3\\x05\\xcf\\xa9\\xcf+F\\xb4F\\xeaG\\xadG\\xcf\\x8c\\xf9\\x8c\\xddz\\xb1\\xf4\\xc5\\xf0\\xcb\\x8c\\x97\\xd3\\xe3\\x85\\xbf)\\xfe\\xb6\\xf7\\x95\\xd1\\xab\\x9f~w\\xfb\\xbdgb\\xc9\\xc4\\xf0k\\xd1\\xeb\\x99?J\\xde\\xa8\\xbe9\\xfa\\xd6\\xf6m\\xe7d\\xe8\\xe4\\xd3wi\\xef\\xa6\\xa7\\x8a\\xde\\xab\\xbe?\\xf6\\x81\\xfd\\xa1\\xfbc\\xf4\\xc7\\x91\\xe9\\xecO\\xf8O\\x95\\x9f\\x8d?w|\\t\\xfc\\xf2x&mf\\xe6\\xdf\\xf7\\x84\\xf3\\xfb2:Y~\\x00\\x00\\x00\\tpHYs\\x00\\x00\\x17\\x12\\x00\\x00\\x17\\x12\\x01g\\x9f\\xd2R\\x00\\x00\\x01\\xd5iTXtXML:com.adobe.xmp\\x00\\x00\\x00\\x00\\x00<x:xmpmeta xmlns:x=\"adobe:ns:meta/\" x:xmptk=\"XMP Core 5.4.0\">\\n   <rdf:RDF xmlns:rdf=\"http://www.w3.org/1999/02/22-rdf-syntax-ns#\">\\n      <rdf:Description rdf:about=\"\"\\n            xmlns:tiff=\"http://ns.adobe.com/tiff/1.0/\">\\n         <tiff:Compression>5</tiff:Compression>\\n         <tiff:PhotometricInterpretation>2</tiff:PhotometricInterpretation>\\n         <tiff:Orientation>1</tiff:Orientation>\\n      </rdf:Description>\\n   </rdf:RDF>\\n</x:xmpmeta>\\n\\xb0\\xe32\\xdd\\x00\\x00@\\x00IDATx\\x01\\xed]\\x07\\xb8\\x14E\\xb6.\\x14sB\\xcc\\x82\"(\\x06\\x04sV\\xe4zM\\x98\\x85]\\x03&P\\\\\\xc3\\xa2\\xbb\\x88Y\\x0c\\xa8\\x8b\\xe1\\x99\\xde\\x1a\\xd7\\x84\\xee\\xaa+\\n\\xab\\xb8kN\\x80qE\\xc1EL`B\\x05\\x03\\x829#\\xf4;\\x7f\\xed;eM\\xcft\\xcf\\xcc\\xbdS\\xcd\\xf4\\xe5?\\xdfwowW8U\\xfd\\xf7\\xf4?\\xa7\\xaaN\\x9di\\x15\\x89\\x18\\n\\x11 \\x02D \\xc7\\x08,\\x90\\xe3\\xbe\\xb3\\xebD\\x80\\x08\\x10\\x01\\x8b\\x00\\x89\\x8c\\x1f\\x04\"@\\x04r\\x8f\\x00\\x89,\\xf7\\x8f\\x907@\\x04\\x88\\x00\\x89\\x8c\\x9f\\x01\"@\\x04r\\x8f\\x00\\x89,\\xf7\\x8f\\x907@\\x04\\x88\\x00\\x89\\x8c\\x9f\\x01\"@\\x04r\\x8f\\x00\\x89,\\xf7\\x8f\\x907@\\x04\\x88\\x00\\x89\\x8c\\x9f\\x01\"@\\x04r\\x8f\\x00\\x89,\\xf7\\x8f\\x907@\\x04\\x88\\x00\\x89\\x8c\\x9f\\x01\"@\\x04r\\x8f\\x00\\x89,\\xf7\\x8f\\x907@\\x04\\x88\\x00\\x89\\x8c\\x9f\\x01\"@\\x04r\\x8f\\x00\\x89,\\xf7\\x8f\\x907@\\x04\\x88\\x00\\x89\\x8c\\x9f\\x01\"@\\x04r\\x8f\\x00\\x89,\\xf7\\x8f\\x907@\\x04\\x88\\x00\\x89\\x8c\\x9f\\x01\"@\\x04r\\x8f\\x00\\x89,\\xf7\\x8f\\x907@\\x04\\x88\\x00\\x89\\x8c\\x9f\\x01\"@\\x04r\\x8f\\x00\\x89,\\xf7\\x8f\\x907@\\x04\\x88\\x00\\x89\\x8c\\x9f\\x01\"@\\x04r\\x8f\\x00\\x89,\\xf7\\x8f\\x907@\\x04\\x88\\x00\\x89\\x8c\\x9f\\x01\"@\\x04r\\x8f@\\xeb\\xd0w0b\\xc4\\x083t\\xe8P3{\\xf6\\xec\\xd0MQ?\\x11 \\x02u\\x8e@\\xbbv\\xed\\xcc\\xf0\\xe1\\xc3M\\xdb\\xb6mk\\xdbS\\xfc\\xaeeHill\\xc4\\xeff\\xf2\\x8f\\x18\\xf03\\xc0\\xcf\\x80\\xfd\\x0c\\x8c\\x1c9\\xb2\\xe6\\x94\\x13\\xdc\"\\x9b3g\\x8ee\\xde!C\\x86\\x98\\x1e=z\\xd4\\x96\\x85\\xa9\\x8d\\x08\\x10\\x81\\xdc 0p\\xe0@3q\\xe2D3w\\xee\\xdc\\x9a\\xf798\\x91i\\x8f\\xbbt\\xe9b\\x1a\\x1a\\x1a\\xf4\\x92G\"@\\x04\\xe63\\x04\\xda\\xb4i\\x13\\xec\\x8e9\\xd9\\x1f\\x0cZ*&\\x02D +\\x04HdY!\\xcdv\\x88\\x00\\x11\\x08\\x86\\x00\\x89,\\x18\\xb4TL\\x04\\x88@V\\x08\\x90\\xc8\\xb2B\\x9a\\xed\\x10\\x01\"\\x10\\x0c\\x01\\x12Y0h\\xa9\\x98\\x08\\x10\\x81\\xac\\x10 \\x91e\\x854\\xdb!\\x02D \\x18\\x02$\\xb2`\\xd0R1\\x11 \\x02Y!@\"\\xcb\\ni\\xb6C\\x04\\x88@0\\x04Hd\\xc1\\xa0\\xa5b\"@\\x04\\xb2B\\x80D\\x96\\x15\\xd2l\\x87\\x08\\x10\\x81`\\x08\\x90\\xc8\\x82AK\\xc5D\\x80\\x08d\\x85\\x00\\x89,+\\xa4\\xd9\\x0e\\x11 \\x02\\xc1\\x10 \\x91\\x05\\x83\\x96\\x8a\\x89\\x00\\x11\\xc8\\n\\x01\\x12YVH\\xb3\\x1d\"@\\x04\\x82!@\"\\x0b\\x06-\\x15\\x13\\x01\"\\x90\\x15\\x02$\\xb2\\xac\\x90f;D\\x80\\x08\\x04C\\x80D\\x16\\x0cZ*&\\x02D +\\x04HdY!\\xcdv\\x88\\x00\\x11\\x08\\x86\\x00\\x89,\\x18\\xb4TL\\x04\\x88@V\\x08\\x90\\xc8\\xb2B\\x9a\\xed\\x10\\x01\"\\x10\\x0c\\x01\\x12Y0h\\xa9\\x98\\x08\\x10\\x81\\xac\\x10 \\x91e\\x854\\xdb!\\x02D \\x18\\x02$\\xb2`\\xd0R1\\x11 \\x02Y!@\"\\xcb\\ni\\xb6C\\x04\\x88@0\\x04Hd\\xc1\\xa0\\xa5b\"@\\x04\\xb2B\\x80D\\x96\\x15\\xd2l\\x87\\x08\\x10\\x81`\\x08\\x90\\xc8\\x82AK\\xc5D\\x80\\x08d\\x85\\x00\\x89,+\\xa4\\xd9\\x0e\\x11 \\x02\\xc1\\x10 \\x91\\x05\\x83\\x96\\x8a\\x89\\x00\\x11\\xc8\\n\\x01\\x12YVH\\xb3\\x1d\"@\\x04\\x82!\\xd0:\\x98f*n\\x12\\x02?\\xfc\\xf0\\x83Yl\\xb1\\xc5\\x9aT7\\x8a\"\\xd3\\xaaU\\xab\\x8a\\xea\\xce\\x993\\xc7\\xa0\\xado\\xbf\\xfd\\xd6\\xcc\\x9a5\\xcb|\\xf2\\xc9\\'f\\x8d5\\xd60k\\xae\\xb9fE\\xf5\\xf3X\\xe8\\xeb\\xaf\\xbf\\xb6\\xd8.\\xb4\\xd0BM\\xea\\xfeO?\\xfdd\\xbe\\xfb\\xee;\\x03=\\xc0\\xeb\\x97_~1\\x1bo\\xbc\\xb1Yb\\x89%\\x9a\\xa4\\x8f\\x95j\\x87\\x00\\x89\\xacvX6K\\xd3\\x8f?\\xfeh6\\xdf|s\\xf3\\xfe\\xfb\\xef\\x9b\\x1bo\\xbc\\xd1\\x1cp\\xc0\\x01\\x15\\xeb\\xc3\\x0b\\xb5\\xf7\\xde{\\x9b\\x17_|\\xd1\\xbc\\xfa\\xea\\xabf\\xa5\\x95V2c\\xc6\\x8c1\\x0f<\\xf0\\x80y\\xeb\\xad\\xb7,Q}\\xfe\\xf9\\xe7\\x06\\x7fx\\x11A`\\xa8SJ\\x8e:\\xea(s\\xe1\\x85\\x17\\x9a\\x9dw\\xde\\xd9\\xd6\\x051\\xea\\xdf\\x02\\x0b,\\xe0\\xce\\x91\\xa6\\xd7[m\\xb5\\x95\\xf9\\xdb\\xdf\\xfef\\x96Zj)\\xab\\xf2\\xce;\\xef4\\xc3\\x87\\x0f7\\xef\\xbe\\xfb\\xaem\\x0f\\xe5Z\\xb7nm_\\xf8-\\xb6\\xd8\\xc2\\xec\\xb8\\xe3\\x8e\\xe67\\xbf\\xf9MY\\xd2E\\xffO9\\xe5\\x14\\xf3\\xcd7\\xdf\\x98\\xb5\\xd6Z\\xcb\\x1ct\\xd0A\\xe6\\xb0\\xc3\\x0e3\\x0b/\\xbcp\\xa9\\xae\\x17\\xa5\\xcd\\x9d;\\xd7\\xdc}\\xf7\\xddf\\xd8\\xb0af\\xdc\\xb8q\\xe6\\xab\\xaf\\xbe2\\x0b.\\xb8\\xa0\\xd9r\\xcb-\\xcd\\xc0\\x81\\x03\\xcd~\\xfb\\xed\\xe7\\xea|\\xf1\\xc5\\x17\\xe6\\xb6\\xdbn3\\xe3\\xc7\\x8f7\\x1f\\x7f\\xfc\\xb1\\xc5\\nx}\\xf9\\xe5\\x97\\x16/\\x90\\x18\\xbe(\\xe2\\xb2\\xcc2\\xcb\\x98\\xe7\\x9f\\x7f\\xde\\xac\\xb7\\xdez\\xf1,^g\\x89\\x80<\\x9c\\xa0\\xd2\\xa3G\\x0f<\\xfdH>PA\\xdb\\xc9\\xbb\\xf2\\xe7\\x9e{\\xce\\xe2\\x04\\xac\\xf6\\xdcsO{;\\xf2\\xf2D\\xb7\\xdezk$d\\x94z{B\\x1a\\xae\\xee\\xfd\\xf7\\xdf\\x1f\\xf9\\xd7\\xd0W\\xcd\\xdf\\x80\\x01\\x03\\xa2\\x11#FTU\\x07\\xfa\\xaf\\xbb\\xee:\\xdb\\xc7\\x87\\x1f~\\xb8\\xa2\\xba\\xbb\\xed\\xb6[4c\\xc6\\x8c\\xc4\\xfb\\x12\\x8b\\'\\x12b,\\xd2\\xb5\\xfd\\xf6\\xdbGB\\xfa\\x89\\xf54C,\\xcdh\\xdf}\\xf7-\\xaa\\xefc!\\x84m\\x8b\\x0b\\xa9G\\xeb\\xaf\\xbf~jY\\xbf\\x9e\\x7f.\\xa4\\x1aM\\x9f>]\\x9b\\xe51\\x05\\x81\\x90\\\\\\xc092\\xf9T\\xd6\\x83\\xe0\\x9b_\\x05\\xc3=\\xc8\\xa9\\xa7\\x9ej\\xfa\\xf5\\xebg\\xbav\\xedj-\\x0b\\xcd\\x8f\\x1fa9\\xa8\\xcc\\x9c9\\xd3\\xbc\\xf6\\xdakzYp\\xf4\\x87\\x9d8_e\\x95U\\xec\\x1f\\x86\\x94\\xb0R\\xce=\\xf7\\\\s\\xfe\\xf9\\xe7\\x9be\\x97]\\xb6\\xa0^\\xb9\\x8b\\xb5\\xd7^\\xdb\\x08\\xf9\\xdabS\\xa7Nu\\xc51\\xec:\\xf3\\xcc3\\xcd\\xe1\\x87\\x1fn\\xf5/\\xbd\\xf4\\xd2.\\xef\\xa1\\x87\\x1e2\\x8d\\x8d\\x8d\\x06\\x96N)A?`\\x89\\xc5\\xe5\\xa9\\xa7\\x9e2}\\xfb\\xf6-i\\x1diY!\\x16#\\x84gF\\x8d\\x1a\\xa5I%\\x8f\\xd7\\\\s\\x8dM\\x875\\x06+,.>^\\xc8C\\xff\\x81\\xd9\\xaa\\xab\\xaej\\x84\\xf8L\\xef\\xde\\xbd\\xcd\\x83\\x0f>h\\xaf\\xe3uy\\x9d-\\x02\\x1cZf\\x8bwbk\\xfepi\\x85\\x15V\\xb0\\xe5F\\x8e\\x1ci\\x8fx\\xd91\\xac\\x02\\xc1`\\xc8\\x17\\x17\\x0cKUf\\xcf\\x9em\\xce;\\xef<s\\xcc1\\xc7\\x18\\xb1x\\xecp\\xaeM\\x9b6\\x06\\x7f\\x97]v\\x999\\xfd\\xf4\\xd3mQ\\xb1\\xa0\\xcc\\xd1G\\x1f\\xad\\xd5\\n\\x8e>\\x91a\\xce\\x0c\\xc3F\\x0c\\xa104\\x03\\xe1\\xea\\x1f*aH\\xb5\\xed\\xb6\\xdb\\xba\\xe1^\\xdb\\xb6m\\x9d.\\xb4\\xb7\\xc3\\x0e;\\xb8k\\x0cg\\xef\\xbd\\xf7^s\\xc5\\x15W\\xd8\\xe1\\x18\\x86\\xc1g\\x9f}\\xb6\\xb9\\xf8\\xe2\\x8b]\\x19\\x9c\\xc8\\x97\\xba\\xb9\\xe7\\x9e{l\\x1a\\x86\\xa5G\\x1cq\\x84\\x994i\\x92y\\xe1\\x85\\x17l\\xda]w\\xdde6\\xd9d\\x13;\\xec\\xb4\\t\\xde?\\xdc?\\xda\\xc4\\x90ZE\\xac?\\xd3\\xabW/\\xb3\\xf2\\xca+\\x9b\\x97_~\\xd9\\x8c\\x1d;\\xd6\\x0e\\xbdA\\xe0\\x90\\xe5\\x97_\\xde|\\xf4\\xd1G\\xe6\\x9dw\\xde1\\x98;T\\xbc0\\xf7\\xb5\\xe4\\x92K\\xda\\xa1e\\xfb\\xf6\\xed\\xcd{\\xef\\xbdg\\x87\\xc8\\xb6\\x12\\xff\\xd5\\x17\\x02)\\x96`M\\xb2B\\x9a\\x935\\xe9`\\x9d(y\\xec\\xb1\\xc7\\xdc\\xd0FH\\xc8\\x0e\\x9f\\xc4\"pi\\xf2\\xa9\\x89\\x84`\"\\xb1x\\x8az|\\xc1\\x05\\x17\\xb8rB:E\\xf9\\x9ap\\xf3\\xcd7\\xbbrh/I\\xe4\\x85v\\xe5\\x06\\r\\x1a\\x94T\\xacd\\xfa\\xe3\\x8f?\\xee\\xea\\xca\\xdcQ\\xc922w\\x15\\xed\\xb5\\xd7^\\xb6\\x9c\\x10E\\x84\\xa1\\x9d/B6N\\x87\\xcc\\x15\\xba\\xac\\x9bn\\xba)RL\\x84X\"!\\x1d\\x97\\xa7\\'be\\xb9\\xba2/\\x17\\xddq\\xc7\\x1d\\x9aUp\\xfc\\xf4\\xd3O#Y\\xe4(H+u\\xb1\\xdaj\\xabY}B\\xd6\\xa5\\xb2\\x99V\\x05\\x02!\\xb9\\x80C\\xcb:\\xf9^\\xf1\\x87Q\\x8b/\\xbe\\xb8\\xb5~\\xe43R\\xd0;\\x0c\\x81\\xfa\\xf7\\xef_4\\xac\\xf2-2\\xd4M\\x12\\x9d\\x8cG~Z9\\xdf\"\\xeb\\xd4\\xa9S\\x92\\xba\\x92\\xe9\\xfe\\xf0\\x11\\xab\\xa1\\xa5\\x04C6\\xdc\\x07\\x04\\xc3hX[\\xbe<\\xf9\\xe4\\x93\\xeeR\\xcb!\\x01\\xe7\\x83\\x07\\x0f\\xb6y\\xd3\\xa6M3\\x8f<\\xf2\\x88+\\x87\\x13,d`H\\xaa2t\\xe8Pk\\xc9\\xea\\xb5\\x7f\\\\q\\xc5\\x15\\x8do=\\xfay\\xfe\\xb9b\\x96\\x86\\x97_\\x9e\\xe7\\xf3\\x06\\x01\\x12\\xd9\\xbc\\xc1\\xbd\\xa8\\xd58\\x91\\xf9$\\x86\\xb9$\\x0c\\x7f O<\\xf1\\x84\\xb9\\xe5\\x96[\\n\\xea\\xfb+\\x90i\\xae\\x1b\\x8b,\\xb2\\x88\\xab\\x97\\xe6\\x82\\xe0\\x93\\x91\\xbe\\xc8\\xaeb\\x99\\x13\\x7f^\\xe9\\xb3\\xcf>K,-\\x16\\x91\\xcb\\xc3*\\xaa/\\xb8G\\xc8\\xa2\\x8b.j\\xe7\\xba\\xfc\\xbc\\xd3N;\\xcd\\xe8\\xd0[\\x16B\\xfc,#\\x16\\x9bu\\x8b@\\xe2v\\xdbmgN>\\xf9\\xe4\\x82\\xfc\\xa6\\\\(fix5E/\\xeb\\xd4\\x16\\x01\\x12Ym\\xf1l\\xb2\\xb68\\x91\\xc1]A\\x05/.\\xe6\\x9bT`\\x95\\xe8\\x82\\x00\\xd20\\x8f\\xa4\\x92Fd\\xfe<\\x9c_G\\xeb\\xea\\xd1\\xb7\\xf0^\\x7f\\xfdu\\x9b\\x8c\\xb9\\'\\xf8Na\\xde-M\\xe0\\xf2\\xa0\\x92Dd\\xb0\\xa6.\\xbf\\xfcr[\\x0c\\xf3P\\x9bm\\xb6\\x99V1\\xdf\\x7f\\xff\\xbd\\x19=z\\xb4\\xbdF\\xba\\x12\\x89\\x16@\\xf9C\\x0f=\\xd4^b\\xe2\\xdf\\x17\\xb8X\\xa8`\\xa1\\xc4\\'UM\\xaf\\xf6\\xa8\\x98\\xa5\\xe1U\\xadN\\x96\\xaf=\\x02\\xbf\\xbe\\x01\\xb5\\xd7M\\x8dU \\xe0\\x13\\x13\\x861\\xbe\\x05\\x80!\\x1a^\\xde\\r7\\xdc\\xd0j\\x04\\xa1\\xf8\\x13\\xe4\\xfeK\\x96Fd\\xbe\\x95\\xa7/h\\xa9.\\xfa}A; \\x13\\x94\\xc7\\x8a\\x1d|\\xd4N<\\xf1\\xc4R\\xd5l\\x9a\\xdfF\\x9c\\xc8&O\\x9el}\\xd4\\xb0\\n\\x8bs\\xc8\\x91G\\x1eYp\\xaf\\xb0\\xc6\\xd4B\\x83\\xbfY)\\xd9t\\xd3Mm2p\\xc0\\n\\xa5\\x8a\\x92n\\x87\\x0e\\x1d\\xcc\\x1e{\\xec\\xa1\\xc9\\xcd:\\xea\\xfd\\xa4\\xe1\\xd5\\xac\\x06X\\xb9&\\x08\\x90\\xc8j\\x02c\\xf3\\x95\\xa4Yd 2X\\x17\\x17]t\\x91k\\x08\\x16\\xda\\x87\\x1f~h\\xaf}\\xeb-\\x8d\\xc8~\\xfe\\xf9gW\\x1f\\xabqI\\xe2\\xf7\\x05e\\xfcz\\xb8\\x9e2e\\n\\x0e%\\xc5\\xb7\\xc8\\xd0\\xc7\\x8d6\\xda\\xc8\\xfe\\xc1\\xaa\\\\w\\xddu\\xcd\\x19g\\x9ca\\xe7\\xffP\\xb9\\xa1\\xa1\\xc1\\\\z\\xe9\\xa5\\x05z\\xc4\\x0f\\xce]\\xc3\\xcd\\xc1\\x17\\x0c\\xa1\\xb1\\xba\\xf8\\xec\\xb3\\xcf\\xba\\xe4\\x97^z\\xc9\\x9e\\xa3]%G8\\x16\\xd7\\xc2\\x1a\\x83b\\xbd\\xf74\\xbc\\\\gx2\\xcf\\x10\\xf8u\\xfc2\\xcf\\xba\\xc0\\x86\\x81\\x80O\\x1e\\x98\\x1b\\xf2\\xc9I\\'\\xcd{\\xf6\\xeci\\xe7~\\x9ey\\xe6\\x19k\\xb5`b\\xfb\\x86\\x1bn0\\xcb-\\xb7\\x9c\\x03Q\\xad\\x19\\x97\\xe0\\x9d\\xe8K\\x89\\xa44\\x0b\\xc3\\xb7\\xc8\\xe0v\\xd1\\xbd{w\\xeb\\xb5\\x0f\"\\x01\\xb9\\x1cw\\xdcq\\x9e\\xd6\\xc2S\\xb5`\\x90\\nr\\x998qbA\\x81\\x8e\\x1d;\\x1aY\\xb14\\xbb\\xec\\xb2\\x8b\\xc1\\xfd\\xc0\\xd3\\xde\\x17x\\xf3\\xab`\\x8e\\xeb\\x92K.1\\x18\\xeab[\\x100\\xf2\\xf5\\xa3\\x1c\\x88l\\x9f}\\xf6\\xb1yz\\xef\\xeaV\\xa1z\\x9asT\\xcc\\xd2\\xf0j\\x8e~\\xd6\\xad\\r\\x02$\\xb2\\xda\\xe0\\xd8l->\\x91a(\\xe7\\x0f-}\\x87\\xd7\\xb3\\xce:\\xcb\\xec\\xba\\xeb\\xae\\xb6\\xbd\\xbf\\xfe\\xf5\\xaf\\xe6\\x9cs\\xce1X\\x81S\\xc1\\x0b\\x9f$\\xfaR\"\\x1f+|I\\xe2\\x13\\x19\\xfc\\xb9\\xb0\\xd8P\\xa9\\xf8\\x16\\x19|\\xaf0\\xe9\\x0e+Ku\\x82\\x04\\xc5\\xa5\\xa3\\xa4:8\\xf2\\xfaCE\\xdcK\\xda\\xfd@\\x89Zd \\\\\\xf8\\x7f\\xc1\\xc7\\xcd\\xf7!+\\xd9P\\x15\\x89\\x8aY\\x1a^U\\xa8c\\xd1@\\x08ph\\x19\\x08\\xd8j\\xd5\\xc6\\x89\\x0cC#\\x9d\\xfb\\x02\\t\\xc0Q\\x13\\x02K\\x06\\xfb\\x15!x\\xc9\\xae\\xbf\\xfez\\xb7\\x8a\\x8748\\xad&\\x89\\xbe\\x94\\xc8O#\\x08%\\x1d\\x94\\xdb`\\x83\\rp\\xa8X\\xb4\\xcf\\xa8\\x80\\xa1%\\xf6]\\xc2\\t\\x15\\xc3J\\x08\\x16*\\x94|l\\x82\\xf7\\x0f\\xe5|\\x81\\xf5\\x07\\xc7Wx\\xe9c\\xbe\\x0c\\xce\\xc0\\xb8w\\xdf\\x15\\x02N\\xb2j\\xa5\\xe9\\x86\\xf7\\xb8;\\x87\\xaf\\xb3\\xdas\\xc5,\\r\\xafju\\xb2|\\xed\\x11 \\x91\\xd5\\x1e\\xd3&i\\xf4\\xc9\\x03CK\\x88o\\x95\\xf9\\xf9\\x98gR\\xc1Fg\\xdf\\x1f*\\xed\\x85\\xd3\\x97\\x12u}\\xe2T]z\\xf4\\xdb\\xd2\\xb4J\\x8f~\\x9fu\\xd8\\x88\\r\\xdfcd\\x13;\\x8e\\x18&\\xee\\xbe\\xfb\\xee%\\xe7\\xd9^y\\xe5\\x15\\xd7\\x0cv\\'\\xc0:\\xc3&nx\\xe2\\x8b\\xa3\\xady\\xf4\\xd1G\\xadw\\xff\\xdbo\\xbfm`\\xedA\\xe0[\\x87\\x1d\\x02\\x10,\"@\\xb0Y\\x1d\\xed\\xd5B\\x14\\xb34\\xbcj\\xd1\\x0eu4\\x0f\\x01\\x12Y\\xf3\\xf0\\xabYm\\xffEQ\\x97\\x03\\x7f\\x9e\\xcc\\'(D\\xbaP\\x0bG<\\xfd\\x8dO\\x00\\xb5\\xb0\\xc8\\xfcaT\\xd2^\\xc8\\xa4\\x1b\\xf7\\xfb\\x8cUE\\x15\\xacv\\xc2\\x81\\x15\\xfepX\\xcd\\x84e\\xe9\\x0f#Q\\xce\\x9fO\\xc3>\\xc6$\\xc1\\xea)\\xf6[\\xaa\\xa8\\x1b\\x86\\xef<\\x8b\\x95U\\xb5\\xd4\\xb4\\\\S\\x8eJd>\\xfeM\\xd1\\xc3:a\\x11 \\x91\\x85\\xc5\\xb7b\\xed>y\\xa8U\\xe3\\x93\\x82Ot\\x18v\\xfa\\xf3L\\xea\\xed\\x8e\\xc6|\\xe7\\xd8x\\xe3\\xf0\\x05S\\xf1\\xf5i\\x9a\\x1e\\xfdy.lB\\xafF\\xfc>\\xc77bc\\x97\\x00\\xe6\\xdcp\\x7f\\x08W\\x84\\xb9>XT*>\\x91\\xc9\\xd6 M.y\\xf4\\xe7\\xedt\\x15\\x13\\x8b\\x12\\xdd\\xbau\\xb3\\xe5\\'L\\x98`\\x8e?\\xfex7$\\x8f+\\x81\\x15\\x07\\xcbV\\xad\\xb9x\\xbe^+fixiY\\x1e\\xe7\\x1d\\x02\\x9c\\xec\\x9fw\\xd8\\x17\\xb4\\xec\\xbb\\x0b(\\x91\\xe9\\x11\\x05\\xe3/\\x12\\xfc\\xca\\xb0j\\t\\x17\\x0c\\x90\\x82J\\x9a\\x9b\\x80\\xdfF\\\\\\x9f\\xd6\\xc7Q\\x87\\xb68Gl\\xb4\\x03\\x0f<\\xd0\\x0e\\t\\xb1\\xe8\\x00\\xe2\\xd1#H\\x13\\xc3ZX\\x87\\xd8\\x98\\rgU\\xbf\\xcf\\xbeE\\x06]\\x10\\x90\\r\\xe6\\xf5\\xb0\\x11\\x1c\\x93\\xfb\\x88\\x9a\\x81a#\\x1cm\\xd5\\xdb\\x1f\\xbb\\t\\xfc\\xdd\\x05\\xff\\xadY\\xf8\\x1fsg*\\x12\\x02IO\\xad7?b\\x96A\\x10\\xdd\\x02.\\x19W]u\\x95\\xb3`\\x91\\xfe\\x8f\\x7f\\xfc\\xc3Zt\\xf8\\xf2\\x00Qc\\xe57I\\x14\\xb34\\xbc\\x92\\xea2=;\\x04Hd\\xd9a\\x9d\\xda\\x92n\\xbbA!\\x9d\\xf3\\xd2!&\\xd2\\xd42\\xc09\\x04d\\x83\\xbd\\x84\\xfa\\xd2\\xfe7\\xd5\\x18\\xb87$\\x89\\xbf\\xba\\t\\x0f\\xfa$\\xf1\\xf7Z\\x82\\x0c4\\xdcMRy\\xa4\\x83x\\xe0Y\\xef[d\\xba@\\x11\\xaf\\x87\\xb0>XYD\\x00G\\x90\\x10\\x02\\x1cb\\xeb\\x91\\nB\\xe4\\x94\\x13\\xacPb\\x98\\n\"\\x02\\x91\\x83\\\\\\x81\\x1b\\x08\\x1e\\x96\\x9d\\xee\\x84\\x00I\"B\\x07\\x86\\xb6p\\xa4\\xc5\\xfc\\x9a\\xef\\x07\\xa7N\\xc6I\\xed\\x013\\x0c+\\xd5\\xb5#\\xa9\\x1c\\xd3\\xe7-\\x02\\x1cZ\\xce[\\xfc]\\xeb\\xba:\\x88\\trx\\xa6C\\xfc\\x90=:\\xb9\\xed*\\xc8\\xc9!\\x87\\x1cbcbi\\x1a\\xac\\xb1m\\xb6\\xd9F/\\x8b\\x8epNU\\xf1}\\xcf4M\\x8f:<\\xd3\\xebJ\\x8e\\xb0n\\xe0Y\\x0f7\\x08\\x95\\xce\\x9d;\\xebi\\xd1\\x11$\\xac\\x11Z\\xe1;&\\x919\\\\\\x19]\\x95u\\t\\t\\'~?AP*\\xf0=\\xeb\\xd3\\xa7\\x8f^\\xda#\\xac=\\xc4\\x0e\\xf3I\\x0c\\xab\\xa2\\x08\\xef\\x93&\\x8a\\x99~\\xb9\\xa4\\x95e\\xde<D@&D\\x83J\\xc8\\xd0\\x1dA;\\x9e\\xb1\\xf27\\xdf|3\\x12G\\xce\\xc8\\x0f\\x9b#C\\xafHbhE\\xe2\\x01\\x9f\\xd8\\x1b\\x19\\xf2D\\x12\\xab,\\x12\\x0b%B\\x08\\x9br\"!\\xa6#q\\xee\\x8c\\xe4\\x85N-*\\x84\\x18\\xc9\\xc72\\x12b\\x8d\\xc4Z\\x8c\\xbat\\xe9\\x12\\xe1Y\"z\\xad,6D\\x08\\xaf#\\x93\\xeb\\x91\\xcc3E\\x12\\x1f,\\x12\\xab\\xc8\\xe9\\x13\\x8b+\\x12+(\\x92a\\xafK+u\"+\\x98V\\x0f\\xda\\x11R\\x89$\\xfeZ\\x84\\xa8\\xad\\xe2\\x00\\\\\\xaaxQ\\x9a,\\x1e\\xd8\\xbe!\\xba\\xab\\x10iA\\xbe\\x0c{#\\x84\\xfdA\\xbfexh\\xef\\x05\\xed\\xe0\\x0f\\xf7#\\x01+#\\x19\\xfa\\x16\\xd4)u!+\\xa6\\x91\\x90\\x98-_*\\x9fi\\x95#\\x10\\x92\\x0bZ\\xa1\\x1b\\xf2p\\x83\\t\\xb6\\xa1`\\xf9\\x1c\\xb1\\xd3\\xf5\\x1b8Xc-P1\\xe6\\xa1\\xe0\\x9b\\xe5\\xfbg\\x95\\xbaML\\xd0\\x97+\\xa3\\xf5\\xe0^\\x916\\x97\\x86r\\xd0\\xa7\\xe5*\\xd5\\xab\\xfa\\xab9\\xe2\\xe3\\x87M\\xe2\\xab\\xaf\\xbe\\xbau\\xcf\\xa8\\xa6.\\xcaVr\\xdf\\xd8\\x19\\x81\\x85\\x07\\xb4\\x05\\xcb\\n\\xab\\x9e\\xd5\\xdc\\x13\\xacM\\xf8\\xae\\xe9|Y\\xb5}d\\xf9\\xff\"\\x10\\x92\\x0b8GV\\xe7\\x9f2\\x7f\\xce)\\xad\\xab\\xd5\\xbc\\x98\\xe5H\\x0c\\xed@_\\xb9\\t\\xf7\\xb4\\xfeT\\x9a\\x07r\\xf0W +\\xad\\xa7\\xe5*\\xb9o\\x0c\\xa3\\xd3\\x86\\xd2\\xaa+\\xe9\\x88E\\x0cJ}#\\xc09\\xb2\\xfa~>\\xec\\x1d\\x11 \\x02\\x15 @\"\\xab\\x00$\\x16!\\x02D\\xa0\\xbe\\x11 \\x91\\xd5\\xf7\\xf3a\\xef\\x88\\x00\\x11\\xa8\\x00\\x01\\x12Y\\x05 \\xb1\\x08\\x11 \\x02\\xf5\\x8d\\x00\\x89\\xac\\xbe\\x9f\\x0f{G\\x04\\x88@\\x05\\x08\\x90\\xc8*\\x00\\x89E\\x88\\x00\\x11\\xa8o\\x04Hd\\xf5\\xfd|\\xd8;\"@\\x04*@\\x80DV\\x01H,B\\x04\\x88@}#@\"\\xab\\xef\\xe7\\xc3\\xde\\x11\\x01\"P\\x01\\x02$\\xb2\\n@b\\x11\"@\\x04\\xea\\x1b\\x01\\x12Y}?\\x1f\\xf6\\x8e\\x08\\x10\\x81\\n\\x10 \\x91U\\x00\\x12\\x8b\\x10\\x01\"P\\xdf\\x08\\x90\\xc8\\xea\\xfb\\xf9\\xb0wD\\x80\\x08T\\x80\\x00\\x89\\xac\\x02\\x90X\\x84\\x08\\x10\\x81\\xfaF\\x80DV\\xdf\\xcf\\x87\\xbd#\\x02D\\xa0\\x02\\x04Hd\\x15\\x80\\xc4\"D\\x80\\x08\\xd47\\x02$\\xb2\\xfa~>\\xec\\x1d\\x11 \\x02\\x15 @\"\\xab\\x00$\\x16!\\x02D\\xa0\\xbe\\x11 \\x91\\xd5\\xf7\\xf3a\\xef\\x88\\x00\\x11\\xa8\\x00\\x01\\x12Y\\x05 \\xb1\\x08\\x11 \\x02\\xf5\\x8d\\x00\\x89\\xac\\xbe\\x9f\\x0f{G\\x04\\x88@\\x05\\x08\\x90\\xc8*\\x00\\x89E\\x88\\x00\\x11\\xa8o\\x04Hd\\xf5\\xfd|\\xd8;\"@\\x04*@\\x80DV\\x01H,B\\x04\\x88@}#@\"\\xab\\xef\\xe7\\xc3\\xde\\x11\\x01\"P\\x01\\x02$\\xb2\\n@b\\x11\"@\\x04\\xea\\x1b\\x01\\x12Y}?\\x1f\\xf6\\x8e\\x08\\x10\\x81\\n\\x10h]A\\x99\\x9a\\x14\\x194h\\x90\\x192dHMtQ\\t\\x11 \\x02\\xf9C`\\xea\\xd4\\xa9\\xc1:\\x1d\\x9c\\xc8:u\\xead\\xc6\\x8e\\x1dk\\xa6M\\x9b\\x16\\xec&\\xa8\\x98\\x08\\x10\\x81\\xfc \\x00N\\xa8\\xb5\\xb4\\x8aDj\\xad\\xd4\\xd77{\\xf6l3n\\xdc8\\x83#\\x85\\x08\\x10\\x81\\xf9\\x1b\\x81v\\xed\\xda\\x99\\xce\\x9d;\\xd7\\x1c\\x84\\xe0DV\\xf3\\x1eS!\\x11 \\x02D \\x86\\x00\\'\\xfbc\\x80\\xf0\\x92\\x08\\x10\\x81\\xfc!@\"\\xcb\\xdf3c\\x8f\\x89\\x00\\x11\\x88!@\"\\x8b\\x01\\xc2K\"@\\x04\\xf2\\x87\\x00\\x89,\\x7f\\xcf\\x8c=&\\x02D \\x86\\x00\\x89,\\x06\\x08/\\x89\\x00\\x11\\xc8\\x1f\\x02$\\xb2\\xfc=3\\xf6\\x98\\x08\\x10\\x81\\x18\\x02$\\xb2\\x18 \\xbc$\\x02D \\x7f\\x08\\x90\\xc8\\xf2\\xf7\\xcc\\xd8c\"@\\x04b\\x08\\x90\\xc8b\\x80\\xf0\\x92\\x08\\x10\\x81\\xfc!@\"\\xcb\\xdf3c\\x8f\\x89\\x00\\x11\\x88!@\"\\x8b\\x01\\xc2K\"@\\x04\\xf2\\x87\\x00\\x89,\\x7f\\xcf\\x8c=&\\x02D \\x86\\x00\\x89,\\x06\\x08/\\x89\\x00\\x11\\xc8\\x1f\\x02\\xc1\\xe3\\x91\\x8d\\x181\\xc2\\x0c\\x1d:\\x94a|\\xf2\\xf7\\xd9`\\x8f\\x89@\\xcd\\x11@\\x18\\x9f\\xe1\\xc3\\x87\\x9b\\xb6m\\xdb\\xd6V7\\xe2\\x91\\x85\\x94\\xc6\\xc6F\\xc4;\\xe3\\x1f1\\xe0g\\x80\\x9f\\x01\\xfb\\x19\\x189rd\\xcd)\\'\\xb8E6g\\xce\\x1c\\xcb\\xbc\\x08s\\xdd\\xa3G\\x8f\\xda\\xb20\\xb5\\x11\\x01\"\\x90\\x1b\\x04\\x06\\x0e\\x1ch&N\\x9ch\\xe6\\xce\\x9d[\\xf3>\\x07\\'2\\xedq\\x97.]LCC\\x83^\\xf2H\\x04\\x88\\xc0|\\x86@\\x9b6m\\x82\\xdd1\\'\\xfb\\x83AK\\xc5D\\x80\\x08d\\x85\\x00\\x89,+\\xa4\\xd9\\x0e\\x11 \\x02\\xc1\\x10 \\x91\\x05\\x83\\x96\\x8a\\x89\\x00\\x11\\xc8\\n\\x01\\x12YVH\\xb3\\x1d\"@\\x04\\x82!@\"\\x0b\\x06-\\x15\\x13\\x01\"\\x90\\x15\\x02$\\xb2\\xac\\x90f;D\\x80\\x08\\x04C\\x80D\\x16\\x0cZ*&\\x02D +\\x04HdY!\\xcdv\\x88\\x00\\x11\\x08\\x86\\x00\\x89,\\x18\\xb4TL\\x04\\x88@V\\x08\\x90\\xc8\\xb2B\\x9a\\xed\\x10\\x01\"\\x10\\x0c\\x01\\x12Y0h\\xa9\\x98\\x08\\x10\\x81\\xac\\x10 \\x91e\\x854\\xdb!\\x02D \\x18\\x02$\\xb2`\\xd0R1\\x11 \\x02Y!@\"\\xcb\\ni\\xb6C\\x04\\x88@0\\x04Hd\\xc1\\xa0\\xa5b\"@\\x04\\xb2B\\x80D\\x96\\x15\\xd2l\\x87\\x08\\x10\\x81`\\x08\\x90\\xc8\\x82AK\\xc5D\\x80\\x08d\\x85\\x00\\x89,+\\xa4\\xd9\\x0e\\x11 \\x02\\xc1\\x10 \\x91\\x05\\x83\\x96\\x8a\\x89\\x00\\x11\\xc8\\n\\x01\\x12YVH\\xb3\\x1d\"@\\x04\\x82!@\"\\x0b\\x06-\\x15\\x13\\x01\"\\x90\\x15\\x02$\\xb2\\xac\\x90f;D\\x80\\x08\\x04C\\x80D\\x16\\x0cZ*&\\x02D +\\x04HdY!\\xcdv\\x88\\x00\\x11\\x08\\x86\\x00\\x89,\\x18\\xb4TL\\x04\\x88@V\\x08\\x90\\xc8\\xb2B\\x9a\\xed\\x10\\x01\"\\x10\\x0c\\x01\\x12Y0h\\xa9\\x98\\x08\\x10\\x81\\xac\\x10 \\x91e\\x854\\xdb!\\x02D \\x18\\x02$\\xb2`\\xd0R1\\x11 \\x02Y!@\"\\xcb\\ni\\xb6C\\x04\\x88@0\\x04Z\\x07\\xd3L\\xc5u\\x89\\xc0\\x0f?\\xfc`\\x16[l\\xb1\\xba\\xec[\\xa8N\\xfd\\xf4\\xd3O\\xe6\\xbb\\xef\\xbe3_\\x7f\\xfd\\xb5\\xf9\\xe4\\x93O\\xcc/\\xbf\\xfcb6\\xdexc\\xb3\\xc4\\x12K\\x84j\\x92z3F\\x80\\x16Y\\xc6\\x80W\\xd3\\xdcy\\xe7\\x9dg6\\xd8`\\x03\\xf3\\xf4\\xd3OWS\\xcd\\x96\\xfd\\xf6\\xdbo\\xcd\\xf6\\xdboo\\xf6\\xdbo?3g\\xce\\x1c\\x9bv\\xe3\\x8d7\\x9a\\xe5\\x96[\\xcel\\xb3\\xcd6.\\xed\\xa1\\x87\\x1e2\\r\\r\\rf\\xbd\\xf5\\xd63\\xed\\xda\\xb53[m\\xb5\\x959\\xf8\\xe0\\x83\\xcdYg\\x9deF\\x8f\\x1e]u\\xbb?\\xfe\\xf8\\xa3\\xb9\\xfd\\xf6\\xdbM\\xaf^\\xbd\\xccZk\\xade\\x16_|q\\xb3\\xe2\\x8a+\\x9a=\\xf7\\xdc\\xd3\\xdcu\\xd7]%\\xf5]q\\xc5\\x15f\\x95UV1K/\\xbd\\xb4i\\xd3\\xa6\\x8dYv\\xd9eM\\xdb\\xb6mm_WXa\\x05[\\x7f\\xa5\\x95V2+\\xaf\\xbc\\xb2\\xd59r\\xe4H\\xa7\\xe7\\x8b/\\xbe0W^y\\xa5\\xe9\\xdb\\xb7\\xaf\\xd9e\\x97]\\xccf\\x9bmf:u\\xead\\xeb\\x83\\xb0\\x17X`\\x01\\xb3\\xe8\\xa2\\x8bZ]\\x1d;v4[o\\xbd\\xb5\\xe9\\xde\\xbd\\xbb\\xbd\\xd77\\xdex\\xc3\\xe9\\x01\\xc1\\xfd\\xe9O\\x7f2\\xdbn\\xbb\\xad\\xe9\\xda\\xb5\\xab\\xd9{\\xef\\xbd\\xcd\\xd5W_m\\x89\\xcf\\x15\\xe2I\\xfd\"\\x10\\x05\\x96\\x1e=zDr\\xf7\\xd1\\xddw\\xdf\\x1d\\xb8\\xa5\\x96\\xa7\\xbes\\xe7\\xce\\x16;!\\xb3\\xaao\\xee\\xcc3\\xcf\\xb4u\\x81\\xfds\\xcf=g\\xeb\\xcb\\x8b\\xee\\xd2^z\\xe9%\\x9b\\xb6\\xfa\\xea\\xab\\xbb4\\x94\\x8d\\xffu\\xe9\\xd2%\\x92\\x17:\\x12k\\xa6l\\x1f^}\\xf5\\xd5HH\\xa0H\\x87\\xafS\\x88\\xb5H\\xcf\\xfa\\xeb\\xaf\\x9fZ\\xc7\\xaf\\x8fs!4\\xabC,\\xab\\xa8\\xda\\xba\\xaak\\xe1\\x85\\x17\\x8e\\xa6O\\x9fn\\xf5L\\x9b6-R\\xac5_\\x8f\\x0b.\\xb8`4x\\xf0\\xe0\\xe8\\xe7\\x9f\\x7f.\\xea7\\x13\\xaaC $\\x17\\xd0\"\\x93Ol\\xbd\\n\\x86D\\x90W^y\\xc5\\xbc\\xf6\\xdak\\x15ws\\xf6\\xec\\xd9\\xe6\\xfa\\xeb\\xafw\\xe5[\\xb7\\xfe\\xef\\x0c\\xc2\\x97_~\\xe9\\xd2`\\xb1\\xc1\\x9a\\xf9\\xe0\\x83\\x0f\\\\Z\\xabV\\xad\\xcc\\xdak\\xafmV[m5\\x83s\\xc8\\xeb\\xaf\\xbfn\\x8e;\\xee8\\x03k\\xe6\\xfe\\xfb\\xefwe\\xe3\\'\\x7f\\xf9\\xcb_\\xcc\\xe6\\x9bon\\x84\\xcc\\xe2Y\\x05\\xd7#F\\x8c(\\xba\\x17X`\\x95\\n,\\xac?\\xfe\\xf1\\x8f\\xb68\\xfa\\xff\\xf1\\xc7\\x1f\\x17U\\xd5\\xbek\\x06,=X|\\xab\\xae\\xba\\xaa\\x11\\xe23\\xbd{\\xf76\\x0f>\\xf8\\xa0\\xbdF\\x99}\\xf6\\xd9\\xc7\\xbc\\xf5\\xd6[Z\\xdcZ}B`\\xf6\\x1a\\xd6\\xec\\xd0\\xa1C\\xcd\\x1e{\\xeca\\xe4\\xb5uexR_\\x08p\\x8e\\xac\\xbe\\x9eGAo\\xda\\xb7o\\xef\\x88\\xe6\\xd1G\\x1f\\xb5/aA\\x81\\x84\\x8b\\x87\\x1f~\\xd8|\\xf6\\xd9g6w\\x91E\\x161\\xdd\\xbau\\xb3\\xe7b\\x85\\xb8\\x1a\\x18\\xb2\\x81\\x08|y\\xf9\\xe5\\x97\\xcd\\x86\\x1bnh\\x93@t\\x18Z\\xdeq\\xc7\\x1d\\x06C\\xb9Y\\xb3f\\x99\\xbd\\xf6\\xda\\xcb\\\\{\\xed\\xb5\\xe6\\xd8c\\x8f\\xf5\\xabY\\xd2\\xf4\\xd3@\\x02\\x87\\x1cr\\x88\\xd9b\\x8b-\\xec0\\xf1?\\xff\\xf9\\x8f\\x11\\xab\\xd0\\xfe!\\x0fm\\xfb\\xe2\\x13\\xd9\\xf9\\xe7\\x9fo\\x87u\\x98\\xc7\\x02\\xf1\\xea\\x1f\\xfa\\x83a\\xf1v\\xdbmg:t\\xe8`\\xab/\\xbf\\xfc\\xf2\\xe6\\xa3\\x8f>2\\xef\\xbc\\xf3\\x8e\\x1d*cX\\x8a?\\xcc}-\\xb9\\xe4\\x92\\x06\\xf3\\x81\\xc0\\xf0\\xbd\\xf7\\xde3J\\xe6~\\xbb8\\x07\\xae\\xe3\\xc7\\x8f\\xb7\\xc9 <\\\\o\\xb9\\xe5\\x96f\\xe6\\xcc\\x99f\\xc0\\x80\\x01FF\\x126\\xef\\xb1\\xc7\\x1e\\xb3_(\\x8a\\x8fM\\xe4\\xbf\\xfaA\\xa0:\\xe3\\xb0\\xfa\\xd2!\\xcd\\xc9\\xea{\\x93\\xaf\\x1aG\\x1f}\\xb4\\x1br\\t\\x89T\\xdc\\xf9#\\x8f<\\xd2\\xd5\\xdbi\\xa7\\x9d\\\\=\\x99\\xffq\\xe92\\'\\x14\\xc9\\x1c\\x91\\xbb\\x96Od$\\x16\\xa0+\\xeb\\x9f\\x081F\\xcb,\\xb3\\x8c-\\x8b\\xa1\\xd6\\x13O<\\xe1\\xb2\\xa1G\\xc8\\xc3\\xe9\\x11\\x8b.\\x9a8q\\xa2\\xcb\\xf7Of\\xcc\\x98\\x11M\\x992\\xc5O\\xb2\\xe7\\x87\\x1ez\\xa8\\xad/\\x96T\\xf4\\xd5W_\\x15\\xe57%A\\xacJ\\xab\\x13\\xf7\\x9c&}\\xfa\\xf4q}\\xbf\\xee\\xba\\xeb\\x8a\\x8a^z\\xe9\\xa5\\x91|\\x19D\\xb8/Y0(\\xcagB\\xe5\\x08\\x84\\xe4\\x02\\x0e-\\xeb\\xe7;\\xa5\\xa8\\'\\x9bl\\xb2\\x89K\\xfb\\xf7\\xbf\\xff\\xed\\xce\\xcb\\x9d\\xc0\"S\\xc1\\x90H\\xe5\\x9bo\\xbe\\xd1S;\\t\\x8fa\\x9a/:\\x9c\\xf2\\xd3p\\xbe\\xeb\\xae\\xbbZ\\xab\\x0c\\xe7\\x18j\\x9d~\\xfa\\xe98\\xb5r\\xc2\\t\\'X\\xab\\t\\x17\\xb0\\x900d\\xc3\\x02E)\\x81%&sQEYj\\x91\\xc1\\xe2\\x82UT\\x0bYj\\xa9\\xa5\\xac\\x1a,6\\xa4\\x89N\\xf8\\xc3Z\\xed\\xd7\\xaf_Q\\xd1\\x13O<\\xd1\\xc8\\\\\\x9a\\xb5\\xc6\\xca\\xe9*\\xaa\\xcc\\x84\\xcc\\x10\\xe0\\xd023\\xa8\\xabo\\x08\\xabk*\\x18*N\\x9d:\\xd5\\xac\\xb1\\xc6\\x1a\\x9aT\\xf2\\x88a\\x94L^\\xbb\\xbc\\xddw\\xdf\\xdd\\x9d7\\x95\\xc8\\xa0@\\xbeM\\xedp\\rC\\xbcq\\xe3\\xc6\\x997\\xdf|\\xd3\\xea\\xbd\\xf3\\xce;\\x9d\\xfe[o\\xbd\\xd5\\xac\\xb9\\xe6\\x9a\\xee\\xba\\xd2\\x13%/%\\x9fJ\\xeb\\xa5\\x95\\xc3\\x90\\x1a\\xb2\\xd0B\\x0b\\xa5\\x15ssl Y\\xacn\\x96\\x12\\x10,\\xa5\\xbe\\x11(\\xfcJ\\xae\\xef\\xbe\\xcew\\xbd[w\\xddu\\xed\\xbc\\x90\\xde\\xb8\\xac4\\xeai\\xe2\\xf1\\xa9\\xa7\\x9eryp\\x7f\\xc0\\xe4\\xbd\\x8a\\x12\\x19\\xac\\x0fX_\\xbeE\\x16\\x9f \\xd7:z\\x04!\\xc8\\n\\xa6^Z\"\\xd3\\xb9%$\\xc2\\xa5\\xc3\\xb7\\xfe\\\\\\xc1\\nN\\xe0\\xb2\\x01\\xc1|\\x97\\x0c-\\xed9|\\xbe\\xde\\x7f\\xff}\\x83\\x85\\x8b\\xa6\\x88\\xce\\x07\\xfa\\xf7XJ\\x8fZ\\x88\\xb0\\xba0GH\\xc9\\'\\x02$\\xb2:~n \\x17Ln\\xab\\xc8\\xdc\\x93\\x9e&\\x1e}\\x9f\\xb38\\xb1\\xc0\\x9a\\x82\\xe8\\x10\\xc9\\'\\xaf\\xa4a\\xa564w\\xee\\\\\\xa3\\xc30\\xa4aE\\x15\\x93\\xf8*\\x18b&\\xc9\\xf7\\xdf\\x7foW\\x05\\x9f\\x7f\\xfey\\x03\\xa2\\xc5\\n\\xac\\xfa\\xb6\\xa1\\x8e\\xf6\\x0b:\\xe1?\\x06\\x12\\x9299k}b\\xf2\\xfe\\xd3O?MR\\x9d\\x98.376O\\t-\\xa9 \\xfc\\xcfTv\\xdbm7s\\xd4QG\\xd9\\xc5\\x0b\\xf4U\\x89_\\xf3y\\xac_\\x04Hd\\xf5\\xfbll\\xcf\\xfc\\xe1%\\xdc0\\xca\\t^@\\x15\\x7fX\\x89U@\\xb5|\\x94\\xc8|k\\xa5\\xdc\\x0b\\x0f\\xb7\\n\\xff\\xc5\\x86%\\xe3\\x13\\x19\\x1ci\\xe3\\x02R\\xc5\\x8a)\\x86\\x8c\\xb0\\x0ca\\xb5a\\x88\\n\\x87\\xd3u\\xd6Y\\xc7\\xae&\\xa2\\x8e\\xaf\\x17\\x84\\xe9[a A\\x7f\\xa8\\x1co#\\xe9Z\\xfc\\xbel\\x16V/\\xd3\\xe4\\xf0\\xc3\\x0f7\\x8a\\x13\\x08\\x13N\\xc3\\xc7\\x1cs\\x8c\\xed+\\xe6\\xee0?8l\\xd8\\xb0\\x82>\\xa6\\xe9c\\xde\\xbcA\\x80D6op\\xaf\\xb8\\xd5\\x1dw\\xdc\\xd1\\x95\\x9d4i\\x92;/u\\x82m8:w\\x859\"\\x9f\\x04}\\xb2\\xd0\\xb9 \\x90\\x9b\\x8aN\\xb8\\xebu\\xfc\\x08\\xf7\\x03\\x15\\xb8?`\\x8b\\xcf\\xe7\\x9f\\x7fn\\x93`\\xcd\\xc1\\xf3>.  \\x10 \\xc8).p\\x99\\x90UB\\x9b\\xac\\x16\\x19.6\\xdah##+\\x89vG\\x02\\x8e7\\xddt\\x93\\xd9t\\xd3M\\xe3\\xd5\\xcb^+\\x91\\x95#h\\xf4\\xfd\\xbe\\xfb\\xee3\\x97\\\\r\\x89m\\xc7\\x9f\\xa7\\x83\\xd5\\x08w\\x8c\\xfe\\xfd\\xfb\\xdb\\xfb\\xc5P\\x97R\\x9f\\x08p\\xb2\\xbf>\\x9f\\x8b\\xeb\\x15\\xfc\\x96\\xb0\\xc5G\\\\\\x17\\xecd?\\xc8J\\xf7\\x08\\xc2\\xe2\\x01I\\xc0\\xca\\x81`\\xc8\\xa6\\xa4\\x01\\x0b\\xc9\\xdfS\\xe9\\x13\\x99N\\x84\\xc3\\xcfJ\\x05C\\xba$A\\xdd\\x8b/\\xbe\\xd8e\\xc3\\xbf\\n\\xc3R\\x10\\xda\\x84\\t\\x13\\xec0\\x11\\x84\\x05r\\xf3\\x05\\xdb|.\\xbb\\xec2\\x03+\\x11\\x04\\x81~\\xc37M\\x9d{\\xd5\\xd7M\\x89\\x0c[\\xaa\\xc6\\x8c\\x19\\xe3\\x9cq}]\\xd5\\x9e+\\x91\\x01\\xafr\\x02\\x1f\\xb3\\x93N:\\xc9\\xfe\\xa1,\\xeew\\xf2\\xe4\\xc9\\xb6\\xaf [,\\xa0\\x80x/\\xbc\\xf0B\\x03\\xc7_J\\xfd!@\"\\xab\\xbfgR\\xd0#\\x10\\x86\\xf8\\x82\\x99\\xbf\\xff\\xfd\\xef\\xd6\\xb3\\x1c\\x84\\x01\\x87\\xcdg\\x9f}\\xd6444\\xd8\\x97\\x1e\\x84\\x86=\\x84o\\xbf\\xfd\\xb6\\xab\\xeb[rHl\\x0e\\x91\\x81\\xc4\\x94t\\xb0\\x1f\\x13\\x9e\\xfe\\x10uL\\xc5\\xf9\\x8b/\\xbeXDd \\xaeA\\x83\\x06!\\xdb\\t,\\x1c\\x0c\\xd7 j\\x19*\\x91a\\x18\\xea\\xcf\\xdb\\xb9JM8Q\"\\xc3\\xa2A\\xb5\\x02\\xd2\\xc5\\x9eM\\xfc\\xf5\\x13\\x97\\x0c\\xec\\xddD\\x1f+\\x99\\xa3\\xac\\xb6-\\x96\\xaf\\r\\x02\\x1cZ\\xd6\\x06\\xc7\\xa0Z\\xb0\\x19Z\\x05\\xf3d\\x18\\x12\\xfe\\xeew\\xbf\\xb3\\xd6\\x17\\x86?\\xe2Pj0\\x97\\xe4\\x0f=\\x1b\\x1b\\x1b\\xb5\\x8a=*Y\\xe0B\\t\\xc4\\xb7\\xc8\\x92\\\\\\x0c`\\x8d`S\\xb7\\xca\\xb9\\xe7\\x9e\\xeb,\\xbd\\x9e={j\\xb2\\x11\\xc7Q\\xebI\\xef\\x12\\x12N\\xfc\\xc5\\x08l{\\x82\\xf8}K\\xa8Vu\\xb2\\x12\\x99O\\xe0U+\\x91\\np\\xcbP\\x7f>]Qm\\x8a\\x1e\\xd6\\t\\x8b\\x00\\x89,,\\xbe5\\xd1\\xbe\\xf3\\xce;;=/\\xbc\\xf0\\x82\\xb9\\xe1\\x86\\x1b\\nV\\x101\\xec\\x198p\\xa0\\x8bV\\x81\\tnXm\\xbe\\xf8/\\xb4\\x0e-\\xfd\\x173\\xbem\\x08u\\xe1\\x92\\x00k\\x10$\\t\\xc1\\xfc\\x15,\\x14\\x15XV\\xd8\\xbb\\x08\\xc1^\\xc5s\\xce9G\\xb3J\\x1eA\\xc0\\xd8\\xf2\\xa4\\xa2>g:\\xfc\\xd3\\xbd\\xa5\\x9a\\xdf\\x9c\\xa3\\x12Y\\x9aE\\x86!.\\xb6D\\xc1\\x9aL\\x12|Q`\\xf8\\x0c\\xc1\\x02\\x05\\xa5>\\x11 \\x91\\xd5\\xe7s)\\xe8\\x156;\\x83D \\xa3F\\x8d2\\'\\x9f|\\xb2=\\xc7J\\xa0N\\xb2c\\xb5\\r$\\x07\\xc103\\xbe\\xb7P\\xc9\\x02\\xf9\\xea$\\n\\x07[\\x15\\x0c\\x19}AX\\x1bXu\\xef\\xbe\\xfb\\xaeM\\x86\\xd3*\\xf6\\x1d\\xc6\\xdd40I\\xae\\xab\\x9f\\xb0\\xca\\xe0\\t\\x9fDH\\x98/\\x83\\x85\\x07A\\x1d\\xbd\\'\\x9d\\xd7\\xc3~\\xceZ\\x89\\xae|\\xfa\\x04\\x1e\\xd7}\\xdai\\xa7\\x99\\xb3\\xcf>\\xdb\\x86\\xee\\xc1\\x8e\\x84R\\x82\\r\\xe3j1\\xc6\\xe7\\x00K\\x95g\\xda\\xbcA\\x80sd\\xf3\\x06\\xf7\\xaa[\\x85\\x8b\\x00\\xdc\\x1d\\xfc\\x97\\x1d\\xc4\\x80\\xd5F\\xdf\\xd7\\x0c\\x8au(\\xe47\\xe2\\xcf=)\\x91\\xf9n\\r\\xbe\\xe5r\\xcf=\\xf7\\xd8\\x89o%\\x1d\\xe8\\x81\\x0b\\x82:\\x8f\\xfaz\\xe1{\\x8594\\x90+|\\xb7.\\xbf\\xfcr\\xf3\\xf8\\xe3\\x8f\\xdb\\x8d\\xe5\\xb0\\n\\xe1D\\x0b\\xc2\\xc4fs\\xc4\\rS\\xc1\\xa6r\\xb5\\xc8t\\xa8\\x8bmX\\xff\\xfc\\xe7?\\xad/\\x196\\xb4\\xe3\\x0f+\\xa38\\xa2\\x7f\\xb0$%\\xec\\x90\\xbd\\xdf\\xa4mP\\xaa_\\xef7\\x8d\\xc8\\xf6\\xddw_\\x1b\\xd1\\x03\\xa4w\\xc0\\x01\\x07\\x98\\'\\x9f|\\xd2F\\xf0\\x80\\x0eXt f\\xc4\\x84\\x83\\xe0\\x8b\\x01\\x9b\\xe6)u\\x8a@\\xe5[>\\x9bV2\\xe4F\\xd1\\xa6\\xf5(\\x9f\\xb5\\x10SL>B\\xee\\x0fq\\xb8\\xc4\\x92\\xb17#d\\xe2\\xd2QF\\xdc\\t\\x8an\\xd2\\xaf/\\x81\\x13m\\xbe\\xac>\\xbazb!E\\x88{\\xe6o\\x00\\x87.!\\x8fH\\x08\\xa8H_<a\\xc8\\x90!\\x11t\\xf8}L:\\x97\\xd5\\xd4H\\\\\\x19\\x9c\\n!\\xbc\\x8a\\xea\\xf9\\xfa\\xc4q\\xd5\\xd5/u\"\\xbb\\x1a\\xacN\\x99\\xb8/\\x95m\\xd3\\x84\\xc0\\xa2\\xdf\\xfe\\xf6\\xb7\\xaemq\\xd5\\x88$\\xc4O$A!#\\xb1\\x82]:\\xda\\x15BK\\xd4\\xc3\\x8c\\xca\\x10\\x08\\xc9\\x05\\xf8\\x16\\r*!;\\x1f\\xb4\\xe3u\\xa6\\\\\\xe6j\"\\x8d\\xe8\\x80\\x17K,\\x17\\xd7CD\\xb1\\xc0K\\x88t\\xbc\\xb82\\x89\\xef\\xf2\\xf4D\\xac\\x9aH,1[F\\x86S6Y\\xac\\xac\\x82\\x97\\xd5\\'\\n\\x9c\\x83\\xd8d\\x01AU\\x94=\\x8a%VD\\x00q\\x9d2<\\x8bd\\xe5\\xb5@\\x97\\x1f\\xad#^>\\xe9Z\\xac\\xce\\x02\\x1d\\xf1\\x0b%(YY\\x8dg\\x15\\\\\\x83\\xccd\\xe1$\\x12\\x0b\\xae$\\x162\\x94\\x8ed\\x956\\x92\\xf9\\xbd\\x82z\\xbc\\xa8\\x1e\\x81\\x90\\\\\\xc0\\xa1\\xa5\\xbc)y\\x10\\xcc)\\x9dq\\xc6\\x19v\\xc8&/i\\xc10\\x07{21\\x0c\\xc26!\\xacf\\xeaP\\xcd\\xbf/l\\xf5A@B\\x84\\x9bF(k\\xc8a\\x87\\x1df\\'\\xe9\\x11\\xec\\x10sb\\xf0\\xf8\\xc7<\\x10\\x86\\xa6\\xf8\\x83\\x1fX9\\x87R\\xbf\\r\\xb8|`\\x18\\x89\\x00\\x8c\\xb7\\xddv\\x9b\\x91\\x90=vX\\x88\\xd5Ix\\xf3C\\'<\\xe9uh\\xabu\\x11\\xe8\\xf0\\x96[n\\xb1\\xfehp\\xd9\\xc0\\xc2\\x03\\xfe\\xb0\\x92\\x8a!\\x1d\\xcac\\x01\\x03\\xf3t\\x98\\x17D\\x1fK\\xed$P}8\\x1e\\x7f\\xfc\\xf1v\\xa8\\xb8\\xc3\\x0e;\\xf8\\xc9E\\xe7\\xd0\\x8f\\xc5\\x13`\\x81a$VU1\\xc1\\x8fa/\\xe6\\xf0\\x80\\xb9\\xc6s+\\xaa\\xcc\\x84\\xbaA\\xa0\\x15x5do\\xe0\\xeb4v\\xecX;Q\\x8c\\xf8\\xf1\\x94\\xe6!\\x00\\xcf}\\xccU\\xc5\\'\\xdd\\xa1\\xd5w\\x96m^+\\xd9\\xd7VW\\x10\\xdf\\x89\\xb7\\xb9\\xbd\\x00\\x1e g\\x9d/\\xabD\\x1f\\x16*\\xf0\\xa5\\x11\\'\\xdbJ\\xea\\xb2L:\\x02!\\xb9\\x80\\x16Y:\\xf6u\\x97\\x0b\\xeb+I\\xd4\\xe3?)\\xbf\\x9e\\xd3kI`z\\x9fM\\xc1C]ST\\x07\\x8f\\xf9@\\x80\\xee\\x17\\xf9xN\\xec%\\x11 \\x02)\\x08\\x90\\xc8R\\xc0a\\x16\\x11 \\x02\\xf9@\\x80D\\x96\\x8f\\xe7\\xc4^\\x12\\x01\"\\x90\\x82\\x00\\x89,\\x05\\x1cf\\x11\\x01\"\\x90\\x0f\\x04Hd\\xf9xN\\xec%\\x11 \\x02)\\x08\\x90\\xc8R\\xc0a\\x16\\x11 \\x02\\xf9@\\x80D\\x96\\x8f\\xe7\\xc4^\\x12\\x01\"\\x90\\x82\\x00\\x89,\\x05\\x1cf\\x11\\x01\"\\x90\\x0f\\x04Hd\\xf9xN\\xec%\\x11 \\x02)\\x08\\x90\\xc8R\\xc0a\\x16\\x11 \\x02\\xf9@\\x80D\\x96\\x8f\\xe7\\xc4^\\x12\\x01\"\\x90\\x82\\x00\\x89,\\x05\\x1cf\\x11\\x01\"\\x90\\x0f\\x04Hd\\xf9xN\\xec%\\x11 \\x02)\\x08\\x90\\xc8R\\xc0a\\x16\\x11 \\x02\\xf9@\\x80D\\x96\\x8f\\xe7\\xc4^\\x12\\x01\"\\x90\\x82\\x00\\x89,\\x05\\x1cf\\x11\\x01\"\\x90\\x0f\\x04Hd\\xf9xN\\xec%\\x11 \\x02)\\x08\\x90\\xc8R\\xc0a\\x16\\x11 \\x02\\xf9@\\x80D\\x96\\x8f\\xe7\\xc4^\\x12\\x01\"\\x90\\x82\\x00\\x89,\\x05\\x1cf\\x11\\x01\"\\x90\\x0f\\x04Hd\\xf9xN\\xec%\\x11 \\x02)\\x08\\x90\\xc8R\\xc0a\\x16\\x11 \\x02\\xf9@\\x80D\\x96\\x8f\\xe7\\xc4^\\x12\\x01\"\\x90\\x82\\x00\\x89,\\x05\\x1cf\\x11\\x01\"\\x90\\x0f\\x04Hd\\xf9xN\\xec%\\x11 \\x02)\\x08\\x90\\xc8R\\xc0a\\x16\\x11 \\x02\\xf9@\\x80D\\x96\\x8f\\xe7\\xc4^\\x12\\x01\"\\x90\\x82@\\xeb\\x94\\xbc\\x9af\\r\\x1a4\\xc8\\x0c\\x192\\xa4\\xa6:\\xa9\\x8c\\x08\\x10\\x81\\xfc 0u\\xea\\xd4`\\x9d\\rNd\\x9d:u2c\\xc7\\x8e5\\xd3\\xa6M\\x0bv\\x13TL\\x04\\x88@~\\x10\\x00\\'\\xd4ZZE\"\\xb5V\\xea\\xeb\\x9b={\\xb6\\x197n\\x9c\\xc1\\x91B\\x04\\x88\\xc0\\xfc\\x8d@\\xbbv\\xedL\\xe7\\xce\\x9dk\\x0eBp\"\\xaby\\x8f\\xa9\\x90\\x08\\x10\\x01\"\\x10C\\x80\\x93\\xfd1@xI\\x04\\x88@\\xfe\\x10 \\x91\\xe5\\xef\\x99\\xb1\\xc7D\\x80\\x08\\xc4\\x10 \\x91\\xc5\\x00\\xe1%\\x11 \\x02\\xf9C\\x80D\\x96\\xbfg\\xc6\\x1e\\x13\\x01\"\\x10C\\x80D\\x16\\x03\\x84\\x97D\\x80\\x08\\xe4\\x0f\\x01\\x12Y\\xfe\\x9e\\x19{L\\x04\\x88@\\x0c\\x01\\x12Y\\x0c\\x10^\\x12\\x01\"\\x90?\\x04Hd\\xf9{f\\xec1\\x11 \\x021\\x04Hd1@xI\\x04\\x88@\\xfe\\x10 \\x91\\xe5\\xef\\x99\\xb1\\xc7D\\x80\\x08\\xc4\\x10 \\x91\\xc5\\x00\\xe1%\\x11 \\x02\\xf9C\\x80D\\x96\\xbfg\\xc6\\x1e\\x13\\x01\"\\x10C\\x80D\\x16\\x03\\x84\\x97D\\x80\\x08\\xe4\\x0f\\x01\\x12Y\\xfe\\x9e\\x19{L\\x04\\x88@\\x0c\\x81\\xe0\\x81\\x15G\\x8c\\x18a\\x86\\x0e\\x1d\\xcaxd1\\xe0yI\\x04\\xe6G\\x04\\x10\\x8fl\\xf8\\xf0\\xe1\\xa6m\\xdb\\xb6\\xb5\\xbd}\\x04V\\x0c)\\x8d\\x8d\\x8d\\x08\\xdc\\xc8?b\\xc0\\xcf\\x00?\\x03\\xf630r\\xe4\\xc8\\x9aSNp\\x8bl\\xce\\x9c9\\x96y\\x11\\xaf\\xbfG\\x8f\\x1e\\xb5eaj#\\x02D 7\\x08\\x0c\\x1c8\\xd0L\\x9c8\\xd1\\xcc\\x9d;\\xb7\\xe6}\\x0eNd\\xda\\xe3.]\\xba\\x98\\x86\\x86\\x06\\xbd\\xe4\\x91\\x08\\x10\\x81\\xf9\\x0c\\x816m\\xda\\x04\\xbbcN\\xf6\\x07\\x83\\x96\\x8a\\x89\\x00\\x11\\xc8\\n\\x01\\x12YVH\\xb3\\x1d\"@\\x04\\x82!@\"\\x0b\\x06-\\x15\\x13\\x01\"\\x90\\x15\\x02$\\xb2\\xac\\x90f;D\\x80\\x08\\x04C\\x80D\\x16\\x0cZ*&\\x02D +\\x04HdY!\\xcdv\\x88\\x00\\x11\\x08\\x86\\x00\\x89,\\x18\\xb4TL\\x04\\x88@V\\x08\\x90\\xc8\\xb2B\\x9a\\xed\\x10\\x01\"\\x10\\x0c\\x01\\x12Y0h\\xa9\\x98\\x08\\x10\\x81\\xac\\x10 \\x91e\\x854\\xdb!\\x02D \\x18\\x02$\\xb2`\\xd0R1\\x11 \\x02Y!@\"\\xcb\\ni\\xb6C\\x04\\x88@0\\x04Hd\\xc1\\xa0\\xa5b\"@\\x04\\xb2B\\x80D\\x96\\x15\\xd2l\\x87\\x08\\x10\\x81`\\x08\\x90\\xc8\\x82AK\\xc5D\\x80\\x08d\\x85\\x00\\x89,+\\xa4\\xd9\\x0e\\x11 \\x02\\xc1\\x10 \\x91\\x05\\x83\\x96\\x8a\\x89\\x00\\x11\\xc8\\n\\x01\\x12YVH\\xb3\\x1d\"@\\x04\\x82!@\"\\x0b\\x06-\\x15\\x13\\x01\"\\x90\\x15\\x02$\\xb2\\xac\\x90f;D\\x80\\x08\\x04C\\x80D\\x16\\x0cZ*&\\x02D +\\x04HdY!\\xcdv\\x88\\x00\\x11\\x08\\x86\\x00\\x89,\\x18\\xb4TL\\x04\\x88@V\\x08\\x90\\xc8\\xb2B\\x9a\\xed\\x10\\x01\"\\x10\\x0c\\x01\\x12Y0h\\xa9\\x98\\x08\\x10\\x81\\xac\\x10 \\x91e\\x854\\xdb!\\x02D \\x18\\x02$\\xb2`\\xd0R1\\x11 \\x02Y!@\"\\xcb\\ni\\xb6C\\x04\\x88@0\\x04Hd\\xc1\\xa0\\xa5b\"@\\x04\\xb2B\\x80D\\x96\\x15\\xd2u\\xde\\xce/\\xbf\\xfcb\\xbe\\xfc\\xf2\\xcb\\xaa{\\x19E\\x91\\x99;wn\\xd5\\xf5X\\x81\\x08\\xd4\\x12\\x01\\x12Y-\\xd1\\xcc\\x99\\xaew\\xdf}\\xd7\\x9cr\\xca)f\\xcd5\\xd74\\x8b.\\xba\\xa8Yv\\xd9e\\xcd\\n+\\xac`\\x06\\x0c\\x18`f\\xcc\\x98\\x91z7o\\xbc\\xf1\\x869\\xf2\\xc8#\\xcd\\xf2\\xcb/o\\x96Yf\\x19\\xd3\\xabW/\\xf3\\xc1\\x07\\x1f\\x94\\xac\\xf3\\xd9g\\x9f\\x99k\\xae\\xb9\\xc6|\\xf2\\xc9\\'%\\xf3\\xfd\\xc4W^y\\xc5\\xf4\\xeb\\xd7\\xcf\\x0c\\x1e<\\xd8\\x80\\\\U\\xee\\xbf\\xff~\\xf3\\xaf\\x7f\\xfdK/\\x13\\x8f\\xb3g\\xcf6W\\\\q\\x859\\xf8\\xe0\\x83\\xcd3\\xcf<\\x93X\\x8e\\x19-\\x0c\\x01\\xf9F\\r*=z\\xf4\\x88\\x04\\xb2\\xe8\\xee\\xbb\\xef\\x0e\\xda\\x0e\\x95W\\x87\\xc0C\\x0f=\\x14-\\xbd\\xf4\\xd2\\xf6\\xd9\\xe0\\xf9\\xc4\\xff\\xda\\xb5k\\x17\\xcd\\x9c9\\xb3\\xa4\\xd2+\\xaf\\xbc2Zd\\x91E\\x8a\\xea\\x08\\x11F\\xaf\\xbe\\xfajQ\\x9d\\xbd\\xf7\\xde\\xdb\\x96]y\\xe5\\x95\\xa3\\xc9\\x93\\'\\x17\\xe5k\\xc2\\xad\\xb7\\xde\\x1a-\\xbc\\xf0\\xc2N\\xef\\x8d7\\xdeh\\xb3^z\\xe9\\xa5\\xa8U\\xabV6}\\xd0\\xa0AZ\\xbc\\xe8(\\x84\\x19m\\xbb\\xed\\xb6\\xae>\\xee\\x81R?\\x08\\x84\\xe4\\x02Zd-\\xec\\x8b\\xa9\\x92\\xdb\\xb9\\xfa\\xea\\xab\\xcd\\x9e{\\xeei\\xbe\\xfe\\xfa\\xeb\\xc4\\xe2\\xd3\\xa7O7\\xa3F\\x8d*\\xca\\xbf\\xeb\\xae\\xbb\\xcc\\x1f\\xfe\\xf0\\x07\\xf3\\xd3O?\\xd9\\xbc\\x05\\x16\\xf8\\xf5#\\xf4\\xc5\\x17_X\\xbd_}\\xf5\\x95\\xab\\'dh\\x1e|\\xf0A{\\r\\x8bl\\xa7\\x9dv2\\x1f~\\xf8\\xa1\\xcb\\xc7\\x89\\xbcj\\xd6\\x02\\x83%\\xf6\\xf3\\xcf?\\xbb<Xg\\x90\\xdbo\\xbf\\xdd\\x96\\xc1\\xf9\\xe5\\x97_n\\xce=\\xf7\\\\\\x9c\\x16\\xc8\\x9bo\\xbei\\xb6\\xdcrK\\xf3\\xec\\xb3\\xcf\\xbat\\xdc\\xc3\\xe7\\x9f\\x7f\\xee\\xaey\\xd2r\\x11\\xf8\\xf5S\\xd8r\\xef\\x91w\\xe6! V\\x8f9\\xfe\\xf8\\xe3\\xcd\\x9c9sl*\\x86\\x93C\\x86\\x0c1\\xf7\\xdcs\\x8f\\xb9\\xe5\\x96[L\\xff\\xfe\\xfd\\x8dX26o\\x8d5\\xd6\\xf0j\\x1a3~\\xfcxs\\xf8\\xe1\\x87\\xbb\\xb4\\xd3O?\\xdd\\xce\\xabaHy\\xc8!\\x87\\xd8\\xf4\\xa9S\\xa7\\x16\\x10\\xcd\\xb8q\\xe3\\n\\x86\\x88 \\xb1\\xddv\\xdb\\xcd(\\xd9\\xfd\\xf8\\xe3\\x8f\\xa6O\\x9f>\\xe6\\x82\\x0b.pz\\xf5DI\\xc8\\'\\'\\xe4\\xa1\\xbf7\\xddt\\x93\\x163\\xa3G\\x8f6[o\\xbd\\xb5\\xc1P9.\\xaa#\\x9e\\xce\\xeb\\x16\\x86@h\\xc33\\xa49\\x19\\xba\\xef-M\\xff\\x0f?\\xfc\\x10\\xad\\xb6\\xdajn\\xe8\\xd5\\xd0\\xd0\\x10\\x89\\x95Tt\\x9b27\\x15M\\x992\\xa5 \\xfd\\xfb\\xef\\xbf\\x8f\\xda\\xb7o\\xef\\xea^t\\xd1E\\x05\\xf9bIE\\x9bo\\xbe\\xb9\\xcd_h\\xa1\\x85\\x9c\\xde\\xab\\xae\\xba\\xca\\xd5\\x91W\\xc7\\x9d\\xaf\\xbb\\xee\\xba\\xd1u\\xd7]\\x17u\\xeb\\xd6\\xcd\\xa5!\\x7f\\xc9%\\x97t\\xd7\\'\\x9cp\\x82mc\\xb9\\xe5\\x96si\\xaac\\xc1\\x05\\x17\\x8c0\\xcc<\\xf1\\xc4\\x13\\xa3\\xd6\\xad[\\xbb|\\xb1\\x10\\xa3\\xc5\\x16[\\xcc]\\x0ba\\x16\\xf4\\x93\\x17\\xf3\\x0e\\x81\\x90\\\\@\\x8b\\xac\\x85}1\\xa5\\xdd\\xce\\xb5\\xd7^\\xeb\\x86uBhf\\xe4\\xc8\\x91f\\xa5\\x95V*\\xaa\"$a:w\\xee\\\\\\x90>|\\xf8p3m\\xda4\\x9b\\xb6\\xc7\\x1e{\\x98SO=\\xb5 _\\xc8\\xcbYU\\x98p\\xbf\\xe3\\x8e;l\\xfe\\xacY\\xb3\\\\\\xb9\\xde\\xbd{\\x9bm\\xb6\\xd9\\xc6^c(x\\xec\\xb1\\xc7\\x9aI\\x93&\\xd9k\\x99\\x033g\\x9ey\\xa6y\\xfa\\xe9\\xa7]y\\xed\\x9bZUK,\\xb1\\x84\\x81\\x15\\x88\\x85\\tX\\x94\\x18f^v\\xd9e\\xce\\xe2C\\x9f_~\\xf9e;\\xbc\\x85\\x12\\x94\\x93y@\\xa7\\x8f\\'-\\x17\\x01\\x12Y\\xcb}\\xb6\\x05w\\x86\\x17\\xdf\\x1f\\xbe\\r\\x1b6\\xcc\\x88\\xa5SP&\\xed\\x02\\xab\\x8e*g\\x9f}\\xb6\\x9e\\x16\\x1c1\\xff\\xb5\\xe1\\x86\\x1b\\xda4\\x0ca!:\\x84\\xc59\\x86\\x90\\x18\\x06\\xee\\xbf\\xff\\xfe\\xb8t\\x82\\x95\\xd2\\xfb\\xee\\xbb\\xcf\\x9c\\x7f\\xfe\\xf9\\x06CM\\x95\\x15W\\\\\\xd1\\xbav\\x88\\ra\\x930\\xd4\\xc5=\\xc8B\\x85i\\xd3\\xa6\\x8d\\x16\\xb3\\xc7\\x03\\x0e8\\xc0\\xbc\\xf8\\xe2\\x8bf\\x83\\r6ps\\x7f\\xa8O\\x99?\\x10h=\\x7f\\xdc&\\xef\\x12\\xf3Gj\\x1dm\\xba\\xe9\\xa6v\\xd2\\xbdRT0\\xcf\\x85\\xf91\\xc8V[me\\xb6\\xd8b\\x8b\\xc4\\xaa}\\xfb\\xf652\\xe4\\xb3\\x96\\x16\\xac#XQ*\\xdf}\\xf7\\x9d\\x91UI\\x03\\xeb\\xae\\xb1\\xb1\\xd1.\\x02@\\x1f\\xe6\\xe5\\x94t\\xd4\\xfaB\\x1dXdXL\\x80e\\x05\\x82C}\\x88\\x0c\\x89\\xcd\\x0b/\\xbc`.\\xbd\\xf4R\\xbb8\\x00\\x12\\xc3\\xbc\\x9b\\x8a\\xeaP\\x8bN\\xd3yl\\xb9\\x08\\x90\\xc8Z\\xee\\xb3-\\xb8\\xb3\\xd7_\\x7f\\xdd]\\xff\\xfe\\xf7\\xbfw\\xe7\\x95\\x9c<\\xf2\\xc8#\\xaeX\\xcf\\x9e=\\xddy\\xa9\\x13\\x0c\\x1fAd\\x90\\'\\x9f|\\xd2\\xc8\\x9c\\x97+\\xf6\\xed\\xb7\\xdf\\xdas\\x0c#\\x8f>\\xfah\\xfb\\xe72\\xff\\xff\\xc4w\\xcaUr\\x83\\x0e\\x10\\x99\\xd6G\\xd1\\xb5\\xd7^\\xdb\\xdcp\\xc3\\r\\xf1\\xea\\xf6Zuh\\xfd\\x92\\x85\\x98\\xd8\\xa2\\x10\\xe0\\xd0\\xb2E=\\xce\\xe4\\x9b\\xf1\\x89\\x0cn\\n\\xd5\\xc8[o\\xbd\\xe5\\x8a\\xef\\xbc\\xf3\\xce\\xee\\xbc\\xd4I\\x87\\x0e\\x1d\\x0c\\x86\\x80\\x90\\t\\x13&\\x14\\x10\\xd97\\xdf|c\\xd3\\xd3\\xfe\\xf9.!\\x18rB\\x94\\x0c+\\xa9\\x8f\\xf2\\xaaC\\xeb#\\x8d\\xd2\\xb2\\x11 \\x91\\xb5\\xec\\xe7\\xeb\\xee\\xce\\xf7\\xd4W\\xa2q\\x99eN\\xde~\\xfbmW\\xa2k\\xd7\\xae\\xee<\\xe9\\x04\\xd6\\x12\\xe4\\xe3\\x8f?v$\\x84\\xebJ\\x88H\\xdd2P^E\\x89\\x0c\\xbekXH(\\'\\xa5t\\x94\\xab\\xc3\\xfc|#@\"\\xcb\\xf7\\xf3\\xab\\xb8\\xf7>y\\xf9\\x16V%\\nt\\xb5\\x12\\xdb\\x91*Y\\x05\\x84#*\\x04e\\x95\\x84p\\xed\\x0f\\rq]J\\xd4\\x9aB\\x9e\\x92V5:PG\\x17\\x0c\\xb4~\\xa9v\\x98\\xd6\\xb2\\x10 \\x91\\xb5\\xac\\xe7\\x99x7\\xd8O\\xa9\\xa2.\\x0fz]\\xee\\xb8\\xce:\\xeb\\xd8\"\\x95\\x90\\x18&\\xe4\\xe1Z\\x01Yk\\xad\\xb5\\n\\x88\\xacZ\\x8bLw\\r\\xf8DVN\\x87o\\x8di}\\xdb\\x19\\xfek\\xd1\\x08\\x90\\xc8Z\\xf4\\xe3\\xfd\\xf5\\xe6\\xd6_\\x7f}wq\\xf3\\xcd7\\xbb\\xf3JN6\\xdbl3[\\xec\\xfd\\xf7\\xdfw\\xd6NR=\\xd9\\x1f\\xe9\\\\.\\xf6\\xdak/\\x03\\x9f4\\x95j-2\\xf8\\xa6A\\xaa\\xd1\\xe1[tZ_\\xdb\\xe7\\xb1\\xe5\"@\"k\\xb9\\xcf\\xb6\\xe0\\xce:v\\xech]\\x1e\\x908v\\xecX\\xeb\\xb7UP \\xe5b\\xfb\\xed\\xb7\\xb7\\xb9\\xf0\\t\\x93\\xcd\\xff\\x89%e\\xe7\\x80\\xb9\\xf8\\xe2\\x8bm>,\\xc0\\xee\\xdd\\xbb\\xbb\\x89w$\\xea\\xfe\\xccD\\x05\\x92\\xe1[T\\xe2\\xb1o\\x8b\\xfa\\xe4TNG\\xa9\\xfai\\xed1\\xafe @\"k\\x19\\xcf\\xb1\\xa2\\xbb@x\\x1e\\x15\\xb8``U\\xb1\\x94\\x80\\xb0\\xe0\\xda\\x00\\xafy8\\xa3\\xc2G\\x0b\\xbe[\\x90\\x93N:\\xc9N\\xe2\\xdb\\x0b\\xef\\x1fB\\xee t\\x8e\\x86\\xea\\x81\\xe3*\\x86v>\\t\\xc1\\x87\\xac\\x9c\\xf8\\xe5K\\x11Y9\\x1d\\xa5\\xea\\x97k\\x93\\xf9\\xf9G\\x80D\\x96\\xffgX\\xf1\\x1dH8\\x1d\\xeb\\x7f\\x85\\n\\x1f}\\xf4\\x91\\xd9n\\xbb\\xed\\xecFq\\x7f\\xc8\\x87\\x08\\x16\\x18\\x12\\xc2\\xcf\\xcb\\'-D\\xcc\\x00\\xb1 \\xb6\\x18\\x86\\x9a\\xb0\\xeaT\\xb0Q\\x1c$v\\xef\\xbd\\xf7\\xda$8\\xb9\\xaa\\xf7\\xbe?\\xa7\\x85\\r\\xea\\xe5\\xa4\\x14\\x11U\\xa3\\xa3T\\xfdrm2?\\xff\\x08\\x90\\xc8\\xf2\\xff\\x0c+\\xbe\\x03\\x10\\x11B\\xea\\xa8\\xa3(\\x86\\x82G\\x1cq\\x84\\r\\xa8\\x08o}x\\xdb\\xc3\\x0f\\x0c[\\x80 (\\'1\\xc4\\xec9\\xe6\\xd8\\xb0\\xb7\\x11V\\x16H\\x10\\x16\\xda\\xaa\\xab\\xaej\\xb0K\\x00\\xc3V\\x1dr\\xc2bB`C\\x15m\\x0b\\xd7\\xab\\xac\\xb2\\x8a&\\'\\x1e\\xdb\\xb6m\\xeb\\xf2\\xd4\\xfaR\\x1d\\xe8?VN\\xd3\\xa4T\\xfd\\xb4\\xf2\\xcck\\x19\\x08\\x90\\xc8Z\\xc6s\\xac\\xf8.0w\\xf5\\xc0\\x03\\x0f\\x14\\xac&bX\\x88}\\x8a\\xd8\\x07\\xe9[?\\x18~\\xfa+\\x7f\\x08\\xff\\x83=\\x91K-\\xb5\\x94m\\x0f~b\\xfe\\xf0\\x14\\x93\\xeb\\xd8\\x88\\x0e\\x8bLE}\\xcap\\xbd\\xd1F\\x1bir\\xe2QWH\\xb1\\xb5i\\xf1\\xc5\\x17\\xb7\\xe5TG\\x97.]\\xec\\x16\\xa7\\xc4\\xca\\x92\\xa1eQF\\t0\\xad<\\xf3Z\\x08\\x02\\xa1\\x83z\\x84\\x0c\\xdd\\x11\\xba\\xef-Y\\xbf8\\xb9F\\x07\\x1dtP$\\xa4\\xe4B\\xde\\xc8G:\\x12\\xe2\\x8a\\xc4\\xf3?\\xba\\xed\\xb6\\xdb\\x12o_v\\tD\\x07\\x1ex\\xa0\\x8b\\x12+\\xa4\\x13\\xc9p4z\\xf4\\xd1GK\\xd6\\x91@\\x88\\x91\\x90[$\\x13\\xf1%\\xf3\\xfdD\\x89W\\x16It\\x8dH\\x86\\xb5.Y\\xdc9\"Y8\\x88d\\xe3\\xbaKK;\\xf9\\xf3\\x9f\\xffl\\xef!\\x1e\\x8a(\\xad\\x0e\\xf3\\xc2#\\x10\\x92\\x0bZ\\xa1\\xfb!9\\x19C\\x10\\xcc\\xa7`\\xe8\\xb1\\xdf~\\xfb\\x85l\\x8a\\xba\\x9b\\x80\\x00&\\xf6\\xb1\\xa1\\x1c\\xfe_\\xf0\\xd7\\xc2Fk\\xb5\\xb8\\xca\\xa9C]\\x04J\\xc4\\x10S\\x87\\x81\\xe5\\xea0\\x7f\\xfeE $\\x17p\\xd3\\xf8\\xfc\\xfb\\xb9\\xb2w^*\\xf6X\\xa5\\x90\\xa0\\xae\\xbfc\\xa0\\xd2z,G\\x04j\\x8d\\x00\\xe7\\xc8j\\x8d(\\xf5\\x11\\x01\"\\x909\\x02$\\xb2\\xcc!g\\x83D\\x80\\x08\\xd4\\x1a\\x01\\x12Y\\xad\\x11\\xa5>\"@\\x042G\\x80D\\x969\\xe4l\\x90\\x08\\x10\\x81Z#@\"\\xab5\\xa2\\xd4G\\x04\\x88@\\xe6\\x08\\x90\\xc82\\x87\\x9c\\r\\x12\\x01\"Pk\\x04Hd\\xb5F\\x94\\xfa\\x88\\x00\\x11\\xc8\\x1c\\x01\\x12Y\\xe6\\x90\\xb3A\"@\\x04j\\x8d\\x00\\x89\\xac\\xd6\\x88R\\x1f\\x11 \\x02\\x99#@\"\\xcb\\x1cr6H\\x04\\x88@\\xad\\x11 \\x91\\xd5\\x1aQ\\xea#\\x02D s\\x04Hd\\x99C\\xce\\x06\\x89\\x00\\x11\\xa85\\x02$\\xb2Z#J}D\\x80\\x08d\\x8e\\x00\\x89,s\\xc8\\xd9 \\x11 \\x02\\xb5F\\x80DVkD\\xa9\\x8f\\x08\\x10\\x81\\xcc\\x11 \\x91e\\x0e9\\x1b$\\x02D\\xa0\\xd6\\x08\\x90\\xc8j\\x8d(\\xf5\\x11\\x01\"\\x909\\x02$\\xb2\\xcc!g\\x83D\\x80\\x08\\xd4\\x1a\\x01\\x12Y\\xad\\x11\\xa5>\"@\\x042G\\x80D\\x969\\xe4l\\x90\\x08\\x10\\x81Z#@\"\\xab5\\xa2\\xd4G\\x04\\x88@\\xe6\\x08\\x90\\xc82\\x87\\x9c\\r\\x12\\x01\"Pk\\x04Hd\\xb5F\\x94\\xfa\\x88\\x00\\x11\\xc8\\x1c\\x01\\x12Y\\xe6\\x90\\xb3A\"@\\x04j\\x8d\\x00\\x89\\xac\\xd6\\x88R\\x1f\\x11 \\x02\\x99#@\"\\xcb\\x1cr6H\\x04\\x88@\\xad\\x11 \\x91\\xd5\\x1aQ\\xea#\\x02D s\\x04Zg\\xd5\\xe2\\xa0A\\x83\\xcc\\x90!C\\xb2j\\x8e\\xed\\x10\\x01\"Pg\\x08L\\x9d:5X\\x8f\\x82\\x13Y\\xa7N\\x9d\\xcc\\xd8\\xb1c\\xcd\\xb4i\\xd3\\x82\\xdd\\x04\\x15\\x13\\x01\"\\x90\\x1f\\x04\\xc0\\t\\xb5\\x96V\\x91H\\xad\\x95\\xfa\\xfaf\\xcf\\x9em\\xc6\\x8d\\x1bgp\\xa4\\x10\\x01\"0\\x7f#\\xd0\\xae];\\xd3\\xb9s\\xe7\\x9a\\x83\\x10\\x9c\\xc8j\\xdec*$\\x02D\\x80\\x08\\xc4\\x10\\xe0d\\x7f\\x0c\\x10^\\x12\\x01\"\\x90?\\x04Hd\\xf9{f\\xec1\\x11 \\x021\\x04Hd1@xI\\x04\\x88@\\xfe\\x10 \\x91\\xe5\\xef\\x99\\xb1\\xc7D\\x80\\x08\\xc4\\x10 \\x91\\xc5\\x00\\xe1%\\x11 \\x02\\xf9C\\x80D\\x96\\xbfg\\xc6\\x1e\\x13\\x01\"\\x10C\\x80D\\x16\\x03\\x84\\x97D\\x80\\x08\\xe4\\x0f\\x01\\x12Y\\xfe\\x9e\\x19{L\\x04\\x88@\\x0c\\x01\\x12Y\\x0c\\x10^\\x12\\x01\"\\x90?\\x04Hd\\xf9{f\\xec1\\x11 \\x021\\x04Hd1@xI\\x04\\x88@\\xfe\\x10 \\x91\\xe5\\xef\\x99\\xb1\\xc7D\\x80\\x08\\xc4\\x10 \\x91\\xc5\\x00\\xe1%\\x11 \\x02\\xf9C\\x80D\\x96\\xbfg\\xc6\\x1e\\x13\\x01\"\\x10C x`\\xc5\\x11#F\\x98\\xa1C\\x872\\x1eY\\x0cx^\\x12\\x81\\xf9\\x11\\x01\\xc4#\\x1b>|\\xb8i\\xdb\\xb6mmo\\x1f\\x81\\x15CJcc#\\x027\\xf2\\x8f\\x18\\xf03\\xc0\\xcf\\x80\\xfd\\x0c\\x8c\\x1c9\\xb2\\xe6\\x94\\x13\\xdc\"\\x9b3g\\x8ee^\\xc4\\xeb\\xef\\xd1\\xa3GmY\\x98\\xda\\x88\\x00\\x11\\xc8\\r\\x02\\x03\\x07\\x0e4\\x13\\'N4s\\xe7\\xce\\xady\\x9f\\x83\\x13\\x99\\xf6\\xb8K\\x97.\\xa6\\xa1\\xa1A/y$\\x02D`>C\\xa0M\\x9b6\\xc1\\xee\\x98\\x93\\xfd\\xc1\\xa0\\xa5b\"@\\x04\\xb2B\\x80D\\x96\\x15\\xd2l\\x87\\x08\\x10\\x81`\\x08\\x90\\xc8\\x82AK\\xc5D\\x80\\x08d\\x85\\x00\\x89,+\\xa4\\xd9\\x0e\\x11 \\x02\\xc1\\x10 \\x91\\x05\\x83\\x96\\x8a\\x89\\x00\\x11\\xc8\\n\\x01\\x12YVH\\xb3\\x1d\"@\\x04\\x82!@\"\\x0b\\x06-\\x15\\x13\\x01\"\\x90\\x15\\x02$\\xb2\\xac\\x90f;D\\x80\\x08\\x04C\\x80D\\x16\\x0cZ*&\\x02D +\\x04HdY!\\xcdv\\x88\\x00\\x11\\x08\\x86\\x00\\x89,\\x18\\xb4TL\\x04\\x88@V\\x08\\x90\\xc8\\xb2B\\x9a\\xed\\x10\\x01\"\\x10\\x0c\\x01\\x12Y0h\\xa9\\x98\\x08\\x10\\x81\\xac\\x10 \\x91e\\x854\\xdb!\\x02D \\x18\\x02$\\xb2`\\xd0R1\\x11 \\x02Y!\\x90Y<\\xb2\\xacn\\x88\\xedd\\x83\\x80\\x84\\xf84\\xf8[`\\x81\\xa6}\\x17\\xfe\\xf2\\xcb/\\xe6\\xdbo\\xbf5!cT\\xd5\\x1a\\t\\x04\\t\\xfd\\xe1\\x87\\x1fl\\xbfg\\xcd\\x9ae>\\xf9\\xe4\\x13\\xb3\\xc6\\x1ak\\x985\\xd7\\\\\\xb3\\xd6M\\x15\\xe8{\\xeb\\xad\\xb7\\xccb\\x8b-f\\xda\\xb7o_\\x90\\xce\\x8b_\\x11h\\xda\\xa7\\xf0\\xd7\\xfa-\\xfel\\xfa\\xf4\\xe9\\xa6[\\xb7n\\xe6\\xc8#\\x8f\\xb4/n\\xb57|\\xfb\\xed\\xb7\\xdb\\xfa\\xff\\xfa\\xd7\\xbfl\\xd5+\\xae\\xb8\\xc2\\xac\\xb2\\xca*f\\xe9\\xa5\\x97\\xb6/\\xf1\\xb2\\xcb.k\\xe3\\x97/\\xb7\\xdcrf\\x85\\x15V0+\\xae\\xb8\\xa2Yi\\xa5\\x95\\xcc\\xca+\\xafl\\xd6Zk-#a\\x81\\x8b\\x9a\\x04\\x81\\xdc{\\xef\\xbd\\xe6w\\xbf\\xfb\\x9dY{\\xed\\xb5m\\xd9}\\xf7\\xdd\\xd7\\xa6\\x15\\x15.\\x91\\x80\\xbe\\xf4\\xed\\xdb\\xd7\\xd6\\xddn\\xbb\\xed\\xcc\\x80\\x01\\x03\\xcc\\xe8\\xd1\\xa3+\\x8a\\xdc\\xf9\\xc6\\x1boX,\\x96_~y\\xb3\\xcc2\\xcb\\x98^\\xbdz\\x99\\x0f>\\xf8\\xa0D+\\xc5I\\xef\\xbe\\xfb\\xae9\\xe5\\x94S\\xec\\x8b\\xbf\\xe8\\xa2\\x8b\\x1a\\xdc;\\xee\\x19\\xed\\xcf\\x981\\xc3U\\x187n\\x9c\\xe9\\xd9\\xb3\\xa7\\xf9\\xf7\\xbf\\xff\\xed\\xd2\\xe2\\'\\x9f}\\xf6\\x99\\xd9c\\x8f=\\xcc\\xa8Q\\xa3\\\\\\xd6\\xe7\\x9f\\x7fn6\\xddtS\\x8b-\\xfa\\x06\\x92D\\x1b\\xc0\\x16\\xfdU|\\x81-\\x9e\\x01\\xfa\\xfe\\xcd7\\xdf\\xb8\\xfac\\xc6\\x8c1\\'\\x9f|\\xb2\\x01\\x96\\xdd\\xbbw7\\xeb\\xaf\\xbf\\xbe{V\\x0b-\\xb4\\x90i\\xdd\\xba\\xb5Yj\\xa9\\xa5lZ\\xd7\\xae]\\xcdN;\\xedd\\x9f\\xd1\\xd1G\\x1f\\xedt\\xe0\\xa49\\xf8\\x16(\\x92\\x0b\\xe0\\xbd\\xe1\\x86\\x1b\\xda\\xbe\\x80<)\\t\\x08\\xd4<xvL\\xa1\\x84\\xb7\\xb6q\\xba\\xef\\xbe\\xfb\\xeeXN>.\\xef\\xb8\\xe3\\x0e\\x17k\\xfe\\x9e{\\xee\\xa9\\xaa\\xd3\\xf2\\xc1\\x8b\\xe4\\x85\\xb2\\xf5w\\xd9e\\x17[W^\\x0e\\xa7O\\x1eI\\xd9sy\\xe9\\n\\xda\\xbc\\xff\\xfe\\xfb\\xa3\\r6\\xd8 \\xb1\\x1e\\xda\\xf9\\xf8\\xe3\\x8f\\x0b\\xea\\xf8\\x17\\x17_|qb]\\xf4m\\xc2\\x84\\t~\\xf1\\x82\\xf3+\\xaf\\xbc2Zd\\x91E\\x8a\\xea\\x0bYD\\xaf\\xbe\\xfajA\\xd9\\xf8\\xc5C\\x0f=\\x14\\ty\\x17\\xd5U\\x0c\\xe4G)\\xa2\\x993g\\xdaj\\xb8\\x07\\xa4\\xef\\xb7\\xdf~q5\\xf6z\\xf6\\xec\\xd9\\x91~\\xae\\xf6\\xdak/WF~\\xe8&Q\\xbf\\xb6\\x13?^w\\xddu\\xb6\\xbe\\xfc F\\xd5uU\\x97\\x10\\xb1\\xebCs\\xf0uJ\\xbc\\x93\\xdf\\xfc\\xe67\\xae_\\xf2E\\xe0\\xe5\\xe4\\xefT\\x9fY\\x08.\\x80\\x95\\x11TBv>h\\xc7\\xff_\\xf9\\xb0a\\xc3\\xdc\\x07\\xe9\\xb7\\xbf\\xfdmUM\\x8a\\xf5\\xe5\\xea\\xee\\xbe\\xfb\\xee\\xb6\\xaeX@.M_\\x84\\xa4\\xa3\\x0c\\xdb\\xa2\\x0b/\\xbc\\xd0\\xb5\\xf9\\xd2K/E\\xadZ\\xb5*\\xaa\\x0fr\\xf1\\xd37\\xdah\\xa3\\xe8\\xeb\\xaf\\xbfv\\xf5\\xf4\\xe4\\x9f\\xff\\xfcgA]\\x90,\\x88\\xd2o_,\\x8f\\xe8\\xc9\\'\\x9f\\xd4*\\xee\\x18\\x7f\\xd1\\xd17\\xbf\\x9e\\x0c\\xb1\\xa2/\\xbf\\xfc\\xd2\\x95\\xf7O\\xae\\xba\\xea\\xaah\\xc1\\x05\\x17,(\\xef\\xd7\\xd5\\xf3\\x9bn\\xba\\xc9V[o\\xbd\\xf5l\\xd9-\\xb7\\xdc\\xd2W\\xe3\\xce\\x8f;\\xee8\\xa7\\x0b\\xe4\\xa5\\xf2\\xf8\\xe3\\x8f\\xbbt\\xd5\\x99v\\x14k6\\xfa\\xf0\\xc3\\x0fm\\xf5\\xb3\\xce:\\xabd]\\x1fW\\x9c\\x8b%g\\xffp\\xbf\\xe8\\xdf\\xb9\\xe7\\x9e\\x1b\\x89%hu4\\x07_\\xbd\\x07\\xff\\x88/\\x15m_\\xac2?+\\x97\\xe7!\\xb9\\x80DV\\xe6#\\xf1\\xe8\\xa3\\x8f\\xba\\x0f\\xb8\\x0cU\"\\x99\\')S\\xe3\\xd7\\xecM6\\xd9\\xc4\\xd5=\\xfb\\xec\\xb3m\\x06,\\x08}\\xb9\\xce?\\xff\\xfcH~\\x8c!\\x1a?~|\\xf4\\xc4\\x13OD\\xff\\xf8\\xc7?\\xa2\\x9bo\\xbe9\\xfa\\xf3\\x9f\\xff\\x1c\\xc9\\x904\\x9a:u\\xea\\xaf\\xca\\xe4\\xec\\xa2\\x8b.ru\\x17^x\\xe1\\x08:\\xf1\"\\xca\\x8f9X\\xe2\\xc27\\x9d\\x12F\\xbf~\\xfd\\n\\xea\\xe2b\\xeb\\xad\\xb7v\\xf5\\x0f=\\xf4\\xd0\\xe8\\xc7\\x1f\\x7f\\xb4uex\\x16\\xc9\\xf0\\xcb\\xe5\\xc9\\xd0\\xaa\\xa0.\\x08T\\xe6h\\\\\\xfe\\xe9\\xa7\\x9fn\\xdb\\x93!et\\xc8!\\x87\\xb8\\xf4\\x13N8\\xa1\\xa0\\x1e.n\\xb9\\xe5\\x16\\x97\\x8f\\xfb\\x86\\xf5&?D\\x13\\xc1\\xbaE^\\xff\\xfe\\xfd#Xc\\xc8\\x03\\x11A\\xf0\\xd2\\xe2z\\xf5\\xd5W\\xb7\\xd7\\xfe?\\x9fp\\xfa\\xf4\\xe9\\xe3gY\\x1c\\x15[\\x99\\xb7\\x8a\\x9e}\\xf6Yk)\\xe2\\xf8\\xc0\\x03\\x0fD\\xb0\\xae\\xaf\\xb9\\xe6\\x1a\\xfb\\x07\\xb2\\xfe\\xe9\\xa7\\x9f\\n\\xea\\xcb4B\\xf4\\xf2\\xcb/GS\\xa6L\\x89d\\xa8\\x1b\\xfd\\xfc\\xf3\\xcf\\xf6\\x8bDu\\xfe\\xe5/\\x7f)(\\x1f\\xbfh*\\xbeq=z\\xed\\x7fV\\xaa\\x1d\\r\\xa8\\x8ez:\\x92\\xc8\\xe6\\xe1\\xd3\\xc00M?\\xc88\\x82t*\\x11\\x10\\x8c_\\xef\\x99g\\x9e\\xb1\\xd5@ H\\xc77\\xedW_}U\\x89*W\\xe6\\x8f\\x7f\\xfc\\xa3\\xd3\\t2(%\\xeb\\xac\\xb3\\x8e-\\x03\\xd2\\xc5\\x10Le\\xf2\\xe4\\xc9\\xae\\xeej\\xab\\xadf_R\\xcd\\xc3\\x11\\xa4)\\xf3K\\xb6_\\xd7_\\x7f\\xbd\\xcb\\xfa\\xfe\\xfb\\xef#\\x99dvuA\\xa6\\xbe\\xe0e\\xdf|\\xf3\\xcdm>\\xac9\\x99\\x00w\\xd921\\x1e\\xa1-\\xc5A~|\\xa6 _\\x0b\\xca\\xc4\\xbf%\\x0f\\xbdV}2W\\xa8I\\xf68x\\xf0`\\xa7k\\xc7\\x1dw,\"\\xa2w\\xdey\\xc7\\xe5\\x0f\\x1a4\\xa8\\xa0nS/\\xf0\\xc5\\xa2\\xfd\\x7f\\xec\\xb1\\xc7\\x12\\xd54\\x15\\xdf$\\x85/\\xbc\\xf0\\x82kw\\xe7\\x9dwN*\\x96\\xab\\xf4\\x90D\\xc6\\xc9~\\xf9\\x94\\xa6\\x89N\\x0ck\\x99\\xe7\\x9f\\x7f^OS\\x8f\\x8f<\\xf2\\x88\\xcb\\xc7\\x8f\\x91n\\xb5\\xd5V\\xf6\\x1a\\x93\\xcf\\x10L@c\\xc2\\xbf\\x1a\\x11\\x0b\\xca\\x15?\\xe6\\x98c\\xdc\\xb9\\x9e\\xbc\\xff\\xfe\\xfb\\x06+\\\\\\x10\\x19\\xe6\\x19!a\\xcd\\xb2\\x93\\xc6z!\\xd6\\x9a\\xc1\\xe4\\xb5/\\x1d:t0by\\x99i\\xd3\\xa6\\x99\\xa3\\x8e:\\xcae\\xe1\\xc7T\\x91\\x06\\xc1\\xe4\\xfa\\xa9\\xa7\\x9e\\xea\\xf2p\\x02=\\x17\\\\p\\x81M\\x13\\xe24b\\xf5\\xb8\\xfck\\xaf\\xbd\\xd6\\x08\\xa1\\xdbk!4\\xbbp\\x81\\x85\\x8c\\xb8\\x88\\x15i:w\\xee\\xec\\x92\\xb5o\\xfaS\\x82\\xf2\\xb6\\x1a!&\\xfbC\\xcf(\\xb4\\xd9f\\x9b\\xd9\\x85\\r\\xb1J]\\x1d\\x9c(\\xb68\\xef\\xd4\\xa9\\x13\\x0e\\xcd\\x16L\\xee\\xab,\\xbe\\xf8\\xe2zZt\\xc4\\xa4\\xbcJ5\\xf8j\\x9d\\xf8Q\\xacm\\x9b\\x04l\\xc4B\\x8fg\\xf3:\\x86\\x00\\x89,\\x06H\\xa9K\\xac`\\xa9\\xbc\\xf8\\xe2\\x8bz\\x9az|\\xea\\xa9\\xa7\\\\\\xfe\\xae\\xbb\\xeej\\xf0\\x81\\x84(y\\xf9/\\x88+X\\xe6Du\\xe0\\x85\\x8a\\x13\\xc2\\xa7\\x9f~jdb\\xd8\\xad<b\\xf5\\x0e\\xe4\\xa1\\xe2\\x93\\x9a\\x0c\\xd94\\xb9\\xe8\\xb8\\xea\\xaa\\xab\\x16\\xa4\\xc9P\\xcc]\\xeb\\xcb\\xe5\\x12\\xfe\\xff\\x04\\xabwXY\\x83\\xdcz\\xeb\\xad\\xf6\\x08\\x12R\\x82C\\x82\\xcc5Z\\xf2\\xb6\\x99e\\xfe)A\\xc9<\\x9fuu\\xd8\\x7f\\xff\\xfd\\rV{!\\xdbl\\xb3\\x8d\\x91!\\xa8]=\\x8c\\xabQl\\x91\\xde\\x14|\\xe3\\xfap-\\xf3\\x8f.Y\\t\\xd6%x\\'M\\xc5\\xd7S\\xe1Ne(l\\xf4\\x8bP\\x86\\xeeF\\xe6\\x0c]\\x1eOJ#@\"+\\x8dKA*\\\\\\x14T`\\xb5T\">\\x91\\xc1\\x92QQ\\xab\\xea\\xa3\\x8f>22\\xb4\\xb4\\xc9xaaM\\xc1\\xa2I\\x13}\\x91\\xe0\\xba\\x00\\x81/\\x96\\x0cw\\x8c\\xccM\\xd9\\xe5y\\x19\\xf6\\xda\\xf4\\x1dv\\xd8\\xc1<\\xf8\\xe0\\x83\\xf6\\\\\\xff\\xf9\\x16\\x8f\\xba\\x82h^\\xd2\\x11n\\x10\\xaa\\x13\\x16\\xe5\\x16[l\\x91T\\xd4\\xbas s\\xd2\\xa4IF\\xe6\\x99\\x0c\\\\-\\xd4]\\x00\\xa4\\n\\xb2\\xabT\\x94\\xc8d\\xd8j:v\\xec\\xe8\\\\Pd\\x88e\\xef\\x17\\xae\\x15\\xa5D\\xb1E\\xde\\xeb\\xaf\\xbfn\\x8b\\x00S\\xf8{\\xf9\\xee\\x1d\\xa5\\xea&\\xa5i_\\x90\\x9f\\xe63\\xd7\\x14|\\x93\\xda\\x94y@\\x9b\\x85\\xe7}\\xce9\\xe7$\\x15c\\xba\\x87\\x00\\x89\\xcc\\x03#\\xe9\\xd4\\xb7\\xc8d.\\xc4\\xc8$qRQ\\x9b\\x8e\\xa1\\x98\\xcc9\\xd9s|\\xf8\\xe1\\x13\\xa5\\x02\\'P\\x08t`\\xc8\\x89\\x17\\x05/&\\x1c+\\xe1\\xf7\\x04\\xcb*I\\x94\\xc8@|\\x90?\\xfc\\xe1\\x0fF\\\\\\x15\\xcc\\xff\\xfe\\xef\\xff:\\xd2\\x80\\xa5\\x86os\\xf8\\xa3\\xf9\\x82{\\x00)@du\\xcd466\\x1aYq\\xb3~X \\x1d\\x0c\\xdf\\xe2\\xa2V\\x01\\xd2\\xfd{\\x88\\x97\\xc3u\\xef\\xde\\xbd]\\xb2L\\xa4;\"A\\xe2\\xef\\x7f\\xff{\\x97W\\xc9\\x89O\\x1e\\xe2\\x92a\\xab\\xe0\\xcb\\x04\\xfdN\\x1b\\xde)\\xb6\\xa8 n\\x10\\xd6\\x9a\\x82.\\xf8\\x8c\\x01\\x97\\x13O<\\xb1\\x92\\xe6\\x0b\\xca\\xf8\\xb8\\xf8\\xfd*($\\x17M\\xc17\\xae\\x03\\xd7\\xf0\\xe7\\xc3\\x1f\\xe4\\x88#\\x8ep\\xcf\\xcc&\\xf0_\"\\x02$\\xb2Dh~\\xcd\\x10\\xbf-K6H\\x81\\x15\\xa4\\xdf\\xf6\\xbf\\x96(<\\xf3\\xe7\\xd1d\\x89\\xbe`H\\xe5;`\\xe2\\xa7\\xe3}+L&\\xd6\\xdd|T\\xa1\\xc6\\xff^\\xe9\\xd0\\x12}\\xf8\\xee\\xbb\\xef\\xcc\\x17_|QT\\x0cD\\x08\\x07^qe0\\xb0hT\\xf0\\x12\\xdex\\xe3\\x8d\\x8e\\x08\\xf0\\xb2\\xc8\\x82\\x81u\\n\\x85g:\\x86\\x9bx\\xd1\\xd5\\x02C=\\x9do\\xc39\\xac\\xa14\\xc1\\x1c\\x1b\\xc8\\x18\"n\\x03\\x05\\x18\\x01\\x83jD\\t\\xdb\\xaf\\x03g\\xd4r\\xe2c\\x8b\\xb2\\xfe\\xfd\\xe3ZV#q\\xa8J|\\x1dK.\\xb9db\\xdd\\xa6\\xe0[J\\x99Zc\\xb0\\xba\\xf5\\xbcT9\\xa6\\x15\"@\"+\\xc4\\xa3\\xe4\\x15\\xac\\xaa\\x86\\x86\\x06\\x97\\x87\\xe1S\\x9a\\xf8d\\x10\\x1fR\\xf9V\\x83\\xf8{\\x19q!0\\xe2\\xf8i\\x8f \\x1f\\x0c\\xc3\\x92\\xc4\\xb7\\x04a\\x95a2\\xfd\\x86\\x1bn0\\xe2\\xc6ad5\\xd1`>\\x05}\\x85\\xd5\\x08\\xaf\\xff\\x8d7\\xde\\xb8\\xc0\\xc2\\x93\\x95>#\\xab\\xa7\\xb6\\x1c\\xac\\x14\\x9f\\x1c`E^~\\xf9\\xe5v\"\\xfdO\\x7f\\xfa\\x93\\xed\\xc2\\xdbo\\xbf\\xed\\xba\\x02O\\xf6r\\x82]\\x06\\x10\\xcc\\x17\\xf9C9%\\xb8r\\xf55_\\x87\\xcez\\x8d\\xe3\\x981c\\xec3H\\xdbE\\xe0c\\x0b+w\\xcf=\\xf7t\\xf8\\xca\\x8a\\xaf\\x9bg\\xf3\\xf5\\x96;\\xf7\\x89,\\xcd\"\\x83\\x9ej\\xf1\\x8d\\xb7-N\\xc3\\x06\\xf3c\\x10,\\xe6\\x88[J\\xbc\\x08\\xaf\\x93\\x10\\x08\\xbd~\\x1br\\xc95t\\xdf}\\xfd\\xf0?\\x12\\x0c\\xed\\x9fl\\xb3qYb\\x19E\\xf0/\\x92\\x97\\xc8\\xa5\\xed\\xb6\\xdbn\\xae\\xacX>.\\x1d\\'p\\x1b\\x80\\x9e\\xed\\xb7\\xdf\\xde\\xfap\\x15d\\x96\\xb98\\xf6\\xd8c\\x9d\\xde7\\xdf|\\xb3di,\\xdb\\xc3\\xd1S\\xfbz\\xe0\\x81\\x07\\x96,\\x87D\\xf8\\xc4\\xbd\\xf7\\xde{\\x91\\xcc\\x99Y/z!6[\\x0fG\\xb8\\x8f\\xa8\\xeb\\x84l\\xefI\\xd4\\xe1g\\xe8\\xae\\x85}\\xf6\\xd9\\'\\x92\\xe1\\xae\\xeb\\x03|\\xb3\\xaa\\x11y\\x89]\\xddK.\\xb9$\\x92UTw-\\xc3\\xf1H]Y\\xe2:\\x9f~\\xfaiW\\x0e~y\\xb5\\x10\\xf8\\xf3)\\x96p\\xb1\\xa8F\\xca\\xe1\\xeb\\xeb\\x82/\\xa0\\xfa\\x1d\\xc2g\\xcfwc\\xf1\\xcb\\xe5\\xf9<$\\x17\\xd0\"\\x93Oi%\\xe2\\x0f\\xad^y\\xe5\\x15W\\x05+\\x85\\xf8\\xf6\\xc4\\xca\\x9a\\x8aZ2\\xd8\\xe8+N\\x92\\x9al\\x8fj5`\\xf8\\'\\xbed\\x05y\\xe5.\\xfc\\xc9l\\x7f5\\xcd\\xaf\\x87\\tyXi*\\xe2$\\xeb\\\\ 4M\\x8f\\xb0\\xde`-\\xc1rA9\\x9dC\\xc2\\xd0\\xf5\\xb5\\xd7^3\\xe2\\x93f\\x8b\\xfa\\xab\\x81Z7~\\xc4PW\\xc8\\xd5&c\\x8f\\xa8\\xbf\\x91\\xba\\x9c\\x05\\x1b\\xd7\\xe5O\\xe6c\\x91A\\xfc\\xda\\xec0\\x18\\xe5\\xb0\\x9f\\x12\\xf3\\x82\\xe2\\xa8\\x1c\\xaffW85\\x11\\xd3\\x01\\xb5\\x10\\xdf\"\\xd3\\xb9\\xc9J\\xf5\\x96\\xc3\\xd7\\xd7\\x83\\xbd\\xb3\\x18\\x92C\\xb0w3\\xbe*\\xed\\x97\\xe5y1\\x02$\\xb2bLJ\\xa6`U\\n/=D\\x89\\x0c>S\\x0f?\\xfc\\xb0M\\xc3*!^8\\xbc\\xd0b\\xe5\\xd8\\xb4m\\xb7\\xdd\\xb6`\\xf9\\x1e\\x89Jd\\xb6@\\x95\\xff|\"\\xc3BA\\x92\\xa0]\\x9dO\\xc3<\\x9c\\xbf\\x82\\x9aT\\x07\\xe9p\\x13Q\\xc1\\x8a*\\xfc\\xb5 XQ\\xf5\\xdb\\xd62\\xfe\\x11\\xf3o\\xea\\xf7%\\x1e\\xe9v\\x15U\\xf3\\xc5\\xa9TO+:\\xfaD\\x86h\\x13\\x10\\xac\\xde\\xe9\\x90\\x17s\\x89\\xd8\\xd8\\x1d\\xbf\\xaf\\xe6`\\x9b\\xd41\\x9f\\xc8\\xe2spIu\\x92\\xd2\\xe3\\xf8j9<#\\x9d\\x0f\\xc3\\x17\\x146\\xaeS\\xaaC\\x80DV\\x05^\\xb0\\x04 p\\x9d\\xc0\\xc4\\xf1\\x19g\\x9cQP\\x1b\\x91\\x1d\\xf0B\\xc3\\xa2\\x81`\\xce$. :\\x88?\\xdf\\x15/\\x93t\\xed\\xbfT\\xa5\\xe6\\x91\\xb4\\x1e\\xe6\\xa8\\x94T\\x90\\x062\\x00\\xc9\\xc2\\'\\x0c$\\x90$\\xbe\\x8f\\x1c\\xac1\\x19\\xfe\\xda\\xa2\\xd0\\x05\\x8b-I\\xa0\\x1f\\xab\\x84\\x10Xb\\xba\\x82\\x87\\x95Q\\xc8\\xd8\\xb1c\\xcd}\\xf7\\xddg\\xcf+\\xf9\\xe7\\x13\\x19,0\\x15\\xf1\\xec7\\xa7\\x9dv\\x9a\\xbdD\\x9b L\\x7f>R\\xb1E\\x81\\xa6\\xe0\\xab\\xed\\xf8G\\x1f\\xf34\\x8b\\xac)\\xf8j;\\x7f\\xff\\xfb\\xdf\\xdd\\xe2\\x08\\xa2\\xac\\xc4}\\xf9\\xb4\\x1c\\x8f)\\x08\\x84\\x1es\\x87\\x1c\\x17\\x87\\xee{\\\\?\\xf6$\\n\\x94\\xf6O\\xe7\\x8fp-/\\xaeK\\xd7|\\x1c\\xb1\\xc7/.\\xd8?\\x88<\\t!\\x13\\xcf*{}\\xc0\\x01\\x07\\xb8v\\xc4\\xbd#\\xb1<6\\x9ak?0\\xdf%$\\xe2\\xae\\xc5\\xc7\\xachk\\x0f\\x14aNF7\\x90\\xcb\\xa4\\xb6\\xdb\\xc2$\\x8b\\x1c\\xb6\\xae\\x84\\xc0\\x89\\x84\\xc0\\x8b\\xda\\x94UW{/\\xda\\xde]w\\xdd\\xe5\\xca`\\xef\\xa8\\xa6\\xcb\\xcb\\x99\\xb8\\xbdK\\x88?\\x12\"\\x88.\\xbd\\xf4R;o\\xe8\\xcfK\\xc9\\x82\\x86\\xd3\\xa7\\'\\xb2\\x90\\xe1\\xf4\\xe29h\\xd4\\x0c\\x7f\\x83\\xff\\x7f\\xfe\\xf3\\x1f-\\xde\\xac\\xe3e\\x97]\\xe6\\xda\\xba\\xed\\xb6\\xdbJ\\xea\\xc2^T\\xbd\\xcfj\\xf1\\x05~\\xd8\\x17\\x8a\\xfa\\xc0\\x1ds\\x93-UBrA\\xf95mA\\x98\\xf2_\\x04`a\\xc1\\xf4\\xc7\\xb7\\xbdn\\xbd\\xc1*#,\\x0e\\x0c\\x1b\\xe0\\x9c\\xaa\\x82\\xf9\\x11\\xf5v\\xd74\\x1c\\xd5\\x92B\\xac-\\xf8Ea\\x88\\x087\\n\\xfc\\xc1\\xfa\\xc0\\x11\\xdf\\xfch\\x07.\\x11\\xf0\\x9f\\xd2\\xf9\\x1e\\x7f\\x0b\\xce\\xd0\\xa1C\\xad\\x85\\x15wU\\x900?\\x05N\\x94\\xb2\\xc1\\xdb\\xce\\x81A\\x17V\\xfc\\xe0v\\x81-4\\x88\\x93\\x86>Bd\\xe3\\xba\\xf5Y\\x82\\xe3(\\x04\\x96\\x8e\\xea\\xbd\\xfa\\xea\\xab\\rVW\\x11\\xff\\x0bCMX\\x0f\\xf2\\x81\\xb4\\xe5\\x84L\\xed\\x96%\\xcc\\xef@0\\x9f\\xe5\\xcf\\x15\\xee\\xbd\\xf7\\xde6\\xe6\\x19\\xacWX\\xb1\\xb8\\x17X\\x85X\\xa5UW\\x06\\xdc\\xef\\xc1\\x07\\x1fl\\xb0b\\x07\\xc1*\\xaeo\\x91!?.\\x12z\\xc7\\xf6\\x07\\xb1\\xc8\\xf0\\x1cd\\xff\\xaa\\x91M\\xe1\\x0e[\\x94\\x87e,\\x0b\\x1dvH\\xac\\xb8\\xea\\x11\\x163p_w\\xddu\\x8d,\\xcc\\x98%\\x96X\"\\xde\\x84\\xbb\\xf6\\xe71\\x93\\x86\\x96X\\x1dn*\\xbe\\xd8\\xf1 {Dm{\\x87\\x1f~8\\x83\\':\\xe4\\xab<\\t\\xcd\\xfe!Y8t\\xdfK\\xe9\\xd7XY\\x02\\xb3\\xfd\\x16E\\xc4\\t\\x88\\x10\\x93\\xfbVF\\x1eB\\xe9\\x94\\x12\\x84~\\xd1\\xba\\x95\\x1e\\xb1j\\x07\\xf1\\xa3_\\xa0.\\xac\\x1c\\xf9\\xf0\\xdb\\x15BXa\\x08\\x15\\xe4\\xeb\\x1c8p\\xa0\\xeb\\x02V\\xf4\\x84<\\\\\\xbe\\xcc\\xf9\\xd9\\xc8\\x13\\x88\\xd8 \\xf3i.\\x1dV\\x19\"?\\xf8\\x828dBz\\xae\\x0cB\\xd9\\xe8\\n\\x9b\\xb6\\x07kB\\xfc\\xe7\\xfcj\\xf6\\\\\\x16>\"q\\xceuuQ\\x1eV\"6\\x86\\xc3z\\x91\\xadD.\\x0f\\xe5\\xb0\\xd2\\'s_.M\\x16 \\x8at\"A\\x86\\x96\\x91\\x10\\xab+\\'[\\xa3\"\\xc4<\\xd3\\xfeTz\\x94\\x85\\x8c(i\\x05\\x18\\xed\\xf8\\xd6!,\\xc6$i\\n\\xbe2\\xef\\xe86\\xe4\\x03?\\xac \\xb7d\\t\\xc9\\x05\\xf0\\xe8\\x0e*!;\\x1f\\xb4\\xe3\\t\\xcaeE\\xd0\\xbd,x\\x91\\xb0l\\xaer\\xd8a\\x87\\xb9<\\xb1\\x984\\xb9\\xe0(s \\xaeL\\xa5/\\x1bH\\x03\\xf2\\xdcs\\xcfUT\\x17!y\\x10\\x03,.p[\\xf0\\x87\\xc4\\xf1\\xf6\\xe1\\xb6\\x816J\\t\\\\4|\\xd2\\xf1\\xeb\\x8a\\xf5\\x16!\\x16W\\x92\\xc8\\xdc[\\x01\\x89\\xfau\\xfdsq\\xd0\\xb5*\\xc4\\xe1\\xd8\\xdd\\xa7\\x1f\\xb40\\xae\\x1f\\xd1.\\xb4O\\x18\\xde\\x8b/\\x9c\\xab\\xe7\\xebM;\\x07\\x89\\xa7\\x85\\xc8A\\xc0H\\xad\\x8f\\xb0CiR-\\xbe\\x08\\xea\\xa8\\xba\\x11\\x90\\xb1\\xa5KH. \\x91U\\xf9\\xe9AX\\x1bY\\xbd\\xb4\\xf1\\xb9d/bAmX2\\xf0\\xa5\\x92\\xa1Q\\x84X]\\xa5DV7\\x9d\\x05$C\\x1a\\xab\\x0b\\xd6\\x89l\\x01\\x8a\\xc4\\r\\xc2\\xce7!\\xd4\\x0f^`\\xc4%\\x83u\"\\x13\\xceN\\x15\\x82\\x0f\"\\xc0#\\x82\\x0f\\xca\\xf0\\xd3\\xbd\\x082d\\xb5\\xf1\\xc6\\xce<\\xf3\\xccH\\x86c\\xae|\\xfc\\x04\\xfen\\xb2H\\x11\\xc9v%[\\x17>b \\x01X\\x1b2d\\x8e\\x17/\\xb8\\x06\\xc1\\xc0/M\\xdbE\\xff\\x113\\x0b1\\xdb\\xca\\t,\\xb3\\x83\\x0e:\\xc8\\x11\\x8f\\xbe\\xc0\\xb0\\xf4`\\xa5\\xc6\\xe7\\x9f\\x80\\x85\\xec\\x16\\x88@\\x82i\\x82\\xb6a\\x99j\\xbc7\\xd9Tn\\xef\\x0b\\x04\\x85y\\xbd.]\\xbaDx\\x81\\xa0O\\x86\\xba\\x11\\xe6\\x19\\x11\\x03\\r\\x18`>OVd\\xd3\\xd4\\xdb<Di\\x85\\xc5\\x848e\\xe5\\xa4\\x1a|\\xd1\\x0f\\x84s\\xc2\\x97\\x1b,\\xd1\\x96.!\\x89\\xac\\x15\\xc0\\x93\\x0fU0\\x91\\xc9b;\\x87\\x84U/\\xcc\\x8d\\xb4\\x04A\\x88\\x1c\\xac\\x90\\x95\\xf2\\xbc\\x06\\x9cXQK\\xdb\\x13\\x88|\\xf1\\x1bN\\xed\\x00\\x00\\r\\x8aIDAT\\x08\\xfc\\xcc\\x9a+XQ\\xc4J$\\xe6\\xdet^\\xabR\\x9dpW\\xd0\\xb9\\xaaJ\\xeb\\xa0\\x1c\\xda\\xc4\\xdc\\x14V\\xd7\\xe4\\x05\\xaf\\xa6\\xaa\\xad\\x8b\\xbd\\x9d\\xc0\\x0fm\\xc3_\\xaaV\\x91*\\xd0\\x11\\xb82\\xe8}\\xe9\\x1c`U\\x1dL(\\xac:\\x13\\xb2K&\\x97\\xab\\x83\\xedixv\\xfe\\x9c`IE-$1$\\x17p\\xb2\\xbf\\t\\x1f\\x12l\\xee\\xc6_)\\xc1\\xe4p\\x1a\\x89\\xa1N-\\x08L\\xdb\\x86\\xbfXS\\x89\\xa0)$\\x86v\\xd1\\xa6\\xfa\\xd4i?*=\\xa2\\xae\\x1f)\\xa2\\xd2z\\x95\\x96\\x03yU\\xe2\\xc0[\\xa9>-\\xd7\\x14\\xac\\xca\\xd5\\xc1\\x17\\xcf\\xfcBb\\x8ac\\xa8#\\xfd\\xc8B!K\\xbdD\\x80\\x08d\\x86\\x00\\x89,3\\xa8\\xd9\\x10\\x11 \\x02\\xa1\\x10 \\x91\\x85B\\x96z\\x89\\x00\\x11\\xc8\\x0c\\x01\\x12YfP\\xb3!\"@\\x04B!@\"\\x0b\\x85,\\xf5\\x12\\x01\"\\x90\\x19\\x02$\\xb2\\xcc\\xa0fCD\\x80\\x08\\x84B\\x80D\\x16\\nY\\xeaME@#\\x84\\xa4\\x16b&\\x11\\xa8\\x10\\x01\\x12Y\\x85@\\xd5S1l\\xd6\\x96\\xa8\\xb4vS46j#t\\x8e\\xfeN&|\\x97\\xc4\\xa3\\xdd\\x86\\xcc\\xd6\\x9fr\\xc3O\\xa9!\\xb45\\xfc\\xab\\xe0\\xff\\x86\\xcd\\xe7\\xd84\\x8d:(\\x8b\\x1f*\\x81c*~\\xc3\\x13A\\x11G\\x8e\\x1c\\xe9n\\x17\\xb1\\xc8\\xf0\\x9b\\x92\\xd8\\xf0\\r\\xff/\\xfc^$BZ\\xcb\\x0e\\x06#{;\\x8d\\xec\\xf1t\\xf1\\xd7\\\\\\xa5\\x84\\x138\\xd2b\\xc37\\x82M\\xc2\\x91\\x16\\x9b\\xb6q\\x1fI\\x82\\r\\xf0\\x95\\xfc\\xe2\\x13\\x1cKq\\x8f\\xd8|\\x8eP\\xdeI\\x82\\x8d\\xef\\xf8\\xc1\\x15l\\xf2\\x06\\x16\\xc0\\x00\\xe1\\xc1%\\xaanR\\x15\\xa6\\xe7\\x05\\x81\\xd0\\xdb\"BnK\\x08\\xdd\\xf7z\\xd4\\x8f-K\\xd8.#\\x9f\\xaf\\xb2\\x7f\\xd8\\xfe\"\\xb1\\xc9\\xec\\xb6\\xa9J\\xcak\\x19l\\x1cW\\x11\\xa2,\\xdb\\x0e\\xf6;J\\x90I\\xadR\\xf2\\x88}\\x90\\xfa\\x0b\\xe2\\xda\\x8e\\x1e\\x11\\x96\\'.\\x08\\x8d\\x83\\xfe\\xa3L\\xda\\xaf\\x86\\x0b9E\\x12H\\xd2\\xf5Qv[\\xc4U\\xd9klE\\xd2\\x10J\\xda\\xae\\x7f\\xc4V+\\xd9qP\\xb2.\\x13k\\x83@H.\\xa0E&\\x9f\\xe6<\\tB\\xc9\\xf8\\xc1\\xfe\\xb4\\xef\\xd8.\\x84\\x90B\\x1a&\\x08\\xe9\\xf0\\xbe\\x87\\x95\\xe5\\x87\\xff\\xd1\\xf2IGx\\xc6\\xe3\\x87:T`\\xfdA$b\\x85\\xfdY7D/EhlXf\\xd8\\xc5\\x00A\\x9f`\\r!\\xc4O)\\xc1\\x96,\\x89\\xe3o\\xfc\\xc0\\x8d\\xfe\\xf6!\\x84\\xdc\\x91\\x08\\x1b\\x05U\\x11fH^\\x1f\\x9b\\x86\\x1fE\\x81%\\x15\\x17\\x84\\xd6\\xc6/4\\xe9\\x0fv \\x7f\\xfa\\xf4\\xe96\\x1c\\x92_\\x16\\x81&\\x11\\x82\\xc9\\xff\\xe1\\x12x\\xd4\\xc3\\x1aU\\x81\\xe5\\x870E\\x08\\xf1M\\xc9!\\x02\\xb5\\xe1\\xdad-!Y8\\xb9\\xd5\\x96\\x9b\\x83 \\x84\\xf2bG2$\\x8a\\x10-B~u;\\x92\\xf8e\\xee\\x86\\x11\\x96G>\\x86\\xf6OBL\\xdbtX\\x1b\\x9a&\\xbf\\xb8\\x14I\\xfc1\\x1b\\xe4\\x10?\\xd0\\x81\\xe0\\x87(\\x87\\r\\xea\\x08Y#\\xc4\\xe5t\\xe1\\x04\\x9b\\xaeQ\\x17?\\x96\\x12\\x17X0\\xb0\\x96\\x10\\n\\x07e\\x840#!\\x92x1\\xbbQ[\\xdbG\\x10A\\x84<\\xc2\\x06uD\\xd4\\x90\\xe1\\x9d\\xad+C\\xe2\\x82\\xba\\xa5\\xac7!<\\xa7[~;3\\x92a\\xb2\\xbb/\\xd5\\x8f\\xa3\\xfc\\x8c\\x9d+\\x87\\x13\\xdfbCd\\x10\\x04\\x9a\\xd4\\x8d\\xf8\\x08\\xbf#\\xbfs\\xe0\\xf4H\\x0c\\xb9\\xb2\\x9b\\xe7\\x0b\\x94\\xf3\\xa2b\\x04Br\\x01\\xa3_T\\xfc\\x18\\xea\\xbf\\xa0\\x1f\\x16\\x06/\\xa4FT@4\\r\\xbc\\xe0\\x18\\xaaI,\\xfe\\xaanD\\xe6\\xc6l]\\t\\x1c\\x99X\\x0f\\xc4\\x84h\\x13h#\\x1e\\x8e\\x06\\xe1\\x84\\x94dd\\xfe\\xcd\\x86\\xda\\xf1\\x15IPF\\x97\\x7f\\xfc\\xf1\\xc7\\xbb,\\x10\\x8e\\xd6\\xd3#\\xda\\x00q\"F\\x19b\\x9ai\\xbaXw6\\x1a\\x89^\\xfb\\xf7\\x88_p\\xd2tD\\xfa\\x10\\x8b\\xcb\\xb5\\xa1\\' 5\\xf9\\xc1\\x0fW.~\\x0fZ\\x8e\\xc7\\xe6!@\"k\\x1e~\\xf3Em\\xc4\\xcd\\xc2\\xcf\\x88\\xe1\\xa5\\xc5\\x8b\\x8d\\x9f\\x85S\\x91_$\\xb7\\xe9\\x95\\xfe\\xac\\x9b\\xd6\\xc3Q\\x835\"\\xf6Z\\x9a \\x90$\\xda\\xc6O\\xc1\\xa9\\x80Hex\\xeb\\x08\"\\x1e\\xf6H\\xcb\\xa9\\xc5\\x04\\xf2\\xd2PB:?\\x86PA\\x12\\xe56B\\x98\"%$\\xff\\x88\\x00\\x91\\xb00%\\xb2\\x8a\\xcdG9_\\xfc\\x9f\\xd0+\\x17OLC\\x00\\xb5o\\xdf>B\\x08jJm\\x11\\x08Id\\x9c#\\x93\\xb7\"\\xef\\x82\\xd5@\\x84{\\xd6\\xf0@B\\\\\\x06?\\x0b\\xa7\\xa2\\xd1 \\x9a\\x12%C\\xe7\\xc1\\xb0\\xe2\\x97$h\\x7f\\xd6\\xacY6[\\xfb\\x80\\x0b\\xfc\\xb2\\x94\\xce\\xb1!\\xa4\\xb4\\x0c\\x17K\\xaa\\xd0\\x9f\\xa1\\x83\\x0e\\xacT\"\\x14\\x8f\\xbcB\\xb6,\\xe6\\xf9.\\xb8\\xe0\\x02\\x1b\\n;\\x1eqDb\\x8b\\xd9y7\\x84\\x02\\xd7\\x1f\\x06\\xc1\\n\\xac\\nt\\xe8\\xbc\\x1d\\xca\\xf4\\xed\\xdbW\\xb3J\\x1e\\xf1KM\\x10\\xfcX\\xb1\\xffk\\xf1%\\x0b3\\xb1\\xae\\x10 \\x91\\xd5\\xd5\\xe3hZg\\xf0\\x8b\\xe32\\x84\\xb2\\x95\\xe1>\\x81x\\xfe\\xbe\\xe8O\\xb9!n>~\\xe6\\r\\x82\\x17\\x1f\\xae\\x15p]H\\x13\\x90\\n$\\x8d\\xc8\\xe0\\xfa\\xa0\\xbfa \\xdf\\xbaN\\x1d\\xfa\\xa5\\xe2/ h\\x9a\\x1e\\xf1\\x1b\\x01p\\x85\\x80\\xfc\\xf5\\xaf\\x7f\\xb5\\xbf%\\xa0\\x8b\\x16\\xfa\\xcbH\\x88e\\x057\\t\\xfc\\x82:\\x08\\t$9|\\xf8p\\x17\\x06G\\x7fm\\xc9\\xff=\\xc8O?\\xfd\\xd4\\xdd\\xaf\\x04\\xa3t\\x8b\\x13\\xdan\\xfc\\x88_\\x8d\\xd2\\x10K\\xfa\\xdb\\xa4\\xf12\\xbc\\xaeO\\x04\\x18\\x8f\\xac>\\x9fK\\xc5\\xbd\\xc2\\x0f\\x86\\xe8o\"b%Pb\\xd7\\x17\\xc5CC\\x80?\\x08~4\\x05\\x84\\x81\\x98`J`\\x88\\x9d\\x86@\\x87>\\x01\\xf8\\x8d\\xabe\\x84\\x00\\x80\\xf8\\xd3Xk\\xb0\\xbcd\\xa1\\xc1\\xe0\\xc7I\\xf4\\xc7ra1I\\x14X[\\x1dV\\x1a\\xf2! \\x07\\x9f\\xe0l\\xa2\\xf7\\x0f+\\xa2\\xf8\\xa1\\x12\\xf4}\\xcc\\x981\\xd6\"\\x83?\\x1c\\x08X\\xfb\\x8e\\xe2\\xf0_\\xf3\\x7f|\\xd8Sa\\x10\\xec\\x12\\xe2[d\\xfe*%\\xfc\\xe0\\xca\\t\\xc8\\xb3k\\xd7\\xae\\xd6\\xca#\\x91\\x95C\\xab\\xbe\\xf2i\\x91\\xd5\\xd7\\xf3\\xa8\\xba7\\'\\x9dt\\x92\\xb3:N8\\xe1\\x04\\x83\\x1f\\xe7\\x8d\\x8b\\xff\\xeb?\\xb0\\xb0\\x94\\xc4P\\x0e\\xe4\\x84\\xa1T\\x92\\xa8E\\x86|\\xb8\\\\`\\xc8\\n\\x07\\\\\\x90\\x16\\xc8GI\\x0c\\xe4\\x08\\x0b\\tCA\\x88o\\xed\\x81D\\xd4\\xc2\\xb2\\x99%\\xfe\\xc1\\xe2\\x82\\xc0R\\xc4\\xaf\\niPB\\xbf\\xef\\xb6@\\xc2?\\x1dZ\\xfa.\\x15>\\x91\\xf9\\x04\\x97\\xa0\\xc2&\\xcb*\\xad=\\x92\\xc8\\xd2P\\xaa\\xbf<Zd\\xf5\\xf7L*\\xee\\x11\\xbc\\xd8\\xf1k\\xe7\\x10\\x89\\xe1\\xef~\\x89;\\xae\\xc0\\xb7j\\xf0\\xd3n(\\x8b-B\\xb0\\x84\\xe0_\\x05\\xff\\xb3$Q\\x8b\\x0c\\xf9\\x18\\xaa\\xe1O\\x05\\x16 |\\xca\\xe4\\xd7\\x90L\\xef\\xde\\xbd\\xedO\\xa2i\\x9eO\\x04\\xb0r\\xca\\t\\xac-\\x15\\xf8})\\x91\\xc1\\x8a\\x04\\xf1\\x96\\x0b\\xe3\\xadCf\\xd5\\x81#~RO\\xc5\\xbf\\x0fM+u\\xd4\\xd0\\xddi\\xe4^\\xaa\\x1e\\xd3\\xe6-\\x02$\\xb2y\\x8b\\x7f\\x93[\\x87\\xa5\\x84I}\\x08\\xac!\\xcc-%Y=Jd\\x98\\x03\\xc2\\xd0M\\'\\xf0+i\\xdc\\xb7\\xc8`\\x81a.L\\xe7\\xe30\\x1c\\xc5dz\\xa9\\xdf\\x85\\xf4\\x89\\x00\\x16\\\\9\\x81#\\xab\\n\\x16\\'\\x94\\xc8\\x90\\x86\\xfe\\xa79\\xf5\\x82\\xe8t\\x1e\\xd0\\xb76\\xf1[\\x93*\\xd0_\\t\\xa1\\xea\\xa2\\x85\\xce\\xd9i}\\x1e\\xeb\\x1b\\x01\\x0e-\\xeb\\xfb\\xf9$\\xf6\\x0e\\xde\\xf0J(X\\xf5KZ\\x11\\x84\\x02%\\xb2n\\xdd\\xbaUEb\\xa8\\x0b\\xab\\x0b\\x02+N\\x1cI\\xcd\\x84\\t\\x13\\x8c8\\xd5Z=\\xb0\\x9c\\xf0\\xa3\\xb2\\xa5\\xac\\x9du\\xd6Y\\xc7\\xd6\\xc3?]5u\\t%N\\xc6\\x8f\\x1foS\\xd1\\x1e\\x86\\xb0>\\x91\\x95\\x1b^\\xfa\\xd6\\x98\\xf6\\x17\\xca|\"\\xc3P7.\\xb0\\x1a\\xb1\\xf2\\trWQB-\\xf5\\xc32Z\\x86\\xc7\\xfaC\\x80DV\\x7f\\xcf\\xa4l\\x8ff\\xce\\x9ci\\x06\\x0f\\x1el\\xcba#w\\xa9\\xed;\\xbe\\x12%2?\\xad\\xd2s\\x1d\\xd2\\xc1\\xeaS\\x91\\x9f\\x9c3\\x97\\\\r\\x89\\xbd\\x1c1b\\x84\\xc1\\xdc\\\\\\\\\\xb01[\\xebL\\x9e<9\\x9e]p\\x8d\\x85\\x03L\\xf4C`5\\x82\\xf8\\xb4.\\xd2\\xca\\xf5_\\xe7\\xc7PV\\xfb\\x8bsXq\\xd8\\xba\\x05\\x01\\t\\xc7E~\\xc3\\xd3\\xe0\\xd7\\xbd\\xf0+\\xf1\\xf8\\xd5w\\x10\\xb2nQJ[\\x9c\\x88\\xeb\\xe1\\xf5\\xbcG\\x80D6\\xef\\x9fA\\xd5=\\x80\\x05\\xa6C \\xac\\x1a&\\r)U\\xb1\\xba0`\\xbe\\xa9Z\\xc1<\\x1a\\x04\\xab\\xa3\\xbe\\xa0\\x0f\\x88\\x8a\\x01\\x91\\xedME.\\x1fX\\xdd\\xd4\\xb97D\\xd3(\\xb5?T\\xf5!\\x02\\x86\\xea\\xef\\xd7\\xaf\\x9fM\\xf6\\xc9\\xa9\\\\\\xbf}\\x8bL\\xfb\\xab\\xba\\xe5G\\x93\\xed)\\x16%\\xf0\\x05\\xe0\\xcb\\xbe\\xfb\\xeek\\x17\\'\\xd07Xf\\xf2\\xfb\\x92\\x964\\xa1\\x03~o\\x94\\xfc @\"\\xcb\\xcf\\xb3\\xb2=\\xc5\\x06\\xe9\\xbf\\xfd\\xedo\\xf6\\x1catv\\xd9e\\x97\\xb2w\\xa0\\xf3\\\\J~e+x\\x05\\x94\\x18P\\xd7\\x9f\\x7fB\\x11Xe\\xe8\\x03\\x04VZ\\xdc5B\\xb6\\xfa\\xd8<Xd\\xe7\\x9dw\\x9e=\\x8f\\xff\\x93\\xbd\\x8e\\xb6.\\xd21\\x87\\x05\\xc7^\\x88Od:\\x01o3J\\xfc\\xf3\\xcbj\\x7f\\xb5\\xd8\\x11G\\x1caO\\xb1\\xb8\\xa1V\\xac\\xe6\\xc1\\xf2\\x83%\\x86\\x15M\\xcc\\xb1\\r\\x1b6\\xccf\\xed\\xbf\\xff\\xfe\\x89?\\xf7\\xa7uy\\xac/\\x048\\xd9__\\xcf\\xa3lo\\x94\\x1cP\\xb0O\\x9f>\\xae<^D\\x9dKR_1\\xcdT\\x8bM\\xf6D\\xda\\x17\\x17\\xf9\\xf2k\\xe4\\xf6\\x0f\\x8e\\xa48\\x07\\x19`\\x95\\x0f\\xf3Jp\\x97\\x80\\'<D\\x87j\\x18va\\xc5R\\xb6\\xef\\xa8Z;\\x7f\\x06\\x97\\x0b\\xb8|L\\x9a4\\xc9\\xc8v #\\xdb\\xa0\\xec\\n&\\n544\\xd8>\\xdey\\xe7\\x9d\\xd6b\\x83E\\x04\\xf2\\xc3\\x0e\\x03\\x90\"\"N`\\x8e\\r. \\x10\\xe4\\xe9\\x1c\\x97\\xde\\x0b\\xd2\\xd3&\\xfa\\x91\\x9fFd\\x18z766\\x1a\\xd9dn\\x89\\x161\\xd0\\xfc\\xa10\\xe6\\rAf\\xb2=\\xc9\\xfa\\xafA\\x9f\\xe2\\x85sJN\\x10\\x90\\x0fhP\\t\\xb9\\xbf*h\\xc7\\xebP9\"_\\xe8~J\\xf9x\\xd9\\xfd\\x87\\xd8?\\x19\\x8fO&\\xf3K\\x91\\xccQE\\xe2\\xfdn\\xefBB\\xdd`\\xbfOU\\x7fG\\x1du\\x94\\xad+\\xe1y\\\\=\\xd9nT\\x12\\x15\\xc4\\xfaB\\x0c3\\xb4!d\\x18\\xc9\\xe4\\xb9+\\'C\\xc6H,-\\xa7C,&\\x1bmB\\xc8\\xd4\\xa5\\xa1\\x1e\"t\\xf8\\x82\\xbd\\x9dHGy\\x19Z\\xfaYE\\xe7\\xe2\\x86\\xe2t\\x89_]Q>\"rt\\xe8\\xd0\\xc1\\x96\\xc1\\x1eN\\xb1\\xb8\"\\x99\\xdb\\xb3\\xfd\\x94\\xa1y\\xc1~P\\xc5\\xe9\\x94SN)\\xd2\\xc3\\x84\\xe6!\\x10\\x92\\x0b0\\xc1\\x19TBv>h\\xc7\\xebP\\xb9X]\\x05D\\xa6/]\\xd2\\x11\\x9b\\xa0!2\\xf7\\xe3^\\xf4\\xa4\\xb2\\xf1\\xf4M6\\xd9\\xc4\\xd6\\x1d0`\\x80\\xad\\x0b\\x82\\xc2&\\xf0$\\xc1&u%Y\\x84\\xf3\\xf1\\x83\\x14\\x8au\\x15\\x89\\xebFb\\x1f\\xc4\\x0f-\\x12\\xab\\xac@\\xb5\\xec\\x10\\xb0\\xe5\\xc52,H/u1c\\xc6\\x0c\\xa7\\xfb\\x7f\\xfe\\xe7\\x7fJ\\x15\\x89dx\\x1b\\x81\\xf4\\xe3\\xf7\\xe9_\\x8b/\\\\\\xd4\\xbf\\x7f\\x7fW\\x06$G\\xa9\\x1d\\x02!\\xb9\\x80DV\\xbb\\xe7\\x94\\x89&\\t@\\x18\\x89\\xf7\\xba{\\xd9\\xf4ED\\x94\\x08DG\\x95\\xa1S\\x84\\x98_\\x08\\xe33j\\xd4(\\xdb\\'Xf\\xb0\\xd2P\\x16\\xe5\\xc4\\xfb\\xdeFk\\xed\\xd9\\xb3g$\\x0e\\xadQ\\xaf^\\xbd\"\\x84\\xfa\\x01i!.\\x19\\xa2\\xd0j\\xbc.D\\xac@y\\xc41+\\'\\xa3G\\x8fv1\\xc2\\xae\\xbf\\xfe\\xfa\\x82\\xe2 A\\xe8\\x16\\xc7W\\xd7wq\\xe9\\x88`A\\xc9bDAY\\\\H\\xd0\\xc4\\xa8{\\xf7\\xee\\x91\\x84\\xeb.\\xca+\\x95\\x00\\xdd\\xb0<\\xa7L\\x99R*\\xdb\\xa6!B\\x08,?\\x8d\\xac\\x01<\\x80\\x8b\\x0c/#\\xd9/\\x1a\\xc9\\\\\\xa2\\x8dz\\xa1\\xf1\\xdb\\x10Y\\x83R;\\x04B\\x12Y+tS\\x1eh0\\xc1<\\xc9\\xd8\\xb1c\\xed2\\xb7\\x84Z\\t\\xd6\\xce\\xfc\\xa6\\x18\\xf3M\\x98\\xdb\\xc2V!\\xfc\\xe9\\\\V\\x12\\x0e\\x1a\\x95B7E\\'\\x95kn\\xbaXGvs7\\x16\\x01|\\x17\\n_/\\xf6Eb^L]#\\xfc\\xbc,\\xce1/(\\xc1\\x17mS\\x98\\x0b\\x8cc\\x82\\xc5\\x11D\\xbf\\xe8\\xd8\\xb1\\xe3<\\xebc\\x168d\\xddFH.\\xe0d\\x7f\\xd6O\\xb3F\\xedaR\\x1d\\x7f\\x95J\\xfce\\xad\\xb4^\\xb5\\xe5\\xb0\\x02\\x88h\\x16i\\xa2\\xe4\\x9bV&d\\x1e\\x16;\\x10\";I\\xb0\\xe0Pj\\xcfjRy\\xa6\\xcf{\\x04\\x16\\x98\\xf7]`\\x0f\\x88\\x00\\x11 \\x02\\xcdC\\x80D\\xd6<\\xfcX\\x9b\\x08\\x10\\x81:@\\x80DV\\x07\\x0f\\x81] \\x02D\\xa0y\\x08\\x90\\xc8\\x9a\\x87\\x1fk\\x13\\x01\"P\\x07\\x08\\x90\\xc8\\xea\\xe0!\\xb0\\x0bD\\x80\\x084\\x0f\\x01\\x12Y\\xf3\\xf0cm\"@\\x04\\xea\\x00\\x01\\x12Y\\x1d<\\x04v\\x81\\x08\\x10\\x81\\xe6!@\"k\\x1e~\\xacM\\x04\\x88@\\x1d @\"\\xab\\x83\\x87\\xc0.\\x10\\x01\"\\xd0<\\x04Hd\\xcd\\xc3\\x8f\\xb5\\x89\\x00\\x11\\xa8\\x03\\x04Hdu\\xf0\\x10\\xd8\\x05\"@\\x04\\x9a\\x87\\x00\\x89\\xacy\\xf8\\xb16\\x11 \\x02u\\x80@f\\x9b\\xc6\\x11\\xdf}\\xc8\\x90!up\\xcb\\xec\\x02\\x11 \\x02\\xf3\\x02\\x01\\t\\xcc\\x19\\xac\\xd9\\xe0D\\x86\\x9f\\xf6B\\x18\\x1f\\xffw\\x0e\\x83\\xdd\\r\\x15\\x13\\x01\"P\\xf7\\x08\\x80\\x13j-\\xc1\\xe3\\x91!6\\xbb\\x04\\xe7+\\xfa\\xe1\\x8aZ\\xdf\\x08\\xf5\\x11\\x01\"P\\xff\\x08\\xe0\\xf7B\\xf1;\\n\\xb5\\x96\\xe0DV\\xeb\\x0eS\\x1f\\x11 \\x02D \\x8e\\x00\\'\\xfb\\xe3\\x88\\xf0\\x9a\\x08\\x10\\x81\\xdc!@\"\\xcb\\xdd#c\\x87\\x89\\x00\\x11\\x88#@\"\\x8b#\\xc2k\"@\\x04r\\x87\\x00\\x89,w\\x8f\\x8c\\x1d&\\x02D \\x8e\\x00\\x89,\\x8e\\x08\\xaf\\x89\\x00\\x11\\xc8\\x1d\\x02$\\xb2\\xdc=2v\\x98\\x08\\x10\\x818\\x02$\\xb28\"\\xbc&\\x02D w\\x08\\x90\\xc8r\\xf7\\xc8\\xd8a\"@\\x04\\xe2\\x08\\x90\\xc8\\xe2\\x88\\xf0\\x9a\\x08\\x10\\x81\\xdc!@\"\\xcb\\xdd#c\\x87\\x89\\x00\\x11\\x88#@\"\\x8b#\\xc2k\"@\\x04r\\x87\\x00\\x89,w\\x8f\\x8c\\x1d&\\x02D \\x8e\\x00\\x89,\\x8e\\x08\\xaf\\x89\\x00\\x11\\xc8\\x1d\\x02$\\xb2\\xdc=2v\\x98\\x08\\x10\\x818\\x02$\\xb28\"\\xbc&\\x02D w\\x08\\x90\\xc8r\\xf7\\xc8\\xd8a\"@\\x04\\xe2\\x08\\x90\\xc8\\xe2\\x88\\xf0\\x9a\\x08\\x10\\x81\\xdc!@\"\\xcb\\xdd#c\\x87\\x89\\x00\\x11\\x88#@\"\\x8b#\\xc2k\"@\\x04r\\x87\\xc0\\xff\\x01\\xde\\xfc\\xbb\\xac\\x08\\xd9\\x1a\\x91\\x00\\x00\\x00\\x00IEND\\xaeB`\\x82', height='400', width='300')"
      ]
     },
     "metadata": {},
     "output_type": "display_data"
    }
   ],
   "source": [
    "file = open(\"images/WidgetArch.png\", \"rb\")\n",
    "image = file.read()\n",
    "widgets.Image(\n",
    "    value=image,\n",
    "    format='png',\n",
    "    width=300,\n",
    "    height=400,\n",
    ")"
   ]
  },
  {
   "cell_type": "markdown",
   "metadata": {
    "slideshow": {
     "slide_type": "slide"
    }
   },
   "source": [
    "## Button"
   ]
  },
  {
   "cell_type": "code",
   "execution_count": 67,
   "metadata": {},
   "outputs": [
    {
     "data": {
      "application/vnd.jupyter.widget-view+json": {
       "model_id": "15d051c9e73747418ffbd2cc15427a2c",
       "version_major": 2,
       "version_minor": 0
      },
      "text/html": [
       "<p>Failed to display Jupyter Widget of type <code>Button</code>.</p>\n",
       "<p>\n",
       "  If you're reading this message in the Jupyter Notebook or JupyterLab Notebook, it may mean\n",
       "  that the widgets JavaScript is still loading. If this message persists, it\n",
       "  likely means that the widgets JavaScript library is either not installed or\n",
       "  not enabled. See the <a href=\"https://ipywidgets.readthedocs.io/en/stable/user_install.html\">Jupyter\n",
       "  Widgets Documentation</a> for setup instructions.\n",
       "</p>\n",
       "<p>\n",
       "  If you're reading this message in another frontend (for example, a static\n",
       "  rendering on GitHub or <a href=\"https://nbviewer.jupyter.org/\">NBViewer</a>),\n",
       "  it may mean that your frontend doesn't currently support widgets.\n",
       "</p>\n"
      ],
      "text/plain": [
       "Button(description='Click me', icon='check', style=ButtonStyle(), tooltip='Click me')"
      ]
     },
     "metadata": {},
     "output_type": "display_data"
    }
   ],
   "source": [
    "widgets.Button(\n",
    "    description='Click me',\n",
    "    disabled=False,\n",
    "    button_style='', # 'success', 'info', 'warning', 'danger' or ''\n",
    "    tooltip='Click me',\n",
    "    icon='check'\n",
    ")"
   ]
  },
  {
   "cell_type": "markdown",
   "metadata": {},
   "source": [
    "## Output\n",
    "\n",
    "The `Output` widget can capture and display stdout, stderr and [rich output generated by IPython](http://ipython.readthedocs.io/en/stable/api/generated/IPython.display.html#module-IPython.display). After the widget is created, direct output to it using a context manager."
   ]
  },
  {
   "cell_type": "code",
   "execution_count": 68,
   "metadata": {},
   "outputs": [
    {
     "data": {
      "application/vnd.jupyter.widget-view+json": {
       "model_id": "f0d2d8bc67894c1383adc2c8dd954902",
       "version_major": 2,
       "version_minor": 0
      },
      "text/html": [
       "<p>Failed to display Jupyter Widget of type <code>Output</code>.</p>\n",
       "<p>\n",
       "  If you're reading this message in the Jupyter Notebook or JupyterLab Notebook, it may mean\n",
       "  that the widgets JavaScript is still loading. If this message persists, it\n",
       "  likely means that the widgets JavaScript library is either not installed or\n",
       "  not enabled. See the <a href=\"https://ipywidgets.readthedocs.io/en/stable/user_install.html\">Jupyter\n",
       "  Widgets Documentation</a> for setup instructions.\n",
       "</p>\n",
       "<p>\n",
       "  If you're reading this message in another frontend (for example, a static\n",
       "  rendering on GitHub or <a href=\"https://nbviewer.jupyter.org/\">NBViewer</a>),\n",
       "  it may mean that your frontend doesn't currently support widgets.\n",
       "</p>\n"
      ],
      "text/plain": [
       "Output()"
      ]
     },
     "metadata": {},
     "output_type": "display_data"
    }
   ],
   "source": [
    "out = widgets.Output()\n",
    "out"
   ]
  },
  {
   "cell_type": "markdown",
   "metadata": {},
   "source": [
    "You can print text to the output area as shown below."
   ]
  },
  {
   "cell_type": "code",
   "execution_count": 69,
   "metadata": {
    "collapsed": true
   },
   "outputs": [],
   "source": [
    "with out:\n",
    "    for i in range(10):\n",
    "        print(i, 'Hello world!')"
   ]
  },
  {
   "cell_type": "markdown",
   "metadata": {},
   "source": [
    "Rich material can also be directed to the output area. Anything which displays nicely in a Jupyter notebook will also display well in the `Output` widget."
   ]
  },
  {
   "cell_type": "code",
   "execution_count": 70,
   "metadata": {
    "collapsed": true
   },
   "outputs": [],
   "source": [
    "from IPython.display import YouTubeVideo\n",
    "with out:\n",
    "    display(YouTubeVideo('eWzY2nGfkXk'))"
   ]
  },
  {
   "cell_type": "markdown",
   "metadata": {},
   "source": [
    "## Play (Animation) widget"
   ]
  },
  {
   "cell_type": "markdown",
   "metadata": {},
   "source": [
    "The `Play` widget is useful to perform animations by iterating on a sequence of integers with a certain speed. The value of the slider below is linked to the player."
   ]
  },
  {
   "cell_type": "code",
   "execution_count": 71,
   "metadata": {},
   "outputs": [
    {
     "data": {
      "application/vnd.jupyter.widget-view+json": {
       "model_id": "23d53499bded41bdbedc9111a46789b5",
       "version_major": 2,
       "version_minor": 0
      },
      "text/html": [
       "<p>Failed to display Jupyter Widget of type <code>HBox</code>.</p>\n",
       "<p>\n",
       "  If you're reading this message in the Jupyter Notebook or JupyterLab Notebook, it may mean\n",
       "  that the widgets JavaScript is still loading. If this message persists, it\n",
       "  likely means that the widgets JavaScript library is either not installed or\n",
       "  not enabled. See the <a href=\"https://ipywidgets.readthedocs.io/en/stable/user_install.html\">Jupyter\n",
       "  Widgets Documentation</a> for setup instructions.\n",
       "</p>\n",
       "<p>\n",
       "  If you're reading this message in another frontend (for example, a static\n",
       "  rendering on GitHub or <a href=\"https://nbviewer.jupyter.org/\">NBViewer</a>),\n",
       "  it may mean that your frontend doesn't currently support widgets.\n",
       "</p>\n"
      ],
      "text/plain": [
       "HBox(children=(Play(value=50, description='Press play'), IntSlider(value=0)))"
      ]
     },
     "metadata": {},
     "output_type": "display_data"
    }
   ],
   "source": [
    "play = widgets.Play(\n",
    "#     interval=10,\n",
    "    value=50,\n",
    "    min=0,\n",
    "    max=100,\n",
    "    step=1,\n",
    "    description=\"Press play\",\n",
    "    disabled=False\n",
    ")\n",
    "slider = widgets.IntSlider()\n",
    "widgets.jslink((play, 'value'), (slider, 'value'))\n",
    "widgets.HBox([play, slider])"
   ]
  },
  {
   "cell_type": "markdown",
   "metadata": {},
   "source": [
    "## Date picker\n",
    "\n",
    "The date picker widget works in Chrome and IE Edge, but does not currently work in Firefox or Safari because they do not support the HTML date input field."
   ]
  },
  {
   "cell_type": "code",
   "execution_count": 72,
   "metadata": {},
   "outputs": [
    {
     "data": {
      "application/vnd.jupyter.widget-view+json": {
       "model_id": "cff229b354964e1cb3dc0a3cc8e0bb05",
       "version_major": 2,
       "version_minor": 0
      },
      "text/html": [
       "<p>Failed to display Jupyter Widget of type <code>DatePicker</code>.</p>\n",
       "<p>\n",
       "  If you're reading this message in the Jupyter Notebook or JupyterLab Notebook, it may mean\n",
       "  that the widgets JavaScript is still loading. If this message persists, it\n",
       "  likely means that the widgets JavaScript library is either not installed or\n",
       "  not enabled. See the <a href=\"https://ipywidgets.readthedocs.io/en/stable/user_install.html\">Jupyter\n",
       "  Widgets Documentation</a> for setup instructions.\n",
       "</p>\n",
       "<p>\n",
       "  If you're reading this message in another frontend (for example, a static\n",
       "  rendering on GitHub or <a href=\"https://nbviewer.jupyter.org/\">NBViewer</a>),\n",
       "  it may mean that your frontend doesn't currently support widgets.\n",
       "</p>\n"
      ],
      "text/plain": [
       "DatePicker(value=None, description='Pick a Date')"
      ]
     },
     "metadata": {},
     "output_type": "display_data"
    }
   ],
   "source": [
    "widgets.DatePicker(\n",
    "    description='Pick a Date',\n",
    "    disabled=False\n",
    ")"
   ]
  },
  {
   "cell_type": "markdown",
   "metadata": {},
   "source": [
    "## Color picker"
   ]
  },
  {
   "cell_type": "code",
   "execution_count": 73,
   "metadata": {},
   "outputs": [
    {
     "data": {
      "application/vnd.jupyter.widget-view+json": {
       "model_id": "ad8357aef29c4f69805425d51de9abd5",
       "version_major": 2,
       "version_minor": 0
      },
      "text/html": [
       "<p>Failed to display Jupyter Widget of type <code>ColorPicker</code>.</p>\n",
       "<p>\n",
       "  If you're reading this message in the Jupyter Notebook or JupyterLab Notebook, it may mean\n",
       "  that the widgets JavaScript is still loading. If this message persists, it\n",
       "  likely means that the widgets JavaScript library is either not installed or\n",
       "  not enabled. See the <a href=\"https://ipywidgets.readthedocs.io/en/stable/user_install.html\">Jupyter\n",
       "  Widgets Documentation</a> for setup instructions.\n",
       "</p>\n",
       "<p>\n",
       "  If you're reading this message in another frontend (for example, a static\n",
       "  rendering on GitHub or <a href=\"https://nbviewer.jupyter.org/\">NBViewer</a>),\n",
       "  it may mean that your frontend doesn't currently support widgets.\n",
       "</p>\n"
      ],
      "text/plain": [
       "ColorPicker(value='blue', description='Pick a color')"
      ]
     },
     "metadata": {},
     "output_type": "display_data"
    }
   ],
   "source": [
    "widgets.ColorPicker(\n",
    "    concise=False,\n",
    "    description='Pick a color',\n",
    "    value='blue',\n",
    "    disabled=False\n",
    ")"
   ]
  },
  {
   "cell_type": "markdown",
   "metadata": {},
   "source": [
    "## Controller\n",
    "\n",
    "The `Controller` allows a game controller to be used as an input device."
   ]
  },
  {
   "cell_type": "code",
   "execution_count": 74,
   "metadata": {},
   "outputs": [
    {
     "data": {
      "application/vnd.jupyter.widget-view+json": {
       "model_id": "26a22f4ffe3047db864f4fadabdd7e96",
       "version_major": 2,
       "version_minor": 0
      },
      "text/html": [
       "<p>Failed to display Jupyter Widget of type <code>Controller</code>.</p>\n",
       "<p>\n",
       "  If you're reading this message in the Jupyter Notebook or JupyterLab Notebook, it may mean\n",
       "  that the widgets JavaScript is still loading. If this message persists, it\n",
       "  likely means that the widgets JavaScript library is either not installed or\n",
       "  not enabled. See the <a href=\"https://ipywidgets.readthedocs.io/en/stable/user_install.html\">Jupyter\n",
       "  Widgets Documentation</a> for setup instructions.\n",
       "</p>\n",
       "<p>\n",
       "  If you're reading this message in another frontend (for example, a static\n",
       "  rendering on GitHub or <a href=\"https://nbviewer.jupyter.org/\">NBViewer</a>),\n",
       "  it may mean that your frontend doesn't currently support widgets.\n",
       "</p>\n"
      ],
      "text/plain": [
       "Controller()"
      ]
     },
     "metadata": {},
     "output_type": "display_data"
    }
   ],
   "source": [
    "widgets.Controller(\n",
    "    index=0,\n",
    ")"
   ]
  },
  {
   "cell_type": "markdown",
   "metadata": {},
   "source": [
    "## Container/Layout widgets\n",
    "\n",
    "These widgets are used to hold other widgets, called children. Each has a `children` property that may be set either when the widget is created or later."
   ]
  },
  {
   "cell_type": "markdown",
   "metadata": {},
   "source": [
    "### Box"
   ]
  },
  {
   "cell_type": "code",
   "execution_count": 75,
   "metadata": {},
   "outputs": [
    {
     "data": {
      "application/vnd.jupyter.widget-view+json": {
       "model_id": "61a6bb1b99da4d25a136d665a318ee44",
       "version_major": 2,
       "version_minor": 0
      },
      "text/html": [
       "<p>Failed to display Jupyter Widget of type <code>Box</code>.</p>\n",
       "<p>\n",
       "  If you're reading this message in the Jupyter Notebook or JupyterLab Notebook, it may mean\n",
       "  that the widgets JavaScript is still loading. If this message persists, it\n",
       "  likely means that the widgets JavaScript library is either not installed or\n",
       "  not enabled. See the <a href=\"https://ipywidgets.readthedocs.io/en/stable/user_install.html\">Jupyter\n",
       "  Widgets Documentation</a> for setup instructions.\n",
       "</p>\n",
       "<p>\n",
       "  If you're reading this message in another frontend (for example, a static\n",
       "  rendering on GitHub or <a href=\"https://nbviewer.jupyter.org/\">NBViewer</a>),\n",
       "  it may mean that your frontend doesn't currently support widgets.\n",
       "</p>\n"
      ],
      "text/plain": [
       "Box(children=(Label(value='0'), Label(value='1'), Label(value='2'), Label(value='3')))"
      ]
     },
     "metadata": {},
     "output_type": "display_data"
    }
   ],
   "source": [
    "items = [widgets.Label(str(i)) for i in range(4)]\n",
    "widgets.Box(items)"
   ]
  },
  {
   "cell_type": "markdown",
   "metadata": {},
   "source": [
    "### HBox"
   ]
  },
  {
   "cell_type": "code",
   "execution_count": 76,
   "metadata": {},
   "outputs": [
    {
     "data": {
      "application/vnd.jupyter.widget-view+json": {
       "model_id": "f0ea4ab5214e466cb2330b7bad306637",
       "version_major": 2,
       "version_minor": 0
      },
      "text/html": [
       "<p>Failed to display Jupyter Widget of type <code>HBox</code>.</p>\n",
       "<p>\n",
       "  If you're reading this message in the Jupyter Notebook or JupyterLab Notebook, it may mean\n",
       "  that the widgets JavaScript is still loading. If this message persists, it\n",
       "  likely means that the widgets JavaScript library is either not installed or\n",
       "  not enabled. See the <a href=\"https://ipywidgets.readthedocs.io/en/stable/user_install.html\">Jupyter\n",
       "  Widgets Documentation</a> for setup instructions.\n",
       "</p>\n",
       "<p>\n",
       "  If you're reading this message in another frontend (for example, a static\n",
       "  rendering on GitHub or <a href=\"https://nbviewer.jupyter.org/\">NBViewer</a>),\n",
       "  it may mean that your frontend doesn't currently support widgets.\n",
       "</p>\n"
      ],
      "text/plain": [
       "HBox(children=(Label(value='0'), Label(value='1'), Label(value='2'), Label(value='3')))"
      ]
     },
     "metadata": {},
     "output_type": "display_data"
    }
   ],
   "source": [
    "items = [widgets.Label(str(i)) for i in range(4)]\n",
    "widgets.HBox(items)"
   ]
  },
  {
   "cell_type": "markdown",
   "metadata": {},
   "source": [
    "### VBox"
   ]
  },
  {
   "cell_type": "code",
   "execution_count": 77,
   "metadata": {},
   "outputs": [
    {
     "data": {
      "application/vnd.jupyter.widget-view+json": {
       "model_id": "be2499d022984c5b9bdf52cb183393df",
       "version_major": 2,
       "version_minor": 0
      },
      "text/html": [
       "<p>Failed to display Jupyter Widget of type <code>HBox</code>.</p>\n",
       "<p>\n",
       "  If you're reading this message in the Jupyter Notebook or JupyterLab Notebook, it may mean\n",
       "  that the widgets JavaScript is still loading. If this message persists, it\n",
       "  likely means that the widgets JavaScript library is either not installed or\n",
       "  not enabled. See the <a href=\"https://ipywidgets.readthedocs.io/en/stable/user_install.html\">Jupyter\n",
       "  Widgets Documentation</a> for setup instructions.\n",
       "</p>\n",
       "<p>\n",
       "  If you're reading this message in another frontend (for example, a static\n",
       "  rendering on GitHub or <a href=\"https://nbviewer.jupyter.org/\">NBViewer</a>),\n",
       "  it may mean that your frontend doesn't currently support widgets.\n",
       "</p>\n"
      ],
      "text/plain": [
       "HBox(children=(VBox(children=(Label(value='0'), Label(value='1'))), VBox(children=(Label(value='2'), Label(value='3')))))"
      ]
     },
     "metadata": {},
     "output_type": "display_data"
    }
   ],
   "source": [
    "items = [widgets.Label(str(i)) for i in range(4)]\n",
    "left_box = widgets.VBox([items[0], items[1]])\n",
    "right_box = widgets.VBox([items[2], items[3]])\n",
    "widgets.HBox([left_box, right_box])"
   ]
  },
  {
   "cell_type": "markdown",
   "metadata": {},
   "source": [
    "### Accordion"
   ]
  },
  {
   "cell_type": "code",
   "execution_count": 78,
   "metadata": {},
   "outputs": [
    {
     "data": {
      "application/vnd.jupyter.widget-view+json": {
       "model_id": "c5c03dca04e24ddd9c4fd4bcdb7d65ab",
       "version_major": 2,
       "version_minor": 0
      },
      "text/html": [
       "<p>Failed to display Jupyter Widget of type <code>Accordion</code>.</p>\n",
       "<p>\n",
       "  If you're reading this message in the Jupyter Notebook or JupyterLab Notebook, it may mean\n",
       "  that the widgets JavaScript is still loading. If this message persists, it\n",
       "  likely means that the widgets JavaScript library is either not installed or\n",
       "  not enabled. See the <a href=\"https://ipywidgets.readthedocs.io/en/stable/user_install.html\">Jupyter\n",
       "  Widgets Documentation</a> for setup instructions.\n",
       "</p>\n",
       "<p>\n",
       "  If you're reading this message in another frontend (for example, a static\n",
       "  rendering on GitHub or <a href=\"https://nbviewer.jupyter.org/\">NBViewer</a>),\n",
       "  it may mean that your frontend doesn't currently support widgets.\n",
       "</p>\n"
      ],
      "text/plain": [
       "Accordion(children=(IntSlider(value=0), Text(value='')), _titles={'0': 'Slider', '1': 'Text'})"
      ]
     },
     "metadata": {},
     "output_type": "display_data"
    }
   ],
   "source": [
    "accordion = widgets.Accordion(children=[widgets.IntSlider(), widgets.Text()])\n",
    "accordion.set_title(0, 'Slider')\n",
    "accordion.set_title(1, 'Text')\n",
    "accordion"
   ]
  },
  {
   "cell_type": "markdown",
   "metadata": {},
   "source": [
    "### Tabs\n",
    "\n",
    "In this example the children are set after the tab is created. Titles for the tabes are set in the same way they are for `Accordion`."
   ]
  },
  {
   "cell_type": "code",
   "execution_count": 79,
   "metadata": {},
   "outputs": [
    {
     "data": {
      "application/vnd.jupyter.widget-view+json": {
       "model_id": "a2450ee265e94409beffb544ced7fdb9",
       "version_major": 2,
       "version_minor": 0
      },
      "text/html": [
       "<p>Failed to display Jupyter Widget of type <code>Tab</code>.</p>\n",
       "<p>\n",
       "  If you're reading this message in the Jupyter Notebook or JupyterLab Notebook, it may mean\n",
       "  that the widgets JavaScript is still loading. If this message persists, it\n",
       "  likely means that the widgets JavaScript library is either not installed or\n",
       "  not enabled. See the <a href=\"https://ipywidgets.readthedocs.io/en/stable/user_install.html\">Jupyter\n",
       "  Widgets Documentation</a> for setup instructions.\n",
       "</p>\n",
       "<p>\n",
       "  If you're reading this message in another frontend (for example, a static\n",
       "  rendering on GitHub or <a href=\"https://nbviewer.jupyter.org/\">NBViewer</a>),\n",
       "  it may mean that your frontend doesn't currently support widgets.\n",
       "</p>\n"
      ],
      "text/plain": [
       "Tab(children=(Text(value='', description='P0'), Text(value='', description='P1'), Text(value='', description='P2'), Text(value='', description='P3'), Text(value='', description='P4')), _titles={'0': '0', '1': '1', '2': '2', '3': '3', '4': '4'})"
      ]
     },
     "metadata": {},
     "output_type": "display_data"
    }
   ],
   "source": [
    "tab_contents = ['P0', 'P1', 'P2', 'P3', 'P4']\n",
    "children = [widgets.Text(description=name) for name in tab_contents]\n",
    "tab = widgets.Tab()\n",
    "tab.children = children\n",
    "for i in range(len(children)):\n",
    "    tab.set_title(i, str(i))\n",
    "tab"
   ]
  },
  {
   "cell_type": "markdown",
   "metadata": {},
   "source": [
    "### Accordion and Tab use `selected_index`, not value\n",
    "\n",
    "Unlike the rest of the widgets discussed earlier, the container widgets `Accordion` and `Tab` update their `selected_index` attribute when the user changes which accordion or tab is selected. That means that you can both see what the user is doing *and* programmatically set what the user sees by setting the value of `selected_index`.\n",
    "\n",
    "Setting `selected_index = None` closes all of the accordions or deselects all tabs."
   ]
  },
  {
   "cell_type": "markdown",
   "metadata": {},
   "source": [
    "In the cells below try displaying or setting the `selected_index` of the `tab` and/or `accordion`."
   ]
  },
  {
   "cell_type": "code",
   "execution_count": 43,
   "metadata": {
    "collapsed": true
   },
   "outputs": [],
   "source": [
    "tab.selected_index = 3"
   ]
  },
  {
   "cell_type": "code",
   "execution_count": 44,
   "metadata": {
    "collapsed": true
   },
   "outputs": [],
   "source": [
    "accordion.selected_index = None"
   ]
  },
  {
   "cell_type": "markdown",
   "metadata": {},
   "source": [
    "### Nesting tabs and accordions\n",
    "\n",
    "Tabs and accordions can be nested as deeply as you want. If you have a few minutes, try nesting a few accordions or putting an accordion inside a tab or a tab inside an accordion. \n",
    "\n",
    "The example below makes a couple of tabs with an accordion children in one of them"
   ]
  },
  {
   "cell_type": "code",
   "execution_count": 45,
   "metadata": {},
   "outputs": [
    {
     "data": {
      "application/vnd.jupyter.widget-view+json": {
       "model_id": "5ccd25d357664504a695465878eb3b10",
       "version_major": 2,
       "version_minor": 0
      },
      "text/plain": [
       "A Jupyter Widget"
      ]
     },
     "metadata": {},
     "output_type": "display_data"
    }
   ],
   "source": [
    "tab_nest = widgets.Tab()\n",
    "tab_nest.children = [accordion, accordion]\n",
    "tab_nest.set_title(0, 'An accordion')\n",
    "tab_nest.set_title(1, 'Copy of the accordion')\n",
    "tab_nest"
   ]
  },
  {
   "cell_type": "code",
   "execution_count": null,
   "metadata": {
    "collapsed": true
   },
   "outputs": [],
   "source": []
  },
  {
   "cell_type": "markdown",
   "metadata": {
    "nbsphinx": "hidden"
   },
   "source": [
    "[Index](Index.ipynb) - [Back](Widget Basics.ipynb) - [Next](Widget Events.ipynb)"
   ]
  }
 ],
 "metadata": {
  "kernelspec": {
   "display_name": "Python 3",
   "language": "python",
   "name": "python3"
  },
  "language_info": {
   "codemirror_mode": {
    "name": "ipython",
    "version": 3
   },
   "file_extension": ".py",
   "mimetype": "text/x-python",
   "name": "python",
   "nbconvert_exporter": "python",
   "pygments_lexer": "ipython3",
   "version": "3.6.3"
  },
  "widgets": {
   "application/vnd.jupyter.widget-state+json": {
    "state": {
     "0003bd8881b545ad8fb141d18645c7a9": {
      "model_module": "@jupyter-widgets/base",
      "model_module_version": "1.0.0",
      "model_name": "LayoutModel",
      "state": {}
     },
     "003f197d4557427c834c6489193761c7": {
      "model_module": "@jupyter-widgets/base",
      "model_module_version": "1.0.0",
      "model_name": "LayoutModel",
      "state": {}
     },
     "0071b727b14d42178ee5f8847e94f406": {
      "model_module": "@jupyter-widgets/base",
      "model_module_version": "1.0.0",
      "model_name": "LayoutModel",
      "state": {}
     },
     "04afd6d9ea954058a9e2913f58d35e67": {
      "model_module": "@jupyter-widgets/controls",
      "model_module_version": "1.0.0",
      "model_name": "SelectionRangeSliderModel",
      "state": {
       "_model_name": "SelectionRangeSliderModel",
       "_options_labels": [
        "Jan",
        "Feb",
        "Mar",
        "Apr",
        "May",
        "Jun",
        "Jul",
        "Aug",
        "Sep",
        "Oct",
        "Nov",
        "Dec"
       ],
       "_view_name": "SelectionRangeSliderView",
       "description": "Months (2015)",
       "index": [
        0,
        11
       ],
       "layout": "IPY_MODEL_474e4887b3804400b2e8b16f81dab607",
       "style": "IPY_MODEL_d58522711a194316a0ce902c67c6e6fe"
      }
     },
     "059fa422e97a40d2952de3c83f3eeeab": {
      "model_module": "@jupyter-widgets/controls",
      "model_module_version": "1.0.0",
      "model_name": "TabModel",
      "state": {
       "_titles": {
        "0": "0",
        "1": "1",
        "2": "2",
        "3": "3",
        "4": "4"
       },
       "children": [
        "IPY_MODEL_d3590a9f39dc48da89cb648b571d26c9",
        "IPY_MODEL_3af576e98b2849b8b0297dae003fd8e1",
        "IPY_MODEL_466d571f5f6f49018a6f721d561d930e",
        "IPY_MODEL_7646344abe9541baa5cfdcc22a56655a",
        "IPY_MODEL_cd17431a00f143b38bcd0fe4fe135df1"
       ],
       "layout": "IPY_MODEL_5b63e849ede84a6c9ed4a64d6ea76500",
       "selected_index": 3
      }
     },
     "05dd075f9fdb424c95356871a054a93a": {
      "model_module": "@jupyter-widgets/controls",
      "model_module_version": "1.0.0",
      "model_name": "DescriptionStyleModel",
      "state": {
       "description_width": ""
      }
     },
     "09c2d1294b1d48ea96982a307a53f529": {
      "model_module": "@jupyter-widgets/controls",
      "model_module_version": "1.0.0",
      "model_name": "IntSliderModel",
      "state": {
       "layout": "IPY_MODEL_ef674bc6a53049fdac81eefc1fe97047",
       "style": "IPY_MODEL_314095892d6a4d409c628b0d3760efd0",
       "value": 50
      }
     },
     "11eb8e2d33354913bb0b3ae8a8360a62": {
      "model_module": "@jupyter-widgets/base",
      "model_module_version": "1.0.0",
      "model_name": "LayoutModel",
      "state": {}
     },
     "1367e79137ba4276ba7b01e7a060b692": {
      "model_module": "@jupyter-widgets/controls",
      "model_module_version": "1.0.0",
      "model_name": "DescriptionStyleModel",
      "state": {
       "description_width": ""
      }
     },
     "180d46cb59854bacb0451fa48e0a746f": {
      "model_module": "@jupyter-widgets/controls",
      "model_module_version": "1.0.0",
      "model_name": "DescriptionStyleModel",
      "state": {
       "description_width": ""
      }
     },
     "18e9b06c0d824dd697826754af6aa889": {
      "model_module": "@jupyter-widgets/base",
      "model_module_version": "1.0.0",
      "model_name": "LayoutModel",
      "state": {}
     },
     "19f7f65a07cf4edca7a3b85e920ca4b6": {
      "model_module": "@jupyter-widgets/controls",
      "model_module_version": "1.0.0",
      "model_name": "LabelModel",
      "state": {
       "layout": "IPY_MODEL_d8225b7fc20446968e0d95052ebac7f1",
       "style": "IPY_MODEL_44f766c5b641462fa7bc8d7178b264bf",
       "value": "3"
      }
     },
     "1e8cb22616f14fbdb570d965d017aab0": {
      "model_module": "@jupyter-widgets/controls",
      "model_module_version": "1.0.0",
      "model_name": "DescriptionStyleModel",
      "state": {
       "description_width": ""
      }
     },
     "1ecb7c29ca0d4d08a61df5578b47c092": {
      "model_module": "@jupyter-widgets/controls",
      "model_module_version": "1.0.0",
      "model_name": "ImageModel",
      "state": {
       "_b64value": "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",
       "height": "400",
       "layout": "IPY_MODEL_2f14a422c0994204a7cec7288bf01530",
       "width": "300"
      }
     },
     "203dc5460fa848fbac72ab9f6e360265": {
      "model_module": "@jupyter-widgets/base",
      "model_module_version": "1.0.0",
      "model_name": "LayoutModel",
      "state": {}
     },
     "210dba05e900429b98252395f6b56757": {
      "model_module": "@jupyter-widgets/controls",
      "model_module_version": "1.0.0",
      "model_name": "ControllerModel",
      "state": {
       "layout": "IPY_MODEL_0071b727b14d42178ee5f8847e94f406"
      }
     },
     "229415b2fc2f4780bb01f7d782d46bd5": {
      "model_module": "@jupyter-widgets/controls",
      "model_module_version": "1.0.0",
      "model_name": "BoxModel",
      "state": {
       "children": [
        "IPY_MODEL_bec846a60fe24aa7b6f0fc84d8c8e5df",
        "IPY_MODEL_5fff17adac4e4dc0a3372bca5e8bdd9a",
        "IPY_MODEL_6856509064f74a0592015f0b994936e1",
        "IPY_MODEL_5c2a82733b2c4697a339b8e70c1cf0d7"
       ],
       "layout": "IPY_MODEL_c33187b97fc3496484ebe966f9929565"
      }
     },
     "23b7ba07c5354d25b8320598571cdb64": {
      "model_module": "@jupyter-widgets/controls",
      "model_module_version": "1.0.0",
      "model_name": "FloatSliderModel",
      "state": {
       "continuous_update": false,
       "description": "Test:",
       "layout": "IPY_MODEL_7a0ff3db8f0a4a1db837e22419c23825",
       "max": 10,
       "orientation": "vertical",
       "readout_format": ".1f",
       "step": 0.1,
       "style": "IPY_MODEL_c1d9753dd2a24a40ac58ac972e441a76",
       "value": 7.5
      }
     },
     "24941017437a46a0a916cf0c7dad1d17": {
      "model_module": "@jupyter-widgets/controls",
      "model_module_version": "1.0.0",
      "model_name": "DescriptionStyleModel",
      "state": {
       "description_width": ""
      }
     },
     "26c764f3ad73430e9b3f58db1a05cb1b": {
      "model_module": "@jupyter-widgets/controls",
      "model_module_version": "1.0.0",
      "model_name": "VBoxModel",
      "state": {
       "children": [
        "IPY_MODEL_dafc1188aeb64df8a2f3a00b44420bf6",
        "IPY_MODEL_3ba892f2e4064e03ae6372130509aa77"
       ],
       "layout": "IPY_MODEL_ef614689b281448290284f942b096597"
      }
     },
     "272a163713504232bf3ecfeb4817a992": {
      "model_module": "@jupyter-widgets/controls",
      "model_module_version": "1.0.0",
      "model_name": "DescriptionStyleModel",
      "state": {
       "description_width": ""
      }
     },
     "273c09b617a14151965da6956ef444fd": {
      "model_module": "@jupyter-widgets/controls",
      "model_module_version": "1.0.0",
      "model_name": "ButtonStyleModel",
      "state": {}
     },
     "28f8e8e2255a4829b11726a3ba22a2b4": {
      "model_module": "@jupyter-widgets/base",
      "model_module_version": "1.0.0",
      "model_name": "LayoutModel",
      "state": {}
     },
     "29d790d9b5c14890b5a1f4fd83d9ecfa": {
      "model_module": "@jupyter-widgets/base",
      "model_module_version": "1.0.0",
      "model_name": "LayoutModel",
      "state": {}
     },
     "2aad977191b44fb9a25a736cc5829f75": {
      "model_module": "@jupyter-widgets/base",
      "model_module_version": "1.0.0",
      "model_name": "LayoutModel",
      "state": {}
     },
     "2bc4900e6dfd45d48e4eac9c218103b5": {
      "model_module": "@jupyter-widgets/base",
      "model_module_version": "1.0.0",
      "model_name": "LayoutModel",
      "state": {}
     },
     "2d64b1144b3a4101bcbfd785777125bd": {
      "model_module": "@jupyter-widgets/base",
      "model_module_version": "1.0.0",
      "model_name": "LayoutModel",
      "state": {}
     },
     "2df59c4897374497959a4254e380223d": {
      "model_module": "@jupyter-widgets/controls",
      "model_module_version": "1.0.0",
      "model_name": "TextareaModel",
      "state": {
       "description": "String:",
       "layout": "IPY_MODEL_aa0795c526bb4960a2cf4533ebc6f811",
       "placeholder": "Type something",
       "style": "IPY_MODEL_8ec3608759db4e51b353aae740a546fe",
       "value": "Hello World"
      }
     },
     "2f14a422c0994204a7cec7288bf01530": {
      "model_module": "@jupyter-widgets/base",
      "model_module_version": "1.0.0",
      "model_name": "LayoutModel",
      "state": {}
     },
     "314095892d6a4d409c628b0d3760efd0": {
      "model_module": "@jupyter-widgets/controls",
      "model_module_version": "1.0.0",
      "model_name": "SliderStyleModel",
      "state": {
       "description_width": ""
      }
     },
     "3226484b62eb47d1b5de58631885dcd3": {
      "model_module": "@jupyter-widgets/controls",
      "model_module_version": "1.0.0",
      "model_name": "DescriptionStyleModel",
      "state": {
       "description_width": ""
      }
     },
     "3473e172c4d749b4b057c3ffe5101d82": {
      "model_module": "@jupyter-widgets/controls",
      "model_module_version": "1.0.0",
      "model_name": "SliderStyleModel",
      "state": {
       "description_width": ""
      }
     },
     "354ebe7264014f0f98c3d60e30e15131": {
      "model_module": "@jupyter-widgets/controls",
      "model_module_version": "1.0.0",
      "model_name": "DescriptionStyleModel",
      "state": {
       "description_width": ""
      }
     },
     "36c7ab780b3b4ff480a7182dcfc77122": {
      "model_module": "@jupyter-widgets/base",
      "model_module_version": "1.0.0",
      "model_name": "LayoutModel",
      "state": {}
     },
     "3af576e98b2849b8b0297dae003fd8e1": {
      "model_module": "@jupyter-widgets/controls",
      "model_module_version": "1.0.0",
      "model_name": "TextModel",
      "state": {
       "description": "P1",
       "layout": "IPY_MODEL_29d790d9b5c14890b5a1f4fd83d9ecfa",
       "style": "IPY_MODEL_570f9c4520004a5da8a5312c242dd64a"
      }
     },
     "3b253205a4e544a39798e8f4108b4feb": {
      "model_module": "@jupyter-widgets/base",
      "model_module_version": "1.0.0",
      "model_name": "LayoutModel",
      "state": {}
     },
     "3ba892f2e4064e03ae6372130509aa77": {
      "model_module": "@jupyter-widgets/controls",
      "model_module_version": "1.0.0",
      "model_name": "LabelModel",
      "state": {
       "layout": "IPY_MODEL_efb3879e242e418cb35d4d87aea6a28a",
       "style": "IPY_MODEL_6e609174592e4f5181ffe0dcddd38430",
       "value": "3"
      }
     },
     "3faa684a2f1547abb3fac50d6854f4a0": {
      "model_module": "@jupyter-widgets/controls",
      "model_module_version": "1.0.0",
      "model_name": "SliderStyleModel",
      "state": {
       "description_width": ""
      }
     },
     "3ff4730fe5be428e85ccd9c6b77fff76": {
      "model_module": "@jupyter-widgets/base",
      "model_module_version": "1.0.0",
      "model_name": "LayoutModel",
      "state": {}
     },
     "4017dc27575b41638ba6c2e4f41b1992": {
      "model_module": "@jupyter-widgets/base",
      "model_module_version": "1.0.0",
      "model_name": "LayoutModel",
      "state": {}
     },
     "4301e3b430c54e428aa5826368515bb1": {
      "model_module": "@jupyter-widgets/controls",
      "model_module_version": "1.0.0",
      "model_name": "DescriptionStyleModel",
      "state": {
       "description_width": ""
      }
     },
     "432045a32ab640459b97e44ebee05e53": {
      "model_module": "@jupyter-widgets/controls",
      "model_module_version": "1.0.0",
      "model_name": "DescriptionStyleModel",
      "state": {
       "description_width": ""
      }
     },
     "436bf55470ae44459c5822143804e091": {
      "model_module": "@jupyter-widgets/controls",
      "model_module_version": "1.0.0",
      "model_name": "FloatSliderModel",
      "state": {
       "layout": "IPY_MODEL_c14c0e98885d49058ef7c5b6c205bfd8",
       "step": 0.1,
       "style": "IPY_MODEL_7f6e53c41d584e388abea17400b3a8b2"
      }
     },
     "44719c6e0fd0470eb3cce09370e9c0a8": {
      "model_module": "@jupyter-widgets/controls",
      "model_module_version": "1.0.0",
      "model_name": "FloatRangeSliderModel",
      "state": {
       "_model_name": "FloatRangeSliderModel",
       "_view_name": "FloatRangeSliderView",
       "continuous_update": false,
       "description": "Test:",
       "layout": "IPY_MODEL_927121ff22a64ad9bb23ff7bea7d62fa",
       "max": 10,
       "readout_format": ".1f",
       "step": 0.1,
       "style": "IPY_MODEL_3faa684a2f1547abb3fac50d6854f4a0",
       "value": [
        5,
        7.5
       ]
      }
     },
     "44f766c5b641462fa7bc8d7178b264bf": {
      "model_module": "@jupyter-widgets/controls",
      "model_module_version": "1.0.0",
      "model_name": "DescriptionStyleModel",
      "state": {
       "description_width": ""
      }
     },
     "450070ff643945ee8fd644ded1549bcb": {
      "model_module": "@jupyter-widgets/controls",
      "model_module_version": "1.0.0",
      "model_name": "TextModel",
      "state": {
       "layout": "IPY_MODEL_2aad977191b44fb9a25a736cc5829f75",
       "style": "IPY_MODEL_e70aeb9915304a7ba19d32a6bf4081dd"
      }
     },
     "4521a95812714511badf8e793fb3ac85": {
      "model_module": "@jupyter-widgets/controls",
      "model_module_version": "1.0.0",
      "model_name": "DescriptionStyleModel",
      "state": {
       "description_width": ""
      }
     },
     "466d571f5f6f49018a6f721d561d930e": {
      "model_module": "@jupyter-widgets/controls",
      "model_module_version": "1.0.0",
      "model_name": "TextModel",
      "state": {
       "description": "P2",
       "layout": "IPY_MODEL_a3cf220852f54253b50f9aa4f43b881c",
       "style": "IPY_MODEL_ccdd062c507644a38eafe7cb736b8ab2"
      }
     },
     "474e4887b3804400b2e8b16f81dab607": {
      "model_module": "@jupyter-widgets/base",
      "model_module_version": "1.0.0",
      "model_name": "LayoutModel",
      "state": {}
     },
     "4845e579fad649d986d2474d8252a825": {
      "model_module": "@jupyter-widgets/controls",
      "model_module_version": "1.0.0",
      "model_name": "DescriptionStyleModel",
      "state": {
       "description_width": ""
      }
     },
     "48aca8ec846a47dcb8199144d58d6b7e": {
      "model_module": "@jupyter-widgets/base",
      "model_module_version": "1.0.0",
      "model_name": "LayoutModel",
      "state": {}
     },
     "4981d257664c4fe79473f1a7a999d6cd": {
      "model_module": "@jupyter-widgets/base",
      "model_module_version": "1.0.0",
      "model_name": "LayoutModel",
      "state": {}
     },
     "4aa67660f43e4c9f8c0fcd4ed80715a3": {
      "model_module": "@jupyter-widgets/base",
      "model_module_version": "1.0.0",
      "model_name": "LayoutModel",
      "state": {}
     },
     "4b74335d718043468ce07b99fca1f129": {
      "model_module": "@jupyter-widgets/controls",
      "model_module_version": "1.0.0",
      "model_name": "SelectionSliderModel",
      "state": {
       "_options_labels": [
        "scrambled",
        "sunny side up",
        "poached",
        "over easy"
       ],
       "continuous_update": false,
       "description": "I like my eggs ...",
       "index": 1,
       "layout": "IPY_MODEL_4017dc27575b41638ba6c2e4f41b1992",
       "style": "IPY_MODEL_180d46cb59854bacb0451fa48e0a746f"
      }
     },
     "5066b3bbdccd4009843bf1031950f12d": {
      "model_module": "@jupyter-widgets/controls",
      "model_module_version": "1.0.0",
      "model_name": "DescriptionStyleModel",
      "state": {
       "description_width": ""
      }
     },
     "50b43cd6edc5402bae52200aa764e244": {
      "model_module": "@jupyter-widgets/controls",
      "model_module_version": "1.0.0",
      "model_name": "TextModel",
      "state": {
       "description": "String:",
       "layout": "IPY_MODEL_3b253205a4e544a39798e8f4108b4feb",
       "placeholder": "Type something",
       "style": "IPY_MODEL_9bc8e4794a4a4847a50a44fd190345d3",
       "value": "Hello World"
      }
     },
     "55929ff04cb94746ac894227585a6bab": {
      "model_module": "@jupyter-widgets/controls",
      "model_module_version": "1.0.0",
      "model_name": "RadioButtonsModel",
      "state": {
       "_options_labels": [
        "pepperoni",
        "pineapple",
        "anchovies"
       ],
       "description": "Pizza topping:",
       "index": 0,
       "layout": "IPY_MODEL_2d64b1144b3a4101bcbfd785777125bd",
       "style": "IPY_MODEL_b09b1f4f57b1405bacd1794bb77da414"
      }
     },
     "570f9c4520004a5da8a5312c242dd64a": {
      "model_module": "@jupyter-widgets/controls",
      "model_module_version": "1.0.0",
      "model_name": "DescriptionStyleModel",
      "state": {
       "description_width": ""
      }
     },
     "58484636dd7f4de98346650d16f4a0cb": {
      "model_module": "@jupyter-widgets/base",
      "model_module_version": "1.0.0",
      "model_name": "LayoutModel",
      "state": {}
     },
     "594ed8bc40394b0192d63aadb7fae85b": {
      "model_module": "@jupyter-widgets/controls",
      "model_module_version": "1.0.0",
      "model_name": "IntTextModel",
      "state": {
       "description": "Any:",
       "layout": "IPY_MODEL_d53566b6791b4068adfbb05dfc37542b",
       "step": 1,
       "style": "IPY_MODEL_272a163713504232bf3ecfeb4817a992",
       "value": 7
      }
     },
     "5b63e849ede84a6c9ed4a64d6ea76500": {
      "model_module": "@jupyter-widgets/base",
      "model_module_version": "1.0.0",
      "model_name": "LayoutModel",
      "state": {}
     },
     "5b884d1012194e1fa919d4fdd67b4f7f": {
      "model_module": "@jupyter-widgets/controls",
      "model_module_version": "1.0.0",
      "model_name": "IntRangeSliderModel",
      "state": {
       "_model_name": "IntRangeSliderModel",
       "_view_name": "IntRangeSliderView",
       "continuous_update": false,
       "description": "Test:",
       "layout": "IPY_MODEL_8473b767f44b4a96a4b3e3893d45c9a5",
       "max": 10,
       "style": "IPY_MODEL_967e3e5fd2fa487f9973fd4e23ae1cde",
       "value": [
        5,
        7
       ]
      }
     },
     "5c2a82733b2c4697a339b8e70c1cf0d7": {
      "model_module": "@jupyter-widgets/controls",
      "model_module_version": "1.0.0",
      "model_name": "LabelModel",
      "state": {
       "layout": "IPY_MODEL_cf5dc248c6314cc19690781fd6d174d0",
       "style": "IPY_MODEL_946a5c251c464a96ab85d98485fde727",
       "value": "3"
      }
     },
     "5ccd25d357664504a695465878eb3b10": {
      "model_module": "@jupyter-widgets/controls",
      "model_module_version": "1.0.0",
      "model_name": "TabModel",
      "state": {
       "_titles": {
        "0": "An accordion",
        "1": "Copy of the accordion"
       },
       "children": [
        "IPY_MODEL_8d91a77bfcc349d5904c4118704dd9a4",
        "IPY_MODEL_8d91a77bfcc349d5904c4118704dd9a4"
       ],
       "layout": "IPY_MODEL_11eb8e2d33354913bb0b3ae8a8360a62"
      }
     },
     "5fff17adac4e4dc0a3372bca5e8bdd9a": {
      "model_module": "@jupyter-widgets/controls",
      "model_module_version": "1.0.0",
      "model_name": "LabelModel",
      "state": {
       "layout": "IPY_MODEL_6c38a277b66b4b139dfe8339dc6b9953",
       "style": "IPY_MODEL_95b918719f6144c8af2ef0122c514e84",
       "value": "1"
      }
     },
     "6065a18df0d64652a5f44745994d3b2c": {
      "model_module": "@jupyter-widgets/controls",
      "model_module_version": "1.0.0",
      "model_name": "HBoxModel",
      "state": {
       "children": [
        "IPY_MODEL_7c03cae23eea478e9afd4b279d1de230",
        "IPY_MODEL_6706c2c576024590a28077f3f0e2e5fa",
        "IPY_MODEL_86ac365801704183b149221c4c69ba93",
        "IPY_MODEL_19f7f65a07cf4edca7a3b85e920ca4b6"
       ],
       "layout": "IPY_MODEL_58484636dd7f4de98346650d16f4a0cb"
      }
     },
     "6403c6cd5c8b498ca96780d1a54bd59d": {
      "model_module": "@jupyter-widgets/base",
      "model_module_version": "1.0.0",
      "model_name": "LayoutModel",
      "state": {}
     },
     "65eeefb571a84aa58c97ccef0b7ee430": {
      "model_module": "@jupyter-widgets/controls",
      "model_module_version": "1.0.0",
      "model_name": "DescriptionStyleModel",
      "state": {
       "description_width": ""
      }
     },
     "6706c2c576024590a28077f3f0e2e5fa": {
      "model_module": "@jupyter-widgets/controls",
      "model_module_version": "1.0.0",
      "model_name": "LabelModel",
      "state": {
       "layout": "IPY_MODEL_ea8e003b943748fdb46f53be79c9be91",
       "style": "IPY_MODEL_8eca1e95897c4648b916d74219c6e1b1",
       "value": "1"
      }
     },
     "681badd202664c2ebb5247ab3c12ac2b": {
      "model_module": "@jupyter-widgets/base",
      "model_module_version": "1.0.0",
      "model_name": "LayoutModel",
      "state": {}
     },
     "6856509064f74a0592015f0b994936e1": {
      "model_module": "@jupyter-widgets/controls",
      "model_module_version": "1.0.0",
      "model_name": "LabelModel",
      "state": {
       "layout": "IPY_MODEL_926f9ad5929d40ef9b12b65aeeec3e18",
       "style": "IPY_MODEL_6e09c9e376ca498b9365203c77c5e113",
       "value": "2"
      }
     },
     "68835d2dbce74484b7c8d6478c746e41": {
      "model_module": "@jupyter-widgets/controls",
      "model_module_version": "1.0.0",
      "model_name": "PlayModel",
      "state": {
       "description": "Press play",
       "layout": "IPY_MODEL_7b869f4411534738bbb5658e8ba4031c",
       "style": "IPY_MODEL_8f85f5f60ad14e599f6bfe13c8705a2f",
       "value": 50
      }
     },
     "6aab72bf708d4dc0b31f326db946e06a": {
      "model_module": "@jupyter-widgets/base",
      "model_module_version": "1.0.0",
      "model_name": "LayoutModel",
      "state": {}
     },
     "6b2d67f38aed4d7094266028b2984197": {
      "model_module": "@jupyter-widgets/base",
      "model_module_version": "1.0.0",
      "model_name": "LayoutModel",
      "state": {}
     },
     "6bd826e68d6f4fa7928aebb8311422e4": {
      "model_module": "@jupyter-widgets/controls",
      "model_module_version": "1.0.0",
      "model_name": "SliderStyleModel",
      "state": {
       "description_width": ""
      }
     },
     "6c38a277b66b4b139dfe8339dc6b9953": {
      "model_module": "@jupyter-widgets/base",
      "model_module_version": "1.0.0",
      "model_name": "LayoutModel",
      "state": {}
     },
     "6d1adb85bd204a5eba71f75b9eec388f": {
      "model_module": "@jupyter-widgets/controls",
      "model_module_version": "1.0.0",
      "model_name": "HBoxModel",
      "state": {
       "children": [
        "IPY_MODEL_fe7f6036d45646488689fc5ae3d77963",
        "IPY_MODEL_436bf55470ae44459c5822143804e091"
       ],
       "layout": "IPY_MODEL_b512427abbb9431d95b9f8af0012828b"
      }
     },
     "6e09c9e376ca498b9365203c77c5e113": {
      "model_module": "@jupyter-widgets/controls",
      "model_module_version": "1.0.0",
      "model_name": "DescriptionStyleModel",
      "state": {
       "description_width": ""
      }
     },
     "6e27340506af44e8b2f1bb25a8522bda": {
      "model_module": "@jupyter-widgets/controls",
      "model_module_version": "1.0.0",
      "model_name": "ToggleButtonModel",
      "state": {
       "description": "Click me",
       "icon": "check",
       "layout": "IPY_MODEL_8bd0462243194ff282a67719b0612968",
       "style": "IPY_MODEL_80337ac481294ac08a9db3a4cbeb72e1",
       "tooltip": "Description"
      }
     },
     "6e609174592e4f5181ffe0dcddd38430": {
      "model_module": "@jupyter-widgets/controls",
      "model_module_version": "1.0.0",
      "model_name": "DescriptionStyleModel",
      "state": {
       "description_width": ""
      }
     },
     "7646344abe9541baa5cfdcc22a56655a": {
      "model_module": "@jupyter-widgets/controls",
      "model_module_version": "1.0.0",
      "model_name": "TextModel",
      "state": {
       "description": "P3",
       "layout": "IPY_MODEL_4981d257664c4fe79473f1a7a999d6cd",
       "style": "IPY_MODEL_05dd075f9fdb424c95356871a054a93a"
      }
     },
     "770221448e384a47aafad0ba9424afd3": {
      "model_module": "@jupyter-widgets/controls",
      "model_module_version": "1.0.0",
      "model_name": "ColorPickerModel",
      "state": {
       "description": "Pick a color",
       "disabled": false,
       "layout": "IPY_MODEL_4aa67660f43e4c9f8c0fcd4ed80715a3",
       "style": "IPY_MODEL_7f98262b6ada4eac98047262c604d9aa",
       "value": "blue"
      }
     },
     "772dfdb4dc784aecb7fb1d72c4f15dfe": {
      "model_module": "@jupyter-widgets/base",
      "model_module_version": "1.0.0",
      "model_name": "LayoutModel",
      "state": {}
     },
     "79e543480ea149d6a4ceb40c8adaf0ab": {
      "model_module": "@jupyter-widgets/controls",
      "model_module_version": "1.0.0",
      "model_name": "SelectMultipleModel",
      "state": {
       "_options_labels": [
        "Apples",
        "Oranges",
        "Pears"
       ],
       "description": "Fruits",
       "index": [
        1
       ],
       "layout": "IPY_MODEL_6aab72bf708d4dc0b31f326db946e06a",
       "rows": 5,
       "style": "IPY_MODEL_89122390cc814ac0b182f024cc63ba04"
      }
     },
     "7a0ff3db8f0a4a1db837e22419c23825": {
      "model_module": "@jupyter-widgets/base",
      "model_module_version": "1.0.0",
      "model_name": "LayoutModel",
      "state": {}
     },
     "7b07b08994c0409da6a5ee7de26cc4ca": {
      "model_module": "@jupyter-widgets/base",
      "model_module_version": "1.0.0",
      "model_name": "LayoutModel",
      "state": {}
     },
     "7b869f4411534738bbb5658e8ba4031c": {
      "model_module": "@jupyter-widgets/base",
      "model_module_version": "1.0.0",
      "model_name": "LayoutModel",
      "state": {}
     },
     "7c03cae23eea478e9afd4b279d1de230": {
      "model_module": "@jupyter-widgets/controls",
      "model_module_version": "1.0.0",
      "model_name": "LabelModel",
      "state": {
       "layout": "IPY_MODEL_adea11f461854821bb0722d12a500289",
       "style": "IPY_MODEL_4301e3b430c54e428aa5826368515bb1",
       "value": "0"
      }
     },
     "7c81902326ab41ba9dc0ab245d40747b": {
      "model_module": "@jupyter-widgets/base",
      "model_module_version": "1.0.0",
      "model_name": "LayoutModel",
      "state": {}
     },
     "7ceefe6080274b3db18b7a64c8287aa0": {
      "model_module": "@jupyter-widgets/controls",
      "model_module_version": "1.0.0",
      "model_name": "DropdownModel",
      "state": {
       "_options_labels": [
        "One",
        "Two",
        "Three"
       ],
       "description": "Number:",
       "index": 1,
       "layout": "IPY_MODEL_3ff4730fe5be428e85ccd9c6b77fff76",
       "style": "IPY_MODEL_a890b9a9cab2453ba4c0629c32bc59ce"
      }
     },
     "7f6e53c41d584e388abea17400b3a8b2": {
      "model_module": "@jupyter-widgets/controls",
      "model_module_version": "1.0.0",
      "model_name": "SliderStyleModel",
      "state": {
       "description_width": ""
      }
     },
     "7f98262b6ada4eac98047262c604d9aa": {
      "model_module": "@jupyter-widgets/controls",
      "model_module_version": "1.0.0",
      "model_name": "DescriptionStyleModel",
      "state": {
       "description_width": ""
      }
     },
     "80337ac481294ac08a9db3a4cbeb72e1": {
      "model_module": "@jupyter-widgets/controls",
      "model_module_version": "1.0.0",
      "model_name": "DescriptionStyleModel",
      "state": {
       "description_width": ""
      }
     },
     "822668978e7e457a99a6309ffbbe78d9": {
      "model_module": "@jupyter-widgets/base",
      "model_module_version": "1.0.0",
      "model_name": "LayoutModel",
      "state": {}
     },
     "8473b767f44b4a96a4b3e3893d45c9a5": {
      "model_module": "@jupyter-widgets/base",
      "model_module_version": "1.0.0",
      "model_name": "LayoutModel",
      "state": {}
     },
     "851561d68e084e7e9ab148b0b2335428": {
      "model_module": "@jupyter-widgets/base",
      "model_module_version": "1.0.0",
      "model_name": "LayoutModel",
      "state": {}
     },
     "8571dd1a9c77473ebd115fdb68cc1113": {
      "model_module": "@jupyter-widgets/controls",
      "model_module_version": "1.0.0",
      "model_name": "HBoxModel",
      "state": {
       "children": [
        "IPY_MODEL_b9da968bce34427783767c94e8f75bb9",
        "IPY_MODEL_26c764f3ad73430e9b3f58db1a05cb1b"
       ],
       "layout": "IPY_MODEL_0003bd8881b545ad8fb141d18645c7a9"
      }
     },
     "86111472ed374ea5908db6e6ac508630": {
      "model_module": "@jupyter-widgets/controls",
      "model_module_version": "1.0.0",
      "model_name": "LinkModel",
      "state": {
       "source": [
        "IPY_MODEL_68835d2dbce74484b7c8d6478c746e41",
        "value"
       ],
       "target": [
        "IPY_MODEL_09c2d1294b1d48ea96982a307a53f529",
        "value"
       ]
      }
     },
     "86ac365801704183b149221c4c69ba93": {
      "model_module": "@jupyter-widgets/controls",
      "model_module_version": "1.0.0",
      "model_name": "LabelModel",
      "state": {
       "layout": "IPY_MODEL_6b2d67f38aed4d7094266028b2984197",
       "style": "IPY_MODEL_4521a95812714511badf8e793fb3ac85",
       "value": "2"
      }
     },
     "8851586a96234482b1c764d2cbdbd3c8": {
      "model_module": "@jupyter-widgets/controls",
      "model_module_version": "1.0.0",
      "model_name": "DescriptionStyleModel",
      "state": {
       "description_width": ""
      }
     },
     "88a5f5f11fe64014a4445656f79aa5ed": {
      "model_module": "@jupyter-widgets/base",
      "model_module_version": "1.0.0",
      "model_name": "LayoutModel",
      "state": {}
     },
     "89122390cc814ac0b182f024cc63ba04": {
      "model_module": "@jupyter-widgets/controls",
      "model_module_version": "1.0.0",
      "model_name": "DescriptionStyleModel",
      "state": {
       "description_width": ""
      }
     },
     "8bd0462243194ff282a67719b0612968": {
      "model_module": "@jupyter-widgets/base",
      "model_module_version": "1.0.0",
      "model_name": "LayoutModel",
      "state": {}
     },
     "8bda6084c3564f5499698c25a310d0dd": {
      "model_module": "@jupyter-widgets/controls",
      "model_module_version": "1.0.0",
      "model_name": "DescriptionStyleModel",
      "state": {
       "description_width": ""
      }
     },
     "8d91a77bfcc349d5904c4118704dd9a4": {
      "model_module": "@jupyter-widgets/controls",
      "model_module_version": "1.0.0",
      "model_name": "AccordionModel",
      "state": {
       "_titles": {
        "0": "Slider",
        "1": "Text"
       },
       "children": [
        "IPY_MODEL_f9ef62620cf6443a8ad1245e535c7c39",
        "IPY_MODEL_450070ff643945ee8fd644ded1549bcb"
       ],
       "layout": "IPY_MODEL_2bc4900e6dfd45d48e4eac9c218103b5",
       "selected_index": null
      }
     },
     "8ec3608759db4e51b353aae740a546fe": {
      "model_module": "@jupyter-widgets/controls",
      "model_module_version": "1.0.0",
      "model_name": "DescriptionStyleModel",
      "state": {
       "description_width": ""
      }
     },
     "8eca1e95897c4648b916d74219c6e1b1": {
      "model_module": "@jupyter-widgets/controls",
      "model_module_version": "1.0.0",
      "model_name": "DescriptionStyleModel",
      "state": {
       "description_width": ""
      }
     },
     "8f85f5f60ad14e599f6bfe13c8705a2f": {
      "model_module": "@jupyter-widgets/controls",
      "model_module_version": "1.0.0",
      "model_name": "DescriptionStyleModel",
      "state": {
       "description_width": ""
      }
     },
     "90da5d5271124591b7c9f293eedf4ea1": {
      "model_module": "@jupyter-widgets/controls",
      "model_module_version": "1.0.0",
      "model_name": "DescriptionStyleModel",
      "state": {
       "description_width": ""
      }
     },
     "91cc0d2a3abf4fe3b225ed614113cc92": {
      "model_module": "@jupyter-widgets/base",
      "model_module_version": "1.0.0",
      "model_name": "LayoutModel",
      "state": {}
     },
     "922ae8e7c80b4f0f88916599d912a589": {
      "model_module": "@jupyter-widgets/controls",
      "model_module_version": "1.0.0",
      "model_name": "IntSliderModel",
      "state": {
       "continuous_update": false,
       "description": "Test:",
       "layout": "IPY_MODEL_a5e78c7a354649f79209b7a3ef3413eb",
       "max": 10,
       "style": "IPY_MODEL_6bd826e68d6f4fa7928aebb8311422e4",
       "value": 7
      }
     },
     "926f9ad5929d40ef9b12b65aeeec3e18": {
      "model_module": "@jupyter-widgets/base",
      "model_module_version": "1.0.0",
      "model_name": "LayoutModel",
      "state": {}
     },
     "927121ff22a64ad9bb23ff7bea7d62fa": {
      "model_module": "@jupyter-widgets/base",
      "model_module_version": "1.0.0",
      "model_name": "LayoutModel",
      "state": {}
     },
     "946a5c251c464a96ab85d98485fde727": {
      "model_module": "@jupyter-widgets/controls",
      "model_module_version": "1.0.0",
      "model_name": "DescriptionStyleModel",
      "state": {
       "description_width": ""
      }
     },
     "95b918719f6144c8af2ef0122c514e84": {
      "model_module": "@jupyter-widgets/controls",
      "model_module_version": "1.0.0",
      "model_name": "DescriptionStyleModel",
      "state": {
       "description_width": ""
      }
     },
     "960df785cc2b4d129bcd9008e834f17d": {
      "model_module": "@jupyter-widgets/controls",
      "model_module_version": "1.0.0",
      "model_name": "ProgressStyleModel",
      "state": {
       "description_width": ""
      }
     },
     "967e3e5fd2fa487f9973fd4e23ae1cde": {
      "model_module": "@jupyter-widgets/controls",
      "model_module_version": "1.0.0",
      "model_name": "SliderStyleModel",
      "state": {
       "description_width": ""
      }
     },
     "9bc8e4794a4a4847a50a44fd190345d3": {
      "model_module": "@jupyter-widgets/controls",
      "model_module_version": "1.0.0",
      "model_name": "DescriptionStyleModel",
      "state": {
       "description_width": ""
      }
     },
     "a3cf220852f54253b50f9aa4f43b881c": {
      "model_module": "@jupyter-widgets/base",
      "model_module_version": "1.0.0",
      "model_name": "LayoutModel",
      "state": {}
     },
     "a5e78c7a354649f79209b7a3ef3413eb": {
      "model_module": "@jupyter-widgets/base",
      "model_module_version": "1.0.0",
      "model_name": "LayoutModel",
      "state": {}
     },
     "a6caf10f0e7b4559abab415043731a08": {
      "model_module": "@jupyter-widgets/controls",
      "model_module_version": "1.0.0",
      "model_name": "HTMLMathModel",
      "state": {
       "description": "Some HTML",
       "layout": "IPY_MODEL_c30c321443f84697a8382ba9a2b30933",
       "placeholder": "Some HTML",
       "style": "IPY_MODEL_90da5d5271124591b7c9f293eedf4ea1",
       "value": "Some math and <i>HTML</i>: \\(x^2\\) and $$\\frac{x+1}{x-1}$$"
      }
     },
     "a70f88798dd64a0eb440ac9280460b71": {
      "model_module": "@jupyter-widgets/output",
      "model_module_version": "1.0.0",
      "model_name": "OutputModel",
      "state": {
       "layout": "IPY_MODEL_88a5f5f11fe64014a4445656f79aa5ed",
       "outputs": [
        {
         "name": "stdout",
         "output_type": "stream",
         "text": "0 Hello world!\n1 Hello world!\n2 Hello world!\n3 Hello world!\n4 Hello world!\n5 Hello world!\n6 Hello world!\n7 Hello world!\n8 Hello world!\n9 Hello world!\n"
        },
        {
         "data": {
          "image/jpeg": "/9j/4AAQSkZJRgABAQAAAQABAAD/2wCEABALDA4MChAODQ4SERATGCgaGBYWGDEjJR0oOjM9PDkz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\nAAAAAAAAAAAAAAAAB//Z\n",
          "text/html": "\n        <iframe\n            width=\"400\"\n            height=\"300\"\n            src=\"https://www.youtube.com/embed/eWzY2nGfkXk\"\n            frameborder=\"0\"\n            allowfullscreen\n        ></iframe>\n        ",
          "text/plain": "<IPython.lib.display.YouTubeVideo at 0x1073d1f60>"
         },
         "metadata": {},
         "output_type": "display_data"
        }
       ]
      }
     },
     "a890b9a9cab2453ba4c0629c32bc59ce": {
      "model_module": "@jupyter-widgets/controls",
      "model_module_version": "1.0.0",
      "model_name": "DescriptionStyleModel",
      "state": {
       "description_width": ""
      }
     },
     "aa0795c526bb4960a2cf4533ebc6f811": {
      "model_module": "@jupyter-widgets/base",
      "model_module_version": "1.0.0",
      "model_name": "LayoutModel",
      "state": {}
     },
     "ac7af961026640a59d751c614dffa0d7": {
      "model_module": "@jupyter-widgets/base",
      "model_module_version": "1.0.0",
      "model_name": "LayoutModel",
      "state": {}
     },
     "adccb79d75264db3b6941f056d9282ff": {
      "model_module": "@jupyter-widgets/controls",
      "model_module_version": "1.0.0",
      "model_name": "BoundedIntTextModel",
      "state": {
       "description": "Text:",
       "layout": "IPY_MODEL_18e9b06c0d824dd697826754af6aa889",
       "max": 10,
       "style": "IPY_MODEL_1e8cb22616f14fbdb570d965d017aab0",
       "value": 7
      }
     },
     "adea11f461854821bb0722d12a500289": {
      "model_module": "@jupyter-widgets/base",
      "model_module_version": "1.0.0",
      "model_name": "LayoutModel",
      "state": {}
     },
     "b09b1f4f57b1405bacd1794bb77da414": {
      "model_module": "@jupyter-widgets/controls",
      "model_module_version": "1.0.0",
      "model_name": "DescriptionStyleModel",
      "state": {
       "description_width": ""
      }
     },
     "b0c31a8ea5414dc8b51c235f9651427e": {
      "model_module": "@jupyter-widgets/base",
      "model_module_version": "1.0.0",
      "model_name": "LayoutModel",
      "state": {}
     },
     "b2590573c9414109bdb7e22c3da3177b": {
      "model_module": "@jupyter-widgets/base",
      "model_module_version": "1.0.0",
      "model_name": "LayoutModel",
      "state": {}
     },
     "b512427abbb9431d95b9f8af0012828b": {
      "model_module": "@jupyter-widgets/base",
      "model_module_version": "1.0.0",
      "model_name": "LayoutModel",
      "state": {}
     },
     "b678f4cf881543bab5dff3ec8692c0fa": {
      "model_module": "@jupyter-widgets/controls",
      "model_module_version": "1.0.0",
      "model_name": "DescriptionStyleModel",
      "state": {
       "description_width": ""
      }
     },
     "b8d5907b1bdf484e80bebe9416d1cfb3": {
      "model_module": "@jupyter-widgets/base",
      "model_module_version": "1.0.0",
      "model_name": "LayoutModel",
      "state": {}
     },
     "b9da968bce34427783767c94e8f75bb9": {
      "model_module": "@jupyter-widgets/controls",
      "model_module_version": "1.0.0",
      "model_name": "VBoxModel",
      "state": {
       "children": [
        "IPY_MODEL_cfd9ee058b4c4db2af82c175663dece5",
        "IPY_MODEL_f33e8a20db0a472e84b997ef0ac7478a"
       ],
       "layout": "IPY_MODEL_91cc0d2a3abf4fe3b225ed614113cc92"
      }
     },
     "bb01c4cd36c04ca5908521fd787a71c6": {
      "model_module": "@jupyter-widgets/controls",
      "model_module_version": "1.0.0",
      "model_name": "ProgressStyleModel",
      "state": {
       "description_width": ""
      }
     },
     "bdf41e039ca54d799b172276f43c9c73": {
      "model_module": "@jupyter-widgets/base",
      "model_module_version": "1.0.0",
      "model_name": "LayoutModel",
      "state": {}
     },
     "bec846a60fe24aa7b6f0fc84d8c8e5df": {
      "model_module": "@jupyter-widgets/controls",
      "model_module_version": "1.0.0",
      "model_name": "LabelModel",
      "state": {
       "layout": "IPY_MODEL_ff9b8499306e44799df6b1f3a7a7aeab",
       "style": "IPY_MODEL_db15d51f079e44c1af4ff4b56e922f88",
       "value": "0"
      }
     },
     "c14c0e98885d49058ef7c5b6c205bfd8": {
      "model_module": "@jupyter-widgets/base",
      "model_module_version": "1.0.0",
      "model_name": "LayoutModel",
      "state": {}
     },
     "c1d9753dd2a24a40ac58ac972e441a76": {
      "model_module": "@jupyter-widgets/controls",
      "model_module_version": "1.0.0",
      "model_name": "SliderStyleModel",
      "state": {
       "description_width": ""
      }
     },
     "c30c321443f84697a8382ba9a2b30933": {
      "model_module": "@jupyter-widgets/base",
      "model_module_version": "1.0.0",
      "model_name": "LayoutModel",
      "state": {}
     },
     "c324d0c41a624a4a999a9c8f3ba6df68": {
      "model_module": "@jupyter-widgets/controls",
      "model_module_version": "1.0.0",
      "model_name": "FloatProgressModel",
      "state": {
       "bar_style": "info",
       "description": "Loading:",
       "layout": "IPY_MODEL_ac7af961026640a59d751c614dffa0d7",
       "max": 10,
       "style": "IPY_MODEL_960df785cc2b4d129bcd9008e834f17d",
       "value": 7.5
      }
     },
     "c33187b97fc3496484ebe966f9929565": {
      "model_module": "@jupyter-widgets/base",
      "model_module_version": "1.0.0",
      "model_name": "LayoutModel",
      "state": {}
     },
     "c93c66689bfd42958f881476651072f8": {
      "model_module": "@jupyter-widgets/base",
      "model_module_version": "1.0.0",
      "model_name": "LayoutModel",
      "state": {}
     },
     "ca41b26e798c44dd8e9993c988bb8e4a": {
      "model_module": "@jupyter-widgets/controls",
      "model_module_version": "1.0.0",
      "model_name": "ToggleButtonsModel",
      "state": {
       "_options_labels": [
        "Slow",
        "Regular",
        "Fast"
       ],
       "button_style": "",
       "description": "Speed:",
       "icons": [],
       "index": 0,
       "layout": "IPY_MODEL_6403c6cd5c8b498ca96780d1a54bd59d",
       "style": "IPY_MODEL_fa272f1a5f0a4d678aab4e43b298adc3",
       "tooltips": [
        "Description of slow",
        "Description of regular",
        "Description of fast"
       ]
      }
     },
     "ccdd062c507644a38eafe7cb736b8ab2": {
      "model_module": "@jupyter-widgets/controls",
      "model_module_version": "1.0.0",
      "model_name": "DescriptionStyleModel",
      "state": {
       "description_width": ""
      }
     },
     "cd17431a00f143b38bcd0fe4fe135df1": {
      "model_module": "@jupyter-widgets/controls",
      "model_module_version": "1.0.0",
      "model_name": "TextModel",
      "state": {
       "description": "P4",
       "layout": "IPY_MODEL_e8d014efb20f4513a4403d304c4e9168",
       "style": "IPY_MODEL_8851586a96234482b1c764d2cbdbd3c8"
      }
     },
     "cd886f33ed9348f1a36ce1b635d507a7": {
      "model_module": "@jupyter-widgets/controls",
      "model_module_version": "1.0.0",
      "model_name": "SliderStyleModel",
      "state": {
       "description_width": ""
      }
     },
     "cf5dc248c6314cc19690781fd6d174d0": {
      "model_module": "@jupyter-widgets/base",
      "model_module_version": "1.0.0",
      "model_name": "LayoutModel",
      "state": {}
     },
     "cfd9ee058b4c4db2af82c175663dece5": {
      "model_module": "@jupyter-widgets/controls",
      "model_module_version": "1.0.0",
      "model_name": "LabelModel",
      "state": {
       "layout": "IPY_MODEL_772dfdb4dc784aecb7fb1d72c4f15dfe",
       "style": "IPY_MODEL_8bda6084c3564f5499698c25a310d0dd",
       "value": "0"
      }
     },
     "d3590a9f39dc48da89cb648b571d26c9": {
      "model_module": "@jupyter-widgets/controls",
      "model_module_version": "1.0.0",
      "model_name": "TextModel",
      "state": {
       "description": "P0",
       "layout": "IPY_MODEL_203dc5460fa848fbac72ab9f6e360265",
       "style": "IPY_MODEL_ee122cdbe78540f2bc652ed0911e9da7"
      }
     },
     "d4e15f831b4d4fc194c330215f2b5433": {
      "model_module": "@jupyter-widgets/controls",
      "model_module_version": "1.0.0",
      "model_name": "FloatSliderModel",
      "state": {
       "continuous_update": false,
       "description": "Test:",
       "layout": "IPY_MODEL_48aca8ec846a47dcb8199144d58d6b7e",
       "max": 10,
       "readout_format": ".1f",
       "step": 0.1,
       "style": "IPY_MODEL_cd886f33ed9348f1a36ce1b635d507a7",
       "value": 7.5
      }
     },
     "d53566b6791b4068adfbb05dfc37542b": {
      "model_module": "@jupyter-widgets/base",
      "model_module_version": "1.0.0",
      "model_name": "LayoutModel",
      "state": {}
     },
     "d58522711a194316a0ce902c67c6e6fe": {
      "model_module": "@jupyter-widgets/controls",
      "model_module_version": "1.0.0",
      "model_name": "DescriptionStyleModel",
      "state": {
       "description_width": ""
      }
     },
     "d614b9280bcd46dab9cd5800558448d9": {
      "model_module": "@jupyter-widgets/controls",
      "model_module_version": "1.0.0",
      "model_name": "DropdownModel",
      "state": {
       "_options_labels": [
        "1",
        "2",
        "3"
       ],
       "description": "Number:",
       "index": 1,
       "layout": "IPY_MODEL_b2590573c9414109bdb7e22c3da3177b",
       "style": "IPY_MODEL_5066b3bbdccd4009843bf1031950f12d"
      }
     },
     "d7efea79fc884588b649229ff7d75763": {
      "model_module": "@jupyter-widgets/controls",
      "model_module_version": "1.0.0",
      "model_name": "BoundedFloatTextModel",
      "state": {
       "description": "Text:",
       "layout": "IPY_MODEL_681badd202664c2ebb5247ab3c12ac2b",
       "max": 10,
       "style": "IPY_MODEL_3226484b62eb47d1b5de58631885dcd3",
       "value": 7.5
      }
     },
     "d8225b7fc20446968e0d95052ebac7f1": {
      "model_module": "@jupyter-widgets/base",
      "model_module_version": "1.0.0",
      "model_name": "LayoutModel",
      "state": {}
     },
     "dafc1188aeb64df8a2f3a00b44420bf6": {
      "model_module": "@jupyter-widgets/controls",
      "model_module_version": "1.0.0",
      "model_name": "LabelModel",
      "state": {
       "layout": "IPY_MODEL_bdf41e039ca54d799b172276f43c9c73",
       "style": "IPY_MODEL_24941017437a46a0a916cf0c7dad1d17",
       "value": "2"
      }
     },
     "db15d51f079e44c1af4ff4b56e922f88": {
      "model_module": "@jupyter-widgets/controls",
      "model_module_version": "1.0.0",
      "model_name": "DescriptionStyleModel",
      "state": {
       "description_width": ""
      }
     },
     "dbdd90a3fc044541b3ba1043f44e7769": {
      "model_module": "@jupyter-widgets/controls",
      "model_module_version": "1.0.0",
      "model_name": "FloatTextModel",
      "state": {
       "description": "Any:",
       "layout": "IPY_MODEL_f68684f0be3d477488f3c3ba256e0b82",
       "step": null,
       "style": "IPY_MODEL_432045a32ab640459b97e44ebee05e53",
       "value": 7.5
      }
     },
     "e36f8d95340b485b916f62581d9d3de1": {
      "model_module": "@jupyter-widgets/base",
      "model_module_version": "1.0.0",
      "model_name": "LayoutModel",
      "state": {}
     },
     "e4a950e1529d48cfb13726a683eb0bbd": {
      "model_module": "@jupyter-widgets/controls",
      "model_module_version": "1.0.0",
      "model_name": "IntProgressModel",
      "state": {
       "description": "Loading:",
       "layout": "IPY_MODEL_c93c66689bfd42958f881476651072f8",
       "max": 10,
       "style": "IPY_MODEL_bb01c4cd36c04ca5908521fd787a71c6",
       "value": 7
      }
     },
     "e694c6ad7eab4ff080d9fe0084bfebfb": {
      "model_module": "@jupyter-widgets/controls",
      "model_module_version": "1.0.0",
      "model_name": "DescriptionStyleModel",
      "state": {
       "description_width": ""
      }
     },
     "e70aeb9915304a7ba19d32a6bf4081dd": {
      "model_module": "@jupyter-widgets/controls",
      "model_module_version": "1.0.0",
      "model_name": "DescriptionStyleModel",
      "state": {
       "description_width": ""
      }
     },
     "e72a32fae9854c079a1e95685330bcbd": {
      "model_module": "@jupyter-widgets/controls",
      "model_module_version": "1.0.0",
      "model_name": "SelectModel",
      "state": {
       "_options_labels": [
        "Linux",
        "Windows",
        "OSX"
       ],
       "description": "OS:",
       "index": 2,
       "layout": "IPY_MODEL_36c7ab780b3b4ff480a7182dcfc77122",
       "style": "IPY_MODEL_b678f4cf881543bab5dff3ec8692c0fa"
      }
     },
     "e74f4a3ca1e44eea8a3bd03e34fa3a1d": {
      "model_module": "@jupyter-widgets/controls",
      "model_module_version": "1.0.0",
      "model_name": "CheckboxModel",
      "state": {
       "description": "Check me",
       "disabled": false,
       "layout": "IPY_MODEL_b8d5907b1bdf484e80bebe9416d1cfb3",
       "style": "IPY_MODEL_4845e579fad649d986d2474d8252a825",
       "value": false
      }
     },
     "e8d014efb20f4513a4403d304c4e9168": {
      "model_module": "@jupyter-widgets/base",
      "model_module_version": "1.0.0",
      "model_name": "LayoutModel",
      "state": {}
     },
     "ea79e8a297894150b2ed674ea5fcacf1": {
      "model_module": "@jupyter-widgets/controls",
      "model_module_version": "1.0.0",
      "model_name": "HBoxModel",
      "state": {
       "children": [
        "IPY_MODEL_68835d2dbce74484b7c8d6478c746e41",
        "IPY_MODEL_09c2d1294b1d48ea96982a307a53f529"
       ],
       "layout": "IPY_MODEL_b0c31a8ea5414dc8b51c235f9651427e"
      }
     },
     "ea8e003b943748fdb46f53be79c9be91": {
      "model_module": "@jupyter-widgets/base",
      "model_module_version": "1.0.0",
      "model_name": "LayoutModel",
      "state": {}
     },
     "ec884ea2ed52440eba185a2c7574bf85": {
      "model_module": "@jupyter-widgets/controls",
      "model_module_version": "1.0.0",
      "model_name": "DatePickerModel",
      "state": {
       "description": "Pick a Date",
       "disabled": false,
       "layout": "IPY_MODEL_e36f8d95340b485b916f62581d9d3de1",
       "style": "IPY_MODEL_1367e79137ba4276ba7b01e7a060b692"
      }
     },
     "ee122cdbe78540f2bc652ed0911e9da7": {
      "model_module": "@jupyter-widgets/controls",
      "model_module_version": "1.0.0",
      "model_name": "DescriptionStyleModel",
      "state": {
       "description_width": ""
      }
     },
     "ee5d579b54d147b393fcac7ad793bbbf": {
      "model_module": "@jupyter-widgets/controls",
      "model_module_version": "1.0.0",
      "model_name": "ButtonModel",
      "state": {
       "description": "Click me",
       "icon": "check",
       "layout": "IPY_MODEL_7b07b08994c0409da6a5ee7de26cc4ca",
       "style": "IPY_MODEL_273c09b617a14151965da6956ef444fd",
       "tooltip": "Click me"
      }
     },
     "ef614689b281448290284f942b096597": {
      "model_module": "@jupyter-widgets/base",
      "model_module_version": "1.0.0",
      "model_name": "LayoutModel",
      "state": {}
     },
     "ef674bc6a53049fdac81eefc1fe97047": {
      "model_module": "@jupyter-widgets/base",
      "model_module_version": "1.0.0",
      "model_name": "LayoutModel",
      "state": {}
     },
     "efb3879e242e418cb35d4d87aea6a28a": {
      "model_module": "@jupyter-widgets/base",
      "model_module_version": "1.0.0",
      "model_name": "LayoutModel",
      "state": {}
     },
     "f2d2542a43bb483a9db9be579441d52a": {
      "model_module": "@jupyter-widgets/controls",
      "model_module_version": "1.0.0",
      "model_name": "DescriptionStyleModel",
      "state": {
       "description_width": ""
      }
     },
     "f33e8a20db0a472e84b997ef0ac7478a": {
      "model_module": "@jupyter-widgets/controls",
      "model_module_version": "1.0.0",
      "model_name": "LabelModel",
      "state": {
       "layout": "IPY_MODEL_003f197d4557427c834c6489193761c7",
       "style": "IPY_MODEL_f2d2542a43bb483a9db9be579441d52a",
       "value": "1"
      }
     },
     "f5996d4edf3643178abcea86d08162b6": {
      "model_module": "@jupyter-widgets/controls",
      "model_module_version": "1.0.0",
      "model_name": "HTMLModel",
      "state": {
       "description": "Some HTML",
       "layout": "IPY_MODEL_7c81902326ab41ba9dc0ab245d40747b",
       "placeholder": "Some HTML",
       "style": "IPY_MODEL_65eeefb571a84aa58c97ccef0b7ee430",
       "value": "Hello <b>World</b>"
      }
     },
     "f68684f0be3d477488f3c3ba256e0b82": {
      "model_module": "@jupyter-widgets/base",
      "model_module_version": "1.0.0",
      "model_name": "LayoutModel",
      "state": {}
     },
     "f9ef62620cf6443a8ad1245e535c7c39": {
      "model_module": "@jupyter-widgets/controls",
      "model_module_version": "1.0.0",
      "model_name": "IntSliderModel",
      "state": {
       "layout": "IPY_MODEL_851561d68e084e7e9ab148b0b2335428",
       "style": "IPY_MODEL_3473e172c4d749b4b057c3ffe5101d82"
      }
     },
     "fa272f1a5f0a4d678aab4e43b298adc3": {
      "model_module": "@jupyter-widgets/controls",
      "model_module_version": "1.0.0",
      "model_name": "ToggleButtonsStyleModel",
      "state": {
       "_model_module": "@jupyter-widgets/controls",
       "button_width": ""
      }
     },
     "fc995a82740e4c70b069b9784a04a5ce": {
      "model_module": "@jupyter-widgets/controls",
      "model_module_version": "1.0.0",
      "model_name": "ValidModel",
      "state": {
       "description": "Valid!",
       "layout": "IPY_MODEL_822668978e7e457a99a6309ffbbe78d9",
       "style": "IPY_MODEL_e694c6ad7eab4ff080d9fe0084bfebfb"
      }
     },
     "fe7f6036d45646488689fc5ae3d77963": {
      "model_module": "@jupyter-widgets/controls",
      "model_module_version": "1.0.0",
      "model_name": "LabelModel",
      "state": {
       "layout": "IPY_MODEL_28f8e8e2255a4829b11726a3ba22a2b4",
       "style": "IPY_MODEL_354ebe7264014f0f98c3d60e30e15131",
       "value": "The $m$ in $E=mc^2$:"
      }
     },
     "ff9b8499306e44799df6b1f3a7a7aeab": {
      "model_module": "@jupyter-widgets/base",
      "model_module_version": "1.0.0",
      "model_name": "LayoutModel",
      "state": {}
     }
    },
    "version_major": 2,
    "version_minor": 0
   }
  }
 },
 "nbformat": 4,
 "nbformat_minor": 2
}
