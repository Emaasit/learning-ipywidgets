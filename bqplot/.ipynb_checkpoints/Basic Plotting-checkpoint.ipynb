{
 "cells": [
  {
   "cell_type": "code",
   "execution_count": null,
   "metadata": {
    "collapsed": true,
    "deletable": true,
    "editable": true
   },
   "outputs": [],
   "source": [
    "import numpy as np\n",
    "from bqplot import *"
   ]
  },
  {
   "cell_type": "code",
   "execution_count": null,
   "metadata": {
    "collapsed": true,
    "deletable": true,
    "editable": true
   },
   "outputs": [],
   "source": [
    "size = 100\n",
    "scale = 100.\n",
    "np.random.seed(0)\n",
    "x_data = np.arange(size)\n",
    "y_data = np.cumsum(np.random.randn(size)  * scale)"
   ]
  },
  {
   "cell_type": "markdown",
   "metadata": {
    "deletable": true,
    "editable": true
   },
   "source": [
    "## Line Chart"
   ]
  },
  {
   "cell_type": "code",
   "execution_count": null,
   "metadata": {
    "collapsed": false,
    "deletable": true,
    "editable": true
   },
   "outputs": [],
   "source": [
    "x_sc = LinearScale()\n",
    "y_sc = LinearScale()\n",
    "\n",
    "ax_x = Axis(label='X', scale=x_sc, grid_lines='solid')\n",
    "ax_y = Axis(label='Y', scale=y_sc, orientation='vertical', grid_lines='solid')\n",
    "\n",
    "line = Lines(x=x_data, y=x_data, scales={'x': x_sc, 'y': y_sc})\n",
    "fig = Figure(axes=[ax_x, ax_y], marks=[line], title='First Example')\n",
    "fig"
   ]
  },
  {
   "cell_type": "markdown",
   "metadata": {
    "deletable": true,
    "editable": true
   },
   "source": [
    "This image can be saved by calling the `save_png` function of the `Figure` object:"
   ]
  },
  {
   "cell_type": "code",
   "execution_count": null,
   "metadata": {
    "collapsed": true,
    "deletable": true,
    "editable": true
   },
   "outputs": [],
   "source": [
    "fig.save_png()"
   ]
  },
  {
   "cell_type": "markdown",
   "metadata": {
    "deletable": true,
    "editable": true
   },
   "source": [
    "## Line Chart with dates as x data"
   ]
  },
  {
   "cell_type": "code",
   "execution_count": null,
   "metadata": {
    "collapsed": true,
    "deletable": true,
    "editable": true
   },
   "outputs": [],
   "source": [
    "dates = np.arange('2005-02', '2005-03', dtype='datetime64[D]')\n",
    "size = len(dates)\n",
    "prices = scale + 5 * np.cumsum(np.random.randn(size))"
   ]
  },
  {
   "cell_type": "code",
   "execution_count": null,
   "metadata": {
    "collapsed": false,
    "deletable": true,
    "editable": true
   },
   "outputs": [],
   "source": [
    "dt_x = DateScale()\n",
    "lin_y = LinearScale()\n",
    "\n",
    "x_ax = Axis(label='Date', scale=dt_x, tick_format='%b-%d', grid_lines='solid')\n",
    "x_ay = Axis(label=('Price'), scale=lin_y, orientation='vertical', tick_format='0.0f', grid_lines='solid')\n",
    "\n",
    "lc = Lines(x=dates, y=prices, scales={'x': dt_x, 'y': lin_y}, colors=['blue'])\n",
    "\n",
    "fig = Figure(marks=[lc], axes=[x_ax, x_ay], background_style={'fill': 'lightgreen'},\n",
    "            title_style={'font-size': '20px','fill': 'DarkOrange'}, title='Changing Styles')\n",
    "fig"
   ]
  },
  {
   "cell_type": "code",
   "execution_count": null,
   "metadata": {
    "collapsed": true,
    "deletable": true,
    "editable": true
   },
   "outputs": [],
   "source": [
    "fig.background_style = {'fill': 'Black'}"
   ]
  },
  {
   "cell_type": "markdown",
   "metadata": {
    "deletable": true,
    "editable": true
   },
   "source": [
    "## Scatter Chart"
   ]
  },
  {
   "cell_type": "code",
   "execution_count": null,
   "metadata": {
    "collapsed": false,
    "deletable": true,
    "editable": true
   },
   "outputs": [],
   "source": [
    "sc_x = LinearScale()\n",
    "sc_y = LinearScale()\n",
    "scatter = Scatter(x=x_data, y=y_data, scales={'x': sc_x, 'y': sc_y}, colors=['blue'])\n",
    "\n",
    "ax_x = Axis(label='Test X', scale=sc_x)\n",
    "ax_y = Axis(label='Test Y', scale=sc_y, orientation='vertical', tick_format='0.2f')\n",
    "\n",
    "Figure(axes=[ax_x, ax_y], marks=[scatter])"
   ]
  },
  {
   "cell_type": "markdown",
   "metadata": {
    "deletable": true,
    "editable": true
   },
   "source": [
    "## Histogram"
   ]
  },
  {
   "cell_type": "code",
   "execution_count": null,
   "metadata": {
    "collapsed": false,
    "deletable": true,
    "editable": true
   },
   "outputs": [],
   "source": [
    "scale_x = LinearScale()\n",
    "scale_y = LinearScale()\n",
    "hist = Hist(sample=y_data, scales={'sample': scale_x, 'count': scale_y})\n",
    "\n",
    "ax_x = Axis(label='X', scale=scale_x, tick_format='0.2f')\n",
    "ax_y = Axis(label='Y', scale=scale_y, orientation='vertical', grid_lines='solid')\n",
    "Figure(axes=[ax_x, ax_y], marks=[hist])"
   ]
  },
  {
   "cell_type": "markdown",
   "metadata": {
    "deletable": true,
    "editable": true
   },
   "source": [
    "## Bar Chart"
   ]
  },
  {
   "cell_type": "code",
   "execution_count": null,
   "metadata": {
    "collapsed": false,
    "deletable": true,
    "editable": true
   },
   "outputs": [],
   "source": [
    "sc_x1 = OrdinalScale()\n",
    "sc_y1 = LinearScale()\n",
    "\n",
    "bar_x = Axis(label='X', scale=sc_x1)\n",
    "bar_y = Axis(label='Y', scale=sc_y1, orientation='vertical', tick_format='0.0f', grid_lines='solid')\n",
    "bar_chart = Bars(x=['A', 'B', 'C', 'D', 'E', 'F', 'G', 'H', 'I', 'J', 'K', 'L', 'M', 'N', 'P', 'Q', 'R', 'S', 'T', 'U'],\n",
    "                 y=np.abs(y_data[:20]), scales={'x': sc_x1, 'y': sc_y1})\n",
    "\n",
    "Figure(axes=[bar_x, bar_y], marks=[bar_chart], padding_x=0)"
   ]
  }
 ],
 "metadata": {
  "anaconda-cloud": {},
  "kernelspec": {
   "display_name": "Python [default]",
   "language": "python",
   "name": "python3"
  },
  "language_info": {
   "codemirror_mode": {
    "name": "ipython",
    "version": 3
   },
   "file_extension": ".py",
   "mimetype": "text/x-python",
   "name": "python",
   "nbconvert_exporter": "python",
   "pygments_lexer": "ipython3",
   "version": "3.5.3"
  }
 },
 "nbformat": 4,
 "nbformat_minor": 1
}
