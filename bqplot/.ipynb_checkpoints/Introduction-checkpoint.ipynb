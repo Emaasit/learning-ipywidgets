{
 "cells": [
  {
   "cell_type": "markdown",
   "metadata": {},
   "source": [
    "# bqplot"
   ]
  },
  {
   "cell_type": "markdown",
   "metadata": {},
   "source": [
    "This notebook is meant to guide you through the first stages of using the `bqplot` visualization library. `bqplot` is a Grammar of Graphics based interactive visualization library for the Jupyter notebook where every single component of a plot is an interactive iPython widget. What this means is that even after a plot is drawn, you can change almost any aspect of it. This makes the creation of advanced Graphical User Interfaces attainable through just a few simple lines of Python code."
   ]
  },
  {
   "cell_type": "code",
   "execution_count": 1,
   "metadata": {
    "collapsed": true
   },
   "outputs": [],
   "source": [
    "# Let's begin by importing some libraries we'll need\n",
    "import numpy as np"
   ]
  },
  {
   "cell_type": "code",
   "execution_count": 2,
   "metadata": {
    "collapsed": true
   },
   "outputs": [],
   "source": [
    "# And creating some random data\n",
    "size = 100\n",
    "np.random.seed(0)\n",
    "x_data = np.arange(size)\n",
    "y_data = np.cumsum(np.random.randn(size)  * 100.0)"
   ]
  },
  {
   "cell_type": "markdown",
   "metadata": {},
   "source": [
    "## Your First Plot"
   ]
  },
  {
   "cell_type": "markdown",
   "metadata": {},
   "source": [
    "Let's start by creating a simple Line chart. `bqplot` has two different APIs, the first one is a `matplotlib` inspired simple API called `pyplot`. So let's import that."
   ]
  },
  {
   "cell_type": "code",
   "execution_count": 3,
   "metadata": {
    "collapsed": true
   },
   "outputs": [],
   "source": [
    "from bqplot import pyplot as plt"
   ]
  },
  {
   "cell_type": "markdown",
   "metadata": {},
   "source": [
    "Let's plot `y_data` against `x_data`, and then `show` the plot."
   ]
  },
  {
   "cell_type": "code",
   "execution_count": 4,
   "metadata": {},
   "outputs": [
    {
     "data": {
      "application/vnd.jupyter.widget-view+json": {
       "model_id": "6e218665268343e89b32e51b63439bd7",
       "version_major": 2,
       "version_minor": 0
      },
      "text/html": [
       "<p>Failed to display Jupyter Widget of type <code>VBox</code>.</p>\n",
       "<p>\n",
       "  If you're reading this message in the Jupyter Notebook or JupyterLab Notebook, it may mean\n",
       "  that the widgets JavaScript is still loading. If this message persists, it\n",
       "  likely means that the widgets JavaScript library is either not installed or\n",
       "  not enabled. See the <a href=\"https://ipywidgets.readthedocs.io/en/stable/user_install.html\">Jupyter\n",
       "  Widgets Documentation</a> for setup instructions.\n",
       "</p>\n",
       "<p>\n",
       "  If you're reading this message in another frontend (for example, a static\n",
       "  rendering on GitHub or <a href=\"https://nbviewer.jupyter.org/\">NBViewer</a>),\n",
       "  it may mean that your frontend doesn't currently support widgets.\n",
       "</p>\n"
      ],
      "text/plain": [
       "VBox(children=(Figure(axes=[Axis(scale=LinearScale()), Axis(orientation='vertical', scale=LinearScale())], fig_margin={'top': 60, 'bottom': 60, 'left': 60, 'right': 60}, layout=Layout(min_width='125px'), marks=[Lines(colors=['#1f77b4', '#ff7f0e', '#2ca02c', '#d62728', '#9467bd', '#8c564b', '#e377c2', '#7f7f7f', '#bcbd22', '#17becf'], interactions={'hover': 'tooltip'}, scales={'x': LinearScale(), 'y': LinearScale()}, scales_metadata={'x': {'orientation': 'horizontal', 'dimension': 'x'}, 'y': {'orientation': 'vertical', 'dimension': 'y'}, 'color': {'dimension': 'color'}}, tooltip_style={'opacity': 0.9}, x=array([ 0,  1,  2,  3,  4,  5,  6,  7,  8,  9, 10, 11, 12, 13, 14, 15, 16,\n",
       "       17, 18, 19, 20, 21, 22, 23, 24, 25, 26, 27, 28, 29, 30, 31, 32, 33,\n",
       "       34, 35, 36, 37, 38, 39, 40, 41, 42, 43, 44, 45, 46, 47, 48, 49, 50,\n",
       "       51, 52, 53, 54, 55, 56, 57, 58, 59, 60, 61, 62, 63, 64, 65, 66, 67,\n",
       "       68, 69, 70, 71, 72, 73, 74, 75, 76, 77, 78, 79, 80, 81, 82, 83, 84,\n",
       "       85, 86, 87, 88, 89, 90, 91, 92, 93, 94, 95, 96, 97, 98, 99]), y=array([  176.4052346 ,   216.42095543,   314.29475384,   538.38407376,\n",
       "         725.13987278,   627.41208479,   722.42092654,   707.28520571,\n",
       "         696.96332053,   738.02317073,   752.42752784,   897.85487854,\n",
       "         973.95865106,   986.12615271,  1030.51247598,  1063.87990872,\n",
       "        1213.28781603,  1192.77198966,  1224.07875982,  1138.66918589,\n",
       "         883.37020431,   948.73206385,  1035.17568374,   960.9591817 ,\n",
       "        1187.9346441 ,  1042.49807664,  1047.07392837,  1028.35554336,\n",
       "        1181.6334648 ,  1328.56934179,  1344.06408436,  1381.88033632,\n",
       "        1293.10176156,  1095.02211473,  1060.2308998 ,  1075.86579671,\n",
       "        1198.89486478,  1319.13284966,  1280.40016792,  1250.16989286,\n",
       "        1145.31459636,  1003.31280264,   832.68578358,  1027.7633231 ,\n",
       "         976.79810493,   932.99067476,   807.71113876,   885.46017434,\n",
       "         724.07038959,   702.79636157,   613.24970545,   651.93995523,\n",
       "         600.85944148,   482.79622306,   479.97800023,   522.81118728,\n",
       "         529.46290952,   559.71009929,   496.27788993,   460.00377333,\n",
       "         392.75772855,   356.8024124 ,   275.48778419,   102.85952396,\n",
       "         120.60213818,    80.42404456,   -82.59579013,   -36.31756458,\n",
       "        -127.04740102,  -121.85286144,   -48.94380522,   -36.04551415,\n",
       "          77.89455431,   -45.58802773,    -5.35386361,   -73.8348727 ,\n",
       "        -160.91458762,  -218.7995541 ,  -249.95480731,  -244.33827309,\n",
       "        -360.85325717,  -270.77060847,  -224.2043645 ,  -377.82873313,\n",
       "        -229.00351375,   -39.41459614,    78.46336097,    60.47087739,\n",
       "         -46.60438476,    58.84078793,    18.52309324,   140.76760027,\n",
       "         161.59509808,   259.25900173,   294.89564145,   365.55295827,\n",
       "         366.60296034,   545.19000973,   557.881219  ,   598.08015534]))], scale_x=LinearScale(allow_padding=False, max=1.0, min=0.0), scale_y=LinearScale(allow_padding=False, max=1.0, min=0.0), title='My First Plot'), Toolbar(figure=Figure(axes=[Axis(scale=LinearScale()), Axis(orientation='vertical', scale=LinearScale())], fig_margin={'top': 60, 'bottom': 60, 'left': 60, 'right': 60}, layout=Layout(min_width='125px'), marks=[Lines(colors=['#1f77b4', '#ff7f0e', '#2ca02c', '#d62728', '#9467bd', '#8c564b', '#e377c2', '#7f7f7f', '#bcbd22', '#17becf'], interactions={'hover': 'tooltip'}, scales={'x': LinearScale(), 'y': LinearScale()}, scales_metadata={'x': {'orientation': 'horizontal', 'dimension': 'x'}, 'y': {'orientation': 'vertical', 'dimension': 'y'}, 'color': {'dimension': 'color'}}, tooltip_style={'opacity': 0.9}, x=array([ 0,  1,  2,  3,  4,  5,  6,  7,  8,  9, 10, 11, 12, 13, 14, 15, 16,\n",
       "       17, 18, 19, 20, 21, 22, 23, 24, 25, 26, 27, 28, 29, 30, 31, 32, 33,\n",
       "       34, 35, 36, 37, 38, 39, 40, 41, 42, 43, 44, 45, 46, 47, 48, 49, 50,\n",
       "       51, 52, 53, 54, 55, 56, 57, 58, 59, 60, 61, 62, 63, 64, 65, 66, 67,\n",
       "       68, 69, 70, 71, 72, 73, 74, 75, 76, 77, 78, 79, 80, 81, 82, 83, 84,\n",
       "       85, 86, 87, 88, 89, 90, 91, 92, 93, 94, 95, 96, 97, 98, 99]), y=array([  176.4052346 ,   216.42095543,   314.29475384,   538.38407376,\n",
       "         725.13987278,   627.41208479,   722.42092654,   707.28520571,\n",
       "         696.96332053,   738.02317073,   752.42752784,   897.85487854,\n",
       "         973.95865106,   986.12615271,  1030.51247598,  1063.87990872,\n",
       "        1213.28781603,  1192.77198966,  1224.07875982,  1138.66918589,\n",
       "         883.37020431,   948.73206385,  1035.17568374,   960.9591817 ,\n",
       "        1187.9346441 ,  1042.49807664,  1047.07392837,  1028.35554336,\n",
       "        1181.6334648 ,  1328.56934179,  1344.06408436,  1381.88033632,\n",
       "        1293.10176156,  1095.02211473,  1060.2308998 ,  1075.86579671,\n",
       "        1198.89486478,  1319.13284966,  1280.40016792,  1250.16989286,\n",
       "        1145.31459636,  1003.31280264,   832.68578358,  1027.7633231 ,\n",
       "         976.79810493,   932.99067476,   807.71113876,   885.46017434,\n",
       "         724.07038959,   702.79636157,   613.24970545,   651.93995523,\n",
       "         600.85944148,   482.79622306,   479.97800023,   522.81118728,\n",
       "         529.46290952,   559.71009929,   496.27788993,   460.00377333,\n",
       "         392.75772855,   356.8024124 ,   275.48778419,   102.85952396,\n",
       "         120.60213818,    80.42404456,   -82.59579013,   -36.31756458,\n",
       "        -127.04740102,  -121.85286144,   -48.94380522,   -36.04551415,\n",
       "          77.89455431,   -45.58802773,    -5.35386361,   -73.8348727 ,\n",
       "        -160.91458762,  -218.7995541 ,  -249.95480731,  -244.33827309,\n",
       "        -360.85325717,  -270.77060847,  -224.2043645 ,  -377.82873313,\n",
       "        -229.00351375,   -39.41459614,    78.46336097,    60.47087739,\n",
       "         -46.60438476,    58.84078793,    18.52309324,   140.76760027,\n",
       "         161.59509808,   259.25900173,   294.89564145,   365.55295827,\n",
       "         366.60296034,   545.19000973,   557.881219  ,   598.08015534]))], scale_x=LinearScale(allow_padding=False, max=1.0, min=0.0), scale_y=LinearScale(allow_padding=False, max=1.0, min=0.0), title='My First Plot'))))"
      ]
     },
     "metadata": {},
     "output_type": "display_data"
    }
   ],
   "source": [
    "plt.figure(title='My First Plot')\n",
    "plt.plot(x_data, y_data)\n",
    "plt.show()"
   ]
  },
  {
   "cell_type": "markdown",
   "metadata": {},
   "source": [
    "Use the buttons above to Pan (or Zoom), Reset or save the Figure."
   ]
  },
  {
   "cell_type": "markdown",
   "metadata": {},
   "source": [
    "## Using `bqplot`'s interactive elements"
   ]
  },
  {
   "cell_type": "markdown",
   "metadata": {},
   "source": [
    "Now, let's try creating a new plot. First, we create a brand new `Figure`. The `Figure` is the final element of any plot that is eventually displayed. You can think of it as a Canvas on which we put all of our other plots."
   ]
  },
  {
   "cell_type": "code",
   "execution_count": 5,
   "metadata": {
    "collapsed": true
   },
   "outputs": [
    {
     "data": {
      "application/vnd.jupyter.widget-view+json": {
       "model_id": "b1785d0be69a4faeb632dd136f47861e",
       "version_major": 2,
       "version_minor": 0
      },
      "text/html": [
       "<p>Failed to display Jupyter Widget of type <code>Figure</code>.</p>\n",
       "<p>\n",
       "  If you're reading this message in the Jupyter Notebook or JupyterLab Notebook, it may mean\n",
       "  that the widgets JavaScript is still loading. If this message persists, it\n",
       "  likely means that the widgets JavaScript library is either not installed or\n",
       "  not enabled. See the <a href=\"https://ipywidgets.readthedocs.io/en/stable/user_install.html\">Jupyter\n",
       "  Widgets Documentation</a> for setup instructions.\n",
       "</p>\n",
       "<p>\n",
       "  If you're reading this message in another frontend (for example, a static\n",
       "  rendering on GitHub or <a href=\"https://nbviewer.jupyter.org/\">NBViewer</a>),\n",
       "  it may mean that your frontend doesn't currently support widgets.\n",
       "</p>\n"
      ],
      "text/plain": [
       "Figure(fig_margin={'top': 60, 'bottom': 60, 'left': 60, 'right': 60}, layout=Layout(min_width='125px'), scale_x=LinearScale(allow_padding=False, max=1.0, min=0.0), scale_y=LinearScale(allow_padding=False, max=1.0, min=0.0), title='My Second Chart')"
      ]
     },
     "metadata": {},
     "output_type": "display_data"
    }
   ],
   "source": [
    "# Creating a new Figure and setting it's title\n",
    "plt.figure(title='My Second Chart')"
   ]
  },
  {
   "cell_type": "code",
   "execution_count": 6,
   "metadata": {
    "collapsed": true
   },
   "outputs": [],
   "source": [
    "# Let's assign the scatter plot to a variable\n",
    "scatter_plot = plt.scatter(x_data, y_data)"
   ]
  },
  {
   "cell_type": "code",
   "execution_count": 7,
   "metadata": {
    "collapsed": true,
    "scrolled": true
   },
   "outputs": [
    {
     "data": {
      "application/vnd.jupyter.widget-view+json": {
       "model_id": "227fe1492a4d40939882b18468006890",
       "version_major": 2,
       "version_minor": 0
      },
      "text/html": [
       "<p>Failed to display Jupyter Widget of type <code>VBox</code>.</p>\n",
       "<p>\n",
       "  If you're reading this message in the Jupyter Notebook or JupyterLab Notebook, it may mean\n",
       "  that the widgets JavaScript is still loading. If this message persists, it\n",
       "  likely means that the widgets JavaScript library is either not installed or\n",
       "  not enabled. See the <a href=\"https://ipywidgets.readthedocs.io/en/stable/user_install.html\">Jupyter\n",
       "  Widgets Documentation</a> for setup instructions.\n",
       "</p>\n",
       "<p>\n",
       "  If you're reading this message in another frontend (for example, a static\n",
       "  rendering on GitHub or <a href=\"https://nbviewer.jupyter.org/\">NBViewer</a>),\n",
       "  it may mean that your frontend doesn't currently support widgets.\n",
       "</p>\n"
      ],
      "text/plain": [
       "VBox(children=(Figure(axes=[Axis(scale=LinearScale(), side='bottom'), Axis(orientation='vertical', scale=LinearScale(), side='left')], fig_margin={'top': 60, 'bottom': 60, 'left': 60, 'right': 60}, layout=Layout(min_width='125px'), marks=[Scatter(colors=['steelblue'], interactions={'hover': 'tooltip'}, scales={'x': LinearScale(), 'y': LinearScale()}, scales_metadata={'x': {'orientation': 'horizontal', 'dimension': 'x'}, 'y': {'orientation': 'vertical', 'dimension': 'y'}, 'color': {'dimension': 'color'}, 'size': {'dimension': 'size'}, 'opacity': {'dimension': 'opacity'}, 'rotation': {'dimension': 'rotation'}, 'skew': {'dimension': 'skew'}}, tooltip_style={'opacity': 0.9}, x=array([ 0,  1,  2,  3,  4,  5,  6,  7,  8,  9, 10, 11, 12, 13, 14, 15, 16,\n",
       "       17, 18, 19, 20, 21, 22, 23, 24, 25, 26, 27, 28, 29, 30, 31, 32, 33,\n",
       "       34, 35, 36, 37, 38, 39, 40, 41, 42, 43, 44, 45, 46, 47, 48, 49, 50,\n",
       "       51, 52, 53, 54, 55, 56, 57, 58, 59, 60, 61, 62, 63, 64, 65, 66, 67,\n",
       "       68, 69, 70, 71, 72, 73, 74, 75, 76, 77, 78, 79, 80, 81, 82, 83, 84,\n",
       "       85, 86, 87, 88, 89, 90, 91, 92, 93, 94, 95, 96, 97, 98, 99]), y=array([  176.4052346 ,   216.42095543,   314.29475384,   538.38407376,\n",
       "         725.13987278,   627.41208479,   722.42092654,   707.28520571,\n",
       "         696.96332053,   738.02317073,   752.42752784,   897.85487854,\n",
       "         973.95865106,   986.12615271,  1030.51247598,  1063.87990872,\n",
       "        1213.28781603,  1192.77198966,  1224.07875982,  1138.66918589,\n",
       "         883.37020431,   948.73206385,  1035.17568374,   960.9591817 ,\n",
       "        1187.9346441 ,  1042.49807664,  1047.07392837,  1028.35554336,\n",
       "        1181.6334648 ,  1328.56934179,  1344.06408436,  1381.88033632,\n",
       "        1293.10176156,  1095.02211473,  1060.2308998 ,  1075.86579671,\n",
       "        1198.89486478,  1319.13284966,  1280.40016792,  1250.16989286,\n",
       "        1145.31459636,  1003.31280264,   832.68578358,  1027.7633231 ,\n",
       "         976.79810493,   932.99067476,   807.71113876,   885.46017434,\n",
       "         724.07038959,   702.79636157,   613.24970545,   651.93995523,\n",
       "         600.85944148,   482.79622306,   479.97800023,   522.81118728,\n",
       "         529.46290952,   559.71009929,   496.27788993,   460.00377333,\n",
       "         392.75772855,   356.8024124 ,   275.48778419,   102.85952396,\n",
       "         120.60213818,    80.42404456,   -82.59579013,   -36.31756458,\n",
       "        -127.04740102,  -121.85286144,   -48.94380522,   -36.04551415,\n",
       "          77.89455431,   -45.58802773,    -5.35386361,   -73.8348727 ,\n",
       "        -160.91458762,  -218.7995541 ,  -249.95480731,  -244.33827309,\n",
       "        -360.85325717,  -270.77060847,  -224.2043645 ,  -377.82873313,\n",
       "        -229.00351375,   -39.41459614,    78.46336097,    60.47087739,\n",
       "         -46.60438476,    58.84078793,    18.52309324,   140.76760027,\n",
       "         161.59509808,   259.25900173,   294.89564145,   365.55295827,\n",
       "         366.60296034,   545.19000973,   557.881219  ,   598.08015534]))], scale_x=LinearScale(allow_padding=False, max=1.0, min=0.0), scale_y=LinearScale(allow_padding=False, max=1.0, min=0.0), title='My Second Chart'), Toolbar(figure=Figure(axes=[Axis(scale=LinearScale(), side='bottom'), Axis(orientation='vertical', scale=LinearScale(), side='left')], fig_margin={'top': 60, 'bottom': 60, 'left': 60, 'right': 60}, layout=Layout(min_width='125px'), marks=[Scatter(colors=['steelblue'], interactions={'hover': 'tooltip'}, scales={'x': LinearScale(), 'y': LinearScale()}, scales_metadata={'x': {'orientation': 'horizontal', 'dimension': 'x'}, 'y': {'orientation': 'vertical', 'dimension': 'y'}, 'color': {'dimension': 'color'}, 'size': {'dimension': 'size'}, 'opacity': {'dimension': 'opacity'}, 'rotation': {'dimension': 'rotation'}, 'skew': {'dimension': 'skew'}}, tooltip_style={'opacity': 0.9}, x=array([ 0,  1,  2,  3,  4,  5,  6,  7,  8,  9, 10, 11, 12, 13, 14, 15, 16,\n",
       "       17, 18, 19, 20, 21, 22, 23, 24, 25, 26, 27, 28, 29, 30, 31, 32, 33,\n",
       "       34, 35, 36, 37, 38, 39, 40, 41, 42, 43, 44, 45, 46, 47, 48, 49, 50,\n",
       "       51, 52, 53, 54, 55, 56, 57, 58, 59, 60, 61, 62, 63, 64, 65, 66, 67,\n",
       "       68, 69, 70, 71, 72, 73, 74, 75, 76, 77, 78, 79, 80, 81, 82, 83, 84,\n",
       "       85, 86, 87, 88, 89, 90, 91, 92, 93, 94, 95, 96, 97, 98, 99]), y=array([  176.4052346 ,   216.42095543,   314.29475384,   538.38407376,\n",
       "         725.13987278,   627.41208479,   722.42092654,   707.28520571,\n",
       "         696.96332053,   738.02317073,   752.42752784,   897.85487854,\n",
       "         973.95865106,   986.12615271,  1030.51247598,  1063.87990872,\n",
       "        1213.28781603,  1192.77198966,  1224.07875982,  1138.66918589,\n",
       "         883.37020431,   948.73206385,  1035.17568374,   960.9591817 ,\n",
       "        1187.9346441 ,  1042.49807664,  1047.07392837,  1028.35554336,\n",
       "        1181.6334648 ,  1328.56934179,  1344.06408436,  1381.88033632,\n",
       "        1293.10176156,  1095.02211473,  1060.2308998 ,  1075.86579671,\n",
       "        1198.89486478,  1319.13284966,  1280.40016792,  1250.16989286,\n",
       "        1145.31459636,  1003.31280264,   832.68578358,  1027.7633231 ,\n",
       "         976.79810493,   932.99067476,   807.71113876,   885.46017434,\n",
       "         724.07038959,   702.79636157,   613.24970545,   651.93995523,\n",
       "         600.85944148,   482.79622306,   479.97800023,   522.81118728,\n",
       "         529.46290952,   559.71009929,   496.27788993,   460.00377333,\n",
       "         392.75772855,   356.8024124 ,   275.48778419,   102.85952396,\n",
       "         120.60213818,    80.42404456,   -82.59579013,   -36.31756458,\n",
       "        -127.04740102,  -121.85286144,   -48.94380522,   -36.04551415,\n",
       "          77.89455431,   -45.58802773,    -5.35386361,   -73.8348727 ,\n",
       "        -160.91458762,  -218.7995541 ,  -249.95480731,  -244.33827309,\n",
       "        -360.85325717,  -270.77060847,  -224.2043645 ,  -377.82873313,\n",
       "        -229.00351375,   -39.41459614,    78.46336097,    60.47087739,\n",
       "         -46.60438476,    58.84078793,    18.52309324,   140.76760027,\n",
       "         161.59509808,   259.25900173,   294.89564145,   365.55295827,\n",
       "         366.60296034,   545.19000973,   557.881219  ,   598.08015534]))], scale_x=LinearScale(allow_padding=False, max=1.0, min=0.0), scale_y=LinearScale(allow_padding=False, max=1.0, min=0.0), title='My Second Chart'))))"
      ]
     },
     "metadata": {},
     "output_type": "display_data"
    }
   ],
   "source": [
    "# Let's show the plot\n",
    "plt.show()"
   ]
  },
  {
   "cell_type": "markdown",
   "metadata": {},
   "source": [
    "Since both the x and the y attributes of a bqplot chart are interactive widgets, we can change them. So, let's \n",
    "change the y attribute of the chart."
   ]
  },
  {
   "cell_type": "code",
   "execution_count": 9,
   "metadata": {
    "collapsed": true
   },
   "outputs": [],
   "source": [
    "scatter_plot.y = np.cumsum(np.random.randn(size)  * 100.0)"
   ]
  },
  {
   "cell_type": "markdown",
   "metadata": {},
   "source": [
    "Re-run the above cell a few times, the same plot should update everytime. But, thats not the only thing that can be changed once a plot has been rendered. Let's try changing some of the other attributes."
   ]
  },
  {
   "cell_type": "code",
   "execution_count": 10,
   "metadata": {
    "collapsed": true
   },
   "outputs": [],
   "source": [
    "# Say, the color\n",
    "scatter_plot.colors = ['blue']"
   ]
  },
  {
   "cell_type": "code",
   "execution_count": 11,
   "metadata": {
    "collapsed": true
   },
   "outputs": [],
   "source": [
    "# Or, the marker style\n",
    "scatter_plot.marker = 'diamond'"
   ]
  },
  {
   "cell_type": "markdown",
   "metadata": {},
   "source": [
    "It's important to remember that an interactive widget means that the `JavaScript` and the `Python` communicate. So, the plot can be changed through a single line of python code, or a piece of python code can be triggered by a change in the plot. Let's go through a simple example. Say we have a function `foo`:"
   ]
  },
  {
   "cell_type": "code",
   "execution_count": 13,
   "metadata": {
    "collapsed": true
   },
   "outputs": [],
   "source": [
    "def foo(change):\n",
    "    print('This is a trait change. Foo was called by the fact that we moved the Scatter')\n",
    "    print('In fact, the Scatter plot sent us all the new data: ')\n",
    "    print('To access the data, try modifying the function and printing the data variable')"
   ]
  },
  {
   "cell_type": "markdown",
   "metadata": {},
   "source": [
    "We can call `foo` everytime any attribute of our scatter is changed. Say, the `y` values:"
   ]
  },
  {
   "cell_type": "code",
   "execution_count": 14,
   "metadata": {
    "collapsed": true
   },
   "outputs": [],
   "source": [
    "# First, we hook up our function `foo` to the colors attribute (or Trait) of the scatter plot\n",
    "scatter_plot.observe(foo, 'y')"
   ]
  },
  {
   "cell_type": "markdown",
   "metadata": {},
   "source": [
    "To allow the points in the `Scatter` to be moved interactively, we set the `enable_move` attribute to `True`"
   ]
  },
  {
   "cell_type": "code",
   "execution_count": 12,
   "metadata": {
    "collapsed": true
   },
   "outputs": [],
   "source": [
    "scatter_plot.enable_move = True"
   ]
  },
  {
   "cell_type": "markdown",
   "metadata": {},
   "source": [
    "Go ahead, head over to the chart and move any point in some way. This move (which happens on the `JavaScript` side should trigger our `Python` function `foo`."
   ]
  },
  {
   "cell_type": "markdown",
   "metadata": {},
   "source": [
    "## Understanding how bqplot uses the Grammar of Graphics paradigm"
   ]
  },
  {
   "cell_type": "markdown",
   "metadata": {},
   "source": [
    "`bqplot` has two different APIs. One is the matplotlib inspired `pyplot` which we used above (you can think of it as similar to `qplot` in `ggplot2`). The other one, the verbose API, is meant to expose every element of a plot individually, so that their attriutes can be controlled in an atomic way. In order to truly use `bqplot` to build complex and feature-rich GUIs, it pays to understand the underlying theory that is used to create a plot."
   ]
  },
  {
   "cell_type": "markdown",
   "metadata": {},
   "source": [
    "To understand this verbose API, it helps to revisit what exactly the components of a plot are. The first thing we need is a `Scale`."
   ]
  },
  {
   "cell_type": "markdown",
   "metadata": {},
   "source": [
    "**A `Scale` is a mapping from (function that converts) data coordinates to figure coordinates.** What this means is that, a `Scale` takes a set of values in any arbitrary unit (say number of people, or $, or litres) and converts it to pixels (or colors for a `ColorScale`)."
   ]
  },
  {
   "cell_type": "code",
   "execution_count": 15,
   "metadata": {
    "collapsed": true
   },
   "outputs": [],
   "source": [
    "# First, we import the scales\n",
    "from bqplot import LinearScale"
   ]
  },
  {
   "cell_type": "code",
   "execution_count": 16,
   "metadata": {
    "collapsed": true
   },
   "outputs": [],
   "source": [
    "# Let's create a scale for the x attribute, and a scale for the y attribute\n",
    "x_sc = LinearScale()\n",
    "y_sc = LinearScale()"
   ]
  },
  {
   "cell_type": "markdown",
   "metadata": {},
   "source": [
    "Now, we need to create the actual `Mark` that will visually represent the data. Let's pick a `Scatter` chart to start."
   ]
  },
  {
   "cell_type": "code",
   "execution_count": 17,
   "metadata": {
    "collapsed": true
   },
   "outputs": [],
   "source": [
    "from bqplot import Scatter"
   ]
  },
  {
   "cell_type": "code",
   "execution_count": 18,
   "metadata": {
    "collapsed": true
   },
   "outputs": [],
   "source": [
    "scatter_chart = Scatter(x=x_data, y=y_data, scales={'x': x_sc, 'y': y_sc})"
   ]
  },
  {
   "cell_type": "markdown",
   "metadata": {},
   "source": [
    "Most of the time, the actual `Figure` co-ordinates don't really mean anything to us. So, what we need is the visual representation of our `Scale`, which is called an `Axis`."
   ]
  },
  {
   "cell_type": "code",
   "execution_count": 19,
   "metadata": {
    "collapsed": true
   },
   "outputs": [],
   "source": [
    "from bqplot import Axis"
   ]
  },
  {
   "cell_type": "code",
   "execution_count": 20,
   "metadata": {
    "collapsed": true
   },
   "outputs": [],
   "source": [
    "x_ax = Axis(label='X', scale=x_sc)\n",
    "y_ax = Axis(label='Y', scale=y_sc, orientation='vertical')"
   ]
  },
  {
   "cell_type": "markdown",
   "metadata": {},
   "source": [
    "And finally, we put it all together on a canvas, which is called a `Figure`."
   ]
  },
  {
   "cell_type": "code",
   "execution_count": 21,
   "metadata": {
    "collapsed": true
   },
   "outputs": [],
   "source": [
    "from bqplot import Figure"
   ]
  },
  {
   "cell_type": "code",
   "execution_count": 22,
   "metadata": {
    "collapsed": true
   },
   "outputs": [
    {
     "data": {
      "application/vnd.jupyter.widget-view+json": {
       "model_id": "e83d539cc8b249b89222b55d84bfefa3",
       "version_major": 2,
       "version_minor": 0
      },
      "text/html": [
       "<p>Failed to display Jupyter Widget of type <code>Figure</code>.</p>\n",
       "<p>\n",
       "  If you're reading this message in the Jupyter Notebook or JupyterLab Notebook, it may mean\n",
       "  that the widgets JavaScript is still loading. If this message persists, it\n",
       "  likely means that the widgets JavaScript library is either not installed or\n",
       "  not enabled. See the <a href=\"https://ipywidgets.readthedocs.io/en/stable/user_install.html\">Jupyter\n",
       "  Widgets Documentation</a> for setup instructions.\n",
       "</p>\n",
       "<p>\n",
       "  If you're reading this message in another frontend (for example, a static\n",
       "  rendering on GitHub or <a href=\"https://nbviewer.jupyter.org/\">NBViewer</a>),\n",
       "  it may mean that your frontend doesn't currently support widgets.\n",
       "</p>\n"
      ],
      "text/plain": [
       "Figure(axes=[Axis(label='X', scale=LinearScale(), side='bottom'), Axis(label='Y', orientation='vertical', scale=LinearScale(), side='left')], fig_margin={'top': 60, 'bottom': 60, 'left': 60, 'right': 60}, layout=Layout(min_width='125px'), marks=[Scatter(colors=['steelblue'], interactions={'hover': 'tooltip'}, scales={'x': LinearScale(), 'y': LinearScale()}, scales_metadata={'x': {'orientation': 'horizontal', 'dimension': 'x'}, 'y': {'orientation': 'vertical', 'dimension': 'y'}, 'color': {'dimension': 'color'}, 'size': {'dimension': 'size'}, 'opacity': {'dimension': 'opacity'}, 'rotation': {'dimension': 'rotation'}, 'skew': {'dimension': 'skew'}}, tooltip_style={'opacity': 0.9}, x=array([ 0,  1,  2,  3,  4,  5,  6,  7,  8,  9, 10, 11, 12, 13, 14, 15, 16,\n",
       "       17, 18, 19, 20, 21, 22, 23, 24, 25, 26, 27, 28, 29, 30, 31, 32, 33,\n",
       "       34, 35, 36, 37, 38, 39, 40, 41, 42, 43, 44, 45, 46, 47, 48, 49, 50,\n",
       "       51, 52, 53, 54, 55, 56, 57, 58, 59, 60, 61, 62, 63, 64, 65, 66, 67,\n",
       "       68, 69, 70, 71, 72, 73, 74, 75, 76, 77, 78, 79, 80, 81, 82, 83, 84,\n",
       "       85, 86, 87, 88, 89, 90, 91, 92, 93, 94, 95, 96, 97, 98, 99]), y=array([  176.4052346 ,   216.42095543,   314.29475384,   538.38407376,\n",
       "         725.13987278,   627.41208479,   722.42092654,   707.28520571,\n",
       "         696.96332053,   738.02317073,   752.42752784,   897.85487854,\n",
       "         973.95865106,   986.12615271,  1030.51247598,  1063.87990872,\n",
       "        1213.28781603,  1192.77198966,  1224.07875982,  1138.66918589,\n",
       "         883.37020431,   948.73206385,  1035.17568374,   960.9591817 ,\n",
       "        1187.9346441 ,  1042.49807664,  1047.07392837,  1028.35554336,\n",
       "        1181.6334648 ,  1328.56934179,  1344.06408436,  1381.88033632,\n",
       "        1293.10176156,  1095.02211473,  1060.2308998 ,  1075.86579671,\n",
       "        1198.89486478,  1319.13284966,  1280.40016792,  1250.16989286,\n",
       "        1145.31459636,  1003.31280264,   832.68578358,  1027.7633231 ,\n",
       "         976.79810493,   932.99067476,   807.71113876,   885.46017434,\n",
       "         724.07038959,   702.79636157,   613.24970545,   651.93995523,\n",
       "         600.85944148,   482.79622306,   479.97800023,   522.81118728,\n",
       "         529.46290952,   559.71009929,   496.27788993,   460.00377333,\n",
       "         392.75772855,   356.8024124 ,   275.48778419,   102.85952396,\n",
       "         120.60213818,    80.42404456,   -82.59579013,   -36.31756458,\n",
       "        -127.04740102,  -121.85286144,   -48.94380522,   -36.04551415,\n",
       "          77.89455431,   -45.58802773,    -5.35386361,   -73.8348727 ,\n",
       "        -160.91458762,  -218.7995541 ,  -249.95480731,  -244.33827309,\n",
       "        -360.85325717,  -270.77060847,  -224.2043645 ,  -377.82873313,\n",
       "        -229.00351375,   -39.41459614,    78.46336097,    60.47087739,\n",
       "         -46.60438476,    58.84078793,    18.52309324,   140.76760027,\n",
       "         161.59509808,   259.25900173,   294.89564145,   365.55295827,\n",
       "         366.60296034,   545.19000973,   557.881219  ,   598.08015534]))], scale_x=LinearScale(allow_padding=False, max=1.0, min=0.0), scale_y=LinearScale(allow_padding=False, max=1.0, min=0.0), title='A Figure')"
      ]
     },
     "metadata": {},
     "output_type": "display_data"
    }
   ],
   "source": [
    "fig = Figure(marks=[scatter_chart], title='A Figure', axes=[x_ax, y_ax])\n",
    "fig"
   ]
  },
  {
   "cell_type": "markdown",
   "metadata": {},
   "source": [
    "The IPython display machinery displays the last returned value of a cell. If you wish to explicitly display a widget, you can call `IPython.display.display`."
   ]
  },
  {
   "cell_type": "code",
   "execution_count": 23,
   "metadata": {
    "collapsed": true
   },
   "outputs": [],
   "source": [
    "from IPython.display import display"
   ]
  },
  {
   "cell_type": "code",
   "execution_count": 24,
   "metadata": {
    "collapsed": true
   },
   "outputs": [
    {
     "data": {
      "application/vnd.jupyter.widget-view+json": {
       "model_id": "e83d539cc8b249b89222b55d84bfefa3",
       "version_major": 2,
       "version_minor": 0
      },
      "text/html": [
       "<p>Failed to display Jupyter Widget of type <code>Figure</code>.</p>\n",
       "<p>\n",
       "  If you're reading this message in the Jupyter Notebook or JupyterLab Notebook, it may mean\n",
       "  that the widgets JavaScript is still loading. If this message persists, it\n",
       "  likely means that the widgets JavaScript library is either not installed or\n",
       "  not enabled. See the <a href=\"https://ipywidgets.readthedocs.io/en/stable/user_install.html\">Jupyter\n",
       "  Widgets Documentation</a> for setup instructions.\n",
       "</p>\n",
       "<p>\n",
       "  If you're reading this message in another frontend (for example, a static\n",
       "  rendering on GitHub or <a href=\"https://nbviewer.jupyter.org/\">NBViewer</a>),\n",
       "  it may mean that your frontend doesn't currently support widgets.\n",
       "</p>\n"
      ],
      "text/plain": [
       "Figure(axes=[Axis(label='X', scale=LinearScale(), side='bottom'), Axis(label='Y', orientation='vertical', scale=LinearScale(), side='left')], fig_margin={'top': 60, 'bottom': 60, 'left': 60, 'right': 60}, layout=Layout(min_width='125px'), marks=[Scatter(colors=['steelblue'], interactions={'hover': 'tooltip'}, scales={'x': LinearScale(), 'y': LinearScale()}, scales_metadata={'x': {'orientation': 'horizontal', 'dimension': 'x'}, 'y': {'orientation': 'vertical', 'dimension': 'y'}, 'color': {'dimension': 'color'}, 'size': {'dimension': 'size'}, 'opacity': {'dimension': 'opacity'}, 'rotation': {'dimension': 'rotation'}, 'skew': {'dimension': 'skew'}}, tooltip_style={'opacity': 0.9}, x=array([ 0,  1,  2,  3,  4,  5,  6,  7,  8,  9, 10, 11, 12, 13, 14, 15, 16,\n",
       "       17, 18, 19, 20, 21, 22, 23, 24, 25, 26, 27, 28, 29, 30, 31, 32, 33,\n",
       "       34, 35, 36, 37, 38, 39, 40, 41, 42, 43, 44, 45, 46, 47, 48, 49, 50,\n",
       "       51, 52, 53, 54, 55, 56, 57, 58, 59, 60, 61, 62, 63, 64, 65, 66, 67,\n",
       "       68, 69, 70, 71, 72, 73, 74, 75, 76, 77, 78, 79, 80, 81, 82, 83, 84,\n",
       "       85, 86, 87, 88, 89, 90, 91, 92, 93, 94, 95, 96, 97, 98, 99]), y=array([  176.4052346 ,   216.42095543,   314.29475384,   538.38407376,\n",
       "         725.13987278,   627.41208479,   722.42092654,   707.28520571,\n",
       "         696.96332053,   738.02317073,   752.42752784,   897.85487854,\n",
       "         973.95865106,   986.12615271,  1030.51247598,  1063.87990872,\n",
       "        1213.28781603,  1192.77198966,  1224.07875982,  1138.66918589,\n",
       "         883.37020431,   948.73206385,  1035.17568374,   960.9591817 ,\n",
       "        1187.9346441 ,  1042.49807664,  1047.07392837,  1028.35554336,\n",
       "        1181.6334648 ,  1328.56934179,  1344.06408436,  1381.88033632,\n",
       "        1293.10176156,  1095.02211473,  1060.2308998 ,  1075.86579671,\n",
       "        1198.89486478,  1319.13284966,  1280.40016792,  1250.16989286,\n",
       "        1145.31459636,  1003.31280264,   832.68578358,  1027.7633231 ,\n",
       "         976.79810493,   932.99067476,   807.71113876,   885.46017434,\n",
       "         724.07038959,   702.79636157,   613.24970545,   651.93995523,\n",
       "         600.85944148,   482.79622306,   479.97800023,   522.81118728,\n",
       "         529.46290952,   559.71009929,   496.27788993,   460.00377333,\n",
       "         392.75772855,   356.8024124 ,   275.48778419,   102.85952396,\n",
       "         120.60213818,    80.42404456,   -82.59579013,   -36.31756458,\n",
       "        -127.04740102,  -121.85286144,   -48.94380522,   -36.04551415,\n",
       "          77.89455431,   -45.58802773,    -5.35386361,   -73.8348727 ,\n",
       "        -160.91458762,  -218.7995541 ,  -249.95480731,  -244.33827309,\n",
       "        -360.85325717,  -270.77060847,  -224.2043645 ,  -377.82873313,\n",
       "        -229.00351375,   -39.41459614,    78.46336097,    60.47087739,\n",
       "         -46.60438476,    58.84078793,    18.52309324,   140.76760027,\n",
       "         161.59509808,   259.25900173,   294.89564145,   365.55295827,\n",
       "         366.60296034,   545.19000973,   557.881219  ,   598.08015534]))], scale_x=LinearScale(allow_padding=False, max=1.0, min=0.0), scale_y=LinearScale(allow_padding=False, max=1.0, min=0.0), title='A Figure')"
      ]
     },
     "metadata": {},
     "output_type": "display_data"
    }
   ],
   "source": [
    "display(fig)"
   ]
  },
  {
   "cell_type": "markdown",
   "metadata": {},
   "source": [
    "Now, that the plot has been generated, we can control every single attribute of it. Let's say we wanted to color the chart based on some other data."
   ]
  },
  {
   "cell_type": "code",
   "execution_count": 25,
   "metadata": {
    "collapsed": true
   },
   "outputs": [],
   "source": [
    "# First, we generate some random color data.\n",
    "color_data = np.random.randint(0, 2, size=100)"
   ]
  },
  {
   "cell_type": "markdown",
   "metadata": {},
   "source": [
    "Now, we define a ColorScale to map the color_data to actual colors"
   ]
  },
  {
   "cell_type": "code",
   "execution_count": 26,
   "metadata": {
    "collapsed": true
   },
   "outputs": [],
   "source": [
    "from bqplot import ColorScale"
   ]
  },
  {
   "cell_type": "code",
   "execution_count": 27,
   "metadata": {
    "collapsed": true
   },
   "outputs": [],
   "source": [
    "# The colors trait controls the actual colors we want to map to. It can also take a min, mid, max list of\n",
    "# colors to be interpolated between for continuous data.\n",
    "col_sc = ColorScale(colors=['MediumSeaGreen', 'Red'])"
   ]
  },
  {
   "cell_type": "code",
   "execution_count": 28,
   "metadata": {
    "collapsed": true
   },
   "outputs": [],
   "source": [
    "scatter_chart.scales = {'x': x_sc, 'y': y_sc, 'color': col_sc}\n",
    "# We pass the color data to the Scatter Chart through it's color attribute\n",
    "scatter_chart.color = color_data"
   ]
  },
  {
   "cell_type": "markdown",
   "metadata": {},
   "source": [
    "The grammar of graphics framework allows us to overlay multiple visualizations on a single `Figure` by having the visualization share the `Scales`. So, for example, if we had a `Bar` chart that we would like to plot alongside the `Scatter` plot, we just pass it the same `Scales`."
   ]
  },
  {
   "cell_type": "code",
   "execution_count": 29,
   "metadata": {
    "collapsed": true
   },
   "outputs": [],
   "source": [
    "from bqplot import Bars"
   ]
  },
  {
   "cell_type": "code",
   "execution_count": 30,
   "metadata": {
    "collapsed": true
   },
   "outputs": [],
   "source": [
    "new_size = 50\n",
    "scale = 100.\n",
    "x_data_new = np.arange(new_size)\n",
    "y_data_new = np.cumsum(np.random.randn(new_size)  * scale)"
   ]
  },
  {
   "cell_type": "code",
   "execution_count": 31,
   "metadata": {
    "collapsed": true
   },
   "outputs": [],
   "source": [
    "# All we need to do to add a bar chart to the Figure is \n",
    "# pass the same scales to the Mark\n",
    "bar_chart = Bars(x=x_data_new, y=y_data_new, scales={'x': x_sc, 'y': y_sc})"
   ]
  },
  {
   "cell_type": "markdown",
   "metadata": {},
   "source": [
    "Finally, we add the new `Mark` to the `Figure` to update the plot!"
   ]
  },
  {
   "cell_type": "code",
   "execution_count": 32,
   "metadata": {
    "collapsed": true
   },
   "outputs": [],
   "source": [
    "fig.marks = [scatter_chart, bar_chart]"
   ]
  }
 ],
 "metadata": {
  "anaconda-cloud": {},
  "kernelspec": {
   "display_name": "Python 3",
   "language": "python",
   "name": "python3"
  },
  "language_info": {
   "codemirror_mode": {
    "name": "ipython",
    "version": 3
   },
   "file_extension": ".py",
   "mimetype": "text/x-python",
   "name": "python",
   "nbconvert_exporter": "python",
   "pygments_lexer": "ipython3",
   "version": "3.6.3"
  }
 },
 "nbformat": 4,
 "nbformat_minor": 2
}
