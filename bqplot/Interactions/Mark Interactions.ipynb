{
 "cells": [
  {
   "cell_type": "code",
   "execution_count": 1,
   "metadata": {},
   "outputs": [],
   "source": [
    "from __future__ import print_function\n",
    "from bqplot import *\n",
    "import numpy as np\n",
    "import pandas as pd\n",
    "from ipywidgets import Layout"
   ]
  },
  {
   "cell_type": "markdown",
   "metadata": {},
   "source": [
    "## Scatter Chart"
   ]
  },
  {
   "cell_type": "markdown",
   "metadata": {},
   "source": [
    "#### Scatter Chart Selections\n",
    "\n",
    "Click a point on the `Scatter` plot to select it. Now, run the cell below to check the selection. After you've done this, try holding the `ctrl` (or `command` key on Mac) and clicking another point. Clicking the background will reset the selection."
   ]
  },
  {
   "cell_type": "code",
   "execution_count": 2,
   "metadata": {},
   "outputs": [
    {
     "data": {
      "application/vnd.jupyter.widget-view+json": {
       "model_id": "32ac305f625f4115ba5592ddeb57ae6c",
       "version_major": 2,
       "version_minor": 0
      },
      "text/html": [
       "<p>Failed to display Jupyter Widget of type <code>Figure</code>.</p>\n",
       "<p>\n",
       "  If you're reading this message in the Jupyter Notebook or JupyterLab Notebook, it may mean\n",
       "  that the widgets JavaScript is still loading. If this message persists, it\n",
       "  likely means that the widgets JavaScript library is either not installed or\n",
       "  not enabled. See the <a href=\"https://ipywidgets.readthedocs.io/en/stable/user_install.html\">Jupyter\n",
       "  Widgets Documentation</a> for setup instructions.\n",
       "</p>\n",
       "<p>\n",
       "  If you're reading this message in another frontend (for example, a static\n",
       "  rendering on GitHub or <a href=\"https://nbviewer.jupyter.org/\">NBViewer</a>),\n",
       "  it may mean that your frontend doesn't currently support widgets.\n",
       "</p>\n"
      ],
      "text/plain": [
       "Figure(axes=[Axis(scale=LinearScale()), Axis(orientation='vertical', scale=LinearScale(), tick_format='0.2f')], fig_margin={'top': 60, 'bottom': 60, 'left': 60, 'right': 60}, layout=Layout(min_width='125px'), marks=[Scatter(colors=['dodgerblue'], interactions={'click': 'select'}, scales={'x': LinearScale(), 'y': LinearScale()}, scales_metadata={'x': {'orientation': 'horizontal', 'dimension': 'x'}, 'y': {'orientation': 'vertical', 'dimension': 'y'}, 'color': {'dimension': 'color'}, 'size': {'dimension': 'size'}, 'opacity': {'dimension': 'opacity'}, 'rotation': {'dimension': 'rotation'}, 'skew': {'dimension': 'skew'}}, selected_style={'opacity': 1.0, 'fill': 'DarkOrange', 'stroke': 'Red'}, tooltip_style={'opacity': 0.9}, unselected_style={'opacity': 0.5}, x=array([ 0,  1,  2,  3,  4,  5,  6,  7,  8,  9, 10, 11, 12, 13, 14, 15, 16,\n",
       "       17, 18, 19]), y=array([-0.08724209, -1.46488586,  0.33725295, -0.91649753, -0.46128693,\n",
       "        0.32269271,  1.25353422,  0.06685377, -0.67817513,  0.07423991,\n",
       "        0.4283215 ,  0.29733693,  1.46991529, -1.18733009, -0.23969406,\n",
       "        0.77044356,  2.17492721, -1.7186512 , -1.1158097 ,  0.4832449 ]))], scale_x=LinearScale(allow_padding=False, max=1.0, min=0.0), scale_y=LinearScale(allow_padding=False, max=1.0, min=0.0))"
      ]
     },
     "metadata": {},
     "output_type": "display_data"
    }
   ],
   "source": [
    "x_sc = LinearScale()\n",
    "y_sc = LinearScale()\n",
    "\n",
    "x_data = np.arange(20)\n",
    "y_data = np.random.randn(20)\n",
    "\n",
    "scatter_chart = Scatter(x=x_data, y=y_data, scales= {'x': x_sc, 'y': y_sc}, colors=['dodgerblue'],\n",
    "                       interactions={'click': 'select'},\n",
    "                        selected_style={'opacity': 1.0, 'fill': 'DarkOrange', 'stroke': 'Red'},\n",
    "                       unselected_style={'opacity': 0.5})\n",
    "\n",
    "ax_x = Axis(scale=x_sc)\n",
    "ax_y = Axis(scale=y_sc, orientation='vertical', tick_format='0.2f')\n",
    "\n",
    "Figure(marks=[scatter_chart], axes=[ax_x, ax_y])"
   ]
  },
  {
   "cell_type": "code",
   "execution_count": 4,
   "metadata": {},
   "outputs": [
    {
     "data": {
      "text/plain": [
       "[6]"
      ]
     },
     "execution_count": 4,
     "metadata": {},
     "output_type": "execute_result"
    }
   ],
   "source": [
    "scatter_chart.selected"
   ]
  },
  {
   "cell_type": "markdown",
   "metadata": {},
   "source": [
    "Alternately, the `selected` attribute can be directly set on the Python side (try running the cell below):"
   ]
  },
  {
   "cell_type": "code",
   "execution_count": 5,
   "metadata": {
    "collapsed": true
   },
   "outputs": [],
   "source": [
    "scatter_chart.selected = [1, 2, 3]"
   ]
  },
  {
   "cell_type": "markdown",
   "metadata": {},
   "source": [
    "#### Scatter Chart Interactions and Tooltips"
   ]
  },
  {
   "cell_type": "code",
   "execution_count": 6,
   "metadata": {
    "collapsed": true
   },
   "outputs": [],
   "source": [
    "from ipywidgets import *"
   ]
  },
  {
   "cell_type": "code",
   "execution_count": 7,
   "metadata": {},
   "outputs": [
    {
     "data": {
      "application/vnd.jupyter.widget-view+json": {
       "model_id": "0d563790ca844c1e8ed0aadee7674790",
       "version_major": 2,
       "version_minor": 0
      },
      "text/html": [
       "<p>Failed to display Jupyter Widget of type <code>Figure</code>.</p>\n",
       "<p>\n",
       "  If you're reading this message in the Jupyter Notebook or JupyterLab Notebook, it may mean\n",
       "  that the widgets JavaScript is still loading. If this message persists, it\n",
       "  likely means that the widgets JavaScript library is either not installed or\n",
       "  not enabled. See the <a href=\"https://ipywidgets.readthedocs.io/en/stable/user_install.html\">Jupyter\n",
       "  Widgets Documentation</a> for setup instructions.\n",
       "</p>\n",
       "<p>\n",
       "  If you're reading this message in another frontend (for example, a static\n",
       "  rendering on GitHub or <a href=\"https://nbviewer.jupyter.org/\">NBViewer</a>),\n",
       "  it may mean that your frontend doesn't currently support widgets.\n",
       "</p>\n"
      ],
      "text/plain": [
       "Figure(axes=[Axis(scale=LinearScale()), Axis(orientation='vertical', scale=LinearScale(), tick_format='0.2f')], fig_margin={'top': 60, 'bottom': 60, 'left': 60, 'right': 60}, layout=Layout(min_width='125px'), marks=[Scatter(colors=['dodgerblue'], display_legend=True, display_names=False, interactions={'hover': 'tooltip'}, labels=['Blue'], names=array([100, 101, 102, 103, 104, 105, 106, 107, 108, 109, 110, 111, 112,\n",
       "       113, 114, 115, 116, 117, 118, 119, 120, 121, 122, 123, 124, 125,\n",
       "       126, 127, 128, 129, 130, 131, 132, 133, 134, 135, 136, 137, 138,\n",
       "       139, 140, 141, 142, 143, 144, 145, 146, 147, 148, 149, 150, 151,\n",
       "       152, 153, 154, 155, 156, 157, 158, 159, 160, 161, 162, 163, 164,\n",
       "       165, 166, 167, 168, 169, 170, 171, 172, 173, 174, 175, 176, 177,\n",
       "       178, 179, 180, 181, 182, 183, 184, 185, 186, 187, 188, 189, 190,\n",
       "       191, 192, 193, 194, 195, 196, 197, 198, 199]), names_unique=False, scales={'x': LinearScale(), 'y': LinearScale()}, scales_metadata={'x': {'orientation': 'horizontal', 'dimension': 'x'}, 'y': {'orientation': 'vertical', 'dimension': 'y'}, 'color': {'dimension': 'color'}, 'size': {'dimension': 'size'}, 'opacity': {'dimension': 'opacity'}, 'rotation': {'dimension': 'rotation'}, 'skew': {'dimension': 'skew'}}, tooltip=Button(icon='legal', style=ButtonStyle()), tooltip_style={'opacity': 0.9}, x=array([ 0,  1,  2,  3,  4,  5,  6,  7,  8,  9, 10, 11, 12, 13, 14, 15, 16,\n",
       "       17, 18, 19]), y=array([ 0.31484187, -0.46442642,  0.54344279,  0.68635988, -0.44555863,\n",
       "       -0.07127932, -0.49973251, -1.50128068, -0.91294058,  1.04082495,\n",
       "        0.40245268,  1.13789176, -0.52837457,  0.98527208,  0.04574429,\n",
       "        1.83511733, -0.26216978, -1.28639034, -1.53081216,  1.80531169])), Scatter(colors=['orangered'], display_legend=True, display_names=False, interactions={'hover': 'tooltip'}, labels=['Red'], names=array([100, 101, 102, 103, 104, 105, 106, 107, 108, 109, 110, 111, 112,\n",
       "       113, 114, 115, 116, 117, 118, 119, 120, 121, 122, 123, 124, 125,\n",
       "       126, 127, 128, 129, 130, 131, 132, 133, 134, 135, 136, 137, 138,\n",
       "       139, 140, 141, 142, 143, 144, 145, 146, 147, 148, 149, 150, 151,\n",
       "       152, 153, 154, 155, 156, 157, 158, 159, 160, 161, 162, 163, 164,\n",
       "       165, 166, 167, 168, 169, 170, 171, 172, 173, 174, 175, 176, 177,\n",
       "       178, 179, 180, 181, 182, 183, 184, 185, 186, 187, 188, 189, 190,\n",
       "       191, 192, 193, 194, 195, 196, 197, 198, 199]), names_unique=False, scales={'x': LinearScale(), 'y': LinearScale()}, scales_metadata={'x': {'orientation': 'horizontal', 'dimension': 'x'}, 'y': {'orientation': 'vertical', 'dimension': 'y'}, 'color': {'dimension': 'color'}, 'size': {'dimension': 'size'}, 'opacity': {'dimension': 'opacity'}, 'rotation': {'dimension': 'rotation'}, 'skew': {'dimension': 'skew'}}, tooltip=Dropdown(options=('First', 'Second', 'Third', 'Fourth'), value='First'), tooltip_style={'opacity': 0.9}, x=array([ 0,  1,  2,  3,  4,  5,  6,  7,  8,  9, 10, 11, 12, 13, 14, 15, 16,\n",
       "       17, 18, 19]), y=array([ 0.63297217,  0.7038868 ,  0.16182192,  0.48889033, -1.04413705,\n",
       "        0.67822212, -0.23662244,  0.53916932,  0.59576382, -0.21948957,\n",
       "       -0.04241862, -2.42313589,  0.03057221, -1.68056288,  1.47430556,\n",
       "        0.14687593,  0.14820761, -1.13536227,  0.23744542,  0.70677892]))], scale_x=LinearScale(allow_padding=False, max=1.0, min=0.0), scale_y=LinearScale(allow_padding=False, max=1.0, min=0.0))"
      ]
     },
     "metadata": {},
     "output_type": "display_data"
    }
   ],
   "source": [
    "x_sc = LinearScale()\n",
    "y_sc = LinearScale()\n",
    "\n",
    "x_data = np.arange(20)\n",
    "y_data = np.random.randn(20)\n",
    "\n",
    "dd = Dropdown(options=['First', 'Second', 'Third', 'Fourth'])\n",
    "scatter_chart = Scatter(x=x_data, y=y_data, scales= {'x': x_sc, 'y': y_sc}, colors=['dodgerblue'],\n",
    "                       names=np.arange(100, 200), names_unique=False, display_names=False, display_legend=True,\n",
    "                       labels=['Blue'])\n",
    "ins = Button(icon='fa-legal')\n",
    "scatter_chart.tooltip = ins\n",
    "\n",
    "scatter_chart2 = Scatter(x=x_data, y=np.random.randn(20), \n",
    "                         scales= {'x': x_sc, 'y': y_sc}, colors=['orangered'],\n",
    "                         tooltip=dd, names=np.arange(100, 200), names_unique=False, display_names=False, \n",
    "                         display_legend=True, labels=['Red'])\n",
    "\n",
    "ax_x = Axis(scale=x_sc)\n",
    "ax_y = Axis(scale=y_sc, orientation='vertical', tick_format='0.2f')\n",
    "\n",
    "Figure(marks=[scatter_chart, scatter_chart2], axes=[ax_x, ax_y])"
   ]
  },
  {
   "cell_type": "code",
   "execution_count": 8,
   "metadata": {},
   "outputs": [],
   "source": [
    "def print_event(self, target):\n",
    "    print(target)\n",
    "\n",
    "# Adding call back to scatter events\n",
    "# print custom mssg on hover and background click of Blue Scatter\n",
    "scatter_chart.on_hover(print_event)\n",
    "scatter_chart.on_background_click(print_event)\n",
    "\n",
    "# print custom mssg on click of an element or legend of Red Scatter\n",
    "scatter_chart2.on_element_click(print_event)\n",
    "scatter_chart2.on_legend_click(print_event)"
   ]
  },
  {
   "cell_type": "code",
   "execution_count": 9,
   "metadata": {},
   "outputs": [],
   "source": [
    "# Adding figure as tooltip\n",
    "x_sc = LinearScale()\n",
    "y_sc = LinearScale()\n",
    "\n",
    "x_data = np.arange(10)\n",
    "y_data = np.random.randn(10)\n",
    "\n",
    "lc = Lines(x=x_data, y=y_data, scales={'x': x_sc, 'y':y_sc})\n",
    "ax_x = Axis(scale=x_sc)\n",
    "ax_y = Axis(scale=y_sc, orientation='vertical', tick_format='0.2f')\n",
    "tooltip_fig = Figure(marks=[lc], axes=[ax_x, ax_y], layout=Layout(min_width='600px'))\n",
    "\n",
    "scatter_chart.tooltip = tooltip_fig"
   ]
  },
  {
   "cell_type": "code",
   "execution_count": 11,
   "metadata": {},
   "outputs": [],
   "source": [
    "# Changing interaction from hover to click for tooltip\n",
    "scatter_chart.interactions = {'click': 'tooltip'}"
   ]
  },
  {
   "cell_type": "markdown",
   "metadata": {},
   "source": [
    "## Line Chart"
   ]
  },
  {
   "cell_type": "code",
   "execution_count": 12,
   "metadata": {},
   "outputs": [
    {
     "data": {
      "application/vnd.jupyter.widget-view+json": {
       "model_id": "75531bfe854a47a38f8acf8514e7cbd8",
       "version_major": 2,
       "version_minor": 0
      },
      "text/html": [
       "<p>Failed to display Jupyter Widget of type <code>Figure</code>.</p>\n",
       "<p>\n",
       "  If you're reading this message in the Jupyter Notebook or JupyterLab Notebook, it may mean\n",
       "  that the widgets JavaScript is still loading. If this message persists, it\n",
       "  likely means that the widgets JavaScript library is either not installed or\n",
       "  not enabled. See the <a href=\"https://ipywidgets.readthedocs.io/en/stable/user_install.html\">Jupyter\n",
       "  Widgets Documentation</a> for setup instructions.\n",
       "</p>\n",
       "<p>\n",
       "  If you're reading this message in another frontend (for example, a static\n",
       "  rendering on GitHub or <a href=\"https://nbviewer.jupyter.org/\">NBViewer</a>),\n",
       "  it may mean that your frontend doesn't currently support widgets.\n",
       "</p>\n"
      ],
      "text/plain": [
       "Figure(axes=[Axis(scale=LinearScale()), Axis(orientation='vertical', scale=LinearScale(), tick_format='0.2f')], fig_margin={'top': 60, 'bottom': 60, 'left': 60, 'right': 60}, layout=Layout(min_width='125px'), marks=[Lines(colors=['#1f77b4', '#ff7f0e', '#2ca02c', '#d62728', '#9467bd', '#8c564b', '#e377c2', '#7f7f7f', '#bcbd22', '#17becf'], display_legend=True, interactions={'hover': 'tooltip'}, labels=['line 1', 'line 2', 'line 3'], scales={'x': LinearScale(), 'y': LinearScale()}, scales_metadata={'x': {'orientation': 'horizontal', 'dimension': 'x'}, 'y': {'orientation': 'vertical', 'dimension': 'y'}, 'color': {'dimension': 'color'}}, tooltip=Tooltip(fields=['name', 'index'], formats=['', '.2f'], labels=['id', 'line_num']), tooltip_style={'opacity': 0.9}, x=array([ 0,  1,  2,  3,  4,  5,  6,  7,  8,  9, 10, 11, 12, 13, 14, 15, 16,\n",
       "       17, 18, 19, 20, 21, 22, 23, 24, 25, 26, 27, 28, 29, 30, 31, 32, 33,\n",
       "       34, 35, 36, 37, 38, 39, 40, 41, 42, 43, 44, 45, 46, 47, 48, 49, 50,\n",
       "       51, 52, 53, 54, 55, 56, 57, 58, 59, 60, 61, 62, 63, 64, 65, 66, 67,\n",
       "       68, 69, 70, 71, 72, 73, 74, 75, 76, 77, 78, 79, 80, 81, 82, 83, 84,\n",
       "       85, 86, 87, 88, 89, 90, 91, 92, 93, 94, 95, 96, 97, 98, 99]), y=array([[-0.93034073,  0.36682295,  0.49968214, -0.30148275, -0.46315185,\n",
       "        -0.03256975,  1.10380376, -0.12919   , -2.28550144,  0.4647105 ,\n",
       "         0.33613474,  1.12241561,  2.43985503,  0.90030843, -0.83843572,\n",
       "        -2.93538973, -0.48287708, -1.05343854, -0.77049738,  0.74820162,\n",
       "         0.69559865,  0.22844912, -0.88154403,  1.39200126,  0.54798558,\n",
       "         0.79682881, -1.83695243, -2.12339445,  0.27221074, -0.30847182,\n",
       "        -1.24773007,  1.26041953,  1.01358233, -0.58981859, -0.44656243,\n",
       "         1.48182294,  0.61131206,  0.30619374,  0.91157715, -0.54841504,\n",
       "         0.65613119,  0.25666603, -0.0070398 , -0.80364198,  0.78041708,\n",
       "        -1.21635011,  1.91568715,  1.3784898 , -0.9876303 , -0.58708684,\n",
       "         0.91966962,  1.25659359, -0.22444884, -0.13151927,  0.64626459,\n",
       "        -0.27265898,  0.5504284 , -0.1719473 , -0.70088156, -1.33920565,\n",
       "         1.39747486, -0.74087769,  1.10108061, -1.3486    ,  1.08825242,\n",
       "        -0.61328136,  0.22480102,  0.46281668,  0.54159245,  0.39116357,\n",
       "        -0.57829571, -1.12934541, -0.26935637,  0.43145223,  0.410314  ,\n",
       "         0.36740509, -0.52247712,  0.77215211,  0.33829141, -1.13267779,\n",
       "         1.5062102 , -0.19184769, -2.7558362 , -0.18174003,  0.14565974,\n",
       "        -0.59125518,  0.09358273,  0.57599095, -0.85722775,  0.47792644,\n",
       "        -1.40747795,  1.30777503, -1.95081537,  0.0600148 , -0.02842133,\n",
       "         0.05368624,  0.28240405, -0.62352124,  1.85377418,  1.09941356],\n",
       "       [ 2.22843342,  0.02171337,  0.98148076,  0.91388424, -0.43227373,\n",
       "         0.98624249,  0.58442887,  0.56331656, -0.28627152,  0.97354508,\n",
       "         2.57958659, -0.30617102, -1.11683327, -1.38874653,  0.74640915,\n",
       "        -0.71939299,  0.98149638,  0.14299545, -0.4490908 ,  0.4678667 ,\n",
       "         0.39459234,  0.01856826, -1.14216434, -0.08149799, -0.09977031,\n",
       "         1.70988311, -0.68086191, -0.22834022, -0.62274485,  0.98688632,\n",
       "        -1.76328312, -1.45067412, -0.31141047,  0.2368114 ,  0.71413369,\n",
       "         0.09735017,  0.01114071,  0.53721897, -1.14693318,  0.29513417,\n",
       "         0.62011758, -0.47693932, -1.25661736,  0.93317528,  1.15637326,\n",
       "        -0.41337021, -1.94905847,  0.64944587, -0.06397596, -0.64457919,\n",
       "        -0.30549514, -1.89886334, -0.08527817, -0.25429731,  1.12014187,\n",
       "        -1.06653655,  1.09147036,  0.14711041,  0.5221133 , -0.1793779 ,\n",
       "         0.75783865,  0.62757227,  2.05692286, -0.46014948,  0.50182751,\n",
       "        -0.42846932,  0.60501234, -0.61113944,  0.63661657, -0.31807675,\n",
       "         0.72446683,  0.5605094 , -1.1583309 ,  0.51205324, -1.24657065,\n",
       "        -1.43072143,  0.01852074, -0.63624904, -0.52995887, -0.53687007,\n",
       "        -0.43694127, -1.28809415,  0.28907139, -1.58977968,  0.86760989,\n",
       "         0.04481135, -0.98867905, -0.60083638, -1.23913807, -0.55207193,\n",
       "         0.48610571,  0.20818538,  0.67293733, -1.35346335, -1.14363084,\n",
       "        -0.64887214,  1.45207197, -0.04799863, -1.43533849, -1.16783498],\n",
       "       [ 0.25778077,  0.65990476,  0.44946955,  0.628607  ,  0.83302832,\n",
       "        -0.09079424, -0.12134804,  0.04640445, -0.06685446,  0.50222175,\n",
       "         0.77980702,  0.66973802, -1.11325454,  0.5313989 , -0.26578743,\n",
       "         2.49876255,  1.29279471, -0.01480523, -1.15868763,  0.80892584,\n",
       "        -2.07288937, -0.91827511, -0.50431703, -0.12510151, -0.08150037,\n",
       "         0.14083234, -0.59430374,  0.02015012, -1.8969647 ,  1.64834083,\n",
       "         0.21491786,  1.0948181 , -0.36146429, -0.77816566, -0.66376824,\n",
       "         0.70284293,  1.29298015, -0.81306235,  0.59370133,  0.08592912,\n",
       "         0.05900824, -1.39238288,  0.06857028, -0.08446693,  0.42635799,\n",
       "         0.10044504, -0.53396027, -0.99379191,  0.22371385,  0.3308425 ,\n",
       "         0.54508712, -1.83424559,  1.07010558, -1.44339292,  0.56340126,\n",
       "         0.03955947, -0.40323804,  1.48821756, -1.17753325, -0.40113707,\n",
       "         1.7064116 , -0.76090702,  1.28980836,  0.29922043, -0.07948846,\n",
       "         0.98884906, -0.31213613, -1.02185824, -1.11862566,  0.54186708,\n",
       "         1.05374599,  0.8685613 ,  0.3737103 , -0.928774  , -1.21041986,\n",
       "         0.71870978,  0.72025795, -2.91750084, -0.20180252,  2.06091639,\n",
       "        -0.85038324, -0.23023566, -1.23371159,  0.34602871,  0.62431311,\n",
       "         0.31674919, -0.82370219,  1.16928834,  1.06433769,  0.23158305,\n",
       "        -0.39037119, -2.29660372, -0.30008495, -0.39052737, -1.38876901,\n",
       "         0.03680471, -1.02687999, -1.27170267, -1.78830409, -1.07874439]]))], scale_x=LinearScale(allow_padding=False, max=1.0, min=0.0), scale_y=LinearScale(allow_padding=False, max=1.0, min=0.0))"
      ]
     },
     "metadata": {},
     "output_type": "display_data"
    }
   ],
   "source": [
    "# Adding default tooltip to Line Chart\n",
    "x_sc = LinearScale()\n",
    "y_sc = LinearScale()\n",
    "\n",
    "x_data = np.arange(100)\n",
    "y_data = np.random.randn(3, 100)\n",
    "\n",
    "def_tt = Tooltip(fields=['name', 'index'], formats=['', '.2f'], labels=['id', 'line_num'])\n",
    "line_chart = Lines(x=x_data, y=y_data, scales= {'x': x_sc, 'y': y_sc}, \n",
    "                       tooltip=def_tt, display_legend=True, labels=[\"line 1\", \"line 2\", \"line 3\"] )\n",
    "\n",
    "ax_x = Axis(scale=x_sc)\n",
    "ax_y = Axis(scale=y_sc, orientation='vertical', tick_format='0.2f')\n",
    "\n",
    "Figure(marks=[line_chart], axes=[ax_x, ax_y])"
   ]
  },
  {
   "cell_type": "code",
   "execution_count": 13,
   "metadata": {},
   "outputs": [],
   "source": [
    "# Adding call back to print event when legend or the line is clicked\n",
    "line_chart.on_legend_click(print_event)\n",
    "line_chart.on_element_click(print_event)"
   ]
  },
  {
   "cell_type": "markdown",
   "metadata": {},
   "source": [
    "## Bar Chart"
   ]
  },
  {
   "cell_type": "code",
   "execution_count": 15,
   "metadata": {},
   "outputs": [
    {
     "data": {
      "application/vnd.jupyter.widget-view+json": {
       "model_id": "b4ac6195351c4bbdb5b1f7c94451098c",
       "version_major": 2,
       "version_minor": 0
      },
      "text/html": [
       "<p>Failed to display Jupyter Widget of type <code>Figure</code>.</p>\n",
       "<p>\n",
       "  If you're reading this message in the Jupyter Notebook or JupyterLab Notebook, it may mean\n",
       "  that the widgets JavaScript is still loading. If this message persists, it\n",
       "  likely means that the widgets JavaScript library is either not installed or\n",
       "  not enabled. See the <a href=\"https://ipywidgets.readthedocs.io/en/stable/user_install.html\">Jupyter\n",
       "  Widgets Documentation</a> for setup instructions.\n",
       "</p>\n",
       "<p>\n",
       "  If you're reading this message in another frontend (for example, a static\n",
       "  rendering on GitHub or <a href=\"https://nbviewer.jupyter.org/\">NBViewer</a>),\n",
       "  it may mean that your frontend doesn't currently support widgets.\n",
       "</p>\n"
      ],
      "text/plain": [
       "Figure(axes=[Axis(scale=OrdinalScale()), Axis(orientation='vertical', scale=LinearScale(), tick_format='0.2f')], fig_margin={'top': 60, 'bottom': 60, 'left': 60, 'right': 60}, layout=Layout(min_width='125px'), marks=[Bars(colors=['steelblue'], display_legend=True, interactions={'click': 'select'}, labels=['Level 1', 'Level 2'], scales={'x': OrdinalScale(), 'y': LinearScale()}, scales_metadata={'x': {'orientation': 'horizontal', 'dimension': 'x'}, 'y': {'orientation': 'vertical', 'dimension': 'y'}, 'color': {'dimension': 'color'}}, selected_style={'stroke': 'orange', 'fill': 'red'}, tooltip_style={'opacity': 0.9}, x=array([0, 1, 2, 3, 4, 5, 6, 7, 8, 9]), y=array([[-0.63607743,  1.84123889, -0.49303959, -1.10932382,  1.39958283,\n",
       "        -1.04224012,  1.63602052, -0.07307989,  0.14970066, -1.32500115],\n",
       "       [ 0.02603423, -0.35089881, -0.50673721, -0.00522605, -0.08273299,\n",
       "        -1.12793942,  0.33836556,  0.47515477, -0.28044793, -0.76133209]]))], scale_x=LinearScale(allow_padding=False, max=1.0, min=0.0), scale_y=LinearScale(allow_padding=False, max=1.0, min=0.0))"
      ]
     },
     "metadata": {},
     "output_type": "display_data"
    }
   ],
   "source": [
    "# Adding interaction to select bar on click for Bar Chart\n",
    "x_sc = OrdinalScale()\n",
    "y_sc = LinearScale()\n",
    "\n",
    "x_data = np.arange(10)\n",
    "y_data = np.random.randn(2, 10)\n",
    "\n",
    "bar_chart = Bars(x=x_data, y=[y_data[0, :].tolist(), y_data[1, :].tolist()], scales= {'x': x_sc, 'y': y_sc},\n",
    "                 interactions={'click': 'select'},\n",
    "                 selected_style={'stroke': 'orange', 'fill': 'red'},\n",
    "                 labels=['Level 1', 'Level 2'],\n",
    "                 display_legend=True)\n",
    "ax_x = Axis(scale=x_sc)\n",
    "ax_y = Axis(scale=y_sc, orientation='vertical', tick_format='0.2f')\n",
    "\n",
    "Figure(marks=[bar_chart], axes=[ax_x, ax_y])"
   ]
  },
  {
   "cell_type": "code",
   "execution_count": 16,
   "metadata": {
    "collapsed": true
   },
   "outputs": [],
   "source": [
    "# Adding a tooltip on hover in addition to select on click\n",
    "def_tt = Tooltip(fields=['x', 'y'], formats=['', '.2f'])\n",
    "bar_chart.tooltip=def_tt\n",
    "bar_chart.interactions = {\n",
    "    'legend_hover': 'highlight_axes',\n",
    "    'hover': 'tooltip', \n",
    "    'click': 'select',\n",
    "}"
   ]
  },
  {
   "cell_type": "code",
   "execution_count": 17,
   "metadata": {
    "collapsed": true
   },
   "outputs": [],
   "source": [
    "# Changing tooltip to be on click\n",
    "bar_chart.interactions = {'click': 'tooltip'}"
   ]
  },
  {
   "cell_type": "code",
   "execution_count": 18,
   "metadata": {
    "collapsed": true
   },
   "outputs": [],
   "source": [
    "# Call back on legend being clicked\n",
    "bar_chart.type='grouped'\n",
    "bar_chart.on_legend_click(print_event)"
   ]
  },
  {
   "cell_type": "markdown",
   "metadata": {},
   "source": [
    "## Histogram"
   ]
  },
  {
   "cell_type": "code",
   "execution_count": 22,
   "metadata": {},
   "outputs": [
    {
     "data": {
      "application/vnd.jupyter.widget-view+json": {
       "model_id": "2c86a994f4e541a89dcbf865c904b265",
       "version_major": 2,
       "version_minor": 0
      },
      "text/html": [
       "<p>Failed to display Jupyter Widget of type <code>Figure</code>.</p>\n",
       "<p>\n",
       "  If you're reading this message in the Jupyter Notebook or JupyterLab Notebook, it may mean\n",
       "  that the widgets JavaScript is still loading. If this message persists, it\n",
       "  likely means that the widgets JavaScript library is either not installed or\n",
       "  not enabled. See the <a href=\"https://ipywidgets.readthedocs.io/en/stable/user_install.html\">Jupyter\n",
       "  Widgets Documentation</a> for setup instructions.\n",
       "</p>\n",
       "<p>\n",
       "  If you're reading this message in another frontend (for example, a static\n",
       "  rendering on GitHub or <a href=\"https://nbviewer.jupyter.org/\">NBViewer</a>),\n",
       "  it may mean that your frontend doesn't currently support widgets.\n",
       "</p>\n"
      ],
      "text/plain": [
       "Figure(axes=[Axis(scale=LinearScale(), tick_format='0.2f'), Axis(orientation='vertical', scale=LinearScale(), tick_format='0.2f')], fig_margin={'top': 60, 'bottom': 60, 'left': 60, 'right': 60}, layout=Layout(min_width='125px'), marks=[Hist(colors=['#1f77b4', '#ff7f0e', '#2ca02c', '#d62728', '#9467bd', '#8c564b', '#e377c2', '#7f7f7f', '#bcbd22', '#17becf'], display_legend=True, interactions={'hover': 'tooltip'}, labels=['Test Hist'], sample=array([-1.34393067,  1.13548506,  2.45515607, -0.01158119,  0.42294213,\n",
       "        2.04455488,  1.42201901,  1.08917512, -0.26081202,  0.42980079,\n",
       "       -1.55274991,  1.32111898, -0.32284861,  1.10560719,  1.50489796,\n",
       "        0.11366232,  0.04258435,  0.57321345, -0.7357751 ,  0.88083202,\n",
       "        0.42468066, -0.33230284,  0.45207686, -2.03220948,  0.17870251,\n",
       "        1.56178842,  0.85157419,  0.2901208 , -1.1353792 , -1.38166311,\n",
       "        0.63777796, -0.96256387,  0.50384443,  0.54786557,  1.31388852,\n",
       "        1.43948243, -0.08879634, -0.60450867,  0.61220672, -0.57807801,\n",
       "        1.04973348, -0.54614336,  0.10665299, -0.21460055,  0.16994766,\n",
       "        1.02958641,  0.22799306, -1.16430258,  0.80840093, -0.55390878,\n",
       "        1.18704678, -1.13856981, -1.52856908, -0.35201166,  1.6132804 ,\n",
       "       -1.39190617,  1.04127411,  0.33212298,  2.60866856,  1.13881659,\n",
       "       -0.36536855, -1.30943239, -0.28460506,  1.12670725, -0.60503288,\n",
       "        0.70752483,  1.92551537,  0.71984363, -2.12364373,  0.29695187,\n",
       "       -0.43688832, -1.56021082, -0.94392143, -0.15469465,  0.90290299,\n",
       "       -2.36225505,  0.11563201,  0.40022276, -0.78772881,  0.57251481,\n",
       "        0.39935686,  0.24756098,  1.42355299, -0.52594262,  0.4096182 ,\n",
       "       -2.04089497, -0.47336311, -0.52034636, -0.12215765, -0.64980558,\n",
       "       -0.49833062, -1.55003165, -0.1931062 ,  0.22723834,  0.64427637,\n",
       "       -1.49927653,  2.02660718, -0.48780836,  0.1652376 , -0.51237498]), scales={'sample': LinearScale(), 'count': LinearScale()}, scales_metadata={'sample': {'orientation': 'horizontal', 'dimension': 'x'}, 'count': {'orientation': 'vertical', 'dimension': 'y'}}, tooltip=Tooltip(fields=['count', 'midpoint'], formats=['', '.2f']), tooltip_style={'opacity': 0.9})], scale_x=LinearScale(allow_padding=False, max=1.0, min=0.0), scale_y=LinearScale(allow_padding=False, max=1.0, min=0.0))"
      ]
     },
     "metadata": {},
     "output_type": "display_data"
    }
   ],
   "source": [
    "# Adding tooltip for Histogram\n",
    "x_sc = LinearScale()\n",
    "y_sc = LinearScale()\n",
    "\n",
    "sample_data = np.random.randn(100)\n",
    "\n",
    "def_tt = Tooltip(formats=['', '.2f'], fields=['count', 'midpoint'])\n",
    "hist = Hist(sample=sample_data, scales= {'sample': x_sc, 'count': y_sc},\n",
    "                       tooltip=def_tt, display_legend=True, labels=['Test Hist'], select_bars=True)\n",
    "ax_x = Axis(scale=x_sc, tick_format='0.2f')\n",
    "ax_y = Axis(scale=y_sc, orientation='vertical', tick_format='0.2f')\n",
    "\n",
    "Figure(marks=[hist], axes=[ax_x, ax_y])"
   ]
  },
  {
   "cell_type": "code",
   "execution_count": 21,
   "metadata": {
    "collapsed": true
   },
   "outputs": [],
   "source": [
    "# Changing tooltip to be displayed on click\n",
    "hist.interactions = {'click': 'tooltip'}"
   ]
  },
  {
   "cell_type": "code",
   "execution_count": 23,
   "metadata": {
    "collapsed": true
   },
   "outputs": [],
   "source": [
    "# Changing tooltip to be on click of legend\n",
    "hist.interactions = {'legend_click': 'tooltip'}"
   ]
  },
  {
   "cell_type": "markdown",
   "metadata": {},
   "source": [
    "## Pie Chart"
   ]
  },
  {
   "cell_type": "code",
   "execution_count": null,
   "metadata": {},
   "outputs": [],
   "source": [
    "pie_data = np.abs(np.random.randn(10))\n",
    "\n",
    "sc = ColorScale(scheme='Reds')\n",
    "tooltip_widget = Tooltip(fields=['size', 'index', 'color'], formats=['0.2f', '', '0.2f'])\n",
    "pie = Pie(sizes=pie_data, scales={'color': sc}, color=np.random.randn(10), \n",
    "          tooltip=tooltip_widget, interactions = {'click': 'tooltip'}, selected_style={'fill': 'red'})\n",
    "\n",
    "pie.selected_style = {\"opacity\": \"1\", \"stroke\": \"white\", \"stroke-width\": \"2\"}\n",
    "pie.unselected_style = {\"opacity\": \"0.2\"}\n",
    "\n",
    "Figure(marks=[pie])"
   ]
  },
  {
   "cell_type": "code",
   "execution_count": null,
   "metadata": {
    "collapsed": true
   },
   "outputs": [],
   "source": [
    "# Changing interaction to select on click and tooltip on hover\n",
    "pie.interactions = {'click': 'select', 'hover': 'tooltip'}"
   ]
  },
  {
   "cell_type": "code",
   "execution_count": null,
   "metadata": {
    "collapsed": true
   },
   "outputs": [],
   "source": []
  },
  {
   "cell_type": "code",
   "execution_count": null,
   "metadata": {
    "collapsed": true
   },
   "outputs": [],
   "source": []
  }
 ],
 "metadata": {
  "anaconda-cloud": {},
  "kernelspec": {
   "display_name": "Python 3",
   "language": "python",
   "name": "python3"
  },
  "language_info": {
   "codemirror_mode": {
    "name": "ipython",
    "version": 3
   },
   "file_extension": ".py",
   "mimetype": "text/x-python",
   "name": "python",
   "nbconvert_exporter": "python",
   "pygments_lexer": "ipython3",
   "version": "3.6.3"
  }
 },
 "nbformat": 4,
 "nbformat_minor": 2
}
