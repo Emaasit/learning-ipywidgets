{
 "cells": [
  {
   "cell_type": "code",
   "execution_count": null,
   "metadata": {
    "collapsed": false,
    "deletable": true,
    "editable": true
   },
   "outputs": [],
   "source": [
    "import numpy as np\n",
    "from bqplot import *"
   ]
  },
  {
   "cell_type": "code",
   "execution_count": null,
   "metadata": {
    "collapsed": true,
    "deletable": true,
    "editable": true
   },
   "outputs": [],
   "source": [
    "size = 100\n",
    "np.random.seed(0)\n",
    "\n",
    "x_data = range(size)\n",
    "y_data = np.random.randn(size)\n",
    "y_data_2 = np.random.randn(size)\n",
    "y_data_3 = np.cumsum(np.random.randn(size) * 100.)"
   ]
  },
  {
   "cell_type": "markdown",
   "metadata": {
    "deletable": true,
    "editable": true
   },
   "source": [
    "## Basic Bar Chart"
   ]
  },
  {
   "cell_type": "code",
   "execution_count": null,
   "metadata": {
    "collapsed": false,
    "deletable": true,
    "editable": true
   },
   "outputs": [],
   "source": [
    "x_ord = OrdinalScale()\n",
    "y_sc = LinearScale()\n",
    "\n",
    "bar = Bars(x=np.arange(10), y=np.random.rand(10), scales={'x': x_ord, 'y': y_sc})\n",
    "ax_x = Axis(scale=x_ord)\n",
    "ax_y = Axis(scale=y_sc, tick_format='0.2f', orientation='vertical')\n",
    "\n",
    "Figure(marks=[bar], axes=[ax_x, ax_y], padding_x=0.025, padding_y=0.025)"
   ]
  },
  {
   "cell_type": "markdown",
   "metadata": {
    "deletable": true,
    "editable": true
   },
   "source": [
    "## Horizontal Bar Chart"
   ]
  },
  {
   "cell_type": "markdown",
   "metadata": {
    "deletable": true,
    "editable": true
   },
   "source": [
    "To generate a horizontal bar chart, pass `orientation='horizontal'` to the bar."
   ]
  },
  {
   "cell_type": "code",
   "execution_count": null,
   "metadata": {
    "collapsed": false,
    "deletable": true,
    "editable": true
   },
   "outputs": [],
   "source": [
    "x_ord = OrdinalScale()\n",
    "y_sc = LinearScale()\n",
    "\n",
    "bar = Bars(x=np.arange(10), y=np.arange(-5, 5), scales={'x': x_ord, 'y': y_sc},\n",
    "           orientation='horizontal')\n",
    "ax_x = Axis(scale=x_ord, orientation='vertical')\n",
    "ax_y = Axis(scale=y_sc, tick_format='0.2f')\n",
    "\n",
    "Figure(marks=[bar], axes=[ax_x, ax_y], padding_x=0.025, padding_y=0.025)"
   ]
  },
  {
   "cell_type": "markdown",
   "metadata": {
    "deletable": true,
    "editable": true
   },
   "source": [
    "## Changing the reference value from which the Bars are drawn"
   ]
  },
  {
   "cell_type": "code",
   "execution_count": null,
   "metadata": {
    "collapsed": false,
    "deletable": true,
    "editable": true
   },
   "outputs": [],
   "source": [
    "x_ord = LinearScale()\n",
    "y_sc = LinearScale()\n",
    "\n",
    "bar = Bars(x=x_data[:20], y=np.abs(y_data_2[:20]), scales={'x': x_ord, 'y': y_sc}, base=1.0)\n",
    "ax_x = Axis(scale=x_ord)\n",
    "ax_y = Axis(scale=y_sc, orientation='vertical', tick_format='0.2f')\n",
    "\n",
    "Figure(marks=[bar], axes=[ax_x, ax_y])"
   ]
  },
  {
   "cell_type": "code",
   "execution_count": null,
   "metadata": {
    "collapsed": true,
    "deletable": true,
    "editable": true
   },
   "outputs": [],
   "source": [
    "# changing the base\n",
    "bar.base = 2.0"
   ]
  },
  {
   "cell_type": "code",
   "execution_count": null,
   "metadata": {
    "collapsed": true,
    "deletable": true,
    "editable": true
   },
   "outputs": [],
   "source": [
    "bar.align = 'right'"
   ]
  },
  {
   "cell_type": "markdown",
   "metadata": {
    "deletable": true,
    "editable": true
   },
   "source": [
    "## Bar Chart Properties"
   ]
  },
  {
   "cell_type": "code",
   "execution_count": null,
   "metadata": {
    "collapsed": false,
    "deletable": true,
    "editable": true
   },
   "outputs": [],
   "source": [
    "# Increasing the spacing between the bars\n",
    "x_ord = OrdinalScale()\n",
    "y_sc = LinearScale()\n",
    "\n",
    "bar = Bars(x=x_data[:20], y=y_data[:20], scales={'x': x_ord, 'y': y_sc}, padding=0.2)\n",
    "ax_x = Axis(scale=x_ord)\n",
    "ax_y = Axis(scale=y_sc, orientation='vertical', tick_format='0.2f')\n",
    "\n",
    "Figure(marks=[bar], axes=[ax_x, ax_y])"
   ]
  },
  {
   "cell_type": "code",
   "execution_count": null,
   "metadata": {
    "collapsed": true,
    "deletable": true,
    "editable": true
   },
   "outputs": [],
   "source": [
    "# changing basic properties like stroke and opacity\n",
    "bar.stroke = 'orange'\n",
    "bar.opacities = [0.5, 0.2]"
   ]
  },
  {
   "cell_type": "code",
   "execution_count": null,
   "metadata": {
    "collapsed": true,
    "deletable": true,
    "editable": true
   },
   "outputs": [],
   "source": [
    "bar.orientation = 'horizontal'\n",
    "ax_x.orientation = 'vertical'\n",
    "ax_y.orientation = 'horizontal'"
   ]
  },
  {
   "cell_type": "markdown",
   "metadata": {
    "deletable": true,
    "editable": true
   },
   "source": [
    "## Stacked Bar Chart for 2-d data"
   ]
  },
  {
   "cell_type": "code",
   "execution_count": null,
   "metadata": {
    "collapsed": false,
    "deletable": true,
    "editable": true
   },
   "outputs": [],
   "source": [
    "x_ord = OrdinalScale()\n",
    "y_sc = LinearScale()\n",
    "\n",
    "bar = Bars(x=x_data, y=[y_data[:20], y_data_2[:20]], \n",
    "           scales={'x': x_ord, 'y': y_sc}, padding=0.2,\n",
    "           colors=CATEGORY10)\n",
    "ax_x = Axis(scale=x_ord)\n",
    "ax_y = Axis(scale=y_sc, orientation='vertical', tick_format='0.2f')\n",
    "\n",
    "Figure(marks=[bar], axes=[ax_x, ax_y])"
   ]
  },
  {
   "cell_type": "markdown",
   "metadata": {
    "deletable": true,
    "editable": true
   },
   "source": [
    "## Grouped Bar Chart"
   ]
  },
  {
   "cell_type": "code",
   "execution_count": null,
   "metadata": {
    "collapsed": true,
    "deletable": true,
    "editable": true
   },
   "outputs": [],
   "source": [
    "bar.type = 'grouped' # equivalent to saying \n",
    "# bar = Bars(x=x_data, y=y_data, scales={'x': x_ord, 'y': y_sc}, padding=0.2, type='grouped')"
   ]
  },
  {
   "cell_type": "code",
   "execution_count": null,
   "metadata": {
    "collapsed": false,
    "deletable": true,
    "editable": true
   },
   "outputs": [],
   "source": [
    "x_ord = OrdinalScale()\n",
    "y_sc = LinearScale()\n",
    "\n",
    "bar = Bars(x=x_data, y=[y_data[:20], y_data_2[:20]], \n",
    "           scales={'x': x_ord, 'y': y_sc}, padding=0.2, \n",
    "           colors=CATEGORY10, type='stacked', orientation='horizontal')\n",
    "ax_x = Axis(scale=x_ord, orientation='vertical')\n",
    "ax_y = Axis(scale=y_sc, tick_format='0.2f')\n",
    "\n",
    "Figure(marks=[bar], axes=[ax_x, ax_y])"
   ]
  },
  {
   "cell_type": "code",
   "execution_count": null,
   "metadata": {
    "collapsed": true,
    "deletable": true,
    "editable": true
   },
   "outputs": [],
   "source": [
    "bar.type = 'grouped'"
   ]
  },
  {
   "cell_type": "markdown",
   "metadata": {
    "deletable": true,
    "editable": true
   },
   "source": [
    "## Modifying color mode"
   ]
  },
  {
   "cell_type": "code",
   "execution_count": null,
   "metadata": {
    "collapsed": false,
    "deletable": true,
    "editable": true
   },
   "outputs": [],
   "source": [
    "## Color mode has 2 values. 'group' and 'element'. \n",
    "## 'group' means for every x all bars have same color.\n",
    "## 'element' means for every dimension of y, all bars have same color.\n",
    "x_ord = OrdinalScale()\n",
    "y_sc = LinearScale()\n",
    "\n",
    "bar = Bars(x=x_data, y=[y_data[:20], y_data_2[:20]],\n",
    "           scales={'x': x_ord, 'y': y_sc}, padding=0.2, \n",
    "           colors=CATEGORY10, color_mode='group')\n",
    "ax_x = Axis(scale=x_ord)\n",
    "ax_y = Axis(scale=y_sc, orientation='vertical', tick_format='0.2f')\n",
    "\n",
    "Figure(marks=[bar], axes=[ax_x, ax_y])"
   ]
  },
  {
   "cell_type": "code",
   "execution_count": null,
   "metadata": {
    "collapsed": false,
    "deletable": true,
    "editable": true
   },
   "outputs": [],
   "source": [
    "## for 1-d array for Y.\n",
    "x_ord = OrdinalScale()\n",
    "y_sc = LinearScale()\n",
    "\n",
    "bar = Bars(x=x_data, y=y_data[:20], scales={'x': x_ord, 'y': y_sc}, padding=0.2,\n",
    "           color_mode='element', labels=['Values'], \n",
    "           display_legend=True)\n",
    "ax_x = Axis(scale=x_ord)\n",
    "ax_y = Axis(scale=y_sc, orientation='vertical', tick_format='0.2f')\n",
    "\n",
    "Figure(marks=[bar], axes=[ax_x, ax_y])"
   ]
  },
  {
   "cell_type": "markdown",
   "metadata": {
    "collapsed": true,
    "deletable": true,
    "editable": true
   },
   "source": [
    "## Representing additional dimension using Color"
   ]
  },
  {
   "cell_type": "code",
   "execution_count": null,
   "metadata": {
    "collapsed": false,
    "deletable": true,
    "editable": true
   },
   "outputs": [],
   "source": [
    "# In this example, the color is just the magnitude of the y data\n",
    "x_ord = OrdinalScale()\n",
    "y_sc = LinearScale()\n",
    "col_sc = ColorScale(scheme='Reds')\n",
    "\n",
    "bar = Bars(x=x_data[:20], y=y_data[:20], color=np.abs(y_data[:20]),\n",
    "           scales={'x': x_ord, 'y': y_sc, 'color': col_sc}, padding=0.2)\n",
    "ax_x = Axis(scale=x_ord)\n",
    "ax_y = Axis(scale=y_sc, orientation='vertical', tick_format='0.2f')\n",
    "ax_c = ColorAxis(scale=col_sc, tick_format='0.2f')\n",
    "\n",
    "margin = dict(top=50, bottom=80, left=50, right=50)\n",
    "\n",
    "Figure(marks=[bar], axes=[ax_x, ax_y, ax_c], fig_margin=margin)"
   ]
  },
  {
   "cell_type": "markdown",
   "metadata": {
    "deletable": true,
    "editable": true
   },
   "source": [
    "## Adding color for 2-d data"
   ]
  },
  {
   "cell_type": "code",
   "execution_count": null,
   "metadata": {
    "collapsed": false,
    "deletable": true,
    "editable": true
   },
   "outputs": [],
   "source": [
    "# By default color is applied along the axis=1\n",
    "x_ord = OrdinalScale()\n",
    "y_sc = LinearScale()\n",
    "col_sc = ColorScale(scheme='Reds')\n",
    "\n",
    "y_vals = [y_data[:20], y_data_2[:20], y_data_3[:20] / 100.0]\n",
    "color_data = np.mean(y_vals, axis=1)\n",
    "\n",
    "bar = Bars(x=x_data, y=y_vals, color=color_data, \n",
    "           scales={'x': x_ord, 'y': y_sc, 'color': col_sc}, padding=0.2,\n",
    "           labels=['Dim 1', 'Dim 2', 'Dim 3'], display_legend=True)\n",
    "ax_x = Axis(scale=x_ord)\n",
    "ax_y = Axis(scale=y_sc, orientation='vertical', tick_format='0.2f')\n",
    "ax_c = ColorAxis(scale=col_sc, tick_format='0.2f')\n",
    "\n",
    "margin = dict(top=50, bottom=80, left=50, right=50)\n",
    "Figure(marks=[bar], axes=[ax_x, ax_y, ax_c], fig_margin=margin)"
   ]
  },
  {
   "cell_type": "code",
   "execution_count": null,
   "metadata": {
    "collapsed": false,
    "deletable": true,
    "editable": true
   },
   "outputs": [],
   "source": [
    "# Applying color along the axis=0\n",
    "x_ord = OrdinalScale()\n",
    "y_sc = LinearScale()\n",
    "col_sc = ColorScale(mid=0.0)\n",
    "\n",
    "y_vals = [y_data[:20], y_data_2[:20], y_data_3[:20] / 100.0]\n",
    "color_data = np.mean(y_vals, axis=0)\n",
    "\n",
    "bar = Bars(x=x_data, y=y_vals, color=color_data, \n",
    "           scales={'x': x_ord, 'y': y_sc, 'color': col_sc},\n",
    "           padding=0.2, color_mode='group', stroke='orange')\n",
    "ax_x = Axis(scale=x_ord)\n",
    "ax_y = Axis(scale=y_sc, orientation='vertical', tick_format='0.2f')\n",
    "ax_c = ColorAxis(scale=col_sc, tick_format='0.1f')\n",
    "\n",
    "margin = dict(top=50, bottom=80, left=50, right=50)\n",
    "Figure(marks=[bar], axes=[ax_x, ax_y, ax_c], fig_margin=margin)"
   ]
  }
 ],
 "metadata": {
  "anaconda-cloud": {},
  "kernelspec": {
   "display_name": "Python 3",
   "language": "python",
   "name": "python3"
  },
  "language_info": {
   "codemirror_mode": {
    "name": "ipython",
    "version": 3
   },
   "file_extension": ".py",
   "mimetype": "text/x-python",
   "name": "python",
   "nbconvert_exporter": "python",
   "pygments_lexer": "ipython3",
   "version": "3.6.0"
  },
  "widgets": {
   "application/vnd.jupyter.widget-state+json": {
    "state": {
     "0083310ee0a7477788a0bd31159a3867": {
      "model_module": "bqplot",
      "model_module_version": "^0.2.3",
      "model_name": "BarsModel",
      "state": {
       "color": {
        "type": null,
        "values": null
       },
       "display_legend": false,
       "opacities": [
        0.5,
        0.2
       ],
       "orientation": "horizontal",
       "padding": 0.2,
       "scales": {
        "x": "IPY_MODEL_2ddc1f20286844cdba67c4e6c13f30cf",
        "y": "IPY_MODEL_2a9953fc33ff43c18e4b1f12056e2fc8"
       },
       "scales_metadata": {
        "x": {
         "dimension": "x",
         "orientation": "vertical"
        },
        "y": {
         "dimension": "y",
         "orientation": "horizontal"
        }
       },
       "selected": [],
       "stroke": "orange",
       "x": {
        "type": "float",
        "values": [
         0,
         1,
         2,
         3,
         4,
         5,
         6,
         7,
         8,
         9,
         10,
         11,
         12,
         13,
         14,
         15,
         16,
         17,
         18,
         19
        ]
       },
       "y": {
        "type": "float",
        "values": [
         1.764052345967664,
         0.4001572083672233,
         0.9787379841057392,
         2.240893199201458,
         1.8675579901499675,
         -0.977277879876411,
         0.9500884175255894,
         -0.1513572082976979,
         -0.10321885179355784,
         0.41059850193837233,
         0.144043571160878,
         1.454273506962975,
         0.7610377251469934,
         0.12167501649282841,
         0.44386323274542566,
         0.33367432737426683,
         1.4940790731576061,
         -0.20515826376580087,
         0.31306770165090136,
         -0.8540957393017248
        ]
       }
      }
     },
     "020dbf599bca4ac5bd17553bfcbc5dc2": {
      "model_module": "bqplot",
      "model_module_version": "^0.2.3",
      "model_name": "BarsModel",
      "state": {
       "align": "right",
       "base": 2,
       "color": {
        "type": null,
        "values": null
       },
       "display_legend": false,
       "scales": {
        "x": "IPY_MODEL_2d5f83b7b00a492baf8eb0424cd6a005",
        "y": "IPY_MODEL_d688d5e6e50f48c791507751718af8a8"
       },
       "selected": [],
       "x": {
        "type": "float",
        "values": [
         0,
         1,
         2,
         3,
         4,
         5,
         6,
         7,
         8,
         9,
         10,
         11,
         12,
         13,
         14,
         15,
         16,
         17,
         18,
         19
        ]
       },
       "y": {
        "type": "float",
        "values": [
         1.8831506970562544,
         1.3477590611424464,
         1.2704849984857336,
         0.9693967081580112,
         1.17312340511416,
         1.9436211856492926,
         0.41361898075974735,
         0.7474548114407578,
         1.9229420264803847,
         1.4805147914344243,
         1.8675589604265699,
         0.9060446582753853,
         0.8612256850547025,
         1.9100649530990337,
         0.2680033709513804,
         0.8024563957963952,
         0.947251967773748,
         0.1550100930908342,
         0.6140793703460803,
         0.9222066715665268
        ]
       }
      }
     },
     "092fdfc0a53f45549149fa2c6d83265f": {
      "model_module": "bqplot",
      "model_module_version": "^0.2.3",
      "model_name": "LinearScaleModel",
      "state": {
       "allow_padding": false,
       "max": 1,
       "min": 0,
       "stabilized": false
      }
     },
     "0a85d6bf666b43fa9e093a9eadea63a9": {
      "model_module": "bqplot",
      "model_module_version": "^0.2.3",
      "model_name": "FigureModel",
      "state": {
       "_dom_classes": [],
       "axes": [
        "IPY_MODEL_776424ca62bd4192a13fc9b5d6e1c576",
        "IPY_MODEL_25947cc6d7024e6c9638ff5d6feff69d",
        "IPY_MODEL_64c83e5394174012ac733493aa4b49bc"
       ],
       "fig_margin": {
        "bottom": 80,
        "left": 50,
        "right": 50,
        "top": 50
       },
       "layout": "IPY_MODEL_7795097c660d4ff9b2ee280b7f983d80",
       "marks": [
        "IPY_MODEL_5ce1451a32424b9bb2606b52580a8ad1"
       ],
       "max_aspect_ratio": 6,
       "scale_x": "IPY_MODEL_aee1e62db7734a8fbe0743daebd26c9e",
       "scale_y": "IPY_MODEL_886a341c4e1e4a05a46d02465ba63506"
      }
     },
     "0cbe01dc362d4792bcdef7e867c53b0d": {
      "model_module": "bqplot",
      "model_module_version": "^0.2.3",
      "model_name": "LinearScaleModel",
      "state": {
       "stabilized": false
      }
     },
     "0d8aa355e5e84b51996c7d151ce1fd32": {
      "model_module": "bqplot",
      "model_module_version": "^0.2.3",
      "model_name": "FigureModel",
      "state": {
       "_dom_classes": [],
       "axes": [
        "IPY_MODEL_b05d98e6e0144fa89987c7ba72195d34",
        "IPY_MODEL_56d87c58c99848a28ea3aeb5ae5ef730"
       ],
       "layout": "IPY_MODEL_7d954a9998944ba087ffca5f581de1ca",
       "marks": [
        "IPY_MODEL_ac5dbd4e070049de9f9ee4c65426154e"
       ],
       "max_aspect_ratio": 6,
       "scale_x": "IPY_MODEL_79a1b45d28a04c8a91558ba9cdc162d0",
       "scale_y": "IPY_MODEL_b3ba751fb29f40e1b5c64439e319b226"
      }
     },
     "13b778677e0d4e1896e414016dea0683": {
      "model_module": "bqplot",
      "model_module_version": "^0.2.3",
      "model_name": "AxisModel",
      "state": {
       "orientation": "vertical",
       "scale": "IPY_MODEL_d688d5e6e50f48c791507751718af8a8",
       "side": "left",
       "tick_format": "0.2f",
       "tick_values": {
        "type": null,
        "values": null
       }
      }
     },
     "17c6de16bd7c44b4a9adb8e59bf9c3f4": {
      "model_module": "bqplot",
      "model_module_version": "^0.2.3",
      "model_name": "AxisModel",
      "state": {
       "scale": "IPY_MODEL_bffaa0e938db4e1aaf8ff7c187b750cb",
       "side": "bottom",
       "tick_values": {
        "type": null,
        "values": null
       }
      }
     },
     "212bf127a59444458c4bb2d484d1ca87": {
      "model_module": "bqplot",
      "model_module_version": "^0.2.3",
      "model_name": "BarsModel",
      "state": {
       "color": {
        "type": "float",
        "values": [
         1.0926737350271583,
         -0.5187209560978644,
         0.06645052199624958,
         1.45221740615027,
         0.8269761407415803,
         0.3786270328836601,
         0.2272270350816684,
         -0.4972104201549938,
         0.5022761776678465,
         0.49335608734885045,
         0.8369121361179315,
         1.058890085732003,
         0.500830698052972,
         1.0560003089741812,
         0.12255818773549222,
         0.30596524379351503,
         0.7353585450932655,
         -0.07209067565103695,
         1.110117450863786,
         0.8096863537328453
        ]
       },
       "color_mode": "group",
       "display_legend": false,
       "padding": 0.2,
       "scales": {
        "color": "IPY_MODEL_afc3146650d140678af5c5562ba2546a",
        "x": "IPY_MODEL_bffaa0e938db4e1aaf8ff7c187b750cb",
        "y": "IPY_MODEL_4c4c868b63a54ca89d5f3b9cb5419f8d"
       },
       "selected": [],
       "stroke": "orange",
       "x": {
        "type": "float",
        "values": [
         0,
         1,
         2,
         3,
         4,
         5,
         6,
         7,
         8,
         9,
         10,
         11,
         12,
         13,
         14,
         15,
         16,
         17,
         18,
         19,
         20,
         21,
         22,
         23,
         24,
         25,
         26,
         27,
         28,
         29,
         30,
         31,
         32,
         33,
         34,
         35,
         36,
         37,
         38,
         39,
         40,
         41,
         42,
         43,
         44,
         45,
         46,
         47,
         48,
         49,
         50,
         51,
         52,
         53,
         54,
         55,
         56,
         57,
         58,
         59,
         60,
         61,
         62,
         63,
         64,
         65,
         66,
         67,
         68,
         69,
         70,
         71,
         72,
         73,
         74,
         75,
         76,
         77,
         78,
         79,
         80,
         81,
         82,
         83,
         84,
         85,
         86,
         87,
         88,
         89,
         90,
         91,
         92,
         93,
         94,
         95,
         96,
         97,
         98,
         99
        ]
       },
       "y": {
        "type": "float",
        "values": [
         [
          1.764052345967664,
          0.4001572083672233,
          0.9787379841057392,
          2.240893199201458,
          1.8675579901499675,
          -0.977277879876411,
          0.9500884175255894,
          -0.1513572082976979,
          -0.10321885179355784,
          0.41059850193837233,
          0.144043571160878,
          1.454273506962975,
          0.7610377251469934,
          0.12167501649282841,
          0.44386323274542566,
          0.33367432737426683,
          1.4940790731576061,
          -0.20515826376580087,
          0.31306770165090136,
          -0.8540957393017248
         ],
         [
          1.8831506970562544,
          -1.3477590611424464,
          -1.2704849984857336,
          0.9693967081580112,
          -1.17312340511416,
          1.9436211856492926,
          -0.41361898075974735,
          -0.7474548114407578,
          1.9229420264803847,
          1.4805147914344243,
          1.8675589604265699,
          0.9060446582753853,
          -0.8612256850547025,
          1.9100649530990337,
          -0.2680033709513804,
          0.8024563957963952,
          0.947251967773748,
          -0.1550100930908342,
          0.6140793703460803,
          0.9222066715665268
         ],
         [
          -0.3691818379424436,
          -0.60856101551837,
          0.49109858036874315,
          1.146362311091341,
          1.7864938371889332,
          0.1695377928780988,
          0.14521166847916317,
          -0.5928192407265256,
          -0.31289464168328734,
          -0.4110450313262453,
          0.4991338767663467,
          0.8163520919576487,
          1.602680054066625,
          1.1362609573306819,
          0.1918147014124314,
          -0.21823499179011704,
          -0.23525540565155764,
          0.1438963299035242,
          2.4032052805943764,
          2.3609481289337335
         ]
        ]
       }
      }
     },
     "2278360a4691496398e0f1c65133d200": {
      "model_module": "bqplot",
      "model_module_version": "^0.2.3",
      "model_name": "LinearScaleModel",
      "state": {
       "allow_padding": false,
       "max": 1,
       "min": 0,
       "stabilized": false
      }
     },
     "23783ef404b64ab7bb8a22ea145d848e": {
      "model_module": "jupyter-js-widgets",
      "model_module_version": "~2.1.4",
      "model_name": "LayoutModel",
      "state": {
       "_model_module_version": "~2.1.4",
       "_view_module_version": "~2.1.4",
       "min_width": "125px"
      }
     },
     "25947cc6d7024e6c9638ff5d6feff69d": {
      "model_module": "bqplot",
      "model_module_version": "^0.2.3",
      "model_name": "AxisModel",
      "state": {
       "orientation": "vertical",
       "scale": "IPY_MODEL_3937ebc1313e4887a44036d9c28bd1d2",
       "side": "left",
       "tick_format": "0.2f",
       "tick_values": {
        "type": null,
        "values": null
       }
      }
     },
     "2a9953fc33ff43c18e4b1f12056e2fc8": {
      "model_module": "bqplot",
      "model_module_version": "^0.2.3",
      "model_name": "LinearScaleModel",
      "state": {
       "stabilized": false
      }
     },
     "2d3de2fbe6e24aff8c03b5a3d0bc59d0": {
      "model_module": "jupyter-js-widgets",
      "model_module_version": "~2.1.4",
      "model_name": "LayoutModel",
      "state": {
       "_model_module_version": "~2.1.4",
       "_view_module_version": "~2.1.4",
       "min_width": "125px"
      }
     },
     "2d5f83b7b00a492baf8eb0424cd6a005": {
      "model_module": "bqplot",
      "model_module_version": "^0.2.3",
      "model_name": "LinearScaleModel",
      "state": {
       "stabilized": false
      }
     },
     "2ddc1f20286844cdba67c4e6c13f30cf": {
      "model_module": "bqplot",
      "model_module_version": "^0.2.3",
      "model_name": "OrdinalScaleModel",
      "state": {
       "domain": []
      }
     },
     "3014cc2f010f4b93a268f7fe24956c47": {
      "model_module": "jupyter-js-widgets",
      "model_module_version": "~2.1.4",
      "model_name": "LayoutModel",
      "state": {
       "_model_module_version": "~2.1.4",
       "_view_module_version": "~2.1.4",
       "min_width": "125px"
      }
     },
     "3208e98748c94662b7bfef4c794ff8d5": {
      "model_module": "jupyter-js-widgets",
      "model_module_version": "~2.1.4",
      "model_name": "LayoutModel",
      "state": {
       "_model_module_version": "~2.1.4",
       "_view_module_version": "~2.1.4",
       "min_width": "125px"
      }
     },
     "3677d66f097c4b50b37fcfce5a0267a1": {
      "model_module": "bqplot",
      "model_module_version": "^0.2.3",
      "model_name": "AxisModel",
      "state": {
       "scale": "IPY_MODEL_524dd6caf24c45c8b1978d021f28f782",
       "side": "bottom",
       "tick_values": {
        "type": null,
        "values": null
       }
      }
     },
     "3937ebc1313e4887a44036d9c28bd1d2": {
      "model_module": "bqplot",
      "model_module_version": "^0.2.3",
      "model_name": "LinearScaleModel",
      "state": {
       "stabilized": false
      }
     },
     "39d7ca4e0e6b4cbfb62a1ce72334a19b": {
      "model_module": "bqplot",
      "model_module_version": "^0.2.3",
      "model_name": "AxisModel",
      "state": {
       "orientation": "vertical",
       "scale": "IPY_MODEL_2ddc1f20286844cdba67c4e6c13f30cf",
       "side": "left",
       "tick_values": {
        "type": null,
        "values": null
       }
      }
     },
     "3b23bd95102a4ed0a66eab7ef6184806": {
      "model_module": "bqplot",
      "model_module_version": "^0.2.3",
      "model_name": "AxisModel",
      "state": {
       "orientation": "vertical",
       "scale": "IPY_MODEL_da66909255434380bc7f44337ce61e4d",
       "side": "left",
       "tick_values": {
        "type": null,
        "values": null
       }
      }
     },
     "3bb9dea4578a46be800226c530099047": {
      "model_module": "bqplot",
      "model_module_version": "^0.2.3",
      "model_name": "OrdinalScaleModel",
      "state": {
       "domain": []
      }
     },
     "3d8ecb193f6f403aad20c1a0584a2b55": {
      "model_module": "bqplot",
      "model_module_version": "^0.2.3",
      "model_name": "ColorAxisModel",
      "state": {
       "scale": "IPY_MODEL_afc3146650d140678af5c5562ba2546a",
       "side": "bottom",
       "tick_format": "0.2f",
       "tick_values": {
        "type": null,
        "values": null
       }
      }
     },
     "3eac277caf1b486b9e32094b8f2661b6": {
      "model_module": "bqplot",
      "model_module_version": "^0.2.3",
      "model_name": "LinearScaleModel",
      "state": {
       "stabilized": false
      }
     },
     "4905819748aa49a498526f882efdff0e": {
      "model_module": "bqplot",
      "model_module_version": "^0.2.3",
      "model_name": "LinearScaleModel",
      "state": {
       "allow_padding": false,
       "max": 1,
       "min": 0,
       "stabilized": false
      }
     },
     "4b9bdb7fb80c4c63bd7c6173ef26ce49": {
      "model_module": "bqplot",
      "model_module_version": "^0.2.3",
      "model_name": "BarsModel",
      "state": {
       "color": {
        "type": null,
        "values": null
       },
       "display_legend": false,
       "scales": {
        "x": "IPY_MODEL_98129b925577467f851e23852ad62003",
        "y": "IPY_MODEL_c0302e2dffe54fbd81e9150f2e6154fd"
       },
       "selected": [],
       "x": {
        "type": "float",
        "values": [
         0,
         1,
         2,
         3,
         4
        ]
       },
       "y": {
        "type": "float",
        "values": [
         2,
         3,
         4,
         5
        ]
       }
      }
     },
     "4c4c868b63a54ca89d5f3b9cb5419f8d": {
      "model_module": "bqplot",
      "model_module_version": "^0.2.3",
      "model_name": "LinearScaleModel",
      "state": {
       "stabilized": false
      }
     },
     "524dd6caf24c45c8b1978d021f28f782": {
      "model_module": "bqplot",
      "model_module_version": "^0.2.3",
      "model_name": "OrdinalScaleModel",
      "state": {
       "domain": []
      }
     },
     "56b1c691a0e64be0a4af3d9a5863ca68": {
      "model_module": "bqplot",
      "model_module_version": "^0.2.3",
      "model_name": "OrdinalScaleModel",
      "state": {
       "domain": []
      }
     },
     "56d87c58c99848a28ea3aeb5ae5ef730": {
      "model_module": "bqplot",
      "model_module_version": "^0.2.3",
      "model_name": "AxisModel",
      "state": {
       "orientation": "vertical",
       "scale": "IPY_MODEL_6a18933665d545dea3d0c4433f3100e7",
       "side": "left",
       "tick_format": "0.2f",
       "tick_values": {
        "type": null,
        "values": null
       }
      }
     },
     "5b4240d34cab4aec84d711034f56a346": {
      "model_module": "bqplot",
      "model_module_version": "^0.2.3",
      "model_name": "LinearScaleModel",
      "state": {
       "allow_padding": false,
       "max": 1,
       "min": 0,
       "stabilized": false
      }
     },
     "5c62ac612ddc435ea0db6bf18ed62d68": {
      "model_module": "bqplot",
      "model_module_version": "^0.2.3",
      "model_name": "LinearScaleModel",
      "state": {
       "allow_padding": false,
       "max": 1,
       "min": 0,
       "stabilized": false
      }
     },
     "5ce1451a32424b9bb2606b52580a8ad1": {
      "model_module": "bqplot",
      "model_module_version": "^0.2.3",
      "model_name": "BarsModel",
      "state": {
       "color": {
        "type": "float",
        "values": [
         1.764052345967664,
         0.4001572083672233,
         0.9787379841057392,
         2.240893199201458,
         1.8675579901499675,
         0.977277879876411,
         0.9500884175255894,
         0.1513572082976979,
         0.10321885179355784,
         0.41059850193837233,
         0.144043571160878,
         1.454273506962975,
         0.7610377251469934,
         0.12167501649282841,
         0.44386323274542566,
         0.33367432737426683,
         1.4940790731576061,
         0.20515826376580087,
         0.31306770165090136,
         0.8540957393017248
        ]
       },
       "display_legend": false,
       "padding": 0.2,
       "scales": {
        "color": "IPY_MODEL_8f718d8901f04653a4aa36907c0da7ca",
        "x": "IPY_MODEL_56b1c691a0e64be0a4af3d9a5863ca68",
        "y": "IPY_MODEL_3937ebc1313e4887a44036d9c28bd1d2"
       },
       "selected": [],
       "x": {
        "type": "float",
        "values": [
         0,
         1,
         2,
         3,
         4,
         5,
         6,
         7,
         8,
         9,
         10,
         11,
         12,
         13,
         14,
         15,
         16,
         17,
         18,
         19
        ]
       },
       "y": {
        "type": "float",
        "values": [
         1.764052345967664,
         0.4001572083672233,
         0.9787379841057392,
         2.240893199201458,
         1.8675579901499675,
         -0.977277879876411,
         0.9500884175255894,
         -0.1513572082976979,
         -0.10321885179355784,
         0.41059850193837233,
         0.144043571160878,
         1.454273506962975,
         0.7610377251469934,
         0.12167501649282841,
         0.44386323274542566,
         0.33367432737426683,
         1.4940790731576061,
         -0.20515826376580087,
         0.31306770165090136,
         -0.8540957393017248
        ]
       }
      }
     },
     "5da7f7c3ddd64ca397ecef005a0d22d7": {
      "model_module": "bqplot",
      "model_module_version": "^0.2.3",
      "model_name": "AxisModel",
      "state": {
       "orientation": "vertical",
       "scale": "IPY_MODEL_db4bd53e38f744e69e9d4e1829bdbf01",
       "side": "left",
       "tick_values": {
        "type": null,
        "values": null
       }
      }
     },
     "5f43d456133f4853854429d6eea8cf86": {
      "model_module": "bqplot",
      "model_module_version": "^0.2.3",
      "model_name": "LinearScaleModel",
      "state": {
       "allow_padding": false,
       "max": 1,
       "min": 0,
       "stabilized": false
      }
     },
     "5f54c98e49ac4f08afcff75ea182269a": {
      "model_module": "bqplot",
      "model_module_version": "^0.2.3",
      "model_name": "AxisModel",
      "state": {
       "orientation": "vertical",
       "scale": "IPY_MODEL_3eac277caf1b486b9e32094b8f2661b6",
       "side": "left",
       "tick_format": "0.2f",
       "tick_values": {
        "type": null,
        "values": null
       }
      }
     },
     "5fdcdf2b92f44d4482f55523b7b7f12d": {
      "model_module": "bqplot",
      "model_module_version": "^0.2.3",
      "model_name": "ColorScaleModel",
      "state": {
       "_model_name": "ColorScaleModel",
       "_view_name": "ColorScale",
       "colors": [],
       "mid": null,
       "scale_type": "linear",
       "scheme": "Reds"
      }
     },
     "6336c646ce9f41fd98091fabc12f2498": {
      "model_module": "bqplot",
      "model_module_version": "^0.2.3",
      "model_name": "LinearScaleModel",
      "state": {
       "allow_padding": false,
       "max": 1,
       "min": 0,
       "stabilized": false
      }
     },
     "64c83e5394174012ac733493aa4b49bc": {
      "model_module": "bqplot",
      "model_module_version": "^0.2.3",
      "model_name": "ColorAxisModel",
      "state": {
       "scale": "IPY_MODEL_8f718d8901f04653a4aa36907c0da7ca",
       "side": "bottom",
       "tick_format": "0.2f",
       "tick_values": {
        "type": null,
        "values": null
       }
      }
     },
     "654debec47d840e788bb5d671c9c0d83": {
      "model_module": "bqplot",
      "model_module_version": "^0.2.3",
      "model_name": "LinearScaleModel",
      "state": {
       "allow_padding": false,
       "max": 1,
       "min": 0,
       "stabilized": false
      }
     },
     "67e0ed9e2b5a44d28ce65b755da90d1e": {
      "model_module": "bqplot",
      "model_module_version": "^0.2.3",
      "model_name": "AxisModel",
      "state": {
       "orientation": "vertical",
       "scale": "IPY_MODEL_f42bb1d5325943baa713b686f4689454",
       "side": "left",
       "tick_format": "0.2f",
       "tick_values": {
        "type": null,
        "values": null
       }
      }
     },
     "6834f497784844beb82710d64df215f3": {
      "model_module": "bqplot",
      "model_module_version": "^0.2.3",
      "model_name": "FigureModel",
      "state": {
       "_dom_classes": [],
       "axes": [
        "IPY_MODEL_7db4659e77594ef59d41f5fa1a64043b",
        "IPY_MODEL_dd10d27948674dc3bbee4e150fa94531"
       ],
       "layout": "IPY_MODEL_3014cc2f010f4b93a268f7fe24956c47",
       "marks": [
        "IPY_MODEL_c5650530ad7247f290861ea7fb3ad003"
       ],
       "max_aspect_ratio": 6,
       "scale_x": "IPY_MODEL_8f4b57e25f9c49109e5364da60852e6b",
       "scale_y": "IPY_MODEL_2278360a4691496398e0f1c65133d200"
      }
     },
     "6892c58633004f919eb642fee737ef0e": {
      "model_module": "bqplot",
      "model_module_version": "^0.2.3",
      "model_name": "BarsModel",
      "state": {
       "color": {
        "type": "float",
        "values": [
         0.5693345929456347,
         0.4966303990011173,
         0.507250172316655
        ]
       },
       "labels": [
        "Dim 1",
        "Dim 2",
        "Dim 3"
       ],
       "padding": 0.2,
       "scales": {
        "color": "IPY_MODEL_5fdcdf2b92f44d4482f55523b7b7f12d",
        "x": "IPY_MODEL_524dd6caf24c45c8b1978d021f28f782",
        "y": "IPY_MODEL_f42bb1d5325943baa713b686f4689454"
       },
       "selected": [],
       "x": {
        "type": "float",
        "values": [
         0,
         1,
         2,
         3,
         4,
         5,
         6,
         7,
         8,
         9,
         10,
         11,
         12,
         13,
         14,
         15,
         16,
         17,
         18,
         19,
         20,
         21,
         22,
         23,
         24,
         25,
         26,
         27,
         28,
         29,
         30,
         31,
         32,
         33,
         34,
         35,
         36,
         37,
         38,
         39,
         40,
         41,
         42,
         43,
         44,
         45,
         46,
         47,
         48,
         49,
         50,
         51,
         52,
         53,
         54,
         55,
         56,
         57,
         58,
         59,
         60,
         61,
         62,
         63,
         64,
         65,
         66,
         67,
         68,
         69,
         70,
         71,
         72,
         73,
         74,
         75,
         76,
         77,
         78,
         79,
         80,
         81,
         82,
         83,
         84,
         85,
         86,
         87,
         88,
         89,
         90,
         91,
         92,
         93,
         94,
         95,
         96,
         97,
         98,
         99
        ]
       },
       "y": {
        "type": "float",
        "values": [
         [
          1.764052345967664,
          0.4001572083672233,
          0.9787379841057392,
          2.240893199201458,
          1.8675579901499675,
          -0.977277879876411,
          0.9500884175255894,
          -0.1513572082976979,
          -0.10321885179355784,
          0.41059850193837233,
          0.144043571160878,
          1.454273506962975,
          0.7610377251469934,
          0.12167501649282841,
          0.44386323274542566,
          0.33367432737426683,
          1.4940790731576061,
          -0.20515826376580087,
          0.31306770165090136,
          -0.8540957393017248
         ],
         [
          1.8831506970562544,
          -1.3477590611424464,
          -1.2704849984857336,
          0.9693967081580112,
          -1.17312340511416,
          1.9436211856492926,
          -0.41361898075974735,
          -0.7474548114407578,
          1.9229420264803847,
          1.4805147914344243,
          1.8675589604265699,
          0.9060446582753853,
          -0.8612256850547025,
          1.9100649530990337,
          -0.2680033709513804,
          0.8024563957963952,
          0.947251967773748,
          -0.1550100930908342,
          0.6140793703460803,
          0.9222066715665268
         ],
         [
          -0.3691818379424436,
          -0.60856101551837,
          0.49109858036874315,
          1.146362311091341,
          1.7864938371889332,
          0.1695377928780988,
          0.14521166847916317,
          -0.5928192407265256,
          -0.31289464168328734,
          -0.4110450313262453,
          0.4991338767663467,
          0.8163520919576487,
          1.602680054066625,
          1.1362609573306819,
          0.1918147014124314,
          -0.21823499179011704,
          -0.23525540565155764,
          0.1438963299035242,
          2.4032052805943764,
          2.3609481289337335
         ]
        ]
       }
      }
     },
     "6a18933665d545dea3d0c4433f3100e7": {
      "model_module": "bqplot",
      "model_module_version": "^0.2.3",
      "model_name": "LinearScaleModel",
      "state": {
       "stabilized": false
      }
     },
     "6c2863a26e9944b5a61c20b4122280b7": {
      "model_module": "jupyter-js-widgets",
      "model_module_version": "~2.1.4",
      "model_name": "LayoutModel",
      "state": {
       "_model_module_version": "~2.1.4",
       "_view_module_version": "~2.1.4",
       "min_width": "125px"
      }
     },
     "720eda8f6f3641d8a7dfdbbe0b925752": {
      "model_module": "bqplot",
      "model_module_version": "^0.2.3",
      "model_name": "LinearScaleModel",
      "state": {
       "allow_padding": false,
       "max": 1,
       "min": 0,
       "stabilized": false
      }
     },
     "7642eb5a455c408ba0ea2fd047292b39": {
      "model_module": "bqplot",
      "model_module_version": "^0.2.3",
      "model_name": "LinearScaleModel",
      "state": {
       "allow_padding": false,
       "max": 1,
       "min": 0,
       "stabilized": false
      }
     },
     "776424ca62bd4192a13fc9b5d6e1c576": {
      "model_module": "bqplot",
      "model_module_version": "^0.2.3",
      "model_name": "AxisModel",
      "state": {
       "scale": "IPY_MODEL_56b1c691a0e64be0a4af3d9a5863ca68",
       "side": "bottom",
       "tick_values": {
        "type": null,
        "values": null
       }
      }
     },
     "7795097c660d4ff9b2ee280b7f983d80": {
      "model_module": "jupyter-js-widgets",
      "model_module_version": "~2.1.4",
      "model_name": "LayoutModel",
      "state": {
       "_model_module_version": "~2.1.4",
       "_view_module_version": "~2.1.4",
       "min_width": "125px"
      }
     },
     "79a1b45d28a04c8a91558ba9cdc162d0": {
      "model_module": "bqplot",
      "model_module_version": "^0.2.3",
      "model_name": "LinearScaleModel",
      "state": {
       "allow_padding": false,
       "max": 1,
       "min": 0,
       "stabilized": false
      }
     },
     "7d954a9998944ba087ffca5f581de1ca": {
      "model_module": "jupyter-js-widgets",
      "model_module_version": "~2.1.4",
      "model_name": "LayoutModel",
      "state": {
       "_model_module_version": "~2.1.4",
       "_view_module_version": "~2.1.4",
       "min_width": "125px"
      }
     },
     "7db4659e77594ef59d41f5fa1a64043b": {
      "model_module": "bqplot",
      "model_module_version": "^0.2.3",
      "model_name": "AxisModel",
      "state": {
       "scale": "IPY_MODEL_a542ffcd14754294998ce47b9b222527",
       "side": "bottom",
       "tick_values": {
        "type": null,
        "values": null
       }
      }
     },
     "802d659175e24f75acdd039245fc89fd": {
      "model_module": "bqplot",
      "model_module_version": "^0.2.3",
      "model_name": "LinearScaleModel",
      "state": {
       "allow_padding": false,
       "max": 1,
       "min": 0,
       "stabilized": false
      }
     },
     "84668c5db0104db3a92a2d9f335ee78e": {
      "model_module": "bqplot",
      "model_module_version": "^0.2.3",
      "model_name": "BarsModel",
      "state": {
       "color": {
        "type": null,
        "values": null
       },
       "display_legend": false,
       "orientation": "horizontal",
       "padding": 0.2,
       "scales": {
        "x": "IPY_MODEL_da66909255434380bc7f44337ce61e4d",
        "y": "IPY_MODEL_f593111c6f5349bdb51a3891ad028a2b"
       },
       "scales_metadata": {
        "x": {
         "dimension": "x",
         "orientation": "vertical"
        },
        "y": {
         "dimension": "y",
         "orientation": "horizontal"
        }
       },
       "selected": [],
       "type": "grouped",
       "x": {
        "type": "float",
        "values": [
         0,
         1,
         2,
         3,
         4,
         5,
         6,
         7,
         8,
         9,
         10,
         11,
         12,
         13,
         14,
         15,
         16,
         17,
         18,
         19,
         20,
         21,
         22,
         23,
         24,
         25,
         26,
         27,
         28,
         29,
         30,
         31,
         32,
         33,
         34,
         35,
         36,
         37,
         38,
         39,
         40,
         41,
         42,
         43,
         44,
         45,
         46,
         47,
         48,
         49,
         50,
         51,
         52,
         53,
         54,
         55,
         56,
         57,
         58,
         59,
         60,
         61,
         62,
         63,
         64,
         65,
         66,
         67,
         68,
         69,
         70,
         71,
         72,
         73,
         74,
         75,
         76,
         77,
         78,
         79,
         80,
         81,
         82,
         83,
         84,
         85,
         86,
         87,
         88,
         89,
         90,
         91,
         92,
         93,
         94,
         95,
         96,
         97,
         98,
         99
        ]
       },
       "y": {
        "type": "float",
        "values": [
         [
          1.764052345967664,
          0.4001572083672233,
          0.9787379841057392,
          2.240893199201458,
          1.8675579901499675,
          -0.977277879876411,
          0.9500884175255894,
          -0.1513572082976979,
          -0.10321885179355784,
          0.41059850193837233,
          0.144043571160878,
          1.454273506962975,
          0.7610377251469934,
          0.12167501649282841,
          0.44386323274542566,
          0.33367432737426683,
          1.4940790731576061,
          -0.20515826376580087,
          0.31306770165090136,
          -0.8540957393017248
         ],
         [
          1.8831506970562544,
          -1.3477590611424464,
          -1.2704849984857336,
          0.9693967081580112,
          -1.17312340511416,
          1.9436211856492926,
          -0.41361898075974735,
          -0.7474548114407578,
          1.9229420264803847,
          1.4805147914344243,
          1.8675589604265699,
          0.9060446582753853,
          -0.8612256850547025,
          1.9100649530990337,
          -0.2680033709513804,
          0.8024563957963952,
          0.947251967773748,
          -0.1550100930908342,
          0.6140793703460803,
          0.9222066715665268
         ]
        ]
       }
      }
     },
     "8732761867a9412cb555c95a6d865306": {
      "model_module": "bqplot",
      "model_module_version": "^0.2.3",
      "model_name": "LinearScaleModel",
      "state": {
       "stabilized": false
      }
     },
     "87dd670312a24bfa957f31452b5fc11e": {
      "model_module": "jupyter-js-widgets",
      "model_module_version": "~2.1.4",
      "model_name": "LayoutModel",
      "state": {
       "_model_module_version": "~2.1.4",
       "_view_module_version": "~2.1.4",
       "min_width": "125px"
      }
     },
     "883d3afa145648c1b4d9a72e284a9354": {
      "model_module": "bqplot",
      "model_module_version": "^0.2.3",
      "model_name": "FigureModel",
      "state": {
       "_dom_classes": [],
       "axes": [
        "IPY_MODEL_3677d66f097c4b50b37fcfce5a0267a1",
        "IPY_MODEL_67e0ed9e2b5a44d28ce65b755da90d1e",
        "IPY_MODEL_9a71e25157d14f669f06b80573b6bd9e"
       ],
       "fig_margin": {
        "bottom": 80,
        "left": 50,
        "right": 50,
        "top": 50
       },
       "layout": "IPY_MODEL_e636bc22baa14c168991038c548a885e",
       "marks": [
        "IPY_MODEL_6892c58633004f919eb642fee737ef0e"
       ],
       "max_aspect_ratio": 6,
       "scale_x": "IPY_MODEL_092fdfc0a53f45549149fa2c6d83265f",
       "scale_y": "IPY_MODEL_7642eb5a455c408ba0ea2fd047292b39"
      }
     },
     "886a341c4e1e4a05a46d02465ba63506": {
      "model_module": "bqplot",
      "model_module_version": "^0.2.3",
      "model_name": "LinearScaleModel",
      "state": {
       "allow_padding": false,
       "max": 1,
       "min": 0,
       "stabilized": false
      }
     },
     "8b8653be5fb54a4da6a3f05a088e9fab": {
      "model_module": "bqplot",
      "model_module_version": "^0.2.3",
      "model_name": "AxisModel",
      "state": {
       "scale": "IPY_MODEL_2a9953fc33ff43c18e4b1f12056e2fc8",
       "side": "bottom",
       "tick_format": "0.2f",
       "tick_values": {
        "type": null,
        "values": null
       }
      }
     },
     "8c19caf70d3f4a87be0cfccce06b5250": {
      "model_module": "bqplot",
      "model_module_version": "^0.2.3",
      "model_name": "BarsModel",
      "state": {
       "color": {
        "type": null,
        "values": null
       },
       "display_legend": false,
       "orientation": "horizontal",
       "scales": {
        "x": "IPY_MODEL_db4bd53e38f744e69e9d4e1829bdbf01",
        "y": "IPY_MODEL_8732761867a9412cb555c95a6d865306"
       },
       "scales_metadata": {
        "x": {
         "dimension": "x",
         "orientation": "vertical"
        },
        "y": {
         "dimension": "y",
         "orientation": "horizontal"
        }
       },
       "selected": [],
       "x": {
        "type": "float",
        "values": [
         0,
         1,
         2,
         3,
         4,
         5,
         6,
         7,
         8,
         9
        ]
       },
       "y": {
        "type": "float",
        "values": [
         -5,
         -4,
         -3,
         -2,
         -1,
         0,
         1,
         2,
         3,
         4
        ]
       }
      }
     },
     "8f4b57e25f9c49109e5364da60852e6b": {
      "model_module": "bqplot",
      "model_module_version": "^0.2.3",
      "model_name": "LinearScaleModel",
      "state": {
       "allow_padding": false,
       "max": 1,
       "min": 0,
       "stabilized": false
      }
     },
     "8f718d8901f04653a4aa36907c0da7ca": {
      "model_module": "bqplot",
      "model_module_version": "^0.2.3",
      "model_name": "ColorScaleModel",
      "state": {
       "_model_name": "ColorScaleModel",
       "_view_name": "ColorScale",
       "colors": [],
       "mid": null,
       "scale_type": "linear",
       "scheme": "Reds"
      }
     },
     "98129b925577467f851e23852ad62003": {
      "model_module": "bqplot",
      "model_module_version": "^0.2.3",
      "model_name": "OrdinalScaleModel",
      "state": {
       "domain": []
      }
     },
     "9a71e25157d14f669f06b80573b6bd9e": {
      "model_module": "bqplot",
      "model_module_version": "^0.2.3",
      "model_name": "ColorAxisModel",
      "state": {
       "scale": "IPY_MODEL_5fdcdf2b92f44d4482f55523b7b7f12d",
       "side": "bottom",
       "tick_format": "0.2f",
       "tick_values": {
        "type": null,
        "values": null
       }
      }
     },
     "9a9f6f9235524340a68f996ec8ce3b0e": {
      "model_module": "bqplot",
      "model_module_version": "^0.2.3",
      "model_name": "LinearScaleModel",
      "state": {
       "allow_padding": false,
       "max": 1,
       "min": 0,
       "stabilized": false
      }
     },
     "9c9562c50e79479b8ae360a0c677980c": {
      "model_module": "bqplot",
      "model_module_version": "^0.2.3",
      "model_name": "LinearScaleModel",
      "state": {
       "allow_padding": false,
       "max": 1,
       "min": 0,
       "stabilized": false
      }
     },
     "9ed1793147544b9f809cf2f4518eb045": {
      "model_module": "bqplot",
      "model_module_version": "^0.2.3",
      "model_name": "AxisModel",
      "state": {
       "scale": "IPY_MODEL_3bb9dea4578a46be800226c530099047",
       "side": "bottom",
       "tick_values": {
        "type": null,
        "values": null
       }
      }
     },
     "a0aae652904c45c78adc4b30087aacac": {
      "model_module": "bqplot",
      "model_module_version": "^0.2.3",
      "model_name": "LinearScaleModel",
      "state": {
       "allow_padding": false,
       "max": 1,
       "min": 0,
       "stabilized": false
      }
     },
     "a44c700d1535452281565afa5dbf28af": {
      "model_module": "bqplot",
      "model_module_version": "^0.2.3",
      "model_name": "AxisModel",
      "state": {
       "orientation": "vertical",
       "scale": "IPY_MODEL_4c4c868b63a54ca89d5f3b9cb5419f8d",
       "side": "left",
       "tick_format": "0.2f",
       "tick_values": {
        "type": null,
        "values": null
       }
      }
     },
     "a542ffcd14754294998ce47b9b222527": {
      "model_module": "bqplot",
      "model_module_version": "^0.2.3",
      "model_name": "OrdinalScaleModel",
      "state": {
       "domain": []
      }
     },
     "a56f875efbcc4db3a93da79984579214": {
      "model_module": "bqplot",
      "model_module_version": "^0.2.3",
      "model_name": "LinearScaleModel",
      "state": {
       "allow_padding": false,
       "max": 1,
       "min": 0,
       "stabilized": false
      }
     },
     "abfdf2f56fd5473e84348791d1ce5f57": {
      "model_module": "bqplot",
      "model_module_version": "^0.2.3",
      "model_name": "AxisModel",
      "state": {
       "scale": "IPY_MODEL_f593111c6f5349bdb51a3891ad028a2b",
       "side": "bottom",
       "tick_format": "0.2f",
       "tick_values": {
        "type": null,
        "values": null
       }
      }
     },
     "ac5dbd4e070049de9f9ee4c65426154e": {
      "model_module": "bqplot",
      "model_module_version": "^0.2.3",
      "model_name": "BarsModel",
      "state": {
       "color": {
        "type": null,
        "values": null
       },
       "color_mode": "group",
       "display_legend": false,
       "padding": 0.2,
       "scales": {
        "x": "IPY_MODEL_b35bdd24fc3b4db092743b454cd14213",
        "y": "IPY_MODEL_6a18933665d545dea3d0c4433f3100e7"
       },
       "selected": [],
       "x": {
        "type": "float",
        "values": [
         0,
         1,
         2,
         3,
         4,
         5,
         6,
         7,
         8,
         9,
         10,
         11,
         12,
         13,
         14,
         15,
         16,
         17,
         18,
         19,
         20,
         21,
         22,
         23,
         24,
         25,
         26,
         27,
         28,
         29,
         30,
         31,
         32,
         33,
         34,
         35,
         36,
         37,
         38,
         39,
         40,
         41,
         42,
         43,
         44,
         45,
         46,
         47,
         48,
         49,
         50,
         51,
         52,
         53,
         54,
         55,
         56,
         57,
         58,
         59,
         60,
         61,
         62,
         63,
         64,
         65,
         66,
         67,
         68,
         69,
         70,
         71,
         72,
         73,
         74,
         75,
         76,
         77,
         78,
         79,
         80,
         81,
         82,
         83,
         84,
         85,
         86,
         87,
         88,
         89,
         90,
         91,
         92,
         93,
         94,
         95,
         96,
         97,
         98,
         99
        ]
       },
       "y": {
        "type": "float",
        "values": [
         [
          1.764052345967664,
          0.4001572083672233,
          0.9787379841057392,
          2.240893199201458,
          1.8675579901499675,
          -0.977277879876411,
          0.9500884175255894,
          -0.1513572082976979,
          -0.10321885179355784,
          0.41059850193837233,
          0.144043571160878,
          1.454273506962975,
          0.7610377251469934,
          0.12167501649282841,
          0.44386323274542566,
          0.33367432737426683,
          1.4940790731576061,
          -0.20515826376580087,
          0.31306770165090136,
          -0.8540957393017248
         ],
         [
          1.8831506970562544,
          -1.3477590611424464,
          -1.2704849984857336,
          0.9693967081580112,
          -1.17312340511416,
          1.9436211856492926,
          -0.41361898075974735,
          -0.7474548114407578,
          1.9229420264803847,
          1.4805147914344243,
          1.8675589604265699,
          0.9060446582753853,
          -0.8612256850547025,
          1.9100649530990337,
          -0.2680033709513804,
          0.8024563957963952,
          0.947251967773748,
          -0.1550100930908342,
          0.6140793703460803,
          0.9222066715665268
         ]
        ]
       }
      }
     },
     "ac7339ad586841a1aadfde1e4f79affa": {
      "model_module": "bqplot",
      "model_module_version": "^0.2.3",
      "model_name": "BarsModel",
      "state": {
       "color": {
        "type": null,
        "values": null
       },
       "display_legend": false,
       "padding": 0.2,
       "scales": {
        "x": "IPY_MODEL_3bb9dea4578a46be800226c530099047",
        "y": "IPY_MODEL_3eac277caf1b486b9e32094b8f2661b6"
       },
       "selected": [],
       "type": "grouped",
       "x": {
        "type": "float",
        "values": [
         0,
         1,
         2,
         3,
         4,
         5,
         6,
         7,
         8,
         9,
         10,
         11,
         12,
         13,
         14,
         15,
         16,
         17,
         18,
         19,
         20,
         21,
         22,
         23,
         24,
         25,
         26,
         27,
         28,
         29,
         30,
         31,
         32,
         33,
         34,
         35,
         36,
         37,
         38,
         39,
         40,
         41,
         42,
         43,
         44,
         45,
         46,
         47,
         48,
         49,
         50,
         51,
         52,
         53,
         54,
         55,
         56,
         57,
         58,
         59,
         60,
         61,
         62,
         63,
         64,
         65,
         66,
         67,
         68,
         69,
         70,
         71,
         72,
         73,
         74,
         75,
         76,
         77,
         78,
         79,
         80,
         81,
         82,
         83,
         84,
         85,
         86,
         87,
         88,
         89,
         90,
         91,
         92,
         93,
         94,
         95,
         96,
         97,
         98,
         99
        ]
       },
       "y": {
        "type": "float",
        "values": [
         [
          1.764052345967664,
          0.4001572083672233,
          0.9787379841057392,
          2.240893199201458,
          1.8675579901499675,
          -0.977277879876411,
          0.9500884175255894,
          -0.1513572082976979,
          -0.10321885179355784,
          0.41059850193837233,
          0.144043571160878,
          1.454273506962975,
          0.7610377251469934,
          0.12167501649282841,
          0.44386323274542566,
          0.33367432737426683,
          1.4940790731576061,
          -0.20515826376580087,
          0.31306770165090136,
          -0.8540957393017248
         ],
         [
          1.8831506970562544,
          -1.3477590611424464,
          -1.2704849984857336,
          0.9693967081580112,
          -1.17312340511416,
          1.9436211856492926,
          -0.41361898075974735,
          -0.7474548114407578,
          1.9229420264803847,
          1.4805147914344243,
          1.8675589604265699,
          0.9060446582753853,
          -0.8612256850547025,
          1.9100649530990337,
          -0.2680033709513804,
          0.8024563957963952,
          0.947251967773748,
          -0.1550100930908342,
          0.6140793703460803,
          0.9222066715665268
         ]
        ]
       }
      }
     },
     "aed589131d8947b78cd8f4f1ea97aef5": {
      "model_module": "bqplot",
      "model_module_version": "^0.2.3",
      "model_name": "FigureModel",
      "state": {
       "_dom_classes": [],
       "axes": [
        "IPY_MODEL_17c6de16bd7c44b4a9adb8e59bf9c3f4",
        "IPY_MODEL_a44c700d1535452281565afa5dbf28af",
        "IPY_MODEL_3d8ecb193f6f403aad20c1a0584a2b55"
       ],
       "fig_margin": {
        "bottom": 80,
        "left": 50,
        "right": 50,
        "top": 50
       },
       "layout": "IPY_MODEL_2d3de2fbe6e24aff8c03b5a3d0bc59d0",
       "marks": [
        "IPY_MODEL_212bf127a59444458c4bb2d484d1ca87"
       ],
       "max_aspect_ratio": 6,
       "scale_x": "IPY_MODEL_a0aae652904c45c78adc4b30087aacac",
       "scale_y": "IPY_MODEL_6336c646ce9f41fd98091fabc12f2498"
      }
     },
     "aee1e62db7734a8fbe0743daebd26c9e": {
      "model_module": "bqplot",
      "model_module_version": "^0.2.3",
      "model_name": "LinearScaleModel",
      "state": {
       "allow_padding": false,
       "max": 1,
       "min": 0,
       "stabilized": false
      }
     },
     "afc3146650d140678af5c5562ba2546a": {
      "model_module": "bqplot",
      "model_module_version": "^0.2.3",
      "model_name": "ColorScaleModel",
      "state": {
       "_model_name": "ColorScaleModel",
       "_view_name": "ColorScale",
       "colors": [],
       "mid": 0,
       "scale_type": "linear",
       "scheme": "RdYlGn"
      }
     },
     "afd3036ff87543d28ecf0777008ef956": {
      "model_module": "bqplot",
      "model_module_version": "^0.2.3",
      "model_name": "FigureModel",
      "state": {
       "_dom_classes": [],
       "axes": [
        "IPY_MODEL_b2b19537dc1549598fe220d48a5b2b9d",
        "IPY_MODEL_13b778677e0d4e1896e414016dea0683"
       ],
       "layout": "IPY_MODEL_6c2863a26e9944b5a61c20b4122280b7",
       "marks": [
        "IPY_MODEL_020dbf599bca4ac5bd17553bfcbc5dc2"
       ],
       "max_aspect_ratio": 6,
       "scale_x": "IPY_MODEL_dcf7319185934757bfdea2b7c3c336ba",
       "scale_y": "IPY_MODEL_654debec47d840e788bb5d671c9c0d83"
      }
     },
     "b05d98e6e0144fa89987c7ba72195d34": {
      "model_module": "bqplot",
      "model_module_version": "^0.2.3",
      "model_name": "AxisModel",
      "state": {
       "scale": "IPY_MODEL_b35bdd24fc3b4db092743b454cd14213",
       "side": "bottom",
       "tick_values": {
        "type": null,
        "values": null
       }
      }
     },
     "b2b19537dc1549598fe220d48a5b2b9d": {
      "model_module": "bqplot",
      "model_module_version": "^0.2.3",
      "model_name": "AxisModel",
      "state": {
       "scale": "IPY_MODEL_2d5f83b7b00a492baf8eb0424cd6a005",
       "side": "bottom",
       "tick_values": {
        "type": null,
        "values": null
       }
      }
     },
     "b35bdd24fc3b4db092743b454cd14213": {
      "model_module": "bqplot",
      "model_module_version": "^0.2.3",
      "model_name": "OrdinalScaleModel",
      "state": {
       "domain": []
      }
     },
     "b3ba751fb29f40e1b5c64439e319b226": {
      "model_module": "bqplot",
      "model_module_version": "^0.2.3",
      "model_name": "LinearScaleModel",
      "state": {
       "allow_padding": false,
       "max": 1,
       "min": 0,
       "stabilized": false
      }
     },
     "be90c5ac143d45228c55beef7472d3a3": {
      "model_module": "bqplot",
      "model_module_version": "^0.2.3",
      "model_name": "FigureModel",
      "state": {
       "_dom_classes": [],
       "axes": [
        "IPY_MODEL_3b23bd95102a4ed0a66eab7ef6184806",
        "IPY_MODEL_abfdf2f56fd5473e84348791d1ce5f57"
       ],
       "layout": "IPY_MODEL_c0818f9ef6d64b279fd60dd53ebce5a5",
       "marks": [
        "IPY_MODEL_84668c5db0104db3a92a2d9f335ee78e"
       ],
       "max_aspect_ratio": 6,
       "scale_x": "IPY_MODEL_5f43d456133f4853854429d6eea8cf86",
       "scale_y": "IPY_MODEL_9c9562c50e79479b8ae360a0c677980c"
      }
     },
     "bf8370cada0d4af086c2b06cb96b7933": {
      "model_module": "bqplot",
      "model_module_version": "^0.2.3",
      "model_name": "FigureModel",
      "state": {
       "_dom_classes": [],
       "axes": [
        "IPY_MODEL_9ed1793147544b9f809cf2f4518eb045",
        "IPY_MODEL_5f54c98e49ac4f08afcff75ea182269a"
       ],
       "layout": "IPY_MODEL_23783ef404b64ab7bb8a22ea145d848e",
       "marks": [
        "IPY_MODEL_ac7339ad586841a1aadfde1e4f79affa"
       ],
       "max_aspect_ratio": 6,
       "scale_x": "IPY_MODEL_4905819748aa49a498526f882efdff0e",
       "scale_y": "IPY_MODEL_720eda8f6f3641d8a7dfdbbe0b925752"
      }
     },
     "bffaa0e938db4e1aaf8ff7c187b750cb": {
      "model_module": "bqplot",
      "model_module_version": "^0.2.3",
      "model_name": "OrdinalScaleModel",
      "state": {
       "domain": []
      }
     },
     "c0302e2dffe54fbd81e9150f2e6154fd": {
      "model_module": "bqplot",
      "model_module_version": "^0.2.3",
      "model_name": "LinearScaleModel",
      "state": {
       "stabilized": false
      }
     },
     "c0818f9ef6d64b279fd60dd53ebce5a5": {
      "model_module": "jupyter-js-widgets",
      "model_module_version": "~2.1.4",
      "model_name": "LayoutModel",
      "state": {
       "_model_module_version": "~2.1.4",
       "_view_module_version": "~2.1.4",
       "min_width": "125px"
      }
     },
     "c5650530ad7247f290861ea7fb3ad003": {
      "model_module": "bqplot",
      "model_module_version": "^0.2.3",
      "model_name": "BarsModel",
      "state": {
       "color": {
        "type": null,
        "values": null
       },
       "color_mode": "element",
       "labels": [
        "Bar Chart"
       ],
       "padding": 0.2,
       "scales": {
        "x": "IPY_MODEL_a542ffcd14754294998ce47b9b222527",
        "y": "IPY_MODEL_0cbe01dc362d4792bcdef7e867c53b0d"
       },
       "selected": [],
       "x": {
        "type": "float",
        "values": [
         0,
         1,
         2,
         3,
         4,
         5,
         6,
         7,
         8,
         9,
         10,
         11,
         12,
         13,
         14,
         15,
         16,
         17,
         18,
         19,
         20,
         21,
         22,
         23,
         24,
         25,
         26,
         27,
         28,
         29,
         30,
         31,
         32,
         33,
         34,
         35,
         36,
         37,
         38,
         39,
         40,
         41,
         42,
         43,
         44,
         45,
         46,
         47,
         48,
         49,
         50,
         51,
         52,
         53,
         54,
         55,
         56,
         57,
         58,
         59,
         60,
         61,
         62,
         63,
         64,
         65,
         66,
         67,
         68,
         69,
         70,
         71,
         72,
         73,
         74,
         75,
         76,
         77,
         78,
         79,
         80,
         81,
         82,
         83,
         84,
         85,
         86,
         87,
         88,
         89,
         90,
         91,
         92,
         93,
         94,
         95,
         96,
         97,
         98,
         99
        ]
       },
       "y": {
        "type": "float",
        "values": [
         1.764052345967664,
         0.4001572083672233,
         0.9787379841057392,
         2.240893199201458,
         1.8675579901499675,
         -0.977277879876411,
         0.9500884175255894,
         -0.1513572082976979,
         -0.10321885179355784,
         0.41059850193837233,
         0.144043571160878,
         1.454273506962975,
         0.7610377251469934,
         0.12167501649282841,
         0.44386323274542566,
         0.33367432737426683,
         1.4940790731576061,
         -0.20515826376580087,
         0.31306770165090136,
         -0.8540957393017248
        ]
       }
      }
     },
     "c9d00e6de30a423ab1ce5e3d669fda5c": {
      "model_module": "bqplot",
      "model_module_version": "^0.2.3",
      "model_name": "AxisModel",
      "state": {
       "orientation": "vertical",
       "scale": "IPY_MODEL_c0302e2dffe54fbd81e9150f2e6154fd",
       "side": "left",
       "tick_format": "0.2f",
       "tick_values": {
        "type": null,
        "values": null
       }
      }
     },
     "cb472cb575f547fb8cc5a54818f16ce8": {
      "model_module": "bqplot",
      "model_module_version": "^0.2.3",
      "model_name": "AxisModel",
      "state": {
       "scale": "IPY_MODEL_8732761867a9412cb555c95a6d865306",
       "side": "bottom",
       "tick_format": "0.2f",
       "tick_values": {
        "type": null,
        "values": null
       }
      }
     },
     "d17cea3e86fe418b91d194c89e000305": {
      "model_module": "bqplot",
      "model_module_version": "^0.2.3",
      "model_name": "FigureModel",
      "state": {
       "_dom_classes": [],
       "axes": [
        "IPY_MODEL_d8863e71fdc14971a59eb8e2b14e75a5",
        "IPY_MODEL_c9d00e6de30a423ab1ce5e3d669fda5c"
       ],
       "layout": "IPY_MODEL_87dd670312a24bfa957f31452b5fc11e",
       "marks": [
        "IPY_MODEL_4b9bdb7fb80c4c63bd7c6173ef26ce49"
       ],
       "max_aspect_ratio": 6,
       "padding_x": 0.025,
       "scale_x": "IPY_MODEL_e8448452028f4f7a92b89e8e0daf7875",
       "scale_y": "IPY_MODEL_5b4240d34cab4aec84d711034f56a346"
      }
     },
     "d5f7f053a64042c0a2540618781af352": {
      "model_module": "bqplot",
      "model_module_version": "^0.2.3",
      "model_name": "FigureModel",
      "state": {
       "_dom_classes": [],
       "axes": [
        "IPY_MODEL_5da7f7c3ddd64ca397ecef005a0d22d7",
        "IPY_MODEL_cb472cb575f547fb8cc5a54818f16ce8"
       ],
       "layout": "IPY_MODEL_daf20de4583b47e6ba60a302725916b8",
       "marks": [
        "IPY_MODEL_8c19caf70d3f4a87be0cfccce06b5250"
       ],
       "max_aspect_ratio": 6,
       "padding_x": 0.025,
       "scale_x": "IPY_MODEL_802d659175e24f75acdd039245fc89fd",
       "scale_y": "IPY_MODEL_9a9f6f9235524340a68f996ec8ce3b0e"
      }
     },
     "d688d5e6e50f48c791507751718af8a8": {
      "model_module": "bqplot",
      "model_module_version": "^0.2.3",
      "model_name": "LinearScaleModel",
      "state": {
       "stabilized": false
      }
     },
     "d8861c2d3e72470bbad9a28ba02e43f6": {
      "model_module": "bqplot",
      "model_module_version": "^0.2.3",
      "model_name": "FigureModel",
      "state": {
       "_dom_classes": [],
       "axes": [
        "IPY_MODEL_39d7ca4e0e6b4cbfb62a1ce72334a19b",
        "IPY_MODEL_8b8653be5fb54a4da6a3f05a088e9fab"
       ],
       "layout": "IPY_MODEL_3208e98748c94662b7bfef4c794ff8d5",
       "marks": [
        "IPY_MODEL_0083310ee0a7477788a0bd31159a3867"
       ],
       "max_aspect_ratio": 6,
       "scale_x": "IPY_MODEL_a56f875efbcc4db3a93da79984579214",
       "scale_y": "IPY_MODEL_5c62ac612ddc435ea0db6bf18ed62d68"
      }
     },
     "d8863e71fdc14971a59eb8e2b14e75a5": {
      "model_module": "bqplot",
      "model_module_version": "^0.2.3",
      "model_name": "AxisModel",
      "state": {
       "scale": "IPY_MODEL_98129b925577467f851e23852ad62003",
       "side": "bottom",
       "tick_values": {
        "type": null,
        "values": null
       }
      }
     },
     "da66909255434380bc7f44337ce61e4d": {
      "model_module": "bqplot",
      "model_module_version": "^0.2.3",
      "model_name": "OrdinalScaleModel",
      "state": {
       "domain": []
      }
     },
     "daf20de4583b47e6ba60a302725916b8": {
      "model_module": "jupyter-js-widgets",
      "model_module_version": "~2.1.4",
      "model_name": "LayoutModel",
      "state": {
       "_model_module_version": "~2.1.4",
       "_view_module_version": "~2.1.4",
       "min_width": "125px"
      }
     },
     "db4bd53e38f744e69e9d4e1829bdbf01": {
      "model_module": "bqplot",
      "model_module_version": "^0.2.3",
      "model_name": "OrdinalScaleModel",
      "state": {
       "domain": []
      }
     },
     "dcf7319185934757bfdea2b7c3c336ba": {
      "model_module": "bqplot",
      "model_module_version": "^0.2.3",
      "model_name": "LinearScaleModel",
      "state": {
       "allow_padding": false,
       "max": 1,
       "min": 0,
       "stabilized": false
      }
     },
     "dd10d27948674dc3bbee4e150fa94531": {
      "model_module": "bqplot",
      "model_module_version": "^0.2.3",
      "model_name": "AxisModel",
      "state": {
       "orientation": "vertical",
       "scale": "IPY_MODEL_0cbe01dc362d4792bcdef7e867c53b0d",
       "side": "left",
       "tick_format": "0.2f",
       "tick_values": {
        "type": null,
        "values": null
       }
      }
     },
     "e636bc22baa14c168991038c548a885e": {
      "model_module": "jupyter-js-widgets",
      "model_module_version": "~2.1.4",
      "model_name": "LayoutModel",
      "state": {
       "_model_module_version": "~2.1.4",
       "_view_module_version": "~2.1.4",
       "min_width": "125px"
      }
     },
     "e8448452028f4f7a92b89e8e0daf7875": {
      "model_module": "bqplot",
      "model_module_version": "^0.2.3",
      "model_name": "LinearScaleModel",
      "state": {
       "allow_padding": false,
       "max": 1,
       "min": 0,
       "stabilized": false
      }
     },
     "f42bb1d5325943baa713b686f4689454": {
      "model_module": "bqplot",
      "model_module_version": "^0.2.3",
      "model_name": "LinearScaleModel",
      "state": {
       "stabilized": false
      }
     },
     "f593111c6f5349bdb51a3891ad028a2b": {
      "model_module": "bqplot",
      "model_module_version": "^0.2.3",
      "model_name": "LinearScaleModel",
      "state": {
       "stabilized": false
      }
     }
    },
    "version_major": 1,
    "version_minor": 0
   }
  }
 },
 "nbformat": 4,
 "nbformat_minor": 1
}
