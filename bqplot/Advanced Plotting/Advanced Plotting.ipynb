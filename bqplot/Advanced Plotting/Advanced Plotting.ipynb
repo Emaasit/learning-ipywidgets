{
 "cells": [
  {
   "cell_type": "code",
   "execution_count": null,
   "metadata": {
    "input_collapsed": false
   },
   "outputs": [],
   "source": [
    "import numpy as np\n",
    "from bqplot import *"
   ]
  },
  {
   "cell_type": "code",
   "execution_count": null,
   "metadata": {},
   "outputs": [],
   "source": [
    "size = 100\n",
    "x_data = range(size)\n",
    "np.random.seed(0)\n",
    "y_data = np.cumsum(np.random.randn(size) * 100.0)\n",
    "y_data_2 = np.cumsum(np.random.randn(size))\n",
    "y_data_3 = np.cumsum(np.random.randn(size) * 100.)"
   ]
  },
  {
   "cell_type": "markdown",
   "metadata": {},
   "source": [
    "## Multiple marks in a single figure"
   ]
  },
  {
   "cell_type": "code",
   "execution_count": null,
   "metadata": {},
   "outputs": [],
   "source": [
    "sc_ord = OrdinalScale()\n",
    "sc_y = LinearScale()\n",
    "sc_y_2 = LinearScale()\n",
    "\n",
    "ord_ax = Axis(label='Test X', scale=sc_ord, tick_format='0.0f', grid_lines='none')\n",
    "y_ax = Axis(label='Test Y', scale=sc_y, \n",
    "            orientation='vertical', tick_format='0.2f', \n",
    "            grid_lines='solid')\n",
    "y_ax_2 = Axis(label='Test Y 2', scale=sc_y_2, \n",
    "              orientation='vertical', side='right', \n",
    "              tick_format='0.0f', grid_lines='solid')"
   ]
  },
  {
   "cell_type": "code",
   "execution_count": null,
   "metadata": {},
   "outputs": [],
   "source": [
    "line_chart = Lines(x=x_data[:10], y = [y_data[:10], y_data_2[:10] * 100, y_data_3[:10]],\n",
    "                   scales={'x': sc_ord, 'y': sc_y},\n",
    "                   labels=['Line1', 'Line2', 'Line3'], \n",
    "                   display_legend=True)\n",
    "\n",
    "bar_chart = Bars(x=x_data[:10], \n",
    "                 y=[y_data[:10], y_data_2[:10] * 100, y_data_3[:10]], \n",
    "                 scales={'x': sc_ord, 'y': sc_y_2},\n",
    "                 labels=['Bar1', 'Bar2', 'Bar3'],\n",
    "                 display_legend=True)\n",
    "\n",
    "# the line does not have a Y value set. So only the bars will be displayed\n",
    "Figure(axes=[ord_ax, y_ax],  marks=[bar_chart, line_chart], legend_location = 'bottom-left')"
   ]
  },
  {
   "cell_type": "markdown",
   "metadata": {},
   "source": [
    "## Sample Histogram with mid-points set"
   ]
  },
  {
   "cell_type": "code",
   "execution_count": null,
   "metadata": {},
   "outputs": [],
   "source": [
    "x_scale = LinearScale()\n",
    "y_scale = LinearScale()\n",
    "\n",
    "hist = Hist(sample=y_data, \n",
    "            colors=['orange'], \n",
    "            scales={'sample': x_scale, 'count': y_scale}, \n",
    "            labels=['Test Histogram'],\n",
    "            display_legend=True)\n",
    "\n",
    "x_ax = Axis(label='Test X', scale=x_scale, \n",
    "            tick_format='0.2f', grid_lines='none')\n",
    "\n",
    "y_ax_2 = Axis(label='Test Y', scale=y_scale, orientation='vertical', tick_format='0.2f', grid_lines='none')\n",
    "\n",
    "Figure(axes=[x_ax, y_ax_2], marks=[hist])"
   ]
  },
  {
   "cell_type": "code",
   "execution_count": null,
   "metadata": {
    "collapsed": true
   },
   "outputs": [],
   "source": [
    "# Setting the tick values to be the mid points of the bins\n",
    "x_ax.tick_values = hist.midpoints"
   ]
  },
  {
   "cell_type": "markdown",
   "metadata": {},
   "source": [
    "## Line Chart Log Scale"
   ]
  },
  {
   "cell_type": "code",
   "execution_count": null,
   "metadata": {},
   "outputs": [],
   "source": [
    "dates_all = np.arange('2005-02', '2005-03', dtype='datetime64[D]')\n",
    "size = len(dates_all)\n",
    "final_prices = 100 + 5 * np.cumsum(np.random.randn(size))"
   ]
  },
  {
   "cell_type": "code",
   "execution_count": null,
   "metadata": {},
   "outputs": [],
   "source": [
    "## Log scale for the Y axis\n",
    "dt_scale = DateScale()\n",
    "lsc = LogScale()\n",
    "\n",
    "ax_x = Axis(label='Date', scale=dt_scale, grid_lines='dashed')\n",
    "lax_y = Axis(label='Log Price', scale=lsc, orientation='vertical', tick_format='0.1f', grid_lines='solid')\n",
    "\n",
    "logline = Lines(x=dates_all, y=final_prices, scales={'x': dt_scale, 'y': lsc}, colors=['hotpink', 'orange'])\n",
    "Figure(axes=[ax_x, lax_y], marks=[logline], fig_margin = dict(left=100, right=100, top=100, bottom=70))"
   ]
  },
  {
   "cell_type": "markdown",
   "metadata": {},
   "source": [
    "## Multiple Marks with Ordinal Scale"
   ]
  },
  {
   "cell_type": "code",
   "execution_count": null,
   "metadata": {},
   "outputs": [],
   "source": [
    "# Plotting a bar and line chart on the same figure with x axis being an oridnal scale.\n",
    "ord_scale = OrdinalScale()\n",
    "lin_scale = LinearScale()\n",
    "\n",
    "bar_chart = Bars(x=x_data[:10],\n",
    "                 y=np.abs(y_data_3[:10]),\n",
    "                 scales={'x': ord_scale, 'y': lin_scale}, \n",
    "                 colors=['hotpink', 'orange', 'limegreen'],\n",
    "                 padding=0.5)\n",
    "\n",
    "line_chart = Lines(x=x_data[:10], \n",
    "                   y=np.abs(y_data[:10]), \n",
    "                   scales={'x': ord_scale, 'y': lin_scale}, \n",
    "                   colors=['hotpink', 'orange', 'limegreen'])\n",
    "bar_x = Axis(scale=ord_scale, orientation='horizontal', grid_lines='none', \n",
    "             set_ticks=True)\n",
    "bar_y = Axis(scale=lin_scale, orientation='vertical', grid_lines='none')\n",
    "Figure(axes=[bar_x, bar_y], marks=[bar_chart, line_chart])"
   ]
  },
  {
   "cell_type": "markdown",
   "metadata": {},
   "source": [
    "## Setting min and max along an axis for plots"
   ]
  },
  {
   "cell_type": "code",
   "execution_count": null,
   "metadata": {},
   "outputs": [],
   "source": [
    "sc_x = LinearScale(min=10, max=50)\n",
    "sc_y = LinearScale()\n",
    "\n",
    "x_data = np.arange(100)\n",
    "line_1 = Lines(x=x_data, y=y_data_2, scales={'x': sc_x, 'y': sc_y}, colors=['orange'])\n",
    "\n",
    "ax_x = Axis(scale=sc_x)\n",
    "ax_y = Axis(scale=sc_y, orientation='vertical', tick_format='.2f')\n",
    "Figure(marks=[line_1], axes=[ax_x, ax_y])"
   ]
  },
  {
   "cell_type": "code",
   "execution_count": null,
   "metadata": {
    "collapsed": true
   },
   "outputs": [],
   "source": [
    "## changing the min/max\n",
    "sc_x.min = -10\n",
    "sc_x.max = 110"
   ]
  },
  {
   "cell_type": "markdown",
   "metadata": {},
   "source": [
    "## Marks which do not affect the domain along an axis"
   ]
  },
  {
   "cell_type": "code",
   "execution_count": null,
   "metadata": {},
   "outputs": [],
   "source": [
    "sc_x = LinearScale()\n",
    "sc_y = LinearScale()\n",
    "\n",
    "x_data = np.arange(50)\n",
    "\n",
    "line_1 = Lines(x=x_data, y=y_data, scales={'x': sc_x, 'y': sc_y}, colors=['blue'])\n",
    "line_2 = Lines(x=x_data, y=y_data * 2, scales={'x': sc_x, 'y': sc_y}, colors=['orangered'], preserve_domain={'y': True})\n",
    "\n",
    "ax_x = Axis(scale=sc_x)\n",
    "ax_y = Axis(scale=sc_y, orientation='vertical')\n",
    "Figure(marks=[line_1, line_2], axes=[ax_x, ax_y])"
   ]
  },
  {
   "cell_type": "code",
   "execution_count": null,
   "metadata": {},
   "outputs": [],
   "source": [
    "with line_2.hold_sync():\n",
    "    line_2.preserve_domain={}"
   ]
  },
  {
   "cell_type": "markdown",
   "metadata": {},
   "source": [
    "## Preserve domain for color scale"
   ]
  },
  {
   "cell_type": "code",
   "execution_count": null,
   "metadata": {},
   "outputs": [],
   "source": [
    "sc_x = LinearScale()\n",
    "sc_y = LinearScale()\n",
    "sc_col = ColorScale(colors=['red', 'white', 'green'], mid=0.0)\n",
    "\n",
    "x_data = np.arange(50)\n",
    "\n",
    "scatt_1 = Scatter(x=x_data, y=y_data[:50], color=y_data[:50], scales={'x': sc_x, 'y': sc_y, 'color': sc_col},marker='circle')\n",
    "scatt_2 = Scatter(x=x_data, y=y_data[:50] * 2, color=y_data[:50] * 2, scales={'x': sc_x, 'y': sc_y, 'color': sc_col}, \n",
    "               preserve_domain={'color': True}, marker='cross')\n",
    "\n",
    "ax_x = Axis(scale=sc_x)\n",
    "ax_y = Axis(scale=sc_y, orientation='vertical')\n",
    "Figure(marks=[scatt_1, scatt_2], axes=[ax_x, ax_y])"
   ]
  },
  {
   "cell_type": "markdown",
   "metadata": {},
   "source": [
    "## Reversing a scale"
   ]
  },
  {
   "cell_type": "code",
   "execution_count": null,
   "metadata": {},
   "outputs": [],
   "source": [
    "sc_x = LinearScale(reverse=True)\n",
    "sc_y = LinearScale()\n",
    "\n",
    "x_data = np.arange(50)\n",
    "\n",
    "line_1 = Lines(x=x_data, y=y_data, scales={'x': sc_x, 'y': sc_y}, colors=['orange'])\n",
    "\n",
    "ax_x = Axis(scale=sc_x)\n",
    "ax_y = Axis(scale=sc_y, orientation='vertical')\n",
    "Figure(marks=[line_1], axes=[ax_x, ax_y])"
   ]
  },
  {
   "cell_type": "markdown",
   "metadata": {},
   "source": [
    "## Fixing the domain of an ordinal scale"
   ]
  },
  {
   "cell_type": "code",
   "execution_count": null,
   "metadata": {},
   "outputs": [],
   "source": [
    "ord_scale = OrdinalScale(domain=list(range(20)))\n",
    "y_scale = LinearScale()\n",
    "\n",
    "bar_chart = Bars(x=x_data[:10], \n",
    "                 y=[(y_data[:10]), y_data_2[:10] * 100, y_data_3[:10]], \n",
    "                 scales={'x': ord_scale, 'y': y_scale},\n",
    "                 colors=['hotpink', 'orange', 'limegreen'],\n",
    "                 labels=['Component 1', 'Component 2', 'Component 3'],\n",
    "                 display_legend=True)\n",
    "\n",
    "bar_x = Axis(scale=ord_scale, orientation='horizontal', set_ticks=True, grid_lines='none')\n",
    "bar_y = Axis(scale=y_scale, orientation='vertical', grid_lines='none')\n",
    "\n",
    "Figure(axes=[bar_x, bar_y], marks=[bar_chart])"
   ]
  },
  {
   "cell_type": "markdown",
   "metadata": {},
   "source": [
    "## Applying clip to marks"
   ]
  },
  {
   "cell_type": "code",
   "execution_count": null,
   "metadata": {},
   "outputs": [],
   "source": [
    "sc_x = LinearScale(min=10, max=90)\n",
    "sc_y = LinearScale()\n",
    "\n",
    "x_data = np.arange(100)\n",
    "line_1 = Lines(x=x_data, y=y_data_3, scales={'x': sc_x, 'y': sc_y}, colors=['orange'], labels=['Clipped Line'],\n",
    "               display_legend=True)\n",
    "line_2 = Lines(x=x_data, y=y_data, scales={'x': sc_x, 'y': sc_y}, apply_clip=False, colors=['orangered'], \n",
    "               labels=['Non clipped line'], display_legend=True)\n",
    "\n",
    "ax_x = Axis(scale=sc_x)\n",
    "ax_y = Axis(scale=sc_y, orientation='vertical')\n",
    "Figure(marks=[line_1, line_2], axes=[ax_x, ax_y])"
   ]
  },
  {
   "cell_type": "code",
   "execution_count": null,
   "metadata": {
    "collapsed": true
   },
   "outputs": [],
   "source": []
  },
  {
   "cell_type": "code",
   "execution_count": null,
   "metadata": {
    "collapsed": true
   },
   "outputs": [],
   "source": []
  },
  {
   "cell_type": "code",
   "execution_count": null,
   "metadata": {
    "collapsed": true
   },
   "outputs": [],
   "source": []
  }
 ],
 "metadata": {
  "anaconda-cloud": {},
  "kernelspec": {
   "display_name": "Python 3",
   "language": "python",
   "name": "python3"
  },
  "language_info": {
   "codemirror_mode": {
    "name": "ipython",
    "version": 3
   },
   "file_extension": ".py",
   "mimetype": "text/x-python",
   "name": "python",
   "nbconvert_exporter": "python",
   "pygments_lexer": "ipython3",
   "version": "3.6.1"
  },
  "widgets": {
   "application/vnd.jupyter.widget-state+json": {
    "state": {
     "05f273d57353439dbaa4063e3cd4402e": {
      "model_module": "jupyter-js-widgets",
      "model_module_version": "~2.1.4",
      "model_name": "LayoutModel",
      "state": {
       "_model_module_version": "~2.1.4",
       "_view_module_version": "~2.1.4",
       "min_width": "125px"
      }
     },
     "06860f93e4f5426fb4e1848cb373d15d": {
      "model_module": "jupyter-js-widgets",
      "model_module_version": "~2.1.4",
      "model_name": "LayoutModel",
      "state": {
       "_model_module_version": "~2.1.4",
       "_view_module_version": "~2.1.4",
       "min_width": "125px"
      }
     },
     "08462867bdb147f090dd5b1872a3df85": {
      "model_module": "bqplot",
      "model_module_version": "^0.2.3",
      "model_name": "LinearScaleModel",
      "state": {
       "stabilized": false
      }
     },
     "09d0e61ac0684b6fae5c994818ee7296": {
      "model_module": "bqplot",
      "model_module_version": "^0.2.3",
      "model_name": "AxisModel",
      "state": {
       "grid_lines": "none",
       "orientation": "vertical",
       "scale": "IPY_MODEL_6ff977f9e5254cc28ff2c79fbe2d20a4",
       "side": "left",
       "tick_values": {
        "type": null,
        "values": null
       }
      }
     },
     "0d8cfc39858146268ac15c149ba73c49": {
      "model_module": "bqplot",
      "model_module_version": "^0.2.3",
      "model_name": "LinearScaleModel",
      "state": {
       "allow_padding": false,
       "max": 1,
       "min": 0,
       "stabilized": false
      }
     },
     "0f9b6547edfc429c88500ce18c1af76e": {
      "model_module": "bqplot",
      "model_module_version": "^0.2.3",
      "model_name": "LinearScaleModel",
      "state": {
       "stabilized": false
      }
     },
     "12436995008947038a7bb0a973f224ce": {
      "model_module": "bqplot",
      "model_module_version": "^0.2.3",
      "model_name": "LinearScaleModel",
      "state": {
       "allow_padding": false,
       "max": 1,
       "min": 0,
       "stabilized": false
      }
     },
     "12ec59e1f3714eb7a89095da4737c682": {
      "model_module": "bqplot",
      "model_module_version": "^0.2.3",
      "model_name": "LinearScaleModel",
      "state": {
       "stabilized": false
      }
     },
     "13005649ddd444d49cf92e483c8b07eb": {
      "model_module": "bqplot",
      "model_module_version": "^0.2.3",
      "model_name": "LogScaleModel",
      "state": {}
     },
     "13c39f78acc04db3b83945a0c5fec246": {
      "model_module": "bqplot",
      "model_module_version": "^0.2.3",
      "model_name": "LinesModel",
      "state": {
       "apply_clip": false,
       "color": {
        "type": null,
        "values": null
       },
       "colors": [
        "orangered"
       ],
       "fill_colors": [],
       "labels": [
        "Non clipped line"
       ],
       "scales": {
        "x": "IPY_MODEL_619f6b0e75f74c5eafa71ff380dd6a07",
        "y": "IPY_MODEL_db00161007d846f1b7dce2fe776c1126"
       },
       "selected": [],
       "x": {
        "type": "float",
        "values": [
         0,
         1,
         2,
         3,
         4,
         5,
         6,
         7,
         8,
         9,
         10,
         11,
         12,
         13,
         14,
         15,
         16,
         17,
         18,
         19,
         20,
         21,
         22,
         23,
         24,
         25,
         26,
         27,
         28,
         29,
         30,
         31,
         32,
         33,
         34,
         35,
         36,
         37,
         38,
         39,
         40,
         41,
         42,
         43,
         44,
         45,
         46,
         47,
         48,
         49,
         50,
         51,
         52,
         53,
         54,
         55,
         56,
         57,
         58,
         59,
         60,
         61,
         62,
         63,
         64,
         65,
         66,
         67,
         68,
         69,
         70,
         71,
         72,
         73,
         74,
         75,
         76,
         77,
         78,
         79,
         80,
         81,
         82,
         83,
         84,
         85,
         86,
         87,
         88,
         89,
         90,
         91,
         92,
         93,
         94,
         95,
         96,
         97,
         98,
         99
        ]
       },
       "y": {
        "type": "float",
        "values": [
         176.4052345967664,
         216.42095543348873,
         314.29475384406265,
         538.3840737642084,
         725.1398727792052,
         627.4120847915641,
         722.4209265441231,
         707.2852057143533,
         696.9633205349975,
         738.0231707288347,
         752.4275278449225,
         897.8548785412199,
         973.9586510559193,
         986.1261527052021,
         1030.5124759797447,
         1063.8799087171715,
         1213.2878160329321,
         1192.7719896563522,
         1224.0787598214422,
         1138.6691858912698,
         883.3702043078619,
         948.7320638518979,
         1035.1756837378484,
         960.9591816972043,
         1187.934644095965,
         1042.4980766360886,
         1047.0739283662333,
         1028.35554336365,
         1181.6334647994956,
         1328.569341789524,
         1344.0640843592157,
         1381.8803363194331,
         1293.101761556422,
         1095.0221147340292,
         1060.230899801414,
         1075.865796711812,
         1198.8948647845841,
         1319.1328496630254,
         1280.4001679222301,
         1250.1698928646965,
         1145.3145963579873,
         1003.3128026400898,
         832.6857835775885,
         1027.7633231007674,
         976.798104925602,
         932.9906747644834,
         807.7111387594907,
         885.4601743426817,
         724.0703895868866,
         702.7963615654897,
         613.2497054461222,
         651.9399552320484,
         600.8594414751611,
         482.7962230629199,
         479.97800022905443,
         522.8111872820962,
         529.462909520413,
         559.7100992943911,
         496.2778899262947,
         460.00377332758086,
         392.75772854998576,
         356.80241239593164,
         275.48778419148624,
         102.85952395831856,
         120.60213818369385,
         80.42404456286766,
         -82.59579013373678,
         -36.31756458115937,
         -127.04740101948357,
         -121.85286143986968,
         -48.943805222116,
         -36.04551414637493,
         77.89455430795515,
         -45.58802772741012,
         -5.353863609655221,
         -73.83487270368654,
         -160.91458762187472,
         -218.79955409831626,
         -249.95480731105351,
         -244.33827308807898,
         -360.8532571664146,
         -270.7706084709959,
         -224.20436449794994,
         -377.82873312567233,
         -229.00351374611236,
         -39.41459614305404,
         78.46336097291103,
         60.47087739167594,
         -46.604384759378306,
         58.840787933735356,
         18.523093236417395,
         140.76760027466014,
         161.59509808234617,
         259.25900173071744,
         294.8956414481576,
         365.55295826735244,
         366.6029603394345,
         545.190009730018,
         557.88121900038,
         598.0801553448503
        ]
       }
      }
     },
     "15a2474cf36045ecb46abd680b87b3d0": {
      "model_module": "bqplot",
      "model_module_version": "^0.2.3",
      "model_name": "LinearScaleModel",
      "state": {
       "stabilized": false
      }
     },
     "1a2ce5a7edc94adf958df130d21ace09": {
      "model_module": "bqplot",
      "model_module_version": "^0.2.3",
      "model_name": "DateScaleModel",
      "state": {}
     },
     "1e68535719eb4b379ba8cba3e54a17f8": {
      "model_module": "bqplot",
      "model_module_version": "^0.2.3",
      "model_name": "ScatterModel",
      "state": {
       "_model_module": "bqplot",
       "_model_module_version": "^0.2.3",
       "_view_module": "bqplot",
       "_view_module_version": "^0.2.3",
       "apply_clip": true,
       "color": {
        "type": "float",
        "values": [
         176.4052345967664,
         216.42095543348873,
         314.29475384406265,
         538.3840737642084,
         725.1398727792052,
         627.4120847915641,
         722.4209265441231,
         707.2852057143533,
         696.9633205349975,
         738.0231707288347,
         752.4275278449225,
         897.8548785412199,
         973.9586510559193,
         986.1261527052021,
         1030.5124759797447,
         1063.8799087171715,
         1213.2878160329321,
         1192.7719896563522,
         1224.0787598214422,
         1138.6691858912698,
         883.3702043078619,
         948.7320638518979,
         1035.1756837378484,
         960.9591816972043,
         1187.934644095965,
         1042.4980766360886,
         1047.0739283662333,
         1028.35554336365,
         1181.6334647994956,
         1328.569341789524,
         1344.0640843592157,
         1381.8803363194331,
         1293.101761556422,
         1095.0221147340292,
         1060.230899801414,
         1075.865796711812,
         1198.8948647845841,
         1319.1328496630254,
         1280.4001679222301,
         1250.1698928646965,
         1145.3145963579873,
         1003.3128026400898,
         832.6857835775885,
         1027.7633231007674,
         976.798104925602,
         932.9906747644834,
         807.7111387594907,
         885.4601743426817,
         724.0703895868866,
         702.7963615654897
        ]
       },
       "colors": [
        "DeepSkyBlue"
       ],
       "display_legend": false,
       "enable_hover": true,
       "hovered_style": {},
       "interactions": {
        "hover": "tooltip"
       },
       "labels": [],
       "msg_throttle": 1,
       "names": {
        "type": null,
        "values": null
       },
       "opacity": {
        "type": null,
        "values": null
       },
       "preserve_domain": {},
       "rotation": {
        "type": null,
        "values": null
       },
       "scales": {
        "color": "IPY_MODEL_9f7aa2a9d2704bc88499e958c3642ff7",
        "x": "IPY_MODEL_08462867bdb147f090dd5b1872a3df85",
        "y": "IPY_MODEL_15a2474cf36045ecb46abd680b87b3d0"
       },
       "scales_metadata": {
        "color": {
         "dimension": "color"
        },
        "opacity": {
         "dimension": "opacity"
        },
        "size": {
         "dimension": "size"
        },
        "x": {
         "dimension": "x",
         "orientation": "horizontal"
        },
        "y": {
         "dimension": "y",
         "orientation": "vertical"
        }
       },
       "selected": [],
       "selected_style": {},
       "size": {
        "type": null,
        "values": null
       },
       "skew": {
        "type": null,
        "values": null
       },
       "tooltip": null,
       "tooltip_location": "mouse",
       "tooltip_style": {
        "opacity": 0.9
       },
       "unhovered_style": {},
       "unselected_style": {},
       "visible": true,
       "x": {
        "type": "float",
        "values": [
         0,
         1,
         2,
         3,
         4,
         5,
         6,
         7,
         8,
         9,
         10,
         11,
         12,
         13,
         14,
         15,
         16,
         17,
         18,
         19,
         20,
         21,
         22,
         23,
         24,
         25,
         26,
         27,
         28,
         29,
         30,
         31,
         32,
         33,
         34,
         35,
         36,
         37,
         38,
         39,
         40,
         41,
         42,
         43,
         44,
         45,
         46,
         47,
         48,
         49
        ]
       },
       "y": {
        "type": "float",
        "values": [
         176.4052345967664,
         216.42095543348873,
         314.29475384406265,
         538.3840737642084,
         725.1398727792052,
         627.4120847915641,
         722.4209265441231,
         707.2852057143533,
         696.9633205349975,
         738.0231707288347,
         752.4275278449225,
         897.8548785412199,
         973.9586510559193,
         986.1261527052021,
         1030.5124759797447,
         1063.8799087171715,
         1213.2878160329321,
         1192.7719896563522,
         1224.0787598214422,
         1138.6691858912698,
         883.3702043078619,
         948.7320638518979,
         1035.1756837378484,
         960.9591816972043,
         1187.934644095965,
         1042.4980766360886,
         1047.0739283662333,
         1028.35554336365,
         1181.6334647994956,
         1328.569341789524,
         1344.0640843592157,
         1381.8803363194331,
         1293.101761556422,
         1095.0221147340292,
         1060.230899801414,
         1075.865796711812,
         1198.8948647845841,
         1319.1328496630254,
         1280.4001679222301,
         1250.1698928646965,
         1145.3145963579873,
         1003.3128026400898,
         832.6857835775885,
         1027.7633231007674,
         976.798104925602,
         932.9906747644834,
         807.7111387594907,
         885.4601743426817,
         724.0703895868866,
         702.7963615654897
        ]
       }
      }
     },
     "2037408aca0c4a06a86f77043b1b44ce": {
      "model_module": "bqplot",
      "model_module_version": "^0.2.3",
      "model_name": "FigureModel",
      "state": {
       "_dom_classes": [],
       "axes": [
        "IPY_MODEL_f65dbdecc9884575a038f6c0eab4c7d0",
        "IPY_MODEL_7d37d242db3c429a8ca5aca55b51747f"
       ],
       "layout": "IPY_MODEL_9e6de25ec9224b7d8676385f26a7fa2d",
       "marks": [
        "IPY_MODEL_8ed497a16a7143768148c0c4eeedb44c",
        "IPY_MODEL_d641392400064185aecfb936d0a8b739"
       ],
       "max_aspect_ratio": 6,
       "scale_x": "IPY_MODEL_12436995008947038a7bb0a973f224ce",
       "scale_y": "IPY_MODEL_f79115ae96b64e8a91b4a19294ce8855"
      }
     },
     "228f233286464fa2a6ad5acaa7b37519": {
      "model_module": "bqplot",
      "model_module_version": "^0.2.3",
      "model_name": "HistModel",
      "state": {
       "colors": [
        "orange"
       ],
       "count": {
        "type": "float",
        "values": [
         8,
         11,
         10,
         7,
         8,
         11,
         10,
         12,
         14,
         9
        ]
       },
       "labels": [
        "Test Histogram"
       ],
       "midpoints": [
        -289.8432796534171,
        -113.87237270890651,
        62.09853423560406,
        238.0694411801146,
        414.0403481246251,
        590.0112550691357,
        765.9821620136463,
        941.9530689581568,
        1117.9239759026673,
        1293.894882847178
       ],
       "sample": {
        "type": "float",
        "values": [
         176.4052345967664,
         216.42095543348873,
         314.29475384406265,
         538.3840737642084,
         725.1398727792052,
         627.4120847915641,
         722.4209265441231,
         707.2852057143533,
         696.9633205349975,
         738.0231707288347,
         752.4275278449225,
         897.8548785412199,
         973.9586510559193,
         986.1261527052021,
         1030.5124759797447,
         1063.8799087171715,
         1213.2878160329321,
         1192.7719896563522,
         1224.0787598214422,
         1138.6691858912698,
         883.3702043078619,
         948.7320638518979,
         1035.1756837378484,
         960.9591816972043,
         1187.934644095965,
         1042.4980766360886,
         1047.0739283662333,
         1028.35554336365,
         1181.6334647994956,
         1328.569341789524,
         1344.0640843592157,
         1381.8803363194331,
         1293.101761556422,
         1095.0221147340292,
         1060.230899801414,
         1075.865796711812,
         1198.8948647845841,
         1319.1328496630254,
         1280.4001679222301,
         1250.1698928646965,
         1145.3145963579873,
         1003.3128026400898,
         832.6857835775885,
         1027.7633231007674,
         976.798104925602,
         932.9906747644834,
         807.7111387594907,
         885.4601743426817,
         724.0703895868866,
         702.7963615654897,
         613.2497054461222,
         651.9399552320484,
         600.8594414751611,
         482.7962230629199,
         479.97800022905443,
         522.8111872820962,
         529.462909520413,
         559.7100992943911,
         496.2778899262947,
         460.00377332758086,
         392.75772854998576,
         356.80241239593164,
         275.48778419148624,
         102.85952395831856,
         120.60213818369385,
         80.42404456286766,
         -82.59579013373678,
         -36.31756458115937,
         -127.04740101948357,
         -121.85286143986968,
         -48.943805222116,
         -36.04551414637493,
         77.89455430795515,
         -45.58802772741012,
         -5.353863609655221,
         -73.83487270368654,
         -160.91458762187472,
         -218.79955409831626,
         -249.95480731105351,
         -244.33827308807898,
         -360.8532571664146,
         -270.7706084709959,
         -224.20436449794994,
         -377.82873312567233,
         -229.00351374611236,
         -39.41459614305404,
         78.46336097291103,
         60.47087739167594,
         -46.604384759378306,
         58.840787933735356,
         18.523093236417395,
         140.76760027466014,
         161.59509808234617,
         259.25900173071744,
         294.8956414481576,
         365.55295826735244,
         366.6029603394345,
         545.190009730018,
         557.88121900038,
         598.0801553448503
        ]
       },
       "scales": {
        "count": "IPY_MODEL_4618a816c28d4e7cb2eb40381349045d",
        "sample": "IPY_MODEL_637fd90d47c04c019b0ecc9f8f41651f"
       },
       "selected": []
      }
     },
     "2557f7792b394646bde2ca07a77e4b58": {
      "model_module": "bqplot",
      "model_module_version": "^0.2.3",
      "model_name": "AxisModel",
      "state": {
       "scale": "IPY_MODEL_40dc05536786444fbf2ffa600a30be1d",
       "side": "bottom",
       "tick_values": {
        "type": null,
        "values": null
       }
      }
     },
     "255da30d42ac4fc48a7b8e226de0eacf": {
      "model_module": "bqplot",
      "model_module_version": "^0.2.3",
      "model_name": "AxisModel",
      "state": {
       "scale": "IPY_MODEL_a33fdb6d497245b98e40de7c26200077",
       "side": "bottom",
       "tick_values": {
        "type": null,
        "values": null
       }
      }
     },
     "2740e87781894e908a1ef9e031ac04b4": {
      "model_module": "bqplot",
      "model_module_version": "^0.2.3",
      "model_name": "AxisModel",
      "state": {
       "grid_lines": "none",
       "label": "Test Y",
       "orientation": "vertical",
       "scale": "IPY_MODEL_4618a816c28d4e7cb2eb40381349045d",
       "side": "left",
       "tick_format": "0.2f",
       "tick_values": {
        "type": null,
        "values": null
       }
      }
     },
     "274b0d8a01be4f228ab4a0a49f2935d8": {
      "model_module": "bqplot",
      "model_module_version": "^0.2.3",
      "model_name": "LinesModel",
      "state": {
       "color": {
        "type": null,
        "values": null
       },
       "colors": [
        "orangered"
       ],
       "display_legend": false,
       "fill_colors": [],
       "labels": [
        "C1"
       ],
       "scales": {
        "x": "IPY_MODEL_a33fdb6d497245b98e40de7c26200077",
        "y": "IPY_MODEL_8a6625abaf2e4853b3d676f5921576a6"
       },
       "selected": [],
       "x": {
        "type": "float",
        "values": [
         0,
         1,
         2,
         3,
         4,
         5,
         6,
         7,
         8,
         9,
         10,
         11,
         12,
         13,
         14,
         15,
         16,
         17,
         18,
         19,
         20,
         21,
         22,
         23,
         24,
         25,
         26,
         27,
         28,
         29,
         30,
         31,
         32,
         33,
         34,
         35,
         36,
         37,
         38,
         39,
         40,
         41,
         42,
         43,
         44,
         45,
         46,
         47,
         48,
         49
        ]
       },
       "y": {
        "type": "float",
        "values": [
         352.8104691935328,
         432.84191086697746,
         628.5895076881253,
         1076.7681475284169,
         1450.2797455584105,
         1254.8241695831282,
         1444.8418530882461,
         1414.5704114287066,
         1393.926641069995,
         1476.0463414576693,
         1504.855055689845,
         1795.7097570824399,
         1947.9173021118386,
         1972.2523054104042,
         2061.0249519594895,
         2127.759817434343,
         2426.5756320658643,
         2385.5439793127043,
         2448.1575196428844,
         2277.3383717825395,
         1766.7404086157237,
         1897.4641277037958,
         2070.351367475697,
         1921.9183633944085,
         2375.86928819193,
         2084.9961532721773,
         2094.1478567324666,
         2056.7110867273,
         2363.2669295989913,
         2657.138683579048,
         2688.1281687184314,
         2763.7606726388663,
         2586.203523112844,
         2190.0442294680583,
         2120.461799602828,
         2151.731593423624,
         2397.7897295691682,
         2638.2656993260507,
         2560.8003358444603,
         2500.339785729393,
         2290.6291927159746,
         2006.6256052801796,
         1665.371567155177,
         2055.5266462015347,
         1953.596209851204,
         1865.9813495289668,
         1615.4222775189814,
         1770.9203486853635,
         1448.1407791737731,
         1405.5927231309795,
         1226.4994108922444,
         1303.8799104640968,
         1201.7188829503223,
         965.5924461258398,
         959.9560004581089,
         1045.6223745641923,
         1058.925819040826,
         1119.4201985887821,
         992.5557798525894,
         920.0075466551617,
         785.5154570999715,
         713.6048247918633,
         550.9755683829725,
         205.71904791663712,
         241.2042763673877,
         160.84808912573533,
         -165.19158026747357,
         -72.63512916231873,
         -254.09480203896715,
         -243.70572287973937,
         -97.887610444232,
         -72.09102829274985,
         155.7891086159103,
         -91.17605545482024,
         -10.707727219310442,
         -147.66974540737309,
         -321.82917524374943,
         -437.5991081966325,
         -499.90961462210703,
         -488.67654617615796,
         -721.7065143328292,
         -541.5412169419918,
         -448.4087289958999,
         -755.6574662513447,
         -458.0070274922247,
         -78.82919228610808,
         156.92672194582207,
         120.94175478335188,
         -93.20876951875661,
         117.68157586747071,
         37.04618647283479,
         281.5352005493203,
         323.19019616469234,
         518.5180034614349,
         589.7912828963152,
         731.1059165347049,
         733.205920678869,
         1090.380019460036,
         1115.76243800076,
         1196.1603106897005
        ]
       }
      }
     },
     "278a8bc307174d8fa3dd2ad8b810ad2b": {
      "model_module": "bqplot",
      "model_module_version": "^0.2.3",
      "model_name": "LinesModel",
      "state": {
       "color": {
        "type": null,
        "values": null
       },
       "colors": [
        "blue"
       ],
       "display_legend": false,
       "fill_colors": [],
       "labels": [
        "C1"
       ],
       "scales": {
        "x": "IPY_MODEL_a33fdb6d497245b98e40de7c26200077",
        "y": "IPY_MODEL_8a6625abaf2e4853b3d676f5921576a6"
       },
       "selected": [],
       "x": {
        "type": "float",
        "values": [
         0,
         1,
         2,
         3,
         4,
         5,
         6,
         7,
         8,
         9,
         10,
         11,
         12,
         13,
         14,
         15,
         16,
         17,
         18,
         19,
         20,
         21,
         22,
         23,
         24,
         25,
         26,
         27,
         28,
         29,
         30,
         31,
         32,
         33,
         34,
         35,
         36,
         37,
         38,
         39,
         40,
         41,
         42,
         43,
         44,
         45,
         46,
         47,
         48,
         49
        ]
       },
       "y": {
        "type": "float",
        "values": [
         176.4052345967664,
         216.42095543348873,
         314.29475384406265,
         538.3840737642084,
         725.1398727792052,
         627.4120847915641,
         722.4209265441231,
         707.2852057143533,
         696.9633205349975,
         738.0231707288347,
         752.4275278449225,
         897.8548785412199,
         973.9586510559193,
         986.1261527052021,
         1030.5124759797447,
         1063.8799087171715,
         1213.2878160329321,
         1192.7719896563522,
         1224.0787598214422,
         1138.6691858912698,
         883.3702043078619,
         948.7320638518979,
         1035.1756837378484,
         960.9591816972043,
         1187.934644095965,
         1042.4980766360886,
         1047.0739283662333,
         1028.35554336365,
         1181.6334647994956,
         1328.569341789524,
         1344.0640843592157,
         1381.8803363194331,
         1293.101761556422,
         1095.0221147340292,
         1060.230899801414,
         1075.865796711812,
         1198.8948647845841,
         1319.1328496630254,
         1280.4001679222301,
         1250.1698928646965,
         1145.3145963579873,
         1003.3128026400898,
         832.6857835775885,
         1027.7633231007674,
         976.798104925602,
         932.9906747644834,
         807.7111387594907,
         885.4601743426817,
         724.0703895868866,
         702.7963615654897,
         613.2497054461222,
         651.9399552320484,
         600.8594414751611,
         482.7962230629199,
         479.97800022905443,
         522.8111872820962,
         529.462909520413,
         559.7100992943911,
         496.2778899262947,
         460.00377332758086,
         392.75772854998576,
         356.80241239593164,
         275.48778419148624,
         102.85952395831856,
         120.60213818369385,
         80.42404456286766,
         -82.59579013373678,
         -36.31756458115937,
         -127.04740101948357,
         -121.85286143986968,
         -48.943805222116,
         -36.04551414637493,
         77.89455430795515,
         -45.58802772741012,
         -5.353863609655221,
         -73.83487270368654,
         -160.91458762187472,
         -218.79955409831626,
         -249.95480731105351,
         -244.33827308807898,
         -360.8532571664146,
         -270.7706084709959,
         -224.20436449794994,
         -377.82873312567233,
         -229.00351374611236,
         -39.41459614305404,
         78.46336097291103,
         60.47087739167594,
         -46.604384759378306,
         58.840787933735356,
         18.523093236417395,
         140.76760027466014,
         161.59509808234617,
         259.25900173071744,
         294.8956414481576,
         365.55295826735244,
         366.6029603394345,
         545.190009730018,
         557.88121900038,
         598.0801553448503
        ]
       }
      }
     },
     "2887e09a293e456c857b7a0090af5673": {
      "model_module": "bqplot",
      "model_module_version": "^0.2.3",
      "model_name": "FigureModel",
      "state": {
       "_dom_classes": [],
       "axes": [
        "IPY_MODEL_575018c1627b4a66808a44dba5484034",
        "IPY_MODEL_ca19ae1753f14ff083f52e3a126d2b5b"
       ],
       "layout": "IPY_MODEL_8ab940fc68a240c4a568314a091ca0dc",
       "marks": [
        "IPY_MODEL_1e68535719eb4b379ba8cba3e54a17f8",
        "IPY_MODEL_4e2605144bae410492e4f3224e0362da"
       ],
       "max_aspect_ratio": 6,
       "scale_x": "IPY_MODEL_805be985a0df411cb61a5e3aeddcd8b4",
       "scale_y": "IPY_MODEL_2a3dc478550540bc8f4ac19e53d962c6"
      }
     },
     "2a3dc478550540bc8f4ac19e53d962c6": {
      "model_module": "bqplot",
      "model_module_version": "^0.2.3",
      "model_name": "LinearScaleModel",
      "state": {
       "allow_padding": false,
       "max": 1,
       "min": 0,
       "stabilized": false
      }
     },
     "2d4417039e054d95bd4420d65edbb0bf": {
      "model_module": "bqplot",
      "model_module_version": "^0.2.3",
      "model_name": "LinesModel",
      "state": {
       "color": {
        "type": null,
        "values": null
       },
       "colors": [
        "hotpink",
        "orange"
       ],
       "display_legend": false,
       "fill_colors": [],
       "labels": [
        "C1"
       ],
       "scales": {
        "x": "IPY_MODEL_1a2ce5a7edc94adf958df130d21ace09",
        "y": "IPY_MODEL_13005649ddd444d49cf92e483c8b07eb"
       },
       "selected": [],
       "x": {
        "type": "date",
        "values": [
         "2005-02-01T00:00:00.000000",
         "2005-02-02T00:00:00.000000",
         "2005-02-03T00:00:00.000000",
         "2005-02-04T00:00:00.000000",
         "2005-02-05T00:00:00.000000",
         "2005-02-06T00:00:00.000000",
         "2005-02-07T00:00:00.000000",
         "2005-02-08T00:00:00.000000",
         "2005-02-09T00:00:00.000000",
         "2005-02-10T00:00:00.000000",
         "2005-02-11T00:00:00.000000",
         "2005-02-12T00:00:00.000000",
         "2005-02-13T00:00:00.000000",
         "2005-02-14T00:00:00.000000",
         "2005-02-15T00:00:00.000000",
         "2005-02-16T00:00:00.000000",
         "2005-02-17T00:00:00.000000",
         "2005-02-18T00:00:00.000000",
         "2005-02-19T00:00:00.000000",
         "2005-02-20T00:00:00.000000",
         "2005-02-21T00:00:00.000000",
         "2005-02-22T00:00:00.000000",
         "2005-02-23T00:00:00.000000",
         "2005-02-24T00:00:00.000000",
         "2005-02-25T00:00:00.000000",
         "2005-02-26T00:00:00.000000",
         "2005-02-27T00:00:00.000000",
         "2005-02-28T00:00:00.000000"
        ]
       },
       "y": {
        "type": "float",
        "values": [
         93.46736574132342,
         101.75801913941436,
         101.16719891377151,
         97.76630789378726,
         101.09822330394682,
         98.79462436700406,
         92.12333200999029,
         85.38974448100252,
         88.85861024445317,
         88.06074305372185,
         87.39223525537965,
         92.78095428526096,
         87.14682524147725,
         83.49343647715312,
         81.56903743124674,
         82.04079537783211,
         81.82993812137923,
         80.39550215942968,
         80.08737014895144,
         79.55084376749556,
         75.9528218247366,
         71.88785688196623,
         73.26043867058593,
         68.80586325560827,
         63.01908695965401,
         61.457625704025546,
         60.66929062320647,
         71.95290810969752
        ]
       }
      }
     },
     "2d66be9d2eac419d81fc14d2d4f8cf4b": {
      "model_module": "bqplot",
      "model_module_version": "^0.2.3",
      "model_name": "LinearScaleModel",
      "state": {
       "max": 110,
       "min": -10,
       "stabilized": false
      }
     },
     "2f1af74e59024b51bc6c04e2b0285be5": {
      "model_module": "bqplot",
      "model_module_version": "^0.2.3",
      "model_name": "FigureModel",
      "state": {
       "_dom_classes": [],
       "axes": [
        "IPY_MODEL_6c9a0fa15c1949778e6386e90bf24579",
        "IPY_MODEL_2740e87781894e908a1ef9e031ac04b4"
       ],
       "layout": "IPY_MODEL_05f273d57353439dbaa4063e3cd4402e",
       "marks": [
        "IPY_MODEL_228f233286464fa2a6ad5acaa7b37519"
       ],
       "max_aspect_ratio": 6,
       "scale_x": "IPY_MODEL_a1964ca7ca8847219b2b749788829a89",
       "scale_y": "IPY_MODEL_55e590fd2e844e998ec1dd72e0ac0e4e"
      }
     },
     "315314dff628450085722057bb351c66": {
      "model_module": "bqplot",
      "model_module_version": "^0.2.3",
      "model_name": "LinearScaleModel",
      "state": {
       "allow_padding": false,
       "max": 1,
       "min": 0,
       "stabilized": false
      }
     },
     "40dc05536786444fbf2ffa600a30be1d": {
      "model_module": "bqplot",
      "model_module_version": "^0.2.3",
      "model_name": "LinearScaleModel",
      "state": {
       "reverse": true,
       "stabilized": false
      }
     },
     "413ddc3ef2ad44b8a707d1613449214b": {
      "model_module": "jupyter-js-widgets",
      "model_module_version": "~2.1.4",
      "model_name": "LayoutModel",
      "state": {
       "_model_module_version": "~2.1.4",
       "_view_module_version": "~2.1.4",
       "min_width": "125px"
      }
     },
     "44290448a069466286efae4211e12e0c": {
      "model_module": "bqplot",
      "model_module_version": "^0.2.3",
      "model_name": "AxisModel",
      "state": {
       "grid_lines": "dashed",
       "label": "Date",
       "scale": "IPY_MODEL_1a2ce5a7edc94adf958df130d21ace09",
       "side": "bottom",
       "tick_values": {
        "type": null,
        "values": null
       }
      }
     },
     "4618a816c28d4e7cb2eb40381349045d": {
      "model_module": "bqplot",
      "model_module_version": "^0.2.3",
      "model_name": "LinearScaleModel",
      "state": {
       "stabilized": false
      }
     },
     "4e2605144bae410492e4f3224e0362da": {
      "model_module": "bqplot",
      "model_module_version": "^0.2.3",
      "model_name": "ScatterModel",
      "state": {
       "_model_module": "bqplot",
       "_model_module_version": "^0.2.3",
       "_view_module": "bqplot",
       "_view_module_version": "^0.2.3",
       "apply_clip": true,
       "color": {
        "type": "float",
        "values": [
         352.8104691935328,
         432.84191086697746,
         628.5895076881253,
         1076.7681475284169,
         1450.2797455584105,
         1254.8241695831282,
         1444.8418530882461,
         1414.5704114287066,
         1393.926641069995,
         1476.0463414576693,
         1504.855055689845,
         1795.7097570824399,
         1947.9173021118386,
         1972.2523054104042,
         2061.0249519594895,
         2127.759817434343,
         2426.5756320658643,
         2385.5439793127043,
         2448.1575196428844,
         2277.3383717825395,
         1766.7404086157237,
         1897.4641277037958,
         2070.351367475697,
         1921.9183633944085,
         2375.86928819193,
         2084.9961532721773,
         2094.1478567324666,
         2056.7110867273,
         2363.2669295989913,
         2657.138683579048,
         2688.1281687184314,
         2763.7606726388663,
         2586.203523112844,
         2190.0442294680583,
         2120.461799602828,
         2151.731593423624,
         2397.7897295691682,
         2638.2656993260507,
         2560.8003358444603,
         2500.339785729393,
         2290.6291927159746,
         2006.6256052801796,
         1665.371567155177,
         2055.5266462015347,
         1953.596209851204,
         1865.9813495289668,
         1615.4222775189814,
         1770.9203486853635,
         1448.1407791737731,
         1405.5927231309795
        ]
       },
       "colors": [
        "DeepSkyBlue"
       ],
       "display_legend": false,
       "enable_hover": true,
       "hovered_style": {},
       "interactions": {
        "hover": "tooltip"
       },
       "labels": [],
       "marker": "cross",
       "msg_throttle": 1,
       "names": {
        "type": null,
        "values": null
       },
       "opacity": {
        "type": null,
        "values": null
       },
       "preserve_domain": {
        "color": true
       },
       "rotation": {
        "type": null,
        "values": null
       },
       "scales": {
        "color": "IPY_MODEL_9f7aa2a9d2704bc88499e958c3642ff7",
        "x": "IPY_MODEL_08462867bdb147f090dd5b1872a3df85",
        "y": "IPY_MODEL_15a2474cf36045ecb46abd680b87b3d0"
       },
       "scales_metadata": {
        "color": {
         "dimension": "color"
        },
        "opacity": {
         "dimension": "opacity"
        },
        "size": {
         "dimension": "size"
        },
        "x": {
         "dimension": "x",
         "orientation": "horizontal"
        },
        "y": {
         "dimension": "y",
         "orientation": "vertical"
        }
       },
       "selected": [],
       "selected_style": {},
       "size": {
        "type": null,
        "values": null
       },
       "skew": {
        "type": null,
        "values": null
       },
       "tooltip": null,
       "tooltip_location": "mouse",
       "tooltip_style": {
        "opacity": 0.9
       },
       "unhovered_style": {},
       "unselected_style": {},
       "visible": true,
       "x": {
        "type": "float",
        "values": [
         0,
         1,
         2,
         3,
         4,
         5,
         6,
         7,
         8,
         9,
         10,
         11,
         12,
         13,
         14,
         15,
         16,
         17,
         18,
         19,
         20,
         21,
         22,
         23,
         24,
         25,
         26,
         27,
         28,
         29,
         30,
         31,
         32,
         33,
         34,
         35,
         36,
         37,
         38,
         39,
         40,
         41,
         42,
         43,
         44,
         45,
         46,
         47,
         48,
         49
        ]
       },
       "y": {
        "type": "float",
        "values": [
         352.8104691935328,
         432.84191086697746,
         628.5895076881253,
         1076.7681475284169,
         1450.2797455584105,
         1254.8241695831282,
         1444.8418530882461,
         1414.5704114287066,
         1393.926641069995,
         1476.0463414576693,
         1504.855055689845,
         1795.7097570824399,
         1947.9173021118386,
         1972.2523054104042,
         2061.0249519594895,
         2127.759817434343,
         2426.5756320658643,
         2385.5439793127043,
         2448.1575196428844,
         2277.3383717825395,
         1766.7404086157237,
         1897.4641277037958,
         2070.351367475697,
         1921.9183633944085,
         2375.86928819193,
         2084.9961532721773,
         2094.1478567324666,
         2056.7110867273,
         2363.2669295989913,
         2657.138683579048,
         2688.1281687184314,
         2763.7606726388663,
         2586.203523112844,
         2190.0442294680583,
         2120.461799602828,
         2151.731593423624,
         2397.7897295691682,
         2638.2656993260507,
         2560.8003358444603,
         2500.339785729393,
         2290.6291927159746,
         2006.6256052801796,
         1665.371567155177,
         2055.5266462015347,
         1953.596209851204,
         1865.9813495289668,
         1615.4222775189814,
         1770.9203486853635,
         1448.1407791737731,
         1405.5927231309795
        ]
       }
      }
     },
     "504781940a2e4728986614317c8f55ff": {
      "model_module": "bqplot",
      "model_module_version": "^0.2.3",
      "model_name": "AxisModel",
      "state": {
       "orientation": "vertical",
       "scale": "IPY_MODEL_db00161007d846f1b7dce2fe776c1126",
       "side": "left",
       "tick_values": {
        "type": null,
        "values": null
       }
      }
     },
     "53004384550c4049b7046f90344ef66e": {
      "model_module": "bqplot",
      "model_module_version": "^0.2.3",
      "model_name": "BarsModel",
      "state": {
       "color": {
        "type": null,
        "values": null
       },
       "labels": [
        "Bar1",
        "Bar2",
        "Bar3"
       ],
       "scales": {
        "x": "IPY_MODEL_b35f81457999415d8be1d3a153245890",
        "y": "IPY_MODEL_12ec59e1f3714eb7a89095da4737c682"
       },
       "selected": [],
       "x": {
        "type": "float",
        "values": [
         0,
         1,
         2,
         3,
         4,
         5,
         6,
         7,
         8,
         9
        ]
       },
       "y": {
        "type": "float",
        "values": [
         [
          176.4052345967664,
          216.42095543348873,
          314.29475384406265,
          538.3840737642084,
          725.1398727792052,
          627.4120847915641,
          722.4209265441231,
          707.2852057143533,
          696.9633205349975,
          738.0231707288347
         ],
         [
          188.31506970562543,
          53.5391635913808,
          -73.50933625719256,
          23.430334558608557,
          -93.88200595280743,
          100.48011261212184,
          59.11821453614711,
          -15.62726660792867,
          176.66693604010982,
          324.7184151835523
         ],
         [
          -36.91818379424436,
          -60.856101551837,
          49.109858036874314,
          114.6362311091341,
          178.64938371889332,
          16.95377928780988,
          14.521166847916316,
          -59.28192407265256,
          -31.289464168328735,
          -41.10450313262453
         ]
        ]
       }
      }
     },
     "5319e050129b4f6faabe569c3ac82f8b": {
      "model_module": "bqplot",
      "model_module_version": "^0.2.3",
      "model_name": "AxisModel",
      "state": {
       "scale": "IPY_MODEL_2d66be9d2eac419d81fc14d2d4f8cf4b",
       "side": "bottom",
       "tick_values": {
        "type": null,
        "values": null
       }
      }
     },
     "55124e4094c74ac98dfe3d28f0c9552f": {
      "model_module": "bqplot",
      "model_module_version": "^0.2.3",
      "model_name": "FigureModel",
      "state": {
       "_dom_classes": [],
       "axes": [
        "IPY_MODEL_5319e050129b4f6faabe569c3ac82f8b",
        "IPY_MODEL_81b71c30799d44eeb30449c765b7e97c"
       ],
       "layout": "IPY_MODEL_d02c0dbe442147b38bcb169a15c64097",
       "marks": [
        "IPY_MODEL_da6b0cd5af6b4e42ad3b315a162ea6a2"
       ],
       "max_aspect_ratio": 6,
       "scale_x": "IPY_MODEL_a2d5e03a07f1417aa290e0571f0b7bac",
       "scale_y": "IPY_MODEL_57210f97f7044aafbaf2d6682b2f8c75"
      }
     },
     "55e590fd2e844e998ec1dd72e0ac0e4e": {
      "model_module": "bqplot",
      "model_module_version": "^0.2.3",
      "model_name": "LinearScaleModel",
      "state": {
       "allow_padding": false,
       "max": 1,
       "min": 0,
       "stabilized": false
      }
     },
     "5659265bb7ce41e8a9290de5e7529534": {
      "model_module": "bqplot",
      "model_module_version": "^0.2.3",
      "model_name": "LinearScaleModel",
      "state": {
       "allow_padding": false,
       "max": 1,
       "min": 0,
       "stabilized": false
      }
     },
     "57210f97f7044aafbaf2d6682b2f8c75": {
      "model_module": "bqplot",
      "model_module_version": "^0.2.3",
      "model_name": "LinearScaleModel",
      "state": {
       "allow_padding": false,
       "max": 1,
       "min": 0,
       "stabilized": false
      }
     },
     "575018c1627b4a66808a44dba5484034": {
      "model_module": "bqplot",
      "model_module_version": "^0.2.3",
      "model_name": "AxisModel",
      "state": {
       "scale": "IPY_MODEL_08462867bdb147f090dd5b1872a3df85",
       "side": "bottom",
       "tick_values": {
        "type": null,
        "values": null
       }
      }
     },
     "5d790a43bd094aaf8ef3fe18d4dc2e5e": {
      "model_module": "jupyter-js-widgets",
      "model_module_version": "~2.1.4",
      "model_name": "LayoutModel",
      "state": {
       "_model_module_version": "~2.1.4",
       "_view_module_version": "~2.1.4",
       "min_width": "125px"
      }
     },
     "5df221ca8786431da7cb28cb606aa4fb": {
      "model_module": "bqplot",
      "model_module_version": "^0.2.3",
      "model_name": "AxisModel",
      "state": {
       "grid_lines": "none",
       "label": "Test X",
       "scale": "IPY_MODEL_b35f81457999415d8be1d3a153245890",
       "side": "bottom",
       "tick_format": "0.0f",
       "tick_values": {
        "type": null,
        "values": null
       }
      }
     },
     "5f6a034da49844b7abe537d98d6b8241": {
      "model_module": "bqplot",
      "model_module_version": "^0.2.3",
      "model_name": "BarsModel",
      "state": {
       "color": {
        "type": null,
        "values": null
       },
       "colors": [
        "hotpink",
        "orange",
        "limegreen"
       ],
       "labels": [
        "Component 1",
        "Component 2",
        "Component 3"
       ],
       "scales": {
        "x": "IPY_MODEL_b00ec8049295437d9e9c44073cfdf44f",
        "y": "IPY_MODEL_6ff977f9e5254cc28ff2c79fbe2d20a4"
       },
       "selected": [],
       "x": {
        "type": "float",
        "values": [
         0,
         1,
         2,
         3,
         4,
         5,
         6,
         7,
         8,
         9
        ]
       },
       "y": {
        "type": "float",
        "values": [
         [
          176.4052345967664,
          216.42095543348873,
          314.29475384406265,
          538.3840737642084,
          725.1398727792052,
          627.4120847915641,
          722.4209265441231,
          707.2852057143533,
          696.9633205349975,
          738.0231707288347
         ],
         [
          188.31506970562543,
          53.5391635913808,
          -73.50933625719256,
          23.430334558608557,
          -93.88200595280743,
          100.48011261212184,
          59.11821453614711,
          -15.62726660792867,
          176.66693604010982,
          324.7184151835523
         ],
         [
          -36.91818379424436,
          -60.856101551837,
          49.109858036874314,
          114.6362311091341,
          178.64938371889332,
          16.95377928780988,
          14.521166847916316,
          -59.28192407265256,
          -31.289464168328735,
          -41.10450313262453
         ]
        ]
       }
      }
     },
     "619f6b0e75f74c5eafa71ff380dd6a07": {
      "model_module": "bqplot",
      "model_module_version": "^0.2.3",
      "model_name": "LinearScaleModel",
      "state": {
       "max": 90,
       "min": 10,
       "stabilized": false
      }
     },
     "637fd90d47c04c019b0ecc9f8f41651f": {
      "model_module": "bqplot",
      "model_module_version": "^0.2.3",
      "model_name": "LinearScaleModel",
      "state": {
       "stabilized": false
      }
     },
     "646e233eabf14dd78d490949bd10b2c7": {
      "model_module": "bqplot",
      "model_module_version": "^0.2.3",
      "model_name": "FigureModel",
      "state": {
       "_dom_classes": [],
       "axes": [
        "IPY_MODEL_44290448a069466286efae4211e12e0c",
        "IPY_MODEL_73f685f640f14aa88acf076860777ce9"
       ],
       "fig_margin": {
        "bottom": 70,
        "left": 100,
        "right": 100,
        "top": 100
       },
       "layout": "IPY_MODEL_66c9f7478aa540c483749e96e227603b",
       "marks": [
        "IPY_MODEL_2d4417039e054d95bd4420d65edbb0bf"
       ],
       "max_aspect_ratio": 6,
       "scale_x": "IPY_MODEL_315314dff628450085722057bb351c66",
       "scale_y": "IPY_MODEL_f87b9eba39674094a5120ac1ddddde52"
      }
     },
     "66c9f7478aa540c483749e96e227603b": {
      "model_module": "jupyter-js-widgets",
      "model_module_version": "~2.1.4",
      "model_name": "LayoutModel",
      "state": {
       "_model_module_version": "~2.1.4",
       "_view_module_version": "~2.1.4",
       "min_width": "125px"
      }
     },
     "6b0d2d6a4c854aca89cdd928207ab856": {
      "model_module": "bqplot",
      "model_module_version": "^0.2.3",
      "model_name": "LinearScaleModel",
      "state": {
       "allow_padding": false,
       "max": 1,
       "min": 0,
       "stabilized": false
      }
     },
     "6c4ee1335f004d85bf163a1bfe1ff8b0": {
      "model_module": "bqplot",
      "model_module_version": "^0.2.3",
      "model_name": "LinearScaleModel",
      "state": {
       "allow_padding": false,
       "max": 1,
       "min": 0,
       "stabilized": false
      }
     },
     "6c9a0fa15c1949778e6386e90bf24579": {
      "model_module": "bqplot",
      "model_module_version": "^0.2.3",
      "model_name": "AxisModel",
      "state": {
       "grid_lines": "none",
       "label": "Test X",
       "scale": "IPY_MODEL_637fd90d47c04c019b0ecc9f8f41651f",
       "side": "bottom",
       "tick_format": "0.2f",
       "tick_values": {
        "type": "float",
        "values": [
         -289.8432796534171,
         -113.87237270890651,
         62.09853423560406,
         238.0694411801146,
         414.0403481246251,
         590.0112550691357,
         765.9821620136463,
         941.9530689581568,
         1117.9239759026673,
         1293.894882847178
        ]
       }
      }
     },
     "6d989decf47647d9a196e19b4aacf5c8": {
      "model_module": "bqplot",
      "model_module_version": "^0.2.3",
      "model_name": "FigureModel",
      "state": {
       "_dom_classes": [],
       "axes": [
        "IPY_MODEL_5df221ca8786431da7cb28cb606aa4fb",
        "IPY_MODEL_fd0de88c3ce741558b07c1b25c54101b"
       ],
       "layout": "IPY_MODEL_06860f93e4f5426fb4e1848cb373d15d",
       "legend_location": "bottom-left",
       "marks": [
        "IPY_MODEL_53004384550c4049b7046f90344ef66e",
        "IPY_MODEL_a5600e24d9054dcdb51d6b26ec01734c"
       ],
       "max_aspect_ratio": 6,
       "scale_x": "IPY_MODEL_0d8cfc39858146268ac15c149ba73c49",
       "scale_y": "IPY_MODEL_6c4ee1335f004d85bf163a1bfe1ff8b0"
      }
     },
     "6dad8ad2b9364212b2a9ae8750427016": {
      "model_module": "bqplot",
      "model_module_version": "^0.2.3",
      "model_name": "LinesModel",
      "state": {
       "color": {
        "type": null,
        "values": null
       },
       "colors": [
        "orange"
       ],
       "display_legend": false,
       "fill_colors": [],
       "labels": [
        "C1"
       ],
       "scales": {
        "x": "IPY_MODEL_40dc05536786444fbf2ffa600a30be1d",
        "y": "IPY_MODEL_9795d0cdfa554fba88b3dab4e1e699b0"
       },
       "selected": [],
       "x": {
        "type": "float",
        "values": [
         0,
         1,
         2,
         3,
         4,
         5,
         6,
         7,
         8,
         9,
         10,
         11,
         12,
         13,
         14,
         15,
         16,
         17,
         18,
         19,
         20,
         21,
         22,
         23,
         24,
         25,
         26,
         27,
         28,
         29,
         30,
         31,
         32,
         33,
         34,
         35,
         36,
         37,
         38,
         39,
         40,
         41,
         42,
         43,
         44,
         45,
         46,
         47,
         48,
         49
        ]
       },
       "y": {
        "type": "float",
        "values": [
         176.4052345967664,
         216.42095543348873,
         314.29475384406265,
         538.3840737642084,
         725.1398727792052,
         627.4120847915641,
         722.4209265441231,
         707.2852057143533,
         696.9633205349975,
         738.0231707288347,
         752.4275278449225,
         897.8548785412199,
         973.9586510559193,
         986.1261527052021,
         1030.5124759797447,
         1063.8799087171715,
         1213.2878160329321,
         1192.7719896563522,
         1224.0787598214422,
         1138.6691858912698,
         883.3702043078619,
         948.7320638518979,
         1035.1756837378484,
         960.9591816972043,
         1187.934644095965,
         1042.4980766360886,
         1047.0739283662333,
         1028.35554336365,
         1181.6334647994956,
         1328.569341789524,
         1344.0640843592157,
         1381.8803363194331,
         1293.101761556422,
         1095.0221147340292,
         1060.230899801414,
         1075.865796711812,
         1198.8948647845841,
         1319.1328496630254,
         1280.4001679222301,
         1250.1698928646965,
         1145.3145963579873,
         1003.3128026400898,
         832.6857835775885,
         1027.7633231007674,
         976.798104925602,
         932.9906747644834,
         807.7111387594907,
         885.4601743426817,
         724.0703895868866,
         702.7963615654897,
         613.2497054461222,
         651.9399552320484,
         600.8594414751611,
         482.7962230629199,
         479.97800022905443,
         522.8111872820962,
         529.462909520413,
         559.7100992943911,
         496.2778899262947,
         460.00377332758086,
         392.75772854998576,
         356.80241239593164,
         275.48778419148624,
         102.85952395831856,
         120.60213818369385,
         80.42404456286766,
         -82.59579013373678,
         -36.31756458115937,
         -127.04740101948357,
         -121.85286143986968,
         -48.943805222116,
         -36.04551414637493,
         77.89455430795515,
         -45.58802772741012,
         -5.353863609655221,
         -73.83487270368654,
         -160.91458762187472,
         -218.79955409831626,
         -249.95480731105351,
         -244.33827308807898,
         -360.8532571664146,
         -270.7706084709959,
         -224.20436449794994,
         -377.82873312567233,
         -229.00351374611236,
         -39.41459614305404,
         78.46336097291103,
         60.47087739167594,
         -46.604384759378306,
         58.840787933735356,
         18.523093236417395,
         140.76760027466014,
         161.59509808234617,
         259.25900173071744,
         294.8956414481576,
         365.55295826735244,
         366.6029603394345,
         545.190009730018,
         557.88121900038,
         598.0801553448503
        ]
       }
      }
     },
     "6e2023522f8846328e6350fa9ef382fc": {
      "model_module": "bqplot",
      "model_module_version": "^0.2.3",
      "model_name": "OrdinalScaleModel",
      "state": {
       "domain": []
      }
     },
     "6ff977f9e5254cc28ff2c79fbe2d20a4": {
      "model_module": "bqplot",
      "model_module_version": "^0.2.3",
      "model_name": "LinearScaleModel",
      "state": {
       "stabilized": false
      }
     },
     "72f19a27eb8741e88421869980a518bc": {
      "model_module": "bqplot",
      "model_module_version": "^0.2.3",
      "model_name": "AxisModel",
      "state": {
       "grid_lines": "none",
       "scale": "IPY_MODEL_b00ec8049295437d9e9c44073cfdf44f",
       "side": "bottom",
       "tick_values": {
        "type": null,
        "values": null
       }
      }
     },
     "73f685f640f14aa88acf076860777ce9": {
      "model_module": "bqplot",
      "model_module_version": "^0.2.3",
      "model_name": "AxisModel",
      "state": {
       "label": "Log Price",
       "orientation": "vertical",
       "scale": "IPY_MODEL_13005649ddd444d49cf92e483c8b07eb",
       "side": "left",
       "tick_format": "0.1f",
       "tick_values": {
        "type": null,
        "values": null
       }
      }
     },
     "74a0890abaa445fe9c2f4d2578587256": {
      "model_module": "bqplot",
      "model_module_version": "^0.2.3",
      "model_name": "AxisModel",
      "state": {
       "scale": "IPY_MODEL_619f6b0e75f74c5eafa71ff380dd6a07",
       "side": "bottom",
       "tick_values": {
        "type": null,
        "values": null
       }
      }
     },
     "7a0d2c9588b84b8e98e8f025a9c3d22a": {
      "model_module": "bqplot",
      "model_module_version": "^0.2.3",
      "model_name": "LinearScaleModel",
      "state": {
       "allow_padding": false,
       "max": 1,
       "min": 0,
       "stabilized": false
      }
     },
     "7ac95cce5de040ed90713b2da090a1df": {
      "model_module": "bqplot",
      "model_module_version": "^0.2.3",
      "model_name": "AxisModel",
      "state": {
       "orientation": "vertical",
       "scale": "IPY_MODEL_9795d0cdfa554fba88b3dab4e1e699b0",
       "side": "left",
       "tick_values": {
        "type": null,
        "values": null
       }
      }
     },
     "7d37d242db3c429a8ca5aca55b51747f": {
      "model_module": "bqplot",
      "model_module_version": "^0.2.3",
      "model_name": "AxisModel",
      "state": {
       "grid_lines": "none",
       "orientation": "vertical",
       "scale": "IPY_MODEL_aac426c2cf0a49e6b5c4fb9ddc676654",
       "side": "left",
       "tick_values": {
        "type": null,
        "values": null
       }
      }
     },
     "805be985a0df411cb61a5e3aeddcd8b4": {
      "model_module": "bqplot",
      "model_module_version": "^0.2.3",
      "model_name": "LinearScaleModel",
      "state": {
       "allow_padding": false,
       "max": 1,
       "min": 0,
       "stabilized": false
      }
     },
     "81b71c30799d44eeb30449c765b7e97c": {
      "model_module": "bqplot",
      "model_module_version": "^0.2.3",
      "model_name": "AxisModel",
      "state": {
       "orientation": "vertical",
       "scale": "IPY_MODEL_cff4c155ef0e4747b11c7154ef23192b",
       "side": "left",
       "tick_format": ".2f",
       "tick_values": {
        "type": null,
        "values": null
       }
      }
     },
     "81e27b0483e9403cb7615586e6506011": {
      "model_module": "bqplot",
      "model_module_version": "^0.2.3",
      "model_name": "AxisModel",
      "state": {
       "orientation": "vertical",
       "scale": "IPY_MODEL_8a6625abaf2e4853b3d676f5921576a6",
       "side": "left",
       "tick_values": {
        "type": null,
        "values": null
       }
      }
     },
     "8a6625abaf2e4853b3d676f5921576a6": {
      "model_module": "bqplot",
      "model_module_version": "^0.2.3",
      "model_name": "LinearScaleModel",
      "state": {
       "stabilized": false
      }
     },
     "8ab940fc68a240c4a568314a091ca0dc": {
      "model_module": "jupyter-js-widgets",
      "model_module_version": "~2.1.4",
      "model_name": "LayoutModel",
      "state": {
       "_model_module_version": "~2.1.4",
       "_view_module_version": "~2.1.4",
       "min_width": "125px"
      }
     },
     "8ed497a16a7143768148c0c4eeedb44c": {
      "model_module": "bqplot",
      "model_module_version": "^0.2.3",
      "model_name": "BarsModel",
      "state": {
       "color": {
        "type": null,
        "values": null
       },
       "colors": [
        "hotpink",
        "orange",
        "limegreen"
       ],
       "display_legend": false,
       "padding": 0.5,
       "scales": {
        "x": "IPY_MODEL_6e2023522f8846328e6350fa9ef382fc",
        "y": "IPY_MODEL_aac426c2cf0a49e6b5c4fb9ddc676654"
       },
       "selected": [],
       "x": {
        "type": "float",
        "values": [
         0,
         1,
         2,
         3,
         4,
         5,
         6,
         7,
         8,
         9
        ]
       },
       "y": {
        "type": "float",
        "values": [
         36.91818379424436,
         60.856101551837,
         49.109858036874314,
         114.6362311091341,
         178.64938371889332,
         16.95377928780988,
         14.521166847916316,
         59.28192407265256,
         31.289464168328735,
         41.10450313262453
        ]
       }
      }
     },
     "8fdee3d73fe24027a88bd93b614673c8": {
      "model_module": "bqplot",
      "model_module_version": "^0.2.3",
      "model_name": "FigureModel",
      "state": {
       "_dom_classes": [],
       "axes": [
        "IPY_MODEL_2557f7792b394646bde2ca07a77e4b58",
        "IPY_MODEL_7ac95cce5de040ed90713b2da090a1df"
       ],
       "layout": "IPY_MODEL_5d790a43bd094aaf8ef3fe18d4dc2e5e",
       "marks": [
        "IPY_MODEL_6dad8ad2b9364212b2a9ae8750427016"
       ],
       "max_aspect_ratio": 6,
       "scale_x": "IPY_MODEL_6b0d2d6a4c854aca89cdd928207ab856",
       "scale_y": "IPY_MODEL_7a0d2c9588b84b8e98e8f025a9c3d22a"
      }
     },
     "9127ee38057d4444ace1392a906df819": {
      "model_module": "bqplot",
      "model_module_version": "^0.2.3",
      "model_name": "FigureModel",
      "state": {
       "_dom_classes": [],
       "axes": [
        "IPY_MODEL_72f19a27eb8741e88421869980a518bc",
        "IPY_MODEL_09d0e61ac0684b6fae5c994818ee7296"
       ],
       "layout": "IPY_MODEL_413ddc3ef2ad44b8a707d1613449214b",
       "marks": [
        "IPY_MODEL_5f6a034da49844b7abe537d98d6b8241"
       ],
       "max_aspect_ratio": 6,
       "scale_x": "IPY_MODEL_5659265bb7ce41e8a9290de5e7529534",
       "scale_y": "IPY_MODEL_fd51064fb76f47e2a329bb76abff9299"
      }
     },
     "9567a55ab5e54e45a57842df7ba316cf": {
      "model_module": "jupyter-js-widgets",
      "model_module_version": "~2.1.4",
      "model_name": "LayoutModel",
      "state": {
       "_model_module_version": "~2.1.4",
       "_view_module_version": "~2.1.4",
       "min_width": "125px"
      }
     },
     "9795d0cdfa554fba88b3dab4e1e699b0": {
      "model_module": "bqplot",
      "model_module_version": "^0.2.3",
      "model_name": "LinearScaleModel",
      "state": {
       "stabilized": false
      }
     },
     "98afe22407084a1a83370fdeb6cda89b": {
      "model_module": "bqplot",
      "model_module_version": "^0.2.3",
      "model_name": "AxisModel",
      "state": {
       "label": "Test Y 2",
       "orientation": "vertical",
       "scale": "IPY_MODEL_12ec59e1f3714eb7a89095da4737c682",
       "side": "right",
       "tick_format": "0.0f",
       "tick_values": {
        "type": null,
        "values": null
       }
      }
     },
     "9b08857b266f41858ef66e414f919eca": {
      "model_module": "bqplot",
      "model_module_version": "^0.2.3",
      "model_name": "LinesModel",
      "state": {
       "color": {
        "type": null,
        "values": null
       },
       "colors": [
        "orange"
       ],
       "fill_colors": [],
       "labels": [
        "Clipped Line"
       ],
       "scales": {
        "x": "IPY_MODEL_619f6b0e75f74c5eafa71ff380dd6a07",
        "y": "IPY_MODEL_db00161007d846f1b7dce2fe776c1126"
       },
       "selected": [],
       "x": {
        "type": "float",
        "values": [
         0,
         1,
         2,
         3,
         4,
         5,
         6,
         7,
         8,
         9,
         10,
         11,
         12,
         13,
         14,
         15,
         16,
         17,
         18,
         19,
         20,
         21,
         22,
         23,
         24,
         25,
         26,
         27,
         28,
         29,
         30,
         31,
         32,
         33,
         34,
         35,
         36,
         37,
         38,
         39,
         40,
         41,
         42,
         43,
         44,
         45,
         46,
         47,
         48,
         49,
         50,
         51,
         52,
         53,
         54,
         55,
         56,
         57,
         58,
         59,
         60,
         61,
         62,
         63,
         64,
         65,
         66,
         67,
         68,
         69,
         70,
         71,
         72,
         73,
         74,
         75,
         76,
         77,
         78,
         79,
         80,
         81,
         82,
         83,
         84,
         85,
         86,
         87,
         88,
         89,
         90,
         91,
         92,
         93,
         94,
         95,
         96,
         97,
         98,
         99
        ]
       },
       "y": {
        "type": "float",
        "values": [
         -36.91818379424436,
         -60.856101551837,
         49.109858036874314,
         114.6362311091341,
         178.64938371889332,
         16.95377928780988,
         14.521166847916316,
         -59.28192407265256,
         -31.289464168328735,
         -41.10450313262453,
         49.91338767663467,
         81.63520919576487,
         160.2680054066625,
         113.62609573306818,
         19.18147014124314,
         -21.823499179011705,
         -23.525540565155765,
         14.389632990352418,
         240.32052805943763,
         236.09481289337336,
         140.50031284409567,
         105.90213527415703,
         59.54253780954761,
         107.69068518689383,
         -46.38901625756864,
         -40.06281683753547,
         -24.412163040997914,
         -1.194059420970337,
         -60.92566631750661,
         -84.71783929110731,
         -227.12393018936046,
         -276.4559185255799,
         -330.74206612725163,
         -289.1370615011091,
         -404.7553046833003,
         -326.63549451230097,
         -177.1870400631641,
         -384.18554256451733,
         -341.5596694867072,
         -273.86886598368267,
         -337.6125685389056,
         -377.33974997178535,
         -390.6278077304809,
         -420.40689567065374,
         -451.308192575366,
         -618.9085732083636,
         -503.67541673005155,
         -395.7135575263694,
         -477.0499834467897,
         -623.6924162270411,
         -571.5859285817653,
         -629.1647255630719,
         -614.969409230994,
         -646.9022509455035,
         -577.7483758384849,
         -508.27346147288426,
         -580.8331993192427,
         -719.1695948587483,
         -877.4634345922565,
         -816.425496681536,
         -935.3114224599389,
         -985.9930578898076,
         -1045.6244617348584,
         -1050.881191361813,
         -1244.5091719464638,
         -1225.6313122670808,
         -1173.2422098836603,
         -1164.400001179194,
         -1195.4886183490412,
         -1185.748601722163,
         -1145.8439671581498,
         -1423.1032428008148,
         -1227.5120119757453,
         -1188.5026797069527,
         -1253.7435379456547,
         -1292.8388754644147,
         -1243.4646977294958,
         -1255.0750916329325,
         -1458.1435384110819,
         -1251.69425227515,
         -1262.7483179983972,
         -1160.7310468268172,
         -1229.9360316052564,
         -1076.2983261806767,
         -1047.6639572914487,
         -986.7795738439036,
         -1091.3049104585991,
         -970.1903814903291,
         -901.2085650368502,
         -771.0239420803504,
         -833.8326980445082,
         -881.935409890587,
         -651.5437401221928,
         -757.5453223943475,
         -771.1402924621796,
         -657.4511562019101,
         -647.6786594304245,
         -589.3832914550952,
         -629.3281943813828,
         -592.3226055966309
        ]
       }
      }
     },
     "9ca85796ae8345f083f4a2eeadcb2079": {
      "model_module": "bqplot",
      "model_module_version": "^0.2.3",
      "model_name": "LinearScaleModel",
      "state": {
       "allow_padding": false,
       "max": 1,
       "min": 0,
       "stabilized": false
      }
     },
     "9e6de25ec9224b7d8676385f26a7fa2d": {
      "model_module": "jupyter-js-widgets",
      "model_module_version": "~2.1.4",
      "model_name": "LayoutModel",
      "state": {
       "_model_module_version": "~2.1.4",
       "_view_module_version": "~2.1.4",
       "min_width": "125px"
      }
     },
     "9f7aa2a9d2704bc88499e958c3642ff7": {
      "model_module": "bqplot",
      "model_module_version": "^0.2.3",
      "model_name": "ColorScaleModel",
      "state": {
       "_model_name": "ColorScaleModel",
       "_view_name": "ColorScale",
       "colors": [
        "red",
        "white",
        "green"
       ],
       "mid": 0,
       "scale_type": "linear",
       "scheme": "RdYlGn"
      }
     },
     "a05c8b5e730248de8a20324ce1b6a0c4": {
      "model_module": "bqplot",
      "model_module_version": "^0.2.3",
      "model_name": "FigureModel",
      "state": {
       "_dom_classes": [],
       "axes": [
        "IPY_MODEL_255da30d42ac4fc48a7b8e226de0eacf",
        "IPY_MODEL_81e27b0483e9403cb7615586e6506011"
       ],
       "layout": "IPY_MODEL_ae270897e6704f7e82768027e8a1d0a4",
       "marks": [
        "IPY_MODEL_278a8bc307174d8fa3dd2ad8b810ad2b",
        "IPY_MODEL_274b0d8a01be4f228ab4a0a49f2935d8"
       ],
       "max_aspect_ratio": 6,
       "scale_x": "IPY_MODEL_c41685489a094b72b8d55b445dfb5b28",
       "scale_y": "IPY_MODEL_fe695d45431b42e78bb85c81ee39efb0"
      }
     },
     "a1964ca7ca8847219b2b749788829a89": {
      "model_module": "bqplot",
      "model_module_version": "^0.2.3",
      "model_name": "LinearScaleModel",
      "state": {
       "allow_padding": false,
       "max": 1,
       "min": 0,
       "stabilized": false
      }
     },
     "a1f00af572d74f928291ac446eda5001": {
      "model_module": "bqplot",
      "model_module_version": "^0.2.3",
      "model_name": "LinearScaleModel",
      "state": {
       "allow_padding": false,
       "max": 1,
       "min": 0,
       "stabilized": false
      }
     },
     "a2d5e03a07f1417aa290e0571f0b7bac": {
      "model_module": "bqplot",
      "model_module_version": "^0.2.3",
      "model_name": "LinearScaleModel",
      "state": {
       "allow_padding": false,
       "max": 1,
       "min": 0,
       "stabilized": false
      }
     },
     "a33fdb6d497245b98e40de7c26200077": {
      "model_module": "bqplot",
      "model_module_version": "^0.2.3",
      "model_name": "LinearScaleModel",
      "state": {
       "stabilized": false
      }
     },
     "a5600e24d9054dcdb51d6b26ec01734c": {
      "model_module": "bqplot",
      "model_module_version": "^0.2.3",
      "model_name": "LinesModel",
      "state": {
       "color": {
        "type": null,
        "values": null
       },
       "fill_colors": [],
       "labels": [
        "Line1",
        "Line2",
        "Line3"
       ],
       "scales": {
        "x": "IPY_MODEL_b35f81457999415d8be1d3a153245890",
        "y": "IPY_MODEL_0f9b6547edfc429c88500ce18c1af76e"
       },
       "selected": [],
       "x": {
        "type": "float",
        "values": [
         0,
         1,
         2,
         3,
         4,
         5,
         6,
         7,
         8,
         9
        ]
       },
       "y": {
        "type": "float",
        "values": [
         [
          176.4052345967664,
          216.42095543348873,
          314.29475384406265,
          538.3840737642084,
          725.1398727792052,
          627.4120847915641,
          722.4209265441231,
          707.2852057143533,
          696.9633205349975,
          738.0231707288347
         ],
         [
          188.31506970562543,
          53.5391635913808,
          -73.50933625719256,
          23.430334558608557,
          -93.88200595280743,
          100.48011261212184,
          59.11821453614711,
          -15.62726660792867,
          176.66693604010982,
          324.7184151835523
         ],
         [
          -36.91818379424436,
          -60.856101551837,
          49.109858036874314,
          114.6362311091341,
          178.64938371889332,
          16.95377928780988,
          14.521166847916316,
          -59.28192407265256,
          -31.289464168328735,
          -41.10450313262453
         ]
        ]
       }
      }
     },
     "aac426c2cf0a49e6b5c4fb9ddc676654": {
      "model_module": "bqplot",
      "model_module_version": "^0.2.3",
      "model_name": "LinearScaleModel",
      "state": {
       "stabilized": false
      }
     },
     "ae270897e6704f7e82768027e8a1d0a4": {
      "model_module": "jupyter-js-widgets",
      "model_module_version": "~2.1.4",
      "model_name": "LayoutModel",
      "state": {
       "_model_module_version": "~2.1.4",
       "_view_module_version": "~2.1.4",
       "min_width": "125px"
      }
     },
     "b00ec8049295437d9e9c44073cfdf44f": {
      "model_module": "bqplot",
      "model_module_version": "^0.2.3",
      "model_name": "OrdinalScaleModel",
      "state": {
       "domain": [
        0,
        1,
        2,
        3,
        4,
        5,
        6,
        7,
        8,
        9,
        10,
        11,
        12,
        13,
        14,
        15,
        16,
        17,
        18,
        19
       ]
      }
     },
     "b35f81457999415d8be1d3a153245890": {
      "model_module": "bqplot",
      "model_module_version": "^0.2.3",
      "model_name": "OrdinalScaleModel",
      "state": {
       "domain": []
      }
     },
     "c41685489a094b72b8d55b445dfb5b28": {
      "model_module": "bqplot",
      "model_module_version": "^0.2.3",
      "model_name": "LinearScaleModel",
      "state": {
       "allow_padding": false,
       "max": 1,
       "min": 0,
       "stabilized": false
      }
     },
     "ca19ae1753f14ff083f52e3a126d2b5b": {
      "model_module": "bqplot",
      "model_module_version": "^0.2.3",
      "model_name": "AxisModel",
      "state": {
       "orientation": "vertical",
       "scale": "IPY_MODEL_15a2474cf36045ecb46abd680b87b3d0",
       "side": "left",
       "tick_values": {
        "type": null,
        "values": null
       }
      }
     },
     "cff4c155ef0e4747b11c7154ef23192b": {
      "model_module": "bqplot",
      "model_module_version": "^0.2.3",
      "model_name": "LinearScaleModel",
      "state": {
       "stabilized": false
      }
     },
     "d02c0dbe442147b38bcb169a15c64097": {
      "model_module": "jupyter-js-widgets",
      "model_module_version": "~2.1.4",
      "model_name": "LayoutModel",
      "state": {
       "_model_module_version": "~2.1.4",
       "_view_module_version": "~2.1.4",
       "min_width": "125px"
      }
     },
     "d641392400064185aecfb936d0a8b739": {
      "model_module": "bqplot",
      "model_module_version": "^0.2.3",
      "model_name": "LinesModel",
      "state": {
       "color": {
        "type": null,
        "values": null
       },
       "colors": [
        "hotpink",
        "orange",
        "limegreen"
       ],
       "display_legend": false,
       "fill_colors": [],
       "labels": [
        "C1"
       ],
       "scales": {
        "x": "IPY_MODEL_6e2023522f8846328e6350fa9ef382fc",
        "y": "IPY_MODEL_aac426c2cf0a49e6b5c4fb9ddc676654"
       },
       "selected": [],
       "x": {
        "type": "float",
        "values": [
         0,
         1,
         2,
         3,
         4,
         5,
         6,
         7,
         8,
         9
        ]
       },
       "y": {
        "type": "float",
        "values": [
         176.4052345967664,
         216.42095543348873,
         314.29475384406265,
         538.3840737642084,
         725.1398727792052,
         627.4120847915641,
         722.4209265441231,
         707.2852057143533,
         696.9633205349975,
         738.0231707288347
        ]
       }
      }
     },
     "da6b0cd5af6b4e42ad3b315a162ea6a2": {
      "model_module": "bqplot",
      "model_module_version": "^0.2.3",
      "model_name": "LinesModel",
      "state": {
       "color": {
        "type": null,
        "values": null
       },
       "colors": [
        "orange"
       ],
       "display_legend": false,
       "fill_colors": [],
       "labels": [
        "C1"
       ],
       "scales": {
        "x": "IPY_MODEL_2d66be9d2eac419d81fc14d2d4f8cf4b",
        "y": "IPY_MODEL_cff4c155ef0e4747b11c7154ef23192b"
       },
       "selected": [],
       "x": {
        "type": "float",
        "values": [
         0,
         1,
         2,
         3,
         4,
         5,
         6,
         7,
         8,
         9,
         10,
         11,
         12,
         13,
         14,
         15,
         16,
         17,
         18,
         19,
         20,
         21,
         22,
         23,
         24,
         25,
         26,
         27,
         28,
         29,
         30,
         31,
         32,
         33,
         34,
         35,
         36,
         37,
         38,
         39,
         40,
         41,
         42,
         43,
         44,
         45,
         46,
         47,
         48,
         49,
         50,
         51,
         52,
         53,
         54,
         55,
         56,
         57,
         58,
         59,
         60,
         61,
         62,
         63,
         64,
         65,
         66,
         67,
         68,
         69,
         70,
         71,
         72,
         73,
         74,
         75,
         76,
         77,
         78,
         79,
         80,
         81,
         82,
         83,
         84,
         85,
         86,
         87,
         88,
         89,
         90,
         91,
         92,
         93,
         94,
         95,
         96,
         97,
         98,
         99
        ]
       },
       "y": {
        "type": "float",
        "values": [
         1.8831506970562544,
         0.535391635913808,
         -0.7350933625719256,
         0.23430334558608557,
         -0.9388200595280743,
         1.0048011261212184,
         0.5911821453614711,
         -0.1562726660792867,
         1.7666693604010981,
         3.2471841518355227,
         5.114743112262093,
         6.020787770537478,
         5.159562085482775,
         7.0696270385818085,
         6.8016236676304285,
         7.6040800634268235,
         8.551332031200571,
         8.396321938109738,
         9.010401308455819,
         9.932607980022345,
         10.309033511177974,
         9.20963272059378,
         9.507870894799835,
         10.834256791486865,
         10.139688931755499,
         9.990054391427828,
         9.55490083970619,
         11.404164568185532,
         12.076459325197968,
         12.483921161439078,
         11.714005086993762,
         12.25325427828558,
         11.578921617628204,
         11.610752175902554,
         10.974906097523673,
         11.651339392470174,
         12.227930209085114,
         12.01963145350712,
         12.415638166168765,
         11.32257665743826,
         9.831319064732654,
         10.27071076599719,
         10.437384261369719,
         11.072415698261825,
         13.455560473125766,
         14.40003996011618,
         13.487217734672022,
         14.604234022767875,
         13.288326612256354,
         12.826742007441645,
         12.758500402117013,
         14.47184312376638,
         13.72708830171794,
         12.900649763058926,
         12.802197238633493,
         12.138718952271386,
         13.265354874377893,
         12.18542336601447,
         11.037954713603368,
         10.600134668858933,
         10.102102218166628,
         12.031634271983615,
         12.981055078909375,
         13.068606320294565,
         11.843170801464398,
         12.687533777865944,
         11.68731843047638,
         10.142547333698769,
         11.33057712605107,
         11.64751973797592,
         12.568378561756738,
         12.88710621469976,
         13.74393682660245,
         13.092911233302303,
         12.058668391517838,
         12.740262909799466,
         11.936853245625624,
         11.247303467875424,
         10.791770964358081,
         10.809250123383137,
         10.455256212129653,
         9.080304918711635,
         8.436686515878744,
         6.213283363654318,
         6.838514814681505,
         5.2364571590747575,
         4.1320738196463065,
         4.184238898907281,
         3.4446759025159674,
         4.987690497922703,
         3.6948335881992542,
         3.9618844575484373,
         3.9226016393209417,
         2.7545081415797443,
         3.277784802111498,
         3.10623847088925,
         3.8780290221029174,
         4.701533176066649,
         6.864769125347339,
         8.201297074783731
        ]
       }
      }
     },
     "db00161007d846f1b7dce2fe776c1126": {
      "model_module": "bqplot",
      "model_module_version": "^0.2.3",
      "model_name": "LinearScaleModel",
      "state": {
       "stabilized": false
      }
     },
     "f65dbdecc9884575a038f6c0eab4c7d0": {
      "model_module": "bqplot",
      "model_module_version": "^0.2.3",
      "model_name": "AxisModel",
      "state": {
       "grid_lines": "none",
       "scale": "IPY_MODEL_6e2023522f8846328e6350fa9ef382fc",
       "side": "bottom",
       "tick_values": {
        "type": null,
        "values": null
       }
      }
     },
     "f79115ae96b64e8a91b4a19294ce8855": {
      "model_module": "bqplot",
      "model_module_version": "^0.2.3",
      "model_name": "LinearScaleModel",
      "state": {
       "allow_padding": false,
       "max": 1,
       "min": 0,
       "stabilized": false
      }
     },
     "f87b9eba39674094a5120ac1ddddde52": {
      "model_module": "bqplot",
      "model_module_version": "^0.2.3",
      "model_name": "LinearScaleModel",
      "state": {
       "allow_padding": false,
       "max": 1,
       "min": 0,
       "stabilized": false
      }
     },
     "f9d41a725824496795233011f2d99ada": {
      "model_module": "bqplot",
      "model_module_version": "^0.2.3",
      "model_name": "FigureModel",
      "state": {
       "_dom_classes": [],
       "axes": [
        "IPY_MODEL_74a0890abaa445fe9c2f4d2578587256",
        "IPY_MODEL_504781940a2e4728986614317c8f55ff"
       ],
       "layout": "IPY_MODEL_9567a55ab5e54e45a57842df7ba316cf",
       "marks": [
        "IPY_MODEL_9b08857b266f41858ef66e414f919eca",
        "IPY_MODEL_13c39f78acc04db3b83945a0c5fec246"
       ],
       "max_aspect_ratio": 6,
       "scale_x": "IPY_MODEL_9ca85796ae8345f083f4a2eeadcb2079",
       "scale_y": "IPY_MODEL_a1f00af572d74f928291ac446eda5001"
      }
     },
     "fd0de88c3ce741558b07c1b25c54101b": {
      "model_module": "bqplot",
      "model_module_version": "^0.2.3",
      "model_name": "AxisModel",
      "state": {
       "label": "Test Y",
       "orientation": "vertical",
       "scale": "IPY_MODEL_0f9b6547edfc429c88500ce18c1af76e",
       "side": "left",
       "tick_format": "0.2f",
       "tick_values": {
        "type": null,
        "values": null
       }
      }
     },
     "fd51064fb76f47e2a329bb76abff9299": {
      "model_module": "bqplot",
      "model_module_version": "^0.2.3",
      "model_name": "LinearScaleModel",
      "state": {
       "allow_padding": false,
       "max": 1,
       "min": 0,
       "stabilized": false
      }
     },
     "fe695d45431b42e78bb85c81ee39efb0": {
      "model_module": "bqplot",
      "model_module_version": "^0.2.3",
      "model_name": "LinearScaleModel",
      "state": {
       "allow_padding": false,
       "max": 1,
       "min": 0,
       "stabilized": false
      }
     }
    },
    "version_major": 1,
    "version_minor": 0
   }
  }
 },
 "nbformat": 4,
 "nbformat_minor": 1
}
