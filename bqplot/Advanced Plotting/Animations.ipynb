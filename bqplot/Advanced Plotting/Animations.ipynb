{
 "cells": [
  {
   "cell_type": "markdown",
   "metadata": {
    "deletable": true,
    "editable": true
   },
   "source": [
    "### Animations of marks and axes can be enabled by setting 'animation_duration' property of the figure"
   ]
  },
  {
   "cell_type": "markdown",
   "metadata": {
    "deletable": true,
    "editable": true
   },
   "source": [
    "## Line Animations"
   ]
  },
  {
   "cell_type": "code",
   "execution_count": 1,
   "metadata": {
    "collapsed": true,
    "deletable": true,
    "editable": true
   },
   "outputs": [],
   "source": [
    "import numpy as np\n",
    "from bqplot import *"
   ]
  },
  {
   "cell_type": "code",
   "execution_count": 3,
   "metadata": {
    "collapsed": false,
    "deletable": true,
    "editable": true
   },
   "outputs": [
    {
     "data": {
      "application/vnd.jupyter.widget-view+json": {
       "model_id": "9844e523b3b04e0caecdca3a63b5f561",
       "version_major": 2,
       "version_minor": 0
      },
      "text/html": [
       "<p>Failed to display Jupyter Widget of type <code>Figure</code>.</p>\n",
       "<p>\n",
       "  If you're reading this message in the Jupyter Notebook or JupyterLab Notebook, it may mean\n",
       "  that the widgets JavaScript is still loading. If this message persists, it\n",
       "  likely means that the widgets JavaScript library is either not installed or\n",
       "  not enabled. See the <a href=\"https://ipywidgets.readthedocs.io/en/stable/user_install.html\">Jupyter\n",
       "  Widgets Documentation</a> for setup instructions.\n",
       "</p>\n",
       "<p>\n",
       "  If you're reading this message in another frontend (for example, a static\n",
       "  rendering on GitHub or <a href=\"https://nbviewer.jupyter.org/\">NBViewer</a>),\n",
       "  it may mean that your frontend doesn't currently support widgets.\n",
       "</p>\n"
      ],
      "text/plain": [
       "Figure(animation_duration=1000, axes=[Axis(label='x', scale=LinearScale()), Axis(label='y', orientation='vertical', scale=LinearScale(), tick_format='0.2f')], fig_margin={'top': 60, 'bottom': 60, 'left': 60, 'right': 60}, layout=Layout(min_width='125px'), marks=[Lines(colors=['red', 'green'], interactions={'hover': 'tooltip'}, scales={'x': LinearScale(), 'y': LinearScale()}, scales_metadata={'x': {'orientation': 'horizontal', 'dimension': 'x'}, 'y': {'orientation': 'vertical', 'dimension': 'y'}, 'color': {'dimension': 'color'}}, tooltip_style={'opacity': 0.9}, x=array([ 0,  1,  2,  3,  4,  5,  6,  7,  8,  9, 10, 11, 12, 13, 14, 15, 16,\n",
       "       17, 18, 19, 20, 21, 22, 23, 24, 25, 26, 27, 28, 29, 30, 31, 32, 33,\n",
       "       34, 35, 36, 37, 38, 39, 40, 41, 42, 43, 44, 45, 46, 47, 48, 49, 50,\n",
       "       51, 52, 53, 54, 55, 56, 57, 58, 59, 60, 61, 62, 63, 64, 65, 66, 67,\n",
       "       68, 69, 70, 71, 72, 73, 74, 75, 76, 77, 78, 79, 80, 81, 82, 83, 84,\n",
       "       85, 86, 87, 88, 89, 90, 91, 92, 93, 94, 95, 96, 97, 98, 99]), y=array([[  2.25698398e-01,   8.23203698e-01,  -8.22240580e-01,\n",
       "         -2.04479241e+00,  -2.42884663e+00,  -4.53301944e+00,\n",
       "         -2.45954932e+00,  -1.27351395e+00,  -1.54127483e-01,\n",
       "         -4.49853350e-02,   1.26316534e-01,  -6.61043516e-01,\n",
       "          1.96439854e-01,  -6.10608124e-01,  -2.03441420e+00,\n",
       "         -1.47097875e+00,  -7.72162051e-01,  -2.24993597e+00,\n",
       "         -1.76187782e+00,  -1.92292994e+00,  -4.72626733e-01,\n",
       "         -1.44517626e+00,  -1.80338818e+00,  -2.01983688e+00,\n",
       "         -1.45578516e+00,  -1.21157430e+00,  -2.22729406e-01,\n",
       "          9.31024953e-01,   3.03091069e-01,   4.79593932e-01,\n",
       "          1.07568388e+00,   1.01953782e+00,  -4.54658009e-02,\n",
       "          2.88815104e-01,   7.98184404e-01,  -1.20829641e-02,\n",
       "          3.06665580e-01,   8.22530765e-02,   1.08389870e+00,\n",
       "          1.06387929e+00,   8.13727171e-01,   3.85065888e-01,\n",
       "          1.01292182e+00,   2.14175052e+00,   2.29776787e-01,\n",
       "          1.06091742e+00,  -1.50277461e+00,  -2.20533571e+00,\n",
       "         -2.36285682e+00,  -2.34155289e+00,  -2.53384137e+00,\n",
       "         -2.54325322e+00,  -4.17187996e-01,   7.00308438e-01,\n",
       "          1.02851019e+00,   1.12305383e+00,   7.00813240e-01,\n",
       "          3.50610789e-01,   1.30151172e+00,   2.65097627e+00,\n",
       "          3.30550136e+00,   2.41687517e+00,   3.30690868e+00,\n",
       "          2.76001284e+00,   2.65984816e+00,   2.54364179e+00,\n",
       "          1.81746778e+00,   3.81247281e+00,   3.89033729e+00,\n",
       "          3.23045497e+00,   3.77121008e+00,   3.01234225e+00,\n",
       "          3.24506164e+00,   3.33807752e+00,   5.02764947e+00,\n",
       "          5.95690722e+00,   7.17819292e+00,   8.09307559e+00,\n",
       "          9.41200704e+00,   1.07526531e+01,   1.08222794e+01,\n",
       "          1.08152138e+01,   1.12771142e+01,   1.08623576e+01,\n",
       "          1.03749904e+01,   1.20615524e+01,   1.10743045e+01,\n",
       "          1.24100746e+01,   1.26371570e+01,   1.22672098e+01,\n",
       "          1.30125253e+01,   1.21245058e+01,   1.11187874e+01,\n",
       "          1.11495675e+01,   1.17624966e+01,   1.26797168e+01,\n",
       "          1.37694460e+01,   1.28510901e+01,   1.28610548e+01,\n",
       "          1.37943013e+01],\n",
       "       [ -1.18201035e+00,  -9.65345251e-01,  -1.12053112e+00,\n",
       "         -1.09861633e+00,  -1.67083779e+00,  -2.51132461e+00,\n",
       "         -1.81309181e+00,  -1.48404017e+00,  -2.36570643e+00,\n",
       "         -2.21012387e+00,  -1.71838505e+00,  -1.82507587e-01,\n",
       "          2.45960265e-01,   1.25551109e-01,  -5.75996729e-01,\n",
       "          6.18624844e-01,   2.20046169e+00,   2.43736476e+00,\n",
       "          2.72642015e+00,   3.04066335e+00,   4.80156266e+00,\n",
       "          2.67419254e+00,   3.24843278e+00,   4.18416939e+00,\n",
       "          4.33644026e+00,   4.84379548e+00,   6.33102930e+00,\n",
       "          5.95971093e+00,   6.34212836e+00,   5.39193517e+00,\n",
       "          6.07376548e+00,   8.61050061e+00,   7.20265111e+00,\n",
       "          7.58745534e+00,   6.85184245e+00,   5.91460410e+00,\n",
       "          4.39771303e+00,   5.05646385e+00,   6.46783965e+00,\n",
       "          6.98965056e+00,   7.23174419e+00,   7.90612080e+00,\n",
       "          9.86882325e+00,   1.09773983e+01,   1.11750229e+01,\n",
       "          1.24030031e+01,   1.28155522e+01,   1.23303868e+01,\n",
       "          1.07359847e+01,   1.37920182e+01,   1.47754655e+01,\n",
       "          1.57413332e+01,   1.60556300e+01,   1.56921984e+01,\n",
       "          1.69437623e+01,   1.66835388e+01,   1.82905383e+01,\n",
       "          1.90562877e+01,   1.90109021e+01,   1.87502942e+01,\n",
       "          1.91775828e+01,   2.02002658e+01,   2.02716704e+01,\n",
       "          2.11999615e+01,   2.39216091e+01,   2.23072458e+01,\n",
       "          2.49915620e+01,   2.61973562e+01,   2.70137832e+01,\n",
       "          2.69885387e+01,   2.75315869e+01,   2.70209806e+01,\n",
       "          2.65255673e+01,   2.70281567e+01,   2.67803946e+01,\n",
       "          2.56180199e+01,   2.42641954e+01,   2.38343450e+01,\n",
       "          2.46583025e+01,   2.46948018e+01,   2.23274513e+01,\n",
       "          2.18425215e+01,   2.10587569e+01,   2.08830563e+01,\n",
       "          2.12277196e+01,   2.06935654e+01,   2.09611170e+01,\n",
       "          2.23943918e+01,   2.30218919e+01,   2.41286549e+01,\n",
       "          2.27250535e+01,   2.13927890e+01,   2.20041431e+01,\n",
       "          2.41222719e+01,   2.48206164e+01,   2.44400880e+01,\n",
       "          2.29420645e+01,   2.15826236e+01,   1.93062963e+01,\n",
       "          1.88514410e+01]]))], scale_x=LinearScale(allow_padding=False, max=1.0, min=0.0), scale_y=LinearScale(allow_padding=False, max=1.0, min=0.0))"
      ]
     },
     "metadata": {},
     "output_type": "display_data"
    }
   ],
   "source": [
    "xs = LinearScale()\n",
    "ys = LinearScale()\n",
    "x = np.arange(100)\n",
    "y = np.cumsum(np.random.randn(2, 100), axis=1) #two random walks\n",
    "\n",
    "line = Lines(x=x, y=y, scales={'x': xs, 'y': ys}, colors=['red', 'green'])\n",
    "xax = Axis(scale=xs, label='x', grid_lines='solid')\n",
    "yax = Axis(scale=ys, orientation='vertical', tick_format='0.2f', label='y', grid_lines='solid')\n",
    "\n",
    "Figure(marks=[line], axes=[xax, yax], animation_duration=1000)"
   ]
  },
  {
   "cell_type": "code",
   "execution_count": 5,
   "metadata": {
    "collapsed": true,
    "deletable": true,
    "editable": true
   },
   "outputs": [],
   "source": [
    "# update data of the line mark\n",
    "line.y = np.cumsum(np.random.randn(2, 100), axis=1)"
   ]
  },
  {
   "cell_type": "markdown",
   "metadata": {
    "deletable": true,
    "editable": true
   },
   "source": [
    "## Scatter Animations"
   ]
  },
  {
   "cell_type": "code",
   "execution_count": 6,
   "metadata": {
    "collapsed": false,
    "deletable": true,
    "editable": true
   },
   "outputs": [
    {
     "data": {
      "application/vnd.jupyter.widget-view+json": {
       "model_id": "58236ffd373644fc92f50b81840a9709",
       "version_major": 2,
       "version_minor": 0
      },
      "text/html": [
       "<p>Failed to display Jupyter Widget of type <code>Figure</code>.</p>\n",
       "<p>\n",
       "  If you're reading this message in the Jupyter Notebook or JupyterLab Notebook, it may mean\n",
       "  that the widgets JavaScript is still loading. If this message persists, it\n",
       "  likely means that the widgets JavaScript library is either not installed or\n",
       "  not enabled. See the <a href=\"https://ipywidgets.readthedocs.io/en/stable/user_install.html\">Jupyter\n",
       "  Widgets Documentation</a> for setup instructions.\n",
       "</p>\n",
       "<p>\n",
       "  If you're reading this message in another frontend (for example, a static\n",
       "  rendering on GitHub or <a href=\"https://nbviewer.jupyter.org/\">NBViewer</a>),\n",
       "  it may mean that your frontend doesn't currently support widgets.\n",
       "</p>\n"
      ],
      "text/plain": [
       "Figure(animation_duration=1000, axes=[Axis(label='x', scale=LinearScale()), Axis(label='y', orientation='vertical', scale=LinearScale(), tick_format='0.2f')], fig_margin={'top': 60, 'bottom': 60, 'left': 60, 'right': 60}, layout=Layout(min_width='125px'), marks=[Scatter(colors=['blue'], interactions={'hover': 'tooltip'}, scales={'x': LinearScale(), 'y': LinearScale()}, scales_metadata={'x': {'orientation': 'horizontal', 'dimension': 'x'}, 'y': {'orientation': 'vertical', 'dimension': 'y'}, 'color': {'dimension': 'color'}, 'size': {'dimension': 'size'}, 'opacity': {'dimension': 'opacity'}, 'rotation': {'dimension': 'rotation'}, 'skew': {'dimension': 'skew'}}, tooltip_style={'opacity': 0.9}, x=array([ 0.71763226,  0.32803151,  0.86735171,  0.10753484,  0.68753217,\n",
       "        0.44161989,  0.75246413,  0.0589107 ,  0.54753215,  0.52991804,\n",
       "        0.37624525,  0.01657227,  0.7924576 ,  0.31428611,  0.60643281,\n",
       "        0.42572319,  0.53689102,  0.94105979,  0.79186613,  0.00665974]), y=array([ 0.1540201 ,  0.99822667,  0.96294743,  0.49010648,  0.98381607,\n",
       "        0.21450364,  0.74184653,  0.27854032,  0.2579159 ,  0.13487713,\n",
       "        0.52004809,  0.10898809,  0.75258717,  0.79204454,  0.00890109,\n",
       "        0.81627514,  0.01551168,  0.25365671,  0.0216354 ,  0.81976594]))], scale_x=LinearScale(allow_padding=False, max=1.0, min=0.0), scale_y=LinearScale(allow_padding=False, max=1.0, min=0.0))"
      ]
     },
     "metadata": {},
     "output_type": "display_data"
    }
   ],
   "source": [
    "xs = LinearScale()\n",
    "ys = LinearScale()\n",
    "x, y = np.random.rand(2, 20)\n",
    "scatt = Scatter(x=x, y=y, scales={'x': xs, 'y': ys}, colors=['blue'])\n",
    "xax = Axis(scale=xs, label='x', grid_lines='solid')\n",
    "yax = Axis(scale=ys, orientation='vertical', tick_format='0.2f', label='y', grid_lines='solid')\n",
    "\n",
    "Figure(marks=[scatt], axes=[xax, yax], animation_duration=1000)"
   ]
  },
  {
   "cell_type": "code",
   "execution_count": 8,
   "metadata": {
    "collapsed": true,
    "deletable": true,
    "editable": true
   },
   "outputs": [],
   "source": [
    "#data updates\n",
    "scatt.x = np.random.rand(20) * 10\n",
    "scatt.y = np.random.rand(20)"
   ]
  },
  {
   "cell_type": "markdown",
   "metadata": {
    "deletable": true,
    "editable": true
   },
   "source": [
    "## Pie Animations"
   ]
  },
  {
   "cell_type": "code",
   "execution_count": 9,
   "metadata": {
    "collapsed": false,
    "deletable": true,
    "editable": true
   },
   "outputs": [
    {
     "data": {
      "application/vnd.jupyter.widget-view+json": {
       "model_id": "3cabd76b58c045159c522a584cec5005",
       "version_major": 2,
       "version_minor": 0
      },
      "text/html": [
       "<p>Failed to display Jupyter Widget of type <code>Figure</code>.</p>\n",
       "<p>\n",
       "  If you're reading this message in the Jupyter Notebook or JupyterLab Notebook, it may mean\n",
       "  that the widgets JavaScript is still loading. If this message persists, it\n",
       "  likely means that the widgets JavaScript library is either not installed or\n",
       "  not enabled. See the <a href=\"https://ipywidgets.readthedocs.io/en/stable/user_install.html\">Jupyter\n",
       "  Widgets Documentation</a> for setup instructions.\n",
       "</p>\n",
       "<p>\n",
       "  If you're reading this message in another frontend (for example, a static\n",
       "  rendering on GitHub or <a href=\"https://nbviewer.jupyter.org/\">NBViewer</a>),\n",
       "  it may mean that your frontend doesn't currently support widgets.\n",
       "</p>\n"
      ],
      "text/plain": [
       "Figure(animation_duration=1000, fig_margin={'top': 60, 'bottom': 60, 'left': 60, 'right': 60}, layout=Layout(min_width='125px'), marks=[Pie(colors=['#1f77b4', '#ff7f0e', '#2ca02c', '#d62728', '#9467bd', '#8c564b', '#e377c2', '#7f7f7f', '#bcbd22', '#17becf'], display_labels='outside', display_values=True, interactions={'hover': 'tooltip'}, labels=['A', 'B', 'C', 'D', 'E', 'F', 'G', 'H', 'I', 'J'], scales_metadata={'color': {'dimension': 'color'}}, sizes=array([ 0.00432424,  0.68009969,  0.93799564,  0.86200815,  0.09297279,\n",
       "        0.59361542]), tooltip_style={'opacity': 0.9}, values_format='.0%', x=0.5, y=0.5)], scale_x=LinearScale(allow_padding=False, max=1.0, min=0.0), scale_y=LinearScale(allow_padding=False, max=1.0, min=0.0))"
      ]
     },
     "metadata": {},
     "output_type": "display_data"
    }
   ],
   "source": [
    "data = np.random.rand(6)\n",
    "pie = Pie(sizes=data, radius=180, sort=False, \n",
    "          display_labels='outside', display_values=True,\n",
    "          values_format='.0%', labels=list('ABCDEFGHIJ'))\n",
    "Figure(marks=[pie], animation_duration=1000)"
   ]
  },
  {
   "cell_type": "code",
   "execution_count": 10,
   "metadata": {
    "collapsed": true,
    "deletable": true,
    "editable": true
   },
   "outputs": [],
   "source": [
    "pie.sizes = np.random.rand(8)"
   ]
  },
  {
   "cell_type": "code",
   "execution_count": 11,
   "metadata": {
    "collapsed": true,
    "deletable": true,
    "editable": true
   },
   "outputs": [],
   "source": [
    "pie.sort = True"
   ]
  },
  {
   "cell_type": "code",
   "execution_count": 12,
   "metadata": {
    "collapsed": true,
    "deletable": true,
    "editable": true
   },
   "outputs": [],
   "source": [
    "#make pie a donut\n",
    "with pie.hold_sync():\n",
    "    pie.radius = 180\n",
    "    pie.inner_radius = 120"
   ]
  },
  {
   "cell_type": "markdown",
   "metadata": {
    "deletable": true,
    "editable": true
   },
   "source": [
    "## Bar animations"
   ]
  },
  {
   "cell_type": "code",
   "execution_count": 13,
   "metadata": {
    "collapsed": true,
    "deletable": true,
    "editable": true
   },
   "outputs": [],
   "source": [
    "n = 10\n",
    "x = list('ABCDEFGHIJ')\n",
    "y1, y2 = np.random.rand(2, n)"
   ]
  },
  {
   "cell_type": "code",
   "execution_count": 14,
   "metadata": {
    "collapsed": false,
    "deletable": true,
    "editable": true
   },
   "outputs": [
    {
     "data": {
      "application/vnd.jupyter.widget-view+json": {
       "model_id": "7c32dcfbd83147fa84864f137eb3a516",
       "version_major": 2,
       "version_minor": 0
      },
      "text/html": [
       "<p>Failed to display Jupyter Widget of type <code>Figure</code>.</p>\n",
       "<p>\n",
       "  If you're reading this message in the Jupyter Notebook or JupyterLab Notebook, it may mean\n",
       "  that the widgets JavaScript is still loading. If this message persists, it\n",
       "  likely means that the widgets JavaScript library is either not installed or\n",
       "  not enabled. See the <a href=\"https://ipywidgets.readthedocs.io/en/stable/user_install.html\">Jupyter\n",
       "  Widgets Documentation</a> for setup instructions.\n",
       "</p>\n",
       "<p>\n",
       "  If you're reading this message in another frontend (for example, a static\n",
       "  rendering on GitHub or <a href=\"https://nbviewer.jupyter.org/\">NBViewer</a>),\n",
       "  it may mean that your frontend doesn't currently support widgets.\n",
       "</p>\n"
      ],
      "text/plain": [
       "Figure(animation_duration=1000, axes=[Axis(scale=OrdinalScale()), Axis(orientation='vertical', scale=LinearScale(), tick_format='0.0%')], fig_margin={'top': 60, 'bottom': 60, 'left': 60, 'right': 60}, layout=Layout(min_width='125px'), marks=[Bars(colors=['steelblue'], interactions={'hover': 'tooltip'}, padding=0.2, scales={'x': OrdinalScale(), 'y': LinearScale()}, scales_metadata={'x': {'orientation': 'horizontal', 'dimension': 'x'}, 'y': {'orientation': 'vertical', 'dimension': 'y'}, 'color': {'dimension': 'color'}}, tooltip_style={'opacity': 0.9}, type='grouped', x=array(['A', 'B', 'C', 'D', 'E', 'F', 'G', 'H', 'I', 'J'],\n",
       "      dtype='<U1'), y=array([[ 0.44772054,  0.46469543,  0.30560536,  0.98477782,  0.36386441,\n",
       "         0.85033721,  0.54808295,  0.60398676,  0.74100898,  0.65418664],\n",
       "       [ 0.78169287,  0.75358802,  0.25763616,  0.91431214,  0.67679342,\n",
       "         0.26496168,  0.06002633,  0.75484336,  0.19015197,  0.41502556]]))], scale_x=LinearScale(allow_padding=False, max=1.0, min=0.0), scale_y=LinearScale(allow_padding=False, max=1.0, min=0.0))"
      ]
     },
     "metadata": {},
     "output_type": "display_data"
    }
   ],
   "source": [
    "xs = OrdinalScale()\n",
    "ys = LinearScale()\n",
    "\n",
    "bar = Bars(x=x, y=[y1, y2], scales={'x': xs, 'y': ys}, padding=0.2, type='grouped')\n",
    "xax = Axis(scale=xs)\n",
    "yax = Axis(scale=ys, orientation='vertical', tick_format='0.0%', grid_lines='solid')\n",
    "\n",
    "Figure(marks=[bar], axes=[xax, yax], animation_duration=1000)"
   ]
  },
  {
   "cell_type": "code",
   "execution_count": 15,
   "metadata": {
    "collapsed": true,
    "deletable": true,
    "editable": true
   },
   "outputs": [],
   "source": [
    "y1, y2 = np.random.rand(2, n)\n",
    "bar.y = [y1, y2]"
   ]
  },
  {
   "cell_type": "markdown",
   "metadata": {
    "deletable": true,
    "editable": true
   },
   "source": [
    "## Multiple Mark Animations"
   ]
  },
  {
   "cell_type": "code",
   "execution_count": 16,
   "metadata": {
    "collapsed": false,
    "deletable": true,
    "editable": true
   },
   "outputs": [
    {
     "data": {
      "application/vnd.jupyter.widget-view+json": {
       "model_id": "bde0fb599c56458aa471253f41bc6ff5",
       "version_major": 2,
       "version_minor": 0
      },
      "text/html": [
       "<p>Failed to display Jupyter Widget of type <code>Figure</code>.</p>\n",
       "<p>\n",
       "  If you're reading this message in the Jupyter Notebook or JupyterLab Notebook, it may mean\n",
       "  that the widgets JavaScript is still loading. If this message persists, it\n",
       "  likely means that the widgets JavaScript library is either not installed or\n",
       "  not enabled. See the <a href=\"https://ipywidgets.readthedocs.io/en/stable/user_install.html\">Jupyter\n",
       "  Widgets Documentation</a> for setup instructions.\n",
       "</p>\n",
       "<p>\n",
       "  If you're reading this message in another frontend (for example, a static\n",
       "  rendering on GitHub or <a href=\"https://nbviewer.jupyter.org/\">NBViewer</a>),\n",
       "  it may mean that your frontend doesn't currently support widgets.\n",
       "</p>\n"
      ],
      "text/plain": [
       "Figure(animation_duration=1000, axes=[Axis(label='x', scale=LinearScale()), Axis(label='y', orientation='vertical', scale=LinearScale(), tick_format='0.1f'), Axis(grid_lines='none', label='y1', orientation='vertical', scale=LinearScale(), side='right', tick_format='0.0%')], fig_margin={'top': 60, 'bottom': 60, 'left': 60, 'right': 60}, layout=Layout(min_width='125px'), marks=[Bars(colors=['steelblue'], interactions={'hover': 'tooltip'}, scales={'x': LinearScale(), 'y': LinearScale()}, scales_metadata={'x': {'orientation': 'horizontal', 'dimension': 'x'}, 'y': {'orientation': 'vertical', 'dimension': 'y'}, 'color': {'dimension': 'color'}}, tooltip_style={'opacity': 0.9}, x=array([ 0,  1,  2,  3,  4,  5,  6,  7,  8,  9, 10, 11, 12, 13, 14, 15, 16,\n",
       "       17, 18, 19]), y=array([ 0.58305422,  0.36455236,  0.8149309 ,  0.38895653,  0.40711676,\n",
       "        0.27764993,  0.23178159,  0.47783204,  0.39270752,  0.62792416,\n",
       "        0.8420339 ,  0.22587993,  0.65890865,  0.72727848,  0.14611345,\n",
       "        0.36771361,  0.70204869,  0.43129292,  0.839591  ,  0.78407457])), Lines(colors=['magenta'], interactions={'hover': 'tooltip'}, marker='square', scales={'x': LinearScale(), 'y': LinearScale()}, scales_metadata={'x': {'orientation': 'horizontal', 'dimension': 'x'}, 'y': {'orientation': 'vertical', 'dimension': 'y'}, 'color': {'dimension': 'color'}}, tooltip_style={'opacity': 0.9}, x=array([ 0,  1,  2,  3,  4,  5,  6,  7,  8,  9, 10, 11, 12, 13, 14, 15, 16,\n",
       "       17, 18, 19]), y=array([ 0.12793708,  0.1354839 ,  0.08556685,  0.41623723, -0.77592   ,\n",
       "       -1.80958945, -2.52999551, -2.04726754, -3.44151784, -3.54859133,\n",
       "       -4.5619436 , -3.21844341, -3.35788913, -1.28204118, -1.79965206,\n",
       "       -1.71377236, -2.30654402, -1.87850446, -2.74554004, -3.55692545]))], scale_x=LinearScale(allow_padding=False, max=1.0, min=0.0), scale_y=LinearScale(allow_padding=False, max=1.0, min=0.0))"
      ]
     },
     "metadata": {},
     "output_type": "display_data"
    }
   ],
   "source": [
    "xs = LinearScale()\n",
    "ys1 = LinearScale()\n",
    "ys2 = LinearScale()\n",
    "\n",
    "x = np.arange(20)\n",
    "y = np.cumsum(np.random.randn(20))\n",
    "y1 = np.random.rand(20)\n",
    "\n",
    "line = Lines(x=x, y=y, scales={'x': xs, 'y': ys1}, colors=['magenta'], marker='square')\n",
    "bar = Bars(x=x, y=y1, scales={'x': xs, 'y': ys2}, colorpadding=0.2, colors=['steelblue'])\n",
    "\n",
    "xax = Axis(scale=xs, label='x', grid_lines='solid')\n",
    "yax1 = Axis(scale=ys1, orientation='vertical', tick_format='0.1f', label='y', grid_lines='solid')\n",
    "yax2 = Axis(scale=ys2, orientation='vertical', side='right', tick_format='0.0%', label='y1', grid_lines='none')\n",
    "\n",
    "Figure(marks=[bar, line], axes=[xax, yax1, yax2], animation_duration=1000)"
   ]
  },
  {
   "cell_type": "code",
   "execution_count": 17,
   "metadata": {
    "collapsed": true,
    "deletable": true,
    "editable": true
   },
   "outputs": [],
   "source": [
    "# update mark data\n",
    "line.y = np.cumsum(np.random.randn(20))\n",
    "bar.y = np.random.rand(20)"
   ]
  }
 ],
 "metadata": {
  "anaconda-cloud": {},
  "kernelspec": {
   "display_name": "Python 3",
   "language": "python",
   "name": "python3"
  },
  "language_info": {
   "codemirror_mode": {
    "name": "ipython",
    "version": 3
   },
   "file_extension": ".py",
   "mimetype": "text/x-python",
   "name": "python",
   "nbconvert_exporter": "python",
   "pygments_lexer": "ipython3",
   "version": "3.6.3"
  },
  "widgets": {
   "application/vnd.jupyter.widget-state+json": {
    "state": {
     "0587719f4cf241c79b5225dc95ee9719": {
      "model_module": "bqplot",
      "model_module_version": "^0.2.3",
      "model_name": "FigureModel",
      "state": {
       "_dom_classes": [],
       "animation_duration": 1000,
       "axes": [
        "IPY_MODEL_1e163cbd7f3740ac8c4dff45dd694f1a",
        "IPY_MODEL_6f48b81443544e2895fe25c0c4fff3db"
       ],
       "layout": "IPY_MODEL_5b2d92888459493ba05b91e01165de71",
       "marks": [
        "IPY_MODEL_5db7f2fef7684edea4da054efe147c52"
       ],
       "max_aspect_ratio": 6,
       "scale_x": "IPY_MODEL_1ce9fd509c6547458aeaa4bf563b7b08",
       "scale_y": "IPY_MODEL_1ee3254485714c34bf843d0ffb33e08c"
      }
     },
     "0b374dde70a844d79f850ba1b14d3bad": {
      "model_module": "bqplot",
      "model_module_version": "^0.2.3",
      "model_name": "FigureModel",
      "state": {
       "_dom_classes": [],
       "animation_duration": 1000,
       "axes": [
        "IPY_MODEL_c8261f788cf94353b826f9dbd7b8224c",
        "IPY_MODEL_249a773bd6d44a6dad7da52d7a147782",
        "IPY_MODEL_bb59370ef0e74d2eaa71f732f9c28def"
       ],
       "layout": "IPY_MODEL_d8909ccf2b0e4ae6923d2ef2e4bcc73b",
       "marks": [
        "IPY_MODEL_12604ed5e36e4cd79c1b2e62a38961fe",
        "IPY_MODEL_9f25c0237c20423fa565df90f8d3a96d"
       ],
       "max_aspect_ratio": 6,
       "scale_x": "IPY_MODEL_11b97ae2772f4b14b22724016c3ec5df",
       "scale_y": "IPY_MODEL_2cf5b011992c4e5a8ad38782f7590d09"
      }
     },
     "11b97ae2772f4b14b22724016c3ec5df": {
      "model_module": "bqplot",
      "model_module_version": "^0.2.3",
      "model_name": "LinearScaleModel",
      "state": {
       "allow_padding": false,
       "max": 1,
       "min": 0,
       "stabilized": false
      }
     },
     "1239ff51c0db4cf29c9303acead0992d": {
      "model_module": "bqplot",
      "model_module_version": "^0.2.3",
      "model_name": "LinearScaleModel",
      "state": {
       "allow_padding": false,
       "max": 1,
       "min": 0,
       "stabilized": false
      }
     },
     "12604ed5e36e4cd79c1b2e62a38961fe": {
      "model_module": "bqplot",
      "model_module_version": "^0.2.3",
      "model_name": "BarsModel",
      "state": {
       "color": {
        "type": null,
        "values": null
       },
       "colors": [
        "steelblue"
       ],
       "display_legend": false,
       "scales": {
        "x": "IPY_MODEL_66ce1f4708b74bbfa61d51bdaf6162fe",
        "y": "IPY_MODEL_9b647e10a3b4455d888910090f720d55"
       },
       "selected": [],
       "x": {
        "type": "float",
        "values": [
         0,
         1,
         2,
         3,
         4,
         5,
         6,
         7,
         8,
         9,
         10,
         11,
         12,
         13,
         14,
         15,
         16,
         17,
         18,
         19
        ]
       },
       "y": {
        "type": "float",
        "values": [
         0.9887588730679427,
         0.7192201939339655,
         0.612763442250235,
         0.669202809124435,
         0.995327042945058,
         0.3226252204490907,
         0.26137258959703913,
         0.9605222236834791,
         0.3333534011956111,
         0.08604799366868743,
         0.1496594640145663,
         0.07996738246404878,
         0.14831160129866838,
         0.29348713275941474,
         0.809641399022107,
         0.29639923569386106,
         0.32850158478210867,
         0.17193626325758504,
         0.9437950917173196,
         0.9986383613776445
        ]
       }
      }
     },
     "17e5e6c1ddd54358abdcba5291c502eb": {
      "model_module": "bqplot",
      "model_module_version": "^0.2.3",
      "model_name": "AxisModel",
      "state": {
       "label": "x",
       "scale": "IPY_MODEL_e302873875fb41e28dae3f3c4f4725a5",
       "side": "bottom",
       "tick_values": {
        "type": null,
        "values": null
       }
      }
     },
     "1c82a244f7ed471b89345073fc0788a8": {
      "model_module": "bqplot",
      "model_module_version": "^0.2.3",
      "model_name": "PieModel",
      "state": {
       "color": {
        "type": null,
        "values": null
       },
       "display_labels": true,
       "display_legend": false,
       "font_size": "10px",
       "font_weight": "normal",
       "inner_radius": 50,
       "label_color": null,
       "labels": [
        "A",
        "B",
        "C",
        "D",
        "E",
        "F",
        "G",
        "H",
        "I",
        "J"
       ],
       "radius": 150,
       "selected": [],
       "sizes": {
        "type": "float",
        "values": [
         0.7168485912846104,
         0.5622371522791034,
         0.34538261550538607,
         0.7777378763423164,
         0.31494386859721224,
         0.19326496635064194,
         0.07362789867265218,
         0.1272702144916843,
         0.3466015168383947,
         0.9854805608583127
        ]
       },
       "sort": true
      }
     },
     "1ce9fd509c6547458aeaa4bf563b7b08": {
      "model_module": "bqplot",
      "model_module_version": "^0.2.3",
      "model_name": "LinearScaleModel",
      "state": {
       "allow_padding": false,
       "max": 1,
       "min": 0,
       "stabilized": false
      }
     },
     "1e163cbd7f3740ac8c4dff45dd694f1a": {
      "model_module": "bqplot",
      "model_module_version": "^0.2.3",
      "model_name": "AxisModel",
      "state": {
       "label": "x",
       "scale": "IPY_MODEL_f855098ac25445c28cdb08204d636440",
       "side": "bottom",
       "tick_values": {
        "type": null,
        "values": null
       }
      }
     },
     "1ee3254485714c34bf843d0ffb33e08c": {
      "model_module": "bqplot",
      "model_module_version": "^0.2.3",
      "model_name": "LinearScaleModel",
      "state": {
       "allow_padding": false,
       "max": 1,
       "min": 0,
       "stabilized": false
      }
     },
     "205e836ec2964554870f3f7c42f772e1": {
      "model_module": "bqplot",
      "model_module_version": "^0.2.3",
      "model_name": "OrdinalScaleModel",
      "state": {
       "domain": []
      }
     },
     "222fe196af864e79a73defa89f0752b8": {
      "model_module": "jupyter-js-widgets",
      "model_module_version": "~2.1.4",
      "model_name": "LayoutModel",
      "state": {
       "_model_module_version": "~2.1.4",
       "_view_module_version": "~2.1.4",
       "min_width": "125px"
      }
     },
     "249a773bd6d44a6dad7da52d7a147782": {
      "model_module": "bqplot",
      "model_module_version": "^0.2.3",
      "model_name": "AxisModel",
      "state": {
       "label": "y",
       "orientation": "vertical",
       "scale": "IPY_MODEL_2a1080e334c048c285e54c4945744d36",
       "side": "left",
       "tick_format": "0.1f",
       "tick_values": {
        "type": null,
        "values": null
       }
      }
     },
     "2a1080e334c048c285e54c4945744d36": {
      "model_module": "bqplot",
      "model_module_version": "^0.2.3",
      "model_name": "LinearScaleModel",
      "state": {
       "stabilized": false
      }
     },
     "2cf5b011992c4e5a8ad38782f7590d09": {
      "model_module": "bqplot",
      "model_module_version": "^0.2.3",
      "model_name": "LinearScaleModel",
      "state": {
       "allow_padding": false,
       "max": 1,
       "min": 0,
       "stabilized": false
      }
     },
     "2d156a36f7e24b4b9339e86b560d5c54": {
      "model_module": "bqplot",
      "model_module_version": "^0.2.3",
      "model_name": "BarsModel",
      "state": {
       "color": {
        "type": null,
        "values": null
       },
       "display_legend": false,
       "padding": 0.2,
       "scales": {
        "x": "IPY_MODEL_205e836ec2964554870f3f7c42f772e1",
        "y": "IPY_MODEL_9a210d2b3f4846bdb8be6ecf66188edf"
       },
       "selected": [],
       "type": "grouped",
       "x": {
        "type": "|S1",
        "values": [
         "A",
         "B",
         "C",
         "D",
         "E",
         "F",
         "G",
         "H",
         "I",
         "J"
        ]
       },
       "y": {
        "type": "float",
        "values": [
         [
          0.1919727635351226,
          0.7260877456558503,
          0.6559497551456045,
          0.5913792895110901,
          0.28714533742081094,
          0.18304856950732584,
          0.6784819371099937,
          0.3090768862700276,
          0.8145900166126758,
          0.6796495487564371
         ],
         [
          0.744660754409546,
          0.7137816724656163,
          0.17949767110331039,
          0.7296613075040869,
          0.8237420164859288,
          0.4505365567704006,
          0.8153397803144756,
          0.3838824841357774,
          0.6845375459909991,
          0.3029557191266453
         ]
        ]
       }
      }
     },
     "397dafb937a24cb3b8b7ec2a8a75dfbb": {
      "model_module": "bqplot",
      "model_module_version": "^0.2.3",
      "model_name": "LinearScaleModel",
      "state": {
       "allow_padding": false,
       "max": 1,
       "min": 0,
       "stabilized": false
      }
     },
     "3d8df9e0cfd04125ad28122102566cbb": {
      "model_module": "bqplot",
      "model_module_version": "^0.2.3",
      "model_name": "AxisModel",
      "state": {
       "scale": "IPY_MODEL_205e836ec2964554870f3f7c42f772e1",
       "side": "bottom",
       "tick_values": {
        "type": null,
        "values": null
       }
      }
     },
     "4ebe329e204e434f8f70953edc2008c5": {
      "model_module": "bqplot",
      "model_module_version": "^0.2.3",
      "model_name": "LinearScaleModel",
      "state": {
       "stabilized": false
      }
     },
     "5b2d92888459493ba05b91e01165de71": {
      "model_module": "jupyter-js-widgets",
      "model_module_version": "~2.1.4",
      "model_name": "LayoutModel",
      "state": {
       "_model_module_version": "~2.1.4",
       "_view_module_version": "~2.1.4",
       "min_width": "125px"
      }
     },
     "5db7f2fef7684edea4da054efe147c52": {
      "model_module": "bqplot",
      "model_module_version": "^0.2.3",
      "model_name": "ScatterModel",
      "state": {
       "_model_module": "bqplot",
       "_model_module_version": "^0.2.3",
       "_view_module": "bqplot",
       "_view_module_version": "^0.2.3",
       "apply_clip": true,
       "color": {
        "type": null,
        "values": null
       },
       "colors": [
        "blue"
       ],
       "display_legend": false,
       "enable_hover": true,
       "hovered_style": {},
       "interactions": {
        "hover": "tooltip"
       },
       "labels": [],
       "msg_throttle": 1,
       "names": {
        "type": null,
        "values": null
       },
       "opacity": {
        "type": null,
        "values": null
       },
       "preserve_domain": {},
       "rotation": {
        "type": null,
        "values": null
       },
       "scales": {
        "x": "IPY_MODEL_f855098ac25445c28cdb08204d636440",
        "y": "IPY_MODEL_4ebe329e204e434f8f70953edc2008c5"
       },
       "scales_metadata": {
        "color": {
         "dimension": "color"
        },
        "opacity": {
         "dimension": "opacity"
        },
        "size": {
         "dimension": "size"
        },
        "x": {
         "dimension": "x",
         "orientation": "horizontal"
        },
        "y": {
         "dimension": "y",
         "orientation": "vertical"
        }
       },
       "selected": [],
       "selected_style": {},
       "size": {
        "type": null,
        "values": null
       },
       "skew": {
        "type": null,
        "values": null
       },
       "tooltip": null,
       "tooltip_location": "mouse",
       "tooltip_style": {
        "opacity": 0.9
       },
       "unhovered_style": {},
       "unselected_style": {},
       "visible": true,
       "x": {
        "type": "float",
        "values": [
         8.390770704190507,
         6.020274814725903,
         4.774046428378449,
         9.074888982318173,
         2.423050041840058,
         4.413626532561974,
         9.668642802844623,
         2.1223824851529196,
         5.2891595597517815,
         9.015142016730538,
         3.8077606711706133,
         4.9445041064397675,
         3.9504568543337615,
         5.848803421727256,
         9.076267927180652,
         3.743247528599972,
         7.816048307732553,
         1.2399143311839123,
         2.946016612198888,
         0.7273145338205766
        ]
       },
       "y": {
        "type": "float",
        "values": [
         0.09402821296089525,
         0.6714063145020895,
         0.17310511556476982,
         0.8726060440697363,
         0.39276545859411416,
         0.6074750752166618,
         0.41979708275575056,
         0.4810507107889691,
         0.2821001859388531,
         0.7849480763482053,
         0.26775975305370026,
         0.179688695715142,
         0.9287064686949275,
         0.5283735896780615,
         0.04404889817949509,
         0.36642633438744787,
         0.6008854034769516,
         0.40989614689072096,
         0.7385662539828233,
         0.08615369580477195
        ]
       }
      }
     },
     "66ce1f4708b74bbfa61d51bdaf6162fe": {
      "model_module": "bqplot",
      "model_module_version": "^0.2.3",
      "model_name": "LinearScaleModel",
      "state": {
       "stabilized": false
      }
     },
     "688e7c730577462e8b1af1297a33108e": {
      "model_module": "bqplot",
      "model_module_version": "^0.2.3",
      "model_name": "LinearScaleModel",
      "state": {
       "allow_padding": false,
       "max": 1,
       "min": 0,
       "stabilized": false
      }
     },
     "6972bc9f87eb464c9ae575757a14901d": {
      "model_module": "bqplot",
      "model_module_version": "^0.2.3",
      "model_name": "FigureModel",
      "state": {
       "_dom_classes": [],
       "animation_duration": 1000,
       "layout": "IPY_MODEL_222fe196af864e79a73defa89f0752b8",
       "marks": [
        "IPY_MODEL_1c82a244f7ed471b89345073fc0788a8"
       ],
       "max_aspect_ratio": 6,
       "scale_x": "IPY_MODEL_f68df083b5d14d6d98e734071150f729",
       "scale_y": "IPY_MODEL_803366a45a384458b5f14e28c090cca8"
      }
     },
     "6f2e4dcfe4bf432d9f05bad455a72110": {
      "model_module": "bqplot",
      "model_module_version": "^0.2.3",
      "model_name": "FigureModel",
      "state": {
       "_dom_classes": [],
       "animation_duration": 1000,
       "axes": [
        "IPY_MODEL_3d8df9e0cfd04125ad28122102566cbb",
        "IPY_MODEL_d5f9306b0bc34f5482845dbbe7b41e47"
       ],
       "layout": "IPY_MODEL_eba9d4f2d73e4eedbccc778c213eb4d4",
       "marks": [
        "IPY_MODEL_2d156a36f7e24b4b9339e86b560d5c54"
       ],
       "max_aspect_ratio": 6,
       "scale_x": "IPY_MODEL_397dafb937a24cb3b8b7ec2a8a75dfbb",
       "scale_y": "IPY_MODEL_688e7c730577462e8b1af1297a33108e"
      }
     },
     "6f48b81443544e2895fe25c0c4fff3db": {
      "model_module": "bqplot",
      "model_module_version": "^0.2.3",
      "model_name": "AxisModel",
      "state": {
       "label": "y",
       "orientation": "vertical",
       "scale": "IPY_MODEL_4ebe329e204e434f8f70953edc2008c5",
       "side": "left",
       "tick_format": "0.2f",
       "tick_values": {
        "type": null,
        "values": null
       }
      }
     },
     "785c63c75c474ad19b318fc170da0bc5": {
      "model_module": "bqplot",
      "model_module_version": "^0.2.3",
      "model_name": "AxisModel",
      "state": {
       "label": "y",
       "orientation": "vertical",
       "scale": "IPY_MODEL_99118f079d9145c0915c3048433d5ad3",
       "side": "left",
       "tick_format": "0.2f",
       "tick_values": {
        "type": null,
        "values": null
       }
      }
     },
     "79167bbbef3d4b7ebf4e010b479b41dd": {
      "model_module": "bqplot",
      "model_module_version": "^0.2.3",
      "model_name": "FigureModel",
      "state": {
       "_dom_classes": [],
       "animation_duration": 1000,
       "axes": [
        "IPY_MODEL_17e5e6c1ddd54358abdcba5291c502eb",
        "IPY_MODEL_785c63c75c474ad19b318fc170da0bc5"
       ],
       "layout": "IPY_MODEL_e74a67662ba9469587f68067641b9eed",
       "marks": [
        "IPY_MODEL_893c6d4b86c0458a99d7888b2d98c0bb"
       ],
       "max_aspect_ratio": 6,
       "scale_x": "IPY_MODEL_1239ff51c0db4cf29c9303acead0992d",
       "scale_y": "IPY_MODEL_b571f1d4d71b4ac2b7f85fa8dbbf386b"
      }
     },
     "803366a45a384458b5f14e28c090cca8": {
      "model_module": "bqplot",
      "model_module_version": "^0.2.3",
      "model_name": "LinearScaleModel",
      "state": {
       "allow_padding": false,
       "max": 1,
       "min": 0,
       "stabilized": false
      }
     },
     "893c6d4b86c0458a99d7888b2d98c0bb": {
      "model_module": "bqplot",
      "model_module_version": "^0.2.3",
      "model_name": "LinesModel",
      "state": {
       "color": {
        "type": null,
        "values": null
       },
       "colors": [
        "red",
        "green"
       ],
       "display_legend": false,
       "fill_colors": [],
       "labels": [
        "C1",
        "C2"
       ],
       "scales": {
        "x": "IPY_MODEL_e302873875fb41e28dae3f3c4f4725a5",
        "y": "IPY_MODEL_99118f079d9145c0915c3048433d5ad3"
       },
       "selected": [],
       "x": {
        "type": "float",
        "values": [
         0,
         1,
         2,
         3,
         4,
         5,
         6,
         7,
         8,
         9,
         10,
         11,
         12,
         13,
         14,
         15,
         16,
         17,
         18,
         19,
         20,
         21,
         22,
         23,
         24,
         25,
         26,
         27,
         28,
         29,
         30,
         31,
         32,
         33,
         34,
         35,
         36,
         37,
         38,
         39,
         40,
         41,
         42,
         43,
         44,
         45,
         46,
         47,
         48,
         49,
         50,
         51,
         52,
         53,
         54,
         55,
         56,
         57,
         58,
         59,
         60,
         61,
         62,
         63,
         64,
         65,
         66,
         67,
         68,
         69,
         70,
         71,
         72,
         73,
         74,
         75,
         76,
         77,
         78,
         79,
         80,
         81,
         82,
         83,
         84,
         85,
         86,
         87,
         88,
         89,
         90,
         91,
         92,
         93,
         94,
         95,
         96,
         97,
         98,
         99
        ]
       },
       "y": {
        "type": "float",
        "values": [
         [
          0.7737637799713132,
          2.5257893321777325,
          3.6905172500087797,
          3.8754632074753435,
          4.610203777534208,
          3.4314656724048636,
          2.6979790540687647,
          4.052042728917066,
          5.139229014207384,
          5.399892776699212,
          5.85025872221482,
          6.801553394063329,
          7.542185294665086,
          8.045945973255531,
          7.340505306022747,
          8.76572143641491,
          8.328647939630143,
          7.549033399527724,
          7.556101664548147,
          6.390551231489432,
          7.364548832435879,
          7.833633842588505,
          7.579471818018927,
          6.638666276641446,
          9.392533653117276,
          8.67045489637495,
          9.665054332362171,
          9.987891265660672,
          10.336016182031361,
          10.106265995968178,
          9.231382127541162,
          10.296402775766255,
          8.261588325155575,
          9.441793093818633,
          11.02006153835544,
          9.537992182237542,
          10.270170158814496,
          9.1195373308643,
          9.489543010651982,
          9.51562076561845,
          10.1195298287748,
          9.161380223506235,
          8.195005333892535,
          9.107438949169014,
          9.687782571520916,
          9.074648767973056,
          9.550178376757021,
          7.950633632252074,
          7.499749529501626,
          6.8638374288872335,
          8.610030660245814,
          7.377209016009833,
          7.002101633975803,
          7.7691463898211035,
          7.327936509031746,
          6.897204754196331,
          5.07898262734234,
          5.514835896557447,
          6.498653320390309,
          6.816732897482422,
          6.307871385890804,
          6.572965791379843,
          5.750179018192838,
          7.552886033255202,
          5.859081721762955,
          7.226964282906169,
          8.732097925905894,
          8.148108850154477,
          7.694343328585265,
          7.201892902328709,
          7.371256270912807,
          9.099766969116512,
          8.695783889354324,
          8.289194538821384,
          8.68387832663559,
          8.237433268572072,
          8.550758947026134,
          9.71028037989023,
          11.617211152122609,
          10.084860994467642,
          11.847453634085173,
          12.83004658966941,
          11.579885407349396,
          11.149594068832782,
          9.949998366985142,
          8.330562327462188,
          7.2549656077704885,
          8.443473763756113,
          8.707927858851416,
          9.838098481666322,
          10.261191233011035,
          10.997280985156928,
          11.256934101697167,
          12.091381906281242,
          13.102697315174083,
          13.827492638301532,
          13.266079407703486,
          13.749934569137668,
          15.162835223182011,
          15.244726633418653
         ],
         [
          -1.9922154098532652,
          -2.2336881527925745,
          -2.3414858184773166,
          -2.582718231004577,
          -2.6095324861666604,
          -2.8437259510158217,
          -1.996286225235721,
          -1.9094315809177451,
          -2.1830838256756877,
          -2.405897528694732,
          -1.6111381217186433,
          -2.6209219823748153,
          -2.4318499158375446,
          -3.228768107489616,
          -2.8170544483068847,
          -3.2211600569933068,
          -3.7781690346292196,
          -2.57518822868583,
          -2.0765095595605136,
          -3.0581406708352374,
          -1.8961879950084572,
          -2.0290283074904534,
          -3.7347676535227863,
          -2.1921924000828303,
          -1.5198069459916124,
          -3.66712968423262,
          -4.603083838894193,
          -4.175870901446529,
          -3.999101611281845,
          -4.224607801831174,
          -6.964756658652512,
          -6.5301820470593865,
          -6.795916109125154,
          -4.962282479866904,
          -4.879272347726825,
          -5.658958246477777,
          -5.4719451185587005,
          -5.816371349113444,
          -6.155191838325136,
          -6.106728206946431,
          -6.064549719721972,
          -7.268784716108421,
          -6.238743229866002,
          -5.605235734437521,
          -5.119428416928607,
          -6.201257542966665,
          -5.684528593092734,
          -5.895078622526299,
          -7.079642734442405,
          -7.024918037638198,
          -5.893045689622423,
          -7.348291852487574,
          -7.563114893935028,
          -8.569271380724256,
          -9.601235168024516,
          -9.19123439460429,
          -8.431466074112379,
          -7.922359872246616,
          -7.304386506119167,
          -8.229770354436415,
          -9.716541451766677,
          -9.691286134700396,
          -9.239261209440153,
          -11.012149494510552,
          -11.350484974281601,
          -10.08495798118722,
          -7.601343490065753,
          -6.858246138275298,
          -7.7128941694309905,
          -7.7663610533251966,
          -9.438031733699518,
          -9.300151104876141,
          -9.717580673083429,
          -9.622337525559969,
          -8.568529887621967,
          -9.548342650668081,
          -9.781700549186892,
          -9.159045709947154,
          -10.414828911862378,
          -9.994025757363787,
          -7.209203426787685,
          -8.574727687123058,
          -8.591164551219894,
          -9.196588353897637,
          -8.7360372218994,
          -8.803457574044025,
          -8.234694702448493,
          -7.891356853256603,
          -7.708467332469136,
          -6.770439920966887,
          -7.991283512973113,
          -6.897124417702048,
          -8.862965862782248,
          -8.558831941219205,
          -9.467886461137013,
          -11.197918819104043,
          -10.266908814887177,
          -10.536728101699065,
          -11.908313079031213,
          -12.151052103909395
         ]
        ]
       }
      }
     },
     "99118f079d9145c0915c3048433d5ad3": {
      "model_module": "bqplot",
      "model_module_version": "^0.2.3",
      "model_name": "LinearScaleModel",
      "state": {
       "stabilized": false
      }
     },
     "9a210d2b3f4846bdb8be6ecf66188edf": {
      "model_module": "bqplot",
      "model_module_version": "^0.2.3",
      "model_name": "LinearScaleModel",
      "state": {
       "stabilized": false
      }
     },
     "9b647e10a3b4455d888910090f720d55": {
      "model_module": "bqplot",
      "model_module_version": "^0.2.3",
      "model_name": "LinearScaleModel",
      "state": {
       "stabilized": false
      }
     },
     "9f25c0237c20423fa565df90f8d3a96d": {
      "model_module": "bqplot",
      "model_module_version": "^0.2.3",
      "model_name": "LinesModel",
      "state": {
       "color": {
        "type": null,
        "values": null
       },
       "colors": [
        "magenta"
       ],
       "display_legend": false,
       "fill_colors": [],
       "labels": [
        "C1"
       ],
       "marker": "square",
       "scales": {
        "x": "IPY_MODEL_66ce1f4708b74bbfa61d51bdaf6162fe",
        "y": "IPY_MODEL_2a1080e334c048c285e54c4945744d36"
       },
       "selected": [],
       "x": {
        "type": "float",
        "values": [
         0,
         1,
         2,
         3,
         4,
         5,
         6,
         7,
         8,
         9,
         10,
         11,
         12,
         13,
         14,
         15,
         16,
         17,
         18,
         19
        ]
       },
       "y": {
        "type": "float",
        "values": [
         -0.2616539728881173,
         -1.2670954865671378,
         -0.5379558222584311,
         -0.6025801398663151,
         -0.41273942395979757,
         0.022217084713706703,
         0.6053622368217098,
         -0.09116001467211088,
         0.5237440721858638,
         1.3084175494394485,
         1.5940467522295256,
         0.2968454330676804,
         1.4771866472823834,
         1.7976345946331007,
         2.0256897748040115,
         2.373202077019687,
         3.361853389940557,
         3.849783951602818,
         3.256440932378542,
         4.2089843053043445
        ]
       }
      }
     },
     "b571f1d4d71b4ac2b7f85fa8dbbf386b": {
      "model_module": "bqplot",
      "model_module_version": "^0.2.3",
      "model_name": "LinearScaleModel",
      "state": {
       "allow_padding": false,
       "max": 1,
       "min": 0,
       "stabilized": false
      }
     },
     "bb59370ef0e74d2eaa71f732f9c28def": {
      "model_module": "bqplot",
      "model_module_version": "^0.2.3",
      "model_name": "AxisModel",
      "state": {
       "grid_lines": "none",
       "label": "y1",
       "orientation": "vertical",
       "scale": "IPY_MODEL_9b647e10a3b4455d888910090f720d55",
       "side": "right",
       "tick_format": "0.0%",
       "tick_values": {
        "type": null,
        "values": null
       }
      }
     },
     "c8261f788cf94353b826f9dbd7b8224c": {
      "model_module": "bqplot",
      "model_module_version": "^0.2.3",
      "model_name": "AxisModel",
      "state": {
       "label": "x",
       "scale": "IPY_MODEL_66ce1f4708b74bbfa61d51bdaf6162fe",
       "side": "bottom",
       "tick_values": {
        "type": null,
        "values": null
       }
      }
     },
     "d5f9306b0bc34f5482845dbbe7b41e47": {
      "model_module": "bqplot",
      "model_module_version": "^0.2.3",
      "model_name": "AxisModel",
      "state": {
       "orientation": "vertical",
       "scale": "IPY_MODEL_9a210d2b3f4846bdb8be6ecf66188edf",
       "side": "left",
       "tick_format": "0.0%",
       "tick_values": {
        "type": null,
        "values": null
       }
      }
     },
     "d8909ccf2b0e4ae6923d2ef2e4bcc73b": {
      "model_module": "jupyter-js-widgets",
      "model_module_version": "~2.1.4",
      "model_name": "LayoutModel",
      "state": {
       "_model_module_version": "~2.1.4",
       "_view_module_version": "~2.1.4",
       "min_width": "125px"
      }
     },
     "e302873875fb41e28dae3f3c4f4725a5": {
      "model_module": "bqplot",
      "model_module_version": "^0.2.3",
      "model_name": "LinearScaleModel",
      "state": {
       "stabilized": false
      }
     },
     "e74a67662ba9469587f68067641b9eed": {
      "model_module": "jupyter-js-widgets",
      "model_module_version": "~2.1.4",
      "model_name": "LayoutModel",
      "state": {
       "_model_module_version": "~2.1.4",
       "_view_module_version": "~2.1.4",
       "min_width": "125px"
      }
     },
     "eba9d4f2d73e4eedbccc778c213eb4d4": {
      "model_module": "jupyter-js-widgets",
      "model_module_version": "~2.1.4",
      "model_name": "LayoutModel",
      "state": {
       "_model_module_version": "~2.1.4",
       "_view_module_version": "~2.1.4",
       "min_width": "125px"
      }
     },
     "f68df083b5d14d6d98e734071150f729": {
      "model_module": "bqplot",
      "model_module_version": "^0.2.3",
      "model_name": "LinearScaleModel",
      "state": {
       "allow_padding": false,
       "max": 1,
       "min": 0,
       "stabilized": false
      }
     },
     "f855098ac25445c28cdb08204d636440": {
      "model_module": "bqplot",
      "model_module_version": "^0.2.3",
      "model_name": "LinearScaleModel",
      "state": {
       "stabilized": false
      }
     }
    },
    "version_major": 1,
    "version_minor": 0
   }
  }
 },
 "nbformat": 4,
 "nbformat_minor": 2
}
