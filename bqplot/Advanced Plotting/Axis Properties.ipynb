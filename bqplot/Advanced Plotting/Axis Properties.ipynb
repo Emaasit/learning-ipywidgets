{
 "cells": [
  {
   "cell_type": "code",
   "execution_count": null,
   "metadata": {
    "collapsed": true
   },
   "outputs": [],
   "source": [
    "import numpy as np\n",
    "from bqplot import *"
   ]
  },
  {
   "cell_type": "code",
   "execution_count": null,
   "metadata": {
    "collapsed": true
   },
   "outputs": [],
   "source": [
    "np.random.seed(0)\n",
    "size = 100\n",
    "x_data = range(size)\n",
    "y_data = np.cumsum(np.random.randn(size) * 100.0)\n",
    "y_data_2 = np.cumsum(np.random.randn(size))"
   ]
  },
  {
   "cell_type": "markdown",
   "metadata": {},
   "source": [
    "## Miscellaneous Properties"
   ]
  },
  {
   "cell_type": "code",
   "execution_count": null,
   "metadata": {},
   "outputs": [],
   "source": [
    "y_sc = LinearScale()\n",
    "\n",
    "ax_x = Axis(label='Test X', scale=y_sc, grid_lines='solid')\n",
    "ax_y = Axis(label='Test Y', scale=y_sc, orientation='vertical', tick_format='0.2f')\n",
    "\n",
    "line = Lines(x=y_data_2, y=y_data_2,\n",
    "             scales={'x': y_sc, 'y': y_sc}, colors=['hotpink', 'orange'])\n",
    "\n",
    "m_fig = dict(left=100, top=50, bottom=50, right=100)\n",
    "fig = Figure(axes=[ax_x, ax_y], marks=[line], fig_margin=m_fig)\n",
    "fig"
   ]
  },
  {
   "cell_type": "code",
   "execution_count": null,
   "metadata": {
    "collapsed": true
   },
   "outputs": [],
   "source": [
    "# Displaying Grid Lines for the axis\n",
    "ax_x.grid_lines = 'solid'\n",
    "ax_y.grid_lines = 'dashed'"
   ]
  },
  {
   "cell_type": "code",
   "execution_count": null,
   "metadata": {
    "collapsed": true
   },
   "outputs": [],
   "source": [
    "# Changing the side of the axis\n",
    "ax_y.side = \"right\"\n",
    "ax_x.side = \"top\""
   ]
  },
  {
   "cell_type": "code",
   "execution_count": null,
   "metadata": {
    "collapsed": true
   },
   "outputs": [],
   "source": [
    "ax_y.orientation = \"horizontal\"\n",
    "ax_x.orientation = \"vertical\""
   ]
  },
  {
   "cell_type": "code",
   "execution_count": null,
   "metadata": {
    "collapsed": true
   },
   "outputs": [],
   "source": [
    "## Changing the format of the ticks on the axis\n",
    "fig.axes[0].tick_format = \"0.2f\"\n",
    "fig.axes[1].tick_format = \"0.0f\""
   ]
  },
  {
   "cell_type": "code",
   "execution_count": null,
   "metadata": {
    "collapsed": true
   },
   "outputs": [],
   "source": [
    "## Changing the color of the axis\n",
    "with ax_x.hold_sync():\n",
    "    ax_x.color = 'orangered'\n",
    "    ax_x.label_color = 'orangered'"
   ]
  },
  {
   "cell_type": "code",
   "execution_count": null,
   "metadata": {
    "collapsed": true
   },
   "outputs": [],
   "source": [
    "#change the grid colors\n",
    "ax_x.grid_color = 'red'"
   ]
  },
  {
   "cell_type": "markdown",
   "metadata": {},
   "source": [
    "## Label Placement"
   ]
  },
  {
   "cell_type": "code",
   "execution_count": null,
   "metadata": {},
   "outputs": [],
   "source": [
    "x_sc = LinearScale()\n",
    "y_sc = LinearScale()\n",
    "\n",
    "ax_x = Axis(label='Test X', scale=x_sc)\n",
    "ax_y = Axis(label='Test Y', scale=y_sc, orientation='vertical', tick_format='0.3f')\n",
    "\n",
    "line = Lines(x=x_data, y=y_data_2, scales={'x': x_sc, 'y': y_sc}, colors=['hotpink', 'orange'])\n",
    "\n",
    "m_fig = dict(left=100, top=50, bottom=50, right=100)\n",
    "Figure(axes=[ax_x, ax_y], marks=[line], fig_margin=m_fig)"
   ]
  },
  {
   "cell_type": "code",
   "execution_count": null,
   "metadata": {
    "collapsed": true
   },
   "outputs": [],
   "source": [
    "## moving the label along the axis\n",
    "ax_x.label_location = 'end'\n",
    "ax_y.label_location = 'start'"
   ]
  },
  {
   "cell_type": "code",
   "execution_count": null,
   "metadata": {
    "collapsed": true
   },
   "outputs": [],
   "source": [
    "## moving the label perpendicular to the axis\n",
    "ax_y.label_offset = '6ex'\n",
    "ax_x.label_offset = '-1em'"
   ]
  },
  {
   "cell_type": "markdown",
   "metadata": {},
   "source": [
    "## Ticks properties"
   ]
  },
  {
   "cell_type": "code",
   "execution_count": null,
   "metadata": {
    "scrolled": false
   },
   "outputs": [],
   "source": [
    "x_sc = LinearScale()\n",
    "y_sc = LinearScale()\n",
    "\n",
    "ax_x = Axis(label='index', scale=x_sc)\n",
    "ax_y = Axis(label='Brownian', scale=y_sc, orientation='vertical', tick_format='0.2f')\n",
    "\n",
    "line = Lines(x=x_data[:20], y=y_data[:20], scales={'x': x_sc, 'y': y_sc}, colors=['hotpink', 'orange'])\n",
    "\n",
    "m_fig = dict(left=50, top=50, bottom=50, right=50)\n",
    "Figure(axes=[ax_x, ax_y], marks=[line], fig_margin=m_fig)"
   ]
  },
  {
   "cell_type": "code",
   "execution_count": null,
   "metadata": {
    "collapsed": true
   },
   "outputs": [],
   "source": [
    "# Setting the number of ticks\n",
    "ax_x.num_ticks = 8"
   ]
  },
  {
   "cell_type": "code",
   "execution_count": null,
   "metadata": {
    "collapsed": true
   },
   "outputs": [],
   "source": [
    "# Setting the tick values\n",
    "ax_x.tick_values = np.arange(1, 21)"
   ]
  },
  {
   "cell_type": "code",
   "execution_count": null,
   "metadata": {
    "collapsed": true
   },
   "outputs": [],
   "source": [
    "# Setting the style for the text of the ticks\n",
    "ax_x.tick_style={'stroke': 'orangered', 'font-size': 14}"
   ]
  },
  {
   "cell_type": "markdown",
   "metadata": {},
   "source": [
    "# Axis Placement"
   ]
  },
  {
   "cell_type": "code",
   "execution_count": null,
   "metadata": {
    "collapsed": true
   },
   "outputs": [],
   "source": [
    "sc_x = LinearScale()\n",
    "sc_y = LinearScale(reverse=True)\n",
    "sc_y2 = LinearScale()\n",
    "\n",
    "sc1 = Scatter(x=x_data[:10], y=y_data[:10],\n",
    "              scales={'x': sc_x, 'y': sc_y},\n",
    "              labels=['Test 1'],\n",
    "              default_size=100, display_legend=True)\n",
    "\n",
    "sc2 = Scatter(x=x_data[:10], y=y_data_2[:10],\n",
    "              colors=['dodgerblue'],\n",
    "              marker='cross', labels=['Test 2'],\n",
    "              scales={'x': sc_x, 'y': sc_y2}, display_legend=True)"
   ]
  },
  {
   "cell_type": "markdown",
   "metadata": {},
   "source": [
    "## Placement of axis in terms of figure scales"
   ]
  },
  {
   "cell_type": "code",
   "execution_count": null,
   "metadata": {
    "collapsed": true
   },
   "outputs": [],
   "source": [
    "## Setting offset for axis in terms of figure scales\n",
    "ax_x = Axis(label='Test X', scale=sc_x, \n",
    "            grid_lines='solid', offset=dict(value=0.2), label_location=\"start\")\n",
    "\n",
    "ax_y = Axis(label='Test Y', scale=sc_y, \n",
    "            orientation='vertical', tick_format='0.2f', grid_lines='solid', label_location=\"end\")\n",
    "\n",
    "ax_y2 = Axis(label='Test Y2', scale=sc_y2, orientation='vertical', side='right', \n",
    "             tick_format='0.2f')\n",
    "Figure(axes=[ax_x, ax_y, ax_y2], marks=[sc1, sc2], legend_location='top-right',\n",
    "       padding_x=0.025)"
   ]
  },
  {
   "cell_type": "code",
   "execution_count": null,
   "metadata": {
    "collapsed": true
   },
   "outputs": [],
   "source": [
    "# restoring to default position\n",
    "ax_x.offset = {}"
   ]
  },
  {
   "cell_type": "markdown",
   "metadata": {},
   "source": [
    "## Placement of axis in terms of actual scales and data"
   ]
  },
  {
   "cell_type": "code",
   "execution_count": null,
   "metadata": {
    "collapsed": true
   },
   "outputs": [],
   "source": [
    "ax_y.offset = dict(value=3.0, scale=sc_x)"
   ]
  },
  {
   "cell_type": "markdown",
   "metadata": {},
   "source": [
    "# Color Axis"
   ]
  },
  {
   "cell_type": "code",
   "execution_count": null,
   "metadata": {
    "collapsed": true
   },
   "outputs": [],
   "source": [
    "x_sc = LinearScale()\n",
    "y_sc = LinearScale()\n",
    "col_sc = ColorScale()\n",
    "\n",
    "scatter = Scatter(x=x_data, y=y_data, color=y_data_2,\n",
    "                  scales={'x': x_sc, 'y':y_sc, 'color': col_sc})\n",
    "ax_x = Axis(scale=x_sc)\n",
    "ax_y = Axis(scale=y_sc, orientation='vertical', tick_format='0.2f')\n",
    "ax_c = ColorAxis(scale=col_sc, label='Color')\n",
    "\n",
    "margin=dict(top=80, left=80, right=80, bottom=80)\n",
    "Figure(marks=[scatter], axes=[ax_x, ax_y, ax_c], fig_margin=margin)"
   ]
  },
  {
   "cell_type": "markdown",
   "metadata": {},
   "source": [
    "## Changing side and orientation of color axis"
   ]
  },
  {
   "cell_type": "code",
   "execution_count": null,
   "metadata": {
    "collapsed": true
   },
   "outputs": [],
   "source": [
    "ax_c.side = 'top'"
   ]
  },
  {
   "cell_type": "code",
   "execution_count": null,
   "metadata": {
    "collapsed": true
   },
   "outputs": [],
   "source": [
    "with ax_c.hold_sync():\n",
    "    ax_c.orientation = 'vertical'\n",
    "    ax_c.side = 'right'"
   ]
  },
  {
   "cell_type": "code",
   "execution_count": null,
   "metadata": {
    "collapsed": true
   },
   "outputs": [],
   "source": [
    "ax_y.side = 'right'\n",
    "ax_c.side = 'left'"
   ]
  }
 ],
 "metadata": {
  "anaconda-cloud": {},
  "kernelspec": {
   "display_name": "Python 3",
   "language": "python",
   "name": "python3"
  },
  "language_info": {
   "codemirror_mode": {
    "name": "ipython",
    "version": 3
   },
   "file_extension": ".py",
   "mimetype": "text/x-python",
   "name": "python",
   "nbconvert_exporter": "python",
   "pygments_lexer": "ipython3",
   "version": "3.6.3"
  },
  "widgets": {
   "application/vnd.jupyter.widget-state+json": {
    "state": {
     "032d356060c2446a820bea0cff2ffe6e": {
      "model_module": "bqplot",
      "model_module_version": "^0.2.3",
      "model_name": "LinearScaleModel",
      "state": {
       "stabilized": false
      }
     },
     "04f4d14ca4c54c5c938eed209164d5ed": {
      "model_module": "bqplot",
      "model_module_version": "^0.2.3",
      "model_name": "AxisModel",
      "state": {
       "label": "Test X",
       "label_location": "start",
       "scale": "IPY_MODEL_fdf3ddae0c754de6ae1bb00586bd27ff",
       "side": "bottom",
       "tick_values": {
        "type": null,
        "values": null
       }
      }
     },
     "0b543823ffec4c8ca0cbeffc8228b9dc": {
      "model_module": "bqplot",
      "model_module_version": "^0.2.3",
      "model_name": "ScatterModel",
      "state": {
       "_model_module": "bqplot",
       "_model_module_version": "^0.2.3",
       "_view_module": "bqplot",
       "_view_module_version": "^0.2.3",
       "apply_clip": true,
       "color": {
        "type": null,
        "values": null
       },
       "colors": [
        "DeepSkyBlue"
       ],
       "default_size": 100,
       "display_legend": true,
       "enable_hover": true,
       "hovered_style": {},
       "interactions": {
        "hover": "tooltip"
       },
       "labels": [
        "Test 1"
       ],
       "msg_throttle": 1,
       "names": {
        "type": null,
        "values": null
       },
       "opacity": {
        "type": null,
        "values": null
       },
       "preserve_domain": {},
       "rotation": {
        "type": null,
        "values": null
       },
       "scales": {
        "x": "IPY_MODEL_fdf3ddae0c754de6ae1bb00586bd27ff",
        "y": "IPY_MODEL_d3e1719a16eb44429bfa0bcd4c1f9883"
       },
       "scales_metadata": {
        "color": {
         "dimension": "color"
        },
        "opacity": {
         "dimension": "opacity"
        },
        "size": {
         "dimension": "size"
        },
        "x": {
         "dimension": "x",
         "orientation": "horizontal"
        },
        "y": {
         "dimension": "y",
         "orientation": "vertical"
        }
       },
       "selected": [],
       "selected_style": {},
       "size": {
        "type": null,
        "values": null
       },
       "skew": {
        "type": null,
        "values": null
       },
       "tooltip": null,
       "tooltip_location": "mouse",
       "tooltip_style": {
        "opacity": 0.9
       },
       "unhovered_style": {},
       "unselected_style": {},
       "visible": true,
       "x": {
        "type": "float",
        "values": [
         0,
         1,
         2,
         3,
         4,
         5,
         6,
         7,
         8,
         9
        ]
       },
       "y": {
        "type": "float",
        "values": [
         176.4052345967664,
         216.42095543348873,
         314.29475384406265,
         538.3840737642084,
         725.1398727792052,
         627.4120847915641,
         722.4209265441231,
         707.2852057143533,
         696.9633205349975,
         738.0231707288347
        ]
       }
      }
     },
     "279ee832a18043b5b6703019612c0523": {
      "model_module": "bqplot",
      "model_module_version": "^0.2.3",
      "model_name": "LinearScaleModel",
      "state": {
       "allow_padding": false,
       "max": 1,
       "min": 0,
       "stabilized": false
      }
     },
     "2ba02f2fab7c4174a7cba094a6570421": {
      "model_module": "bqplot",
      "model_module_version": "^0.2.3",
      "model_name": "AxisModel",
      "state": {
       "orientation": "vertical",
       "scale": "IPY_MODEL_cc025230b1f94271b968a37143610952",
       "side": "right",
       "tick_format": "0.2f",
       "tick_values": {
        "type": null,
        "values": null
       }
      }
     },
     "2ebe88cab782479cb6ec2faaa13c535e": {
      "model_module": "bqplot",
      "model_module_version": "^0.2.3",
      "model_name": "AxisModel",
      "state": {
       "label": "Test Y2",
       "orientation": "vertical",
       "scale": "IPY_MODEL_9ba4fa1bfc7c45efbb5f87270ad0a242",
       "side": "right",
       "tick_format": "0.2f",
       "tick_values": {
        "type": null,
        "values": null
       }
      }
     },
     "30e7956b9954499b88be80f19e8a2f77": {
      "model_module": "bqplot",
      "model_module_version": "^0.2.3",
      "model_name": "FigureModel",
      "state": {
       "_dom_classes": [],
       "axes": [
        "IPY_MODEL_04f4d14ca4c54c5c938eed209164d5ed",
        "IPY_MODEL_e3a99da9ca0b4a03bfe539f3564ad752",
        "IPY_MODEL_2ebe88cab782479cb6ec2faaa13c535e"
       ],
       "layout": "IPY_MODEL_9b28612af6324ecdb11dbc1e7f25ebb7",
       "marks": [
        "IPY_MODEL_0b543823ffec4c8ca0cbeffc8228b9dc",
        "IPY_MODEL_ab1ac6276cd942f3bb9c50a2c119d5cc"
       ],
       "max_aspect_ratio": 6,
       "padding_x": 0.025,
       "scale_x": "IPY_MODEL_6783d3a1c4c4484eb876964b0114d2ab",
       "scale_y": "IPY_MODEL_896fef92dba8483aba5a470c27d9d56f"
      }
     },
     "3473c0e41af4438fa1573feeb3ead70c": {
      "model_module": "bqplot",
      "model_module_version": "^0.2.3",
      "model_name": "AxisModel",
      "state": {
       "label": "Test Y",
       "label_location": "start",
       "label_offset": "6ex",
       "orientation": "vertical",
       "scale": "IPY_MODEL_032d356060c2446a820bea0cff2ffe6e",
       "side": "left",
       "tick_format": "0.3f",
       "tick_values": {
        "type": null,
        "values": null
       }
      }
     },
     "362507906d454078ad03281721e59fd0": {
      "model_module": "bqplot",
      "model_module_version": "^0.2.3",
      "model_name": "AxisModel",
      "state": {
       "label": "Test X",
       "label_location": "end",
       "label_offset": "-1em",
       "scale": "IPY_MODEL_47f68bed429649daaf06df523b92675e",
       "side": "bottom",
       "tick_values": {
        "type": null,
        "values": null
       }
      }
     },
     "38ea79591e044d5fa83ba58a8aa97452": {
      "model_module": "bqplot",
      "model_module_version": "^0.2.3",
      "model_name": "FigureModel",
      "state": {
       "_dom_classes": [],
       "axes": [
        "IPY_MODEL_4b75f1bbfd3c40438e3a55b99ac32923",
        "IPY_MODEL_2ba02f2fab7c4174a7cba094a6570421",
        "IPY_MODEL_721c72802ee24f67b0f64ba1241db0d2"
       ],
       "fig_margin": {
        "bottom": 80,
        "left": 80,
        "right": 80,
        "top": 80
       },
       "layout": "IPY_MODEL_eb96a3ea5c324d268ffc5effa7ad8e26",
       "marks": [
        "IPY_MODEL_df32510df0d0442b8c1ca3cd38f125d7"
       ],
       "max_aspect_ratio": 6,
       "scale_x": "IPY_MODEL_edd1db9cf3c24e0690db7b0bd7db6366",
       "scale_y": "IPY_MODEL_279ee832a18043b5b6703019612c0523"
      }
     },
     "3b582c7f5a0d4a17bd10215a273fa436": {
      "model_module": "bqplot",
      "model_module_version": "^0.2.3",
      "model_name": "LinesModel",
      "state": {
       "color": {
        "type": null,
        "values": null
       },
       "colors": [
        "hotpink",
        "orange"
       ],
       "display_legend": false,
       "fill_colors": [],
       "labels": [
        "C1"
       ],
       "scales": {
        "x": "IPY_MODEL_a7bbbdb0d4644644a3c40cea48d033ab",
        "y": "IPY_MODEL_a7bbbdb0d4644644a3c40cea48d033ab"
       },
       "selected": [],
       "x": {
        "type": "float",
        "values": [
         1.8831506970562544,
         0.535391635913808,
         -0.7350933625719256,
         0.23430334558608557,
         -0.9388200595280743,
         1.0048011261212184,
         0.5911821453614711,
         -0.1562726660792867,
         1.7666693604010981,
         3.2471841518355227,
         5.114743112262093,
         6.020787770537478,
         5.159562085482775,
         7.0696270385818085,
         6.8016236676304285,
         7.6040800634268235,
         8.551332031200571,
         8.396321938109738,
         9.010401308455819,
         9.932607980022345,
         10.309033511177974,
         9.20963272059378,
         9.507870894799835,
         10.834256791486865,
         10.139688931755499,
         9.990054391427828,
         9.55490083970619,
         11.404164568185532,
         12.076459325197968,
         12.483921161439078,
         11.714005086993762,
         12.25325427828558,
         11.578921617628204,
         11.610752175902554,
         10.974906097523673,
         11.651339392470174,
         12.227930209085114,
         12.01963145350712,
         12.415638166168765,
         11.32257665743826,
         9.831319064732654,
         10.27071076599719,
         10.437384261369719,
         11.072415698261825,
         13.455560473125766,
         14.40003996011618,
         13.487217734672022,
         14.604234022767875,
         13.288326612256354,
         12.826742007441645,
         12.758500402117013,
         14.47184312376638,
         13.72708830171794,
         12.900649763058926,
         12.802197238633493,
         12.138718952271386,
         13.265354874377893,
         12.18542336601447,
         11.037954713603368,
         10.600134668858933,
         10.102102218166628,
         12.031634271983615,
         12.981055078909375,
         13.068606320294565,
         11.843170801464398,
         12.687533777865944,
         11.68731843047638,
         10.142547333698769,
         11.33057712605107,
         11.64751973797592,
         12.568378561756738,
         12.88710621469976,
         13.74393682660245,
         13.092911233302303,
         12.058668391517838,
         12.740262909799466,
         11.936853245625624,
         11.247303467875424,
         10.791770964358081,
         10.809250123383137,
         10.455256212129653,
         9.080304918711635,
         8.436686515878744,
         6.213283363654318,
         6.838514814681505,
         5.2364571590747575,
         4.1320738196463065,
         4.184238898907281,
         3.4446759025159674,
         4.987690497922703,
         3.6948335881992542,
         3.9618844575484373,
         3.9226016393209417,
         2.7545081415797443,
         3.277784802111498,
         3.10623847088925,
         3.8780290221029174,
         4.701533176066649,
         6.864769125347339,
         8.201297074783731
        ]
       },
       "y": {
        "type": "float",
        "values": [
         1.8831506970562544,
         0.535391635913808,
         -0.7350933625719256,
         0.23430334558608557,
         -0.9388200595280743,
         1.0048011261212184,
         0.5911821453614711,
         -0.1562726660792867,
         1.7666693604010981,
         3.2471841518355227,
         5.114743112262093,
         6.020787770537478,
         5.159562085482775,
         7.0696270385818085,
         6.8016236676304285,
         7.6040800634268235,
         8.551332031200571,
         8.396321938109738,
         9.010401308455819,
         9.932607980022345,
         10.309033511177974,
         9.20963272059378,
         9.507870894799835,
         10.834256791486865,
         10.139688931755499,
         9.990054391427828,
         9.55490083970619,
         11.404164568185532,
         12.076459325197968,
         12.483921161439078,
         11.714005086993762,
         12.25325427828558,
         11.578921617628204,
         11.610752175902554,
         10.974906097523673,
         11.651339392470174,
         12.227930209085114,
         12.01963145350712,
         12.415638166168765,
         11.32257665743826,
         9.831319064732654,
         10.27071076599719,
         10.437384261369719,
         11.072415698261825,
         13.455560473125766,
         14.40003996011618,
         13.487217734672022,
         14.604234022767875,
         13.288326612256354,
         12.826742007441645,
         12.758500402117013,
         14.47184312376638,
         13.72708830171794,
         12.900649763058926,
         12.802197238633493,
         12.138718952271386,
         13.265354874377893,
         12.18542336601447,
         11.037954713603368,
         10.600134668858933,
         10.102102218166628,
         12.031634271983615,
         12.981055078909375,
         13.068606320294565,
         11.843170801464398,
         12.687533777865944,
         11.68731843047638,
         10.142547333698769,
         11.33057712605107,
         11.64751973797592,
         12.568378561756738,
         12.88710621469976,
         13.74393682660245,
         13.092911233302303,
         12.058668391517838,
         12.740262909799466,
         11.936853245625624,
         11.247303467875424,
         10.791770964358081,
         10.809250123383137,
         10.455256212129653,
         9.080304918711635,
         8.436686515878744,
         6.213283363654318,
         6.838514814681505,
         5.2364571590747575,
         4.1320738196463065,
         4.184238898907281,
         3.4446759025159674,
         4.987690497922703,
         3.6948335881992542,
         3.9618844575484373,
         3.9226016393209417,
         2.7545081415797443,
         3.277784802111498,
         3.10623847088925,
         3.8780290221029174,
         4.701533176066649,
         6.864769125347339,
         8.201297074783731
        ]
       }
      }
     },
     "3cbaa4e48a4a4091a5b9f47f74cce6d6": {
      "model_module": "bqplot",
      "model_module_version": "^0.2.3",
      "model_name": "FigureModel",
      "state": {
       "_dom_classes": [],
       "axes": [
        "IPY_MODEL_c072b882770f490697f76a7e603b4abb",
        "IPY_MODEL_8c692fe5dc474566ae340c39bda4ef77"
       ],
       "fig_margin": {
        "bottom": 50,
        "left": 100,
        "right": 100,
        "top": 50
       },
       "layout": "IPY_MODEL_50c92d9a5cc04319a11ab2cd1c3a2706",
       "marks": [
        "IPY_MODEL_3b582c7f5a0d4a17bd10215a273fa436"
       ],
       "max_aspect_ratio": 6,
       "scale_x": "IPY_MODEL_b22c903f3d044287b91a450b7e3fcfd6",
       "scale_y": "IPY_MODEL_ebf6c7171008494e94e6002148492b18"
      }
     },
     "47f68bed429649daaf06df523b92675e": {
      "model_module": "bqplot",
      "model_module_version": "^0.2.3",
      "model_name": "LinearScaleModel",
      "state": {
       "stabilized": false
      }
     },
     "4b75f1bbfd3c40438e3a55b99ac32923": {
      "model_module": "bqplot",
      "model_module_version": "^0.2.3",
      "model_name": "AxisModel",
      "state": {
       "scale": "IPY_MODEL_cf71333852a2440a9b5f56ccffa3a86b",
       "side": "bottom",
       "tick_values": {
        "type": null,
        "values": null
       }
      }
     },
     "50c92d9a5cc04319a11ab2cd1c3a2706": {
      "model_module": "jupyter-js-widgets",
      "model_module_version": "~2.1.4",
      "model_name": "LayoutModel",
      "state": {
       "_model_module_version": "~2.1.4",
       "_view_module_version": "~2.1.4",
       "min_width": "125px"
      }
     },
     "51972caeeacf480192790940ae10ecd4": {
      "model_module": "bqplot",
      "model_module_version": "^0.2.3",
      "model_name": "AxisModel",
      "state": {
       "label": "index",
       "num_ticks": 8,
       "scale": "IPY_MODEL_e8df71371d154ef6bab93df337e11eab",
       "side": "bottom",
       "tick_values": {
        "type": "float",
        "values": [
         1,
         2,
         3,
         4,
         5,
         6,
         7,
         8,
         9,
         10,
         11,
         12,
         13,
         14,
         15,
         16,
         17,
         18,
         19,
         20
        ]
       }
      }
     },
     "534151513cee4a40acacb7b412d78e98": {
      "model_module": "bqplot",
      "model_module_version": "^0.2.3",
      "model_name": "LinearScaleModel",
      "state": {
       "stabilized": false
      }
     },
     "6783d3a1c4c4484eb876964b0114d2ab": {
      "model_module": "bqplot",
      "model_module_version": "^0.2.3",
      "model_name": "LinearScaleModel",
      "state": {
       "allow_padding": false,
       "max": 1,
       "min": 0,
       "stabilized": false
      }
     },
     "6a84ba1b3f5c4c9fa9544c6e5bf74928": {
      "model_module": "jupyter-js-widgets",
      "model_module_version": "~2.1.4",
      "model_name": "LayoutModel",
      "state": {
       "_model_module_version": "~2.1.4",
       "_view_module_version": "~2.1.4",
       "min_width": "125px"
      }
     },
     "6fb1263992d34a2dad35e20fc95f7240": {
      "model_module": "bqplot",
      "model_module_version": "^0.2.3",
      "model_name": "LinearScaleModel",
      "state": {
       "allow_padding": false,
       "max": 1,
       "min": 0,
       "stabilized": false
      }
     },
     "721c72802ee24f67b0f64ba1241db0d2": {
      "model_module": "bqplot",
      "model_module_version": "^0.2.3",
      "model_name": "ColorAxisModel",
      "state": {
       "label": "Color",
       "orientation": "vertical",
       "scale": "IPY_MODEL_b985e30f5401417b9dd9a82d1b376c48",
       "side": "left",
       "tick_values": {
        "type": null,
        "values": null
       }
      }
     },
     "896fef92dba8483aba5a470c27d9d56f": {
      "model_module": "bqplot",
      "model_module_version": "^0.2.3",
      "model_name": "LinearScaleModel",
      "state": {
       "allow_padding": false,
       "max": 1,
       "min": 0,
       "stabilized": false
      }
     },
     "8c692fe5dc474566ae340c39bda4ef77": {
      "model_module": "bqplot",
      "model_module_version": "^0.2.3",
      "model_name": "AxisModel",
      "state": {
       "grid_lines": "dashed",
       "label": "Test Y",
       "scale": "IPY_MODEL_a7bbbdb0d4644644a3c40cea48d033ab",
       "side": "bottom",
       "tick_format": "0.0f",
       "tick_values": {
        "type": null,
        "values": null
       }
      }
     },
     "8d1b88c4c6d648d4a04ec8bbf9d2d2ff": {
      "model_module": "bqplot",
      "model_module_version": "^0.2.3",
      "model_name": "LinearScaleModel",
      "state": {
       "allow_padding": false,
       "max": 1,
       "min": 0,
       "stabilized": false
      }
     },
     "8da3ff4c54cc407088bc7b9567164c09": {
      "model_module": "bqplot",
      "model_module_version": "^0.2.3",
      "model_name": "LinearScaleModel",
      "state": {
       "allow_padding": false,
       "max": 1,
       "min": 0,
       "stabilized": false
      }
     },
     "9b28612af6324ecdb11dbc1e7f25ebb7": {
      "model_module": "jupyter-js-widgets",
      "model_module_version": "~2.1.4",
      "model_name": "LayoutModel",
      "state": {
       "_model_module_version": "~2.1.4",
       "_view_module_version": "~2.1.4",
       "min_width": "125px"
      }
     },
     "9ba4fa1bfc7c45efbb5f87270ad0a242": {
      "model_module": "bqplot",
      "model_module_version": "^0.2.3",
      "model_name": "LinearScaleModel",
      "state": {
       "stabilized": false
      }
     },
     "a7bbbdb0d4644644a3c40cea48d033ab": {
      "model_module": "bqplot",
      "model_module_version": "^0.2.3",
      "model_name": "LinearScaleModel",
      "state": {
       "stabilized": false
      }
     },
     "ab1ac6276cd942f3bb9c50a2c119d5cc": {
      "model_module": "bqplot",
      "model_module_version": "^0.2.3",
      "model_name": "ScatterModel",
      "state": {
       "_model_module": "bqplot",
       "_model_module_version": "^0.2.3",
       "_view_module": "bqplot",
       "_view_module_version": "^0.2.3",
       "apply_clip": true,
       "color": {
        "type": null,
        "values": null
       },
       "colors": [
        "dodgerblue"
       ],
       "display_legend": true,
       "enable_hover": true,
       "hovered_style": {},
       "interactions": {
        "hover": "tooltip"
       },
       "labels": [
        "Test 2"
       ],
       "marker": "cross",
       "msg_throttle": 1,
       "names": {
        "type": null,
        "values": null
       },
       "opacity": {
        "type": null,
        "values": null
       },
       "preserve_domain": {},
       "rotation": {
        "type": null,
        "values": null
       },
       "scales": {
        "x": "IPY_MODEL_fdf3ddae0c754de6ae1bb00586bd27ff",
        "y": "IPY_MODEL_9ba4fa1bfc7c45efbb5f87270ad0a242"
       },
       "scales_metadata": {
        "color": {
         "dimension": "color"
        },
        "opacity": {
         "dimension": "opacity"
        },
        "size": {
         "dimension": "size"
        },
        "x": {
         "dimension": "x",
         "orientation": "horizontal"
        },
        "y": {
         "dimension": "y",
         "orientation": "vertical"
        }
       },
       "selected": [],
       "selected_style": {},
       "size": {
        "type": null,
        "values": null
       },
       "skew": {
        "type": null,
        "values": null
       },
       "tooltip": null,
       "tooltip_location": "mouse",
       "tooltip_style": {
        "opacity": 0.9
       },
       "unhovered_style": {},
       "unselected_style": {},
       "visible": true,
       "x": {
        "type": "float",
        "values": [
         0,
         1,
         2,
         3,
         4,
         5,
         6,
         7,
         8,
         9
        ]
       },
       "y": {
        "type": "float",
        "values": [
         1.8831506970562544,
         0.535391635913808,
         -0.7350933625719256,
         0.23430334558608557,
         -0.9388200595280743,
         1.0048011261212184,
         0.5911821453614711,
         -0.1562726660792867,
         1.7666693604010981,
         3.2471841518355227
        ]
       }
      }
     },
     "abae8a8590f24e19843275c8487a9351": {
      "model_module": "bqplot",
      "model_module_version": "^0.2.3",
      "model_name": "LinesModel",
      "state": {
       "color": {
        "type": null,
        "values": null
       },
       "colors": [
        "hotpink",
        "orange"
       ],
       "display_legend": false,
       "fill_colors": [],
       "labels": [
        "C1"
       ],
       "scales": {
        "x": "IPY_MODEL_e8df71371d154ef6bab93df337e11eab",
        "y": "IPY_MODEL_534151513cee4a40acacb7b412d78e98"
       },
       "selected": [],
       "x": {
        "type": "float",
        "values": [
         0,
         1,
         2,
         3,
         4,
         5,
         6,
         7,
         8,
         9,
         10,
         11,
         12,
         13,
         14,
         15,
         16,
         17,
         18,
         19
        ]
       },
       "y": {
        "type": "float",
        "values": [
         176.4052345967664,
         216.42095543348873,
         314.29475384406265,
         538.3840737642084,
         725.1398727792052,
         627.4120847915641,
         722.4209265441231,
         707.2852057143533,
         696.9633205349975,
         738.0231707288347,
         752.4275278449225,
         897.8548785412199,
         973.9586510559193,
         986.1261527052021,
         1030.5124759797447,
         1063.8799087171715,
         1213.2878160329321,
         1192.7719896563522,
         1224.0787598214422,
         1138.6691858912698
        ]
       }
      }
     },
     "ada3f8165bd048c3bee8a5569d3dab37": {
      "model_module": "bqplot",
      "model_module_version": "^0.2.3",
      "model_name": "LinesModel",
      "state": {
       "color": {
        "type": null,
        "values": null
       },
       "colors": [
        "hotpink",
        "orange"
       ],
       "display_legend": false,
       "fill_colors": [],
       "labels": [
        "C1"
       ],
       "scales": {
        "x": "IPY_MODEL_47f68bed429649daaf06df523b92675e",
        "y": "IPY_MODEL_032d356060c2446a820bea0cff2ffe6e"
       },
       "selected": [],
       "x": {
        "type": "float",
        "values": [
         0,
         1,
         2,
         3,
         4,
         5,
         6,
         7,
         8,
         9,
         10,
         11,
         12,
         13,
         14,
         15,
         16,
         17,
         18,
         19,
         20,
         21,
         22,
         23,
         24,
         25,
         26,
         27,
         28,
         29,
         30,
         31,
         32,
         33,
         34,
         35,
         36,
         37,
         38,
         39,
         40,
         41,
         42,
         43,
         44,
         45,
         46,
         47,
         48,
         49,
         50,
         51,
         52,
         53,
         54,
         55,
         56,
         57,
         58,
         59,
         60,
         61,
         62,
         63,
         64,
         65,
         66,
         67,
         68,
         69,
         70,
         71,
         72,
         73,
         74,
         75,
         76,
         77,
         78,
         79,
         80,
         81,
         82,
         83,
         84,
         85,
         86,
         87,
         88,
         89,
         90,
         91,
         92,
         93,
         94,
         95,
         96,
         97,
         98,
         99
        ]
       },
       "y": {
        "type": "float",
        "values": [
         1.8831506970562544,
         0.535391635913808,
         -0.7350933625719256,
         0.23430334558608557,
         -0.9388200595280743,
         1.0048011261212184,
         0.5911821453614711,
         -0.1562726660792867,
         1.7666693604010981,
         3.2471841518355227,
         5.114743112262093,
         6.020787770537478,
         5.159562085482775,
         7.0696270385818085,
         6.8016236676304285,
         7.6040800634268235,
         8.551332031200571,
         8.396321938109738,
         9.010401308455819,
         9.932607980022345,
         10.309033511177974,
         9.20963272059378,
         9.507870894799835,
         10.834256791486865,
         10.139688931755499,
         9.990054391427828,
         9.55490083970619,
         11.404164568185532,
         12.076459325197968,
         12.483921161439078,
         11.714005086993762,
         12.25325427828558,
         11.578921617628204,
         11.610752175902554,
         10.974906097523673,
         11.651339392470174,
         12.227930209085114,
         12.01963145350712,
         12.415638166168765,
         11.32257665743826,
         9.831319064732654,
         10.27071076599719,
         10.437384261369719,
         11.072415698261825,
         13.455560473125766,
         14.40003996011618,
         13.487217734672022,
         14.604234022767875,
         13.288326612256354,
         12.826742007441645,
         12.758500402117013,
         14.47184312376638,
         13.72708830171794,
         12.900649763058926,
         12.802197238633493,
         12.138718952271386,
         13.265354874377893,
         12.18542336601447,
         11.037954713603368,
         10.600134668858933,
         10.102102218166628,
         12.031634271983615,
         12.981055078909375,
         13.068606320294565,
         11.843170801464398,
         12.687533777865944,
         11.68731843047638,
         10.142547333698769,
         11.33057712605107,
         11.64751973797592,
         12.568378561756738,
         12.88710621469976,
         13.74393682660245,
         13.092911233302303,
         12.058668391517838,
         12.740262909799466,
         11.936853245625624,
         11.247303467875424,
         10.791770964358081,
         10.809250123383137,
         10.455256212129653,
         9.080304918711635,
         8.436686515878744,
         6.213283363654318,
         6.838514814681505,
         5.2364571590747575,
         4.1320738196463065,
         4.184238898907281,
         3.4446759025159674,
         4.987690497922703,
         3.6948335881992542,
         3.9618844575484373,
         3.9226016393209417,
         2.7545081415797443,
         3.277784802111498,
         3.10623847088925,
         3.8780290221029174,
         4.701533176066649,
         6.864769125347339,
         8.201297074783731
        ]
       }
      }
     },
     "ae26931a719e4cd1b4d1d5316d68ac74": {
      "model_module": "bqplot",
      "model_module_version": "^0.2.3",
      "model_name": "FigureModel",
      "state": {
       "_dom_classes": [],
       "axes": [
        "IPY_MODEL_51972caeeacf480192790940ae10ecd4",
        "IPY_MODEL_e9b5032643134e22a4fba239c59ef0be"
       ],
       "fig_margin": {
        "bottom": 50,
        "left": 50,
        "right": 50,
        "top": 50
       },
       "layout": "IPY_MODEL_f25e6c12e4474bae8862f37d1204557c",
       "marks": [
        "IPY_MODEL_abae8a8590f24e19843275c8487a9351"
       ],
       "max_aspect_ratio": 6,
       "scale_x": "IPY_MODEL_8d1b88c4c6d648d4a04ec8bbf9d2d2ff",
       "scale_y": "IPY_MODEL_8da3ff4c54cc407088bc7b9567164c09"
      }
     },
     "b22c903f3d044287b91a450b7e3fcfd6": {
      "model_module": "bqplot",
      "model_module_version": "^0.2.3",
      "model_name": "LinearScaleModel",
      "state": {
       "allow_padding": false,
       "max": 1,
       "min": 0,
       "stabilized": false
      }
     },
     "b985e30f5401417b9dd9a82d1b376c48": {
      "model_module": "bqplot",
      "model_module_version": "^0.2.3",
      "model_name": "ColorScaleModel",
      "state": {
       "_model_name": "ColorScaleModel",
       "_view_name": "ColorScale",
       "colors": [],
       "mid": null,
       "scale_type": "linear",
       "scheme": "RdYlGn"
      }
     },
     "c072b882770f490697f76a7e603b4abb": {
      "model_module": "bqplot",
      "model_module_version": "^0.2.3",
      "model_name": "AxisModel",
      "state": {
       "color": "orangered",
       "grid_color": "red",
       "label": "Test X",
       "label_color": "orangered",
       "orientation": "vertical",
       "scale": "IPY_MODEL_a7bbbdb0d4644644a3c40cea48d033ab",
       "side": "left",
       "tick_format": "0.2f",
       "tick_values": {
        "type": null,
        "values": null
       }
      }
     },
     "cc025230b1f94271b968a37143610952": {
      "model_module": "bqplot",
      "model_module_version": "^0.2.3",
      "model_name": "LinearScaleModel",
      "state": {
       "stabilized": false
      }
     },
     "cf71333852a2440a9b5f56ccffa3a86b": {
      "model_module": "bqplot",
      "model_module_version": "^0.2.3",
      "model_name": "LinearScaleModel",
      "state": {
       "stabilized": false
      }
     },
     "d3e1719a16eb44429bfa0bcd4c1f9883": {
      "model_module": "bqplot",
      "model_module_version": "^0.2.3",
      "model_name": "LinearScaleModel",
      "state": {
       "reverse": true,
       "stabilized": false
      }
     },
     "df32510df0d0442b8c1ca3cd38f125d7": {
      "model_module": "bqplot",
      "model_module_version": "^0.2.3",
      "model_name": "ScatterModel",
      "state": {
       "_model_module": "bqplot",
       "_model_module_version": "^0.2.3",
       "_view_module": "bqplot",
       "_view_module_version": "^0.2.3",
       "apply_clip": true,
       "color": {
        "type": "float",
        "values": [
         1.8831506970562544,
         0.535391635913808,
         -0.7350933625719256,
         0.23430334558608557,
         -0.9388200595280743,
         1.0048011261212184,
         0.5911821453614711,
         -0.1562726660792867,
         1.7666693604010981,
         3.2471841518355227,
         5.114743112262093,
         6.020787770537478,
         5.159562085482775,
         7.0696270385818085,
         6.8016236676304285,
         7.6040800634268235,
         8.551332031200571,
         8.396321938109738,
         9.010401308455819,
         9.932607980022345,
         10.309033511177974,
         9.20963272059378,
         9.507870894799835,
         10.834256791486865,
         10.139688931755499,
         9.990054391427828,
         9.55490083970619,
         11.404164568185532,
         12.076459325197968,
         12.483921161439078,
         11.714005086993762,
         12.25325427828558,
         11.578921617628204,
         11.610752175902554,
         10.974906097523673,
         11.651339392470174,
         12.227930209085114,
         12.01963145350712,
         12.415638166168765,
         11.32257665743826,
         9.831319064732654,
         10.27071076599719,
         10.437384261369719,
         11.072415698261825,
         13.455560473125766,
         14.40003996011618,
         13.487217734672022,
         14.604234022767875,
         13.288326612256354,
         12.826742007441645,
         12.758500402117013,
         14.47184312376638,
         13.72708830171794,
         12.900649763058926,
         12.802197238633493,
         12.138718952271386,
         13.265354874377893,
         12.18542336601447,
         11.037954713603368,
         10.600134668858933,
         10.102102218166628,
         12.031634271983615,
         12.981055078909375,
         13.068606320294565,
         11.843170801464398,
         12.687533777865944,
         11.68731843047638,
         10.142547333698769,
         11.33057712605107,
         11.64751973797592,
         12.568378561756738,
         12.88710621469976,
         13.74393682660245,
         13.092911233302303,
         12.058668391517838,
         12.740262909799466,
         11.936853245625624,
         11.247303467875424,
         10.791770964358081,
         10.809250123383137,
         10.455256212129653,
         9.080304918711635,
         8.436686515878744,
         6.213283363654318,
         6.838514814681505,
         5.2364571590747575,
         4.1320738196463065,
         4.184238898907281,
         3.4446759025159674,
         4.987690497922703,
         3.6948335881992542,
         3.9618844575484373,
         3.9226016393209417,
         2.7545081415797443,
         3.277784802111498,
         3.10623847088925,
         3.8780290221029174,
         4.701533176066649,
         6.864769125347339,
         8.201297074783731
        ]
       },
       "colors": [
        "DeepSkyBlue"
       ],
       "display_legend": false,
       "enable_hover": true,
       "hovered_style": {},
       "interactions": {
        "hover": "tooltip"
       },
       "labels": [],
       "msg_throttle": 1,
       "names": {
        "type": null,
        "values": null
       },
       "opacity": {
        "type": null,
        "values": null
       },
       "preserve_domain": {},
       "rotation": {
        "type": null,
        "values": null
       },
       "scales": {
        "color": "IPY_MODEL_b985e30f5401417b9dd9a82d1b376c48",
        "x": "IPY_MODEL_cf71333852a2440a9b5f56ccffa3a86b",
        "y": "IPY_MODEL_cc025230b1f94271b968a37143610952"
       },
       "scales_metadata": {
        "color": {
         "dimension": "color"
        },
        "opacity": {
         "dimension": "opacity"
        },
        "size": {
         "dimension": "size"
        },
        "x": {
         "dimension": "x",
         "orientation": "horizontal"
        },
        "y": {
         "dimension": "y",
         "orientation": "vertical"
        }
       },
       "selected": [],
       "selected_style": {},
       "size": {
        "type": null,
        "values": null
       },
       "skew": {
        "type": null,
        "values": null
       },
       "tooltip": null,
       "tooltip_location": "mouse",
       "tooltip_style": {
        "opacity": 0.9
       },
       "unhovered_style": {},
       "unselected_style": {},
       "visible": true,
       "x": {
        "type": "float",
        "values": [
         0,
         1,
         2,
         3,
         4,
         5,
         6,
         7,
         8,
         9,
         10,
         11,
         12,
         13,
         14,
         15,
         16,
         17,
         18,
         19,
         20,
         21,
         22,
         23,
         24,
         25,
         26,
         27,
         28,
         29,
         30,
         31,
         32,
         33,
         34,
         35,
         36,
         37,
         38,
         39,
         40,
         41,
         42,
         43,
         44,
         45,
         46,
         47,
         48,
         49,
         50,
         51,
         52,
         53,
         54,
         55,
         56,
         57,
         58,
         59,
         60,
         61,
         62,
         63,
         64,
         65,
         66,
         67,
         68,
         69,
         70,
         71,
         72,
         73,
         74,
         75,
         76,
         77,
         78,
         79,
         80,
         81,
         82,
         83,
         84,
         85,
         86,
         87,
         88,
         89,
         90,
         91,
         92,
         93,
         94,
         95,
         96,
         97,
         98,
         99
        ]
       },
       "y": {
        "type": "float",
        "values": [
         176.4052345967664,
         216.42095543348873,
         314.29475384406265,
         538.3840737642084,
         725.1398727792052,
         627.4120847915641,
         722.4209265441231,
         707.2852057143533,
         696.9633205349975,
         738.0231707288347,
         752.4275278449225,
         897.8548785412199,
         973.9586510559193,
         986.1261527052021,
         1030.5124759797447,
         1063.8799087171715,
         1213.2878160329321,
         1192.7719896563522,
         1224.0787598214422,
         1138.6691858912698,
         883.3702043078619,
         948.7320638518979,
         1035.1756837378484,
         960.9591816972043,
         1187.934644095965,
         1042.4980766360886,
         1047.0739283662333,
         1028.35554336365,
         1181.6334647994956,
         1328.569341789524,
         1344.0640843592157,
         1381.8803363194331,
         1293.101761556422,
         1095.0221147340292,
         1060.230899801414,
         1075.865796711812,
         1198.8948647845841,
         1319.1328496630254,
         1280.4001679222301,
         1250.1698928646965,
         1145.3145963579873,
         1003.3128026400898,
         832.6857835775885,
         1027.7633231007674,
         976.798104925602,
         932.9906747644834,
         807.7111387594907,
         885.4601743426817,
         724.0703895868866,
         702.7963615654897,
         613.2497054461222,
         651.9399552320484,
         600.8594414751611,
         482.7962230629199,
         479.97800022905443,
         522.8111872820962,
         529.462909520413,
         559.7100992943911,
         496.2778899262947,
         460.00377332758086,
         392.75772854998576,
         356.80241239593164,
         275.48778419148624,
         102.85952395831856,
         120.60213818369385,
         80.42404456286766,
         -82.59579013373678,
         -36.31756458115937,
         -127.04740101948357,
         -121.85286143986968,
         -48.943805222116,
         -36.04551414637493,
         77.89455430795515,
         -45.58802772741012,
         -5.353863609655221,
         -73.83487270368654,
         -160.91458762187472,
         -218.79955409831626,
         -249.95480731105351,
         -244.33827308807898,
         -360.8532571664146,
         -270.7706084709959,
         -224.20436449794994,
         -377.82873312567233,
         -229.00351374611236,
         -39.41459614305404,
         78.46336097291103,
         60.47087739167594,
         -46.604384759378306,
         58.840787933735356,
         18.523093236417395,
         140.76760027466014,
         161.59509808234617,
         259.25900173071744,
         294.8956414481576,
         365.55295826735244,
         366.6029603394345,
         545.190009730018,
         557.88121900038,
         598.0801553448503
        ]
       }
      }
     },
     "e3a99da9ca0b4a03bfe539f3564ad752": {
      "model_module": "bqplot",
      "model_module_version": "^0.2.3",
      "model_name": "AxisModel",
      "state": {
       "label": "Test Y",
       "label_location": "end",
       "offset": {
        "scale": "IPY_MODEL_fdf3ddae0c754de6ae1bb00586bd27ff",
        "value": 3
       },
       "orientation": "vertical",
       "scale": "IPY_MODEL_d3e1719a16eb44429bfa0bcd4c1f9883",
       "side": "left",
       "tick_format": "0.2f",
       "tick_values": {
        "type": null,
        "values": null
       }
      }
     },
     "e8df71371d154ef6bab93df337e11eab": {
      "model_module": "bqplot",
      "model_module_version": "^0.2.3",
      "model_name": "LinearScaleModel",
      "state": {
       "stabilized": false
      }
     },
     "e9b5032643134e22a4fba239c59ef0be": {
      "model_module": "bqplot",
      "model_module_version": "^0.2.3",
      "model_name": "AxisModel",
      "state": {
       "label": "Brownian",
       "orientation": "vertical",
       "scale": "IPY_MODEL_534151513cee4a40acacb7b412d78e98",
       "side": "left",
       "tick_format": "0.2f",
       "tick_values": {
        "type": null,
        "values": null
       }
      }
     },
     "eb96a3ea5c324d268ffc5effa7ad8e26": {
      "model_module": "jupyter-js-widgets",
      "model_module_version": "~2.1.4",
      "model_name": "LayoutModel",
      "state": {
       "_model_module_version": "~2.1.4",
       "_view_module_version": "~2.1.4",
       "min_width": "125px"
      }
     },
     "ebf6c7171008494e94e6002148492b18": {
      "model_module": "bqplot",
      "model_module_version": "^0.2.3",
      "model_name": "LinearScaleModel",
      "state": {
       "allow_padding": false,
       "max": 1,
       "min": 0,
       "stabilized": false
      }
     },
     "ec55f68541ec453785b2699f7cc6d958": {
      "model_module": "bqplot",
      "model_module_version": "^0.2.3",
      "model_name": "LinearScaleModel",
      "state": {
       "allow_padding": false,
       "max": 1,
       "min": 0,
       "stabilized": false
      }
     },
     "edd1db9cf3c24e0690db7b0bd7db6366": {
      "model_module": "bqplot",
      "model_module_version": "^0.2.3",
      "model_name": "LinearScaleModel",
      "state": {
       "allow_padding": false,
       "max": 1,
       "min": 0,
       "stabilized": false
      }
     },
     "f25e6c12e4474bae8862f37d1204557c": {
      "model_module": "jupyter-js-widgets",
      "model_module_version": "~2.1.4",
      "model_name": "LayoutModel",
      "state": {
       "_model_module_version": "~2.1.4",
       "_view_module_version": "~2.1.4",
       "min_width": "125px"
      }
     },
     "f9fd8646ad2b4d3186a7e910f958bb77": {
      "model_module": "bqplot",
      "model_module_version": "^0.2.3",
      "model_name": "FigureModel",
      "state": {
       "_dom_classes": [],
       "axes": [
        "IPY_MODEL_362507906d454078ad03281721e59fd0",
        "IPY_MODEL_3473c0e41af4438fa1573feeb3ead70c"
       ],
       "fig_margin": {
        "bottom": 50,
        "left": 100,
        "right": 100,
        "top": 50
       },
       "layout": "IPY_MODEL_6a84ba1b3f5c4c9fa9544c6e5bf74928",
       "marks": [
        "IPY_MODEL_ada3f8165bd048c3bee8a5569d3dab37"
       ],
       "max_aspect_ratio": 6,
       "scale_x": "IPY_MODEL_6fb1263992d34a2dad35e20fc95f7240",
       "scale_y": "IPY_MODEL_ec55f68541ec453785b2699f7cc6d958"
      }
     },
     "fdf3ddae0c754de6ae1bb00586bd27ff": {
      "model_module": "bqplot",
      "model_module_version": "^0.2.3",
      "model_name": "LinearScaleModel",
      "state": {
       "stabilized": false
      }
     }
    },
    "version_major": 1,
    "version_minor": 0
   }
  }
 },
 "nbformat": 4,
 "nbformat_minor": 1
}
