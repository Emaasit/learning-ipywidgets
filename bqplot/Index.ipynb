{
 "cells": [
  {
   "cell_type": "markdown",
   "metadata": {},
   "source": [
    "# bqplot"
   ]
  },
  {
   "cell_type": "markdown",
   "metadata": {},
   "source": [
    "`bqplot` is a [Grammar of Graphics](https://www.cs.uic.edu/~wilkinson/TheGrammarOfGraphics/GOG.html) based interactive plotting framework for the Jupyter notebook. The library offers a simple bridge between `Python` and `d3.js` allowing users to quickly and easily build complex GUI's with layered interactions."
   ]
  },
  {
   "cell_type": "markdown",
   "metadata": {},
   "source": [
    "## Basic Plotting"
   ]
  },
  {
   "cell_type": "markdown",
   "metadata": {},
   "source": [
    "To begin start by investigating the introductory notebooks:"
   ]
  },
  {
   "cell_type": "markdown",
   "metadata": {},
   "source": [
    "1. [Introduction](Introduction.ipynb) - If you're new to `bqplot`, get started with our Introduction notebook\n",
    "2. [Basic Plotting](Basic Plotting/Basic Plotting.ipynb) - which demonstrates some basic `bqplot` plotting commands and how to use them\n",
    "3. [Pyplot](Basic Plotting/Pyplot.ipynb) - which introduces the simpler `pyplot` API"
   ]
  },
  {
   "cell_type": "markdown",
   "metadata": {},
   "source": [
    "## Marks"
   ]
  },
  {
   "cell_type": "markdown",
   "metadata": {},
   "source": [
    "Move to exploring the different `Marks` that you can use to represent your data:\n",
    "\n",
    "3. [Lines](Marks/Lines.ipynb)\n",
    "4. [Scatter](Marks/Scatter.ipynb)\n",
    "5. [Bars](Marks/Bars.ipynb)\n",
    "6. [Hist](Marks/Hist.ipynb)\n",
    "7. [GridHeatMap](Marks/GridHeatMap.ipynb)\n",
    "8. [Pie](Marks/Pie.ipynb)\n",
    "9. [Map](Marks/Map.ipynb)\n",
    "10. [Label](Marks/Label.ipynb)\n",
    "11. [Boxplot](Marks/Boxplot.ipynb)\n",
    "12. [Candles](Marks/Candles.ipynb)\n",
    "13. [Market Map](Marks/Market Map.ipynb)\n",
    "14. [FlexLine](Marks/FlexLine.ipynb)"
   ]
  },
  {
   "cell_type": "markdown",
   "metadata": {},
   "source": [
    "## Interactions"
   ]
  },
  {
   "cell_type": "markdown",
   "metadata": {},
   "source": [
    "Learn how to use `bqplot` interactions to convert your plots into interactive applications:"
   ]
  },
  {
   "cell_type": "markdown",
   "metadata": {},
   "source": [
    "13. [Mark Interactions](Interactions/Mark Interactions.ipynb) - which describes the mark specific interactions and how to use them\n",
    "14. [Interaction Layer](Interactions/Interaction Layer.ipynb) - which describes the use of the interaction layers, including selectors and how they can be used for facilitating better interaction"
   ]
  },
  {
   "cell_type": "markdown",
   "metadata": {},
   "source": [
    "## Advanced Plotting"
   ]
  },
  {
   "cell_type": "markdown",
   "metadata": {},
   "source": [
    "Once you've mastered the basics of `bqplot`, you can use these notebooks to learn about some of it's more advanced features."
   ]
  },
  {
   "cell_type": "markdown",
   "metadata": {},
   "source": [
    "15. [Plotting Dates](Advanced Plotting/Plotting Dates.ipynb)\n",
    "16. [Advanced Plotting](Advanced Plotting/Advanced Plotting.ipynb)\n",
    "17. [Animations](Advanced Plotting/Animations.ipynb)\n",
    "18. [Axis Properties](Advanced Plotting/Axis Properties.ipynb)"
   ]
  },
  {
   "cell_type": "markdown",
   "metadata": {},
   "source": [
    "## Applications"
   ]
  },
  {
   "cell_type": "markdown",
   "metadata": {},
   "source": [
    "Finally, we have a collection of notebooks that demonstrate how to use `bqplot` and `ipywidgets` to create advanced interactive applications."
   ]
  },
  {
   "cell_type": "markdown",
   "metadata": {},
   "source": [
    "19. [Wealth of Nations](Applications/Wealth of Nations.ipynb) - a recreation of [Hans Rosling's famous TED Talk](http://www.ted.com/talks/hans_rosling_shows_the_best_stats_you_ve_ever_seen)"
   ]
  },
  {
   "cell_type": "markdown",
   "metadata": {},
   "source": [
    "## Help"
   ]
  },
  {
   "cell_type": "markdown",
   "metadata": {},
   "source": [
    "For more help,  \n",
    "- Reach out to us via the `ipywidgets` gitter chat \n",
    "[![https://gitter.im/ipython/ipywidgets](https://badges.gitter.im/Join%20Chat.svg)](https://gitter.im/ipython/ipywidgets?utm_source=badge&utm_medium=badge&utm_campaign=pr-badge&utm_content=badge)\n",
    "\n",
    "\n",
    "\n",
    "- Or take a look at a talk given on Interactive visualizations in Jupyter at PyData"
   ]
  },
  {
   "cell_type": "code",
   "execution_count": 1,
   "metadata": {},
   "outputs": [
    {
     "data": {
      "image/jpeg": "[encoded data removed]",
      "text/html": [
       "\n",
       "        <iframe\n",
       "            width=\"400\"\n",
       "            height=\"300\"\n",
       "            src=\"https://www.youtube.com/embed/eVET9IYgbao\"\n",
       "            frameborder=\"0\"\n",
       "            allowfullscreen\n",
       "        ></iframe>\n",
       "        "
      ],
      "text/plain": [
       "<IPython.lib.display.YouTubeVideo at 0x108a3efd0>"
      ]
     },
     "execution_count": 1,
     "metadata": {},
     "output_type": "execute_result"
    }
   ],
   "source": [
    "from IPython.display import YouTubeVideo\n",
    "YouTubeVideo('eVET9IYgbao')"
   ]
  },
  {
   "cell_type": "code",
   "execution_count": null,
   "metadata": {
    "collapsed": true
   },
   "outputs": [],
   "source": []
  }
 ],
 "metadata": {
  "kernelspec": {
   "display_name": "Python 3",
   "language": "python",
   "name": "python3"
  },
  "language_info": {
   "codemirror_mode": {
    "name": "ipython",
    "version": 3
   },
   "file_extension": ".py",
   "mimetype": "text/x-python",
   "name": "python",
   "nbconvert_exporter": "python",
   "pygments_lexer": "ipython3",
   "version": "3.6.3"
  }
 },
 "nbformat": 4,
 "nbformat_minor": 2
}
